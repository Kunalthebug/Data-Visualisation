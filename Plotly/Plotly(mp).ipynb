{
 "cells": [
  {
   "cell_type": "code",
   "execution_count": 45,
   "metadata": {},
   "outputs": [],
   "source": [
    "from jupyterthemes import jtplot\n",
    "jtplot.style(theme='onedork')\n",
    "import plotly as py\n",
    "import cufflinks as cf\n",
    "import pandas as pd\n",
    "import numpy as np \n",
    "import seaborn as sns\n",
    "import matplotlib.pyplot as plt\n",
    "%matplotlib inline\n",
    "import plotly.express as px\n",
    "from plotly.offline import iplot\n",
    "import plotly.tools as tls"
   ]
  },
  {
   "cell_type": "code",
   "execution_count": 46,
   "metadata": {},
   "outputs": [
    {
     "name": "stdout",
     "output_type": "stream",
     "text": [
      "4.6.0\n"
     ]
    }
   ],
   "source": [
    "print(py.__version__)"
   ]
  },
  {
   "cell_type": "code",
   "execution_count": 47,
   "metadata": {},
   "outputs": [
    {
     "name": "stdout",
     "output_type": "stream",
     "text": [
      "Help on method _iplot in module cufflinks.plotlytools:\n",
      "\n",
      "_iplot(kind='scatter', data=None, layout=None, filename='', sharing=None, title='', xTitle='', yTitle='', zTitle='', theme=None, colors=None, colorscale=None, fill=False, width=None, dash='solid', mode='', interpolation='linear', symbol='circle', size=12, barmode='', sortbars=False, bargap=None, bargroupgap=None, bins=None, histnorm='', histfunc='count', orientation='v', boxpoints=False, annotations=None, keys=False, bestfit=False, bestfit_colors=None, mean=False, mean_colors=None, categories='', x='', y='', z='', text='', gridcolor=None, zerolinecolor=None, margin=None, labels=None, values=None, secondary_y='', secondary_y_title='', subplots=False, shape=None, error_x=None, error_y=None, error_type='data', locations=None, lon=None, lat=None, asFrame=False, asDates=False, asFigure=False, asImage=False, dimensions=None, asPlot=False, asUrl=False, online=None, **kwargs) method of pandas.core.frame.DataFrame instance\n",
      "           Returns a plotly chart either as inline chart, image of Figure object\n",
      "    \n",
      "           Parameters:\n",
      "           -----------\n",
      "                   kind : string\n",
      "                           Kind of chart\n",
      "                                   scatter\n",
      "                                   bar\n",
      "                                   box\n",
      "                                   spread\n",
      "                                   ratio\n",
      "                                   heatmap\n",
      "                                   surface\n",
      "                                   histogram\n",
      "                                   bubble\n",
      "                                   bubble3d\n",
      "                                   scatter3d       \n",
      "                                   scattergeo\n",
      "                                   ohlc\n",
      "                                   candle\n",
      "                                   pie\n",
      "                                   choroplet       \n",
      "                   data : Data\n",
      "                           Plotly Data Object.\n",
      "                           If not entered then the Data object will be automatically\n",
      "                           generated from the DataFrame.\n",
      "                   layout : Layout\n",
      "                           Plotly layout Object\n",
      "                           If not entered then the Layout objet will be automatically\n",
      "                           generated from the DataFrame.\n",
      "                   filename : string\n",
      "                           Filename to be saved as in plotly account\n",
      "                   sharing : string\n",
      "                           Sets the sharing level permission\n",
      "                                   public - anyone can see this chart\n",
      "                                   private - only you can see this chart\n",
      "                                   secret - only people with the link can see the chart\n",
      "                   title : string\n",
      "                           Chart Title                             \n",
      "                   xTitle : string\n",
      "                           X Axis Title\n",
      "                   yTitle : string\n",
      "                           Y Axis Title\n",
      "                                   zTitle : string\n",
      "                   zTitle : string\n",
      "                           Z Axis Title\n",
      "                           Applicable only for 3d charts\n",
      "                   theme : string\n",
      "                           Layout Theme\n",
      "                                   solar\n",
      "                                   pearl\n",
      "                                   white           \n",
      "                           see cufflinks.getThemes() for all \n",
      "                           available themes\n",
      "                   colors : dict, list or string\n",
      "                           {key:color} to specify the color for each column\n",
      "                           [colors] to use the colors in the defined order\n",
      "                   colorscale : string\n",
      "                           Color scale name\n",
      "                           If the color name is preceded by a minus (-) \n",
      "                           then the scale is inversed\n",
      "                           Only valid if 'colors' is null\n",
      "                           See cufflinks.colors.scales() for available scales\n",
      "                   fill : bool\n",
      "                           Filled Traces           \n",
      "                   width : dict, list or int\n",
      "                                   int : applies to all traces\n",
      "                                   list : applies to each trace in the order \n",
      "                                                   specified\n",
      "                                   dict: {column:value} for each column in \n",
      "                                                   the dataframe\n",
      "                           Line width      \n",
      "                   dash : dict, list or string\n",
      "                                   string : applies to all traces\n",
      "                                   list : applies to each trace in the order \n",
      "                                                   specified\n",
      "                                   dict: {column:value} for each column in \n",
      "                                                   the dataframe\n",
      "                           Drawing style of lines\n",
      "                                   solid\n",
      "                                   dash\n",
      "                                   dashdot\n",
      "                                   dot\n",
      "                   mode : dict, list or string\n",
      "                                   string : applies to all traces\n",
      "                                   list : applies to each trace in the order \n",
      "                                                   specified\n",
      "                                   dict: {column:value} for each column in \n",
      "                                                   the dataframe\n",
      "                           Plotting mode for scatter trace\n",
      "                                   lines\n",
      "                                   markers\n",
      "                                   lines+markers\n",
      "                                   lines+text\n",
      "                                   markers+text\n",
      "                                   lines+markers+text\n",
      "                   interpolation : dict, list, or string\n",
      "                                   string : applies to all traces\n",
      "                                   list : applies to each trace in the order \n",
      "                                                   specified\n",
      "                                   dict: {column:value} for each column in \n",
      "                                                   the dataframe\n",
      "                           Positioning of the connecting lines\n",
      "                                   linear\n",
      "                                   spline\n",
      "                                   vhv\n",
      "                                   hvh\n",
      "                                   vh\n",
      "                                   hv              \n",
      "                   symbol : dict, list or string\n",
      "                                   string : applies to all traces\n",
      "                                   list : applies to each trace in the order \n",
      "                                                   specified\n",
      "                                   dict: {column:value} for each column in \n",
      "                                                   the dataframe\n",
      "                           The symbol that is drawn on the plot for each marker\n",
      "                           Valid only when mode includes markers\n",
      "                                   circle\n",
      "                                   circle-dot\n",
      "                                   diamond\n",
      "                                   square\n",
      "                                   and many more...(see plotly.validators.scatter.marker.SymbolValidator.values)\n",
      "                   size : string or int \n",
      "                           Size of marker \n",
      "                           Valid only if marker in mode\n",
      "                   barmode : string\n",
      "                           Mode when displaying bars\n",
      "                                   group\n",
      "                                   stack\n",
      "                                   overlay\n",
      "                           * Only valid when kind='bar'\n",
      "                   sortbars : bool\n",
      "                           Sort bars in descending order\n",
      "                           * Only valid when kind='bar'\n",
      "                   bargap : float\n",
      "                           Sets the gap between bars\n",
      "                                   [0,1)\n",
      "                           * Only valid when kind is 'histogram' or 'bar'\n",
      "                   bargroupgap : float\n",
      "                           Set the gap between groups\n",
      "                                   [0,1)\n",
      "                           * Only valid when kind is 'histogram' or 'bar'          \n",
      "                   bins : int or tuple \n",
      "                           if int:\n",
      "                                   Specifies the number of bins \n",
      "                           if tuple:\n",
      "                                   (start, end, size)\n",
      "                                   start : starting value\n",
      "                                   end: end value\n",
      "                                   size: bin size\n",
      "                           * Only valid when kind='histogram'\n",
      "    \n",
      "                   histnorm : string\n",
      "                                   '' (frequency)\n",
      "                                   percent\n",
      "                                   probability\n",
      "                                   density\n",
      "                                   probability density\n",
      "                           Sets the type of normalization for an histogram trace. By default\n",
      "                           the height of each bar displays the frequency of occurrence, i.e., \n",
      "                           the number of times this value was found in the\n",
      "                           corresponding bin. If set to 'percent', the height of each bar\n",
      "                           displays the percentage of total occurrences found within the\n",
      "                           corresponding bin. If set to 'probability', the height of each bar\n",
      "                           displays the probability that an event will fall into the\n",
      "                           corresponding bin. If set to 'density', the height of each bar is\n",
      "                           equal to the number of occurrences in a bin divided by the size of\n",
      "                           the bin interval such that summing the area of all bins will yield\n",
      "                           the total number of occurrences. If set to 'probability density',\n",
      "                           the height of each bar is equal to the number of probability that an\n",
      "                           event will fall into the corresponding bin divided by the size of\n",
      "                           the bin interval such that summing the area of all bins will yield\n",
      "                           1.\n",
      "                           * Only valid when kind='histogram'\n",
      "                   histfunc : string\n",
      "                                   count\n",
      "                                   sum\n",
      "                                   avg\n",
      "                                   min\n",
      "                                   max\n",
      "                      Sets the binning function used for an histogram trace. \n",
      "                           * Only valid when kind='histogram'           \n",
      "                   orientation : string\n",
      "                                   h \n",
      "                                   v\n",
      "                           Sets the orientation of the bars. If set to 'v', the length of each\n",
      "    |          bar will run vertically. If set to 'h', the length of each bar will\n",
      "    |          run horizontally\n",
      "                           * Only valid when kind is 'histogram','bar' or 'box'\n",
      "                   boxpoints : string\n",
      "                           Displays data points in a box plot\n",
      "                                   outliers\n",
      "                                   all\n",
      "                                   suspectedoutliers\n",
      "                                   False\n",
      "                   annotations : dictionary\n",
      "                           Dictionary of annotations\n",
      "                           {x_point : text}\n",
      "                   keys : list of columns\n",
      "                           List of columns to chart.\n",
      "                           Also can be used for custom sorting.\n",
      "                   bestfit : boolean or list\n",
      "                           If True then a best fit line will be generated for\n",
      "                           all columns.\n",
      "                           If list then a best fit line will be generated for\n",
      "                           each key on the list.\n",
      "                   bestfit_colors : list or dict\n",
      "                           {key:color} to specify the color for each column\n",
      "                           [colors] to use the colors in the defined order \n",
      "                   categories : string\n",
      "                           Name of the column that contains the categories\n",
      "                   x : string\n",
      "                           Name of the column that contains the x axis values              \n",
      "                   y : string\n",
      "                           Name of the column that contains the y axis values\n",
      "                   z : string\n",
      "                           Name of the column that contains the z axis values                                      \n",
      "                   text : string\n",
      "                           Name of the column that contains the text values        \n",
      "                   gridcolor : string\n",
      "                           Grid color      \n",
      "                   zerolinecolor : string\n",
      "                           Zero line color\n",
      "                   margin : dict or tuple\n",
      "                           Dictionary (l,r,b,t) or\n",
      "                           Tuple containing the left,\n",
      "                           right, bottom and top margins\n",
      "                   labels : string\n",
      "                           Name of the column that contains the labels.\n",
      "                           * Only valid when kind='pie' \n",
      "                   values : string\n",
      "                           Name of the column that contains the values.\n",
      "                           * Only valid when kind='pie'\n",
      "                   secondary_y : string or list(string)\n",
      "                           Name(s) of the column to be charted on the \n",
      "                           right hand side axis\n",
      "                   secondary_y_title : string\n",
      "                           Title of the secondary axis\n",
      "                   subplots : bool\n",
      "                           If true then each trace is placed in \n",
      "                           subplot layout\n",
      "                   shape : (rows,cols)\n",
      "                           Tuple indicating the size of rows and columns\n",
      "                           If omitted then the layout is automatically set\n",
      "                           * Only valid when subplots=True\n",
      "                   error_x : int or float or [int or float]\n",
      "                           error values for the x axis\n",
      "                   error_y : int or float or [int or float]\n",
      "                           error values for the y axis\n",
      "                   error_type : string\n",
      "                           type of error bars\n",
      "                                   'data' \n",
      "                                   'constant'\n",
      "                                   'percent'\n",
      "                                   'sqrt'\n",
      "                                   'continuous'\n",
      "                                   'continuous_percent'\n",
      "                   asFrame : bool\n",
      "                           If true then the data component of Figure will\n",
      "                           be of Pandas form (Series) otherwise they will \n",
      "                           be index values\n",
      "                   asDates : bool\n",
      "                           If true it truncates times from a DatetimeIndex\n",
      "                   asFigure : bool\n",
      "                           If True returns plotly Figure\n",
      "                   asImage : bool\n",
      "                           If True it returns an Image (png)\n",
      "                           In ONLINE mode:\n",
      "                                   Image file is saved in the working directory                            \n",
      "                                           Accepts:\n",
      "                                                   filename\n",
      "                                                   dimensions\n",
      "                                                   scale\n",
      "                                                   display_image\n",
      "                           In OFFLINE mode:\n",
      "                                   Image file is downloaded (downloads folder) and a \n",
      "                                   regular plotly chart is displayed in Jupyter\n",
      "                                           Accepts:\n",
      "                                                   filename\n",
      "                                                   dimensions\n",
      "                   dimensions : tuple(int,int)\n",
      "                           Dimensions for image / chart\n",
      "                                   (width,height)          \n",
      "                   asPlot : bool\n",
      "                           If True the chart opens in browser\n",
      "                   asUrl : bool\n",
      "                           If True the chart url/path is returned. No chart is displayed. \n",
      "                                   If Online : the URL is returned\n",
      "                                   If Offline : the local path is returned\n",
      "                   online : bool\n",
      "                           If True then the chart/image is rendered on the server \n",
      "                           even when running in offline mode. \n",
      "    \n",
      "                   Other Kwargs\n",
      "                   ============\n",
      "                   Line, Scatter\n",
      "                           connectgaps : bool\n",
      "                                   If True, empty values are connected \n",
      "                   Pie charts\n",
      "                           sort : bool\n",
      "                                   If True it sorts the labels by value\n",
      "                           pull : float [0-1]\n",
      "                                   Pulls the slices from the centre \n",
      "                           hole : float [0-1]\n",
      "                                   Sets the size of the inner hole\n",
      "                           linecolor : string\n",
      "                                   Sets the color for the contour line of the slices\n",
      "                           linewidth : string\n",
      "                                   Sets the width for the contour line of the slices       \n",
      "                           textcolor : string\n",
      "                                   Sets the color for the text in the slices\n",
      "                           textposition : string \n",
      "                                   Sets the position of the legends for each slice\n",
      "                                           outside\n",
      "                                           inner\n",
      "                           textinfo : string \n",
      "                                   Sets the information to be displayed on \n",
      "                                   the legends \n",
      "                                           label\n",
      "                                           percent\n",
      "                                           value\n",
      "                                           * or ony combination of the above using \n",
      "                                             '+' between each item\n",
      "                                             ie 'label+percent'\n",
      "    \n",
      "                   Histogram\n",
      "                           linecolor : string\n",
      "                                   specifies the line color of the histogram\n",
      "    \n",
      "                   Heatmap and Surface\n",
      "                           center_scale : float\n",
      "                                   Centers the colorscale at a specific value\n",
      "                                   Automatically sets the (zmin,zmax) values\n",
      "                           zmin : float\n",
      "                                   Defines the minimum range for the z values. \n",
      "                                   This affects the range for the colorscale\n",
      "                           zmax : float\n",
      "                                   Defines the maximum range for the z values. \n",
      "                                   This affects the range for the colorscale\n",
      "    \n",
      "                   Error Bars\n",
      "                           error_trace : string\n",
      "                                   Name of the column for which error should be \n",
      "                                   plotted. If omitted then errors apply to all \n",
      "                                   traces.\n",
      "                           error_values_minus : int or float or [int or float]\n",
      "                                   Values corresponding to the span of the error bars \n",
      "                                   below the trace coordinates\n",
      "                           error_color : string\n",
      "                                   Color for error bars\n",
      "                           error_thickness : float \n",
      "                                   Sets the line thickness of the error bars\n",
      "                           error_width :  float\n",
      "                                   Sets the width (in pixels) of the cross-bar at both \n",
      "                                   ends of the error bars\n",
      "                           error_opacity : float [0,1]\n",
      "                                   Opacity for the error bars\n",
      "    \n",
      "                   Subplots\n",
      "                           horizontal_spacing : float [0,1]\n",
      "                                   Space between subplot columns.\n",
      "                           vertical_spacing : float [0,1]\n",
      "                                   Space between subplot rows.\n",
      "                           subplot_titles : bool\n",
      "                                   If True, chart titles are plotted\n",
      "                                   at the top of each subplot\n",
      "                           shared_xaxes : bool\n",
      "                                   Assign shared x axes.\n",
      "                                   If True, subplots in the same grid column have one common\n",
      "                                   shared x-axis at the bottom of the grid.\n",
      "                           shared_yaxes : bool\n",
      "                                   Assign shared y axes.\n",
      "                                   If True, subplots in the same grid row have one common\n",
      "                                   shared y-axis on the left-hand side of the grid.\n",
      "    \n",
      "                   Shapes\n",
      "                           hline : float, list or dict\n",
      "                                   Draws a horizontal line at the \n",
      "                                   indicated y position(s)\n",
      "                                   Extra parameters can be passed in\n",
      "                                   the form of a dictionary (see shapes)\n",
      "                           vline : float, list or dict\n",
      "                                   Draws a vertical line at the \n",
      "                                   indicated x position(s)\n",
      "                                   Extra parameters can be passed in\n",
      "                                   the form of a dictionary (see shapes)\n",
      "                           hpsan : (y0,y1)\n",
      "                                   Draws a horizontal rectangle at the \n",
      "                                   indicated (y0,y1) positions.\n",
      "                                   Extra parameters can be passed in\n",
      "                                   the form of a dictionary (see shapes)\n",
      "                           vspan : (x0,x1)\n",
      "                                   Draws a vertical rectangle at the \n",
      "                                   indicated (x0,x1) positions.\n",
      "                                   Extra parameters can be passed in\n",
      "                                   the form of a dictionary (see shapes)\n",
      "                           shapes : dict or list(dict)\n",
      "                                   List of dictionaries with the \n",
      "                                   specifications of a given shape.\n",
      "                                   See help(cufflinks.tools.get_shape)\n",
      "                                   for more information\n",
      "                   \n",
      "                   Axis Ranges\n",
      "                           xrange : [lower_bound,upper_bound]\n",
      "                                   Sets the range for the x axis\n",
      "                           yrange : [lower_bound,upper_bound]\n",
      "                                   Sets the range for the y axis\n",
      "                           zrange : [lower_bound,upper_bound]\n",
      "                                   Sets the range for the z axis\n",
      "                                   \n",
      "                   Explicit Layout Updates\n",
      "                           layout_update : dict\n",
      "                                   The layout will be modified with all \n",
      "                                   the explicit values stated in the \n",
      "                                   dictionary. \n",
      "                                   It will not apply if layout is passed\n",
      "                                   as parameter.\n",
      "    \n",
      "    \n",
      "                   Range Selector\n",
      "                           rangeselector : dict\n",
      "                                   Defines a rangeselector object\n",
      "                                   see help(cf.tools.get_range_selector) for more information\n",
      "                                   Example:\n",
      "                                           {'steps':['1y','2 months','5 weeks','ytd','2mtd'],\n",
      "                                            'axis':'xaxis', 'bgcolor' : ('blue',.3),\n",
      "                                            'x': 0.2 , 'y' : 0.9}\n",
      "    \n",
      "                   Range Slider\n",
      "                           rangeslider : bool or dict\n",
      "                                   Defines if a rangeslider is displayed\n",
      "                                   If bool: \n",
      "                                           True : Makes it visible\n",
      "                                   if dict:\n",
      "                                           Rangeslider object\n",
      "                                   Example:\n",
      "                                           {'bgcolor':('blue',.3),'autorange':True}\n",
      "    \n",
      "                   Annotations\n",
      "                           fontcolor : str\n",
      "                                   Text color for annotations\n",
      "                           fontsize : int\n",
      "                                   Text size for annotations\n",
      "                           textangle : int\n",
      "                                   Text angle \n",
      "                           See https://plot.ly/python/reference/#layout-annotations \n",
      "                           for a complete list of valid parameters.\n",
      "    \n",
      "                   Exports\n",
      "                           display_image : bool\n",
      "                                   If True then the image if displayed after being saved\n",
      "                                   ** only valid if asImage=True\n",
      "                           scale : integer\n",
      "                                   Increase the resolution of the image by `scale` amount\n",
      "                                   Only valid when asImage=True\n",
      "\n"
     ]
    }
   ],
   "source": [
    "df=pd.DataFrame()\n",
    "help(df.iplot)"
   ]
  },
  {
   "cell_type": "code",
   "execution_count": 48,
   "metadata": {},
   "outputs": [
    {
     "data": {
      "text/html": [
       "        <script type=\"text/javascript\">\n",
       "        window.PlotlyConfig = {MathJaxConfig: 'local'};\n",
       "        if (window.MathJax) {MathJax.Hub.Config({SVG: {font: \"STIX-Web\"}});}\n",
       "        if (typeof require !== 'undefined') {\n",
       "        require.undef(\"plotly\");\n",
       "        requirejs.config({\n",
       "            paths: {\n",
       "                'plotly': ['https://cdn.plot.ly/plotly-latest.min']\n",
       "            }\n",
       "        });\n",
       "        require(['plotly'], function(Plotly) {\n",
       "            window._Plotly = Plotly;\n",
       "        });\n",
       "        }\n",
       "        </script>\n",
       "        "
      ]
     },
     "metadata": {},
     "output_type": "display_data"
    }
   ],
   "source": [
    "py.offline.init_notebook_mode(connected=True)"
   ]
  },
  {
   "cell_type": "code",
   "execution_count": 49,
   "metadata": {},
   "outputs": [
    {
     "data": {
      "text/html": [
       "        <script type=\"text/javascript\">\n",
       "        window.PlotlyConfig = {MathJaxConfig: 'local'};\n",
       "        if (window.MathJax) {MathJax.Hub.Config({SVG: {font: \"STIX-Web\"}});}\n",
       "        if (typeof require !== 'undefined') {\n",
       "        require.undef(\"plotly\");\n",
       "        requirejs.config({\n",
       "            paths: {\n",
       "                'plotly': ['https://cdn.plot.ly/plotly-latest.min']\n",
       "            }\n",
       "        });\n",
       "        require(['plotly'], function(Plotly) {\n",
       "            window._Plotly = Plotly;\n",
       "        });\n",
       "        }\n",
       "        </script>\n",
       "        "
      ]
     },
     "metadata": {},
     "output_type": "display_data"
    }
   ],
   "source": [
    "cf.go_offline()"
   ]
  },
  {
   "cell_type": "code",
   "execution_count": 50,
   "metadata": {},
   "outputs": [
    {
     "data": {
      "text/html": [
       "<div>\n",
       "<style scoped>\n",
       "    .dataframe tbody tr th:only-of-type {\n",
       "        vertical-align: middle;\n",
       "    }\n",
       "\n",
       "    .dataframe tbody tr th {\n",
       "        vertical-align: top;\n",
       "    }\n",
       "\n",
       "    .dataframe thead th {\n",
       "        text-align: right;\n",
       "    }\n",
       "</style>\n",
       "<table border=\"1\" class=\"dataframe\">\n",
       "  <thead>\n",
       "    <tr style=\"text-align: right;\">\n",
       "      <th></th>\n",
       "      <th>A</th>\n",
       "      <th>B</th>\n",
       "      <th>C</th>\n",
       "    </tr>\n",
       "  </thead>\n",
       "  <tbody>\n",
       "    <tr>\n",
       "      <th>0</th>\n",
       "      <td>19.053554</td>\n",
       "      <td>20.224688</td>\n",
       "      <td>20.591305</td>\n",
       "    </tr>\n",
       "    <tr>\n",
       "      <th>1</th>\n",
       "      <td>18.952217</td>\n",
       "      <td>21.536440</td>\n",
       "      <td>21.270308</td>\n",
       "    </tr>\n",
       "    <tr>\n",
       "      <th>2</th>\n",
       "      <td>19.865366</td>\n",
       "      <td>21.672018</td>\n",
       "      <td>21.237414</td>\n",
       "    </tr>\n",
       "    <tr>\n",
       "      <th>3</th>\n",
       "      <td>19.638949</td>\n",
       "      <td>22.366362</td>\n",
       "      <td>22.158377</td>\n",
       "    </tr>\n",
       "    <tr>\n",
       "      <th>4</th>\n",
       "      <td>18.694336</td>\n",
       "      <td>22.093768</td>\n",
       "      <td>20.592571</td>\n",
       "    </tr>\n",
       "  </tbody>\n",
       "</table>\n",
       "</div>"
      ],
      "text/plain": [
       "           A          B          C\n",
       "0  19.053554  20.224688  20.591305\n",
       "1  18.952217  21.536440  21.270308\n",
       "2  19.865366  21.672018  21.237414\n",
       "3  19.638949  22.366362  22.158377\n",
       "4  18.694336  22.093768  20.592571"
      ]
     },
     "execution_count": 50,
     "metadata": {},
     "output_type": "execute_result"
    }
   ],
   "source": [
    "df=pd.DataFrame(np.random.randn(100,3),columns=['A','B','C'])\n",
    "df.head()\n",
    "df['A']=df['A'].cumsum()+20\n",
    "df['C']=df['C'].cumsum()+20\n",
    "df['B']=df['B'].cumsum()+20\n",
    "df.head()"
   ]
  },
  {
   "cell_type": "code",
   "execution_count": 51,
   "metadata": {},
   "outputs": [
    {
     "data": {
      "application/vnd.plotly.v1+json": {
       "config": {
        "linkText": "Export to plot.ly",
        "plotlyServerURL": "https://plot.ly",
        "showLink": true
       },
       "data": [
        {
         "line": {
          "color": "rgba(255, 153, 51, 1.0)",
          "dash": "solid",
          "shape": "linear",
          "width": 1.3
         },
         "mode": "lines",
         "name": "A",
         "text": "",
         "type": "scatter",
         "x": [
          0,
          1,
          2,
          3,
          4,
          5,
          6,
          7,
          8,
          9,
          10,
          11,
          12,
          13,
          14,
          15,
          16,
          17,
          18,
          19,
          20,
          21,
          22,
          23,
          24,
          25,
          26,
          27,
          28,
          29,
          30,
          31,
          32,
          33,
          34,
          35,
          36,
          37,
          38,
          39,
          40,
          41,
          42,
          43,
          44,
          45,
          46,
          47,
          48,
          49,
          50,
          51,
          52,
          53,
          54,
          55,
          56,
          57,
          58,
          59,
          60,
          61,
          62,
          63,
          64,
          65,
          66,
          67,
          68,
          69,
          70,
          71,
          72,
          73,
          74,
          75,
          76,
          77,
          78,
          79,
          80,
          81,
          82,
          83,
          84,
          85,
          86,
          87,
          88,
          89,
          90,
          91,
          92,
          93,
          94,
          95,
          96,
          97,
          98,
          99
         ],
         "y": [
          19.05355417423916,
          18.952217225493925,
          19.865365899479734,
          19.63894883538949,
          18.69433573604271,
          20.16177760391001,
          18.706721148102186,
          20.83021578349943,
          20.813770424039916,
          21.876577899494947,
          23.4157025609715,
          22.48607651867613,
          23.25896799151132,
          24.853746571571484,
          26.399388646384505,
          27.302020733241726,
          26.601442256932568,
          26.844437565324256,
          24.88689913716809,
          25.007194393161065,
          25.465628571769408,
          24.717480092329993,
          24.89376823976289,
          24.12852385347762,
          24.682892116294685,
          24.172311582147568,
          24.94042188534207,
          23.44096989873089,
          22.720716338251737,
          24.002316726950582,
          25.069318855339,
          24.4512159216163,
          22.963361830000697,
          20.93760262243009,
          17.898001133826952,
          19.675888324282013,
          20.744858125185726,
          23.23197011092468,
          24.120654400923726,
          24.368612281042843,
          22.98387948917498,
          22.443812807233037,
          21.561799339469225,
          21.46663493633641,
          21.494712151145823,
          20.265810969262205,
          19.29283374536078,
          18.603965591064245,
          18.023265505192516,
          18.69785175886604,
          19.607959504013458,
          19.004016179600125,
          16.986759461223656,
          18.329309886042573,
          19.052399618290732,
          19.029227590135285,
          20.267392981564747,
          18.98485715628038,
          17.45220014359349,
          18.4724176135328,
          18.793109557266042,
          20.758480502975218,
          21.693841607759047,
          21.41199762345162,
          22.40769957423957,
          22.816663705235424,
          23.207709446586406,
          23.537797606994967,
          25.689798527285987,
          25.562227076430634,
          26.855415853177288,
          25.55917622084909,
          25.901748781714026,
          27.08172185921103,
          27.117412019943735,
          28.342903962632406,
          28.27067268969956,
          28.566124358905135,
          29.30358008491224,
          28.129816653061603,
          27.927104713181173,
          27.19418290107574,
          29.300173117310973,
          29.69985220771088,
          32.1568512875961,
          31.932307925439222,
          32.323043576459504,
          30.972872477316358,
          31.08736272483948,
          32.75641107457476,
          32.12766645159634,
          34.12996690601166,
          33.43424607783305,
          32.519348467732655,
          33.259861789745635,
          32.22565324660054,
          33.843995385700524,
          34.77157703363817,
          34.33037573056614,
          35.66745291542685
         ]
        },
        {
         "line": {
          "color": "rgba(55, 128, 191, 1.0)",
          "dash": "solid",
          "shape": "linear",
          "width": 1.3
         },
         "mode": "lines",
         "name": "B",
         "text": "",
         "type": "scatter",
         "x": [
          0,
          1,
          2,
          3,
          4,
          5,
          6,
          7,
          8,
          9,
          10,
          11,
          12,
          13,
          14,
          15,
          16,
          17,
          18,
          19,
          20,
          21,
          22,
          23,
          24,
          25,
          26,
          27,
          28,
          29,
          30,
          31,
          32,
          33,
          34,
          35,
          36,
          37,
          38,
          39,
          40,
          41,
          42,
          43,
          44,
          45,
          46,
          47,
          48,
          49,
          50,
          51,
          52,
          53,
          54,
          55,
          56,
          57,
          58,
          59,
          60,
          61,
          62,
          63,
          64,
          65,
          66,
          67,
          68,
          69,
          70,
          71,
          72,
          73,
          74,
          75,
          76,
          77,
          78,
          79,
          80,
          81,
          82,
          83,
          84,
          85,
          86,
          87,
          88,
          89,
          90,
          91,
          92,
          93,
          94,
          95,
          96,
          97,
          98,
          99
         ],
         "y": [
          20.224687685551356,
          21.536439565654074,
          21.672018362970196,
          22.366361690454035,
          22.093768209281308,
          23.77342317347896,
          21.805695111712296,
          20.842045670428,
          21.430651096374042,
          21.413930530697023,
          21.312356669735497,
          19.960349979970797,
          20.237370835571713,
          21.283258142565337,
          22.420773158872006,
          21.551012710301567,
          20.3569653364381,
          20.651263542071955,
          22.543617901983065,
          21.309599875528917,
          20.75926504618888,
          19.631781060746647,
          20.26848545548732,
          20.851528560744118,
          20.76848005448148,
          21.411400999579257,
          21.21495942958562,
          22.04877676072323,
          22.75235854062727,
          22.43369478495357,
          23.041266560617544,
          23.824741253326224,
          23.862846221665926,
          23.926981640728975,
          23.42223304197247,
          24.89391052726584,
          25.202050112997586,
          26.232593629331745,
          26.136291606720977,
          25.79390973986341,
          26.509119734403658,
          26.55859024588922,
          26.070832367832416,
          26.693919506567667,
          26.82528895762112,
          28.605463871107744,
          28.277318673161687,
          28.212164078599997,
          27.343268048315824,
          27.46907294696319,
          27.542122828435385,
          27.667793752924535,
          27.790056083146304,
          27.98692472906863,
          27.117414511804206,
          29.278771604726526,
          27.887134101277386,
          25.763544260321947,
          22.99730014677046,
          25.658460334790743,
          25.6233399663063,
          27.76091899673433,
          26.01680608810962,
          26.62516152228668,
          26.455325659088857,
          25.46543046931759,
          27.470368352760293,
          26.440325426923316,
          25.80987744554895,
          25.891292002734314,
          25.736758139924397,
          25.738965526604602,
          24.91063538613909,
          25.214244487860952,
          24.550886005756134,
          23.940249960473487,
          24.86476869360318,
          25.97038667509796,
          25.385713257576374,
          24.817846729590386,
          25.15495446454062,
          26.155673227886034,
          26.50727384596003,
          27.737896005494044,
          26.846300767422374,
          26.808635521563268,
          24.784149960600395,
          25.677035152020835,
          27.704830625596962,
          29.6180225812225,
          30.210529126285607,
          30.317321809807737,
          32.18867411674365,
          32.11351363502118,
          32.311632730681296,
          30.778588188023548,
          30.961984418506045,
          32.1197208587845,
          31.802136712132004,
          32.66762057325556
         ]
        },
        {
         "line": {
          "color": "rgba(50, 171, 96, 1.0)",
          "dash": "solid",
          "shape": "linear",
          "width": 1.3
         },
         "mode": "lines",
         "name": "C",
         "text": "",
         "type": "scatter",
         "x": [
          0,
          1,
          2,
          3,
          4,
          5,
          6,
          7,
          8,
          9,
          10,
          11,
          12,
          13,
          14,
          15,
          16,
          17,
          18,
          19,
          20,
          21,
          22,
          23,
          24,
          25,
          26,
          27,
          28,
          29,
          30,
          31,
          32,
          33,
          34,
          35,
          36,
          37,
          38,
          39,
          40,
          41,
          42,
          43,
          44,
          45,
          46,
          47,
          48,
          49,
          50,
          51,
          52,
          53,
          54,
          55,
          56,
          57,
          58,
          59,
          60,
          61,
          62,
          63,
          64,
          65,
          66,
          67,
          68,
          69,
          70,
          71,
          72,
          73,
          74,
          75,
          76,
          77,
          78,
          79,
          80,
          81,
          82,
          83,
          84,
          85,
          86,
          87,
          88,
          89,
          90,
          91,
          92,
          93,
          94,
          95,
          96,
          97,
          98,
          99
         ],
         "y": [
          20.59130510758723,
          21.270308095882953,
          21.237413885829824,
          22.158376601734638,
          20.592571302314955,
          19.219670330695607,
          19.517393137145504,
          19.557096280029477,
          20.176562147518588,
          20.237441220624994,
          23.11717949789354,
          22.2645056608889,
          22.59321708827719,
          23.786871759359794,
          24.55407224706895,
          24.31406875830635,
          22.322069415995998,
          22.497924258478594,
          19.92176319383767,
          21.05432877058883,
          21.665555687140344,
          21.727401137496823,
          20.456400629978173,
          20.887362056217096,
          21.363503700398233,
          22.20415361842026,
          23.289644148178688,
          23.556173768632235,
          22.864864670947384,
          22.624504115033208,
          21.994551342701598,
          21.1821155062218,
          21.020108146032086,
          19.641362173248904,
          19.041795644409248,
          18.944911265788072,
          17.46651075791815,
          18.108355651082846,
          16.464934091038874,
          14.198934468242438,
          14.902409381685445,
          15.296853863322646,
          14.161243286743936,
          14.830630325366688,
          15.058455844050034,
          14.627212626411847,
          13.520242609318878,
          12.298335861994438,
          11.849599644473788,
          11.470118682992505,
          11.307898569798922,
          12.069319571781275,
          12.377825603430606,
          10.935053505785588,
          9.303174350276525,
          9.317611076398162,
          9.343941802354843,
          8.794420111041577,
          9.429788661766079,
          8.80213241436428,
          8.82280579862743,
          8.409245297375467,
          7.030066184009474,
          7.720774764506679,
          8.38170330554778,
          7.368902967103656,
          7.259244354534905,
          7.048181422037999,
          7.89112658469082,
          8.040620348171347,
          7.61092664142849,
          7.885990937094235,
          6.991550147196591,
          7.159428913036839,
          6.632901294940195,
          6.8067172861791825,
          7.812223860001133,
          6.712712290315135,
          6.309104981231487,
          5.840692523829707,
          6.171335433832075,
          5.745261736312543,
          5.879900448033064,
          6.555246619105677,
          5.813463733667177,
          4.38959053747422,
          3.606719041214788,
          1.7989883150710106,
          3.0915588594432393,
          3.3118811186900743,
          4.094325863174625,
          2.8656922583841755,
          1.7212337429867866,
          2.0566141546311165,
          2.3982591520294676,
          3.4687572092798717,
          2.408982029929895,
          2.161709947421592,
          2.4764338920764963,
          3.630398333934064
         ]
        }
       ],
       "layout": {
        "legend": {
         "bgcolor": "#151516",
         "font": {
          "color": "#D9D9D9"
         }
        },
        "paper_bgcolor": "#151516",
        "plot_bgcolor": "#151516",
        "template": {
         "data": {
          "bar": [
           {
            "error_x": {
             "color": "#2a3f5f"
            },
            "error_y": {
             "color": "#2a3f5f"
            },
            "marker": {
             "line": {
              "color": "#E5ECF6",
              "width": 0.5
             }
            },
            "type": "bar"
           }
          ],
          "barpolar": [
           {
            "marker": {
             "line": {
              "color": "#E5ECF6",
              "width": 0.5
             }
            },
            "type": "barpolar"
           }
          ],
          "carpet": [
           {
            "aaxis": {
             "endlinecolor": "#2a3f5f",
             "gridcolor": "white",
             "linecolor": "white",
             "minorgridcolor": "white",
             "startlinecolor": "#2a3f5f"
            },
            "baxis": {
             "endlinecolor": "#2a3f5f",
             "gridcolor": "white",
             "linecolor": "white",
             "minorgridcolor": "white",
             "startlinecolor": "#2a3f5f"
            },
            "type": "carpet"
           }
          ],
          "choropleth": [
           {
            "colorbar": {
             "outlinewidth": 0,
             "ticks": ""
            },
            "type": "choropleth"
           }
          ],
          "contour": [
           {
            "colorbar": {
             "outlinewidth": 0,
             "ticks": ""
            },
            "colorscale": [
             [
              0,
              "#0d0887"
             ],
             [
              0.1111111111111111,
              "#46039f"
             ],
             [
              0.2222222222222222,
              "#7201a8"
             ],
             [
              0.3333333333333333,
              "#9c179e"
             ],
             [
              0.4444444444444444,
              "#bd3786"
             ],
             [
              0.5555555555555556,
              "#d8576b"
             ],
             [
              0.6666666666666666,
              "#ed7953"
             ],
             [
              0.7777777777777778,
              "#fb9f3a"
             ],
             [
              0.8888888888888888,
              "#fdca26"
             ],
             [
              1,
              "#f0f921"
             ]
            ],
            "type": "contour"
           }
          ],
          "contourcarpet": [
           {
            "colorbar": {
             "outlinewidth": 0,
             "ticks": ""
            },
            "type": "contourcarpet"
           }
          ],
          "heatmap": [
           {
            "colorbar": {
             "outlinewidth": 0,
             "ticks": ""
            },
            "colorscale": [
             [
              0,
              "#0d0887"
             ],
             [
              0.1111111111111111,
              "#46039f"
             ],
             [
              0.2222222222222222,
              "#7201a8"
             ],
             [
              0.3333333333333333,
              "#9c179e"
             ],
             [
              0.4444444444444444,
              "#bd3786"
             ],
             [
              0.5555555555555556,
              "#d8576b"
             ],
             [
              0.6666666666666666,
              "#ed7953"
             ],
             [
              0.7777777777777778,
              "#fb9f3a"
             ],
             [
              0.8888888888888888,
              "#fdca26"
             ],
             [
              1,
              "#f0f921"
             ]
            ],
            "type": "heatmap"
           }
          ],
          "heatmapgl": [
           {
            "colorbar": {
             "outlinewidth": 0,
             "ticks": ""
            },
            "colorscale": [
             [
              0,
              "#0d0887"
             ],
             [
              0.1111111111111111,
              "#46039f"
             ],
             [
              0.2222222222222222,
              "#7201a8"
             ],
             [
              0.3333333333333333,
              "#9c179e"
             ],
             [
              0.4444444444444444,
              "#bd3786"
             ],
             [
              0.5555555555555556,
              "#d8576b"
             ],
             [
              0.6666666666666666,
              "#ed7953"
             ],
             [
              0.7777777777777778,
              "#fb9f3a"
             ],
             [
              0.8888888888888888,
              "#fdca26"
             ],
             [
              1,
              "#f0f921"
             ]
            ],
            "type": "heatmapgl"
           }
          ],
          "histogram": [
           {
            "marker": {
             "colorbar": {
              "outlinewidth": 0,
              "ticks": ""
             }
            },
            "type": "histogram"
           }
          ],
          "histogram2d": [
           {
            "colorbar": {
             "outlinewidth": 0,
             "ticks": ""
            },
            "colorscale": [
             [
              0,
              "#0d0887"
             ],
             [
              0.1111111111111111,
              "#46039f"
             ],
             [
              0.2222222222222222,
              "#7201a8"
             ],
             [
              0.3333333333333333,
              "#9c179e"
             ],
             [
              0.4444444444444444,
              "#bd3786"
             ],
             [
              0.5555555555555556,
              "#d8576b"
             ],
             [
              0.6666666666666666,
              "#ed7953"
             ],
             [
              0.7777777777777778,
              "#fb9f3a"
             ],
             [
              0.8888888888888888,
              "#fdca26"
             ],
             [
              1,
              "#f0f921"
             ]
            ],
            "type": "histogram2d"
           }
          ],
          "histogram2dcontour": [
           {
            "colorbar": {
             "outlinewidth": 0,
             "ticks": ""
            },
            "colorscale": [
             [
              0,
              "#0d0887"
             ],
             [
              0.1111111111111111,
              "#46039f"
             ],
             [
              0.2222222222222222,
              "#7201a8"
             ],
             [
              0.3333333333333333,
              "#9c179e"
             ],
             [
              0.4444444444444444,
              "#bd3786"
             ],
             [
              0.5555555555555556,
              "#d8576b"
             ],
             [
              0.6666666666666666,
              "#ed7953"
             ],
             [
              0.7777777777777778,
              "#fb9f3a"
             ],
             [
              0.8888888888888888,
              "#fdca26"
             ],
             [
              1,
              "#f0f921"
             ]
            ],
            "type": "histogram2dcontour"
           }
          ],
          "mesh3d": [
           {
            "colorbar": {
             "outlinewidth": 0,
             "ticks": ""
            },
            "type": "mesh3d"
           }
          ],
          "parcoords": [
           {
            "line": {
             "colorbar": {
              "outlinewidth": 0,
              "ticks": ""
             }
            },
            "type": "parcoords"
           }
          ],
          "pie": [
           {
            "automargin": true,
            "type": "pie"
           }
          ],
          "scatter": [
           {
            "marker": {
             "colorbar": {
              "outlinewidth": 0,
              "ticks": ""
             }
            },
            "type": "scatter"
           }
          ],
          "scatter3d": [
           {
            "line": {
             "colorbar": {
              "outlinewidth": 0,
              "ticks": ""
             }
            },
            "marker": {
             "colorbar": {
              "outlinewidth": 0,
              "ticks": ""
             }
            },
            "type": "scatter3d"
           }
          ],
          "scattercarpet": [
           {
            "marker": {
             "colorbar": {
              "outlinewidth": 0,
              "ticks": ""
             }
            },
            "type": "scattercarpet"
           }
          ],
          "scattergeo": [
           {
            "marker": {
             "colorbar": {
              "outlinewidth": 0,
              "ticks": ""
             }
            },
            "type": "scattergeo"
           }
          ],
          "scattergl": [
           {
            "marker": {
             "colorbar": {
              "outlinewidth": 0,
              "ticks": ""
             }
            },
            "type": "scattergl"
           }
          ],
          "scattermapbox": [
           {
            "marker": {
             "colorbar": {
              "outlinewidth": 0,
              "ticks": ""
             }
            },
            "type": "scattermapbox"
           }
          ],
          "scatterpolar": [
           {
            "marker": {
             "colorbar": {
              "outlinewidth": 0,
              "ticks": ""
             }
            },
            "type": "scatterpolar"
           }
          ],
          "scatterpolargl": [
           {
            "marker": {
             "colorbar": {
              "outlinewidth": 0,
              "ticks": ""
             }
            },
            "type": "scatterpolargl"
           }
          ],
          "scatterternary": [
           {
            "marker": {
             "colorbar": {
              "outlinewidth": 0,
              "ticks": ""
             }
            },
            "type": "scatterternary"
           }
          ],
          "surface": [
           {
            "colorbar": {
             "outlinewidth": 0,
             "ticks": ""
            },
            "colorscale": [
             [
              0,
              "#0d0887"
             ],
             [
              0.1111111111111111,
              "#46039f"
             ],
             [
              0.2222222222222222,
              "#7201a8"
             ],
             [
              0.3333333333333333,
              "#9c179e"
             ],
             [
              0.4444444444444444,
              "#bd3786"
             ],
             [
              0.5555555555555556,
              "#d8576b"
             ],
             [
              0.6666666666666666,
              "#ed7953"
             ],
             [
              0.7777777777777778,
              "#fb9f3a"
             ],
             [
              0.8888888888888888,
              "#fdca26"
             ],
             [
              1,
              "#f0f921"
             ]
            ],
            "type": "surface"
           }
          ],
          "table": [
           {
            "cells": {
             "fill": {
              "color": "#EBF0F8"
             },
             "line": {
              "color": "white"
             }
            },
            "header": {
             "fill": {
              "color": "#C8D4E3"
             },
             "line": {
              "color": "white"
             }
            },
            "type": "table"
           }
          ]
         },
         "layout": {
          "annotationdefaults": {
           "arrowcolor": "#2a3f5f",
           "arrowhead": 0,
           "arrowwidth": 1
          },
          "coloraxis": {
           "colorbar": {
            "outlinewidth": 0,
            "ticks": ""
           }
          },
          "colorscale": {
           "diverging": [
            [
             0,
             "#8e0152"
            ],
            [
             0.1,
             "#c51b7d"
            ],
            [
             0.2,
             "#de77ae"
            ],
            [
             0.3,
             "#f1b6da"
            ],
            [
             0.4,
             "#fde0ef"
            ],
            [
             0.5,
             "#f7f7f7"
            ],
            [
             0.6,
             "#e6f5d0"
            ],
            [
             0.7,
             "#b8e186"
            ],
            [
             0.8,
             "#7fbc41"
            ],
            [
             0.9,
             "#4d9221"
            ],
            [
             1,
             "#276419"
            ]
           ],
           "sequential": [
            [
             0,
             "#0d0887"
            ],
            [
             0.1111111111111111,
             "#46039f"
            ],
            [
             0.2222222222222222,
             "#7201a8"
            ],
            [
             0.3333333333333333,
             "#9c179e"
            ],
            [
             0.4444444444444444,
             "#bd3786"
            ],
            [
             0.5555555555555556,
             "#d8576b"
            ],
            [
             0.6666666666666666,
             "#ed7953"
            ],
            [
             0.7777777777777778,
             "#fb9f3a"
            ],
            [
             0.8888888888888888,
             "#fdca26"
            ],
            [
             1,
             "#f0f921"
            ]
           ],
           "sequentialminus": [
            [
             0,
             "#0d0887"
            ],
            [
             0.1111111111111111,
             "#46039f"
            ],
            [
             0.2222222222222222,
             "#7201a8"
            ],
            [
             0.3333333333333333,
             "#9c179e"
            ],
            [
             0.4444444444444444,
             "#bd3786"
            ],
            [
             0.5555555555555556,
             "#d8576b"
            ],
            [
             0.6666666666666666,
             "#ed7953"
            ],
            [
             0.7777777777777778,
             "#fb9f3a"
            ],
            [
             0.8888888888888888,
             "#fdca26"
            ],
            [
             1,
             "#f0f921"
            ]
           ]
          },
          "colorway": [
           "#636efa",
           "#EF553B",
           "#00cc96",
           "#ab63fa",
           "#FFA15A",
           "#19d3f3",
           "#FF6692",
           "#B6E880",
           "#FF97FF",
           "#FECB52"
          ],
          "font": {
           "color": "#2a3f5f"
          },
          "geo": {
           "bgcolor": "white",
           "lakecolor": "white",
           "landcolor": "#E5ECF6",
           "showlakes": true,
           "showland": true,
           "subunitcolor": "white"
          },
          "hoverlabel": {
           "align": "left"
          },
          "hovermode": "closest",
          "mapbox": {
           "style": "light"
          },
          "paper_bgcolor": "white",
          "plot_bgcolor": "#E5ECF6",
          "polar": {
           "angularaxis": {
            "gridcolor": "white",
            "linecolor": "white",
            "ticks": ""
           },
           "bgcolor": "#E5ECF6",
           "radialaxis": {
            "gridcolor": "white",
            "linecolor": "white",
            "ticks": ""
           }
          },
          "scene": {
           "xaxis": {
            "backgroundcolor": "#E5ECF6",
            "gridcolor": "white",
            "gridwidth": 2,
            "linecolor": "white",
            "showbackground": true,
            "ticks": "",
            "zerolinecolor": "white"
           },
           "yaxis": {
            "backgroundcolor": "#E5ECF6",
            "gridcolor": "white",
            "gridwidth": 2,
            "linecolor": "white",
            "showbackground": true,
            "ticks": "",
            "zerolinecolor": "white"
           },
           "zaxis": {
            "backgroundcolor": "#E5ECF6",
            "gridcolor": "white",
            "gridwidth": 2,
            "linecolor": "white",
            "showbackground": true,
            "ticks": "",
            "zerolinecolor": "white"
           }
          },
          "shapedefaults": {
           "line": {
            "color": "#2a3f5f"
           }
          },
          "ternary": {
           "aaxis": {
            "gridcolor": "white",
            "linecolor": "white",
            "ticks": ""
           },
           "baxis": {
            "gridcolor": "white",
            "linecolor": "white",
            "ticks": ""
           },
           "bgcolor": "#E5ECF6",
           "caxis": {
            "gridcolor": "white",
            "linecolor": "white",
            "ticks": ""
           }
          },
          "title": {
           "x": 0.05
          },
          "xaxis": {
           "automargin": true,
           "gridcolor": "white",
           "linecolor": "white",
           "ticks": "",
           "title": {
            "standoff": 15
           },
           "zerolinecolor": "white",
           "zerolinewidth": 2
          },
          "yaxis": {
           "automargin": true,
           "gridcolor": "white",
           "linecolor": "white",
           "ticks": "",
           "title": {
            "standoff": 15
           },
           "zerolinecolor": "white",
           "zerolinewidth": 2
          }
         }
        },
        "title": {
         "font": {
          "color": "#D9D9D9"
         }
        },
        "xaxis": {
         "gridcolor": "#434343",
         "showgrid": true,
         "tickfont": {
          "color": "#C2C2C2"
         },
         "title": {
          "font": {
           "color": "#D9D9D9"
          },
          "text": ""
         },
         "zerolinecolor": "#666570"
        },
        "yaxis": {
         "gridcolor": "#434343",
         "showgrid": true,
         "tickfont": {
          "color": "#C2C2C2"
         },
         "title": {
          "font": {
           "color": "#D9D9D9"
          },
          "text": ""
         },
         "zerolinecolor": "#666570"
        }
       }
      },
      "text/html": [
       "<div>\n",
       "        \n",
       "        \n",
       "            <div id=\"79274a66-2eb5-46db-a648-2381b69e5d17\" class=\"plotly-graph-div\" style=\"height:525px; width:100%;\"></div>\n",
       "            <script type=\"text/javascript\">\n",
       "                require([\"plotly\"], function(Plotly) {\n",
       "                    window.PLOTLYENV=window.PLOTLYENV || {};\n",
       "                    window.PLOTLYENV.BASE_URL='https://plot.ly';\n",
       "                    \n",
       "                if (document.getElementById(\"79274a66-2eb5-46db-a648-2381b69e5d17\")) {\n",
       "                    Plotly.newPlot(\n",
       "                        '79274a66-2eb5-46db-a648-2381b69e5d17',\n",
       "                        [{\"line\": {\"color\": \"rgba(255, 153, 51, 1.0)\", \"dash\": \"solid\", \"shape\": \"linear\", \"width\": 1.3}, \"mode\": \"lines\", \"name\": \"A\", \"text\": \"\", \"type\": \"scatter\", \"x\": [0, 1, 2, 3, 4, 5, 6, 7, 8, 9, 10, 11, 12, 13, 14, 15, 16, 17, 18, 19, 20, 21, 22, 23, 24, 25, 26, 27, 28, 29, 30, 31, 32, 33, 34, 35, 36, 37, 38, 39, 40, 41, 42, 43, 44, 45, 46, 47, 48, 49, 50, 51, 52, 53, 54, 55, 56, 57, 58, 59, 60, 61, 62, 63, 64, 65, 66, 67, 68, 69, 70, 71, 72, 73, 74, 75, 76, 77, 78, 79, 80, 81, 82, 83, 84, 85, 86, 87, 88, 89, 90, 91, 92, 93, 94, 95, 96, 97, 98, 99], \"y\": [19.05355417423916, 18.952217225493925, 19.865365899479734, 19.63894883538949, 18.69433573604271, 20.16177760391001, 18.706721148102186, 20.83021578349943, 20.813770424039916, 21.876577899494947, 23.4157025609715, 22.48607651867613, 23.25896799151132, 24.853746571571484, 26.399388646384505, 27.302020733241726, 26.601442256932568, 26.844437565324256, 24.88689913716809, 25.007194393161065, 25.465628571769408, 24.717480092329993, 24.89376823976289, 24.12852385347762, 24.682892116294685, 24.172311582147568, 24.94042188534207, 23.44096989873089, 22.720716338251737, 24.002316726950582, 25.069318855339, 24.4512159216163, 22.963361830000697, 20.93760262243009, 17.898001133826952, 19.675888324282013, 20.744858125185726, 23.23197011092468, 24.120654400923726, 24.368612281042843, 22.98387948917498, 22.443812807233037, 21.561799339469225, 21.46663493633641, 21.494712151145823, 20.265810969262205, 19.29283374536078, 18.603965591064245, 18.023265505192516, 18.69785175886604, 19.607959504013458, 19.004016179600125, 16.986759461223656, 18.329309886042573, 19.052399618290732, 19.029227590135285, 20.267392981564747, 18.98485715628038, 17.45220014359349, 18.4724176135328, 18.793109557266042, 20.758480502975218, 21.693841607759047, 21.41199762345162, 22.40769957423957, 22.816663705235424, 23.207709446586406, 23.537797606994967, 25.689798527285987, 25.562227076430634, 26.855415853177288, 25.55917622084909, 25.901748781714026, 27.08172185921103, 27.117412019943735, 28.342903962632406, 28.27067268969956, 28.566124358905135, 29.30358008491224, 28.129816653061603, 27.927104713181173, 27.19418290107574, 29.300173117310973, 29.69985220771088, 32.1568512875961, 31.932307925439222, 32.323043576459504, 30.972872477316358, 31.08736272483948, 32.75641107457476, 32.12766645159634, 34.12996690601166, 33.43424607783305, 32.519348467732655, 33.259861789745635, 32.22565324660054, 33.843995385700524, 34.77157703363817, 34.33037573056614, 35.66745291542685]}, {\"line\": {\"color\": \"rgba(55, 128, 191, 1.0)\", \"dash\": \"solid\", \"shape\": \"linear\", \"width\": 1.3}, \"mode\": \"lines\", \"name\": \"B\", \"text\": \"\", \"type\": \"scatter\", \"x\": [0, 1, 2, 3, 4, 5, 6, 7, 8, 9, 10, 11, 12, 13, 14, 15, 16, 17, 18, 19, 20, 21, 22, 23, 24, 25, 26, 27, 28, 29, 30, 31, 32, 33, 34, 35, 36, 37, 38, 39, 40, 41, 42, 43, 44, 45, 46, 47, 48, 49, 50, 51, 52, 53, 54, 55, 56, 57, 58, 59, 60, 61, 62, 63, 64, 65, 66, 67, 68, 69, 70, 71, 72, 73, 74, 75, 76, 77, 78, 79, 80, 81, 82, 83, 84, 85, 86, 87, 88, 89, 90, 91, 92, 93, 94, 95, 96, 97, 98, 99], \"y\": [20.224687685551356, 21.536439565654074, 21.672018362970196, 22.366361690454035, 22.093768209281308, 23.77342317347896, 21.805695111712296, 20.842045670428, 21.430651096374042, 21.413930530697023, 21.312356669735497, 19.960349979970797, 20.237370835571713, 21.283258142565337, 22.420773158872006, 21.551012710301567, 20.3569653364381, 20.651263542071955, 22.543617901983065, 21.309599875528917, 20.75926504618888, 19.631781060746647, 20.26848545548732, 20.851528560744118, 20.76848005448148, 21.411400999579257, 21.21495942958562, 22.04877676072323, 22.75235854062727, 22.43369478495357, 23.041266560617544, 23.824741253326224, 23.862846221665926, 23.926981640728975, 23.42223304197247, 24.89391052726584, 25.202050112997586, 26.232593629331745, 26.136291606720977, 25.79390973986341, 26.509119734403658, 26.55859024588922, 26.070832367832416, 26.693919506567667, 26.82528895762112, 28.605463871107744, 28.277318673161687, 28.212164078599997, 27.343268048315824, 27.46907294696319, 27.542122828435385, 27.667793752924535, 27.790056083146304, 27.98692472906863, 27.117414511804206, 29.278771604726526, 27.887134101277386, 25.763544260321947, 22.99730014677046, 25.658460334790743, 25.6233399663063, 27.76091899673433, 26.01680608810962, 26.62516152228668, 26.455325659088857, 25.46543046931759, 27.470368352760293, 26.440325426923316, 25.80987744554895, 25.891292002734314, 25.736758139924397, 25.738965526604602, 24.91063538613909, 25.214244487860952, 24.550886005756134, 23.940249960473487, 24.86476869360318, 25.97038667509796, 25.385713257576374, 24.817846729590386, 25.15495446454062, 26.155673227886034, 26.50727384596003, 27.737896005494044, 26.846300767422374, 26.808635521563268, 24.784149960600395, 25.677035152020835, 27.704830625596962, 29.6180225812225, 30.210529126285607, 30.317321809807737, 32.18867411674365, 32.11351363502118, 32.311632730681296, 30.778588188023548, 30.961984418506045, 32.1197208587845, 31.802136712132004, 32.66762057325556]}, {\"line\": {\"color\": \"rgba(50, 171, 96, 1.0)\", \"dash\": \"solid\", \"shape\": \"linear\", \"width\": 1.3}, \"mode\": \"lines\", \"name\": \"C\", \"text\": \"\", \"type\": \"scatter\", \"x\": [0, 1, 2, 3, 4, 5, 6, 7, 8, 9, 10, 11, 12, 13, 14, 15, 16, 17, 18, 19, 20, 21, 22, 23, 24, 25, 26, 27, 28, 29, 30, 31, 32, 33, 34, 35, 36, 37, 38, 39, 40, 41, 42, 43, 44, 45, 46, 47, 48, 49, 50, 51, 52, 53, 54, 55, 56, 57, 58, 59, 60, 61, 62, 63, 64, 65, 66, 67, 68, 69, 70, 71, 72, 73, 74, 75, 76, 77, 78, 79, 80, 81, 82, 83, 84, 85, 86, 87, 88, 89, 90, 91, 92, 93, 94, 95, 96, 97, 98, 99], \"y\": [20.59130510758723, 21.270308095882953, 21.237413885829824, 22.158376601734638, 20.592571302314955, 19.219670330695607, 19.517393137145504, 19.557096280029477, 20.176562147518588, 20.237441220624994, 23.11717949789354, 22.2645056608889, 22.59321708827719, 23.786871759359794, 24.55407224706895, 24.31406875830635, 22.322069415995998, 22.497924258478594, 19.92176319383767, 21.05432877058883, 21.665555687140344, 21.727401137496823, 20.456400629978173, 20.887362056217096, 21.363503700398233, 22.20415361842026, 23.289644148178688, 23.556173768632235, 22.864864670947384, 22.624504115033208, 21.994551342701598, 21.1821155062218, 21.020108146032086, 19.641362173248904, 19.041795644409248, 18.944911265788072, 17.46651075791815, 18.108355651082846, 16.464934091038874, 14.198934468242438, 14.902409381685445, 15.296853863322646, 14.161243286743936, 14.830630325366688, 15.058455844050034, 14.627212626411847, 13.520242609318878, 12.298335861994438, 11.849599644473788, 11.470118682992505, 11.307898569798922, 12.069319571781275, 12.377825603430606, 10.935053505785588, 9.303174350276525, 9.317611076398162, 9.343941802354843, 8.794420111041577, 9.429788661766079, 8.80213241436428, 8.82280579862743, 8.409245297375467, 7.030066184009474, 7.720774764506679, 8.38170330554778, 7.368902967103656, 7.259244354534905, 7.048181422037999, 7.89112658469082, 8.040620348171347, 7.61092664142849, 7.885990937094235, 6.991550147196591, 7.159428913036839, 6.632901294940195, 6.8067172861791825, 7.812223860001133, 6.712712290315135, 6.309104981231487, 5.840692523829707, 6.171335433832075, 5.745261736312543, 5.879900448033064, 6.555246619105677, 5.813463733667177, 4.38959053747422, 3.606719041214788, 1.7989883150710106, 3.0915588594432393, 3.3118811186900743, 4.094325863174625, 2.8656922583841755, 1.7212337429867866, 2.0566141546311165, 2.3982591520294676, 3.4687572092798717, 2.408982029929895, 2.161709947421592, 2.4764338920764963, 3.630398333934064]}],\n",
       "                        {\"legend\": {\"bgcolor\": \"#151516\", \"font\": {\"color\": \"#D9D9D9\"}}, \"paper_bgcolor\": \"#151516\", \"plot_bgcolor\": \"#151516\", \"template\": {\"data\": {\"bar\": [{\"error_x\": {\"color\": \"#2a3f5f\"}, \"error_y\": {\"color\": \"#2a3f5f\"}, \"marker\": {\"line\": {\"color\": \"#E5ECF6\", \"width\": 0.5}}, \"type\": \"bar\"}], \"barpolar\": [{\"marker\": {\"line\": {\"color\": \"#E5ECF6\", \"width\": 0.5}}, \"type\": \"barpolar\"}], \"carpet\": [{\"aaxis\": {\"endlinecolor\": \"#2a3f5f\", \"gridcolor\": \"white\", \"linecolor\": \"white\", \"minorgridcolor\": \"white\", \"startlinecolor\": \"#2a3f5f\"}, \"baxis\": {\"endlinecolor\": \"#2a3f5f\", \"gridcolor\": \"white\", \"linecolor\": \"white\", \"minorgridcolor\": \"white\", \"startlinecolor\": \"#2a3f5f\"}, \"type\": \"carpet\"}], \"choropleth\": [{\"colorbar\": {\"outlinewidth\": 0, \"ticks\": \"\"}, \"type\": \"choropleth\"}], \"contour\": [{\"colorbar\": {\"outlinewidth\": 0, \"ticks\": \"\"}, \"colorscale\": [[0.0, \"#0d0887\"], [0.1111111111111111, \"#46039f\"], [0.2222222222222222, \"#7201a8\"], [0.3333333333333333, \"#9c179e\"], [0.4444444444444444, \"#bd3786\"], [0.5555555555555556, \"#d8576b\"], [0.6666666666666666, \"#ed7953\"], [0.7777777777777778, \"#fb9f3a\"], [0.8888888888888888, \"#fdca26\"], [1.0, \"#f0f921\"]], \"type\": \"contour\"}], \"contourcarpet\": [{\"colorbar\": {\"outlinewidth\": 0, \"ticks\": \"\"}, \"type\": \"contourcarpet\"}], \"heatmap\": [{\"colorbar\": {\"outlinewidth\": 0, \"ticks\": \"\"}, \"colorscale\": [[0.0, \"#0d0887\"], [0.1111111111111111, \"#46039f\"], [0.2222222222222222, \"#7201a8\"], [0.3333333333333333, \"#9c179e\"], [0.4444444444444444, \"#bd3786\"], [0.5555555555555556, \"#d8576b\"], [0.6666666666666666, \"#ed7953\"], [0.7777777777777778, \"#fb9f3a\"], [0.8888888888888888, \"#fdca26\"], [1.0, \"#f0f921\"]], \"type\": \"heatmap\"}], \"heatmapgl\": [{\"colorbar\": {\"outlinewidth\": 0, \"ticks\": \"\"}, \"colorscale\": [[0.0, \"#0d0887\"], [0.1111111111111111, \"#46039f\"], [0.2222222222222222, \"#7201a8\"], [0.3333333333333333, \"#9c179e\"], [0.4444444444444444, \"#bd3786\"], [0.5555555555555556, \"#d8576b\"], [0.6666666666666666, \"#ed7953\"], [0.7777777777777778, \"#fb9f3a\"], [0.8888888888888888, \"#fdca26\"], [1.0, \"#f0f921\"]], \"type\": \"heatmapgl\"}], \"histogram\": [{\"marker\": {\"colorbar\": {\"outlinewidth\": 0, \"ticks\": \"\"}}, \"type\": \"histogram\"}], \"histogram2d\": [{\"colorbar\": {\"outlinewidth\": 0, \"ticks\": \"\"}, \"colorscale\": [[0.0, \"#0d0887\"], [0.1111111111111111, \"#46039f\"], [0.2222222222222222, \"#7201a8\"], [0.3333333333333333, \"#9c179e\"], [0.4444444444444444, \"#bd3786\"], [0.5555555555555556, \"#d8576b\"], [0.6666666666666666, \"#ed7953\"], [0.7777777777777778, \"#fb9f3a\"], [0.8888888888888888, \"#fdca26\"], [1.0, \"#f0f921\"]], \"type\": \"histogram2d\"}], \"histogram2dcontour\": [{\"colorbar\": {\"outlinewidth\": 0, \"ticks\": \"\"}, \"colorscale\": [[0.0, \"#0d0887\"], [0.1111111111111111, \"#46039f\"], [0.2222222222222222, \"#7201a8\"], [0.3333333333333333, \"#9c179e\"], [0.4444444444444444, \"#bd3786\"], [0.5555555555555556, \"#d8576b\"], [0.6666666666666666, \"#ed7953\"], [0.7777777777777778, \"#fb9f3a\"], [0.8888888888888888, \"#fdca26\"], [1.0, \"#f0f921\"]], \"type\": \"histogram2dcontour\"}], \"mesh3d\": [{\"colorbar\": {\"outlinewidth\": 0, \"ticks\": \"\"}, \"type\": \"mesh3d\"}], \"parcoords\": [{\"line\": {\"colorbar\": {\"outlinewidth\": 0, \"ticks\": \"\"}}, \"type\": \"parcoords\"}], \"pie\": [{\"automargin\": true, \"type\": \"pie\"}], \"scatter\": [{\"marker\": {\"colorbar\": {\"outlinewidth\": 0, \"ticks\": \"\"}}, \"type\": \"scatter\"}], \"scatter3d\": [{\"line\": {\"colorbar\": {\"outlinewidth\": 0, \"ticks\": \"\"}}, \"marker\": {\"colorbar\": {\"outlinewidth\": 0, \"ticks\": \"\"}}, \"type\": \"scatter3d\"}], \"scattercarpet\": [{\"marker\": {\"colorbar\": {\"outlinewidth\": 0, \"ticks\": \"\"}}, \"type\": \"scattercarpet\"}], \"scattergeo\": [{\"marker\": {\"colorbar\": {\"outlinewidth\": 0, \"ticks\": \"\"}}, \"type\": \"scattergeo\"}], \"scattergl\": [{\"marker\": {\"colorbar\": {\"outlinewidth\": 0, \"ticks\": \"\"}}, \"type\": \"scattergl\"}], \"scattermapbox\": [{\"marker\": {\"colorbar\": {\"outlinewidth\": 0, \"ticks\": \"\"}}, \"type\": \"scattermapbox\"}], \"scatterpolar\": [{\"marker\": {\"colorbar\": {\"outlinewidth\": 0, \"ticks\": \"\"}}, \"type\": \"scatterpolar\"}], \"scatterpolargl\": [{\"marker\": {\"colorbar\": {\"outlinewidth\": 0, \"ticks\": \"\"}}, \"type\": \"scatterpolargl\"}], \"scatterternary\": [{\"marker\": {\"colorbar\": {\"outlinewidth\": 0, \"ticks\": \"\"}}, \"type\": \"scatterternary\"}], \"surface\": [{\"colorbar\": {\"outlinewidth\": 0, \"ticks\": \"\"}, \"colorscale\": [[0.0, \"#0d0887\"], [0.1111111111111111, \"#46039f\"], [0.2222222222222222, \"#7201a8\"], [0.3333333333333333, \"#9c179e\"], [0.4444444444444444, \"#bd3786\"], [0.5555555555555556, \"#d8576b\"], [0.6666666666666666, \"#ed7953\"], [0.7777777777777778, \"#fb9f3a\"], [0.8888888888888888, \"#fdca26\"], [1.0, \"#f0f921\"]], \"type\": \"surface\"}], \"table\": [{\"cells\": {\"fill\": {\"color\": \"#EBF0F8\"}, \"line\": {\"color\": \"white\"}}, \"header\": {\"fill\": {\"color\": \"#C8D4E3\"}, \"line\": {\"color\": \"white\"}}, \"type\": \"table\"}]}, \"layout\": {\"annotationdefaults\": {\"arrowcolor\": \"#2a3f5f\", \"arrowhead\": 0, \"arrowwidth\": 1}, \"coloraxis\": {\"colorbar\": {\"outlinewidth\": 0, \"ticks\": \"\"}}, \"colorscale\": {\"diverging\": [[0, \"#8e0152\"], [0.1, \"#c51b7d\"], [0.2, \"#de77ae\"], [0.3, \"#f1b6da\"], [0.4, \"#fde0ef\"], [0.5, \"#f7f7f7\"], [0.6, \"#e6f5d0\"], [0.7, \"#b8e186\"], [0.8, \"#7fbc41\"], [0.9, \"#4d9221\"], [1, \"#276419\"]], \"sequential\": [[0.0, \"#0d0887\"], [0.1111111111111111, \"#46039f\"], [0.2222222222222222, \"#7201a8\"], [0.3333333333333333, \"#9c179e\"], [0.4444444444444444, \"#bd3786\"], [0.5555555555555556, \"#d8576b\"], [0.6666666666666666, \"#ed7953\"], [0.7777777777777778, \"#fb9f3a\"], [0.8888888888888888, \"#fdca26\"], [1.0, \"#f0f921\"]], \"sequentialminus\": [[0.0, \"#0d0887\"], [0.1111111111111111, \"#46039f\"], [0.2222222222222222, \"#7201a8\"], [0.3333333333333333, \"#9c179e\"], [0.4444444444444444, \"#bd3786\"], [0.5555555555555556, \"#d8576b\"], [0.6666666666666666, \"#ed7953\"], [0.7777777777777778, \"#fb9f3a\"], [0.8888888888888888, \"#fdca26\"], [1.0, \"#f0f921\"]]}, \"colorway\": [\"#636efa\", \"#EF553B\", \"#00cc96\", \"#ab63fa\", \"#FFA15A\", \"#19d3f3\", \"#FF6692\", \"#B6E880\", \"#FF97FF\", \"#FECB52\"], \"font\": {\"color\": \"#2a3f5f\"}, \"geo\": {\"bgcolor\": \"white\", \"lakecolor\": \"white\", \"landcolor\": \"#E5ECF6\", \"showlakes\": true, \"showland\": true, \"subunitcolor\": \"white\"}, \"hoverlabel\": {\"align\": \"left\"}, \"hovermode\": \"closest\", \"mapbox\": {\"style\": \"light\"}, \"paper_bgcolor\": \"white\", \"plot_bgcolor\": \"#E5ECF6\", \"polar\": {\"angularaxis\": {\"gridcolor\": \"white\", \"linecolor\": \"white\", \"ticks\": \"\"}, \"bgcolor\": \"#E5ECF6\", \"radialaxis\": {\"gridcolor\": \"white\", \"linecolor\": \"white\", \"ticks\": \"\"}}, \"scene\": {\"xaxis\": {\"backgroundcolor\": \"#E5ECF6\", \"gridcolor\": \"white\", \"gridwidth\": 2, \"linecolor\": \"white\", \"showbackground\": true, \"ticks\": \"\", \"zerolinecolor\": \"white\"}, \"yaxis\": {\"backgroundcolor\": \"#E5ECF6\", \"gridcolor\": \"white\", \"gridwidth\": 2, \"linecolor\": \"white\", \"showbackground\": true, \"ticks\": \"\", \"zerolinecolor\": \"white\"}, \"zaxis\": {\"backgroundcolor\": \"#E5ECF6\", \"gridcolor\": \"white\", \"gridwidth\": 2, \"linecolor\": \"white\", \"showbackground\": true, \"ticks\": \"\", \"zerolinecolor\": \"white\"}}, \"shapedefaults\": {\"line\": {\"color\": \"#2a3f5f\"}}, \"ternary\": {\"aaxis\": {\"gridcolor\": \"white\", \"linecolor\": \"white\", \"ticks\": \"\"}, \"baxis\": {\"gridcolor\": \"white\", \"linecolor\": \"white\", \"ticks\": \"\"}, \"bgcolor\": \"#E5ECF6\", \"caxis\": {\"gridcolor\": \"white\", \"linecolor\": \"white\", \"ticks\": \"\"}}, \"title\": {\"x\": 0.05}, \"xaxis\": {\"automargin\": true, \"gridcolor\": \"white\", \"linecolor\": \"white\", \"ticks\": \"\", \"title\": {\"standoff\": 15}, \"zerolinecolor\": \"white\", \"zerolinewidth\": 2}, \"yaxis\": {\"automargin\": true, \"gridcolor\": \"white\", \"linecolor\": \"white\", \"ticks\": \"\", \"title\": {\"standoff\": 15}, \"zerolinecolor\": \"white\", \"zerolinewidth\": 2}}}, \"title\": {\"font\": {\"color\": \"#D9D9D9\"}}, \"xaxis\": {\"gridcolor\": \"#434343\", \"showgrid\": true, \"tickfont\": {\"color\": \"#C2C2C2\"}, \"title\": {\"font\": {\"color\": \"#D9D9D9\"}, \"text\": \"\"}, \"zerolinecolor\": \"#666570\"}, \"yaxis\": {\"gridcolor\": \"#434343\", \"showgrid\": true, \"tickfont\": {\"color\": \"#C2C2C2\"}, \"title\": {\"font\": {\"color\": \"#D9D9D9\"}, \"text\": \"\"}, \"zerolinecolor\": \"#666570\"}},\n",
       "                        {\"showLink\": true, \"linkText\": \"Export to plot.ly\", \"plotlyServerURL\": \"https://plot.ly\", \"responsive\": true}\n",
       "                    ).then(function(){\n",
       "                            \n",
       "var gd = document.getElementById('79274a66-2eb5-46db-a648-2381b69e5d17');\n",
       "var x = new MutationObserver(function (mutations, observer) {{\n",
       "        var display = window.getComputedStyle(gd).display;\n",
       "        if (!display || display === 'none') {{\n",
       "            console.log([gd, 'removed!']);\n",
       "            Plotly.purge(gd);\n",
       "            observer.disconnect();\n",
       "        }}\n",
       "}});\n",
       "\n",
       "// Listen for the removal of the full notebook cells\n",
       "var notebookContainer = gd.closest('#notebook-container');\n",
       "if (notebookContainer) {{\n",
       "    x.observe(notebookContainer, {childList: true});\n",
       "}}\n",
       "\n",
       "// Listen for the clearing of the current output cell\n",
       "var outputEl = gd.closest('.output');\n",
       "if (outputEl) {{\n",
       "    x.observe(outputEl, {childList: true});\n",
       "}}\n",
       "\n",
       "                        })\n",
       "                };\n",
       "                });\n",
       "            </script>\n",
       "        </div>"
      ]
     },
     "metadata": {},
     "output_type": "display_data"
    }
   ],
   "source": [
    "df.iplot()"
   ]
  },
  {
   "cell_type": "code",
   "execution_count": 52,
   "metadata": {},
   "outputs": [
    {
     "data": {
      "text/plain": [
       "[<matplotlib.lines.Line2D at 0x218df6e1eb8>,\n",
       " <matplotlib.lines.Line2D at 0x218df6e1fd0>,\n",
       " <matplotlib.lines.Line2D at 0x218df701160>]"
      ]
     },
     "execution_count": 52,
     "metadata": {},
     "output_type": "execute_result"
    },
    {
     "data": {
      "image/png": "[encoded data removed]",
      "text/plain": [
       "<Figure size 432x288 with 1 Axes>"
      ]
     },
     "metadata": {
      "needs_background": "dark"
     },
     "output_type": "display_data"
    }
   ],
   "source": [
    "plt.plot(df)"
   ]
  },
  {
   "cell_type": "code",
   "execution_count": 53,
   "metadata": {},
   "outputs": [
    {
     "data": {
      "application/vnd.plotly.v1+json": {
       "config": {
        "linkText": "Export to plot.ly",
        "plotlyServerURL": "https://plot.ly",
        "showLink": true
       },
       "data": [
        {
         "line": {
          "color": "rgba(255, 153, 51, 1.0)",
          "dash": "solid",
          "shape": "linear",
          "width": 1.3
         },
         "marker": {
          "size": 12,
          "symbol": "circle"
         },
         "mode": "markers",
         "name": "B",
         "text": "",
         "type": "scatter",
         "x": [
          19.05355417423916,
          18.952217225493925,
          19.865365899479734,
          19.63894883538949,
          18.69433573604271,
          20.16177760391001,
          18.706721148102186,
          20.83021578349943,
          20.813770424039916,
          21.876577899494947,
          23.4157025609715,
          22.48607651867613,
          23.25896799151132,
          24.853746571571484,
          26.399388646384505,
          27.302020733241726,
          26.601442256932568,
          26.844437565324256,
          24.88689913716809,
          25.007194393161065,
          25.465628571769408,
          24.717480092329993,
          24.89376823976289,
          24.12852385347762,
          24.682892116294685,
          24.172311582147568,
          24.94042188534207,
          23.44096989873089,
          22.720716338251737,
          24.002316726950582,
          25.069318855339,
          24.4512159216163,
          22.963361830000697,
          20.93760262243009,
          17.898001133826952,
          19.675888324282013,
          20.744858125185726,
          23.23197011092468,
          24.120654400923726,
          24.368612281042843,
          22.98387948917498,
          22.443812807233037,
          21.561799339469225,
          21.46663493633641,
          21.494712151145823,
          20.265810969262205,
          19.29283374536078,
          18.603965591064245,
          18.023265505192516,
          18.69785175886604,
          19.607959504013458,
          19.004016179600125,
          16.986759461223656,
          18.329309886042573,
          19.052399618290732,
          19.029227590135285,
          20.267392981564747,
          18.98485715628038,
          17.45220014359349,
          18.4724176135328,
          18.793109557266042,
          20.758480502975218,
          21.693841607759047,
          21.41199762345162,
          22.40769957423957,
          22.816663705235424,
          23.207709446586406,
          23.537797606994967,
          25.689798527285987,
          25.562227076430634,
          26.855415853177288,
          25.55917622084909,
          25.901748781714026,
          27.08172185921103,
          27.117412019943735,
          28.342903962632406,
          28.27067268969956,
          28.566124358905135,
          29.30358008491224,
          28.129816653061603,
          27.927104713181173,
          27.19418290107574,
          29.300173117310973,
          29.69985220771088,
          32.1568512875961,
          31.932307925439222,
          32.323043576459504,
          30.972872477316358,
          31.08736272483948,
          32.75641107457476,
          32.12766645159634,
          34.12996690601166,
          33.43424607783305,
          32.519348467732655,
          33.259861789745635,
          32.22565324660054,
          33.843995385700524,
          34.77157703363817,
          34.33037573056614,
          35.66745291542685
         ],
         "y": [
          20.224687685551356,
          21.536439565654074,
          21.672018362970196,
          22.366361690454035,
          22.093768209281308,
          23.77342317347896,
          21.805695111712296,
          20.842045670428,
          21.430651096374042,
          21.413930530697023,
          21.312356669735497,
          19.960349979970797,
          20.237370835571713,
          21.283258142565337,
          22.420773158872006,
          21.551012710301567,
          20.3569653364381,
          20.651263542071955,
          22.543617901983065,
          21.309599875528917,
          20.75926504618888,
          19.631781060746647,
          20.26848545548732,
          20.851528560744118,
          20.76848005448148,
          21.411400999579257,
          21.21495942958562,
          22.04877676072323,
          22.75235854062727,
          22.43369478495357,
          23.041266560617544,
          23.824741253326224,
          23.862846221665926,
          23.926981640728975,
          23.42223304197247,
          24.89391052726584,
          25.202050112997586,
          26.232593629331745,
          26.136291606720977,
          25.79390973986341,
          26.509119734403658,
          26.55859024588922,
          26.070832367832416,
          26.693919506567667,
          26.82528895762112,
          28.605463871107744,
          28.277318673161687,
          28.212164078599997,
          27.343268048315824,
          27.46907294696319,
          27.542122828435385,
          27.667793752924535,
          27.790056083146304,
          27.98692472906863,
          27.117414511804206,
          29.278771604726526,
          27.887134101277386,
          25.763544260321947,
          22.99730014677046,
          25.658460334790743,
          25.6233399663063,
          27.76091899673433,
          26.01680608810962,
          26.62516152228668,
          26.455325659088857,
          25.46543046931759,
          27.470368352760293,
          26.440325426923316,
          25.80987744554895,
          25.891292002734314,
          25.736758139924397,
          25.738965526604602,
          24.91063538613909,
          25.214244487860952,
          24.550886005756134,
          23.940249960473487,
          24.86476869360318,
          25.97038667509796,
          25.385713257576374,
          24.817846729590386,
          25.15495446454062,
          26.155673227886034,
          26.50727384596003,
          27.737896005494044,
          26.846300767422374,
          26.808635521563268,
          24.784149960600395,
          25.677035152020835,
          27.704830625596962,
          29.6180225812225,
          30.210529126285607,
          30.317321809807737,
          32.18867411674365,
          32.11351363502118,
          32.311632730681296,
          30.778588188023548,
          30.961984418506045,
          32.1197208587845,
          31.802136712132004,
          32.66762057325556
         ]
        }
       ],
       "layout": {
        "legend": {
         "bgcolor": "#151516",
         "font": {
          "color": "#D9D9D9"
         }
        },
        "paper_bgcolor": "#151516",
        "plot_bgcolor": "#151516",
        "template": {
         "data": {
          "bar": [
           {
            "error_x": {
             "color": "#2a3f5f"
            },
            "error_y": {
             "color": "#2a3f5f"
            },
            "marker": {
             "line": {
              "color": "#E5ECF6",
              "width": 0.5
             }
            },
            "type": "bar"
           }
          ],
          "barpolar": [
           {
            "marker": {
             "line": {
              "color": "#E5ECF6",
              "width": 0.5
             }
            },
            "type": "barpolar"
           }
          ],
          "carpet": [
           {
            "aaxis": {
             "endlinecolor": "#2a3f5f",
             "gridcolor": "white",
             "linecolor": "white",
             "minorgridcolor": "white",
             "startlinecolor": "#2a3f5f"
            },
            "baxis": {
             "endlinecolor": "#2a3f5f",
             "gridcolor": "white",
             "linecolor": "white",
             "minorgridcolor": "white",
             "startlinecolor": "#2a3f5f"
            },
            "type": "carpet"
           }
          ],
          "choropleth": [
           {
            "colorbar": {
             "outlinewidth": 0,
             "ticks": ""
            },
            "type": "choropleth"
           }
          ],
          "contour": [
           {
            "colorbar": {
             "outlinewidth": 0,
             "ticks": ""
            },
            "colorscale": [
             [
              0,
              "#0d0887"
             ],
             [
              0.1111111111111111,
              "#46039f"
             ],
             [
              0.2222222222222222,
              "#7201a8"
             ],
             [
              0.3333333333333333,
              "#9c179e"
             ],
             [
              0.4444444444444444,
              "#bd3786"
             ],
             [
              0.5555555555555556,
              "#d8576b"
             ],
             [
              0.6666666666666666,
              "#ed7953"
             ],
             [
              0.7777777777777778,
              "#fb9f3a"
             ],
             [
              0.8888888888888888,
              "#fdca26"
             ],
             [
              1,
              "#f0f921"
             ]
            ],
            "type": "contour"
           }
          ],
          "contourcarpet": [
           {
            "colorbar": {
             "outlinewidth": 0,
             "ticks": ""
            },
            "type": "contourcarpet"
           }
          ],
          "heatmap": [
           {
            "colorbar": {
             "outlinewidth": 0,
             "ticks": ""
            },
            "colorscale": [
             [
              0,
              "#0d0887"
             ],
             [
              0.1111111111111111,
              "#46039f"
             ],
             [
              0.2222222222222222,
              "#7201a8"
             ],
             [
              0.3333333333333333,
              "#9c179e"
             ],
             [
              0.4444444444444444,
              "#bd3786"
             ],
             [
              0.5555555555555556,
              "#d8576b"
             ],
             [
              0.6666666666666666,
              "#ed7953"
             ],
             [
              0.7777777777777778,
              "#fb9f3a"
             ],
             [
              0.8888888888888888,
              "#fdca26"
             ],
             [
              1,
              "#f0f921"
             ]
            ],
            "type": "heatmap"
           }
          ],
          "heatmapgl": [
           {
            "colorbar": {
             "outlinewidth": 0,
             "ticks": ""
            },
            "colorscale": [
             [
              0,
              "#0d0887"
             ],
             [
              0.1111111111111111,
              "#46039f"
             ],
             [
              0.2222222222222222,
              "#7201a8"
             ],
             [
              0.3333333333333333,
              "#9c179e"
             ],
             [
              0.4444444444444444,
              "#bd3786"
             ],
             [
              0.5555555555555556,
              "#d8576b"
             ],
             [
              0.6666666666666666,
              "#ed7953"
             ],
             [
              0.7777777777777778,
              "#fb9f3a"
             ],
             [
              0.8888888888888888,
              "#fdca26"
             ],
             [
              1,
              "#f0f921"
             ]
            ],
            "type": "heatmapgl"
           }
          ],
          "histogram": [
           {
            "marker": {
             "colorbar": {
              "outlinewidth": 0,
              "ticks": ""
             }
            },
            "type": "histogram"
           }
          ],
          "histogram2d": [
           {
            "colorbar": {
             "outlinewidth": 0,
             "ticks": ""
            },
            "colorscale": [
             [
              0,
              "#0d0887"
             ],
             [
              0.1111111111111111,
              "#46039f"
             ],
             [
              0.2222222222222222,
              "#7201a8"
             ],
             [
              0.3333333333333333,
              "#9c179e"
             ],
             [
              0.4444444444444444,
              "#bd3786"
             ],
             [
              0.5555555555555556,
              "#d8576b"
             ],
             [
              0.6666666666666666,
              "#ed7953"
             ],
             [
              0.7777777777777778,
              "#fb9f3a"
             ],
             [
              0.8888888888888888,
              "#fdca26"
             ],
             [
              1,
              "#f0f921"
             ]
            ],
            "type": "histogram2d"
           }
          ],
          "histogram2dcontour": [
           {
            "colorbar": {
             "outlinewidth": 0,
             "ticks": ""
            },
            "colorscale": [
             [
              0,
              "#0d0887"
             ],
             [
              0.1111111111111111,
              "#46039f"
             ],
             [
              0.2222222222222222,
              "#7201a8"
             ],
             [
              0.3333333333333333,
              "#9c179e"
             ],
             [
              0.4444444444444444,
              "#bd3786"
             ],
             [
              0.5555555555555556,
              "#d8576b"
             ],
             [
              0.6666666666666666,
              "#ed7953"
             ],
             [
              0.7777777777777778,
              "#fb9f3a"
             ],
             [
              0.8888888888888888,
              "#fdca26"
             ],
             [
              1,
              "#f0f921"
             ]
            ],
            "type": "histogram2dcontour"
           }
          ],
          "mesh3d": [
           {
            "colorbar": {
             "outlinewidth": 0,
             "ticks": ""
            },
            "type": "mesh3d"
           }
          ],
          "parcoords": [
           {
            "line": {
             "colorbar": {
              "outlinewidth": 0,
              "ticks": ""
             }
            },
            "type": "parcoords"
           }
          ],
          "pie": [
           {
            "automargin": true,
            "type": "pie"
           }
          ],
          "scatter": [
           {
            "marker": {
             "colorbar": {
              "outlinewidth": 0,
              "ticks": ""
             }
            },
            "type": "scatter"
           }
          ],
          "scatter3d": [
           {
            "line": {
             "colorbar": {
              "outlinewidth": 0,
              "ticks": ""
             }
            },
            "marker": {
             "colorbar": {
              "outlinewidth": 0,
              "ticks": ""
             }
            },
            "type": "scatter3d"
           }
          ],
          "scattercarpet": [
           {
            "marker": {
             "colorbar": {
              "outlinewidth": 0,
              "ticks": ""
             }
            },
            "type": "scattercarpet"
           }
          ],
          "scattergeo": [
           {
            "marker": {
             "colorbar": {
              "outlinewidth": 0,
              "ticks": ""
             }
            },
            "type": "scattergeo"
           }
          ],
          "scattergl": [
           {
            "marker": {
             "colorbar": {
              "outlinewidth": 0,
              "ticks": ""
             }
            },
            "type": "scattergl"
           }
          ],
          "scattermapbox": [
           {
            "marker": {
             "colorbar": {
              "outlinewidth": 0,
              "ticks": ""
             }
            },
            "type": "scattermapbox"
           }
          ],
          "scatterpolar": [
           {
            "marker": {
             "colorbar": {
              "outlinewidth": 0,
              "ticks": ""
             }
            },
            "type": "scatterpolar"
           }
          ],
          "scatterpolargl": [
           {
            "marker": {
             "colorbar": {
              "outlinewidth": 0,
              "ticks": ""
             }
            },
            "type": "scatterpolargl"
           }
          ],
          "scatterternary": [
           {
            "marker": {
             "colorbar": {
              "outlinewidth": 0,
              "ticks": ""
             }
            },
            "type": "scatterternary"
           }
          ],
          "surface": [
           {
            "colorbar": {
             "outlinewidth": 0,
             "ticks": ""
            },
            "colorscale": [
             [
              0,
              "#0d0887"
             ],
             [
              0.1111111111111111,
              "#46039f"
             ],
             [
              0.2222222222222222,
              "#7201a8"
             ],
             [
              0.3333333333333333,
              "#9c179e"
             ],
             [
              0.4444444444444444,
              "#bd3786"
             ],
             [
              0.5555555555555556,
              "#d8576b"
             ],
             [
              0.6666666666666666,
              "#ed7953"
             ],
             [
              0.7777777777777778,
              "#fb9f3a"
             ],
             [
              0.8888888888888888,
              "#fdca26"
             ],
             [
              1,
              "#f0f921"
             ]
            ],
            "type": "surface"
           }
          ],
          "table": [
           {
            "cells": {
             "fill": {
              "color": "#EBF0F8"
             },
             "line": {
              "color": "white"
             }
            },
            "header": {
             "fill": {
              "color": "#C8D4E3"
             },
             "line": {
              "color": "white"
             }
            },
            "type": "table"
           }
          ]
         },
         "layout": {
          "annotationdefaults": {
           "arrowcolor": "#2a3f5f",
           "arrowhead": 0,
           "arrowwidth": 1
          },
          "coloraxis": {
           "colorbar": {
            "outlinewidth": 0,
            "ticks": ""
           }
          },
          "colorscale": {
           "diverging": [
            [
             0,
             "#8e0152"
            ],
            [
             0.1,
             "#c51b7d"
            ],
            [
             0.2,
             "#de77ae"
            ],
            [
             0.3,
             "#f1b6da"
            ],
            [
             0.4,
             "#fde0ef"
            ],
            [
             0.5,
             "#f7f7f7"
            ],
            [
             0.6,
             "#e6f5d0"
            ],
            [
             0.7,
             "#b8e186"
            ],
            [
             0.8,
             "#7fbc41"
            ],
            [
             0.9,
             "#4d9221"
            ],
            [
             1,
             "#276419"
            ]
           ],
           "sequential": [
            [
             0,
             "#0d0887"
            ],
            [
             0.1111111111111111,
             "#46039f"
            ],
            [
             0.2222222222222222,
             "#7201a8"
            ],
            [
             0.3333333333333333,
             "#9c179e"
            ],
            [
             0.4444444444444444,
             "#bd3786"
            ],
            [
             0.5555555555555556,
             "#d8576b"
            ],
            [
             0.6666666666666666,
             "#ed7953"
            ],
            [
             0.7777777777777778,
             "#fb9f3a"
            ],
            [
             0.8888888888888888,
             "#fdca26"
            ],
            [
             1,
             "#f0f921"
            ]
           ],
           "sequentialminus": [
            [
             0,
             "#0d0887"
            ],
            [
             0.1111111111111111,
             "#46039f"
            ],
            [
             0.2222222222222222,
             "#7201a8"
            ],
            [
             0.3333333333333333,
             "#9c179e"
            ],
            [
             0.4444444444444444,
             "#bd3786"
            ],
            [
             0.5555555555555556,
             "#d8576b"
            ],
            [
             0.6666666666666666,
             "#ed7953"
            ],
            [
             0.7777777777777778,
             "#fb9f3a"
            ],
            [
             0.8888888888888888,
             "#fdca26"
            ],
            [
             1,
             "#f0f921"
            ]
           ]
          },
          "colorway": [
           "#636efa",
           "#EF553B",
           "#00cc96",
           "#ab63fa",
           "#FFA15A",
           "#19d3f3",
           "#FF6692",
           "#B6E880",
           "#FF97FF",
           "#FECB52"
          ],
          "font": {
           "color": "#2a3f5f"
          },
          "geo": {
           "bgcolor": "white",
           "lakecolor": "white",
           "landcolor": "#E5ECF6",
           "showlakes": true,
           "showland": true,
           "subunitcolor": "white"
          },
          "hoverlabel": {
           "align": "left"
          },
          "hovermode": "closest",
          "mapbox": {
           "style": "light"
          },
          "paper_bgcolor": "white",
          "plot_bgcolor": "#E5ECF6",
          "polar": {
           "angularaxis": {
            "gridcolor": "white",
            "linecolor": "white",
            "ticks": ""
           },
           "bgcolor": "#E5ECF6",
           "radialaxis": {
            "gridcolor": "white",
            "linecolor": "white",
            "ticks": ""
           }
          },
          "scene": {
           "xaxis": {
            "backgroundcolor": "#E5ECF6",
            "gridcolor": "white",
            "gridwidth": 2,
            "linecolor": "white",
            "showbackground": true,
            "ticks": "",
            "zerolinecolor": "white"
           },
           "yaxis": {
            "backgroundcolor": "#E5ECF6",
            "gridcolor": "white",
            "gridwidth": 2,
            "linecolor": "white",
            "showbackground": true,
            "ticks": "",
            "zerolinecolor": "white"
           },
           "zaxis": {
            "backgroundcolor": "#E5ECF6",
            "gridcolor": "white",
            "gridwidth": 2,
            "linecolor": "white",
            "showbackground": true,
            "ticks": "",
            "zerolinecolor": "white"
           }
          },
          "shapedefaults": {
           "line": {
            "color": "#2a3f5f"
           }
          },
          "ternary": {
           "aaxis": {
            "gridcolor": "white",
            "linecolor": "white",
            "ticks": ""
           },
           "baxis": {
            "gridcolor": "white",
            "linecolor": "white",
            "ticks": ""
           },
           "bgcolor": "#E5ECF6",
           "caxis": {
            "gridcolor": "white",
            "linecolor": "white",
            "ticks": ""
           }
          },
          "title": {
           "x": 0.05
          },
          "xaxis": {
           "automargin": true,
           "gridcolor": "white",
           "linecolor": "white",
           "ticks": "",
           "title": {
            "standoff": 15
           },
           "zerolinecolor": "white",
           "zerolinewidth": 2
          },
          "yaxis": {
           "automargin": true,
           "gridcolor": "white",
           "linecolor": "white",
           "ticks": "",
           "title": {
            "standoff": 15
           },
           "zerolinecolor": "white",
           "zerolinewidth": 2
          }
         }
        },
        "title": {
         "font": {
          "color": "#D9D9D9"
         }
        },
        "xaxis": {
         "gridcolor": "#434343",
         "showgrid": true,
         "tickfont": {
          "color": "#C2C2C2"
         },
         "title": {
          "font": {
           "color": "#D9D9D9"
          },
          "text": ""
         },
         "zerolinecolor": "#666570"
        },
        "yaxis": {
         "gridcolor": "#434343",
         "showgrid": true,
         "tickfont": {
          "color": "#C2C2C2"
         },
         "title": {
          "font": {
           "color": "#D9D9D9"
          },
          "text": ""
         },
         "zerolinecolor": "#666570"
        }
       }
      },
      "text/html": [
       "<div>\n",
       "        \n",
       "        \n",
       "            <div id=\"7baa978f-a591-4ba6-94d5-788dc3be6272\" class=\"plotly-graph-div\" style=\"height:525px; width:100%;\"></div>\n",
       "            <script type=\"text/javascript\">\n",
       "                require([\"plotly\"], function(Plotly) {\n",
       "                    window.PLOTLYENV=window.PLOTLYENV || {};\n",
       "                    window.PLOTLYENV.BASE_URL='https://plot.ly';\n",
       "                    \n",
       "                if (document.getElementById(\"7baa978f-a591-4ba6-94d5-788dc3be6272\")) {\n",
       "                    Plotly.newPlot(\n",
       "                        '7baa978f-a591-4ba6-94d5-788dc3be6272',\n",
       "                        [{\"line\": {\"color\": \"rgba(255, 153, 51, 1.0)\", \"dash\": \"solid\", \"shape\": \"linear\", \"width\": 1.3}, \"marker\": {\"size\": 12, \"symbol\": \"circle\"}, \"mode\": \"markers\", \"name\": \"B\", \"text\": \"\", \"type\": \"scatter\", \"x\": [19.05355417423916, 18.952217225493925, 19.865365899479734, 19.63894883538949, 18.69433573604271, 20.16177760391001, 18.706721148102186, 20.83021578349943, 20.813770424039916, 21.876577899494947, 23.4157025609715, 22.48607651867613, 23.25896799151132, 24.853746571571484, 26.399388646384505, 27.302020733241726, 26.601442256932568, 26.844437565324256, 24.88689913716809, 25.007194393161065, 25.465628571769408, 24.717480092329993, 24.89376823976289, 24.12852385347762, 24.682892116294685, 24.172311582147568, 24.94042188534207, 23.44096989873089, 22.720716338251737, 24.002316726950582, 25.069318855339, 24.4512159216163, 22.963361830000697, 20.93760262243009, 17.898001133826952, 19.675888324282013, 20.744858125185726, 23.23197011092468, 24.120654400923726, 24.368612281042843, 22.98387948917498, 22.443812807233037, 21.561799339469225, 21.46663493633641, 21.494712151145823, 20.265810969262205, 19.29283374536078, 18.603965591064245, 18.023265505192516, 18.69785175886604, 19.607959504013458, 19.004016179600125, 16.986759461223656, 18.329309886042573, 19.052399618290732, 19.029227590135285, 20.267392981564747, 18.98485715628038, 17.45220014359349, 18.4724176135328, 18.793109557266042, 20.758480502975218, 21.693841607759047, 21.41199762345162, 22.40769957423957, 22.816663705235424, 23.207709446586406, 23.537797606994967, 25.689798527285987, 25.562227076430634, 26.855415853177288, 25.55917622084909, 25.901748781714026, 27.08172185921103, 27.117412019943735, 28.342903962632406, 28.27067268969956, 28.566124358905135, 29.30358008491224, 28.129816653061603, 27.927104713181173, 27.19418290107574, 29.300173117310973, 29.69985220771088, 32.1568512875961, 31.932307925439222, 32.323043576459504, 30.972872477316358, 31.08736272483948, 32.75641107457476, 32.12766645159634, 34.12996690601166, 33.43424607783305, 32.519348467732655, 33.259861789745635, 32.22565324660054, 33.843995385700524, 34.77157703363817, 34.33037573056614, 35.66745291542685], \"y\": [20.224687685551356, 21.536439565654074, 21.672018362970196, 22.366361690454035, 22.093768209281308, 23.77342317347896, 21.805695111712296, 20.842045670428, 21.430651096374042, 21.413930530697023, 21.312356669735497, 19.960349979970797, 20.237370835571713, 21.283258142565337, 22.420773158872006, 21.551012710301567, 20.3569653364381, 20.651263542071955, 22.543617901983065, 21.309599875528917, 20.75926504618888, 19.631781060746647, 20.26848545548732, 20.851528560744118, 20.76848005448148, 21.411400999579257, 21.21495942958562, 22.04877676072323, 22.75235854062727, 22.43369478495357, 23.041266560617544, 23.824741253326224, 23.862846221665926, 23.926981640728975, 23.42223304197247, 24.89391052726584, 25.202050112997586, 26.232593629331745, 26.136291606720977, 25.79390973986341, 26.509119734403658, 26.55859024588922, 26.070832367832416, 26.693919506567667, 26.82528895762112, 28.605463871107744, 28.277318673161687, 28.212164078599997, 27.343268048315824, 27.46907294696319, 27.542122828435385, 27.667793752924535, 27.790056083146304, 27.98692472906863, 27.117414511804206, 29.278771604726526, 27.887134101277386, 25.763544260321947, 22.99730014677046, 25.658460334790743, 25.6233399663063, 27.76091899673433, 26.01680608810962, 26.62516152228668, 26.455325659088857, 25.46543046931759, 27.470368352760293, 26.440325426923316, 25.80987744554895, 25.891292002734314, 25.736758139924397, 25.738965526604602, 24.91063538613909, 25.214244487860952, 24.550886005756134, 23.940249960473487, 24.86476869360318, 25.97038667509796, 25.385713257576374, 24.817846729590386, 25.15495446454062, 26.155673227886034, 26.50727384596003, 27.737896005494044, 26.846300767422374, 26.808635521563268, 24.784149960600395, 25.677035152020835, 27.704830625596962, 29.6180225812225, 30.210529126285607, 30.317321809807737, 32.18867411674365, 32.11351363502118, 32.311632730681296, 30.778588188023548, 30.961984418506045, 32.1197208587845, 31.802136712132004, 32.66762057325556]}],\n",
       "                        {\"legend\": {\"bgcolor\": \"#151516\", \"font\": {\"color\": \"#D9D9D9\"}}, \"paper_bgcolor\": \"#151516\", \"plot_bgcolor\": \"#151516\", \"template\": {\"data\": {\"bar\": [{\"error_x\": {\"color\": \"#2a3f5f\"}, \"error_y\": {\"color\": \"#2a3f5f\"}, \"marker\": {\"line\": {\"color\": \"#E5ECF6\", \"width\": 0.5}}, \"type\": \"bar\"}], \"barpolar\": [{\"marker\": {\"line\": {\"color\": \"#E5ECF6\", \"width\": 0.5}}, \"type\": \"barpolar\"}], \"carpet\": [{\"aaxis\": {\"endlinecolor\": \"#2a3f5f\", \"gridcolor\": \"white\", \"linecolor\": \"white\", \"minorgridcolor\": \"white\", \"startlinecolor\": \"#2a3f5f\"}, \"baxis\": {\"endlinecolor\": \"#2a3f5f\", \"gridcolor\": \"white\", \"linecolor\": \"white\", \"minorgridcolor\": \"white\", \"startlinecolor\": \"#2a3f5f\"}, \"type\": \"carpet\"}], \"choropleth\": [{\"colorbar\": {\"outlinewidth\": 0, \"ticks\": \"\"}, \"type\": \"choropleth\"}], \"contour\": [{\"colorbar\": {\"outlinewidth\": 0, \"ticks\": \"\"}, \"colorscale\": [[0.0, \"#0d0887\"], [0.1111111111111111, \"#46039f\"], [0.2222222222222222, \"#7201a8\"], [0.3333333333333333, \"#9c179e\"], [0.4444444444444444, \"#bd3786\"], [0.5555555555555556, \"#d8576b\"], [0.6666666666666666, \"#ed7953\"], [0.7777777777777778, \"#fb9f3a\"], [0.8888888888888888, \"#fdca26\"], [1.0, \"#f0f921\"]], \"type\": \"contour\"}], \"contourcarpet\": [{\"colorbar\": {\"outlinewidth\": 0, \"ticks\": \"\"}, \"type\": \"contourcarpet\"}], \"heatmap\": [{\"colorbar\": {\"outlinewidth\": 0, \"ticks\": \"\"}, \"colorscale\": [[0.0, \"#0d0887\"], [0.1111111111111111, \"#46039f\"], [0.2222222222222222, \"#7201a8\"], [0.3333333333333333, \"#9c179e\"], [0.4444444444444444, \"#bd3786\"], [0.5555555555555556, \"#d8576b\"], [0.6666666666666666, \"#ed7953\"], [0.7777777777777778, \"#fb9f3a\"], [0.8888888888888888, \"#fdca26\"], [1.0, \"#f0f921\"]], \"type\": \"heatmap\"}], \"heatmapgl\": [{\"colorbar\": {\"outlinewidth\": 0, \"ticks\": \"\"}, \"colorscale\": [[0.0, \"#0d0887\"], [0.1111111111111111, \"#46039f\"], [0.2222222222222222, \"#7201a8\"], [0.3333333333333333, \"#9c179e\"], [0.4444444444444444, \"#bd3786\"], [0.5555555555555556, \"#d8576b\"], [0.6666666666666666, \"#ed7953\"], [0.7777777777777778, \"#fb9f3a\"], [0.8888888888888888, \"#fdca26\"], [1.0, \"#f0f921\"]], \"type\": \"heatmapgl\"}], \"histogram\": [{\"marker\": {\"colorbar\": {\"outlinewidth\": 0, \"ticks\": \"\"}}, \"type\": \"histogram\"}], \"histogram2d\": [{\"colorbar\": {\"outlinewidth\": 0, \"ticks\": \"\"}, \"colorscale\": [[0.0, \"#0d0887\"], [0.1111111111111111, \"#46039f\"], [0.2222222222222222, \"#7201a8\"], [0.3333333333333333, \"#9c179e\"], [0.4444444444444444, \"#bd3786\"], [0.5555555555555556, \"#d8576b\"], [0.6666666666666666, \"#ed7953\"], [0.7777777777777778, \"#fb9f3a\"], [0.8888888888888888, \"#fdca26\"], [1.0, \"#f0f921\"]], \"type\": \"histogram2d\"}], \"histogram2dcontour\": [{\"colorbar\": {\"outlinewidth\": 0, \"ticks\": \"\"}, \"colorscale\": [[0.0, \"#0d0887\"], [0.1111111111111111, \"#46039f\"], [0.2222222222222222, \"#7201a8\"], [0.3333333333333333, \"#9c179e\"], [0.4444444444444444, \"#bd3786\"], [0.5555555555555556, \"#d8576b\"], [0.6666666666666666, \"#ed7953\"], [0.7777777777777778, \"#fb9f3a\"], [0.8888888888888888, \"#fdca26\"], [1.0, \"#f0f921\"]], \"type\": \"histogram2dcontour\"}], \"mesh3d\": [{\"colorbar\": {\"outlinewidth\": 0, \"ticks\": \"\"}, \"type\": \"mesh3d\"}], \"parcoords\": [{\"line\": {\"colorbar\": {\"outlinewidth\": 0, \"ticks\": \"\"}}, \"type\": \"parcoords\"}], \"pie\": [{\"automargin\": true, \"type\": \"pie\"}], \"scatter\": [{\"marker\": {\"colorbar\": {\"outlinewidth\": 0, \"ticks\": \"\"}}, \"type\": \"scatter\"}], \"scatter3d\": [{\"line\": {\"colorbar\": {\"outlinewidth\": 0, \"ticks\": \"\"}}, \"marker\": {\"colorbar\": {\"outlinewidth\": 0, \"ticks\": \"\"}}, \"type\": \"scatter3d\"}], \"scattercarpet\": [{\"marker\": {\"colorbar\": {\"outlinewidth\": 0, \"ticks\": \"\"}}, \"type\": \"scattercarpet\"}], \"scattergeo\": [{\"marker\": {\"colorbar\": {\"outlinewidth\": 0, \"ticks\": \"\"}}, \"type\": \"scattergeo\"}], \"scattergl\": [{\"marker\": {\"colorbar\": {\"outlinewidth\": 0, \"ticks\": \"\"}}, \"type\": \"scattergl\"}], \"scattermapbox\": [{\"marker\": {\"colorbar\": {\"outlinewidth\": 0, \"ticks\": \"\"}}, \"type\": \"scattermapbox\"}], \"scatterpolar\": [{\"marker\": {\"colorbar\": {\"outlinewidth\": 0, \"ticks\": \"\"}}, \"type\": \"scatterpolar\"}], \"scatterpolargl\": [{\"marker\": {\"colorbar\": {\"outlinewidth\": 0, \"ticks\": \"\"}}, \"type\": \"scatterpolargl\"}], \"scatterternary\": [{\"marker\": {\"colorbar\": {\"outlinewidth\": 0, \"ticks\": \"\"}}, \"type\": \"scatterternary\"}], \"surface\": [{\"colorbar\": {\"outlinewidth\": 0, \"ticks\": \"\"}, \"colorscale\": [[0.0, \"#0d0887\"], [0.1111111111111111, \"#46039f\"], [0.2222222222222222, \"#7201a8\"], [0.3333333333333333, \"#9c179e\"], [0.4444444444444444, \"#bd3786\"], [0.5555555555555556, \"#d8576b\"], [0.6666666666666666, \"#ed7953\"], [0.7777777777777778, \"#fb9f3a\"], [0.8888888888888888, \"#fdca26\"], [1.0, \"#f0f921\"]], \"type\": \"surface\"}], \"table\": [{\"cells\": {\"fill\": {\"color\": \"#EBF0F8\"}, \"line\": {\"color\": \"white\"}}, \"header\": {\"fill\": {\"color\": \"#C8D4E3\"}, \"line\": {\"color\": \"white\"}}, \"type\": \"table\"}]}, \"layout\": {\"annotationdefaults\": {\"arrowcolor\": \"#2a3f5f\", \"arrowhead\": 0, \"arrowwidth\": 1}, \"coloraxis\": {\"colorbar\": {\"outlinewidth\": 0, \"ticks\": \"\"}}, \"colorscale\": {\"diverging\": [[0, \"#8e0152\"], [0.1, \"#c51b7d\"], [0.2, \"#de77ae\"], [0.3, \"#f1b6da\"], [0.4, \"#fde0ef\"], [0.5, \"#f7f7f7\"], [0.6, \"#e6f5d0\"], [0.7, \"#b8e186\"], [0.8, \"#7fbc41\"], [0.9, \"#4d9221\"], [1, \"#276419\"]], \"sequential\": [[0.0, \"#0d0887\"], [0.1111111111111111, \"#46039f\"], [0.2222222222222222, \"#7201a8\"], [0.3333333333333333, \"#9c179e\"], [0.4444444444444444, \"#bd3786\"], [0.5555555555555556, \"#d8576b\"], [0.6666666666666666, \"#ed7953\"], [0.7777777777777778, \"#fb9f3a\"], [0.8888888888888888, \"#fdca26\"], [1.0, \"#f0f921\"]], \"sequentialminus\": [[0.0, \"#0d0887\"], [0.1111111111111111, \"#46039f\"], [0.2222222222222222, \"#7201a8\"], [0.3333333333333333, \"#9c179e\"], [0.4444444444444444, \"#bd3786\"], [0.5555555555555556, \"#d8576b\"], [0.6666666666666666, \"#ed7953\"], [0.7777777777777778, \"#fb9f3a\"], [0.8888888888888888, \"#fdca26\"], [1.0, \"#f0f921\"]]}, \"colorway\": [\"#636efa\", \"#EF553B\", \"#00cc96\", \"#ab63fa\", \"#FFA15A\", \"#19d3f3\", \"#FF6692\", \"#B6E880\", \"#FF97FF\", \"#FECB52\"], \"font\": {\"color\": \"#2a3f5f\"}, \"geo\": {\"bgcolor\": \"white\", \"lakecolor\": \"white\", \"landcolor\": \"#E5ECF6\", \"showlakes\": true, \"showland\": true, \"subunitcolor\": \"white\"}, \"hoverlabel\": {\"align\": \"left\"}, \"hovermode\": \"closest\", \"mapbox\": {\"style\": \"light\"}, \"paper_bgcolor\": \"white\", \"plot_bgcolor\": \"#E5ECF6\", \"polar\": {\"angularaxis\": {\"gridcolor\": \"white\", \"linecolor\": \"white\", \"ticks\": \"\"}, \"bgcolor\": \"#E5ECF6\", \"radialaxis\": {\"gridcolor\": \"white\", \"linecolor\": \"white\", \"ticks\": \"\"}}, \"scene\": {\"xaxis\": {\"backgroundcolor\": \"#E5ECF6\", \"gridcolor\": \"white\", \"gridwidth\": 2, \"linecolor\": \"white\", \"showbackground\": true, \"ticks\": \"\", \"zerolinecolor\": \"white\"}, \"yaxis\": {\"backgroundcolor\": \"#E5ECF6\", \"gridcolor\": \"white\", \"gridwidth\": 2, \"linecolor\": \"white\", \"showbackground\": true, \"ticks\": \"\", \"zerolinecolor\": \"white\"}, \"zaxis\": {\"backgroundcolor\": \"#E5ECF6\", \"gridcolor\": \"white\", \"gridwidth\": 2, \"linecolor\": \"white\", \"showbackground\": true, \"ticks\": \"\", \"zerolinecolor\": \"white\"}}, \"shapedefaults\": {\"line\": {\"color\": \"#2a3f5f\"}}, \"ternary\": {\"aaxis\": {\"gridcolor\": \"white\", \"linecolor\": \"white\", \"ticks\": \"\"}, \"baxis\": {\"gridcolor\": \"white\", \"linecolor\": \"white\", \"ticks\": \"\"}, \"bgcolor\": \"#E5ECF6\", \"caxis\": {\"gridcolor\": \"white\", \"linecolor\": \"white\", \"ticks\": \"\"}}, \"title\": {\"x\": 0.05}, \"xaxis\": {\"automargin\": true, \"gridcolor\": \"white\", \"linecolor\": \"white\", \"ticks\": \"\", \"title\": {\"standoff\": 15}, \"zerolinecolor\": \"white\", \"zerolinewidth\": 2}, \"yaxis\": {\"automargin\": true, \"gridcolor\": \"white\", \"linecolor\": \"white\", \"ticks\": \"\", \"title\": {\"standoff\": 15}, \"zerolinecolor\": \"white\", \"zerolinewidth\": 2}}}, \"title\": {\"font\": {\"color\": \"#D9D9D9\"}}, \"xaxis\": {\"gridcolor\": \"#434343\", \"showgrid\": true, \"tickfont\": {\"color\": \"#C2C2C2\"}, \"title\": {\"font\": {\"color\": \"#D9D9D9\"}, \"text\": \"\"}, \"zerolinecolor\": \"#666570\"}, \"yaxis\": {\"gridcolor\": \"#434343\", \"showgrid\": true, \"tickfont\": {\"color\": \"#C2C2C2\"}, \"title\": {\"font\": {\"color\": \"#D9D9D9\"}, \"text\": \"\"}, \"zerolinecolor\": \"#666570\"}},\n",
       "                        {\"showLink\": true, \"linkText\": \"Export to plot.ly\", \"plotlyServerURL\": \"https://plot.ly\", \"responsive\": true}\n",
       "                    ).then(function(){\n",
       "                            \n",
       "var gd = document.getElementById('7baa978f-a591-4ba6-94d5-788dc3be6272');\n",
       "var x = new MutationObserver(function (mutations, observer) {{\n",
       "        var display = window.getComputedStyle(gd).display;\n",
       "        if (!display || display === 'none') {{\n",
       "            console.log([gd, 'removed!']);\n",
       "            Plotly.purge(gd);\n",
       "            observer.disconnect();\n",
       "        }}\n",
       "}});\n",
       "\n",
       "// Listen for the removal of the full notebook cells\n",
       "var notebookContainer = gd.closest('#notebook-container');\n",
       "if (notebookContainer) {{\n",
       "    x.observe(notebookContainer, {childList: true});\n",
       "}}\n",
       "\n",
       "// Listen for the clearing of the current output cell\n",
       "var outputEl = gd.closest('.output');\n",
       "if (outputEl) {{\n",
       "    x.observe(outputEl, {childList: true});\n",
       "}}\n",
       "\n",
       "                        })\n",
       "                };\n",
       "                });\n",
       "            </script>\n",
       "        </div>"
      ]
     },
     "metadata": {},
     "output_type": "display_data"
    }
   ],
   "source": [
    "df.iplot(x='A',y='B',mode='markers')"
   ]
  },
  {
   "cell_type": "code",
   "execution_count": 54,
   "metadata": {},
   "outputs": [
    {
     "data": {
      "text/html": [
       "<div>\n",
       "<style scoped>\n",
       "    .dataframe tbody tr th:only-of-type {\n",
       "        vertical-align: middle;\n",
       "    }\n",
       "\n",
       "    .dataframe tbody tr th {\n",
       "        vertical-align: top;\n",
       "    }\n",
       "\n",
       "    .dataframe thead th {\n",
       "        text-align: right;\n",
       "    }\n",
       "</style>\n",
       "<table border=\"1\" class=\"dataframe\">\n",
       "  <thead>\n",
       "    <tr style=\"text-align: right;\">\n",
       "      <th></th>\n",
       "      <th>survived</th>\n",
       "      <th>pclass</th>\n",
       "      <th>sex</th>\n",
       "      <th>age</th>\n",
       "      <th>sibsp</th>\n",
       "      <th>parch</th>\n",
       "      <th>fare</th>\n",
       "      <th>embarked</th>\n",
       "      <th>class</th>\n",
       "      <th>who</th>\n",
       "      <th>adult_male</th>\n",
       "      <th>deck</th>\n",
       "      <th>embark_town</th>\n",
       "      <th>alive</th>\n",
       "      <th>alone</th>\n",
       "    </tr>\n",
       "  </thead>\n",
       "  <tbody>\n",
       "    <tr>\n",
       "      <th>0</th>\n",
       "      <td>0</td>\n",
       "      <td>3</td>\n",
       "      <td>male</td>\n",
       "      <td>22.0</td>\n",
       "      <td>1</td>\n",
       "      <td>0</td>\n",
       "      <td>7.2500</td>\n",
       "      <td>S</td>\n",
       "      <td>Third</td>\n",
       "      <td>man</td>\n",
       "      <td>True</td>\n",
       "      <td>NaN</td>\n",
       "      <td>Southampton</td>\n",
       "      <td>no</td>\n",
       "      <td>False</td>\n",
       "    </tr>\n",
       "    <tr>\n",
       "      <th>1</th>\n",
       "      <td>1</td>\n",
       "      <td>1</td>\n",
       "      <td>female</td>\n",
       "      <td>38.0</td>\n",
       "      <td>1</td>\n",
       "      <td>0</td>\n",
       "      <td>71.2833</td>\n",
       "      <td>C</td>\n",
       "      <td>First</td>\n",
       "      <td>woman</td>\n",
       "      <td>False</td>\n",
       "      <td>C</td>\n",
       "      <td>Cherbourg</td>\n",
       "      <td>yes</td>\n",
       "      <td>False</td>\n",
       "    </tr>\n",
       "    <tr>\n",
       "      <th>2</th>\n",
       "      <td>1</td>\n",
       "      <td>3</td>\n",
       "      <td>female</td>\n",
       "      <td>26.0</td>\n",
       "      <td>0</td>\n",
       "      <td>0</td>\n",
       "      <td>7.9250</td>\n",
       "      <td>S</td>\n",
       "      <td>Third</td>\n",
       "      <td>woman</td>\n",
       "      <td>False</td>\n",
       "      <td>NaN</td>\n",
       "      <td>Southampton</td>\n",
       "      <td>yes</td>\n",
       "      <td>True</td>\n",
       "    </tr>\n",
       "    <tr>\n",
       "      <th>3</th>\n",
       "      <td>1</td>\n",
       "      <td>1</td>\n",
       "      <td>female</td>\n",
       "      <td>35.0</td>\n",
       "      <td>1</td>\n",
       "      <td>0</td>\n",
       "      <td>53.1000</td>\n",
       "      <td>S</td>\n",
       "      <td>First</td>\n",
       "      <td>woman</td>\n",
       "      <td>False</td>\n",
       "      <td>C</td>\n",
       "      <td>Southampton</td>\n",
       "      <td>yes</td>\n",
       "      <td>False</td>\n",
       "    </tr>\n",
       "    <tr>\n",
       "      <th>4</th>\n",
       "      <td>0</td>\n",
       "      <td>3</td>\n",
       "      <td>male</td>\n",
       "      <td>35.0</td>\n",
       "      <td>0</td>\n",
       "      <td>0</td>\n",
       "      <td>8.0500</td>\n",
       "      <td>S</td>\n",
       "      <td>Third</td>\n",
       "      <td>man</td>\n",
       "      <td>True</td>\n",
       "      <td>NaN</td>\n",
       "      <td>Southampton</td>\n",
       "      <td>no</td>\n",
       "      <td>True</td>\n",
       "    </tr>\n",
       "  </tbody>\n",
       "</table>\n",
       "</div>"
      ],
      "text/plain": [
       "   survived  pclass     sex   age  sibsp  parch     fare embarked  class  \\\n",
       "0         0       3    male  22.0      1      0   7.2500        S  Third   \n",
       "1         1       1  female  38.0      1      0  71.2833        C  First   \n",
       "2         1       3  female  26.0      0      0   7.9250        S  Third   \n",
       "3         1       1  female  35.0      1      0  53.1000        S  First   \n",
       "4         0       3    male  35.0      0      0   8.0500        S  Third   \n",
       "\n",
       "     who  adult_male deck  embark_town alive  alone  \n",
       "0    man        True  NaN  Southampton    no  False  \n",
       "1  woman       False    C    Cherbourg   yes  False  \n",
       "2  woman       False  NaN  Southampton   yes   True  \n",
       "3  woman       False    C  Southampton   yes  False  \n",
       "4    man        True  NaN  Southampton    no   True  "
      ]
     },
     "execution_count": 54,
     "metadata": {},
     "output_type": "execute_result"
    }
   ],
   "source": [
    "titanic=sns.load_dataset('titanic')\n",
    "titanic.head()"
   ]
  },
  {
   "cell_type": "code",
   "execution_count": 55,
   "metadata": {},
   "outputs": [
    {
     "data": {
      "application/vnd.plotly.v1+json": {
       "config": {
        "linkText": "Export to plot.ly",
        "plotlyServerURL": "https://plot.ly",
        "showLink": true
       },
       "data": [
        {
         "marker": {
          "color": "rgba(255, 153, 51, 0.6)",
          "line": {
           "color": "rgba(255, 153, 51, 1.0)",
           "width": 1
          }
         },
         "name": "survived",
         "orientation": "v",
         "text": "",
         "type": "bar",
         "x": [
          "male",
          "female",
          "female",
          "female",
          "male",
          "male",
          "male",
          "male",
          "female",
          "female",
          "female",
          "female",
          "male",
          "male",
          "female",
          "female",
          "male",
          "male",
          "female",
          "female",
          "male",
          "male",
          "female",
          "male",
          "female",
          "female",
          "male",
          "male",
          "female",
          "male",
          "male",
          "female",
          "female",
          "male",
          "male",
          "male",
          "male",
          "male",
          "female",
          "female",
          "female",
          "female",
          "male",
          "female",
          "female",
          "male",
          "male",
          "female",
          "male",
          "female",
          "male",
          "male",
          "female",
          "female",
          "male",
          "male",
          "female",
          "male",
          "female",
          "male",
          "male",
          "female",
          "male",
          "male",
          "male",
          "male",
          "female",
          "male",
          "female",
          "male",
          "male",
          "female",
          "male",
          "male",
          "male",
          "male",
          "male",
          "male",
          "male",
          "female",
          "male",
          "male",
          "female",
          "male",
          "female",
          "female",
          "male",
          "male",
          "female",
          "male",
          "male",
          "male",
          "male",
          "male",
          "male",
          "male",
          "male",
          "male",
          "female",
          "male",
          "female",
          "male",
          "male",
          "male",
          "male",
          "male",
          "female",
          "male",
          "male",
          "female",
          "male",
          "female",
          "male",
          "female",
          "female",
          "male",
          "male",
          "male",
          "male",
          "female",
          "male",
          "male",
          "male",
          "female",
          "male",
          "male",
          "male",
          "male",
          "female",
          "male",
          "male",
          "male",
          "female",
          "female",
          "male",
          "male",
          "female",
          "male",
          "male",
          "male",
          "female",
          "female",
          "female",
          "male",
          "male",
          "male",
          "male",
          "female",
          "male",
          "male",
          "male",
          "female",
          "male",
          "male",
          "male",
          "male",
          "female",
          "male",
          "male",
          "male",
          "male",
          "female",
          "male",
          "male",
          "male",
          "male",
          "female",
          "female",
          "male",
          "male",
          "male",
          "male",
          "female",
          "male",
          "male",
          "male",
          "male",
          "female",
          "male",
          "male",
          "female",
          "male",
          "male",
          "male",
          "female",
          "male",
          "female",
          "male",
          "male",
          "male",
          "female",
          "male",
          "female",
          "male",
          "female",
          "female",
          "male",
          "male",
          "female",
          "female",
          "male",
          "male",
          "male",
          "male",
          "male",
          "female",
          "male",
          "male",
          "female",
          "male",
          "male",
          "female",
          "male",
          "male",
          "male",
          "female",
          "female",
          "male",
          "female",
          "male",
          "male",
          "male",
          "male",
          "male",
          "male",
          "male",
          "male",
          "male",
          "male",
          "female",
          "female",
          "male",
          "male",
          "female",
          "male",
          "female",
          "male",
          "female",
          "male",
          "male",
          "female",
          "female",
          "male",
          "male",
          "male",
          "male",
          "female",
          "female",
          "male",
          "male",
          "male",
          "female",
          "male",
          "male",
          "female",
          "female",
          "female",
          "female",
          "female",
          "female",
          "male",
          "male",
          "male",
          "male",
          "female",
          "male",
          "male",
          "male",
          "female",
          "female",
          "male",
          "male",
          "female",
          "male",
          "female",
          "female",
          "female",
          "male",
          "male",
          "female",
          "male",
          "male",
          "male",
          "male",
          "male",
          "male",
          "male",
          "male",
          "male",
          "female",
          "female",
          "female",
          "male",
          "female",
          "male",
          "male",
          "male",
          "female",
          "male",
          "female",
          "female",
          "male",
          "male",
          "female",
          "male",
          "male",
          "female",
          "female",
          "male",
          "female",
          "female",
          "female",
          "female",
          "male",
          "male",
          "female",
          "female",
          "male",
          "female",
          "female",
          "male",
          "male",
          "female",
          "female",
          "male",
          "female",
          "male",
          "female",
          "female",
          "female",
          "female",
          "male",
          "male",
          "male",
          "female",
          "male",
          "male",
          "female",
          "male",
          "male",
          "male",
          "female",
          "male",
          "male",
          "male",
          "female",
          "female",
          "female",
          "male",
          "male",
          "male",
          "male",
          "male",
          "male",
          "male",
          "male",
          "female",
          "female",
          "female",
          "female",
          "male",
          "male",
          "female",
          "male",
          "male",
          "male",
          "female",
          "female",
          "female",
          "female",
          "male",
          "male",
          "male",
          "male",
          "female",
          "female",
          "female",
          "male",
          "male",
          "male",
          "female",
          "female",
          "male",
          "female",
          "male",
          "male",
          "male",
          "female",
          "male",
          "female",
          "male",
          "male",
          "male",
          "female",
          "female",
          "male",
          "female",
          "male",
          "male",
          "female",
          "male",
          "male",
          "female",
          "male",
          "female",
          "male",
          "male",
          "male",
          "male",
          "female",
          "male",
          "male",
          "female",
          "male",
          "male",
          "female",
          "female",
          "female",
          "male",
          "female",
          "male",
          "male",
          "male",
          "female",
          "male",
          "male",
          "female",
          "female",
          "male",
          "male",
          "male",
          "female",
          "female",
          "male",
          "male",
          "female",
          "female",
          "female",
          "male",
          "male",
          "female",
          "male",
          "male",
          "female",
          "male",
          "male",
          "female",
          "male",
          "female",
          "male",
          "male",
          "male",
          "male",
          "male",
          "male",
          "male",
          "male",
          "female",
          "female",
          "male",
          "male",
          "male",
          "male",
          "male",
          "male",
          "male",
          "male",
          "male",
          "male",
          "female",
          "male",
          "male",
          "female",
          "female",
          "female",
          "male",
          "male",
          "male",
          "male",
          "female",
          "male",
          "male",
          "male",
          "female",
          "male",
          "female",
          "female",
          "male",
          "male",
          "male",
          "male",
          "male",
          "male",
          "male",
          "male",
          "male",
          "female",
          "male",
          "female",
          "male",
          "male",
          "female",
          "female",
          "female",
          "female",
          "male",
          "female",
          "male",
          "male",
          "male",
          "male",
          "male",
          "male",
          "female",
          "male",
          "male",
          "female",
          "male",
          "female",
          "male",
          "female",
          "male",
          "male",
          "female",
          "male",
          "male",
          "female",
          "male",
          "male",
          "male",
          "female",
          "male",
          "male",
          "female",
          "female",
          "female",
          "male",
          "female",
          "male",
          "female",
          "female",
          "female",
          "female",
          "male",
          "male",
          "male",
          "female",
          "male",
          "male",
          "male",
          "male",
          "male",
          "male",
          "male",
          "female",
          "male",
          "female",
          "male",
          "female",
          "female",
          "male",
          "male",
          "male",
          "male",
          "female",
          "male",
          "male",
          "female",
          "male",
          "male",
          "male",
          "female",
          "male",
          "female",
          "male",
          "male",
          "female",
          "female",
          "female",
          "male",
          "female",
          "female",
          "male",
          "male",
          "male",
          "female",
          "male",
          "male",
          "male",
          "male",
          "male",
          "female",
          "male",
          "female",
          "male",
          "male",
          "female",
          "male",
          "male",
          "male",
          "female",
          "male",
          "male",
          "male",
          "male",
          "male",
          "male",
          "male",
          "female",
          "female",
          "female",
          "male",
          "female",
          "male",
          "male",
          "female",
          "male",
          "female",
          "female",
          "male",
          "male",
          "male",
          "male",
          "male",
          "male",
          "male",
          "male",
          "female",
          "male",
          "male",
          "male",
          "male",
          "male",
          "male",
          "female",
          "female",
          "male",
          "male",
          "female",
          "male",
          "male",
          "female",
          "female",
          "male",
          "female",
          "male",
          "male",
          "male",
          "male",
          "female",
          "male",
          "female",
          "male",
          "female",
          "female",
          "male",
          "male",
          "female",
          "male",
          "male",
          "male",
          "male",
          "male",
          "male",
          "male",
          "male",
          "male",
          "male",
          "male",
          "female",
          "female",
          "male",
          "male",
          "male",
          "male",
          "male",
          "male",
          "female",
          "female",
          "male",
          "female",
          "male",
          "male",
          "male",
          "male",
          "male",
          "male",
          "male",
          "male",
          "female",
          "male",
          "female",
          "male",
          "male",
          "male",
          "male",
          "male",
          "female",
          "male",
          "male",
          "female",
          "male",
          "female",
          "male",
          "male",
          "male",
          "female",
          "male",
          "female",
          "male",
          "female",
          "male",
          "male",
          "male",
          "male",
          "male",
          "female",
          "female",
          "male",
          "male",
          "female",
          "male",
          "male",
          "male",
          "male",
          "male",
          "female",
          "female",
          "male",
          "female",
          "female",
          "male",
          "male",
          "male",
          "male",
          "male",
          "female",
          "male",
          "male",
          "male",
          "male",
          "male",
          "female",
          "male",
          "male",
          "male",
          "male",
          "female",
          "male",
          "male",
          "female",
          "male",
          "male",
          "male",
          "female",
          "male",
          "male",
          "male",
          "male",
          "female",
          "male",
          "male",
          "male",
          "female",
          "male",
          "female",
          "male",
          "female",
          "male",
          "male",
          "male",
          "male",
          "female",
          "male",
          "female",
          "male",
          "male",
          "female",
          "male",
          "female",
          "female",
          "female",
          "male",
          "male",
          "male",
          "male",
          "female",
          "male",
          "male",
          "male",
          "male",
          "male",
          "female",
          "male",
          "male",
          "male",
          "female",
          "female",
          "male",
          "female",
          "male",
          "female",
          "male",
          "male",
          "male",
          "male",
          "male",
          "female",
          "male",
          "female",
          "male",
          "male",
          "male",
          "female",
          "male",
          "male",
          "female",
          "male",
          "male",
          "male",
          "female",
          "male",
          "male",
          "female",
          "male",
          "male",
          "male",
          "male",
          "male",
          "female",
          "female",
          "male",
          "male",
          "male",
          "male",
          "female",
          "male",
          "male",
          "male",
          "male",
          "male",
          "male",
          "female",
          "male",
          "male",
          "male",
          "male",
          "male",
          "male",
          "female",
          "male",
          "male",
          "female",
          "female",
          "female",
          "female",
          "female",
          "male",
          "female",
          "male",
          "male",
          "male",
          "female",
          "female",
          "male",
          "female",
          "female",
          "male",
          "male",
          "male",
          "male",
          "female",
          "male",
          "male",
          "female",
          "female",
          "male",
          "male",
          "male",
          "female",
          "female",
          "male",
          "female",
          "male",
          "male",
          "female",
          "male",
          "female",
          "female",
          "male",
          "male"
         ],
         "y": [
          0,
          1,
          1,
          1,
          0,
          0,
          0,
          0,
          1,
          1,
          1,
          1,
          0,
          0,
          0,
          1,
          0,
          1,
          0,
          1,
          0,
          1,
          1,
          1,
          0,
          1,
          0,
          0,
          1,
          0,
          0,
          1,
          1,
          0,
          0,
          0,
          1,
          0,
          0,
          1,
          0,
          0,
          0,
          1,
          1,
          0,
          0,
          1,
          0,
          0,
          0,
          0,
          1,
          1,
          0,
          1,
          1,
          0,
          1,
          0,
          0,
          1,
          0,
          0,
          0,
          1,
          1,
          0,
          1,
          0,
          0,
          0,
          0,
          0,
          1,
          0,
          0,
          0,
          1,
          1,
          0,
          1,
          1,
          0,
          1,
          1,
          0,
          0,
          1,
          0,
          0,
          0,
          0,
          0,
          0,
          0,
          0,
          1,
          1,
          0,
          0,
          0,
          0,
          0,
          0,
          0,
          1,
          1,
          0,
          1,
          0,
          0,
          0,
          0,
          0,
          0,
          0,
          0,
          0,
          0,
          0,
          0,
          0,
          1,
          0,
          1,
          0,
          1,
          1,
          0,
          0,
          0,
          0,
          1,
          0,
          0,
          1,
          0,
          0,
          0,
          0,
          1,
          1,
          0,
          0,
          0,
          1,
          0,
          0,
          0,
          0,
          1,
          0,
          0,
          0,
          0,
          1,
          0,
          0,
          0,
          0,
          1,
          0,
          0,
          0,
          1,
          1,
          0,
          0,
          0,
          0,
          0,
          1,
          0,
          0,
          0,
          0,
          0,
          0,
          0,
          0,
          0,
          0,
          1,
          1,
          0,
          1,
          1,
          0,
          0,
          1,
          0,
          1,
          1,
          1,
          1,
          0,
          0,
          1,
          0,
          0,
          0,
          0,
          0,
          1,
          0,
          0,
          1,
          1,
          1,
          0,
          1,
          0,
          0,
          0,
          1,
          1,
          0,
          1,
          0,
          1,
          0,
          0,
          0,
          1,
          0,
          1,
          0,
          0,
          0,
          1,
          0,
          0,
          1,
          0,
          0,
          0,
          1,
          0,
          0,
          0,
          1,
          0,
          0,
          0,
          0,
          0,
          1,
          1,
          0,
          0,
          0,
          0,
          0,
          0,
          1,
          1,
          1,
          1,
          1,
          0,
          1,
          0,
          0,
          0,
          0,
          0,
          1,
          1,
          1,
          0,
          1,
          1,
          0,
          1,
          1,
          0,
          0,
          0,
          1,
          0,
          0,
          0,
          1,
          0,
          0,
          1,
          0,
          1,
          1,
          1,
          1,
          0,
          0,
          0,
          0,
          0,
          0,
          1,
          1,
          1,
          1,
          0,
          1,
          0,
          1,
          1,
          1,
          0,
          1,
          1,
          1,
          0,
          0,
          0,
          1,
          1,
          0,
          1,
          1,
          0,
          0,
          1,
          1,
          0,
          1,
          0,
          1,
          1,
          1,
          1,
          0,
          0,
          0,
          1,
          0,
          0,
          1,
          1,
          0,
          1,
          1,
          0,
          0,
          0,
          1,
          1,
          1,
          1,
          0,
          0,
          0,
          0,
          0,
          0,
          0,
          1,
          0,
          1,
          1,
          0,
          0,
          0,
          0,
          0,
          0,
          1,
          1,
          1,
          1,
          1,
          0,
          0,
          0,
          0,
          1,
          1,
          0,
          0,
          0,
          1,
          1,
          0,
          1,
          0,
          0,
          0,
          1,
          0,
          1,
          1,
          1,
          0,
          1,
          1,
          0,
          0,
          0,
          0,
          1,
          1,
          0,
          0,
          0,
          0,
          0,
          0,
          1,
          0,
          0,
          0,
          0,
          1,
          0,
          1,
          0,
          1,
          1,
          0,
          0,
          0,
          0,
          0,
          0,
          0,
          0,
          1,
          1,
          0,
          1,
          1,
          1,
          1,
          0,
          0,
          1,
          0,
          1,
          0,
          0,
          1,
          0,
          0,
          1,
          1,
          1,
          1,
          1,
          1,
          1,
          0,
          0,
          0,
          1,
          0,
          1,
          0,
          1,
          1,
          0,
          1,
          0,
          0,
          0,
          0,
          0,
          0,
          0,
          0,
          1,
          0,
          0,
          1,
          1,
          0,
          0,
          0,
          0,
          0,
          1,
          0,
          0,
          0,
          1,
          1,
          0,
          1,
          0,
          0,
          1,
          0,
          0,
          0,
          0,
          0,
          0,
          1,
          0,
          0,
          0,
          0,
          0,
          0,
          0,
          1,
          0,
          1,
          1,
          0,
          1,
          1,
          0,
          1,
          1,
          0,
          0,
          1,
          0,
          1,
          0,
          1,
          0,
          0,
          1,
          0,
          0,
          1,
          0,
          0,
          0,
          1,
          0,
          0,
          1,
          0,
          1,
          0,
          1,
          0,
          1,
          1,
          0,
          0,
          1,
          0,
          0,
          1,
          1,
          0,
          1,
          1,
          0,
          0,
          1,
          1,
          0,
          1,
          0,
          1,
          1,
          0,
          0,
          0,
          0,
          0,
          0,
          0,
          0,
          0,
          1,
          1,
          1,
          1,
          1,
          0,
          0,
          1,
          1,
          0,
          1,
          1,
          1,
          0,
          0,
          0,
          1,
          0,
          1,
          0,
          0,
          0,
          1,
          0,
          0,
          0,
          0,
          1,
          0,
          0,
          1,
          1,
          0,
          0,
          0,
          1,
          0,
          0,
          1,
          1,
          1,
          0,
          0,
          1,
          0,
          0,
          1,
          0,
          0,
          1,
          0,
          0,
          1,
          1,
          0,
          0,
          0,
          0,
          1,
          0,
          0,
          1,
          0,
          1,
          0,
          0,
          1,
          0,
          0,
          0,
          0,
          0,
          1,
          0,
          1,
          1,
          1,
          0,
          1,
          0,
          1,
          0,
          1,
          0,
          1,
          0,
          0,
          0,
          0,
          0,
          0,
          1,
          0,
          0,
          0,
          1,
          0,
          0,
          0,
          0,
          1,
          1,
          0,
          0,
          1,
          0,
          0,
          0,
          1,
          0,
          1,
          0,
          1,
          0,
          0,
          0,
          0,
          0,
          0,
          0,
          1,
          1,
          1,
          1,
          0,
          0,
          0,
          0,
          1,
          0,
          0,
          1,
          1,
          0,
          0,
          0,
          0,
          1,
          1,
          1,
          1,
          1,
          0,
          1,
          0,
          0,
          0,
          1,
          1,
          0,
          0,
          1,
          0,
          0,
          0,
          1,
          0,
          1,
          1,
          0,
          0,
          1,
          0,
          0,
          0,
          0,
          0,
          0,
          1,
          0,
          0,
          1,
          0,
          1,
          0,
          1,
          0,
          0,
          1,
          0,
          0,
          1,
          1,
          0,
          0,
          1,
          1,
          0,
          0,
          0,
          1,
          0,
          0,
          1,
          1,
          0,
          1,
          0,
          0,
          0,
          0,
          0,
          0,
          0,
          0,
          1,
          0,
          0,
          1,
          0,
          1,
          1,
          1,
          0,
          0,
          0,
          0,
          1,
          0,
          1,
          0,
          0,
          0,
          0,
          0,
          0,
          0,
          1,
          1,
          0,
          0,
          0,
          1,
          1,
          1,
          1,
          0,
          0,
          0,
          0,
          1,
          0,
          0,
          0,
          0,
          0,
          0,
          0,
          0,
          0,
          0,
          1,
          1,
          0,
          1,
          0,
          0,
          0,
          1,
          1,
          1,
          1,
          1,
          0,
          0,
          0,
          1,
          0,
          0,
          1,
          1,
          0,
          0,
          1,
          0,
          0,
          0,
          0,
          0,
          0,
          1,
          0,
          0,
          0,
          1,
          0,
          1,
          1,
          1,
          1,
          0,
          0,
          0,
          1,
          0,
          0,
          1,
          1,
          0,
          0,
          1,
          0,
          1,
          0,
          0,
          1,
          1,
          0,
          0,
          0,
          1,
          1,
          0,
          0,
          0,
          0,
          0,
          0,
          1,
          0,
          1,
          0
         ]
        }
       ],
       "layout": {
        "legend": {
         "bgcolor": "#151516",
         "font": {
          "color": "#D9D9D9"
         }
        },
        "paper_bgcolor": "#151516",
        "plot_bgcolor": "#151516",
        "template": {
         "data": {
          "bar": [
           {
            "error_x": {
             "color": "#2a3f5f"
            },
            "error_y": {
             "color": "#2a3f5f"
            },
            "marker": {
             "line": {
              "color": "#E5ECF6",
              "width": 0.5
             }
            },
            "type": "bar"
           }
          ],
          "barpolar": [
           {
            "marker": {
             "line": {
              "color": "#E5ECF6",
              "width": 0.5
             }
            },
            "type": "barpolar"
           }
          ],
          "carpet": [
           {
            "aaxis": {
             "endlinecolor": "#2a3f5f",
             "gridcolor": "white",
             "linecolor": "white",
             "minorgridcolor": "white",
             "startlinecolor": "#2a3f5f"
            },
            "baxis": {
             "endlinecolor": "#2a3f5f",
             "gridcolor": "white",
             "linecolor": "white",
             "minorgridcolor": "white",
             "startlinecolor": "#2a3f5f"
            },
            "type": "carpet"
           }
          ],
          "choropleth": [
           {
            "colorbar": {
             "outlinewidth": 0,
             "ticks": ""
            },
            "type": "choropleth"
           }
          ],
          "contour": [
           {
            "colorbar": {
             "outlinewidth": 0,
             "ticks": ""
            },
            "colorscale": [
             [
              0,
              "#0d0887"
             ],
             [
              0.1111111111111111,
              "#46039f"
             ],
             [
              0.2222222222222222,
              "#7201a8"
             ],
             [
              0.3333333333333333,
              "#9c179e"
             ],
             [
              0.4444444444444444,
              "#bd3786"
             ],
             [
              0.5555555555555556,
              "#d8576b"
             ],
             [
              0.6666666666666666,
              "#ed7953"
             ],
             [
              0.7777777777777778,
              "#fb9f3a"
             ],
             [
              0.8888888888888888,
              "#fdca26"
             ],
             [
              1,
              "#f0f921"
             ]
            ],
            "type": "contour"
           }
          ],
          "contourcarpet": [
           {
            "colorbar": {
             "outlinewidth": 0,
             "ticks": ""
            },
            "type": "contourcarpet"
           }
          ],
          "heatmap": [
           {
            "colorbar": {
             "outlinewidth": 0,
             "ticks": ""
            },
            "colorscale": [
             [
              0,
              "#0d0887"
             ],
             [
              0.1111111111111111,
              "#46039f"
             ],
             [
              0.2222222222222222,
              "#7201a8"
             ],
             [
              0.3333333333333333,
              "#9c179e"
             ],
             [
              0.4444444444444444,
              "#bd3786"
             ],
             [
              0.5555555555555556,
              "#d8576b"
             ],
             [
              0.6666666666666666,
              "#ed7953"
             ],
             [
              0.7777777777777778,
              "#fb9f3a"
             ],
             [
              0.8888888888888888,
              "#fdca26"
             ],
             [
              1,
              "#f0f921"
             ]
            ],
            "type": "heatmap"
           }
          ],
          "heatmapgl": [
           {
            "colorbar": {
             "outlinewidth": 0,
             "ticks": ""
            },
            "colorscale": [
             [
              0,
              "#0d0887"
             ],
             [
              0.1111111111111111,
              "#46039f"
             ],
             [
              0.2222222222222222,
              "#7201a8"
             ],
             [
              0.3333333333333333,
              "#9c179e"
             ],
             [
              0.4444444444444444,
              "#bd3786"
             ],
             [
              0.5555555555555556,
              "#d8576b"
             ],
             [
              0.6666666666666666,
              "#ed7953"
             ],
             [
              0.7777777777777778,
              "#fb9f3a"
             ],
             [
              0.8888888888888888,
              "#fdca26"
             ],
             [
              1,
              "#f0f921"
             ]
            ],
            "type": "heatmapgl"
           }
          ],
          "histogram": [
           {
            "marker": {
             "colorbar": {
              "outlinewidth": 0,
              "ticks": ""
             }
            },
            "type": "histogram"
           }
          ],
          "histogram2d": [
           {
            "colorbar": {
             "outlinewidth": 0,
             "ticks": ""
            },
            "colorscale": [
             [
              0,
              "#0d0887"
             ],
             [
              0.1111111111111111,
              "#46039f"
             ],
             [
              0.2222222222222222,
              "#7201a8"
             ],
             [
              0.3333333333333333,
              "#9c179e"
             ],
             [
              0.4444444444444444,
              "#bd3786"
             ],
             [
              0.5555555555555556,
              "#d8576b"
             ],
             [
              0.6666666666666666,
              "#ed7953"
             ],
             [
              0.7777777777777778,
              "#fb9f3a"
             ],
             [
              0.8888888888888888,
              "#fdca26"
             ],
             [
              1,
              "#f0f921"
             ]
            ],
            "type": "histogram2d"
           }
          ],
          "histogram2dcontour": [
           {
            "colorbar": {
             "outlinewidth": 0,
             "ticks": ""
            },
            "colorscale": [
             [
              0,
              "#0d0887"
             ],
             [
              0.1111111111111111,
              "#46039f"
             ],
             [
              0.2222222222222222,
              "#7201a8"
             ],
             [
              0.3333333333333333,
              "#9c179e"
             ],
             [
              0.4444444444444444,
              "#bd3786"
             ],
             [
              0.5555555555555556,
              "#d8576b"
             ],
             [
              0.6666666666666666,
              "#ed7953"
             ],
             [
              0.7777777777777778,
              "#fb9f3a"
             ],
             [
              0.8888888888888888,
              "#fdca26"
             ],
             [
              1,
              "#f0f921"
             ]
            ],
            "type": "histogram2dcontour"
           }
          ],
          "mesh3d": [
           {
            "colorbar": {
             "outlinewidth": 0,
             "ticks": ""
            },
            "type": "mesh3d"
           }
          ],
          "parcoords": [
           {
            "line": {
             "colorbar": {
              "outlinewidth": 0,
              "ticks": ""
             }
            },
            "type": "parcoords"
           }
          ],
          "pie": [
           {
            "automargin": true,
            "type": "pie"
           }
          ],
          "scatter": [
           {
            "marker": {
             "colorbar": {
              "outlinewidth": 0,
              "ticks": ""
             }
            },
            "type": "scatter"
           }
          ],
          "scatter3d": [
           {
            "line": {
             "colorbar": {
              "outlinewidth": 0,
              "ticks": ""
             }
            },
            "marker": {
             "colorbar": {
              "outlinewidth": 0,
              "ticks": ""
             }
            },
            "type": "scatter3d"
           }
          ],
          "scattercarpet": [
           {
            "marker": {
             "colorbar": {
              "outlinewidth": 0,
              "ticks": ""
             }
            },
            "type": "scattercarpet"
           }
          ],
          "scattergeo": [
           {
            "marker": {
             "colorbar": {
              "outlinewidth": 0,
              "ticks": ""
             }
            },
            "type": "scattergeo"
           }
          ],
          "scattergl": [
           {
            "marker": {
             "colorbar": {
              "outlinewidth": 0,
              "ticks": ""
             }
            },
            "type": "scattergl"
           }
          ],
          "scattermapbox": [
           {
            "marker": {
             "colorbar": {
              "outlinewidth": 0,
              "ticks": ""
             }
            },
            "type": "scattermapbox"
           }
          ],
          "scatterpolar": [
           {
            "marker": {
             "colorbar": {
              "outlinewidth": 0,
              "ticks": ""
             }
            },
            "type": "scatterpolar"
           }
          ],
          "scatterpolargl": [
           {
            "marker": {
             "colorbar": {
              "outlinewidth": 0,
              "ticks": ""
             }
            },
            "type": "scatterpolargl"
           }
          ],
          "scatterternary": [
           {
            "marker": {
             "colorbar": {
              "outlinewidth": 0,
              "ticks": ""
             }
            },
            "type": "scatterternary"
           }
          ],
          "surface": [
           {
            "colorbar": {
             "outlinewidth": 0,
             "ticks": ""
            },
            "colorscale": [
             [
              0,
              "#0d0887"
             ],
             [
              0.1111111111111111,
              "#46039f"
             ],
             [
              0.2222222222222222,
              "#7201a8"
             ],
             [
              0.3333333333333333,
              "#9c179e"
             ],
             [
              0.4444444444444444,
              "#bd3786"
             ],
             [
              0.5555555555555556,
              "#d8576b"
             ],
             [
              0.6666666666666666,
              "#ed7953"
             ],
             [
              0.7777777777777778,
              "#fb9f3a"
             ],
             [
              0.8888888888888888,
              "#fdca26"
             ],
             [
              1,
              "#f0f921"
             ]
            ],
            "type": "surface"
           }
          ],
          "table": [
           {
            "cells": {
             "fill": {
              "color": "#EBF0F8"
             },
             "line": {
              "color": "white"
             }
            },
            "header": {
             "fill": {
              "color": "#C8D4E3"
             },
             "line": {
              "color": "white"
             }
            },
            "type": "table"
           }
          ]
         },
         "layout": {
          "annotationdefaults": {
           "arrowcolor": "#2a3f5f",
           "arrowhead": 0,
           "arrowwidth": 1
          },
          "coloraxis": {
           "colorbar": {
            "outlinewidth": 0,
            "ticks": ""
           }
          },
          "colorscale": {
           "diverging": [
            [
             0,
             "#8e0152"
            ],
            [
             0.1,
             "#c51b7d"
            ],
            [
             0.2,
             "#de77ae"
            ],
            [
             0.3,
             "#f1b6da"
            ],
            [
             0.4,
             "#fde0ef"
            ],
            [
             0.5,
             "#f7f7f7"
            ],
            [
             0.6,
             "#e6f5d0"
            ],
            [
             0.7,
             "#b8e186"
            ],
            [
             0.8,
             "#7fbc41"
            ],
            [
             0.9,
             "#4d9221"
            ],
            [
             1,
             "#276419"
            ]
           ],
           "sequential": [
            [
             0,
             "#0d0887"
            ],
            [
             0.1111111111111111,
             "#46039f"
            ],
            [
             0.2222222222222222,
             "#7201a8"
            ],
            [
             0.3333333333333333,
             "#9c179e"
            ],
            [
             0.4444444444444444,
             "#bd3786"
            ],
            [
             0.5555555555555556,
             "#d8576b"
            ],
            [
             0.6666666666666666,
             "#ed7953"
            ],
            [
             0.7777777777777778,
             "#fb9f3a"
            ],
            [
             0.8888888888888888,
             "#fdca26"
            ],
            [
             1,
             "#f0f921"
            ]
           ],
           "sequentialminus": [
            [
             0,
             "#0d0887"
            ],
            [
             0.1111111111111111,
             "#46039f"
            ],
            [
             0.2222222222222222,
             "#7201a8"
            ],
            [
             0.3333333333333333,
             "#9c179e"
            ],
            [
             0.4444444444444444,
             "#bd3786"
            ],
            [
             0.5555555555555556,
             "#d8576b"
            ],
            [
             0.6666666666666666,
             "#ed7953"
            ],
            [
             0.7777777777777778,
             "#fb9f3a"
            ],
            [
             0.8888888888888888,
             "#fdca26"
            ],
            [
             1,
             "#f0f921"
            ]
           ]
          },
          "colorway": [
           "#636efa",
           "#EF553B",
           "#00cc96",
           "#ab63fa",
           "#FFA15A",
           "#19d3f3",
           "#FF6692",
           "#B6E880",
           "#FF97FF",
           "#FECB52"
          ],
          "font": {
           "color": "#2a3f5f"
          },
          "geo": {
           "bgcolor": "white",
           "lakecolor": "white",
           "landcolor": "#E5ECF6",
           "showlakes": true,
           "showland": true,
           "subunitcolor": "white"
          },
          "hoverlabel": {
           "align": "left"
          },
          "hovermode": "closest",
          "mapbox": {
           "style": "light"
          },
          "paper_bgcolor": "white",
          "plot_bgcolor": "#E5ECF6",
          "polar": {
           "angularaxis": {
            "gridcolor": "white",
            "linecolor": "white",
            "ticks": ""
           },
           "bgcolor": "#E5ECF6",
           "radialaxis": {
            "gridcolor": "white",
            "linecolor": "white",
            "ticks": ""
           }
          },
          "scene": {
           "xaxis": {
            "backgroundcolor": "#E5ECF6",
            "gridcolor": "white",
            "gridwidth": 2,
            "linecolor": "white",
            "showbackground": true,
            "ticks": "",
            "zerolinecolor": "white"
           },
           "yaxis": {
            "backgroundcolor": "#E5ECF6",
            "gridcolor": "white",
            "gridwidth": 2,
            "linecolor": "white",
            "showbackground": true,
            "ticks": "",
            "zerolinecolor": "white"
           },
           "zaxis": {
            "backgroundcolor": "#E5ECF6",
            "gridcolor": "white",
            "gridwidth": 2,
            "linecolor": "white",
            "showbackground": true,
            "ticks": "",
            "zerolinecolor": "white"
           }
          },
          "shapedefaults": {
           "line": {
            "color": "#2a3f5f"
           }
          },
          "ternary": {
           "aaxis": {
            "gridcolor": "white",
            "linecolor": "white",
            "ticks": ""
           },
           "baxis": {
            "gridcolor": "white",
            "linecolor": "white",
            "ticks": ""
           },
           "bgcolor": "#E5ECF6",
           "caxis": {
            "gridcolor": "white",
            "linecolor": "white",
            "ticks": ""
           }
          },
          "title": {
           "x": 0.05
          },
          "xaxis": {
           "automargin": true,
           "gridcolor": "white",
           "linecolor": "white",
           "ticks": "",
           "title": {
            "standoff": 15
           },
           "zerolinecolor": "white",
           "zerolinewidth": 2
          },
          "yaxis": {
           "automargin": true,
           "gridcolor": "white",
           "linecolor": "white",
           "ticks": "",
           "title": {
            "standoff": 15
           },
           "zerolinecolor": "white",
           "zerolinewidth": 2
          }
         }
        },
        "title": {
         "font": {
          "color": "#D9D9D9"
         }
        },
        "xaxis": {
         "gridcolor": "#434343",
         "showgrid": true,
         "tickfont": {
          "color": "#C2C2C2"
         },
         "title": {
          "font": {
           "color": "#D9D9D9"
          },
          "text": "Sex"
         },
         "zerolinecolor": "#666570"
        },
        "yaxis": {
         "gridcolor": "#434343",
         "showgrid": true,
         "tickfont": {
          "color": "#C2C2C2"
         },
         "title": {
          "font": {
           "color": "#D9D9D9"
          },
          "text": "Survived"
         },
         "zerolinecolor": "#666570"
        }
       }
      },
      "text/html": [
       "<div>\n",
       "        \n",
       "        \n",
       "            <div id=\"c8f40f2b-89cf-4e9f-904a-0642d6b318a2\" class=\"plotly-graph-div\" style=\"height:525px; width:100%;\"></div>\n",
       "            <script type=\"text/javascript\">\n",
       "                require([\"plotly\"], function(Plotly) {\n",
       "                    window.PLOTLYENV=window.PLOTLYENV || {};\n",
       "                    window.PLOTLYENV.BASE_URL='https://plot.ly';\n",
       "                    \n",
       "                if (document.getElementById(\"c8f40f2b-89cf-4e9f-904a-0642d6b318a2\")) {\n",
       "                    Plotly.newPlot(\n",
       "                        'c8f40f2b-89cf-4e9f-904a-0642d6b318a2',\n",
       "                        [{\"marker\": {\"color\": \"rgba(255, 153, 51, 0.6)\", \"line\": {\"color\": \"rgba(255, 153, 51, 1.0)\", \"width\": 1}}, \"name\": \"survived\", \"orientation\": \"v\", \"text\": \"\", \"type\": \"bar\", \"x\": [\"male\", \"female\", \"female\", \"female\", \"male\", \"male\", \"male\", \"male\", \"female\", \"female\", \"female\", \"female\", \"male\", \"male\", \"female\", \"female\", \"male\", \"male\", \"female\", \"female\", \"male\", \"male\", \"female\", \"male\", \"female\", \"female\", \"male\", \"male\", \"female\", \"male\", \"male\", \"female\", \"female\", \"male\", \"male\", \"male\", \"male\", \"male\", \"female\", \"female\", \"female\", \"female\", \"male\", \"female\", \"female\", \"male\", \"male\", \"female\", \"male\", \"female\", \"male\", \"male\", \"female\", \"female\", \"male\", \"male\", \"female\", \"male\", \"female\", \"male\", \"male\", \"female\", \"male\", \"male\", \"male\", \"male\", \"female\", \"male\", \"female\", \"male\", \"male\", \"female\", \"male\", \"male\", \"male\", \"male\", \"male\", \"male\", \"male\", \"female\", \"male\", \"male\", \"female\", \"male\", \"female\", \"female\", \"male\", \"male\", \"female\", \"male\", \"male\", \"male\", \"male\", \"male\", \"male\", \"male\", \"male\", \"male\", \"female\", \"male\", \"female\", \"male\", \"male\", \"male\", \"male\", \"male\", \"female\", \"male\", \"male\", \"female\", \"male\", \"female\", \"male\", \"female\", \"female\", \"male\", \"male\", \"male\", \"male\", \"female\", \"male\", \"male\", \"male\", \"female\", \"male\", \"male\", \"male\", \"male\", \"female\", \"male\", \"male\", \"male\", \"female\", \"female\", \"male\", \"male\", \"female\", \"male\", \"male\", \"male\", \"female\", \"female\", \"female\", \"male\", \"male\", \"male\", \"male\", \"female\", \"male\", \"male\", \"male\", \"female\", \"male\", \"male\", \"male\", \"male\", \"female\", \"male\", \"male\", \"male\", \"male\", \"female\", \"male\", \"male\", \"male\", \"male\", \"female\", \"female\", \"male\", \"male\", \"male\", \"male\", \"female\", \"male\", \"male\", \"male\", \"male\", \"female\", \"male\", \"male\", \"female\", \"male\", \"male\", \"male\", \"female\", \"male\", \"female\", \"male\", \"male\", \"male\", \"female\", \"male\", \"female\", \"male\", \"female\", \"female\", \"male\", \"male\", \"female\", \"female\", \"male\", \"male\", \"male\", \"male\", \"male\", \"female\", \"male\", \"male\", \"female\", \"male\", \"male\", \"female\", \"male\", \"male\", \"male\", \"female\", \"female\", \"male\", \"female\", \"male\", \"male\", \"male\", \"male\", \"male\", \"male\", \"male\", \"male\", \"male\", \"male\", \"female\", \"female\", \"male\", \"male\", \"female\", \"male\", \"female\", \"male\", \"female\", \"male\", \"male\", \"female\", \"female\", \"male\", \"male\", \"male\", \"male\", \"female\", \"female\", \"male\", \"male\", \"male\", \"female\", \"male\", \"male\", \"female\", \"female\", \"female\", \"female\", \"female\", \"female\", \"male\", \"male\", \"male\", \"male\", \"female\", \"male\", \"male\", \"male\", \"female\", \"female\", \"male\", \"male\", \"female\", \"male\", \"female\", \"female\", \"female\", \"male\", \"male\", \"female\", \"male\", \"male\", \"male\", \"male\", \"male\", \"male\", \"male\", \"male\", \"male\", \"female\", \"female\", \"female\", \"male\", \"female\", \"male\", \"male\", \"male\", \"female\", \"male\", \"female\", \"female\", \"male\", \"male\", \"female\", \"male\", \"male\", \"female\", \"female\", \"male\", \"female\", \"female\", \"female\", \"female\", \"male\", \"male\", \"female\", \"female\", \"male\", \"female\", \"female\", \"male\", \"male\", \"female\", \"female\", \"male\", \"female\", \"male\", \"female\", \"female\", \"female\", \"female\", \"male\", \"male\", \"male\", \"female\", \"male\", \"male\", \"female\", \"male\", \"male\", \"male\", \"female\", \"male\", \"male\", \"male\", \"female\", \"female\", \"female\", \"male\", \"male\", \"male\", \"male\", \"male\", \"male\", \"male\", \"male\", \"female\", \"female\", \"female\", \"female\", \"male\", \"male\", \"female\", \"male\", \"male\", \"male\", \"female\", \"female\", \"female\", \"female\", \"male\", \"male\", \"male\", \"male\", \"female\", \"female\", \"female\", \"male\", \"male\", \"male\", \"female\", \"female\", \"male\", \"female\", \"male\", \"male\", \"male\", \"female\", \"male\", \"female\", \"male\", \"male\", \"male\", \"female\", \"female\", \"male\", \"female\", \"male\", \"male\", \"female\", \"male\", \"male\", \"female\", \"male\", \"female\", \"male\", \"male\", \"male\", \"male\", \"female\", \"male\", \"male\", \"female\", \"male\", \"male\", \"female\", \"female\", \"female\", \"male\", \"female\", \"male\", \"male\", \"male\", \"female\", \"male\", \"male\", \"female\", \"female\", \"male\", \"male\", \"male\", \"female\", \"female\", \"male\", \"male\", \"female\", \"female\", \"female\", \"male\", \"male\", \"female\", \"male\", \"male\", \"female\", \"male\", \"male\", \"female\", \"male\", \"female\", \"male\", \"male\", \"male\", \"male\", \"male\", \"male\", \"male\", \"male\", \"female\", \"female\", \"male\", \"male\", \"male\", \"male\", \"male\", \"male\", \"male\", \"male\", \"male\", \"male\", \"female\", \"male\", \"male\", \"female\", \"female\", \"female\", \"male\", \"male\", \"male\", \"male\", \"female\", \"male\", \"male\", \"male\", \"female\", \"male\", \"female\", \"female\", \"male\", \"male\", \"male\", \"male\", \"male\", \"male\", \"male\", \"male\", \"male\", \"female\", \"male\", \"female\", \"male\", \"male\", \"female\", \"female\", \"female\", \"female\", \"male\", \"female\", \"male\", \"male\", \"male\", \"male\", \"male\", \"male\", \"female\", \"male\", \"male\", \"female\", \"male\", \"female\", \"male\", \"female\", \"male\", \"male\", \"female\", \"male\", \"male\", \"female\", \"male\", \"male\", \"male\", \"female\", \"male\", \"male\", \"female\", \"female\", \"female\", \"male\", \"female\", \"male\", \"female\", \"female\", \"female\", \"female\", \"male\", \"male\", \"male\", \"female\", \"male\", \"male\", \"male\", \"male\", \"male\", \"male\", \"male\", \"female\", \"male\", \"female\", \"male\", \"female\", \"female\", \"male\", \"male\", \"male\", \"male\", \"female\", \"male\", \"male\", \"female\", \"male\", \"male\", \"male\", \"female\", \"male\", \"female\", \"male\", \"male\", \"female\", \"female\", \"female\", \"male\", \"female\", \"female\", \"male\", \"male\", \"male\", \"female\", \"male\", \"male\", \"male\", \"male\", \"male\", \"female\", \"male\", \"female\", \"male\", \"male\", \"female\", \"male\", \"male\", \"male\", \"female\", \"male\", \"male\", \"male\", \"male\", \"male\", \"male\", \"male\", \"female\", \"female\", \"female\", \"male\", \"female\", \"male\", \"male\", \"female\", \"male\", \"female\", \"female\", \"male\", \"male\", \"male\", \"male\", \"male\", \"male\", \"male\", \"male\", \"female\", \"male\", \"male\", \"male\", \"male\", \"male\", \"male\", \"female\", \"female\", \"male\", \"male\", \"female\", \"male\", \"male\", \"female\", \"female\", \"male\", \"female\", \"male\", \"male\", \"male\", \"male\", \"female\", \"male\", \"female\", \"male\", \"female\", \"female\", \"male\", \"male\", \"female\", \"male\", \"male\", \"male\", \"male\", \"male\", \"male\", \"male\", \"male\", \"male\", \"male\", \"male\", \"female\", \"female\", \"male\", \"male\", \"male\", \"male\", \"male\", \"male\", \"female\", \"female\", \"male\", \"female\", \"male\", \"male\", \"male\", \"male\", \"male\", \"male\", \"male\", \"male\", \"female\", \"male\", \"female\", \"male\", \"male\", \"male\", \"male\", \"male\", \"female\", \"male\", \"male\", \"female\", \"male\", \"female\", \"male\", \"male\", \"male\", \"female\", \"male\", \"female\", \"male\", \"female\", \"male\", \"male\", \"male\", \"male\", \"male\", \"female\", \"female\", \"male\", \"male\", \"female\", \"male\", \"male\", \"male\", \"male\", \"male\", \"female\", \"female\", \"male\", \"female\", \"female\", \"male\", \"male\", \"male\", \"male\", \"male\", \"female\", \"male\", \"male\", \"male\", \"male\", \"male\", \"female\", \"male\", \"male\", \"male\", \"male\", \"female\", \"male\", \"male\", \"female\", \"male\", \"male\", \"male\", \"female\", \"male\", \"male\", \"male\", \"male\", \"female\", \"male\", \"male\", \"male\", \"female\", \"male\", \"female\", \"male\", \"female\", \"male\", \"male\", \"male\", \"male\", \"female\", \"male\", \"female\", \"male\", \"male\", \"female\", \"male\", \"female\", \"female\", \"female\", \"male\", \"male\", \"male\", \"male\", \"female\", \"male\", \"male\", \"male\", \"male\", \"male\", \"female\", \"male\", \"male\", \"male\", \"female\", \"female\", \"male\", \"female\", \"male\", \"female\", \"male\", \"male\", \"male\", \"male\", \"male\", \"female\", \"male\", \"female\", \"male\", \"male\", \"male\", \"female\", \"male\", \"male\", \"female\", \"male\", \"male\", \"male\", \"female\", \"male\", \"male\", \"female\", \"male\", \"male\", \"male\", \"male\", \"male\", \"female\", \"female\", \"male\", \"male\", \"male\", \"male\", \"female\", \"male\", \"male\", \"male\", \"male\", \"male\", \"male\", \"female\", \"male\", \"male\", \"male\", \"male\", \"male\", \"male\", \"female\", \"male\", \"male\", \"female\", \"female\", \"female\", \"female\", \"female\", \"male\", \"female\", \"male\", \"male\", \"male\", \"female\", \"female\", \"male\", \"female\", \"female\", \"male\", \"male\", \"male\", \"male\", \"female\", \"male\", \"male\", \"female\", \"female\", \"male\", \"male\", \"male\", \"female\", \"female\", \"male\", \"female\", \"male\", \"male\", \"female\", \"male\", \"female\", \"female\", \"male\", \"male\"], \"y\": [0, 1, 1, 1, 0, 0, 0, 0, 1, 1, 1, 1, 0, 0, 0, 1, 0, 1, 0, 1, 0, 1, 1, 1, 0, 1, 0, 0, 1, 0, 0, 1, 1, 0, 0, 0, 1, 0, 0, 1, 0, 0, 0, 1, 1, 0, 0, 1, 0, 0, 0, 0, 1, 1, 0, 1, 1, 0, 1, 0, 0, 1, 0, 0, 0, 1, 1, 0, 1, 0, 0, 0, 0, 0, 1, 0, 0, 0, 1, 1, 0, 1, 1, 0, 1, 1, 0, 0, 1, 0, 0, 0, 0, 0, 0, 0, 0, 1, 1, 0, 0, 0, 0, 0, 0, 0, 1, 1, 0, 1, 0, 0, 0, 0, 0, 0, 0, 0, 0, 0, 0, 0, 0, 1, 0, 1, 0, 1, 1, 0, 0, 0, 0, 1, 0, 0, 1, 0, 0, 0, 0, 1, 1, 0, 0, 0, 1, 0, 0, 0, 0, 1, 0, 0, 0, 0, 1, 0, 0, 0, 0, 1, 0, 0, 0, 1, 1, 0, 0, 0, 0, 0, 1, 0, 0, 0, 0, 0, 0, 0, 0, 0, 0, 1, 1, 0, 1, 1, 0, 0, 1, 0, 1, 1, 1, 1, 0, 0, 1, 0, 0, 0, 0, 0, 1, 0, 0, 1, 1, 1, 0, 1, 0, 0, 0, 1, 1, 0, 1, 0, 1, 0, 0, 0, 1, 0, 1, 0, 0, 0, 1, 0, 0, 1, 0, 0, 0, 1, 0, 0, 0, 1, 0, 0, 0, 0, 0, 1, 1, 0, 0, 0, 0, 0, 0, 1, 1, 1, 1, 1, 0, 1, 0, 0, 0, 0, 0, 1, 1, 1, 0, 1, 1, 0, 1, 1, 0, 0, 0, 1, 0, 0, 0, 1, 0, 0, 1, 0, 1, 1, 1, 1, 0, 0, 0, 0, 0, 0, 1, 1, 1, 1, 0, 1, 0, 1, 1, 1, 0, 1, 1, 1, 0, 0, 0, 1, 1, 0, 1, 1, 0, 0, 1, 1, 0, 1, 0, 1, 1, 1, 1, 0, 0, 0, 1, 0, 0, 1, 1, 0, 1, 1, 0, 0, 0, 1, 1, 1, 1, 0, 0, 0, 0, 0, 0, 0, 1, 0, 1, 1, 0, 0, 0, 0, 0, 0, 1, 1, 1, 1, 1, 0, 0, 0, 0, 1, 1, 0, 0, 0, 1, 1, 0, 1, 0, 0, 0, 1, 0, 1, 1, 1, 0, 1, 1, 0, 0, 0, 0, 1, 1, 0, 0, 0, 0, 0, 0, 1, 0, 0, 0, 0, 1, 0, 1, 0, 1, 1, 0, 0, 0, 0, 0, 0, 0, 0, 1, 1, 0, 1, 1, 1, 1, 0, 0, 1, 0, 1, 0, 0, 1, 0, 0, 1, 1, 1, 1, 1, 1, 1, 0, 0, 0, 1, 0, 1, 0, 1, 1, 0, 1, 0, 0, 0, 0, 0, 0, 0, 0, 1, 0, 0, 1, 1, 0, 0, 0, 0, 0, 1, 0, 0, 0, 1, 1, 0, 1, 0, 0, 1, 0, 0, 0, 0, 0, 0, 1, 0, 0, 0, 0, 0, 0, 0, 1, 0, 1, 1, 0, 1, 1, 0, 1, 1, 0, 0, 1, 0, 1, 0, 1, 0, 0, 1, 0, 0, 1, 0, 0, 0, 1, 0, 0, 1, 0, 1, 0, 1, 0, 1, 1, 0, 0, 1, 0, 0, 1, 1, 0, 1, 1, 0, 0, 1, 1, 0, 1, 0, 1, 1, 0, 0, 0, 0, 0, 0, 0, 0, 0, 1, 1, 1, 1, 1, 0, 0, 1, 1, 0, 1, 1, 1, 0, 0, 0, 1, 0, 1, 0, 0, 0, 1, 0, 0, 0, 0, 1, 0, 0, 1, 1, 0, 0, 0, 1, 0, 0, 1, 1, 1, 0, 0, 1, 0, 0, 1, 0, 0, 1, 0, 0, 1, 1, 0, 0, 0, 0, 1, 0, 0, 1, 0, 1, 0, 0, 1, 0, 0, 0, 0, 0, 1, 0, 1, 1, 1, 0, 1, 0, 1, 0, 1, 0, 1, 0, 0, 0, 0, 0, 0, 1, 0, 0, 0, 1, 0, 0, 0, 0, 1, 1, 0, 0, 1, 0, 0, 0, 1, 0, 1, 0, 1, 0, 0, 0, 0, 0, 0, 0, 1, 1, 1, 1, 0, 0, 0, 0, 1, 0, 0, 1, 1, 0, 0, 0, 0, 1, 1, 1, 1, 1, 0, 1, 0, 0, 0, 1, 1, 0, 0, 1, 0, 0, 0, 1, 0, 1, 1, 0, 0, 1, 0, 0, 0, 0, 0, 0, 1, 0, 0, 1, 0, 1, 0, 1, 0, 0, 1, 0, 0, 1, 1, 0, 0, 1, 1, 0, 0, 0, 1, 0, 0, 1, 1, 0, 1, 0, 0, 0, 0, 0, 0, 0, 0, 1, 0, 0, 1, 0, 1, 1, 1, 0, 0, 0, 0, 1, 0, 1, 0, 0, 0, 0, 0, 0, 0, 1, 1, 0, 0, 0, 1, 1, 1, 1, 0, 0, 0, 0, 1, 0, 0, 0, 0, 0, 0, 0, 0, 0, 0, 1, 1, 0, 1, 0, 0, 0, 1, 1, 1, 1, 1, 0, 0, 0, 1, 0, 0, 1, 1, 0, 0, 1, 0, 0, 0, 0, 0, 0, 1, 0, 0, 0, 1, 0, 1, 1, 1, 1, 0, 0, 0, 1, 0, 0, 1, 1, 0, 0, 1, 0, 1, 0, 0, 1, 1, 0, 0, 0, 1, 1, 0, 0, 0, 0, 0, 0, 1, 0, 1, 0]}],\n",
       "                        {\"legend\": {\"bgcolor\": \"#151516\", \"font\": {\"color\": \"#D9D9D9\"}}, \"paper_bgcolor\": \"#151516\", \"plot_bgcolor\": \"#151516\", \"template\": {\"data\": {\"bar\": [{\"error_x\": {\"color\": \"#2a3f5f\"}, \"error_y\": {\"color\": \"#2a3f5f\"}, \"marker\": {\"line\": {\"color\": \"#E5ECF6\", \"width\": 0.5}}, \"type\": \"bar\"}], \"barpolar\": [{\"marker\": {\"line\": {\"color\": \"#E5ECF6\", \"width\": 0.5}}, \"type\": \"barpolar\"}], \"carpet\": [{\"aaxis\": {\"endlinecolor\": \"#2a3f5f\", \"gridcolor\": \"white\", \"linecolor\": \"white\", \"minorgridcolor\": \"white\", \"startlinecolor\": \"#2a3f5f\"}, \"baxis\": {\"endlinecolor\": \"#2a3f5f\", \"gridcolor\": \"white\", \"linecolor\": \"white\", \"minorgridcolor\": \"white\", \"startlinecolor\": \"#2a3f5f\"}, \"type\": \"carpet\"}], \"choropleth\": [{\"colorbar\": {\"outlinewidth\": 0, \"ticks\": \"\"}, \"type\": \"choropleth\"}], \"contour\": [{\"colorbar\": {\"outlinewidth\": 0, \"ticks\": \"\"}, \"colorscale\": [[0.0, \"#0d0887\"], [0.1111111111111111, \"#46039f\"], [0.2222222222222222, \"#7201a8\"], [0.3333333333333333, \"#9c179e\"], [0.4444444444444444, \"#bd3786\"], [0.5555555555555556, \"#d8576b\"], [0.6666666666666666, \"#ed7953\"], [0.7777777777777778, \"#fb9f3a\"], [0.8888888888888888, \"#fdca26\"], [1.0, \"#f0f921\"]], \"type\": \"contour\"}], \"contourcarpet\": [{\"colorbar\": {\"outlinewidth\": 0, \"ticks\": \"\"}, \"type\": \"contourcarpet\"}], \"heatmap\": [{\"colorbar\": {\"outlinewidth\": 0, \"ticks\": \"\"}, \"colorscale\": [[0.0, \"#0d0887\"], [0.1111111111111111, \"#46039f\"], [0.2222222222222222, \"#7201a8\"], [0.3333333333333333, \"#9c179e\"], [0.4444444444444444, \"#bd3786\"], [0.5555555555555556, \"#d8576b\"], [0.6666666666666666, \"#ed7953\"], [0.7777777777777778, \"#fb9f3a\"], [0.8888888888888888, \"#fdca26\"], [1.0, \"#f0f921\"]], \"type\": \"heatmap\"}], \"heatmapgl\": [{\"colorbar\": {\"outlinewidth\": 0, \"ticks\": \"\"}, \"colorscale\": [[0.0, \"#0d0887\"], [0.1111111111111111, \"#46039f\"], [0.2222222222222222, \"#7201a8\"], [0.3333333333333333, \"#9c179e\"], [0.4444444444444444, \"#bd3786\"], [0.5555555555555556, \"#d8576b\"], [0.6666666666666666, \"#ed7953\"], [0.7777777777777778, \"#fb9f3a\"], [0.8888888888888888, \"#fdca26\"], [1.0, \"#f0f921\"]], \"type\": \"heatmapgl\"}], \"histogram\": [{\"marker\": {\"colorbar\": {\"outlinewidth\": 0, \"ticks\": \"\"}}, \"type\": \"histogram\"}], \"histogram2d\": [{\"colorbar\": {\"outlinewidth\": 0, \"ticks\": \"\"}, \"colorscale\": [[0.0, \"#0d0887\"], [0.1111111111111111, \"#46039f\"], [0.2222222222222222, \"#7201a8\"], [0.3333333333333333, \"#9c179e\"], [0.4444444444444444, \"#bd3786\"], [0.5555555555555556, \"#d8576b\"], [0.6666666666666666, \"#ed7953\"], [0.7777777777777778, \"#fb9f3a\"], [0.8888888888888888, \"#fdca26\"], [1.0, \"#f0f921\"]], \"type\": \"histogram2d\"}], \"histogram2dcontour\": [{\"colorbar\": {\"outlinewidth\": 0, \"ticks\": \"\"}, \"colorscale\": [[0.0, \"#0d0887\"], [0.1111111111111111, \"#46039f\"], [0.2222222222222222, \"#7201a8\"], [0.3333333333333333, \"#9c179e\"], [0.4444444444444444, \"#bd3786\"], [0.5555555555555556, \"#d8576b\"], [0.6666666666666666, \"#ed7953\"], [0.7777777777777778, \"#fb9f3a\"], [0.8888888888888888, \"#fdca26\"], [1.0, \"#f0f921\"]], \"type\": \"histogram2dcontour\"}], \"mesh3d\": [{\"colorbar\": {\"outlinewidth\": 0, \"ticks\": \"\"}, \"type\": \"mesh3d\"}], \"parcoords\": [{\"line\": {\"colorbar\": {\"outlinewidth\": 0, \"ticks\": \"\"}}, \"type\": \"parcoords\"}], \"pie\": [{\"automargin\": true, \"type\": \"pie\"}], \"scatter\": [{\"marker\": {\"colorbar\": {\"outlinewidth\": 0, \"ticks\": \"\"}}, \"type\": \"scatter\"}], \"scatter3d\": [{\"line\": {\"colorbar\": {\"outlinewidth\": 0, \"ticks\": \"\"}}, \"marker\": {\"colorbar\": {\"outlinewidth\": 0, \"ticks\": \"\"}}, \"type\": \"scatter3d\"}], \"scattercarpet\": [{\"marker\": {\"colorbar\": {\"outlinewidth\": 0, \"ticks\": \"\"}}, \"type\": \"scattercarpet\"}], \"scattergeo\": [{\"marker\": {\"colorbar\": {\"outlinewidth\": 0, \"ticks\": \"\"}}, \"type\": \"scattergeo\"}], \"scattergl\": [{\"marker\": {\"colorbar\": {\"outlinewidth\": 0, \"ticks\": \"\"}}, \"type\": \"scattergl\"}], \"scattermapbox\": [{\"marker\": {\"colorbar\": {\"outlinewidth\": 0, \"ticks\": \"\"}}, \"type\": \"scattermapbox\"}], \"scatterpolar\": [{\"marker\": {\"colorbar\": {\"outlinewidth\": 0, \"ticks\": \"\"}}, \"type\": \"scatterpolar\"}], \"scatterpolargl\": [{\"marker\": {\"colorbar\": {\"outlinewidth\": 0, \"ticks\": \"\"}}, \"type\": \"scatterpolargl\"}], \"scatterternary\": [{\"marker\": {\"colorbar\": {\"outlinewidth\": 0, \"ticks\": \"\"}}, \"type\": \"scatterternary\"}], \"surface\": [{\"colorbar\": {\"outlinewidth\": 0, \"ticks\": \"\"}, \"colorscale\": [[0.0, \"#0d0887\"], [0.1111111111111111, \"#46039f\"], [0.2222222222222222, \"#7201a8\"], [0.3333333333333333, \"#9c179e\"], [0.4444444444444444, \"#bd3786\"], [0.5555555555555556, \"#d8576b\"], [0.6666666666666666, \"#ed7953\"], [0.7777777777777778, \"#fb9f3a\"], [0.8888888888888888, \"#fdca26\"], [1.0, \"#f0f921\"]], \"type\": \"surface\"}], \"table\": [{\"cells\": {\"fill\": {\"color\": \"#EBF0F8\"}, \"line\": {\"color\": \"white\"}}, \"header\": {\"fill\": {\"color\": \"#C8D4E3\"}, \"line\": {\"color\": \"white\"}}, \"type\": \"table\"}]}, \"layout\": {\"annotationdefaults\": {\"arrowcolor\": \"#2a3f5f\", \"arrowhead\": 0, \"arrowwidth\": 1}, \"coloraxis\": {\"colorbar\": {\"outlinewidth\": 0, \"ticks\": \"\"}}, \"colorscale\": {\"diverging\": [[0, \"#8e0152\"], [0.1, \"#c51b7d\"], [0.2, \"#de77ae\"], [0.3, \"#f1b6da\"], [0.4, \"#fde0ef\"], [0.5, \"#f7f7f7\"], [0.6, \"#e6f5d0\"], [0.7, \"#b8e186\"], [0.8, \"#7fbc41\"], [0.9, \"#4d9221\"], [1, \"#276419\"]], \"sequential\": [[0.0, \"#0d0887\"], [0.1111111111111111, \"#46039f\"], [0.2222222222222222, \"#7201a8\"], [0.3333333333333333, \"#9c179e\"], [0.4444444444444444, \"#bd3786\"], [0.5555555555555556, \"#d8576b\"], [0.6666666666666666, \"#ed7953\"], [0.7777777777777778, \"#fb9f3a\"], [0.8888888888888888, \"#fdca26\"], [1.0, \"#f0f921\"]], \"sequentialminus\": [[0.0, \"#0d0887\"], [0.1111111111111111, \"#46039f\"], [0.2222222222222222, \"#7201a8\"], [0.3333333333333333, \"#9c179e\"], [0.4444444444444444, \"#bd3786\"], [0.5555555555555556, \"#d8576b\"], [0.6666666666666666, \"#ed7953\"], [0.7777777777777778, \"#fb9f3a\"], [0.8888888888888888, \"#fdca26\"], [1.0, \"#f0f921\"]]}, \"colorway\": [\"#636efa\", \"#EF553B\", \"#00cc96\", \"#ab63fa\", \"#FFA15A\", \"#19d3f3\", \"#FF6692\", \"#B6E880\", \"#FF97FF\", \"#FECB52\"], \"font\": {\"color\": \"#2a3f5f\"}, \"geo\": {\"bgcolor\": \"white\", \"lakecolor\": \"white\", \"landcolor\": \"#E5ECF6\", \"showlakes\": true, \"showland\": true, \"subunitcolor\": \"white\"}, \"hoverlabel\": {\"align\": \"left\"}, \"hovermode\": \"closest\", \"mapbox\": {\"style\": \"light\"}, \"paper_bgcolor\": \"white\", \"plot_bgcolor\": \"#E5ECF6\", \"polar\": {\"angularaxis\": {\"gridcolor\": \"white\", \"linecolor\": \"white\", \"ticks\": \"\"}, \"bgcolor\": \"#E5ECF6\", \"radialaxis\": {\"gridcolor\": \"white\", \"linecolor\": \"white\", \"ticks\": \"\"}}, \"scene\": {\"xaxis\": {\"backgroundcolor\": \"#E5ECF6\", \"gridcolor\": \"white\", \"gridwidth\": 2, \"linecolor\": \"white\", \"showbackground\": true, \"ticks\": \"\", \"zerolinecolor\": \"white\"}, \"yaxis\": {\"backgroundcolor\": \"#E5ECF6\", \"gridcolor\": \"white\", \"gridwidth\": 2, \"linecolor\": \"white\", \"showbackground\": true, \"ticks\": \"\", \"zerolinecolor\": \"white\"}, \"zaxis\": {\"backgroundcolor\": \"#E5ECF6\", \"gridcolor\": \"white\", \"gridwidth\": 2, \"linecolor\": \"white\", \"showbackground\": true, \"ticks\": \"\", \"zerolinecolor\": \"white\"}}, \"shapedefaults\": {\"line\": {\"color\": \"#2a3f5f\"}}, \"ternary\": {\"aaxis\": {\"gridcolor\": \"white\", \"linecolor\": \"white\", \"ticks\": \"\"}, \"baxis\": {\"gridcolor\": \"white\", \"linecolor\": \"white\", \"ticks\": \"\"}, \"bgcolor\": \"#E5ECF6\", \"caxis\": {\"gridcolor\": \"white\", \"linecolor\": \"white\", \"ticks\": \"\"}}, \"title\": {\"x\": 0.05}, \"xaxis\": {\"automargin\": true, \"gridcolor\": \"white\", \"linecolor\": \"white\", \"ticks\": \"\", \"title\": {\"standoff\": 15}, \"zerolinecolor\": \"white\", \"zerolinewidth\": 2}, \"yaxis\": {\"automargin\": true, \"gridcolor\": \"white\", \"linecolor\": \"white\", \"ticks\": \"\", \"title\": {\"standoff\": 15}, \"zerolinecolor\": \"white\", \"zerolinewidth\": 2}}}, \"title\": {\"font\": {\"color\": \"#D9D9D9\"}}, \"xaxis\": {\"gridcolor\": \"#434343\", \"showgrid\": true, \"tickfont\": {\"color\": \"#C2C2C2\"}, \"title\": {\"font\": {\"color\": \"#D9D9D9\"}, \"text\": \"Sex\"}, \"zerolinecolor\": \"#666570\"}, \"yaxis\": {\"gridcolor\": \"#434343\", \"showgrid\": true, \"tickfont\": {\"color\": \"#C2C2C2\"}, \"title\": {\"font\": {\"color\": \"#D9D9D9\"}, \"text\": \"Survived\"}, \"zerolinecolor\": \"#666570\"}},\n",
       "                        {\"showLink\": true, \"linkText\": \"Export to plot.ly\", \"plotlyServerURL\": \"https://plot.ly\", \"responsive\": true}\n",
       "                    ).then(function(){\n",
       "                            \n",
       "var gd = document.getElementById('c8f40f2b-89cf-4e9f-904a-0642d6b318a2');\n",
       "var x = new MutationObserver(function (mutations, observer) {{\n",
       "        var display = window.getComputedStyle(gd).display;\n",
       "        if (!display || display === 'none') {{\n",
       "            console.log([gd, 'removed!']);\n",
       "            Plotly.purge(gd);\n",
       "            observer.disconnect();\n",
       "        }}\n",
       "}});\n",
       "\n",
       "// Listen for the removal of the full notebook cells\n",
       "var notebookContainer = gd.closest('#notebook-container');\n",
       "if (notebookContainer) {{\n",
       "    x.observe(notebookContainer, {childList: true});\n",
       "}}\n",
       "\n",
       "// Listen for the clearing of the current output cell\n",
       "var outputEl = gd.closest('.output');\n",
       "if (outputEl) {{\n",
       "    x.observe(outputEl, {childList: true});\n",
       "}}\n",
       "\n",
       "                        })\n",
       "                };\n",
       "                });\n",
       "            </script>\n",
       "        </div>"
      ]
     },
     "metadata": {},
     "output_type": "display_data"
    }
   ],
   "source": [
    "titanic.iplot(kind='bar',x='sex',y='survived',xTitle='Sex',yTitle='Survived',theme='solar')"
   ]
  },
  {
   "cell_type": "code",
   "execution_count": 56,
   "metadata": {},
   "outputs": [
    {
     "data": {
      "text/plain": [
       "male      577\n",
       "female    314\n",
       "Name: sex, dtype: int64"
      ]
     },
     "execution_count": 56,
     "metadata": {},
     "output_type": "execute_result"
    }
   ],
   "source": [
    "titanic['sex'].value_counts()"
   ]
  },
  {
   "cell_type": "code",
   "execution_count": 57,
   "metadata": {},
   "outputs": [
    {
     "data": {
      "text/plain": [
       "['ggplot', 'pearl', 'solar', 'space', 'white', 'polar', 'henanigans']"
      ]
     },
     "execution_count": 57,
     "metadata": {},
     "output_type": "execute_result"
    }
   ],
   "source": [
    "cf.getThemes()"
   ]
  },
  {
   "cell_type": "code",
   "execution_count": 58,
   "metadata": {},
   "outputs": [
    {
     "data": {
      "application/vnd.plotly.v1+json": {
       "config": {
        "linkText": "Export to plot.ly",
        "plotlyServerURL": "https://plot.ly",
        "showLink": true
       },
       "data": [
        {
         "marker": {
          "color": "rgba(255, 153, 51, 0.6)",
          "line": {
           "color": "rgba(255, 153, 51, 1.0)",
           "width": 1
          }
         },
         "name": "A",
         "orientation": "v",
         "text": "",
         "type": "bar",
         "x": [
          0,
          1,
          2,
          3,
          4,
          5,
          6,
          7,
          8,
          9,
          10,
          11,
          12,
          13,
          14,
          15,
          16,
          17,
          18,
          19,
          20,
          21,
          22,
          23,
          24,
          25,
          26,
          27,
          28,
          29,
          30,
          31,
          32,
          33,
          34,
          35,
          36,
          37,
          38,
          39,
          40,
          41,
          42,
          43,
          44,
          45,
          46,
          47,
          48,
          49,
          50,
          51,
          52,
          53,
          54,
          55,
          56,
          57,
          58,
          59,
          60,
          61,
          62,
          63,
          64,
          65,
          66,
          67,
          68,
          69,
          70,
          71,
          72,
          73,
          74,
          75,
          76,
          77,
          78,
          79,
          80,
          81,
          82,
          83,
          84,
          85,
          86,
          87,
          88,
          89,
          90,
          91,
          92,
          93,
          94,
          95,
          96,
          97,
          98,
          99
         ],
         "y": [
          19.05355417423916,
          18.952217225493925,
          19.865365899479734,
          19.63894883538949,
          18.69433573604271,
          20.16177760391001,
          18.706721148102186,
          20.83021578349943,
          20.813770424039916,
          21.876577899494947,
          23.4157025609715,
          22.48607651867613,
          23.25896799151132,
          24.853746571571484,
          26.399388646384505,
          27.302020733241726,
          26.601442256932568,
          26.844437565324256,
          24.88689913716809,
          25.007194393161065,
          25.465628571769408,
          24.717480092329993,
          24.89376823976289,
          24.12852385347762,
          24.682892116294685,
          24.172311582147568,
          24.94042188534207,
          23.44096989873089,
          22.720716338251737,
          24.002316726950582,
          25.069318855339,
          24.4512159216163,
          22.963361830000697,
          20.93760262243009,
          17.898001133826952,
          19.675888324282013,
          20.744858125185726,
          23.23197011092468,
          24.120654400923726,
          24.368612281042843,
          22.98387948917498,
          22.443812807233037,
          21.561799339469225,
          21.46663493633641,
          21.494712151145823,
          20.265810969262205,
          19.29283374536078,
          18.603965591064245,
          18.023265505192516,
          18.69785175886604,
          19.607959504013458,
          19.004016179600125,
          16.986759461223656,
          18.329309886042573,
          19.052399618290732,
          19.029227590135285,
          20.267392981564747,
          18.98485715628038,
          17.45220014359349,
          18.4724176135328,
          18.793109557266042,
          20.758480502975218,
          21.693841607759047,
          21.41199762345162,
          22.40769957423957,
          22.816663705235424,
          23.207709446586406,
          23.537797606994967,
          25.689798527285987,
          25.562227076430634,
          26.855415853177288,
          25.55917622084909,
          25.901748781714026,
          27.08172185921103,
          27.117412019943735,
          28.342903962632406,
          28.27067268969956,
          28.566124358905135,
          29.30358008491224,
          28.129816653061603,
          27.927104713181173,
          27.19418290107574,
          29.300173117310973,
          29.69985220771088,
          32.1568512875961,
          31.932307925439222,
          32.323043576459504,
          30.972872477316358,
          31.08736272483948,
          32.75641107457476,
          32.12766645159634,
          34.12996690601166,
          33.43424607783305,
          32.519348467732655,
          33.259861789745635,
          32.22565324660054,
          33.843995385700524,
          34.77157703363817,
          34.33037573056614,
          35.66745291542685
         ]
        },
        {
         "marker": {
          "color": "rgba(55, 128, 191, 0.6)",
          "line": {
           "color": "rgba(55, 128, 191, 1.0)",
           "width": 1
          }
         },
         "name": "B",
         "orientation": "v",
         "text": "",
         "type": "bar",
         "x": [
          0,
          1,
          2,
          3,
          4,
          5,
          6,
          7,
          8,
          9,
          10,
          11,
          12,
          13,
          14,
          15,
          16,
          17,
          18,
          19,
          20,
          21,
          22,
          23,
          24,
          25,
          26,
          27,
          28,
          29,
          30,
          31,
          32,
          33,
          34,
          35,
          36,
          37,
          38,
          39,
          40,
          41,
          42,
          43,
          44,
          45,
          46,
          47,
          48,
          49,
          50,
          51,
          52,
          53,
          54,
          55,
          56,
          57,
          58,
          59,
          60,
          61,
          62,
          63,
          64,
          65,
          66,
          67,
          68,
          69,
          70,
          71,
          72,
          73,
          74,
          75,
          76,
          77,
          78,
          79,
          80,
          81,
          82,
          83,
          84,
          85,
          86,
          87,
          88,
          89,
          90,
          91,
          92,
          93,
          94,
          95,
          96,
          97,
          98,
          99
         ],
         "y": [
          20.224687685551356,
          21.536439565654074,
          21.672018362970196,
          22.366361690454035,
          22.093768209281308,
          23.77342317347896,
          21.805695111712296,
          20.842045670428,
          21.430651096374042,
          21.413930530697023,
          21.312356669735497,
          19.960349979970797,
          20.237370835571713,
          21.283258142565337,
          22.420773158872006,
          21.551012710301567,
          20.3569653364381,
          20.651263542071955,
          22.543617901983065,
          21.309599875528917,
          20.75926504618888,
          19.631781060746647,
          20.26848545548732,
          20.851528560744118,
          20.76848005448148,
          21.411400999579257,
          21.21495942958562,
          22.04877676072323,
          22.75235854062727,
          22.43369478495357,
          23.041266560617544,
          23.824741253326224,
          23.862846221665926,
          23.926981640728975,
          23.42223304197247,
          24.89391052726584,
          25.202050112997586,
          26.232593629331745,
          26.136291606720977,
          25.79390973986341,
          26.509119734403658,
          26.55859024588922,
          26.070832367832416,
          26.693919506567667,
          26.82528895762112,
          28.605463871107744,
          28.277318673161687,
          28.212164078599997,
          27.343268048315824,
          27.46907294696319,
          27.542122828435385,
          27.667793752924535,
          27.790056083146304,
          27.98692472906863,
          27.117414511804206,
          29.278771604726526,
          27.887134101277386,
          25.763544260321947,
          22.99730014677046,
          25.658460334790743,
          25.6233399663063,
          27.76091899673433,
          26.01680608810962,
          26.62516152228668,
          26.455325659088857,
          25.46543046931759,
          27.470368352760293,
          26.440325426923316,
          25.80987744554895,
          25.891292002734314,
          25.736758139924397,
          25.738965526604602,
          24.91063538613909,
          25.214244487860952,
          24.550886005756134,
          23.940249960473487,
          24.86476869360318,
          25.97038667509796,
          25.385713257576374,
          24.817846729590386,
          25.15495446454062,
          26.155673227886034,
          26.50727384596003,
          27.737896005494044,
          26.846300767422374,
          26.808635521563268,
          24.784149960600395,
          25.677035152020835,
          27.704830625596962,
          29.6180225812225,
          30.210529126285607,
          30.317321809807737,
          32.18867411674365,
          32.11351363502118,
          32.311632730681296,
          30.778588188023548,
          30.961984418506045,
          32.1197208587845,
          31.802136712132004,
          32.66762057325556
         ]
        },
        {
         "marker": {
          "color": "rgba(50, 171, 96, 0.6)",
          "line": {
           "color": "rgba(50, 171, 96, 1.0)",
           "width": 1
          }
         },
         "name": "C",
         "orientation": "v",
         "text": "",
         "type": "bar",
         "x": [
          0,
          1,
          2,
          3,
          4,
          5,
          6,
          7,
          8,
          9,
          10,
          11,
          12,
          13,
          14,
          15,
          16,
          17,
          18,
          19,
          20,
          21,
          22,
          23,
          24,
          25,
          26,
          27,
          28,
          29,
          30,
          31,
          32,
          33,
          34,
          35,
          36,
          37,
          38,
          39,
          40,
          41,
          42,
          43,
          44,
          45,
          46,
          47,
          48,
          49,
          50,
          51,
          52,
          53,
          54,
          55,
          56,
          57,
          58,
          59,
          60,
          61,
          62,
          63,
          64,
          65,
          66,
          67,
          68,
          69,
          70,
          71,
          72,
          73,
          74,
          75,
          76,
          77,
          78,
          79,
          80,
          81,
          82,
          83,
          84,
          85,
          86,
          87,
          88,
          89,
          90,
          91,
          92,
          93,
          94,
          95,
          96,
          97,
          98,
          99
         ],
         "y": [
          20.59130510758723,
          21.270308095882953,
          21.237413885829824,
          22.158376601734638,
          20.592571302314955,
          19.219670330695607,
          19.517393137145504,
          19.557096280029477,
          20.176562147518588,
          20.237441220624994,
          23.11717949789354,
          22.2645056608889,
          22.59321708827719,
          23.786871759359794,
          24.55407224706895,
          24.31406875830635,
          22.322069415995998,
          22.497924258478594,
          19.92176319383767,
          21.05432877058883,
          21.665555687140344,
          21.727401137496823,
          20.456400629978173,
          20.887362056217096,
          21.363503700398233,
          22.20415361842026,
          23.289644148178688,
          23.556173768632235,
          22.864864670947384,
          22.624504115033208,
          21.994551342701598,
          21.1821155062218,
          21.020108146032086,
          19.641362173248904,
          19.041795644409248,
          18.944911265788072,
          17.46651075791815,
          18.108355651082846,
          16.464934091038874,
          14.198934468242438,
          14.902409381685445,
          15.296853863322646,
          14.161243286743936,
          14.830630325366688,
          15.058455844050034,
          14.627212626411847,
          13.520242609318878,
          12.298335861994438,
          11.849599644473788,
          11.470118682992505,
          11.307898569798922,
          12.069319571781275,
          12.377825603430606,
          10.935053505785588,
          9.303174350276525,
          9.317611076398162,
          9.343941802354843,
          8.794420111041577,
          9.429788661766079,
          8.80213241436428,
          8.82280579862743,
          8.409245297375467,
          7.030066184009474,
          7.720774764506679,
          8.38170330554778,
          7.368902967103656,
          7.259244354534905,
          7.048181422037999,
          7.89112658469082,
          8.040620348171347,
          7.61092664142849,
          7.885990937094235,
          6.991550147196591,
          7.159428913036839,
          6.632901294940195,
          6.8067172861791825,
          7.812223860001133,
          6.712712290315135,
          6.309104981231487,
          5.840692523829707,
          6.171335433832075,
          5.745261736312543,
          5.879900448033064,
          6.555246619105677,
          5.813463733667177,
          4.38959053747422,
          3.606719041214788,
          1.7989883150710106,
          3.0915588594432393,
          3.3118811186900743,
          4.094325863174625,
          2.8656922583841755,
          1.7212337429867866,
          2.0566141546311165,
          2.3982591520294676,
          3.4687572092798717,
          2.408982029929895,
          2.161709947421592,
          2.4764338920764963,
          3.630398333934064
         ]
        }
       ],
       "layout": {
        "bargap": 0.7,
        "barmode": "stack",
        "legend": {
         "bgcolor": "#151516",
         "font": {
          "color": "#D9D9D9"
         },
         "traceorder": "normal"
        },
        "paper_bgcolor": "#151516",
        "plot_bgcolor": "#151516",
        "template": {
         "data": {
          "bar": [
           {
            "error_x": {
             "color": "#2a3f5f"
            },
            "error_y": {
             "color": "#2a3f5f"
            },
            "marker": {
             "line": {
              "color": "#E5ECF6",
              "width": 0.5
             }
            },
            "type": "bar"
           }
          ],
          "barpolar": [
           {
            "marker": {
             "line": {
              "color": "#E5ECF6",
              "width": 0.5
             }
            },
            "type": "barpolar"
           }
          ],
          "carpet": [
           {
            "aaxis": {
             "endlinecolor": "#2a3f5f",
             "gridcolor": "white",
             "linecolor": "white",
             "minorgridcolor": "white",
             "startlinecolor": "#2a3f5f"
            },
            "baxis": {
             "endlinecolor": "#2a3f5f",
             "gridcolor": "white",
             "linecolor": "white",
             "minorgridcolor": "white",
             "startlinecolor": "#2a3f5f"
            },
            "type": "carpet"
           }
          ],
          "choropleth": [
           {
            "colorbar": {
             "outlinewidth": 0,
             "ticks": ""
            },
            "type": "choropleth"
           }
          ],
          "contour": [
           {
            "colorbar": {
             "outlinewidth": 0,
             "ticks": ""
            },
            "colorscale": [
             [
              0,
              "#0d0887"
             ],
             [
              0.1111111111111111,
              "#46039f"
             ],
             [
              0.2222222222222222,
              "#7201a8"
             ],
             [
              0.3333333333333333,
              "#9c179e"
             ],
             [
              0.4444444444444444,
              "#bd3786"
             ],
             [
              0.5555555555555556,
              "#d8576b"
             ],
             [
              0.6666666666666666,
              "#ed7953"
             ],
             [
              0.7777777777777778,
              "#fb9f3a"
             ],
             [
              0.8888888888888888,
              "#fdca26"
             ],
             [
              1,
              "#f0f921"
             ]
            ],
            "type": "contour"
           }
          ],
          "contourcarpet": [
           {
            "colorbar": {
             "outlinewidth": 0,
             "ticks": ""
            },
            "type": "contourcarpet"
           }
          ],
          "heatmap": [
           {
            "colorbar": {
             "outlinewidth": 0,
             "ticks": ""
            },
            "colorscale": [
             [
              0,
              "#0d0887"
             ],
             [
              0.1111111111111111,
              "#46039f"
             ],
             [
              0.2222222222222222,
              "#7201a8"
             ],
             [
              0.3333333333333333,
              "#9c179e"
             ],
             [
              0.4444444444444444,
              "#bd3786"
             ],
             [
              0.5555555555555556,
              "#d8576b"
             ],
             [
              0.6666666666666666,
              "#ed7953"
             ],
             [
              0.7777777777777778,
              "#fb9f3a"
             ],
             [
              0.8888888888888888,
              "#fdca26"
             ],
             [
              1,
              "#f0f921"
             ]
            ],
            "type": "heatmap"
           }
          ],
          "heatmapgl": [
           {
            "colorbar": {
             "outlinewidth": 0,
             "ticks": ""
            },
            "colorscale": [
             [
              0,
              "#0d0887"
             ],
             [
              0.1111111111111111,
              "#46039f"
             ],
             [
              0.2222222222222222,
              "#7201a8"
             ],
             [
              0.3333333333333333,
              "#9c179e"
             ],
             [
              0.4444444444444444,
              "#bd3786"
             ],
             [
              0.5555555555555556,
              "#d8576b"
             ],
             [
              0.6666666666666666,
              "#ed7953"
             ],
             [
              0.7777777777777778,
              "#fb9f3a"
             ],
             [
              0.8888888888888888,
              "#fdca26"
             ],
             [
              1,
              "#f0f921"
             ]
            ],
            "type": "heatmapgl"
           }
          ],
          "histogram": [
           {
            "marker": {
             "colorbar": {
              "outlinewidth": 0,
              "ticks": ""
             }
            },
            "type": "histogram"
           }
          ],
          "histogram2d": [
           {
            "colorbar": {
             "outlinewidth": 0,
             "ticks": ""
            },
            "colorscale": [
             [
              0,
              "#0d0887"
             ],
             [
              0.1111111111111111,
              "#46039f"
             ],
             [
              0.2222222222222222,
              "#7201a8"
             ],
             [
              0.3333333333333333,
              "#9c179e"
             ],
             [
              0.4444444444444444,
              "#bd3786"
             ],
             [
              0.5555555555555556,
              "#d8576b"
             ],
             [
              0.6666666666666666,
              "#ed7953"
             ],
             [
              0.7777777777777778,
              "#fb9f3a"
             ],
             [
              0.8888888888888888,
              "#fdca26"
             ],
             [
              1,
              "#f0f921"
             ]
            ],
            "type": "histogram2d"
           }
          ],
          "histogram2dcontour": [
           {
            "colorbar": {
             "outlinewidth": 0,
             "ticks": ""
            },
            "colorscale": [
             [
              0,
              "#0d0887"
             ],
             [
              0.1111111111111111,
              "#46039f"
             ],
             [
              0.2222222222222222,
              "#7201a8"
             ],
             [
              0.3333333333333333,
              "#9c179e"
             ],
             [
              0.4444444444444444,
              "#bd3786"
             ],
             [
              0.5555555555555556,
              "#d8576b"
             ],
             [
              0.6666666666666666,
              "#ed7953"
             ],
             [
              0.7777777777777778,
              "#fb9f3a"
             ],
             [
              0.8888888888888888,
              "#fdca26"
             ],
             [
              1,
              "#f0f921"
             ]
            ],
            "type": "histogram2dcontour"
           }
          ],
          "mesh3d": [
           {
            "colorbar": {
             "outlinewidth": 0,
             "ticks": ""
            },
            "type": "mesh3d"
           }
          ],
          "parcoords": [
           {
            "line": {
             "colorbar": {
              "outlinewidth": 0,
              "ticks": ""
             }
            },
            "type": "parcoords"
           }
          ],
          "pie": [
           {
            "automargin": true,
            "type": "pie"
           }
          ],
          "scatter": [
           {
            "marker": {
             "colorbar": {
              "outlinewidth": 0,
              "ticks": ""
             }
            },
            "type": "scatter"
           }
          ],
          "scatter3d": [
           {
            "line": {
             "colorbar": {
              "outlinewidth": 0,
              "ticks": ""
             }
            },
            "marker": {
             "colorbar": {
              "outlinewidth": 0,
              "ticks": ""
             }
            },
            "type": "scatter3d"
           }
          ],
          "scattercarpet": [
           {
            "marker": {
             "colorbar": {
              "outlinewidth": 0,
              "ticks": ""
             }
            },
            "type": "scattercarpet"
           }
          ],
          "scattergeo": [
           {
            "marker": {
             "colorbar": {
              "outlinewidth": 0,
              "ticks": ""
             }
            },
            "type": "scattergeo"
           }
          ],
          "scattergl": [
           {
            "marker": {
             "colorbar": {
              "outlinewidth": 0,
              "ticks": ""
             }
            },
            "type": "scattergl"
           }
          ],
          "scattermapbox": [
           {
            "marker": {
             "colorbar": {
              "outlinewidth": 0,
              "ticks": ""
             }
            },
            "type": "scattermapbox"
           }
          ],
          "scatterpolar": [
           {
            "marker": {
             "colorbar": {
              "outlinewidth": 0,
              "ticks": ""
             }
            },
            "type": "scatterpolar"
           }
          ],
          "scatterpolargl": [
           {
            "marker": {
             "colorbar": {
              "outlinewidth": 0,
              "ticks": ""
             }
            },
            "type": "scatterpolargl"
           }
          ],
          "scatterternary": [
           {
            "marker": {
             "colorbar": {
              "outlinewidth": 0,
              "ticks": ""
             }
            },
            "type": "scatterternary"
           }
          ],
          "surface": [
           {
            "colorbar": {
             "outlinewidth": 0,
             "ticks": ""
            },
            "colorscale": [
             [
              0,
              "#0d0887"
             ],
             [
              0.1111111111111111,
              "#46039f"
             ],
             [
              0.2222222222222222,
              "#7201a8"
             ],
             [
              0.3333333333333333,
              "#9c179e"
             ],
             [
              0.4444444444444444,
              "#bd3786"
             ],
             [
              0.5555555555555556,
              "#d8576b"
             ],
             [
              0.6666666666666666,
              "#ed7953"
             ],
             [
              0.7777777777777778,
              "#fb9f3a"
             ],
             [
              0.8888888888888888,
              "#fdca26"
             ],
             [
              1,
              "#f0f921"
             ]
            ],
            "type": "surface"
           }
          ],
          "table": [
           {
            "cells": {
             "fill": {
              "color": "#EBF0F8"
             },
             "line": {
              "color": "white"
             }
            },
            "header": {
             "fill": {
              "color": "#C8D4E3"
             },
             "line": {
              "color": "white"
             }
            },
            "type": "table"
           }
          ]
         },
         "layout": {
          "annotationdefaults": {
           "arrowcolor": "#2a3f5f",
           "arrowhead": 0,
           "arrowwidth": 1
          },
          "coloraxis": {
           "colorbar": {
            "outlinewidth": 0,
            "ticks": ""
           }
          },
          "colorscale": {
           "diverging": [
            [
             0,
             "#8e0152"
            ],
            [
             0.1,
             "#c51b7d"
            ],
            [
             0.2,
             "#de77ae"
            ],
            [
             0.3,
             "#f1b6da"
            ],
            [
             0.4,
             "#fde0ef"
            ],
            [
             0.5,
             "#f7f7f7"
            ],
            [
             0.6,
             "#e6f5d0"
            ],
            [
             0.7,
             "#b8e186"
            ],
            [
             0.8,
             "#7fbc41"
            ],
            [
             0.9,
             "#4d9221"
            ],
            [
             1,
             "#276419"
            ]
           ],
           "sequential": [
            [
             0,
             "#0d0887"
            ],
            [
             0.1111111111111111,
             "#46039f"
            ],
            [
             0.2222222222222222,
             "#7201a8"
            ],
            [
             0.3333333333333333,
             "#9c179e"
            ],
            [
             0.4444444444444444,
             "#bd3786"
            ],
            [
             0.5555555555555556,
             "#d8576b"
            ],
            [
             0.6666666666666666,
             "#ed7953"
            ],
            [
             0.7777777777777778,
             "#fb9f3a"
            ],
            [
             0.8888888888888888,
             "#fdca26"
            ],
            [
             1,
             "#f0f921"
            ]
           ],
           "sequentialminus": [
            [
             0,
             "#0d0887"
            ],
            [
             0.1111111111111111,
             "#46039f"
            ],
            [
             0.2222222222222222,
             "#7201a8"
            ],
            [
             0.3333333333333333,
             "#9c179e"
            ],
            [
             0.4444444444444444,
             "#bd3786"
            ],
            [
             0.5555555555555556,
             "#d8576b"
            ],
            [
             0.6666666666666666,
             "#ed7953"
            ],
            [
             0.7777777777777778,
             "#fb9f3a"
            ],
            [
             0.8888888888888888,
             "#fdca26"
            ],
            [
             1,
             "#f0f921"
            ]
           ]
          },
          "colorway": [
           "#636efa",
           "#EF553B",
           "#00cc96",
           "#ab63fa",
           "#FFA15A",
           "#19d3f3",
           "#FF6692",
           "#B6E880",
           "#FF97FF",
           "#FECB52"
          ],
          "font": {
           "color": "#2a3f5f"
          },
          "geo": {
           "bgcolor": "white",
           "lakecolor": "white",
           "landcolor": "#E5ECF6",
           "showlakes": true,
           "showland": true,
           "subunitcolor": "white"
          },
          "hoverlabel": {
           "align": "left"
          },
          "hovermode": "closest",
          "mapbox": {
           "style": "light"
          },
          "paper_bgcolor": "white",
          "plot_bgcolor": "#E5ECF6",
          "polar": {
           "angularaxis": {
            "gridcolor": "white",
            "linecolor": "white",
            "ticks": ""
           },
           "bgcolor": "#E5ECF6",
           "radialaxis": {
            "gridcolor": "white",
            "linecolor": "white",
            "ticks": ""
           }
          },
          "scene": {
           "xaxis": {
            "backgroundcolor": "#E5ECF6",
            "gridcolor": "white",
            "gridwidth": 2,
            "linecolor": "white",
            "showbackground": true,
            "ticks": "",
            "zerolinecolor": "white"
           },
           "yaxis": {
            "backgroundcolor": "#E5ECF6",
            "gridcolor": "white",
            "gridwidth": 2,
            "linecolor": "white",
            "showbackground": true,
            "ticks": "",
            "zerolinecolor": "white"
           },
           "zaxis": {
            "backgroundcolor": "#E5ECF6",
            "gridcolor": "white",
            "gridwidth": 2,
            "linecolor": "white",
            "showbackground": true,
            "ticks": "",
            "zerolinecolor": "white"
           }
          },
          "shapedefaults": {
           "line": {
            "color": "#2a3f5f"
           }
          },
          "ternary": {
           "aaxis": {
            "gridcolor": "white",
            "linecolor": "white",
            "ticks": ""
           },
           "baxis": {
            "gridcolor": "white",
            "linecolor": "white",
            "ticks": ""
           },
           "bgcolor": "#E5ECF6",
           "caxis": {
            "gridcolor": "white",
            "linecolor": "white",
            "ticks": ""
           }
          },
          "title": {
           "x": 0.05
          },
          "xaxis": {
           "automargin": true,
           "gridcolor": "white",
           "linecolor": "white",
           "ticks": "",
           "title": {
            "standoff": 15
           },
           "zerolinecolor": "white",
           "zerolinewidth": 2
          },
          "yaxis": {
           "automargin": true,
           "gridcolor": "white",
           "linecolor": "white",
           "ticks": "",
           "title": {
            "standoff": 15
           },
           "zerolinecolor": "white",
           "zerolinewidth": 2
          }
         }
        },
        "title": {
         "font": {
          "color": "#D9D9D9"
         }
        },
        "xaxis": {
         "gridcolor": "#434343",
         "showgrid": true,
         "tickfont": {
          "color": "#C2C2C2"
         },
         "title": {
          "font": {
           "color": "#D9D9D9"
          },
          "text": ""
         },
         "zerolinecolor": "#666570"
        },
        "yaxis": {
         "gridcolor": "#434343",
         "showgrid": true,
         "tickfont": {
          "color": "#C2C2C2"
         },
         "title": {
          "font": {
           "color": "#D9D9D9"
          },
          "text": ""
         },
         "zerolinecolor": "#666570"
        }
       }
      },
      "text/html": [
       "<div>\n",
       "        \n",
       "        \n",
       "            <div id=\"b2b14af2-cd7c-46ab-8104-314b67810ed7\" class=\"plotly-graph-div\" style=\"height:525px; width:100%;\"></div>\n",
       "            <script type=\"text/javascript\">\n",
       "                require([\"plotly\"], function(Plotly) {\n",
       "                    window.PLOTLYENV=window.PLOTLYENV || {};\n",
       "                    window.PLOTLYENV.BASE_URL='https://plot.ly';\n",
       "                    \n",
       "                if (document.getElementById(\"b2b14af2-cd7c-46ab-8104-314b67810ed7\")) {\n",
       "                    Plotly.newPlot(\n",
       "                        'b2b14af2-cd7c-46ab-8104-314b67810ed7',\n",
       "                        [{\"marker\": {\"color\": \"rgba(255, 153, 51, 0.6)\", \"line\": {\"color\": \"rgba(255, 153, 51, 1.0)\", \"width\": 1}}, \"name\": \"A\", \"orientation\": \"v\", \"text\": \"\", \"type\": \"bar\", \"x\": [0, 1, 2, 3, 4, 5, 6, 7, 8, 9, 10, 11, 12, 13, 14, 15, 16, 17, 18, 19, 20, 21, 22, 23, 24, 25, 26, 27, 28, 29, 30, 31, 32, 33, 34, 35, 36, 37, 38, 39, 40, 41, 42, 43, 44, 45, 46, 47, 48, 49, 50, 51, 52, 53, 54, 55, 56, 57, 58, 59, 60, 61, 62, 63, 64, 65, 66, 67, 68, 69, 70, 71, 72, 73, 74, 75, 76, 77, 78, 79, 80, 81, 82, 83, 84, 85, 86, 87, 88, 89, 90, 91, 92, 93, 94, 95, 96, 97, 98, 99], \"y\": [19.05355417423916, 18.952217225493925, 19.865365899479734, 19.63894883538949, 18.69433573604271, 20.16177760391001, 18.706721148102186, 20.83021578349943, 20.813770424039916, 21.876577899494947, 23.4157025609715, 22.48607651867613, 23.25896799151132, 24.853746571571484, 26.399388646384505, 27.302020733241726, 26.601442256932568, 26.844437565324256, 24.88689913716809, 25.007194393161065, 25.465628571769408, 24.717480092329993, 24.89376823976289, 24.12852385347762, 24.682892116294685, 24.172311582147568, 24.94042188534207, 23.44096989873089, 22.720716338251737, 24.002316726950582, 25.069318855339, 24.4512159216163, 22.963361830000697, 20.93760262243009, 17.898001133826952, 19.675888324282013, 20.744858125185726, 23.23197011092468, 24.120654400923726, 24.368612281042843, 22.98387948917498, 22.443812807233037, 21.561799339469225, 21.46663493633641, 21.494712151145823, 20.265810969262205, 19.29283374536078, 18.603965591064245, 18.023265505192516, 18.69785175886604, 19.607959504013458, 19.004016179600125, 16.986759461223656, 18.329309886042573, 19.052399618290732, 19.029227590135285, 20.267392981564747, 18.98485715628038, 17.45220014359349, 18.4724176135328, 18.793109557266042, 20.758480502975218, 21.693841607759047, 21.41199762345162, 22.40769957423957, 22.816663705235424, 23.207709446586406, 23.537797606994967, 25.689798527285987, 25.562227076430634, 26.855415853177288, 25.55917622084909, 25.901748781714026, 27.08172185921103, 27.117412019943735, 28.342903962632406, 28.27067268969956, 28.566124358905135, 29.30358008491224, 28.129816653061603, 27.927104713181173, 27.19418290107574, 29.300173117310973, 29.69985220771088, 32.1568512875961, 31.932307925439222, 32.323043576459504, 30.972872477316358, 31.08736272483948, 32.75641107457476, 32.12766645159634, 34.12996690601166, 33.43424607783305, 32.519348467732655, 33.259861789745635, 32.22565324660054, 33.843995385700524, 34.77157703363817, 34.33037573056614, 35.66745291542685]}, {\"marker\": {\"color\": \"rgba(55, 128, 191, 0.6)\", \"line\": {\"color\": \"rgba(55, 128, 191, 1.0)\", \"width\": 1}}, \"name\": \"B\", \"orientation\": \"v\", \"text\": \"\", \"type\": \"bar\", \"x\": [0, 1, 2, 3, 4, 5, 6, 7, 8, 9, 10, 11, 12, 13, 14, 15, 16, 17, 18, 19, 20, 21, 22, 23, 24, 25, 26, 27, 28, 29, 30, 31, 32, 33, 34, 35, 36, 37, 38, 39, 40, 41, 42, 43, 44, 45, 46, 47, 48, 49, 50, 51, 52, 53, 54, 55, 56, 57, 58, 59, 60, 61, 62, 63, 64, 65, 66, 67, 68, 69, 70, 71, 72, 73, 74, 75, 76, 77, 78, 79, 80, 81, 82, 83, 84, 85, 86, 87, 88, 89, 90, 91, 92, 93, 94, 95, 96, 97, 98, 99], \"y\": [20.224687685551356, 21.536439565654074, 21.672018362970196, 22.366361690454035, 22.093768209281308, 23.77342317347896, 21.805695111712296, 20.842045670428, 21.430651096374042, 21.413930530697023, 21.312356669735497, 19.960349979970797, 20.237370835571713, 21.283258142565337, 22.420773158872006, 21.551012710301567, 20.3569653364381, 20.651263542071955, 22.543617901983065, 21.309599875528917, 20.75926504618888, 19.631781060746647, 20.26848545548732, 20.851528560744118, 20.76848005448148, 21.411400999579257, 21.21495942958562, 22.04877676072323, 22.75235854062727, 22.43369478495357, 23.041266560617544, 23.824741253326224, 23.862846221665926, 23.926981640728975, 23.42223304197247, 24.89391052726584, 25.202050112997586, 26.232593629331745, 26.136291606720977, 25.79390973986341, 26.509119734403658, 26.55859024588922, 26.070832367832416, 26.693919506567667, 26.82528895762112, 28.605463871107744, 28.277318673161687, 28.212164078599997, 27.343268048315824, 27.46907294696319, 27.542122828435385, 27.667793752924535, 27.790056083146304, 27.98692472906863, 27.117414511804206, 29.278771604726526, 27.887134101277386, 25.763544260321947, 22.99730014677046, 25.658460334790743, 25.6233399663063, 27.76091899673433, 26.01680608810962, 26.62516152228668, 26.455325659088857, 25.46543046931759, 27.470368352760293, 26.440325426923316, 25.80987744554895, 25.891292002734314, 25.736758139924397, 25.738965526604602, 24.91063538613909, 25.214244487860952, 24.550886005756134, 23.940249960473487, 24.86476869360318, 25.97038667509796, 25.385713257576374, 24.817846729590386, 25.15495446454062, 26.155673227886034, 26.50727384596003, 27.737896005494044, 26.846300767422374, 26.808635521563268, 24.784149960600395, 25.677035152020835, 27.704830625596962, 29.6180225812225, 30.210529126285607, 30.317321809807737, 32.18867411674365, 32.11351363502118, 32.311632730681296, 30.778588188023548, 30.961984418506045, 32.1197208587845, 31.802136712132004, 32.66762057325556]}, {\"marker\": {\"color\": \"rgba(50, 171, 96, 0.6)\", \"line\": {\"color\": \"rgba(50, 171, 96, 1.0)\", \"width\": 1}}, \"name\": \"C\", \"orientation\": \"v\", \"text\": \"\", \"type\": \"bar\", \"x\": [0, 1, 2, 3, 4, 5, 6, 7, 8, 9, 10, 11, 12, 13, 14, 15, 16, 17, 18, 19, 20, 21, 22, 23, 24, 25, 26, 27, 28, 29, 30, 31, 32, 33, 34, 35, 36, 37, 38, 39, 40, 41, 42, 43, 44, 45, 46, 47, 48, 49, 50, 51, 52, 53, 54, 55, 56, 57, 58, 59, 60, 61, 62, 63, 64, 65, 66, 67, 68, 69, 70, 71, 72, 73, 74, 75, 76, 77, 78, 79, 80, 81, 82, 83, 84, 85, 86, 87, 88, 89, 90, 91, 92, 93, 94, 95, 96, 97, 98, 99], \"y\": [20.59130510758723, 21.270308095882953, 21.237413885829824, 22.158376601734638, 20.592571302314955, 19.219670330695607, 19.517393137145504, 19.557096280029477, 20.176562147518588, 20.237441220624994, 23.11717949789354, 22.2645056608889, 22.59321708827719, 23.786871759359794, 24.55407224706895, 24.31406875830635, 22.322069415995998, 22.497924258478594, 19.92176319383767, 21.05432877058883, 21.665555687140344, 21.727401137496823, 20.456400629978173, 20.887362056217096, 21.363503700398233, 22.20415361842026, 23.289644148178688, 23.556173768632235, 22.864864670947384, 22.624504115033208, 21.994551342701598, 21.1821155062218, 21.020108146032086, 19.641362173248904, 19.041795644409248, 18.944911265788072, 17.46651075791815, 18.108355651082846, 16.464934091038874, 14.198934468242438, 14.902409381685445, 15.296853863322646, 14.161243286743936, 14.830630325366688, 15.058455844050034, 14.627212626411847, 13.520242609318878, 12.298335861994438, 11.849599644473788, 11.470118682992505, 11.307898569798922, 12.069319571781275, 12.377825603430606, 10.935053505785588, 9.303174350276525, 9.317611076398162, 9.343941802354843, 8.794420111041577, 9.429788661766079, 8.80213241436428, 8.82280579862743, 8.409245297375467, 7.030066184009474, 7.720774764506679, 8.38170330554778, 7.368902967103656, 7.259244354534905, 7.048181422037999, 7.89112658469082, 8.040620348171347, 7.61092664142849, 7.885990937094235, 6.991550147196591, 7.159428913036839, 6.632901294940195, 6.8067172861791825, 7.812223860001133, 6.712712290315135, 6.309104981231487, 5.840692523829707, 6.171335433832075, 5.745261736312543, 5.879900448033064, 6.555246619105677, 5.813463733667177, 4.38959053747422, 3.606719041214788, 1.7989883150710106, 3.0915588594432393, 3.3118811186900743, 4.094325863174625, 2.8656922583841755, 1.7212337429867866, 2.0566141546311165, 2.3982591520294676, 3.4687572092798717, 2.408982029929895, 2.161709947421592, 2.4764338920764963, 3.630398333934064]}],\n",
       "                        {\"bargap\": 0.7, \"barmode\": \"stack\", \"legend\": {\"bgcolor\": \"#151516\", \"font\": {\"color\": \"#D9D9D9\"}, \"traceorder\": \"normal\"}, \"paper_bgcolor\": \"#151516\", \"plot_bgcolor\": \"#151516\", \"template\": {\"data\": {\"bar\": [{\"error_x\": {\"color\": \"#2a3f5f\"}, \"error_y\": {\"color\": \"#2a3f5f\"}, \"marker\": {\"line\": {\"color\": \"#E5ECF6\", \"width\": 0.5}}, \"type\": \"bar\"}], \"barpolar\": [{\"marker\": {\"line\": {\"color\": \"#E5ECF6\", \"width\": 0.5}}, \"type\": \"barpolar\"}], \"carpet\": [{\"aaxis\": {\"endlinecolor\": \"#2a3f5f\", \"gridcolor\": \"white\", \"linecolor\": \"white\", \"minorgridcolor\": \"white\", \"startlinecolor\": \"#2a3f5f\"}, \"baxis\": {\"endlinecolor\": \"#2a3f5f\", \"gridcolor\": \"white\", \"linecolor\": \"white\", \"minorgridcolor\": \"white\", \"startlinecolor\": \"#2a3f5f\"}, \"type\": \"carpet\"}], \"choropleth\": [{\"colorbar\": {\"outlinewidth\": 0, \"ticks\": \"\"}, \"type\": \"choropleth\"}], \"contour\": [{\"colorbar\": {\"outlinewidth\": 0, \"ticks\": \"\"}, \"colorscale\": [[0.0, \"#0d0887\"], [0.1111111111111111, \"#46039f\"], [0.2222222222222222, \"#7201a8\"], [0.3333333333333333, \"#9c179e\"], [0.4444444444444444, \"#bd3786\"], [0.5555555555555556, \"#d8576b\"], [0.6666666666666666, \"#ed7953\"], [0.7777777777777778, \"#fb9f3a\"], [0.8888888888888888, \"#fdca26\"], [1.0, \"#f0f921\"]], \"type\": \"contour\"}], \"contourcarpet\": [{\"colorbar\": {\"outlinewidth\": 0, \"ticks\": \"\"}, \"type\": \"contourcarpet\"}], \"heatmap\": [{\"colorbar\": {\"outlinewidth\": 0, \"ticks\": \"\"}, \"colorscale\": [[0.0, \"#0d0887\"], [0.1111111111111111, \"#46039f\"], [0.2222222222222222, \"#7201a8\"], [0.3333333333333333, \"#9c179e\"], [0.4444444444444444, \"#bd3786\"], [0.5555555555555556, \"#d8576b\"], [0.6666666666666666, \"#ed7953\"], [0.7777777777777778, \"#fb9f3a\"], [0.8888888888888888, \"#fdca26\"], [1.0, \"#f0f921\"]], \"type\": \"heatmap\"}], \"heatmapgl\": [{\"colorbar\": {\"outlinewidth\": 0, \"ticks\": \"\"}, \"colorscale\": [[0.0, \"#0d0887\"], [0.1111111111111111, \"#46039f\"], [0.2222222222222222, \"#7201a8\"], [0.3333333333333333, \"#9c179e\"], [0.4444444444444444, \"#bd3786\"], [0.5555555555555556, \"#d8576b\"], [0.6666666666666666, \"#ed7953\"], [0.7777777777777778, \"#fb9f3a\"], [0.8888888888888888, \"#fdca26\"], [1.0, \"#f0f921\"]], \"type\": \"heatmapgl\"}], \"histogram\": [{\"marker\": {\"colorbar\": {\"outlinewidth\": 0, \"ticks\": \"\"}}, \"type\": \"histogram\"}], \"histogram2d\": [{\"colorbar\": {\"outlinewidth\": 0, \"ticks\": \"\"}, \"colorscale\": [[0.0, \"#0d0887\"], [0.1111111111111111, \"#46039f\"], [0.2222222222222222, \"#7201a8\"], [0.3333333333333333, \"#9c179e\"], [0.4444444444444444, \"#bd3786\"], [0.5555555555555556, \"#d8576b\"], [0.6666666666666666, \"#ed7953\"], [0.7777777777777778, \"#fb9f3a\"], [0.8888888888888888, \"#fdca26\"], [1.0, \"#f0f921\"]], \"type\": \"histogram2d\"}], \"histogram2dcontour\": [{\"colorbar\": {\"outlinewidth\": 0, \"ticks\": \"\"}, \"colorscale\": [[0.0, \"#0d0887\"], [0.1111111111111111, \"#46039f\"], [0.2222222222222222, \"#7201a8\"], [0.3333333333333333, \"#9c179e\"], [0.4444444444444444, \"#bd3786\"], [0.5555555555555556, \"#d8576b\"], [0.6666666666666666, \"#ed7953\"], [0.7777777777777778, \"#fb9f3a\"], [0.8888888888888888, \"#fdca26\"], [1.0, \"#f0f921\"]], \"type\": \"histogram2dcontour\"}], \"mesh3d\": [{\"colorbar\": {\"outlinewidth\": 0, \"ticks\": \"\"}, \"type\": \"mesh3d\"}], \"parcoords\": [{\"line\": {\"colorbar\": {\"outlinewidth\": 0, \"ticks\": \"\"}}, \"type\": \"parcoords\"}], \"pie\": [{\"automargin\": true, \"type\": \"pie\"}], \"scatter\": [{\"marker\": {\"colorbar\": {\"outlinewidth\": 0, \"ticks\": \"\"}}, \"type\": \"scatter\"}], \"scatter3d\": [{\"line\": {\"colorbar\": {\"outlinewidth\": 0, \"ticks\": \"\"}}, \"marker\": {\"colorbar\": {\"outlinewidth\": 0, \"ticks\": \"\"}}, \"type\": \"scatter3d\"}], \"scattercarpet\": [{\"marker\": {\"colorbar\": {\"outlinewidth\": 0, \"ticks\": \"\"}}, \"type\": \"scattercarpet\"}], \"scattergeo\": [{\"marker\": {\"colorbar\": {\"outlinewidth\": 0, \"ticks\": \"\"}}, \"type\": \"scattergeo\"}], \"scattergl\": [{\"marker\": {\"colorbar\": {\"outlinewidth\": 0, \"ticks\": \"\"}}, \"type\": \"scattergl\"}], \"scattermapbox\": [{\"marker\": {\"colorbar\": {\"outlinewidth\": 0, \"ticks\": \"\"}}, \"type\": \"scattermapbox\"}], \"scatterpolar\": [{\"marker\": {\"colorbar\": {\"outlinewidth\": 0, \"ticks\": \"\"}}, \"type\": \"scatterpolar\"}], \"scatterpolargl\": [{\"marker\": {\"colorbar\": {\"outlinewidth\": 0, \"ticks\": \"\"}}, \"type\": \"scatterpolargl\"}], \"scatterternary\": [{\"marker\": {\"colorbar\": {\"outlinewidth\": 0, \"ticks\": \"\"}}, \"type\": \"scatterternary\"}], \"surface\": [{\"colorbar\": {\"outlinewidth\": 0, \"ticks\": \"\"}, \"colorscale\": [[0.0, \"#0d0887\"], [0.1111111111111111, \"#46039f\"], [0.2222222222222222, \"#7201a8\"], [0.3333333333333333, \"#9c179e\"], [0.4444444444444444, \"#bd3786\"], [0.5555555555555556, \"#d8576b\"], [0.6666666666666666, \"#ed7953\"], [0.7777777777777778, \"#fb9f3a\"], [0.8888888888888888, \"#fdca26\"], [1.0, \"#f0f921\"]], \"type\": \"surface\"}], \"table\": [{\"cells\": {\"fill\": {\"color\": \"#EBF0F8\"}, \"line\": {\"color\": \"white\"}}, \"header\": {\"fill\": {\"color\": \"#C8D4E3\"}, \"line\": {\"color\": \"white\"}}, \"type\": \"table\"}]}, \"layout\": {\"annotationdefaults\": {\"arrowcolor\": \"#2a3f5f\", \"arrowhead\": 0, \"arrowwidth\": 1}, \"coloraxis\": {\"colorbar\": {\"outlinewidth\": 0, \"ticks\": \"\"}}, \"colorscale\": {\"diverging\": [[0, \"#8e0152\"], [0.1, \"#c51b7d\"], [0.2, \"#de77ae\"], [0.3, \"#f1b6da\"], [0.4, \"#fde0ef\"], [0.5, \"#f7f7f7\"], [0.6, \"#e6f5d0\"], [0.7, \"#b8e186\"], [0.8, \"#7fbc41\"], [0.9, \"#4d9221\"], [1, \"#276419\"]], \"sequential\": [[0.0, \"#0d0887\"], [0.1111111111111111, \"#46039f\"], [0.2222222222222222, \"#7201a8\"], [0.3333333333333333, \"#9c179e\"], [0.4444444444444444, \"#bd3786\"], [0.5555555555555556, \"#d8576b\"], [0.6666666666666666, \"#ed7953\"], [0.7777777777777778, \"#fb9f3a\"], [0.8888888888888888, \"#fdca26\"], [1.0, \"#f0f921\"]], \"sequentialminus\": [[0.0, \"#0d0887\"], [0.1111111111111111, \"#46039f\"], [0.2222222222222222, \"#7201a8\"], [0.3333333333333333, \"#9c179e\"], [0.4444444444444444, \"#bd3786\"], [0.5555555555555556, \"#d8576b\"], [0.6666666666666666, \"#ed7953\"], [0.7777777777777778, \"#fb9f3a\"], [0.8888888888888888, \"#fdca26\"], [1.0, \"#f0f921\"]]}, \"colorway\": [\"#636efa\", \"#EF553B\", \"#00cc96\", \"#ab63fa\", \"#FFA15A\", \"#19d3f3\", \"#FF6692\", \"#B6E880\", \"#FF97FF\", \"#FECB52\"], \"font\": {\"color\": \"#2a3f5f\"}, \"geo\": {\"bgcolor\": \"white\", \"lakecolor\": \"white\", \"landcolor\": \"#E5ECF6\", \"showlakes\": true, \"showland\": true, \"subunitcolor\": \"white\"}, \"hoverlabel\": {\"align\": \"left\"}, \"hovermode\": \"closest\", \"mapbox\": {\"style\": \"light\"}, \"paper_bgcolor\": \"white\", \"plot_bgcolor\": \"#E5ECF6\", \"polar\": {\"angularaxis\": {\"gridcolor\": \"white\", \"linecolor\": \"white\", \"ticks\": \"\"}, \"bgcolor\": \"#E5ECF6\", \"radialaxis\": {\"gridcolor\": \"white\", \"linecolor\": \"white\", \"ticks\": \"\"}}, \"scene\": {\"xaxis\": {\"backgroundcolor\": \"#E5ECF6\", \"gridcolor\": \"white\", \"gridwidth\": 2, \"linecolor\": \"white\", \"showbackground\": true, \"ticks\": \"\", \"zerolinecolor\": \"white\"}, \"yaxis\": {\"backgroundcolor\": \"#E5ECF6\", \"gridcolor\": \"white\", \"gridwidth\": 2, \"linecolor\": \"white\", \"showbackground\": true, \"ticks\": \"\", \"zerolinecolor\": \"white\"}, \"zaxis\": {\"backgroundcolor\": \"#E5ECF6\", \"gridcolor\": \"white\", \"gridwidth\": 2, \"linecolor\": \"white\", \"showbackground\": true, \"ticks\": \"\", \"zerolinecolor\": \"white\"}}, \"shapedefaults\": {\"line\": {\"color\": \"#2a3f5f\"}}, \"ternary\": {\"aaxis\": {\"gridcolor\": \"white\", \"linecolor\": \"white\", \"ticks\": \"\"}, \"baxis\": {\"gridcolor\": \"white\", \"linecolor\": \"white\", \"ticks\": \"\"}, \"bgcolor\": \"#E5ECF6\", \"caxis\": {\"gridcolor\": \"white\", \"linecolor\": \"white\", \"ticks\": \"\"}}, \"title\": {\"x\": 0.05}, \"xaxis\": {\"automargin\": true, \"gridcolor\": \"white\", \"linecolor\": \"white\", \"ticks\": \"\", \"title\": {\"standoff\": 15}, \"zerolinecolor\": \"white\", \"zerolinewidth\": 2}, \"yaxis\": {\"automargin\": true, \"gridcolor\": \"white\", \"linecolor\": \"white\", \"ticks\": \"\", \"title\": {\"standoff\": 15}, \"zerolinecolor\": \"white\", \"zerolinewidth\": 2}}}, \"title\": {\"font\": {\"color\": \"#D9D9D9\"}}, \"xaxis\": {\"gridcolor\": \"#434343\", \"showgrid\": true, \"tickfont\": {\"color\": \"#C2C2C2\"}, \"title\": {\"font\": {\"color\": \"#D9D9D9\"}, \"text\": \"\"}, \"zerolinecolor\": \"#666570\"}, \"yaxis\": {\"gridcolor\": \"#434343\", \"showgrid\": true, \"tickfont\": {\"color\": \"#C2C2C2\"}, \"title\": {\"font\": {\"color\": \"#D9D9D9\"}, \"text\": \"\"}, \"zerolinecolor\": \"#666570\"}},\n",
       "                        {\"showLink\": true, \"linkText\": \"Export to plot.ly\", \"plotlyServerURL\": \"https://plot.ly\", \"responsive\": true}\n",
       "                    ).then(function(){\n",
       "                            \n",
       "var gd = document.getElementById('b2b14af2-cd7c-46ab-8104-314b67810ed7');\n",
       "var x = new MutationObserver(function (mutations, observer) {{\n",
       "        var display = window.getComputedStyle(gd).display;\n",
       "        if (!display || display === 'none') {{\n",
       "            console.log([gd, 'removed!']);\n",
       "            Plotly.purge(gd);\n",
       "            observer.disconnect();\n",
       "        }}\n",
       "}});\n",
       "\n",
       "// Listen for the removal of the full notebook cells\n",
       "var notebookContainer = gd.closest('#notebook-container');\n",
       "if (notebookContainer) {{\n",
       "    x.observe(notebookContainer, {childList: true});\n",
       "}}\n",
       "\n",
       "// Listen for the clearing of the current output cell\n",
       "var outputEl = gd.closest('.output');\n",
       "if (outputEl) {{\n",
       "    x.observe(outputEl, {childList: true});\n",
       "}}\n",
       "\n",
       "                        })\n",
       "                };\n",
       "                });\n",
       "            </script>\n",
       "        </div>"
      ]
     },
     "metadata": {},
     "output_type": "display_data"
    }
   ],
   "source": [
    "cf.set_config_file(theme='solar')\n",
    "df.iplot(kind='bar',barmode='stack',bargap=0.7)"
   ]
  },
  {
   "cell_type": "code",
   "execution_count": 59,
   "metadata": {},
   "outputs": [
    {
     "data": {
      "application/vnd.plotly.v1+json": {
       "config": {
        "linkText": "Export to plot.ly",
        "plotlyServerURL": "https://plot.ly",
        "showLink": true
       },
       "data": [
        {
         "boxpoints": false,
         "line": {
          "width": 1.3
         },
         "marker": {
          "color": "rgba(255, 153, 51, 1.0)"
         },
         "name": "A",
         "orientation": "v",
         "type": "box",
         "y": [
          19.05355417423916,
          18.952217225493925,
          19.865365899479734,
          19.63894883538949,
          18.69433573604271,
          20.16177760391001,
          18.706721148102186,
          20.83021578349943,
          20.813770424039916,
          21.876577899494947,
          23.4157025609715,
          22.48607651867613,
          23.25896799151132,
          24.853746571571484,
          26.399388646384505,
          27.302020733241726,
          26.601442256932568,
          26.844437565324256,
          24.88689913716809,
          25.007194393161065,
          25.465628571769408,
          24.717480092329993,
          24.89376823976289,
          24.12852385347762,
          24.682892116294685,
          24.172311582147568,
          24.94042188534207,
          23.44096989873089,
          22.720716338251737,
          24.002316726950582,
          25.069318855339,
          24.4512159216163,
          22.963361830000697,
          20.93760262243009,
          17.898001133826952,
          19.675888324282013,
          20.744858125185726,
          23.23197011092468,
          24.120654400923726,
          24.368612281042843,
          22.98387948917498,
          22.443812807233037,
          21.561799339469225,
          21.46663493633641,
          21.494712151145823,
          20.265810969262205,
          19.29283374536078,
          18.603965591064245,
          18.023265505192516,
          18.69785175886604,
          19.607959504013458,
          19.004016179600125,
          16.986759461223656,
          18.329309886042573,
          19.052399618290732,
          19.029227590135285,
          20.267392981564747,
          18.98485715628038,
          17.45220014359349,
          18.4724176135328,
          18.793109557266042,
          20.758480502975218,
          21.693841607759047,
          21.41199762345162,
          22.40769957423957,
          22.816663705235424,
          23.207709446586406,
          23.537797606994967,
          25.689798527285987,
          25.562227076430634,
          26.855415853177288,
          25.55917622084909,
          25.901748781714026,
          27.08172185921103,
          27.117412019943735,
          28.342903962632406,
          28.27067268969956,
          28.566124358905135,
          29.30358008491224,
          28.129816653061603,
          27.927104713181173,
          27.19418290107574,
          29.300173117310973,
          29.69985220771088,
          32.1568512875961,
          31.932307925439222,
          32.323043576459504,
          30.972872477316358,
          31.08736272483948,
          32.75641107457476,
          32.12766645159634,
          34.12996690601166,
          33.43424607783305,
          32.519348467732655,
          33.259861789745635,
          32.22565324660054,
          33.843995385700524,
          34.77157703363817,
          34.33037573056614,
          35.66745291542685
         ]
        },
        {
         "boxpoints": false,
         "line": {
          "width": 1.3
         },
         "marker": {
          "color": "rgba(55, 128, 191, 1.0)"
         },
         "name": "B",
         "orientation": "v",
         "type": "box",
         "y": [
          20.224687685551356,
          21.536439565654074,
          21.672018362970196,
          22.366361690454035,
          22.093768209281308,
          23.77342317347896,
          21.805695111712296,
          20.842045670428,
          21.430651096374042,
          21.413930530697023,
          21.312356669735497,
          19.960349979970797,
          20.237370835571713,
          21.283258142565337,
          22.420773158872006,
          21.551012710301567,
          20.3569653364381,
          20.651263542071955,
          22.543617901983065,
          21.309599875528917,
          20.75926504618888,
          19.631781060746647,
          20.26848545548732,
          20.851528560744118,
          20.76848005448148,
          21.411400999579257,
          21.21495942958562,
          22.04877676072323,
          22.75235854062727,
          22.43369478495357,
          23.041266560617544,
          23.824741253326224,
          23.862846221665926,
          23.926981640728975,
          23.42223304197247,
          24.89391052726584,
          25.202050112997586,
          26.232593629331745,
          26.136291606720977,
          25.79390973986341,
          26.509119734403658,
          26.55859024588922,
          26.070832367832416,
          26.693919506567667,
          26.82528895762112,
          28.605463871107744,
          28.277318673161687,
          28.212164078599997,
          27.343268048315824,
          27.46907294696319,
          27.542122828435385,
          27.667793752924535,
          27.790056083146304,
          27.98692472906863,
          27.117414511804206,
          29.278771604726526,
          27.887134101277386,
          25.763544260321947,
          22.99730014677046,
          25.658460334790743,
          25.6233399663063,
          27.76091899673433,
          26.01680608810962,
          26.62516152228668,
          26.455325659088857,
          25.46543046931759,
          27.470368352760293,
          26.440325426923316,
          25.80987744554895,
          25.891292002734314,
          25.736758139924397,
          25.738965526604602,
          24.91063538613909,
          25.214244487860952,
          24.550886005756134,
          23.940249960473487,
          24.86476869360318,
          25.97038667509796,
          25.385713257576374,
          24.817846729590386,
          25.15495446454062,
          26.155673227886034,
          26.50727384596003,
          27.737896005494044,
          26.846300767422374,
          26.808635521563268,
          24.784149960600395,
          25.677035152020835,
          27.704830625596962,
          29.6180225812225,
          30.210529126285607,
          30.317321809807737,
          32.18867411674365,
          32.11351363502118,
          32.311632730681296,
          30.778588188023548,
          30.961984418506045,
          32.1197208587845,
          31.802136712132004,
          32.66762057325556
         ]
        },
        {
         "boxpoints": false,
         "line": {
          "width": 1.3
         },
         "marker": {
          "color": "rgba(50, 171, 96, 1.0)"
         },
         "name": "C",
         "orientation": "v",
         "type": "box",
         "y": [
          20.59130510758723,
          21.270308095882953,
          21.237413885829824,
          22.158376601734638,
          20.592571302314955,
          19.219670330695607,
          19.517393137145504,
          19.557096280029477,
          20.176562147518588,
          20.237441220624994,
          23.11717949789354,
          22.2645056608889,
          22.59321708827719,
          23.786871759359794,
          24.55407224706895,
          24.31406875830635,
          22.322069415995998,
          22.497924258478594,
          19.92176319383767,
          21.05432877058883,
          21.665555687140344,
          21.727401137496823,
          20.456400629978173,
          20.887362056217096,
          21.363503700398233,
          22.20415361842026,
          23.289644148178688,
          23.556173768632235,
          22.864864670947384,
          22.624504115033208,
          21.994551342701598,
          21.1821155062218,
          21.020108146032086,
          19.641362173248904,
          19.041795644409248,
          18.944911265788072,
          17.46651075791815,
          18.108355651082846,
          16.464934091038874,
          14.198934468242438,
          14.902409381685445,
          15.296853863322646,
          14.161243286743936,
          14.830630325366688,
          15.058455844050034,
          14.627212626411847,
          13.520242609318878,
          12.298335861994438,
          11.849599644473788,
          11.470118682992505,
          11.307898569798922,
          12.069319571781275,
          12.377825603430606,
          10.935053505785588,
          9.303174350276525,
          9.317611076398162,
          9.343941802354843,
          8.794420111041577,
          9.429788661766079,
          8.80213241436428,
          8.82280579862743,
          8.409245297375467,
          7.030066184009474,
          7.720774764506679,
          8.38170330554778,
          7.368902967103656,
          7.259244354534905,
          7.048181422037999,
          7.89112658469082,
          8.040620348171347,
          7.61092664142849,
          7.885990937094235,
          6.991550147196591,
          7.159428913036839,
          6.632901294940195,
          6.8067172861791825,
          7.812223860001133,
          6.712712290315135,
          6.309104981231487,
          5.840692523829707,
          6.171335433832075,
          5.745261736312543,
          5.879900448033064,
          6.555246619105677,
          5.813463733667177,
          4.38959053747422,
          3.606719041214788,
          1.7989883150710106,
          3.0915588594432393,
          3.3118811186900743,
          4.094325863174625,
          2.8656922583841755,
          1.7212337429867866,
          2.0566141546311165,
          2.3982591520294676,
          3.4687572092798717,
          2.408982029929895,
          2.161709947421592,
          2.4764338920764963,
          3.630398333934064
         ]
        }
       ],
       "layout": {
        "legend": {
         "bgcolor": "#151516",
         "font": {
          "color": "#D9D9D9"
         }
        },
        "paper_bgcolor": "#151516",
        "plot_bgcolor": "#151516",
        "template": {
         "data": {
          "bar": [
           {
            "error_x": {
             "color": "#2a3f5f"
            },
            "error_y": {
             "color": "#2a3f5f"
            },
            "marker": {
             "line": {
              "color": "#E5ECF6",
              "width": 0.5
             }
            },
            "type": "bar"
           }
          ],
          "barpolar": [
           {
            "marker": {
             "line": {
              "color": "#E5ECF6",
              "width": 0.5
             }
            },
            "type": "barpolar"
           }
          ],
          "carpet": [
           {
            "aaxis": {
             "endlinecolor": "#2a3f5f",
             "gridcolor": "white",
             "linecolor": "white",
             "minorgridcolor": "white",
             "startlinecolor": "#2a3f5f"
            },
            "baxis": {
             "endlinecolor": "#2a3f5f",
             "gridcolor": "white",
             "linecolor": "white",
             "minorgridcolor": "white",
             "startlinecolor": "#2a3f5f"
            },
            "type": "carpet"
           }
          ],
          "choropleth": [
           {
            "colorbar": {
             "outlinewidth": 0,
             "ticks": ""
            },
            "type": "choropleth"
           }
          ],
          "contour": [
           {
            "colorbar": {
             "outlinewidth": 0,
             "ticks": ""
            },
            "colorscale": [
             [
              0,
              "#0d0887"
             ],
             [
              0.1111111111111111,
              "#46039f"
             ],
             [
              0.2222222222222222,
              "#7201a8"
             ],
             [
              0.3333333333333333,
              "#9c179e"
             ],
             [
              0.4444444444444444,
              "#bd3786"
             ],
             [
              0.5555555555555556,
              "#d8576b"
             ],
             [
              0.6666666666666666,
              "#ed7953"
             ],
             [
              0.7777777777777778,
              "#fb9f3a"
             ],
             [
              0.8888888888888888,
              "#fdca26"
             ],
             [
              1,
              "#f0f921"
             ]
            ],
            "type": "contour"
           }
          ],
          "contourcarpet": [
           {
            "colorbar": {
             "outlinewidth": 0,
             "ticks": ""
            },
            "type": "contourcarpet"
           }
          ],
          "heatmap": [
           {
            "colorbar": {
             "outlinewidth": 0,
             "ticks": ""
            },
            "colorscale": [
             [
              0,
              "#0d0887"
             ],
             [
              0.1111111111111111,
              "#46039f"
             ],
             [
              0.2222222222222222,
              "#7201a8"
             ],
             [
              0.3333333333333333,
              "#9c179e"
             ],
             [
              0.4444444444444444,
              "#bd3786"
             ],
             [
              0.5555555555555556,
              "#d8576b"
             ],
             [
              0.6666666666666666,
              "#ed7953"
             ],
             [
              0.7777777777777778,
              "#fb9f3a"
             ],
             [
              0.8888888888888888,
              "#fdca26"
             ],
             [
              1,
              "#f0f921"
             ]
            ],
            "type": "heatmap"
           }
          ],
          "heatmapgl": [
           {
            "colorbar": {
             "outlinewidth": 0,
             "ticks": ""
            },
            "colorscale": [
             [
              0,
              "#0d0887"
             ],
             [
              0.1111111111111111,
              "#46039f"
             ],
             [
              0.2222222222222222,
              "#7201a8"
             ],
             [
              0.3333333333333333,
              "#9c179e"
             ],
             [
              0.4444444444444444,
              "#bd3786"
             ],
             [
              0.5555555555555556,
              "#d8576b"
             ],
             [
              0.6666666666666666,
              "#ed7953"
             ],
             [
              0.7777777777777778,
              "#fb9f3a"
             ],
             [
              0.8888888888888888,
              "#fdca26"
             ],
             [
              1,
              "#f0f921"
             ]
            ],
            "type": "heatmapgl"
           }
          ],
          "histogram": [
           {
            "marker": {
             "colorbar": {
              "outlinewidth": 0,
              "ticks": ""
             }
            },
            "type": "histogram"
           }
          ],
          "histogram2d": [
           {
            "colorbar": {
             "outlinewidth": 0,
             "ticks": ""
            },
            "colorscale": [
             [
              0,
              "#0d0887"
             ],
             [
              0.1111111111111111,
              "#46039f"
             ],
             [
              0.2222222222222222,
              "#7201a8"
             ],
             [
              0.3333333333333333,
              "#9c179e"
             ],
             [
              0.4444444444444444,
              "#bd3786"
             ],
             [
              0.5555555555555556,
              "#d8576b"
             ],
             [
              0.6666666666666666,
              "#ed7953"
             ],
             [
              0.7777777777777778,
              "#fb9f3a"
             ],
             [
              0.8888888888888888,
              "#fdca26"
             ],
             [
              1,
              "#f0f921"
             ]
            ],
            "type": "histogram2d"
           }
          ],
          "histogram2dcontour": [
           {
            "colorbar": {
             "outlinewidth": 0,
             "ticks": ""
            },
            "colorscale": [
             [
              0,
              "#0d0887"
             ],
             [
              0.1111111111111111,
              "#46039f"
             ],
             [
              0.2222222222222222,
              "#7201a8"
             ],
             [
              0.3333333333333333,
              "#9c179e"
             ],
             [
              0.4444444444444444,
              "#bd3786"
             ],
             [
              0.5555555555555556,
              "#d8576b"
             ],
             [
              0.6666666666666666,
              "#ed7953"
             ],
             [
              0.7777777777777778,
              "#fb9f3a"
             ],
             [
              0.8888888888888888,
              "#fdca26"
             ],
             [
              1,
              "#f0f921"
             ]
            ],
            "type": "histogram2dcontour"
           }
          ],
          "mesh3d": [
           {
            "colorbar": {
             "outlinewidth": 0,
             "ticks": ""
            },
            "type": "mesh3d"
           }
          ],
          "parcoords": [
           {
            "line": {
             "colorbar": {
              "outlinewidth": 0,
              "ticks": ""
             }
            },
            "type": "parcoords"
           }
          ],
          "pie": [
           {
            "automargin": true,
            "type": "pie"
           }
          ],
          "scatter": [
           {
            "marker": {
             "colorbar": {
              "outlinewidth": 0,
              "ticks": ""
             }
            },
            "type": "scatter"
           }
          ],
          "scatter3d": [
           {
            "line": {
             "colorbar": {
              "outlinewidth": 0,
              "ticks": ""
             }
            },
            "marker": {
             "colorbar": {
              "outlinewidth": 0,
              "ticks": ""
             }
            },
            "type": "scatter3d"
           }
          ],
          "scattercarpet": [
           {
            "marker": {
             "colorbar": {
              "outlinewidth": 0,
              "ticks": ""
             }
            },
            "type": "scattercarpet"
           }
          ],
          "scattergeo": [
           {
            "marker": {
             "colorbar": {
              "outlinewidth": 0,
              "ticks": ""
             }
            },
            "type": "scattergeo"
           }
          ],
          "scattergl": [
           {
            "marker": {
             "colorbar": {
              "outlinewidth": 0,
              "ticks": ""
             }
            },
            "type": "scattergl"
           }
          ],
          "scattermapbox": [
           {
            "marker": {
             "colorbar": {
              "outlinewidth": 0,
              "ticks": ""
             }
            },
            "type": "scattermapbox"
           }
          ],
          "scatterpolar": [
           {
            "marker": {
             "colorbar": {
              "outlinewidth": 0,
              "ticks": ""
             }
            },
            "type": "scatterpolar"
           }
          ],
          "scatterpolargl": [
           {
            "marker": {
             "colorbar": {
              "outlinewidth": 0,
              "ticks": ""
             }
            },
            "type": "scatterpolargl"
           }
          ],
          "scatterternary": [
           {
            "marker": {
             "colorbar": {
              "outlinewidth": 0,
              "ticks": ""
             }
            },
            "type": "scatterternary"
           }
          ],
          "surface": [
           {
            "colorbar": {
             "outlinewidth": 0,
             "ticks": ""
            },
            "colorscale": [
             [
              0,
              "#0d0887"
             ],
             [
              0.1111111111111111,
              "#46039f"
             ],
             [
              0.2222222222222222,
              "#7201a8"
             ],
             [
              0.3333333333333333,
              "#9c179e"
             ],
             [
              0.4444444444444444,
              "#bd3786"
             ],
             [
              0.5555555555555556,
              "#d8576b"
             ],
             [
              0.6666666666666666,
              "#ed7953"
             ],
             [
              0.7777777777777778,
              "#fb9f3a"
             ],
             [
              0.8888888888888888,
              "#fdca26"
             ],
             [
              1,
              "#f0f921"
             ]
            ],
            "type": "surface"
           }
          ],
          "table": [
           {
            "cells": {
             "fill": {
              "color": "#EBF0F8"
             },
             "line": {
              "color": "white"
             }
            },
            "header": {
             "fill": {
              "color": "#C8D4E3"
             },
             "line": {
              "color": "white"
             }
            },
            "type": "table"
           }
          ]
         },
         "layout": {
          "annotationdefaults": {
           "arrowcolor": "#2a3f5f",
           "arrowhead": 0,
           "arrowwidth": 1
          },
          "coloraxis": {
           "colorbar": {
            "outlinewidth": 0,
            "ticks": ""
           }
          },
          "colorscale": {
           "diverging": [
            [
             0,
             "#8e0152"
            ],
            [
             0.1,
             "#c51b7d"
            ],
            [
             0.2,
             "#de77ae"
            ],
            [
             0.3,
             "#f1b6da"
            ],
            [
             0.4,
             "#fde0ef"
            ],
            [
             0.5,
             "#f7f7f7"
            ],
            [
             0.6,
             "#e6f5d0"
            ],
            [
             0.7,
             "#b8e186"
            ],
            [
             0.8,
             "#7fbc41"
            ],
            [
             0.9,
             "#4d9221"
            ],
            [
             1,
             "#276419"
            ]
           ],
           "sequential": [
            [
             0,
             "#0d0887"
            ],
            [
             0.1111111111111111,
             "#46039f"
            ],
            [
             0.2222222222222222,
             "#7201a8"
            ],
            [
             0.3333333333333333,
             "#9c179e"
            ],
            [
             0.4444444444444444,
             "#bd3786"
            ],
            [
             0.5555555555555556,
             "#d8576b"
            ],
            [
             0.6666666666666666,
             "#ed7953"
            ],
            [
             0.7777777777777778,
             "#fb9f3a"
            ],
            [
             0.8888888888888888,
             "#fdca26"
            ],
            [
             1,
             "#f0f921"
            ]
           ],
           "sequentialminus": [
            [
             0,
             "#0d0887"
            ],
            [
             0.1111111111111111,
             "#46039f"
            ],
            [
             0.2222222222222222,
             "#7201a8"
            ],
            [
             0.3333333333333333,
             "#9c179e"
            ],
            [
             0.4444444444444444,
             "#bd3786"
            ],
            [
             0.5555555555555556,
             "#d8576b"
            ],
            [
             0.6666666666666666,
             "#ed7953"
            ],
            [
             0.7777777777777778,
             "#fb9f3a"
            ],
            [
             0.8888888888888888,
             "#fdca26"
            ],
            [
             1,
             "#f0f921"
            ]
           ]
          },
          "colorway": [
           "#636efa",
           "#EF553B",
           "#00cc96",
           "#ab63fa",
           "#FFA15A",
           "#19d3f3",
           "#FF6692",
           "#B6E880",
           "#FF97FF",
           "#FECB52"
          ],
          "font": {
           "color": "#2a3f5f"
          },
          "geo": {
           "bgcolor": "white",
           "lakecolor": "white",
           "landcolor": "#E5ECF6",
           "showlakes": true,
           "showland": true,
           "subunitcolor": "white"
          },
          "hoverlabel": {
           "align": "left"
          },
          "hovermode": "closest",
          "mapbox": {
           "style": "light"
          },
          "paper_bgcolor": "white",
          "plot_bgcolor": "#E5ECF6",
          "polar": {
           "angularaxis": {
            "gridcolor": "white",
            "linecolor": "white",
            "ticks": ""
           },
           "bgcolor": "#E5ECF6",
           "radialaxis": {
            "gridcolor": "white",
            "linecolor": "white",
            "ticks": ""
           }
          },
          "scene": {
           "xaxis": {
            "backgroundcolor": "#E5ECF6",
            "gridcolor": "white",
            "gridwidth": 2,
            "linecolor": "white",
            "showbackground": true,
            "ticks": "",
            "zerolinecolor": "white"
           },
           "yaxis": {
            "backgroundcolor": "#E5ECF6",
            "gridcolor": "white",
            "gridwidth": 2,
            "linecolor": "white",
            "showbackground": true,
            "ticks": "",
            "zerolinecolor": "white"
           },
           "zaxis": {
            "backgroundcolor": "#E5ECF6",
            "gridcolor": "white",
            "gridwidth": 2,
            "linecolor": "white",
            "showbackground": true,
            "ticks": "",
            "zerolinecolor": "white"
           }
          },
          "shapedefaults": {
           "line": {
            "color": "#2a3f5f"
           }
          },
          "ternary": {
           "aaxis": {
            "gridcolor": "white",
            "linecolor": "white",
            "ticks": ""
           },
           "baxis": {
            "gridcolor": "white",
            "linecolor": "white",
            "ticks": ""
           },
           "bgcolor": "#E5ECF6",
           "caxis": {
            "gridcolor": "white",
            "linecolor": "white",
            "ticks": ""
           }
          },
          "title": {
           "x": 0.05
          },
          "xaxis": {
           "automargin": true,
           "gridcolor": "white",
           "linecolor": "white",
           "ticks": "",
           "title": {
            "standoff": 15
           },
           "zerolinecolor": "white",
           "zerolinewidth": 2
          },
          "yaxis": {
           "automargin": true,
           "gridcolor": "white",
           "linecolor": "white",
           "ticks": "",
           "title": {
            "standoff": 15
           },
           "zerolinecolor": "white",
           "zerolinewidth": 2
          }
         }
        },
        "title": {
         "font": {
          "color": "#D9D9D9"
         }
        },
        "xaxis": {
         "gridcolor": "#434343",
         "showgrid": true,
         "tickfont": {
          "color": "#C2C2C2"
         },
         "title": {
          "font": {
           "color": "#D9D9D9"
          },
          "text": ""
         },
         "zerolinecolor": "#666570"
        },
        "yaxis": {
         "gridcolor": "#434343",
         "showgrid": true,
         "tickfont": {
          "color": "#C2C2C2"
         },
         "title": {
          "font": {
           "color": "#D9D9D9"
          },
          "text": ""
         },
         "zerolinecolor": "#666570"
        }
       }
      },
      "text/html": [
       "<div>\n",
       "        \n",
       "        \n",
       "            <div id=\"c13b54c0-00a5-4828-895e-2034d886d254\" class=\"plotly-graph-div\" style=\"height:525px; width:100%;\"></div>\n",
       "            <script type=\"text/javascript\">\n",
       "                require([\"plotly\"], function(Plotly) {\n",
       "                    window.PLOTLYENV=window.PLOTLYENV || {};\n",
       "                    window.PLOTLYENV.BASE_URL='https://plot.ly';\n",
       "                    \n",
       "                if (document.getElementById(\"c13b54c0-00a5-4828-895e-2034d886d254\")) {\n",
       "                    Plotly.newPlot(\n",
       "                        'c13b54c0-00a5-4828-895e-2034d886d254',\n",
       "                        [{\"boxpoints\": false, \"line\": {\"width\": 1.3}, \"marker\": {\"color\": \"rgba(255, 153, 51, 1.0)\"}, \"name\": \"A\", \"orientation\": \"v\", \"type\": \"box\", \"y\": [19.05355417423916, 18.952217225493925, 19.865365899479734, 19.63894883538949, 18.69433573604271, 20.16177760391001, 18.706721148102186, 20.83021578349943, 20.813770424039916, 21.876577899494947, 23.4157025609715, 22.48607651867613, 23.25896799151132, 24.853746571571484, 26.399388646384505, 27.302020733241726, 26.601442256932568, 26.844437565324256, 24.88689913716809, 25.007194393161065, 25.465628571769408, 24.717480092329993, 24.89376823976289, 24.12852385347762, 24.682892116294685, 24.172311582147568, 24.94042188534207, 23.44096989873089, 22.720716338251737, 24.002316726950582, 25.069318855339, 24.4512159216163, 22.963361830000697, 20.93760262243009, 17.898001133826952, 19.675888324282013, 20.744858125185726, 23.23197011092468, 24.120654400923726, 24.368612281042843, 22.98387948917498, 22.443812807233037, 21.561799339469225, 21.46663493633641, 21.494712151145823, 20.265810969262205, 19.29283374536078, 18.603965591064245, 18.023265505192516, 18.69785175886604, 19.607959504013458, 19.004016179600125, 16.986759461223656, 18.329309886042573, 19.052399618290732, 19.029227590135285, 20.267392981564747, 18.98485715628038, 17.45220014359349, 18.4724176135328, 18.793109557266042, 20.758480502975218, 21.693841607759047, 21.41199762345162, 22.40769957423957, 22.816663705235424, 23.207709446586406, 23.537797606994967, 25.689798527285987, 25.562227076430634, 26.855415853177288, 25.55917622084909, 25.901748781714026, 27.08172185921103, 27.117412019943735, 28.342903962632406, 28.27067268969956, 28.566124358905135, 29.30358008491224, 28.129816653061603, 27.927104713181173, 27.19418290107574, 29.300173117310973, 29.69985220771088, 32.1568512875961, 31.932307925439222, 32.323043576459504, 30.972872477316358, 31.08736272483948, 32.75641107457476, 32.12766645159634, 34.12996690601166, 33.43424607783305, 32.519348467732655, 33.259861789745635, 32.22565324660054, 33.843995385700524, 34.77157703363817, 34.33037573056614, 35.66745291542685]}, {\"boxpoints\": false, \"line\": {\"width\": 1.3}, \"marker\": {\"color\": \"rgba(55, 128, 191, 1.0)\"}, \"name\": \"B\", \"orientation\": \"v\", \"type\": \"box\", \"y\": [20.224687685551356, 21.536439565654074, 21.672018362970196, 22.366361690454035, 22.093768209281308, 23.77342317347896, 21.805695111712296, 20.842045670428, 21.430651096374042, 21.413930530697023, 21.312356669735497, 19.960349979970797, 20.237370835571713, 21.283258142565337, 22.420773158872006, 21.551012710301567, 20.3569653364381, 20.651263542071955, 22.543617901983065, 21.309599875528917, 20.75926504618888, 19.631781060746647, 20.26848545548732, 20.851528560744118, 20.76848005448148, 21.411400999579257, 21.21495942958562, 22.04877676072323, 22.75235854062727, 22.43369478495357, 23.041266560617544, 23.824741253326224, 23.862846221665926, 23.926981640728975, 23.42223304197247, 24.89391052726584, 25.202050112997586, 26.232593629331745, 26.136291606720977, 25.79390973986341, 26.509119734403658, 26.55859024588922, 26.070832367832416, 26.693919506567667, 26.82528895762112, 28.605463871107744, 28.277318673161687, 28.212164078599997, 27.343268048315824, 27.46907294696319, 27.542122828435385, 27.667793752924535, 27.790056083146304, 27.98692472906863, 27.117414511804206, 29.278771604726526, 27.887134101277386, 25.763544260321947, 22.99730014677046, 25.658460334790743, 25.6233399663063, 27.76091899673433, 26.01680608810962, 26.62516152228668, 26.455325659088857, 25.46543046931759, 27.470368352760293, 26.440325426923316, 25.80987744554895, 25.891292002734314, 25.736758139924397, 25.738965526604602, 24.91063538613909, 25.214244487860952, 24.550886005756134, 23.940249960473487, 24.86476869360318, 25.97038667509796, 25.385713257576374, 24.817846729590386, 25.15495446454062, 26.155673227886034, 26.50727384596003, 27.737896005494044, 26.846300767422374, 26.808635521563268, 24.784149960600395, 25.677035152020835, 27.704830625596962, 29.6180225812225, 30.210529126285607, 30.317321809807737, 32.18867411674365, 32.11351363502118, 32.311632730681296, 30.778588188023548, 30.961984418506045, 32.1197208587845, 31.802136712132004, 32.66762057325556]}, {\"boxpoints\": false, \"line\": {\"width\": 1.3}, \"marker\": {\"color\": \"rgba(50, 171, 96, 1.0)\"}, \"name\": \"C\", \"orientation\": \"v\", \"type\": \"box\", \"y\": [20.59130510758723, 21.270308095882953, 21.237413885829824, 22.158376601734638, 20.592571302314955, 19.219670330695607, 19.517393137145504, 19.557096280029477, 20.176562147518588, 20.237441220624994, 23.11717949789354, 22.2645056608889, 22.59321708827719, 23.786871759359794, 24.55407224706895, 24.31406875830635, 22.322069415995998, 22.497924258478594, 19.92176319383767, 21.05432877058883, 21.665555687140344, 21.727401137496823, 20.456400629978173, 20.887362056217096, 21.363503700398233, 22.20415361842026, 23.289644148178688, 23.556173768632235, 22.864864670947384, 22.624504115033208, 21.994551342701598, 21.1821155062218, 21.020108146032086, 19.641362173248904, 19.041795644409248, 18.944911265788072, 17.46651075791815, 18.108355651082846, 16.464934091038874, 14.198934468242438, 14.902409381685445, 15.296853863322646, 14.161243286743936, 14.830630325366688, 15.058455844050034, 14.627212626411847, 13.520242609318878, 12.298335861994438, 11.849599644473788, 11.470118682992505, 11.307898569798922, 12.069319571781275, 12.377825603430606, 10.935053505785588, 9.303174350276525, 9.317611076398162, 9.343941802354843, 8.794420111041577, 9.429788661766079, 8.80213241436428, 8.82280579862743, 8.409245297375467, 7.030066184009474, 7.720774764506679, 8.38170330554778, 7.368902967103656, 7.259244354534905, 7.048181422037999, 7.89112658469082, 8.040620348171347, 7.61092664142849, 7.885990937094235, 6.991550147196591, 7.159428913036839, 6.632901294940195, 6.8067172861791825, 7.812223860001133, 6.712712290315135, 6.309104981231487, 5.840692523829707, 6.171335433832075, 5.745261736312543, 5.879900448033064, 6.555246619105677, 5.813463733667177, 4.38959053747422, 3.606719041214788, 1.7989883150710106, 3.0915588594432393, 3.3118811186900743, 4.094325863174625, 2.8656922583841755, 1.7212337429867866, 2.0566141546311165, 2.3982591520294676, 3.4687572092798717, 2.408982029929895, 2.161709947421592, 2.4764338920764963, 3.630398333934064]}],\n",
       "                        {\"legend\": {\"bgcolor\": \"#151516\", \"font\": {\"color\": \"#D9D9D9\"}}, \"paper_bgcolor\": \"#151516\", \"plot_bgcolor\": \"#151516\", \"template\": {\"data\": {\"bar\": [{\"error_x\": {\"color\": \"#2a3f5f\"}, \"error_y\": {\"color\": \"#2a3f5f\"}, \"marker\": {\"line\": {\"color\": \"#E5ECF6\", \"width\": 0.5}}, \"type\": \"bar\"}], \"barpolar\": [{\"marker\": {\"line\": {\"color\": \"#E5ECF6\", \"width\": 0.5}}, \"type\": \"barpolar\"}], \"carpet\": [{\"aaxis\": {\"endlinecolor\": \"#2a3f5f\", \"gridcolor\": \"white\", \"linecolor\": \"white\", \"minorgridcolor\": \"white\", \"startlinecolor\": \"#2a3f5f\"}, \"baxis\": {\"endlinecolor\": \"#2a3f5f\", \"gridcolor\": \"white\", \"linecolor\": \"white\", \"minorgridcolor\": \"white\", \"startlinecolor\": \"#2a3f5f\"}, \"type\": \"carpet\"}], \"choropleth\": [{\"colorbar\": {\"outlinewidth\": 0, \"ticks\": \"\"}, \"type\": \"choropleth\"}], \"contour\": [{\"colorbar\": {\"outlinewidth\": 0, \"ticks\": \"\"}, \"colorscale\": [[0.0, \"#0d0887\"], [0.1111111111111111, \"#46039f\"], [0.2222222222222222, \"#7201a8\"], [0.3333333333333333, \"#9c179e\"], [0.4444444444444444, \"#bd3786\"], [0.5555555555555556, \"#d8576b\"], [0.6666666666666666, \"#ed7953\"], [0.7777777777777778, \"#fb9f3a\"], [0.8888888888888888, \"#fdca26\"], [1.0, \"#f0f921\"]], \"type\": \"contour\"}], \"contourcarpet\": [{\"colorbar\": {\"outlinewidth\": 0, \"ticks\": \"\"}, \"type\": \"contourcarpet\"}], \"heatmap\": [{\"colorbar\": {\"outlinewidth\": 0, \"ticks\": \"\"}, \"colorscale\": [[0.0, \"#0d0887\"], [0.1111111111111111, \"#46039f\"], [0.2222222222222222, \"#7201a8\"], [0.3333333333333333, \"#9c179e\"], [0.4444444444444444, \"#bd3786\"], [0.5555555555555556, \"#d8576b\"], [0.6666666666666666, \"#ed7953\"], [0.7777777777777778, \"#fb9f3a\"], [0.8888888888888888, \"#fdca26\"], [1.0, \"#f0f921\"]], \"type\": \"heatmap\"}], \"heatmapgl\": [{\"colorbar\": {\"outlinewidth\": 0, \"ticks\": \"\"}, \"colorscale\": [[0.0, \"#0d0887\"], [0.1111111111111111, \"#46039f\"], [0.2222222222222222, \"#7201a8\"], [0.3333333333333333, \"#9c179e\"], [0.4444444444444444, \"#bd3786\"], [0.5555555555555556, \"#d8576b\"], [0.6666666666666666, \"#ed7953\"], [0.7777777777777778, \"#fb9f3a\"], [0.8888888888888888, \"#fdca26\"], [1.0, \"#f0f921\"]], \"type\": \"heatmapgl\"}], \"histogram\": [{\"marker\": {\"colorbar\": {\"outlinewidth\": 0, \"ticks\": \"\"}}, \"type\": \"histogram\"}], \"histogram2d\": [{\"colorbar\": {\"outlinewidth\": 0, \"ticks\": \"\"}, \"colorscale\": [[0.0, \"#0d0887\"], [0.1111111111111111, \"#46039f\"], [0.2222222222222222, \"#7201a8\"], [0.3333333333333333, \"#9c179e\"], [0.4444444444444444, \"#bd3786\"], [0.5555555555555556, \"#d8576b\"], [0.6666666666666666, \"#ed7953\"], [0.7777777777777778, \"#fb9f3a\"], [0.8888888888888888, \"#fdca26\"], [1.0, \"#f0f921\"]], \"type\": \"histogram2d\"}], \"histogram2dcontour\": [{\"colorbar\": {\"outlinewidth\": 0, \"ticks\": \"\"}, \"colorscale\": [[0.0, \"#0d0887\"], [0.1111111111111111, \"#46039f\"], [0.2222222222222222, \"#7201a8\"], [0.3333333333333333, \"#9c179e\"], [0.4444444444444444, \"#bd3786\"], [0.5555555555555556, \"#d8576b\"], [0.6666666666666666, \"#ed7953\"], [0.7777777777777778, \"#fb9f3a\"], [0.8888888888888888, \"#fdca26\"], [1.0, \"#f0f921\"]], \"type\": \"histogram2dcontour\"}], \"mesh3d\": [{\"colorbar\": {\"outlinewidth\": 0, \"ticks\": \"\"}, \"type\": \"mesh3d\"}], \"parcoords\": [{\"line\": {\"colorbar\": {\"outlinewidth\": 0, \"ticks\": \"\"}}, \"type\": \"parcoords\"}], \"pie\": [{\"automargin\": true, \"type\": \"pie\"}], \"scatter\": [{\"marker\": {\"colorbar\": {\"outlinewidth\": 0, \"ticks\": \"\"}}, \"type\": \"scatter\"}], \"scatter3d\": [{\"line\": {\"colorbar\": {\"outlinewidth\": 0, \"ticks\": \"\"}}, \"marker\": {\"colorbar\": {\"outlinewidth\": 0, \"ticks\": \"\"}}, \"type\": \"scatter3d\"}], \"scattercarpet\": [{\"marker\": {\"colorbar\": {\"outlinewidth\": 0, \"ticks\": \"\"}}, \"type\": \"scattercarpet\"}], \"scattergeo\": [{\"marker\": {\"colorbar\": {\"outlinewidth\": 0, \"ticks\": \"\"}}, \"type\": \"scattergeo\"}], \"scattergl\": [{\"marker\": {\"colorbar\": {\"outlinewidth\": 0, \"ticks\": \"\"}}, \"type\": \"scattergl\"}], \"scattermapbox\": [{\"marker\": {\"colorbar\": {\"outlinewidth\": 0, \"ticks\": \"\"}}, \"type\": \"scattermapbox\"}], \"scatterpolar\": [{\"marker\": {\"colorbar\": {\"outlinewidth\": 0, \"ticks\": \"\"}}, \"type\": \"scatterpolar\"}], \"scatterpolargl\": [{\"marker\": {\"colorbar\": {\"outlinewidth\": 0, \"ticks\": \"\"}}, \"type\": \"scatterpolargl\"}], \"scatterternary\": [{\"marker\": {\"colorbar\": {\"outlinewidth\": 0, \"ticks\": \"\"}}, \"type\": \"scatterternary\"}], \"surface\": [{\"colorbar\": {\"outlinewidth\": 0, \"ticks\": \"\"}, \"colorscale\": [[0.0, \"#0d0887\"], [0.1111111111111111, \"#46039f\"], [0.2222222222222222, \"#7201a8\"], [0.3333333333333333, \"#9c179e\"], [0.4444444444444444, \"#bd3786\"], [0.5555555555555556, \"#d8576b\"], [0.6666666666666666, \"#ed7953\"], [0.7777777777777778, \"#fb9f3a\"], [0.8888888888888888, \"#fdca26\"], [1.0, \"#f0f921\"]], \"type\": \"surface\"}], \"table\": [{\"cells\": {\"fill\": {\"color\": \"#EBF0F8\"}, \"line\": {\"color\": \"white\"}}, \"header\": {\"fill\": {\"color\": \"#C8D4E3\"}, \"line\": {\"color\": \"white\"}}, \"type\": \"table\"}]}, \"layout\": {\"annotationdefaults\": {\"arrowcolor\": \"#2a3f5f\", \"arrowhead\": 0, \"arrowwidth\": 1}, \"coloraxis\": {\"colorbar\": {\"outlinewidth\": 0, \"ticks\": \"\"}}, \"colorscale\": {\"diverging\": [[0, \"#8e0152\"], [0.1, \"#c51b7d\"], [0.2, \"#de77ae\"], [0.3, \"#f1b6da\"], [0.4, \"#fde0ef\"], [0.5, \"#f7f7f7\"], [0.6, \"#e6f5d0\"], [0.7, \"#b8e186\"], [0.8, \"#7fbc41\"], [0.9, \"#4d9221\"], [1, \"#276419\"]], \"sequential\": [[0.0, \"#0d0887\"], [0.1111111111111111, \"#46039f\"], [0.2222222222222222, \"#7201a8\"], [0.3333333333333333, \"#9c179e\"], [0.4444444444444444, \"#bd3786\"], [0.5555555555555556, \"#d8576b\"], [0.6666666666666666, \"#ed7953\"], [0.7777777777777778, \"#fb9f3a\"], [0.8888888888888888, \"#fdca26\"], [1.0, \"#f0f921\"]], \"sequentialminus\": [[0.0, \"#0d0887\"], [0.1111111111111111, \"#46039f\"], [0.2222222222222222, \"#7201a8\"], [0.3333333333333333, \"#9c179e\"], [0.4444444444444444, \"#bd3786\"], [0.5555555555555556, \"#d8576b\"], [0.6666666666666666, \"#ed7953\"], [0.7777777777777778, \"#fb9f3a\"], [0.8888888888888888, \"#fdca26\"], [1.0, \"#f0f921\"]]}, \"colorway\": [\"#636efa\", \"#EF553B\", \"#00cc96\", \"#ab63fa\", \"#FFA15A\", \"#19d3f3\", \"#FF6692\", \"#B6E880\", \"#FF97FF\", \"#FECB52\"], \"font\": {\"color\": \"#2a3f5f\"}, \"geo\": {\"bgcolor\": \"white\", \"lakecolor\": \"white\", \"landcolor\": \"#E5ECF6\", \"showlakes\": true, \"showland\": true, \"subunitcolor\": \"white\"}, \"hoverlabel\": {\"align\": \"left\"}, \"hovermode\": \"closest\", \"mapbox\": {\"style\": \"light\"}, \"paper_bgcolor\": \"white\", \"plot_bgcolor\": \"#E5ECF6\", \"polar\": {\"angularaxis\": {\"gridcolor\": \"white\", \"linecolor\": \"white\", \"ticks\": \"\"}, \"bgcolor\": \"#E5ECF6\", \"radialaxis\": {\"gridcolor\": \"white\", \"linecolor\": \"white\", \"ticks\": \"\"}}, \"scene\": {\"xaxis\": {\"backgroundcolor\": \"#E5ECF6\", \"gridcolor\": \"white\", \"gridwidth\": 2, \"linecolor\": \"white\", \"showbackground\": true, \"ticks\": \"\", \"zerolinecolor\": \"white\"}, \"yaxis\": {\"backgroundcolor\": \"#E5ECF6\", \"gridcolor\": \"white\", \"gridwidth\": 2, \"linecolor\": \"white\", \"showbackground\": true, \"ticks\": \"\", \"zerolinecolor\": \"white\"}, \"zaxis\": {\"backgroundcolor\": \"#E5ECF6\", \"gridcolor\": \"white\", \"gridwidth\": 2, \"linecolor\": \"white\", \"showbackground\": true, \"ticks\": \"\", \"zerolinecolor\": \"white\"}}, \"shapedefaults\": {\"line\": {\"color\": \"#2a3f5f\"}}, \"ternary\": {\"aaxis\": {\"gridcolor\": \"white\", \"linecolor\": \"white\", \"ticks\": \"\"}, \"baxis\": {\"gridcolor\": \"white\", \"linecolor\": \"white\", \"ticks\": \"\"}, \"bgcolor\": \"#E5ECF6\", \"caxis\": {\"gridcolor\": \"white\", \"linecolor\": \"white\", \"ticks\": \"\"}}, \"title\": {\"x\": 0.05}, \"xaxis\": {\"automargin\": true, \"gridcolor\": \"white\", \"linecolor\": \"white\", \"ticks\": \"\", \"title\": {\"standoff\": 15}, \"zerolinecolor\": \"white\", \"zerolinewidth\": 2}, \"yaxis\": {\"automargin\": true, \"gridcolor\": \"white\", \"linecolor\": \"white\", \"ticks\": \"\", \"title\": {\"standoff\": 15}, \"zerolinecolor\": \"white\", \"zerolinewidth\": 2}}}, \"title\": {\"font\": {\"color\": \"#D9D9D9\"}}, \"xaxis\": {\"gridcolor\": \"#434343\", \"showgrid\": true, \"tickfont\": {\"color\": \"#C2C2C2\"}, \"title\": {\"font\": {\"color\": \"#D9D9D9\"}, \"text\": \"\"}, \"zerolinecolor\": \"#666570\"}, \"yaxis\": {\"gridcolor\": \"#434343\", \"showgrid\": true, \"tickfont\": {\"color\": \"#C2C2C2\"}, \"title\": {\"font\": {\"color\": \"#D9D9D9\"}, \"text\": \"\"}, \"zerolinecolor\": \"#666570\"}},\n",
       "                        {\"showLink\": true, \"linkText\": \"Export to plot.ly\", \"plotlyServerURL\": \"https://plot.ly\", \"responsive\": true}\n",
       "                    ).then(function(){\n",
       "                            \n",
       "var gd = document.getElementById('c13b54c0-00a5-4828-895e-2034d886d254');\n",
       "var x = new MutationObserver(function (mutations, observer) {{\n",
       "        var display = window.getComputedStyle(gd).display;\n",
       "        if (!display || display === 'none') {{\n",
       "            console.log([gd, 'removed!']);\n",
       "            Plotly.purge(gd);\n",
       "            observer.disconnect();\n",
       "        }}\n",
       "}});\n",
       "\n",
       "// Listen for the removal of the full notebook cells\n",
       "var notebookContainer = gd.closest('#notebook-container');\n",
       "if (notebookContainer) {{\n",
       "    x.observe(notebookContainer, {childList: true});\n",
       "}}\n",
       "\n",
       "// Listen for the clearing of the current output cell\n",
       "var outputEl = gd.closest('.output');\n",
       "if (outputEl) {{\n",
       "    x.observe(outputEl, {childList: true});\n",
       "}}\n",
       "\n",
       "                        })\n",
       "                };\n",
       "                });\n",
       "            </script>\n",
       "        </div>"
      ]
     },
     "metadata": {},
     "output_type": "display_data"
    }
   ],
   "source": [
    " df.iplot(kind='box')"
   ]
  },
  {
   "cell_type": "code",
   "execution_count": 60,
   "metadata": {},
   "outputs": [
    {
     "data": {
      "application/vnd.plotly.v1+json": {
       "config": {
        "linkText": "Export to plot.ly",
        "plotlyServerURL": "https://plot.ly",
        "showLink": true
       },
       "data": [
        {
         "fill": "tonexty",
         "fillcolor": "rgba(255, 153, 51, 0.3)",
         "line": {
          "color": "rgba(255, 153, 51, 1.0)",
          "dash": "solid",
          "shape": "linear",
          "width": 1.3
         },
         "mode": "lines",
         "name": "A",
         "text": "",
         "type": "scatter",
         "x": [
          0,
          1,
          2,
          3,
          4,
          5,
          6,
          7,
          8,
          9,
          10,
          11,
          12,
          13,
          14,
          15,
          16,
          17,
          18,
          19,
          20,
          21,
          22,
          23,
          24,
          25,
          26,
          27,
          28,
          29,
          30,
          31,
          32,
          33,
          34,
          35,
          36,
          37,
          38,
          39,
          40,
          41,
          42,
          43,
          44,
          45,
          46,
          47,
          48,
          49,
          50,
          51,
          52,
          53,
          54,
          55,
          56,
          57,
          58,
          59,
          60,
          61,
          62,
          63,
          64,
          65,
          66,
          67,
          68,
          69,
          70,
          71,
          72,
          73,
          74,
          75,
          76,
          77,
          78,
          79,
          80,
          81,
          82,
          83,
          84,
          85,
          86,
          87,
          88,
          89,
          90,
          91,
          92,
          93,
          94,
          95,
          96,
          97,
          98,
          99
         ],
         "y": [
          19.05355417423916,
          18.952217225493925,
          19.865365899479734,
          19.63894883538949,
          18.69433573604271,
          20.16177760391001,
          18.706721148102186,
          20.83021578349943,
          20.813770424039916,
          21.876577899494947,
          23.4157025609715,
          22.48607651867613,
          23.25896799151132,
          24.853746571571484,
          26.399388646384505,
          27.302020733241726,
          26.601442256932568,
          26.844437565324256,
          24.88689913716809,
          25.007194393161065,
          25.465628571769408,
          24.717480092329993,
          24.89376823976289,
          24.12852385347762,
          24.682892116294685,
          24.172311582147568,
          24.94042188534207,
          23.44096989873089,
          22.720716338251737,
          24.002316726950582,
          25.069318855339,
          24.4512159216163,
          22.963361830000697,
          20.93760262243009,
          17.898001133826952,
          19.675888324282013,
          20.744858125185726,
          23.23197011092468,
          24.120654400923726,
          24.368612281042843,
          22.98387948917498,
          22.443812807233037,
          21.561799339469225,
          21.46663493633641,
          21.494712151145823,
          20.265810969262205,
          19.29283374536078,
          18.603965591064245,
          18.023265505192516,
          18.69785175886604,
          19.607959504013458,
          19.004016179600125,
          16.986759461223656,
          18.329309886042573,
          19.052399618290732,
          19.029227590135285,
          20.267392981564747,
          18.98485715628038,
          17.45220014359349,
          18.4724176135328,
          18.793109557266042,
          20.758480502975218,
          21.693841607759047,
          21.41199762345162,
          22.40769957423957,
          22.816663705235424,
          23.207709446586406,
          23.537797606994967,
          25.689798527285987,
          25.562227076430634,
          26.855415853177288,
          25.55917622084909,
          25.901748781714026,
          27.08172185921103,
          27.117412019943735,
          28.342903962632406,
          28.27067268969956,
          28.566124358905135,
          29.30358008491224,
          28.129816653061603,
          27.927104713181173,
          27.19418290107574,
          29.300173117310973,
          29.69985220771088,
          32.1568512875961,
          31.932307925439222,
          32.323043576459504,
          30.972872477316358,
          31.08736272483948,
          32.75641107457476,
          32.12766645159634,
          34.12996690601166,
          33.43424607783305,
          32.519348467732655,
          33.259861789745635,
          32.22565324660054,
          33.843995385700524,
          34.77157703363817,
          34.33037573056614,
          35.66745291542685
         ]
        },
        {
         "fill": "tonexty",
         "fillcolor": "rgba(55, 128, 191, 0.3)",
         "line": {
          "color": "rgba(55, 128, 191, 1.0)",
          "dash": "solid",
          "shape": "linear",
          "width": 1.3
         },
         "mode": "lines",
         "name": "B",
         "text": "",
         "type": "scatter",
         "x": [
          0,
          1,
          2,
          3,
          4,
          5,
          6,
          7,
          8,
          9,
          10,
          11,
          12,
          13,
          14,
          15,
          16,
          17,
          18,
          19,
          20,
          21,
          22,
          23,
          24,
          25,
          26,
          27,
          28,
          29,
          30,
          31,
          32,
          33,
          34,
          35,
          36,
          37,
          38,
          39,
          40,
          41,
          42,
          43,
          44,
          45,
          46,
          47,
          48,
          49,
          50,
          51,
          52,
          53,
          54,
          55,
          56,
          57,
          58,
          59,
          60,
          61,
          62,
          63,
          64,
          65,
          66,
          67,
          68,
          69,
          70,
          71,
          72,
          73,
          74,
          75,
          76,
          77,
          78,
          79,
          80,
          81,
          82,
          83,
          84,
          85,
          86,
          87,
          88,
          89,
          90,
          91,
          92,
          93,
          94,
          95,
          96,
          97,
          98,
          99
         ],
         "y": [
          39.27824185979051,
          40.488656791148,
          41.53738426244993,
          42.00531052584353,
          40.78810394532402,
          43.93520077738897,
          40.512416259814486,
          41.67226145392743,
          42.24442152041396,
          43.29050843019197,
          44.728059230707,
          42.44642649864693,
          43.49633882708304,
          46.13700471413682,
          48.82016180525651,
          48.853033443543296,
          46.958407593370666,
          47.495701107396215,
          47.430517039151155,
          46.31679426868998,
          46.22489361795829,
          44.34926115307664,
          45.16225369525021,
          44.98005241422174,
          45.45137217077617,
          45.58371258172683,
          46.15538131492769,
          45.48974665945412,
          45.473074878879004,
          46.436011511904155,
          48.11058541595654,
          48.27595717494252,
          46.826208051666626,
          44.86458426315907,
          41.32023417579942,
          44.56979885154786,
          45.94690823818331,
          49.46456374025642,
          50.2569460076447,
          50.16252202090625,
          49.492999223578636,
          49.00240305312226,
          47.63263170730164,
          48.16055444290407,
          48.320001108766945,
          48.87127484036995,
          47.57015241852247,
          46.81612966966424,
          45.36653355350834,
          46.16692470582923,
          47.15008233244885,
          46.67180993252466,
          44.77681554436996,
          46.3162346151112,
          46.169814130094935,
          48.30799919486181,
          48.15452708284214,
          44.74840141660233,
          40.44950029036395,
          44.130877948323544,
          44.41644952357234,
          48.51939949970955,
          47.71064769586867,
          48.0371591457383,
          48.86302523332843,
          48.28209417455301,
          50.678077799346696,
          49.97812303391828,
          51.499675972834936,
          51.45351907916495,
          52.59217399310168,
          51.29814174745369,
          50.81238416785312,
          52.29596634707198,
          51.66829802569987,
          52.28315392310589,
          53.13544138330274,
          54.5365110340031,
          54.68929334248861,
          52.94766338265199,
          53.08205917772179,
          53.349856128961775,
          55.807446963271005,
          57.43774821320493,
          59.003152055018475,
          58.74094344700249,
          57.1071935370599,
          56.64990762933719,
          58.79219335043644,
          62.37443365579726,
          62.33819557788195,
          64.4472887158194,
          65.6229201945767,
          64.63286210275383,
          65.57149452042694,
          63.004241434624085,
          64.80597980420657,
          66.89129789242267,
          66.13251244269814,
          68.33507348868241
         ]
        },
        {
         "fill": "tonexty",
         "fillcolor": "rgba(50, 171, 96, 0.3)",
         "line": {
          "color": "rgba(50, 171, 96, 1.0)",
          "dash": "solid",
          "shape": "linear",
          "width": 1.3
         },
         "mode": "lines",
         "name": "C",
         "text": "",
         "type": "scatter",
         "x": [
          0,
          1,
          2,
          3,
          4,
          5,
          6,
          7,
          8,
          9,
          10,
          11,
          12,
          13,
          14,
          15,
          16,
          17,
          18,
          19,
          20,
          21,
          22,
          23,
          24,
          25,
          26,
          27,
          28,
          29,
          30,
          31,
          32,
          33,
          34,
          35,
          36,
          37,
          38,
          39,
          40,
          41,
          42,
          43,
          44,
          45,
          46,
          47,
          48,
          49,
          50,
          51,
          52,
          53,
          54,
          55,
          56,
          57,
          58,
          59,
          60,
          61,
          62,
          63,
          64,
          65,
          66,
          67,
          68,
          69,
          70,
          71,
          72,
          73,
          74,
          75,
          76,
          77,
          78,
          79,
          80,
          81,
          82,
          83,
          84,
          85,
          86,
          87,
          88,
          89,
          90,
          91,
          92,
          93,
          94,
          95,
          96,
          97,
          98,
          99
         ],
         "y": [
          59.869546967377744,
          61.758964887030956,
          62.77479814827976,
          64.16368712757816,
          61.380675247638976,
          63.15487110808458,
          60.02980939695999,
          61.22935773395691,
          62.420983667932546,
          63.527949650816964,
          67.84523872860053,
          64.71093215953583,
          66.08955591536022,
          69.92387647349662,
          73.37423405232546,
          73.16710220184964,
          69.28047700936666,
          69.9936253658748,
          67.35228023298882,
          67.37112303927881,
          67.89044930509863,
          66.07666229057347,
          65.61865432522838,
          65.86741447043883,
          66.8148758711744,
          67.78786620014709,
          69.44502546310638,
          69.04592042808636,
          68.33793954982639,
          69.06051562693736,
          70.10513675865815,
          69.45807268116431,
          67.84631619769871,
          64.50594643640797,
          60.36202982020867,
          63.51471011733593,
          63.41341899610146,
          67.57291939133927,
          66.72188009868357,
          64.3614564891487,
          64.39540860526408,
          64.2992569164449,
          61.79387499404558,
          62.991184768270756,
          63.378456952816975,
          63.498487466781796,
          61.090395027841346,
          59.11446553165868,
          57.21613319798213,
          57.63704338882174,
          58.45798090224777,
          58.74112950430593,
          57.15464114780057,
          57.25128812089679,
          55.472988480371455,
          57.62561027125997,
          57.49846888519698,
          53.5428215276439,
          49.879288952130025,
          52.933010362687824,
          53.23925532219977,
          56.92864479708501,
          54.74071387987814,
          55.75793391024498,
          57.24472853887621,
          55.65099714165667,
          57.9373221538816,
          57.02630445595628,
          59.39080255752576,
          59.49413942733629,
          60.20310063453017,
          59.184132684547926,
          57.80393431504971,
          59.45539526010882,
          58.301199320640066,
          59.08987120928508,
          60.947665243303874,
          61.24922332431824,
          60.998398323720096,
          58.7883559064817,
          59.253394611553865,
          59.09511786527432,
          61.68734741130407,
          63.9929948323106,
          64.81661578868565,
          63.13053398447671,
          60.71391257827469,
          58.44889594440821,
          61.88375220987968,
          65.68631477448733,
          66.43252144105656,
          67.31298097420357,
          67.34415393756348,
          66.68947625738495,
          67.9697536724564,
          66.47299864390396,
          67.21496183413646,
          69.05300783984427,
          68.60894633477464,
          71.96547182261648
         ]
        }
       ],
       "layout": {
        "legend": {
         "bgcolor": "#151516",
         "font": {
          "color": "#D9D9D9"
         }
        },
        "paper_bgcolor": "#151516",
        "plot_bgcolor": "#151516",
        "template": {
         "data": {
          "bar": [
           {
            "error_x": {
             "color": "#2a3f5f"
            },
            "error_y": {
             "color": "#2a3f5f"
            },
            "marker": {
             "line": {
              "color": "#E5ECF6",
              "width": 0.5
             }
            },
            "type": "bar"
           }
          ],
          "barpolar": [
           {
            "marker": {
             "line": {
              "color": "#E5ECF6",
              "width": 0.5
             }
            },
            "type": "barpolar"
           }
          ],
          "carpet": [
           {
            "aaxis": {
             "endlinecolor": "#2a3f5f",
             "gridcolor": "white",
             "linecolor": "white",
             "minorgridcolor": "white",
             "startlinecolor": "#2a3f5f"
            },
            "baxis": {
             "endlinecolor": "#2a3f5f",
             "gridcolor": "white",
             "linecolor": "white",
             "minorgridcolor": "white",
             "startlinecolor": "#2a3f5f"
            },
            "type": "carpet"
           }
          ],
          "choropleth": [
           {
            "colorbar": {
             "outlinewidth": 0,
             "ticks": ""
            },
            "type": "choropleth"
           }
          ],
          "contour": [
           {
            "colorbar": {
             "outlinewidth": 0,
             "ticks": ""
            },
            "colorscale": [
             [
              0,
              "#0d0887"
             ],
             [
              0.1111111111111111,
              "#46039f"
             ],
             [
              0.2222222222222222,
              "#7201a8"
             ],
             [
              0.3333333333333333,
              "#9c179e"
             ],
             [
              0.4444444444444444,
              "#bd3786"
             ],
             [
              0.5555555555555556,
              "#d8576b"
             ],
             [
              0.6666666666666666,
              "#ed7953"
             ],
             [
              0.7777777777777778,
              "#fb9f3a"
             ],
             [
              0.8888888888888888,
              "#fdca26"
             ],
             [
              1,
              "#f0f921"
             ]
            ],
            "type": "contour"
           }
          ],
          "contourcarpet": [
           {
            "colorbar": {
             "outlinewidth": 0,
             "ticks": ""
            },
            "type": "contourcarpet"
           }
          ],
          "heatmap": [
           {
            "colorbar": {
             "outlinewidth": 0,
             "ticks": ""
            },
            "colorscale": [
             [
              0,
              "#0d0887"
             ],
             [
              0.1111111111111111,
              "#46039f"
             ],
             [
              0.2222222222222222,
              "#7201a8"
             ],
             [
              0.3333333333333333,
              "#9c179e"
             ],
             [
              0.4444444444444444,
              "#bd3786"
             ],
             [
              0.5555555555555556,
              "#d8576b"
             ],
             [
              0.6666666666666666,
              "#ed7953"
             ],
             [
              0.7777777777777778,
              "#fb9f3a"
             ],
             [
              0.8888888888888888,
              "#fdca26"
             ],
             [
              1,
              "#f0f921"
             ]
            ],
            "type": "heatmap"
           }
          ],
          "heatmapgl": [
           {
            "colorbar": {
             "outlinewidth": 0,
             "ticks": ""
            },
            "colorscale": [
             [
              0,
              "#0d0887"
             ],
             [
              0.1111111111111111,
              "#46039f"
             ],
             [
              0.2222222222222222,
              "#7201a8"
             ],
             [
              0.3333333333333333,
              "#9c179e"
             ],
             [
              0.4444444444444444,
              "#bd3786"
             ],
             [
              0.5555555555555556,
              "#d8576b"
             ],
             [
              0.6666666666666666,
              "#ed7953"
             ],
             [
              0.7777777777777778,
              "#fb9f3a"
             ],
             [
              0.8888888888888888,
              "#fdca26"
             ],
             [
              1,
              "#f0f921"
             ]
            ],
            "type": "heatmapgl"
           }
          ],
          "histogram": [
           {
            "marker": {
             "colorbar": {
              "outlinewidth": 0,
              "ticks": ""
             }
            },
            "type": "histogram"
           }
          ],
          "histogram2d": [
           {
            "colorbar": {
             "outlinewidth": 0,
             "ticks": ""
            },
            "colorscale": [
             [
              0,
              "#0d0887"
             ],
             [
              0.1111111111111111,
              "#46039f"
             ],
             [
              0.2222222222222222,
              "#7201a8"
             ],
             [
              0.3333333333333333,
              "#9c179e"
             ],
             [
              0.4444444444444444,
              "#bd3786"
             ],
             [
              0.5555555555555556,
              "#d8576b"
             ],
             [
              0.6666666666666666,
              "#ed7953"
             ],
             [
              0.7777777777777778,
              "#fb9f3a"
             ],
             [
              0.8888888888888888,
              "#fdca26"
             ],
             [
              1,
              "#f0f921"
             ]
            ],
            "type": "histogram2d"
           }
          ],
          "histogram2dcontour": [
           {
            "colorbar": {
             "outlinewidth": 0,
             "ticks": ""
            },
            "colorscale": [
             [
              0,
              "#0d0887"
             ],
             [
              0.1111111111111111,
              "#46039f"
             ],
             [
              0.2222222222222222,
              "#7201a8"
             ],
             [
              0.3333333333333333,
              "#9c179e"
             ],
             [
              0.4444444444444444,
              "#bd3786"
             ],
             [
              0.5555555555555556,
              "#d8576b"
             ],
             [
              0.6666666666666666,
              "#ed7953"
             ],
             [
              0.7777777777777778,
              "#fb9f3a"
             ],
             [
              0.8888888888888888,
              "#fdca26"
             ],
             [
              1,
              "#f0f921"
             ]
            ],
            "type": "histogram2dcontour"
           }
          ],
          "mesh3d": [
           {
            "colorbar": {
             "outlinewidth": 0,
             "ticks": ""
            },
            "type": "mesh3d"
           }
          ],
          "parcoords": [
           {
            "line": {
             "colorbar": {
              "outlinewidth": 0,
              "ticks": ""
             }
            },
            "type": "parcoords"
           }
          ],
          "pie": [
           {
            "automargin": true,
            "type": "pie"
           }
          ],
          "scatter": [
           {
            "marker": {
             "colorbar": {
              "outlinewidth": 0,
              "ticks": ""
             }
            },
            "type": "scatter"
           }
          ],
          "scatter3d": [
           {
            "line": {
             "colorbar": {
              "outlinewidth": 0,
              "ticks": ""
             }
            },
            "marker": {
             "colorbar": {
              "outlinewidth": 0,
              "ticks": ""
             }
            },
            "type": "scatter3d"
           }
          ],
          "scattercarpet": [
           {
            "marker": {
             "colorbar": {
              "outlinewidth": 0,
              "ticks": ""
             }
            },
            "type": "scattercarpet"
           }
          ],
          "scattergeo": [
           {
            "marker": {
             "colorbar": {
              "outlinewidth": 0,
              "ticks": ""
             }
            },
            "type": "scattergeo"
           }
          ],
          "scattergl": [
           {
            "marker": {
             "colorbar": {
              "outlinewidth": 0,
              "ticks": ""
             }
            },
            "type": "scattergl"
           }
          ],
          "scattermapbox": [
           {
            "marker": {
             "colorbar": {
              "outlinewidth": 0,
              "ticks": ""
             }
            },
            "type": "scattermapbox"
           }
          ],
          "scatterpolar": [
           {
            "marker": {
             "colorbar": {
              "outlinewidth": 0,
              "ticks": ""
             }
            },
            "type": "scatterpolar"
           }
          ],
          "scatterpolargl": [
           {
            "marker": {
             "colorbar": {
              "outlinewidth": 0,
              "ticks": ""
             }
            },
            "type": "scatterpolargl"
           }
          ],
          "scatterternary": [
           {
            "marker": {
             "colorbar": {
              "outlinewidth": 0,
              "ticks": ""
             }
            },
            "type": "scatterternary"
           }
          ],
          "surface": [
           {
            "colorbar": {
             "outlinewidth": 0,
             "ticks": ""
            },
            "colorscale": [
             [
              0,
              "#0d0887"
             ],
             [
              0.1111111111111111,
              "#46039f"
             ],
             [
              0.2222222222222222,
              "#7201a8"
             ],
             [
              0.3333333333333333,
              "#9c179e"
             ],
             [
              0.4444444444444444,
              "#bd3786"
             ],
             [
              0.5555555555555556,
              "#d8576b"
             ],
             [
              0.6666666666666666,
              "#ed7953"
             ],
             [
              0.7777777777777778,
              "#fb9f3a"
             ],
             [
              0.8888888888888888,
              "#fdca26"
             ],
             [
              1,
              "#f0f921"
             ]
            ],
            "type": "surface"
           }
          ],
          "table": [
           {
            "cells": {
             "fill": {
              "color": "#EBF0F8"
             },
             "line": {
              "color": "white"
             }
            },
            "header": {
             "fill": {
              "color": "#C8D4E3"
             },
             "line": {
              "color": "white"
             }
            },
            "type": "table"
           }
          ]
         },
         "layout": {
          "annotationdefaults": {
           "arrowcolor": "#2a3f5f",
           "arrowhead": 0,
           "arrowwidth": 1
          },
          "coloraxis": {
           "colorbar": {
            "outlinewidth": 0,
            "ticks": ""
           }
          },
          "colorscale": {
           "diverging": [
            [
             0,
             "#8e0152"
            ],
            [
             0.1,
             "#c51b7d"
            ],
            [
             0.2,
             "#de77ae"
            ],
            [
             0.3,
             "#f1b6da"
            ],
            [
             0.4,
             "#fde0ef"
            ],
            [
             0.5,
             "#f7f7f7"
            ],
            [
             0.6,
             "#e6f5d0"
            ],
            [
             0.7,
             "#b8e186"
            ],
            [
             0.8,
             "#7fbc41"
            ],
            [
             0.9,
             "#4d9221"
            ],
            [
             1,
             "#276419"
            ]
           ],
           "sequential": [
            [
             0,
             "#0d0887"
            ],
            [
             0.1111111111111111,
             "#46039f"
            ],
            [
             0.2222222222222222,
             "#7201a8"
            ],
            [
             0.3333333333333333,
             "#9c179e"
            ],
            [
             0.4444444444444444,
             "#bd3786"
            ],
            [
             0.5555555555555556,
             "#d8576b"
            ],
            [
             0.6666666666666666,
             "#ed7953"
            ],
            [
             0.7777777777777778,
             "#fb9f3a"
            ],
            [
             0.8888888888888888,
             "#fdca26"
            ],
            [
             1,
             "#f0f921"
            ]
           ],
           "sequentialminus": [
            [
             0,
             "#0d0887"
            ],
            [
             0.1111111111111111,
             "#46039f"
            ],
            [
             0.2222222222222222,
             "#7201a8"
            ],
            [
             0.3333333333333333,
             "#9c179e"
            ],
            [
             0.4444444444444444,
             "#bd3786"
            ],
            [
             0.5555555555555556,
             "#d8576b"
            ],
            [
             0.6666666666666666,
             "#ed7953"
            ],
            [
             0.7777777777777778,
             "#fb9f3a"
            ],
            [
             0.8888888888888888,
             "#fdca26"
            ],
            [
             1,
             "#f0f921"
            ]
           ]
          },
          "colorway": [
           "#636efa",
           "#EF553B",
           "#00cc96",
           "#ab63fa",
           "#FFA15A",
           "#19d3f3",
           "#FF6692",
           "#B6E880",
           "#FF97FF",
           "#FECB52"
          ],
          "font": {
           "color": "#2a3f5f"
          },
          "geo": {
           "bgcolor": "white",
           "lakecolor": "white",
           "landcolor": "#E5ECF6",
           "showlakes": true,
           "showland": true,
           "subunitcolor": "white"
          },
          "hoverlabel": {
           "align": "left"
          },
          "hovermode": "closest",
          "mapbox": {
           "style": "light"
          },
          "paper_bgcolor": "white",
          "plot_bgcolor": "#E5ECF6",
          "polar": {
           "angularaxis": {
            "gridcolor": "white",
            "linecolor": "white",
            "ticks": ""
           },
           "bgcolor": "#E5ECF6",
           "radialaxis": {
            "gridcolor": "white",
            "linecolor": "white",
            "ticks": ""
           }
          },
          "scene": {
           "xaxis": {
            "backgroundcolor": "#E5ECF6",
            "gridcolor": "white",
            "gridwidth": 2,
            "linecolor": "white",
            "showbackground": true,
            "ticks": "",
            "zerolinecolor": "white"
           },
           "yaxis": {
            "backgroundcolor": "#E5ECF6",
            "gridcolor": "white",
            "gridwidth": 2,
            "linecolor": "white",
            "showbackground": true,
            "ticks": "",
            "zerolinecolor": "white"
           },
           "zaxis": {
            "backgroundcolor": "#E5ECF6",
            "gridcolor": "white",
            "gridwidth": 2,
            "linecolor": "white",
            "showbackground": true,
            "ticks": "",
            "zerolinecolor": "white"
           }
          },
          "shapedefaults": {
           "line": {
            "color": "#2a3f5f"
           }
          },
          "ternary": {
           "aaxis": {
            "gridcolor": "white",
            "linecolor": "white",
            "ticks": ""
           },
           "baxis": {
            "gridcolor": "white",
            "linecolor": "white",
            "ticks": ""
           },
           "bgcolor": "#E5ECF6",
           "caxis": {
            "gridcolor": "white",
            "linecolor": "white",
            "ticks": ""
           }
          },
          "title": {
           "x": 0.05
          },
          "xaxis": {
           "automargin": true,
           "gridcolor": "white",
           "linecolor": "white",
           "ticks": "",
           "title": {
            "standoff": 15
           },
           "zerolinecolor": "white",
           "zerolinewidth": 2
          },
          "yaxis": {
           "automargin": true,
           "gridcolor": "white",
           "linecolor": "white",
           "ticks": "",
           "title": {
            "standoff": 15
           },
           "zerolinecolor": "white",
           "zerolinewidth": 2
          }
         }
        },
        "title": {
         "font": {
          "color": "#D9D9D9"
         }
        },
        "xaxis": {
         "gridcolor": "#434343",
         "showgrid": true,
         "tickfont": {
          "color": "#C2C2C2"
         },
         "title": {
          "font": {
           "color": "#D9D9D9"
          },
          "text": ""
         },
         "zerolinecolor": "#666570"
        },
        "yaxis": {
         "gridcolor": "#434343",
         "showgrid": true,
         "tickfont": {
          "color": "#C2C2C2"
         },
         "title": {
          "font": {
           "color": "#D9D9D9"
          },
          "text": ""
         },
         "zerolinecolor": "#666570"
        }
       }
      },
      "text/html": [
       "<div>\n",
       "        \n",
       "        \n",
       "            <div id=\"45e1c8e3-b7af-45a2-aec7-a8a10c6f398e\" class=\"plotly-graph-div\" style=\"height:525px; width:100%;\"></div>\n",
       "            <script type=\"text/javascript\">\n",
       "                require([\"plotly\"], function(Plotly) {\n",
       "                    window.PLOTLYENV=window.PLOTLYENV || {};\n",
       "                    window.PLOTLYENV.BASE_URL='https://plot.ly';\n",
       "                    \n",
       "                if (document.getElementById(\"45e1c8e3-b7af-45a2-aec7-a8a10c6f398e\")) {\n",
       "                    Plotly.newPlot(\n",
       "                        '45e1c8e3-b7af-45a2-aec7-a8a10c6f398e',\n",
       "                        [{\"fill\": \"tonexty\", \"fillcolor\": \"rgba(255, 153, 51, 0.3)\", \"line\": {\"color\": \"rgba(255, 153, 51, 1.0)\", \"dash\": \"solid\", \"shape\": \"linear\", \"width\": 1.3}, \"mode\": \"lines\", \"name\": \"A\", \"text\": \"\", \"type\": \"scatter\", \"x\": [0, 1, 2, 3, 4, 5, 6, 7, 8, 9, 10, 11, 12, 13, 14, 15, 16, 17, 18, 19, 20, 21, 22, 23, 24, 25, 26, 27, 28, 29, 30, 31, 32, 33, 34, 35, 36, 37, 38, 39, 40, 41, 42, 43, 44, 45, 46, 47, 48, 49, 50, 51, 52, 53, 54, 55, 56, 57, 58, 59, 60, 61, 62, 63, 64, 65, 66, 67, 68, 69, 70, 71, 72, 73, 74, 75, 76, 77, 78, 79, 80, 81, 82, 83, 84, 85, 86, 87, 88, 89, 90, 91, 92, 93, 94, 95, 96, 97, 98, 99], \"y\": [19.05355417423916, 18.952217225493925, 19.865365899479734, 19.63894883538949, 18.69433573604271, 20.16177760391001, 18.706721148102186, 20.83021578349943, 20.813770424039916, 21.876577899494947, 23.4157025609715, 22.48607651867613, 23.25896799151132, 24.853746571571484, 26.399388646384505, 27.302020733241726, 26.601442256932568, 26.844437565324256, 24.88689913716809, 25.007194393161065, 25.465628571769408, 24.717480092329993, 24.89376823976289, 24.12852385347762, 24.682892116294685, 24.172311582147568, 24.94042188534207, 23.44096989873089, 22.720716338251737, 24.002316726950582, 25.069318855339, 24.4512159216163, 22.963361830000697, 20.93760262243009, 17.898001133826952, 19.675888324282013, 20.744858125185726, 23.23197011092468, 24.120654400923726, 24.368612281042843, 22.98387948917498, 22.443812807233037, 21.561799339469225, 21.46663493633641, 21.494712151145823, 20.265810969262205, 19.29283374536078, 18.603965591064245, 18.023265505192516, 18.69785175886604, 19.607959504013458, 19.004016179600125, 16.986759461223656, 18.329309886042573, 19.052399618290732, 19.029227590135285, 20.267392981564747, 18.98485715628038, 17.45220014359349, 18.4724176135328, 18.793109557266042, 20.758480502975218, 21.693841607759047, 21.41199762345162, 22.40769957423957, 22.816663705235424, 23.207709446586406, 23.537797606994967, 25.689798527285987, 25.562227076430634, 26.855415853177288, 25.55917622084909, 25.901748781714026, 27.08172185921103, 27.117412019943735, 28.342903962632406, 28.27067268969956, 28.566124358905135, 29.30358008491224, 28.129816653061603, 27.927104713181173, 27.19418290107574, 29.300173117310973, 29.69985220771088, 32.1568512875961, 31.932307925439222, 32.323043576459504, 30.972872477316358, 31.08736272483948, 32.75641107457476, 32.12766645159634, 34.12996690601166, 33.43424607783305, 32.519348467732655, 33.259861789745635, 32.22565324660054, 33.843995385700524, 34.77157703363817, 34.33037573056614, 35.66745291542685]}, {\"fill\": \"tonexty\", \"fillcolor\": \"rgba(55, 128, 191, 0.3)\", \"line\": {\"color\": \"rgba(55, 128, 191, 1.0)\", \"dash\": \"solid\", \"shape\": \"linear\", \"width\": 1.3}, \"mode\": \"lines\", \"name\": \"B\", \"text\": \"\", \"type\": \"scatter\", \"x\": [0, 1, 2, 3, 4, 5, 6, 7, 8, 9, 10, 11, 12, 13, 14, 15, 16, 17, 18, 19, 20, 21, 22, 23, 24, 25, 26, 27, 28, 29, 30, 31, 32, 33, 34, 35, 36, 37, 38, 39, 40, 41, 42, 43, 44, 45, 46, 47, 48, 49, 50, 51, 52, 53, 54, 55, 56, 57, 58, 59, 60, 61, 62, 63, 64, 65, 66, 67, 68, 69, 70, 71, 72, 73, 74, 75, 76, 77, 78, 79, 80, 81, 82, 83, 84, 85, 86, 87, 88, 89, 90, 91, 92, 93, 94, 95, 96, 97, 98, 99], \"y\": [39.27824185979051, 40.488656791148, 41.53738426244993, 42.00531052584353, 40.78810394532402, 43.93520077738897, 40.512416259814486, 41.67226145392743, 42.24442152041396, 43.29050843019197, 44.728059230707, 42.44642649864693, 43.49633882708304, 46.13700471413682, 48.82016180525651, 48.853033443543296, 46.958407593370666, 47.495701107396215, 47.430517039151155, 46.31679426868998, 46.22489361795829, 44.34926115307664, 45.16225369525021, 44.98005241422174, 45.45137217077617, 45.58371258172683, 46.15538131492769, 45.48974665945412, 45.473074878879004, 46.436011511904155, 48.11058541595654, 48.27595717494252, 46.826208051666626, 44.86458426315907, 41.32023417579942, 44.56979885154786, 45.94690823818331, 49.46456374025642, 50.2569460076447, 50.16252202090625, 49.492999223578636, 49.00240305312226, 47.63263170730164, 48.16055444290407, 48.320001108766945, 48.87127484036995, 47.57015241852247, 46.81612966966424, 45.36653355350834, 46.16692470582923, 47.15008233244885, 46.67180993252466, 44.77681554436996, 46.3162346151112, 46.169814130094935, 48.30799919486181, 48.15452708284214, 44.74840141660233, 40.44950029036395, 44.130877948323544, 44.41644952357234, 48.51939949970955, 47.71064769586867, 48.0371591457383, 48.86302523332843, 48.28209417455301, 50.678077799346696, 49.97812303391828, 51.499675972834936, 51.45351907916495, 52.59217399310168, 51.29814174745369, 50.81238416785312, 52.29596634707198, 51.66829802569987, 52.28315392310589, 53.13544138330274, 54.5365110340031, 54.68929334248861, 52.94766338265199, 53.08205917772179, 53.349856128961775, 55.807446963271005, 57.43774821320493, 59.003152055018475, 58.74094344700249, 57.1071935370599, 56.64990762933719, 58.79219335043644, 62.37443365579726, 62.33819557788195, 64.4472887158194, 65.6229201945767, 64.63286210275383, 65.57149452042694, 63.004241434624085, 64.80597980420657, 66.89129789242267, 66.13251244269814, 68.33507348868241]}, {\"fill\": \"tonexty\", \"fillcolor\": \"rgba(50, 171, 96, 0.3)\", \"line\": {\"color\": \"rgba(50, 171, 96, 1.0)\", \"dash\": \"solid\", \"shape\": \"linear\", \"width\": 1.3}, \"mode\": \"lines\", \"name\": \"C\", \"text\": \"\", \"type\": \"scatter\", \"x\": [0, 1, 2, 3, 4, 5, 6, 7, 8, 9, 10, 11, 12, 13, 14, 15, 16, 17, 18, 19, 20, 21, 22, 23, 24, 25, 26, 27, 28, 29, 30, 31, 32, 33, 34, 35, 36, 37, 38, 39, 40, 41, 42, 43, 44, 45, 46, 47, 48, 49, 50, 51, 52, 53, 54, 55, 56, 57, 58, 59, 60, 61, 62, 63, 64, 65, 66, 67, 68, 69, 70, 71, 72, 73, 74, 75, 76, 77, 78, 79, 80, 81, 82, 83, 84, 85, 86, 87, 88, 89, 90, 91, 92, 93, 94, 95, 96, 97, 98, 99], \"y\": [59.869546967377744, 61.758964887030956, 62.77479814827976, 64.16368712757816, 61.380675247638976, 63.15487110808458, 60.02980939695999, 61.22935773395691, 62.420983667932546, 63.527949650816964, 67.84523872860053, 64.71093215953583, 66.08955591536022, 69.92387647349662, 73.37423405232546, 73.16710220184964, 69.28047700936666, 69.9936253658748, 67.35228023298882, 67.37112303927881, 67.89044930509863, 66.07666229057347, 65.61865432522838, 65.86741447043883, 66.8148758711744, 67.78786620014709, 69.44502546310638, 69.04592042808636, 68.33793954982639, 69.06051562693736, 70.10513675865815, 69.45807268116431, 67.84631619769871, 64.50594643640797, 60.36202982020867, 63.51471011733593, 63.41341899610146, 67.57291939133927, 66.72188009868357, 64.3614564891487, 64.39540860526408, 64.2992569164449, 61.79387499404558, 62.991184768270756, 63.378456952816975, 63.498487466781796, 61.090395027841346, 59.11446553165868, 57.21613319798213, 57.63704338882174, 58.45798090224777, 58.74112950430593, 57.15464114780057, 57.25128812089679, 55.472988480371455, 57.62561027125997, 57.49846888519698, 53.5428215276439, 49.879288952130025, 52.933010362687824, 53.23925532219977, 56.92864479708501, 54.74071387987814, 55.75793391024498, 57.24472853887621, 55.65099714165667, 57.9373221538816, 57.02630445595628, 59.39080255752576, 59.49413942733629, 60.20310063453017, 59.184132684547926, 57.80393431504971, 59.45539526010882, 58.301199320640066, 59.08987120928508, 60.947665243303874, 61.24922332431824, 60.998398323720096, 58.7883559064817, 59.253394611553865, 59.09511786527432, 61.68734741130407, 63.9929948323106, 64.81661578868565, 63.13053398447671, 60.71391257827469, 58.44889594440821, 61.88375220987968, 65.68631477448733, 66.43252144105656, 67.31298097420357, 67.34415393756348, 66.68947625738495, 67.9697536724564, 66.47299864390396, 67.21496183413646, 69.05300783984427, 68.60894633477464, 71.96547182261648]}],\n",
       "                        {\"legend\": {\"bgcolor\": \"#151516\", \"font\": {\"color\": \"#D9D9D9\"}}, \"paper_bgcolor\": \"#151516\", \"plot_bgcolor\": \"#151516\", \"template\": {\"data\": {\"bar\": [{\"error_x\": {\"color\": \"#2a3f5f\"}, \"error_y\": {\"color\": \"#2a3f5f\"}, \"marker\": {\"line\": {\"color\": \"#E5ECF6\", \"width\": 0.5}}, \"type\": \"bar\"}], \"barpolar\": [{\"marker\": {\"line\": {\"color\": \"#E5ECF6\", \"width\": 0.5}}, \"type\": \"barpolar\"}], \"carpet\": [{\"aaxis\": {\"endlinecolor\": \"#2a3f5f\", \"gridcolor\": \"white\", \"linecolor\": \"white\", \"minorgridcolor\": \"white\", \"startlinecolor\": \"#2a3f5f\"}, \"baxis\": {\"endlinecolor\": \"#2a3f5f\", \"gridcolor\": \"white\", \"linecolor\": \"white\", \"minorgridcolor\": \"white\", \"startlinecolor\": \"#2a3f5f\"}, \"type\": \"carpet\"}], \"choropleth\": [{\"colorbar\": {\"outlinewidth\": 0, \"ticks\": \"\"}, \"type\": \"choropleth\"}], \"contour\": [{\"colorbar\": {\"outlinewidth\": 0, \"ticks\": \"\"}, \"colorscale\": [[0.0, \"#0d0887\"], [0.1111111111111111, \"#46039f\"], [0.2222222222222222, \"#7201a8\"], [0.3333333333333333, \"#9c179e\"], [0.4444444444444444, \"#bd3786\"], [0.5555555555555556, \"#d8576b\"], [0.6666666666666666, \"#ed7953\"], [0.7777777777777778, \"#fb9f3a\"], [0.8888888888888888, \"#fdca26\"], [1.0, \"#f0f921\"]], \"type\": \"contour\"}], \"contourcarpet\": [{\"colorbar\": {\"outlinewidth\": 0, \"ticks\": \"\"}, \"type\": \"contourcarpet\"}], \"heatmap\": [{\"colorbar\": {\"outlinewidth\": 0, \"ticks\": \"\"}, \"colorscale\": [[0.0, \"#0d0887\"], [0.1111111111111111, \"#46039f\"], [0.2222222222222222, \"#7201a8\"], [0.3333333333333333, \"#9c179e\"], [0.4444444444444444, \"#bd3786\"], [0.5555555555555556, \"#d8576b\"], [0.6666666666666666, \"#ed7953\"], [0.7777777777777778, \"#fb9f3a\"], [0.8888888888888888, \"#fdca26\"], [1.0, \"#f0f921\"]], \"type\": \"heatmap\"}], \"heatmapgl\": [{\"colorbar\": {\"outlinewidth\": 0, \"ticks\": \"\"}, \"colorscale\": [[0.0, \"#0d0887\"], [0.1111111111111111, \"#46039f\"], [0.2222222222222222, \"#7201a8\"], [0.3333333333333333, \"#9c179e\"], [0.4444444444444444, \"#bd3786\"], [0.5555555555555556, \"#d8576b\"], [0.6666666666666666, \"#ed7953\"], [0.7777777777777778, \"#fb9f3a\"], [0.8888888888888888, \"#fdca26\"], [1.0, \"#f0f921\"]], \"type\": \"heatmapgl\"}], \"histogram\": [{\"marker\": {\"colorbar\": {\"outlinewidth\": 0, \"ticks\": \"\"}}, \"type\": \"histogram\"}], \"histogram2d\": [{\"colorbar\": {\"outlinewidth\": 0, \"ticks\": \"\"}, \"colorscale\": [[0.0, \"#0d0887\"], [0.1111111111111111, \"#46039f\"], [0.2222222222222222, \"#7201a8\"], [0.3333333333333333, \"#9c179e\"], [0.4444444444444444, \"#bd3786\"], [0.5555555555555556, \"#d8576b\"], [0.6666666666666666, \"#ed7953\"], [0.7777777777777778, \"#fb9f3a\"], [0.8888888888888888, \"#fdca26\"], [1.0, \"#f0f921\"]], \"type\": \"histogram2d\"}], \"histogram2dcontour\": [{\"colorbar\": {\"outlinewidth\": 0, \"ticks\": \"\"}, \"colorscale\": [[0.0, \"#0d0887\"], [0.1111111111111111, \"#46039f\"], [0.2222222222222222, \"#7201a8\"], [0.3333333333333333, \"#9c179e\"], [0.4444444444444444, \"#bd3786\"], [0.5555555555555556, \"#d8576b\"], [0.6666666666666666, \"#ed7953\"], [0.7777777777777778, \"#fb9f3a\"], [0.8888888888888888, \"#fdca26\"], [1.0, \"#f0f921\"]], \"type\": \"histogram2dcontour\"}], \"mesh3d\": [{\"colorbar\": {\"outlinewidth\": 0, \"ticks\": \"\"}, \"type\": \"mesh3d\"}], \"parcoords\": [{\"line\": {\"colorbar\": {\"outlinewidth\": 0, \"ticks\": \"\"}}, \"type\": \"parcoords\"}], \"pie\": [{\"automargin\": true, \"type\": \"pie\"}], \"scatter\": [{\"marker\": {\"colorbar\": {\"outlinewidth\": 0, \"ticks\": \"\"}}, \"type\": \"scatter\"}], \"scatter3d\": [{\"line\": {\"colorbar\": {\"outlinewidth\": 0, \"ticks\": \"\"}}, \"marker\": {\"colorbar\": {\"outlinewidth\": 0, \"ticks\": \"\"}}, \"type\": \"scatter3d\"}], \"scattercarpet\": [{\"marker\": {\"colorbar\": {\"outlinewidth\": 0, \"ticks\": \"\"}}, \"type\": \"scattercarpet\"}], \"scattergeo\": [{\"marker\": {\"colorbar\": {\"outlinewidth\": 0, \"ticks\": \"\"}}, \"type\": \"scattergeo\"}], \"scattergl\": [{\"marker\": {\"colorbar\": {\"outlinewidth\": 0, \"ticks\": \"\"}}, \"type\": \"scattergl\"}], \"scattermapbox\": [{\"marker\": {\"colorbar\": {\"outlinewidth\": 0, \"ticks\": \"\"}}, \"type\": \"scattermapbox\"}], \"scatterpolar\": [{\"marker\": {\"colorbar\": {\"outlinewidth\": 0, \"ticks\": \"\"}}, \"type\": \"scatterpolar\"}], \"scatterpolargl\": [{\"marker\": {\"colorbar\": {\"outlinewidth\": 0, \"ticks\": \"\"}}, \"type\": \"scatterpolargl\"}], \"scatterternary\": [{\"marker\": {\"colorbar\": {\"outlinewidth\": 0, \"ticks\": \"\"}}, \"type\": \"scatterternary\"}], \"surface\": [{\"colorbar\": {\"outlinewidth\": 0, \"ticks\": \"\"}, \"colorscale\": [[0.0, \"#0d0887\"], [0.1111111111111111, \"#46039f\"], [0.2222222222222222, \"#7201a8\"], [0.3333333333333333, \"#9c179e\"], [0.4444444444444444, \"#bd3786\"], [0.5555555555555556, \"#d8576b\"], [0.6666666666666666, \"#ed7953\"], [0.7777777777777778, \"#fb9f3a\"], [0.8888888888888888, \"#fdca26\"], [1.0, \"#f0f921\"]], \"type\": \"surface\"}], \"table\": [{\"cells\": {\"fill\": {\"color\": \"#EBF0F8\"}, \"line\": {\"color\": \"white\"}}, \"header\": {\"fill\": {\"color\": \"#C8D4E3\"}, \"line\": {\"color\": \"white\"}}, \"type\": \"table\"}]}, \"layout\": {\"annotationdefaults\": {\"arrowcolor\": \"#2a3f5f\", \"arrowhead\": 0, \"arrowwidth\": 1}, \"coloraxis\": {\"colorbar\": {\"outlinewidth\": 0, \"ticks\": \"\"}}, \"colorscale\": {\"diverging\": [[0, \"#8e0152\"], [0.1, \"#c51b7d\"], [0.2, \"#de77ae\"], [0.3, \"#f1b6da\"], [0.4, \"#fde0ef\"], [0.5, \"#f7f7f7\"], [0.6, \"#e6f5d0\"], [0.7, \"#b8e186\"], [0.8, \"#7fbc41\"], [0.9, \"#4d9221\"], [1, \"#276419\"]], \"sequential\": [[0.0, \"#0d0887\"], [0.1111111111111111, \"#46039f\"], [0.2222222222222222, \"#7201a8\"], [0.3333333333333333, \"#9c179e\"], [0.4444444444444444, \"#bd3786\"], [0.5555555555555556, \"#d8576b\"], [0.6666666666666666, \"#ed7953\"], [0.7777777777777778, \"#fb9f3a\"], [0.8888888888888888, \"#fdca26\"], [1.0, \"#f0f921\"]], \"sequentialminus\": [[0.0, \"#0d0887\"], [0.1111111111111111, \"#46039f\"], [0.2222222222222222, \"#7201a8\"], [0.3333333333333333, \"#9c179e\"], [0.4444444444444444, \"#bd3786\"], [0.5555555555555556, \"#d8576b\"], [0.6666666666666666, \"#ed7953\"], [0.7777777777777778, \"#fb9f3a\"], [0.8888888888888888, \"#fdca26\"], [1.0, \"#f0f921\"]]}, \"colorway\": [\"#636efa\", \"#EF553B\", \"#00cc96\", \"#ab63fa\", \"#FFA15A\", \"#19d3f3\", \"#FF6692\", \"#B6E880\", \"#FF97FF\", \"#FECB52\"], \"font\": {\"color\": \"#2a3f5f\"}, \"geo\": {\"bgcolor\": \"white\", \"lakecolor\": \"white\", \"landcolor\": \"#E5ECF6\", \"showlakes\": true, \"showland\": true, \"subunitcolor\": \"white\"}, \"hoverlabel\": {\"align\": \"left\"}, \"hovermode\": \"closest\", \"mapbox\": {\"style\": \"light\"}, \"paper_bgcolor\": \"white\", \"plot_bgcolor\": \"#E5ECF6\", \"polar\": {\"angularaxis\": {\"gridcolor\": \"white\", \"linecolor\": \"white\", \"ticks\": \"\"}, \"bgcolor\": \"#E5ECF6\", \"radialaxis\": {\"gridcolor\": \"white\", \"linecolor\": \"white\", \"ticks\": \"\"}}, \"scene\": {\"xaxis\": {\"backgroundcolor\": \"#E5ECF6\", \"gridcolor\": \"white\", \"gridwidth\": 2, \"linecolor\": \"white\", \"showbackground\": true, \"ticks\": \"\", \"zerolinecolor\": \"white\"}, \"yaxis\": {\"backgroundcolor\": \"#E5ECF6\", \"gridcolor\": \"white\", \"gridwidth\": 2, \"linecolor\": \"white\", \"showbackground\": true, \"ticks\": \"\", \"zerolinecolor\": \"white\"}, \"zaxis\": {\"backgroundcolor\": \"#E5ECF6\", \"gridcolor\": \"white\", \"gridwidth\": 2, \"linecolor\": \"white\", \"showbackground\": true, \"ticks\": \"\", \"zerolinecolor\": \"white\"}}, \"shapedefaults\": {\"line\": {\"color\": \"#2a3f5f\"}}, \"ternary\": {\"aaxis\": {\"gridcolor\": \"white\", \"linecolor\": \"white\", \"ticks\": \"\"}, \"baxis\": {\"gridcolor\": \"white\", \"linecolor\": \"white\", \"ticks\": \"\"}, \"bgcolor\": \"#E5ECF6\", \"caxis\": {\"gridcolor\": \"white\", \"linecolor\": \"white\", \"ticks\": \"\"}}, \"title\": {\"x\": 0.05}, \"xaxis\": {\"automargin\": true, \"gridcolor\": \"white\", \"linecolor\": \"white\", \"ticks\": \"\", \"title\": {\"standoff\": 15}, \"zerolinecolor\": \"white\", \"zerolinewidth\": 2}, \"yaxis\": {\"automargin\": true, \"gridcolor\": \"white\", \"linecolor\": \"white\", \"ticks\": \"\", \"title\": {\"standoff\": 15}, \"zerolinecolor\": \"white\", \"zerolinewidth\": 2}}}, \"title\": {\"font\": {\"color\": \"#D9D9D9\"}}, \"xaxis\": {\"gridcolor\": \"#434343\", \"showgrid\": true, \"tickfont\": {\"color\": \"#C2C2C2\"}, \"title\": {\"font\": {\"color\": \"#D9D9D9\"}, \"text\": \"\"}, \"zerolinecolor\": \"#666570\"}, \"yaxis\": {\"gridcolor\": \"#434343\", \"showgrid\": true, \"tickfont\": {\"color\": \"#C2C2C2\"}, \"title\": {\"font\": {\"color\": \"#D9D9D9\"}, \"text\": \"\"}, \"zerolinecolor\": \"#666570\"}},\n",
       "                        {\"showLink\": true, \"linkText\": \"Export to plot.ly\", \"plotlyServerURL\": \"https://plot.ly\", \"responsive\": true}\n",
       "                    ).then(function(){\n",
       "                            \n",
       "var gd = document.getElementById('45e1c8e3-b7af-45a2-aec7-a8a10c6f398e');\n",
       "var x = new MutationObserver(function (mutations, observer) {{\n",
       "        var display = window.getComputedStyle(gd).display;\n",
       "        if (!display || display === 'none') {{\n",
       "            console.log([gd, 'removed!']);\n",
       "            Plotly.purge(gd);\n",
       "            observer.disconnect();\n",
       "        }}\n",
       "}});\n",
       "\n",
       "// Listen for the removal of the full notebook cells\n",
       "var notebookContainer = gd.closest('#notebook-container');\n",
       "if (notebookContainer) {{\n",
       "    x.observe(notebookContainer, {childList: true});\n",
       "}}\n",
       "\n",
       "// Listen for the clearing of the current output cell\n",
       "var outputEl = gd.closest('.output');\n",
       "if (outputEl) {{\n",
       "    x.observe(outputEl, {childList: true});\n",
       "}}\n",
       "\n",
       "                        })\n",
       "                };\n",
       "                });\n",
       "            </script>\n",
       "        </div>"
      ]
     },
     "metadata": {},
     "output_type": "display_data"
    }
   ],
   "source": [
    "df.iplot(kind='area',fill=True)"
   ]
  },
  {
   "cell_type": "code",
   "execution_count": 61,
   "metadata": {},
   "outputs": [
    {
     "data": {
      "text/html": [
       "<div>\n",
       "<style scoped>\n",
       "    .dataframe tbody tr th:only-of-type {\n",
       "        vertical-align: middle;\n",
       "    }\n",
       "\n",
       "    .dataframe tbody tr th {\n",
       "        vertical-align: top;\n",
       "    }\n",
       "\n",
       "    .dataframe thead th {\n",
       "        text-align: right;\n",
       "    }\n",
       "</style>\n",
       "<table border=\"1\" class=\"dataframe\">\n",
       "  <thead>\n",
       "    <tr style=\"text-align: right;\">\n",
       "      <th></th>\n",
       "      <th>x</th>\n",
       "      <th>y</th>\n",
       "      <th>z</th>\n",
       "    </tr>\n",
       "  </thead>\n",
       "  <tbody>\n",
       "    <tr>\n",
       "      <th>0</th>\n",
       "      <td>10</td>\n",
       "      <td>10</td>\n",
       "      <td>30</td>\n",
       "    </tr>\n",
       "    <tr>\n",
       "      <th>1</th>\n",
       "      <td>20</td>\n",
       "      <td>20</td>\n",
       "      <td>20</td>\n",
       "    </tr>\n",
       "    <tr>\n",
       "      <th>2</th>\n",
       "      <td>30</td>\n",
       "      <td>30</td>\n",
       "      <td>10</td>\n",
       "    </tr>\n",
       "    <tr>\n",
       "      <th>3</th>\n",
       "      <td>10</td>\n",
       "      <td>40</td>\n",
       "      <td>30</td>\n",
       "    </tr>\n",
       "    <tr>\n",
       "      <th>4</th>\n",
       "      <td>20</td>\n",
       "      <td>30</td>\n",
       "      <td>30</td>\n",
       "    </tr>\n",
       "  </tbody>\n",
       "</table>\n",
       "</div>"
      ],
      "text/plain": [
       "    x   y   z\n",
       "0  10  10  30\n",
       "1  20  20  20\n",
       "2  30  30  10\n",
       "3  10  40  30\n",
       "4  20  30  30"
      ]
     },
     "execution_count": 61,
     "metadata": {},
     "output_type": "execute_result"
    }
   ],
   "source": [
    "df3=pd.DataFrame({'x':[10,20,30,10,20],'y':[10,20,30,40,30],'z':[30,20,10,30,30]})\n",
    "df3.head()"
   ]
  },
  {
   "cell_type": "code",
   "execution_count": 62,
   "metadata": {},
   "outputs": [
    {
     "data": {
      "application/vnd.plotly.v1+json": {
       "config": {
        "linkText": "Export to plot.ly",
        "plotlyServerURL": "https://plot.ly",
        "showLink": true
       },
       "data": [
        {
         "colorscale": [
          [
           0,
           "rgb(255, 153, 51)"
          ],
          [
           0.1111111111111111,
           "rgb(55, 128, 191)"
          ],
          [
           0.2222222222222222,
           "rgb(50, 171, 96)"
          ],
          [
           0.3333333333333333,
           "rgb(128, 0, 128)"
          ],
          [
           0.4444444444444444,
           "rgb(219, 64, 82)"
          ],
          [
           0.5555555555555556,
           "rgb(0, 128, 128)"
          ],
          [
           0.6666666666666666,
           "rgb(255, 255, 51)"
          ],
          [
           0.7777777777777778,
           "rgb(128, 128, 0)"
          ],
          [
           0.8888888888888888,
           "rgb(251, 128, 114)"
          ],
          [
           1,
           "rgb(128, 177, 211)"
          ]
         ],
         "type": "surface",
         "x": [
          0,
          1,
          2,
          3,
          4
         ],
         "y": [
          "x",
          "y",
          "z"
         ],
         "z": [
          [
           10,
           20,
           30,
           10,
           20
          ],
          [
           10,
           20,
           30,
           40,
           30
          ],
          [
           30,
           20,
           10,
           30,
           30
          ]
         ]
        }
       ],
       "layout": {
        "legend": {
         "bgcolor": "#151516",
         "font": {
          "color": "#D9D9D9"
         }
        },
        "paper_bgcolor": "#151516",
        "plot_bgcolor": "#151516",
        "template": {
         "data": {
          "bar": [
           {
            "error_x": {
             "color": "#2a3f5f"
            },
            "error_y": {
             "color": "#2a3f5f"
            },
            "marker": {
             "line": {
              "color": "#E5ECF6",
              "width": 0.5
             }
            },
            "type": "bar"
           }
          ],
          "barpolar": [
           {
            "marker": {
             "line": {
              "color": "#E5ECF6",
              "width": 0.5
             }
            },
            "type": "barpolar"
           }
          ],
          "carpet": [
           {
            "aaxis": {
             "endlinecolor": "#2a3f5f",
             "gridcolor": "white",
             "linecolor": "white",
             "minorgridcolor": "white",
             "startlinecolor": "#2a3f5f"
            },
            "baxis": {
             "endlinecolor": "#2a3f5f",
             "gridcolor": "white",
             "linecolor": "white",
             "minorgridcolor": "white",
             "startlinecolor": "#2a3f5f"
            },
            "type": "carpet"
           }
          ],
          "choropleth": [
           {
            "colorbar": {
             "outlinewidth": 0,
             "ticks": ""
            },
            "type": "choropleth"
           }
          ],
          "contour": [
           {
            "colorbar": {
             "outlinewidth": 0,
             "ticks": ""
            },
            "colorscale": [
             [
              0,
              "#0d0887"
             ],
             [
              0.1111111111111111,
              "#46039f"
             ],
             [
              0.2222222222222222,
              "#7201a8"
             ],
             [
              0.3333333333333333,
              "#9c179e"
             ],
             [
              0.4444444444444444,
              "#bd3786"
             ],
             [
              0.5555555555555556,
              "#d8576b"
             ],
             [
              0.6666666666666666,
              "#ed7953"
             ],
             [
              0.7777777777777778,
              "#fb9f3a"
             ],
             [
              0.8888888888888888,
              "#fdca26"
             ],
             [
              1,
              "#f0f921"
             ]
            ],
            "type": "contour"
           }
          ],
          "contourcarpet": [
           {
            "colorbar": {
             "outlinewidth": 0,
             "ticks": ""
            },
            "type": "contourcarpet"
           }
          ],
          "heatmap": [
           {
            "colorbar": {
             "outlinewidth": 0,
             "ticks": ""
            },
            "colorscale": [
             [
              0,
              "#0d0887"
             ],
             [
              0.1111111111111111,
              "#46039f"
             ],
             [
              0.2222222222222222,
              "#7201a8"
             ],
             [
              0.3333333333333333,
              "#9c179e"
             ],
             [
              0.4444444444444444,
              "#bd3786"
             ],
             [
              0.5555555555555556,
              "#d8576b"
             ],
             [
              0.6666666666666666,
              "#ed7953"
             ],
             [
              0.7777777777777778,
              "#fb9f3a"
             ],
             [
              0.8888888888888888,
              "#fdca26"
             ],
             [
              1,
              "#f0f921"
             ]
            ],
            "type": "heatmap"
           }
          ],
          "heatmapgl": [
           {
            "colorbar": {
             "outlinewidth": 0,
             "ticks": ""
            },
            "colorscale": [
             [
              0,
              "#0d0887"
             ],
             [
              0.1111111111111111,
              "#46039f"
             ],
             [
              0.2222222222222222,
              "#7201a8"
             ],
             [
              0.3333333333333333,
              "#9c179e"
             ],
             [
              0.4444444444444444,
              "#bd3786"
             ],
             [
              0.5555555555555556,
              "#d8576b"
             ],
             [
              0.6666666666666666,
              "#ed7953"
             ],
             [
              0.7777777777777778,
              "#fb9f3a"
             ],
             [
              0.8888888888888888,
              "#fdca26"
             ],
             [
              1,
              "#f0f921"
             ]
            ],
            "type": "heatmapgl"
           }
          ],
          "histogram": [
           {
            "marker": {
             "colorbar": {
              "outlinewidth": 0,
              "ticks": ""
             }
            },
            "type": "histogram"
           }
          ],
          "histogram2d": [
           {
            "colorbar": {
             "outlinewidth": 0,
             "ticks": ""
            },
            "colorscale": [
             [
              0,
              "#0d0887"
             ],
             [
              0.1111111111111111,
              "#46039f"
             ],
             [
              0.2222222222222222,
              "#7201a8"
             ],
             [
              0.3333333333333333,
              "#9c179e"
             ],
             [
              0.4444444444444444,
              "#bd3786"
             ],
             [
              0.5555555555555556,
              "#d8576b"
             ],
             [
              0.6666666666666666,
              "#ed7953"
             ],
             [
              0.7777777777777778,
              "#fb9f3a"
             ],
             [
              0.8888888888888888,
              "#fdca26"
             ],
             [
              1,
              "#f0f921"
             ]
            ],
            "type": "histogram2d"
           }
          ],
          "histogram2dcontour": [
           {
            "colorbar": {
             "outlinewidth": 0,
             "ticks": ""
            },
            "colorscale": [
             [
              0,
              "#0d0887"
             ],
             [
              0.1111111111111111,
              "#46039f"
             ],
             [
              0.2222222222222222,
              "#7201a8"
             ],
             [
              0.3333333333333333,
              "#9c179e"
             ],
             [
              0.4444444444444444,
              "#bd3786"
             ],
             [
              0.5555555555555556,
              "#d8576b"
             ],
             [
              0.6666666666666666,
              "#ed7953"
             ],
             [
              0.7777777777777778,
              "#fb9f3a"
             ],
             [
              0.8888888888888888,
              "#fdca26"
             ],
             [
              1,
              "#f0f921"
             ]
            ],
            "type": "histogram2dcontour"
           }
          ],
          "mesh3d": [
           {
            "colorbar": {
             "outlinewidth": 0,
             "ticks": ""
            },
            "type": "mesh3d"
           }
          ],
          "parcoords": [
           {
            "line": {
             "colorbar": {
              "outlinewidth": 0,
              "ticks": ""
             }
            },
            "type": "parcoords"
           }
          ],
          "pie": [
           {
            "automargin": true,
            "type": "pie"
           }
          ],
          "scatter": [
           {
            "marker": {
             "colorbar": {
              "outlinewidth": 0,
              "ticks": ""
             }
            },
            "type": "scatter"
           }
          ],
          "scatter3d": [
           {
            "line": {
             "colorbar": {
              "outlinewidth": 0,
              "ticks": ""
             }
            },
            "marker": {
             "colorbar": {
              "outlinewidth": 0,
              "ticks": ""
             }
            },
            "type": "scatter3d"
           }
          ],
          "scattercarpet": [
           {
            "marker": {
             "colorbar": {
              "outlinewidth": 0,
              "ticks": ""
             }
            },
            "type": "scattercarpet"
           }
          ],
          "scattergeo": [
           {
            "marker": {
             "colorbar": {
              "outlinewidth": 0,
              "ticks": ""
             }
            },
            "type": "scattergeo"
           }
          ],
          "scattergl": [
           {
            "marker": {
             "colorbar": {
              "outlinewidth": 0,
              "ticks": ""
             }
            },
            "type": "scattergl"
           }
          ],
          "scattermapbox": [
           {
            "marker": {
             "colorbar": {
              "outlinewidth": 0,
              "ticks": ""
             }
            },
            "type": "scattermapbox"
           }
          ],
          "scatterpolar": [
           {
            "marker": {
             "colorbar": {
              "outlinewidth": 0,
              "ticks": ""
             }
            },
            "type": "scatterpolar"
           }
          ],
          "scatterpolargl": [
           {
            "marker": {
             "colorbar": {
              "outlinewidth": 0,
              "ticks": ""
             }
            },
            "type": "scatterpolargl"
           }
          ],
          "scatterternary": [
           {
            "marker": {
             "colorbar": {
              "outlinewidth": 0,
              "ticks": ""
             }
            },
            "type": "scatterternary"
           }
          ],
          "surface": [
           {
            "colorbar": {
             "outlinewidth": 0,
             "ticks": ""
            },
            "colorscale": [
             [
              0,
              "#0d0887"
             ],
             [
              0.1111111111111111,
              "#46039f"
             ],
             [
              0.2222222222222222,
              "#7201a8"
             ],
             [
              0.3333333333333333,
              "#9c179e"
             ],
             [
              0.4444444444444444,
              "#bd3786"
             ],
             [
              0.5555555555555556,
              "#d8576b"
             ],
             [
              0.6666666666666666,
              "#ed7953"
             ],
             [
              0.7777777777777778,
              "#fb9f3a"
             ],
             [
              0.8888888888888888,
              "#fdca26"
             ],
             [
              1,
              "#f0f921"
             ]
            ],
            "type": "surface"
           }
          ],
          "table": [
           {
            "cells": {
             "fill": {
              "color": "#EBF0F8"
             },
             "line": {
              "color": "white"
             }
            },
            "header": {
             "fill": {
              "color": "#C8D4E3"
             },
             "line": {
              "color": "white"
             }
            },
            "type": "table"
           }
          ]
         },
         "layout": {
          "annotationdefaults": {
           "arrowcolor": "#2a3f5f",
           "arrowhead": 0,
           "arrowwidth": 1
          },
          "coloraxis": {
           "colorbar": {
            "outlinewidth": 0,
            "ticks": ""
           }
          },
          "colorscale": {
           "diverging": [
            [
             0,
             "#8e0152"
            ],
            [
             0.1,
             "#c51b7d"
            ],
            [
             0.2,
             "#de77ae"
            ],
            [
             0.3,
             "#f1b6da"
            ],
            [
             0.4,
             "#fde0ef"
            ],
            [
             0.5,
             "#f7f7f7"
            ],
            [
             0.6,
             "#e6f5d0"
            ],
            [
             0.7,
             "#b8e186"
            ],
            [
             0.8,
             "#7fbc41"
            ],
            [
             0.9,
             "#4d9221"
            ],
            [
             1,
             "#276419"
            ]
           ],
           "sequential": [
            [
             0,
             "#0d0887"
            ],
            [
             0.1111111111111111,
             "#46039f"
            ],
            [
             0.2222222222222222,
             "#7201a8"
            ],
            [
             0.3333333333333333,
             "#9c179e"
            ],
            [
             0.4444444444444444,
             "#bd3786"
            ],
            [
             0.5555555555555556,
             "#d8576b"
            ],
            [
             0.6666666666666666,
             "#ed7953"
            ],
            [
             0.7777777777777778,
             "#fb9f3a"
            ],
            [
             0.8888888888888888,
             "#fdca26"
            ],
            [
             1,
             "#f0f921"
            ]
           ],
           "sequentialminus": [
            [
             0,
             "#0d0887"
            ],
            [
             0.1111111111111111,
             "#46039f"
            ],
            [
             0.2222222222222222,
             "#7201a8"
            ],
            [
             0.3333333333333333,
             "#9c179e"
            ],
            [
             0.4444444444444444,
             "#bd3786"
            ],
            [
             0.5555555555555556,
             "#d8576b"
            ],
            [
             0.6666666666666666,
             "#ed7953"
            ],
            [
             0.7777777777777778,
             "#fb9f3a"
            ],
            [
             0.8888888888888888,
             "#fdca26"
            ],
            [
             1,
             "#f0f921"
            ]
           ]
          },
          "colorway": [
           "#636efa",
           "#EF553B",
           "#00cc96",
           "#ab63fa",
           "#FFA15A",
           "#19d3f3",
           "#FF6692",
           "#B6E880",
           "#FF97FF",
           "#FECB52"
          ],
          "font": {
           "color": "#2a3f5f"
          },
          "geo": {
           "bgcolor": "white",
           "lakecolor": "white",
           "landcolor": "#E5ECF6",
           "showlakes": true,
           "showland": true,
           "subunitcolor": "white"
          },
          "hoverlabel": {
           "align": "left"
          },
          "hovermode": "closest",
          "mapbox": {
           "style": "light"
          },
          "paper_bgcolor": "white",
          "plot_bgcolor": "#E5ECF6",
          "polar": {
           "angularaxis": {
            "gridcolor": "white",
            "linecolor": "white",
            "ticks": ""
           },
           "bgcolor": "#E5ECF6",
           "radialaxis": {
            "gridcolor": "white",
            "linecolor": "white",
            "ticks": ""
           }
          },
          "scene": {
           "xaxis": {
            "backgroundcolor": "#E5ECF6",
            "gridcolor": "white",
            "gridwidth": 2,
            "linecolor": "white",
            "showbackground": true,
            "ticks": "",
            "zerolinecolor": "white"
           },
           "yaxis": {
            "backgroundcolor": "#E5ECF6",
            "gridcolor": "white",
            "gridwidth": 2,
            "linecolor": "white",
            "showbackground": true,
            "ticks": "",
            "zerolinecolor": "white"
           },
           "zaxis": {
            "backgroundcolor": "#E5ECF6",
            "gridcolor": "white",
            "gridwidth": 2,
            "linecolor": "white",
            "showbackground": true,
            "ticks": "",
            "zerolinecolor": "white"
           }
          },
          "shapedefaults": {
           "line": {
            "color": "#2a3f5f"
           }
          },
          "ternary": {
           "aaxis": {
            "gridcolor": "white",
            "linecolor": "white",
            "ticks": ""
           },
           "baxis": {
            "gridcolor": "white",
            "linecolor": "white",
            "ticks": ""
           },
           "bgcolor": "#E5ECF6",
           "caxis": {
            "gridcolor": "white",
            "linecolor": "white",
            "ticks": ""
           }
          },
          "title": {
           "x": 0.05
          },
          "xaxis": {
           "automargin": true,
           "gridcolor": "white",
           "linecolor": "white",
           "ticks": "",
           "title": {
            "standoff": 15
           },
           "zerolinecolor": "white",
           "zerolinewidth": 2
          },
          "yaxis": {
           "automargin": true,
           "gridcolor": "white",
           "linecolor": "white",
           "ticks": "",
           "title": {
            "standoff": 15
           },
           "zerolinecolor": "white",
           "zerolinewidth": 2
          }
         }
        },
        "title": {
         "font": {
          "color": "#D9D9D9"
         }
        },
        "xaxis": {
         "gridcolor": "#434343",
         "showgrid": true,
         "tickfont": {
          "color": "#C2C2C2"
         },
         "title": {
          "font": {
           "color": "#D9D9D9"
          },
          "text": ""
         },
         "zerolinecolor": "#666570"
        },
        "yaxis": {
         "gridcolor": "#434343",
         "showgrid": true,
         "tickfont": {
          "color": "#C2C2C2"
         },
         "title": {
          "font": {
           "color": "#D9D9D9"
          },
          "text": ""
         },
         "zerolinecolor": "#666570"
        }
       }
      },
      "text/html": [
       "<div>\n",
       "        \n",
       "        \n",
       "            <div id=\"2369c7f2-1818-4e6b-a056-48b8ca067edb\" class=\"plotly-graph-div\" style=\"height:525px; width:100%;\"></div>\n",
       "            <script type=\"text/javascript\">\n",
       "                require([\"plotly\"], function(Plotly) {\n",
       "                    window.PLOTLYENV=window.PLOTLYENV || {};\n",
       "                    window.PLOTLYENV.BASE_URL='https://plot.ly';\n",
       "                    \n",
       "                if (document.getElementById(\"2369c7f2-1818-4e6b-a056-48b8ca067edb\")) {\n",
       "                    Plotly.newPlot(\n",
       "                        '2369c7f2-1818-4e6b-a056-48b8ca067edb',\n",
       "                        [{\"colorscale\": [[0.0, \"rgb(255, 153, 51)\"], [0.1111111111111111, \"rgb(55, 128, 191)\"], [0.2222222222222222, \"rgb(50, 171, 96)\"], [0.3333333333333333, \"rgb(128, 0, 128)\"], [0.4444444444444444, \"rgb(219, 64, 82)\"], [0.5555555555555556, \"rgb(0, 128, 128)\"], [0.6666666666666666, \"rgb(255, 255, 51)\"], [0.7777777777777778, \"rgb(128, 128, 0)\"], [0.8888888888888888, \"rgb(251, 128, 114)\"], [1.0, \"rgb(128, 177, 211)\"]], \"type\": \"surface\", \"x\": [0, 1, 2, 3, 4], \"y\": [\"x\", \"y\", \"z\"], \"z\": [[10, 20, 30, 10, 20], [10, 20, 30, 40, 30], [30, 20, 10, 30, 30]]}],\n",
       "                        {\"legend\": {\"bgcolor\": \"#151516\", \"font\": {\"color\": \"#D9D9D9\"}}, \"paper_bgcolor\": \"#151516\", \"plot_bgcolor\": \"#151516\", \"template\": {\"data\": {\"bar\": [{\"error_x\": {\"color\": \"#2a3f5f\"}, \"error_y\": {\"color\": \"#2a3f5f\"}, \"marker\": {\"line\": {\"color\": \"#E5ECF6\", \"width\": 0.5}}, \"type\": \"bar\"}], \"barpolar\": [{\"marker\": {\"line\": {\"color\": \"#E5ECF6\", \"width\": 0.5}}, \"type\": \"barpolar\"}], \"carpet\": [{\"aaxis\": {\"endlinecolor\": \"#2a3f5f\", \"gridcolor\": \"white\", \"linecolor\": \"white\", \"minorgridcolor\": \"white\", \"startlinecolor\": \"#2a3f5f\"}, \"baxis\": {\"endlinecolor\": \"#2a3f5f\", \"gridcolor\": \"white\", \"linecolor\": \"white\", \"minorgridcolor\": \"white\", \"startlinecolor\": \"#2a3f5f\"}, \"type\": \"carpet\"}], \"choropleth\": [{\"colorbar\": {\"outlinewidth\": 0, \"ticks\": \"\"}, \"type\": \"choropleth\"}], \"contour\": [{\"colorbar\": {\"outlinewidth\": 0, \"ticks\": \"\"}, \"colorscale\": [[0.0, \"#0d0887\"], [0.1111111111111111, \"#46039f\"], [0.2222222222222222, \"#7201a8\"], [0.3333333333333333, \"#9c179e\"], [0.4444444444444444, \"#bd3786\"], [0.5555555555555556, \"#d8576b\"], [0.6666666666666666, \"#ed7953\"], [0.7777777777777778, \"#fb9f3a\"], [0.8888888888888888, \"#fdca26\"], [1.0, \"#f0f921\"]], \"type\": \"contour\"}], \"contourcarpet\": [{\"colorbar\": {\"outlinewidth\": 0, \"ticks\": \"\"}, \"type\": \"contourcarpet\"}], \"heatmap\": [{\"colorbar\": {\"outlinewidth\": 0, \"ticks\": \"\"}, \"colorscale\": [[0.0, \"#0d0887\"], [0.1111111111111111, \"#46039f\"], [0.2222222222222222, \"#7201a8\"], [0.3333333333333333, \"#9c179e\"], [0.4444444444444444, \"#bd3786\"], [0.5555555555555556, \"#d8576b\"], [0.6666666666666666, \"#ed7953\"], [0.7777777777777778, \"#fb9f3a\"], [0.8888888888888888, \"#fdca26\"], [1.0, \"#f0f921\"]], \"type\": \"heatmap\"}], \"heatmapgl\": [{\"colorbar\": {\"outlinewidth\": 0, \"ticks\": \"\"}, \"colorscale\": [[0.0, \"#0d0887\"], [0.1111111111111111, \"#46039f\"], [0.2222222222222222, \"#7201a8\"], [0.3333333333333333, \"#9c179e\"], [0.4444444444444444, \"#bd3786\"], [0.5555555555555556, \"#d8576b\"], [0.6666666666666666, \"#ed7953\"], [0.7777777777777778, \"#fb9f3a\"], [0.8888888888888888, \"#fdca26\"], [1.0, \"#f0f921\"]], \"type\": \"heatmapgl\"}], \"histogram\": [{\"marker\": {\"colorbar\": {\"outlinewidth\": 0, \"ticks\": \"\"}}, \"type\": \"histogram\"}], \"histogram2d\": [{\"colorbar\": {\"outlinewidth\": 0, \"ticks\": \"\"}, \"colorscale\": [[0.0, \"#0d0887\"], [0.1111111111111111, \"#46039f\"], [0.2222222222222222, \"#7201a8\"], [0.3333333333333333, \"#9c179e\"], [0.4444444444444444, \"#bd3786\"], [0.5555555555555556, \"#d8576b\"], [0.6666666666666666, \"#ed7953\"], [0.7777777777777778, \"#fb9f3a\"], [0.8888888888888888, \"#fdca26\"], [1.0, \"#f0f921\"]], \"type\": \"histogram2d\"}], \"histogram2dcontour\": [{\"colorbar\": {\"outlinewidth\": 0, \"ticks\": \"\"}, \"colorscale\": [[0.0, \"#0d0887\"], [0.1111111111111111, \"#46039f\"], [0.2222222222222222, \"#7201a8\"], [0.3333333333333333, \"#9c179e\"], [0.4444444444444444, \"#bd3786\"], [0.5555555555555556, \"#d8576b\"], [0.6666666666666666, \"#ed7953\"], [0.7777777777777778, \"#fb9f3a\"], [0.8888888888888888, \"#fdca26\"], [1.0, \"#f0f921\"]], \"type\": \"histogram2dcontour\"}], \"mesh3d\": [{\"colorbar\": {\"outlinewidth\": 0, \"ticks\": \"\"}, \"type\": \"mesh3d\"}], \"parcoords\": [{\"line\": {\"colorbar\": {\"outlinewidth\": 0, \"ticks\": \"\"}}, \"type\": \"parcoords\"}], \"pie\": [{\"automargin\": true, \"type\": \"pie\"}], \"scatter\": [{\"marker\": {\"colorbar\": {\"outlinewidth\": 0, \"ticks\": \"\"}}, \"type\": \"scatter\"}], \"scatter3d\": [{\"line\": {\"colorbar\": {\"outlinewidth\": 0, \"ticks\": \"\"}}, \"marker\": {\"colorbar\": {\"outlinewidth\": 0, \"ticks\": \"\"}}, \"type\": \"scatter3d\"}], \"scattercarpet\": [{\"marker\": {\"colorbar\": {\"outlinewidth\": 0, \"ticks\": \"\"}}, \"type\": \"scattercarpet\"}], \"scattergeo\": [{\"marker\": {\"colorbar\": {\"outlinewidth\": 0, \"ticks\": \"\"}}, \"type\": \"scattergeo\"}], \"scattergl\": [{\"marker\": {\"colorbar\": {\"outlinewidth\": 0, \"ticks\": \"\"}}, \"type\": \"scattergl\"}], \"scattermapbox\": [{\"marker\": {\"colorbar\": {\"outlinewidth\": 0, \"ticks\": \"\"}}, \"type\": \"scattermapbox\"}], \"scatterpolar\": [{\"marker\": {\"colorbar\": {\"outlinewidth\": 0, \"ticks\": \"\"}}, \"type\": \"scatterpolar\"}], \"scatterpolargl\": [{\"marker\": {\"colorbar\": {\"outlinewidth\": 0, \"ticks\": \"\"}}, \"type\": \"scatterpolargl\"}], \"scatterternary\": [{\"marker\": {\"colorbar\": {\"outlinewidth\": 0, \"ticks\": \"\"}}, \"type\": \"scatterternary\"}], \"surface\": [{\"colorbar\": {\"outlinewidth\": 0, \"ticks\": \"\"}, \"colorscale\": [[0.0, \"#0d0887\"], [0.1111111111111111, \"#46039f\"], [0.2222222222222222, \"#7201a8\"], [0.3333333333333333, \"#9c179e\"], [0.4444444444444444, \"#bd3786\"], [0.5555555555555556, \"#d8576b\"], [0.6666666666666666, \"#ed7953\"], [0.7777777777777778, \"#fb9f3a\"], [0.8888888888888888, \"#fdca26\"], [1.0, \"#f0f921\"]], \"type\": \"surface\"}], \"table\": [{\"cells\": {\"fill\": {\"color\": \"#EBF0F8\"}, \"line\": {\"color\": \"white\"}}, \"header\": {\"fill\": {\"color\": \"#C8D4E3\"}, \"line\": {\"color\": \"white\"}}, \"type\": \"table\"}]}, \"layout\": {\"annotationdefaults\": {\"arrowcolor\": \"#2a3f5f\", \"arrowhead\": 0, \"arrowwidth\": 1}, \"coloraxis\": {\"colorbar\": {\"outlinewidth\": 0, \"ticks\": \"\"}}, \"colorscale\": {\"diverging\": [[0, \"#8e0152\"], [0.1, \"#c51b7d\"], [0.2, \"#de77ae\"], [0.3, \"#f1b6da\"], [0.4, \"#fde0ef\"], [0.5, \"#f7f7f7\"], [0.6, \"#e6f5d0\"], [0.7, \"#b8e186\"], [0.8, \"#7fbc41\"], [0.9, \"#4d9221\"], [1, \"#276419\"]], \"sequential\": [[0.0, \"#0d0887\"], [0.1111111111111111, \"#46039f\"], [0.2222222222222222, \"#7201a8\"], [0.3333333333333333, \"#9c179e\"], [0.4444444444444444, \"#bd3786\"], [0.5555555555555556, \"#d8576b\"], [0.6666666666666666, \"#ed7953\"], [0.7777777777777778, \"#fb9f3a\"], [0.8888888888888888, \"#fdca26\"], [1.0, \"#f0f921\"]], \"sequentialminus\": [[0.0, \"#0d0887\"], [0.1111111111111111, \"#46039f\"], [0.2222222222222222, \"#7201a8\"], [0.3333333333333333, \"#9c179e\"], [0.4444444444444444, \"#bd3786\"], [0.5555555555555556, \"#d8576b\"], [0.6666666666666666, \"#ed7953\"], [0.7777777777777778, \"#fb9f3a\"], [0.8888888888888888, \"#fdca26\"], [1.0, \"#f0f921\"]]}, \"colorway\": [\"#636efa\", \"#EF553B\", \"#00cc96\", \"#ab63fa\", \"#FFA15A\", \"#19d3f3\", \"#FF6692\", \"#B6E880\", \"#FF97FF\", \"#FECB52\"], \"font\": {\"color\": \"#2a3f5f\"}, \"geo\": {\"bgcolor\": \"white\", \"lakecolor\": \"white\", \"landcolor\": \"#E5ECF6\", \"showlakes\": true, \"showland\": true, \"subunitcolor\": \"white\"}, \"hoverlabel\": {\"align\": \"left\"}, \"hovermode\": \"closest\", \"mapbox\": {\"style\": \"light\"}, \"paper_bgcolor\": \"white\", \"plot_bgcolor\": \"#E5ECF6\", \"polar\": {\"angularaxis\": {\"gridcolor\": \"white\", \"linecolor\": \"white\", \"ticks\": \"\"}, \"bgcolor\": \"#E5ECF6\", \"radialaxis\": {\"gridcolor\": \"white\", \"linecolor\": \"white\", \"ticks\": \"\"}}, \"scene\": {\"xaxis\": {\"backgroundcolor\": \"#E5ECF6\", \"gridcolor\": \"white\", \"gridwidth\": 2, \"linecolor\": \"white\", \"showbackground\": true, \"ticks\": \"\", \"zerolinecolor\": \"white\"}, \"yaxis\": {\"backgroundcolor\": \"#E5ECF6\", \"gridcolor\": \"white\", \"gridwidth\": 2, \"linecolor\": \"white\", \"showbackground\": true, \"ticks\": \"\", \"zerolinecolor\": \"white\"}, \"zaxis\": {\"backgroundcolor\": \"#E5ECF6\", \"gridcolor\": \"white\", \"gridwidth\": 2, \"linecolor\": \"white\", \"showbackground\": true, \"ticks\": \"\", \"zerolinecolor\": \"white\"}}, \"shapedefaults\": {\"line\": {\"color\": \"#2a3f5f\"}}, \"ternary\": {\"aaxis\": {\"gridcolor\": \"white\", \"linecolor\": \"white\", \"ticks\": \"\"}, \"baxis\": {\"gridcolor\": \"white\", \"linecolor\": \"white\", \"ticks\": \"\"}, \"bgcolor\": \"#E5ECF6\", \"caxis\": {\"gridcolor\": \"white\", \"linecolor\": \"white\", \"ticks\": \"\"}}, \"title\": {\"x\": 0.05}, \"xaxis\": {\"automargin\": true, \"gridcolor\": \"white\", \"linecolor\": \"white\", \"ticks\": \"\", \"title\": {\"standoff\": 15}, \"zerolinecolor\": \"white\", \"zerolinewidth\": 2}, \"yaxis\": {\"automargin\": true, \"gridcolor\": \"white\", \"linecolor\": \"white\", \"ticks\": \"\", \"title\": {\"standoff\": 15}, \"zerolinecolor\": \"white\", \"zerolinewidth\": 2}}}, \"title\": {\"font\": {\"color\": \"#D9D9D9\"}}, \"xaxis\": {\"gridcolor\": \"#434343\", \"showgrid\": true, \"tickfont\": {\"color\": \"#C2C2C2\"}, \"title\": {\"font\": {\"color\": \"#D9D9D9\"}, \"text\": \"\"}, \"zerolinecolor\": \"#666570\"}, \"yaxis\": {\"gridcolor\": \"#434343\", \"showgrid\": true, \"tickfont\": {\"color\": \"#C2C2C2\"}, \"title\": {\"font\": {\"color\": \"#D9D9D9\"}, \"text\": \"\"}, \"zerolinecolor\": \"#666570\"}},\n",
       "                        {\"showLink\": true, \"linkText\": \"Export to plot.ly\", \"plotlyServerURL\": \"https://plot.ly\", \"responsive\": true}\n",
       "                    ).then(function(){\n",
       "                            \n",
       "var gd = document.getElementById('2369c7f2-1818-4e6b-a056-48b8ca067edb');\n",
       "var x = new MutationObserver(function (mutations, observer) {{\n",
       "        var display = window.getComputedStyle(gd).display;\n",
       "        if (!display || display === 'none') {{\n",
       "            console.log([gd, 'removed!']);\n",
       "            Plotly.purge(gd);\n",
       "            observer.disconnect();\n",
       "        }}\n",
       "}});\n",
       "\n",
       "// Listen for the removal of the full notebook cells\n",
       "var notebookContainer = gd.closest('#notebook-container');\n",
       "if (notebookContainer) {{\n",
       "    x.observe(notebookContainer, {childList: true});\n",
       "}}\n",
       "\n",
       "// Listen for the clearing of the current output cell\n",
       "var outputEl = gd.closest('.output');\n",
       "if (outputEl) {{\n",
       "    x.observe(outputEl, {childList: true});\n",
       "}}\n",
       "\n",
       "                        })\n",
       "                };\n",
       "                });\n",
       "            </script>\n",
       "        </div>"
      ]
     },
     "metadata": {},
     "output_type": "display_data"
    }
   ],
   "source": [
    "df3.iplot(kind='surface')"
   ]
  },
  {
   "cell_type": "code",
   "execution_count": 63,
   "metadata": {},
   "outputs": [
    {
     "data": {
      "application/vnd.plotly.v1+json": {
       "config": {
        "linkText": "Export to plot.ly",
        "plotlyServerURL": "https://plot.ly",
        "showLink": true
       },
       "data": [
        {
         "colorscale": [
          [
           0,
           "rgb(255, 153, 51)"
          ],
          [
           0.1111111111111111,
           "rgb(55, 128, 191)"
          ],
          [
           0.2222222222222222,
           "rgb(50, 171, 96)"
          ],
          [
           0.3333333333333333,
           "rgb(128, 0, 128)"
          ],
          [
           0.4444444444444444,
           "rgb(219, 64, 82)"
          ],
          [
           0.5555555555555556,
           "rgb(0, 128, 128)"
          ],
          [
           0.6666666666666666,
           "rgb(255, 255, 51)"
          ],
          [
           0.7777777777777778,
           "rgb(128, 128, 0)"
          ],
          [
           0.8888888888888888,
           "rgb(251, 128, 114)"
          ],
          [
           1,
           "rgb(128, 177, 211)"
          ]
         ],
         "type": "surface",
         "x": [
          -20,
          -19.25,
          -18.5,
          -17.75,
          -17,
          -16.25,
          -15.5,
          -14.75,
          -14,
          -13.25,
          -12.5,
          -11.75,
          -11,
          -10.25,
          -9.5,
          -8.75,
          -8,
          -7.25,
          -6.5,
          -5.75,
          -5,
          -4.25,
          -3.5,
          -2.75,
          -2,
          -1.25,
          -0.5,
          0.25,
          1,
          1.75,
          2.5,
          3.25,
          4,
          4.75,
          5.5,
          6.25,
          7,
          7.75,
          8.5,
          9.25,
          10,
          10.75,
          11.5,
          12.25,
          13,
          13.75,
          14.5,
          15.25,
          16,
          16.75,
          17.5,
          18.25,
          19,
          19.75
         ],
         "y": [
          -20,
          -19.25,
          -18.5,
          -17.75,
          -17,
          -16.25,
          -15.5,
          -14.75,
          -14,
          -13.25,
          -12.5,
          -11.75,
          -11,
          -10.25,
          -9.5,
          -8.75,
          -8,
          -7.25,
          -6.5,
          -5.75,
          -5,
          -4.25,
          -3.5,
          -2.75,
          -2,
          -1.25,
          -0.5,
          0.25,
          1,
          1.75,
          2.5,
          3.25,
          4,
          4.75,
          5.5,
          6.25,
          7,
          7.75,
          8.5,
          9.25,
          10,
          10.75,
          11.5,
          12.25,
          13,
          13.75,
          14.5,
          15.25,
          16,
          16.75,
          17.5,
          18.25,
          19,
          19.75
         ],
         "z": [
          [
           -0.0007026662637428305,
           0.035506948807493305,
           0.06293685679247943,
           0.07474098203953732,
           0.06845114274801657,
           0.04614155259024783,
           0.013405194229677505,
           -0.022390915012021846,
           -0.05399610483125729,
           -0.075812766210001,
           -0.08477738636965329,
           -0.08051745009296397,
           -0.0649109753812879,
           -0.04128830234973767,
           -0.013537818619430503,
           0.01467175934398162,
           0.04042644267431279,
           0.06182359971940465,
           0.07798461463302095,
           0.08889742097267919,
           0.09517229620994277,
           0.09778225187943583,
           0.09783635854065989,
           0.09640971807794003,
           0.0944336254514641,
           0.09263637603078959,
           0.09151915705971174,
           0.0913510374226154,
           0.09217035385098872,
           0.0937851483325176,
           0.09577158154964004,
           0.09747563471694948,
           0.09802917929173674,
           0.0963956279450986,
           0.09146139827941907,
           0.08218547016546035,
           0.06780868630120103,
           0.04810649822800793,
           0.023645221568363895,
           -0.004022571499422312,
           -0.03230477075805424,
           -0.05773859288327425,
           -0.07643276101580226,
           -0.08477368114599979,
           -0.08030063932478075,
           -0.0625638557513206,
           -0.03371368540754761,
           0.00143558137439708,
           0.03604197501326519,
           0.0625759550831283,
           0.07464033662197972,
           0.06882711321544657,
           0.04604289168808653,
           0.011777280577047597
          ],
          [
           0.035506948807493305,
           0.06375220717106429,
           0.074909506771761,
           0.06631939683612534,
           0.040652023615160945,
           0.004683199869331691,
           -0.0328585390136115,
           -0.06363897647703769,
           -0.08160364627510243,
           -0.08399942673814534,
           -0.07144409347789418,
           -0.047223897313638456,
           -0.016155080600966612,
           0.016627366587580485,
           0.04666526935286476,
           0.07079708460060882,
           0.08737380335428893,
           0.09614226316756926,
           0.0979186203257368,
           0.09418065553018096,
           0.08668190931734066,
           0.07715069681333743,
           0.06709752724904226,
           0.057724368691431834,
           0.04991167337855531,
           0.044252895575082045,
           0.041107990460406696,
           0.040653371580937785,
           0.04291318891881724,
           0.0477640424511109,
           0.05491202556718957,
           0.06384768057696963,
           0.0737915341810178,
           0.08365032581127232,
           0.09201074912565553,
           0.09720107998909114,
           0.09744795333537942,
           0.09114209446724074,
           0.07720082203239513,
           0.055478069235101436,
           0.027131479712259054,
           -0.005176192314548786,
           -0.037370625709483574,
           -0.06444842155917006,
           -0.08135833492260225,
           -0.08416692185825189,
           -0.07125963263357546,
           -0.04422980159861082,
           -0.00809680454054534,
           0.02939294711166638,
           0.059392786441186396,
           0.07421185941828652,
           0.06961519921698897,
           0.046433956511249166
          ],
          [
           0.06293685679247943,
           0.074909506771761,
           0.0655435939338876,
           0.03776620572529323,
           -0.0006409702333513602,
           -0.03960379235031334,
           -0.06962727998004443,
           -0.08412057491790657,
           -0.08062737225724165,
           -0.060826149688477674,
           -0.029531838862628664,
           0.0068484121271995295,
           0.04190983136068899,
           0.07050356160854643,
           0.08944113223726488,
           0.09763126853080899,
           0.09577158154964004,
           0.08578633036795395,
           0.0702016095758575,
           0.051602991885690876,
           0.032255360808684116,
           0.013903494103593827,
           -0.0022714801593679583,
           -0.015586540465728237,
           -0.0257326164534714,
           -0.032634458338672886,
           -0.03632466740164732,
           -0.03684995091504106,
           -0.034218668982967715,
           -0.028393247279687634,
           -0.01932788543000235,
           -0.007049208111082399,
           0.008227019898694314,
           0.025957776046456108,
           0.04513914234015876,
           0.06421583677586362,
           0.08108269682411075,
           0.0932278582823206,
           0.09805214983976746,
           0.093362965105012,
           0.07798461463302095,
           0.05236108741978671,
           0.01897150392574176,
           -0.017639756309770396,
           -0.05137204098274341,
           -0.07565218549411296,
           -0.08495074460162425,
           -0.0763953998922263,
           -0.05100726463184431,
           -0.01407378258821094,
           0.025666396870910782,
           0.05802465369994649,
           0.0741355917833892,
           0.06922750027940155
          ],
          [
           0.07474098203953732,
           0.06631939683612534,
           0.03776620572529323,
           -0.0024257380616022834,
           -0.042883848501413066,
           -0.07281158756207441,
           -0.08487096708704792,
           -0.07673560085016393,
           -0.0510823862721347,
           -0.014287992458647683,
           0.02558446691126684,
           0.06084434355515007,
           0.08574525986534265,
           0.0972893725182267,
           0.09525157258046667,
           0.08161243943995165,
           0.05968424318608694,
           0.03320771438653382,
           0.005621468217114016,
           -0.020396538150183854,
           -0.04310913261249983,
           -0.06167766190906147,
           -0.07598011094294249,
           -0.08637007198254279,
           -0.09343755568640384,
           -0.0978078166082552,
           -0.09999270674411341,
           -0.100294865855492,
           -0.0987590270841395,
           -0.09516525470659133,
           -0.08906325090046266,
           -0.07985173966916323,
           -0.06690907749207924,
           -0.04977765643346263,
           -0.028393247279687634,
           -0.0033309781163817385,
           0.023984859060907256,
           0.05118242685144097,
           0.07504008493420455,
           0.09184901403994886,
           0.09805909273146404,
           0.09114209446724074,
           0.07050356160854643,
           0.038185302365766345,
           -0.0009337263451392674,
           -0.039671161981710924,
           -0.06987449839556531,
           -0.0843658081677389,
           -0.07904120665496475,
           -0.05448491071138298,
           -0.016459324537710488,
           0.025126386436683273,
           0.05871539568667765,
           0.07447927078866733
          ],
          [
           0.06845114274801657,
           0.040652023615160945,
           -0.0006409702333513602,
           -0.042883848501413066,
           -0.07380032174806236,
           -0.08495903361221167,
           -0.07381763629814138,
           -0.04382882136508016,
           -0.002866288492327476,
           0.03930820141354958,
           0.07366475467023335,
           0.09388635271987052,
           0.0973172742553893,
           0.08485759774636419,
           0.06007123122435692,
           0.027914628346377233,
           -0.006517183602778703,
           -0.03894579526542443,
           -0.06644009854577237,
           -0.08753663013511558,
           -0.10205429398979762,
           -0.1107415575688542,
           -0.11488172267414411,
           -0.11594360149554611,
           -0.11532049911370224,
           -0.11416345725292104,
           -0.11329151708883223,
           -0.11315266588975689,
           -0.11381118218056065,
           -0.11494633135531154,
           -0.11586015492109232,
           -0.11550537190904059,
           -0.1125552047731455,
           -0.10554182731338523,
           -0.09308517130345338,
           -0.07421551271398784,
           -0.04876053907416855,
           -0.017724518826640185,
           0.01645508537365307,
           0.04991167337855531,
           0.0777361719409314,
           0.09479702265635812,
           0.0969183613137812,
           0.08218547016546035,
           0.0520107047956078,
           0.011541099463318908,
           -0.030924222029581158,
           -0.06559565514919971,
           -0.08366676740232826,
           -0.07997125068097903,
           -0.05497096099983781,
           -0.015267200665244961,
           0.027807584790218224,
           0.06134383057448895
          ],
          [
           0.04614155259024783,
           0.004683199869331691,
           -0.03960379235031334,
           -0.07281158756207441,
           -0.08495903361221167,
           -0.07274959951935187,
           -0.039996356019342996,
           0.004117099812496715,
           0.04810649822800793,
           0.08147464062757319,
           0.09723251194195273,
           0.09308319159052125,
           0.07120318738357315,
           0.036970052648530934,
           -0.0028010536248620323,
           -0.0415526319790494,
           -0.07421551271398784,
           -0.0978078166082552,
           -0.11144378456228145,
           -0.11592771952351635,
           -0.11315266588975689,
           -0.10549589328006628,
           -0.09533637996050764,
           -0.08474553874543932,
           -0.07534343601233413,
           -0.0682778666994848,
           -0.0642716944557742,
           -0.06368824394321272,
           -0.06657778750123684,
           -0.07268483171027637,
           -0.08141329848199268,
           -0.09176411819038024,
           -0.10227682924862294,
           -0.11102163823080137,
           -0.11569649992878561,
           -0.11387812357978247,
           -0.10344907333918486,
           -0.08317175538274917,
           -0.05330931316864547,
           -0.01612101143253597,
           0.023984859060907256,
           0.06084016493816854,
           0.08754417359440915,
           0.09803711116369127,
           0.08889742097267919,
           0.06084434355515007,
           0.01936181621259661,
           -0.026001405859951046,
           -0.06374549602341241,
           -0.08354484363419847,
           -0.0795155731187737,
           -0.05251348559497574,
           -0.010488489547392146,
           0.033528943348648
          ],
          [
           0.013405194229677505,
           -0.0328585390136115,
           -0.06962727998004443,
           -0.08487096708704792,
           -0.07381763629814138,
           -0.039996356019342996,
           0.0064578582297709864,
           0.05236108741978671,
           0.08553446243914668,
           0.09803929917216529,
           0.08775451660503289,
           0.05811964474253582,
           0.01645508537365307,
           -0.028393247279687634,
           -0.06830768598256921,
           -0.09748586961705513,
           -0.11312215148624581,
           -0.11525272490010806,
           -0.1060350275635281,
           -0.08879735592494752,
           -0.06714731245431023,
           -0.044318495486442656,
           -0.022816193832590904,
           -0.004331277232129268,
           0.010158372169524544,
           0.020191172864757273,
           0.02560889291691396,
           0.026382956072391866,
           0.02251261661707456,
           0.014009979174710536,
           0.0009738306127996926,
           -0.016257991397592056,
           -0.036903778452066216,
           -0.059528143257756794,
           -0.08189887587784364,
           -0.10100032187268156,
           -0.11329151708883223,
           -0.11526126834649275,
           -0.10425411975119218,
           -0.07942853394297261,
           -0.042590965877850995,
           0.0014246460094314765,
           0.04513914234015876,
           0.07972317169664972,
           0.09707637805665423,
           0.09222867847278952,
           0.06533580152228118,
           0.02247910977877244,
           -0.025287194701867834,
           -0.06468030667853465,
           -0.08409928364180795,
           -0.07750777241019773,
           -0.04688220005837039,
           -0.0021280053140911165
          ],
          [
           -0.022390915012021846,
           -0.06363897647703769,
           -0.08412057491790657,
           -0.07673560085016393,
           -0.04382882136508016,
           0.004117099812496715,
           0.05236108741978671,
           0.0867752368128894,
           0.09799889404024424,
           0.08365032581127232,
           0.04819650121742355,
           0.000897882385944272,
           -0.04722856871298636,
           -0.08637007198254279,
           -0.10999127699528204,
           -0.11565330276600444,
           -0.10466050783780126,
           -0.0809245671204661,
           -0.04954309929997819,
           -0.015522025689743025,
           0.017098365543985857,
           0.04564028693582465,
           0.0687774928794527,
           0.08625834657335883,
           0.09851286286044308,
           0.10626072659322694,
           0.11019018601661706,
           0.11073682733507366,
           0.10796654245504357,
           0.10155901480103412,
           0.09089083321114294,
           0.07522176370794928,
           0.053984192453900466,
           0.02715696020194833,
           -0.004331277232129268,
           -0.038270832354069854,
           -0.07105406092525876,
           -0.09792350890563162,
           -0.11368662328968558,
           -0.11387812357978247,
           -0.0961740316614175,
           -0.06167766190906147,
           -0.015586540465728237,
           0.03320771438653382,
           0.0737915341810178,
           0.09596460135634317,
           0.093362965105012,
           0.06596064075292694,
           0.020921717977151446,
           -0.028831318121094747,
           -0.06822319191703183,
           -0.08483496237677107,
           -0.07331060566685879,
           -0.037660285837500716
          ],
          [
           -0.05399610483125729,
           -0.08160364627510243,
           -0.08062737225724165,
           -0.0510823862721347,
           -0.002866288492327476,
           0.04810649822800793,
           0.08553446243914668,
           0.09799889404024424,
           0.082134100675528,
           0.04291318891881724,
           -0.008646721465118964,
           -0.05924979722673779,
           -0.09716150504395847,
           -0.11496420793128047,
           -0.1106399934725709,
           -0.08702920904011073,
           -0.05018568327762217,
           -0.0073411016910038245,
           0.03488745710439346,
           0.07166040945258814,
           0.10035017564456081,
           0.1203730806019293,
           0.13265707755961198,
           0.13898890003173922,
           0.14141961054935853,
           0.141819095207108,
           0.14159377784668595,
           0.14153601842369937,
           0.1417607525231365,
           0.1416975584086681,
           0.14013315565025658,
           0.13532818775625344,
           0.12525083753434577,
           0.10796654245504357,
           0.08218858749967678,
           0.047927082138306785,
           0.007086285574353929,
           -0.03621721434011259,
           -0.07586614420408501,
           -0.10466050783780126,
           -0.11592855991826022,
           -0.10554182731338523,
           -0.07377030942693767,
           -0.026265238925836213,
           0.026448521520916726,
           0.07120318738357315,
           0.09577158154964004,
           0.09281030402091647,
           0.06279386743820309,
           0.01467175934398162,
           -0.03637200138534742,
           -0.07364291580549688,
           -0.08467860266786147,
           -0.06592883779345551
          ],
          [
           -0.075812766210001,
           -0.08399942673814534,
           -0.060826149688477674,
           -0.014287992458647683,
           0.03930820141354958,
           0.08147464062757319,
           0.09803929917216529,
           0.08365032581127232,
           0.04291318891881724,
           -0.011847056670384075,
           -0.06502503478699774,
           -0.10262009088568971,
           -0.11594360149554611,
           -0.10319723204920035,
           -0.06883886859139111,
           -0.02136942726744661,
           0.02947833344313617,
           0.07522176370794928,
           0.11019018601661706,
           0.13200603434105607,
           0.14117932678513379,
           0.14019550879519802,
           0.13248789560619015,
           0.1215776487487792,
           0.11051245322547638,
           0.10160219708604251,
           0.09636827159298987,
           0.09559620363699033,
           0.0993958462307399,
           0.1072118622827233,
           0.11777604011586752,
           0.12904306358773007,
           0.13819455031459152,
           0.14182052949746649,
           0.1363763500460628,
           0.11895031131114453,
           0.08825950348380547,
           0.04564028693582465,
           -0.004331277232129268,
           -0.05399038970760124,
           -0.0937826290919642,
           -0.11448367723597076,
           -0.10999127699528204,
           -0.07985173966916323,
           -0.03051661817306503,
           0.025466026475194633,
           0.0725124622188363,
           0.0966511419619441,
           0.09031321793877432,
           0.055478069235101436,
           0.003727466233536553,
           -0.047223897313638456,
           -0.07958869857860314,
           -0.08205020090150196
          ],
          [
           -0.08477738636965329,
           -0.07144409347789418,
           -0.029531838862628664,
           0.02558446691126684,
           0.07366475467023335,
           0.09723251194195273,
           0.08775451660503289,
           0.04819650121742355,
           -0.008646721465118964,
           -0.06502503478699774,
           -0.10425411975119218,
           -0.11569649992878561,
           -0.0972015549530409,
           -0.05461588256536717,
           0.0009738306127996926,
           0.0569867282767652,
           0.10275473614716857,
           0.1316728268808787,
           0.14179006790730303,
           0.13509259526211642,
           0.11604804811520174,
           0.09002432997032234,
           0.062034370522960125,
           0.036013118230284684,
           0.014611898117628743,
           -0.0006409754282528475,
           -0.009007957353604124,
           -0.010210349564048503,
           -0.004215544867432353,
           0.00879524965035359,
           0.028270310898122826,
           0.05298490441364873,
           0.08069235790121831,
           0.10788472442996018,
           0.12985565243905386,
           0.14124053473287576,
           0.13710500795607788,
           0.11445612623663119,
           0.07380308035304459,
           0.020191172864757273,
           -0.036903778452066216,
           -0.08520875694531246,
           -0.11271464281540354,
           -0.11144378456228145,
           -0.08069276552316074,
           -0.028393247279687634,
           0.030337084159494338,
           0.07744441556315348,
           0.09783635854065989,
           0.08489257309205754,
           0.04338408933584797,
           -0.011654477014887267,
           -0.06006981356906526,
           -0.08405004413857464
          ],
          [
           -0.08051745009296397,
           -0.047223897313638456,
           0.0068484121271995295,
           0.06084434355515007,
           0.09388635271987052,
           0.09308319159052125,
           0.05811964474253582,
           0.000897882385944272,
           -0.05924979722673779,
           -0.10262009088568971,
           -0.11569649992878561,
           -0.09495305747713984,
           -0.04694921110588836,
           0.01478156540039093,
           0.07451341934675718,
           0.11895031131114453,
           0.1402732191419091,
           0.13701916559946886,
           0.11303749901914252,
           0.07531659368730659,
           0.031610442576253,
           -0.011414332533086971,
           -0.04916880920228074,
           -0.07929019757294747,
           -0.1011986367120154,
           -0.11538106041708977,
           -0.12267049384179304,
           -0.12368964794720452,
           -0.11853755153953284,
           -0.10674426808414875,
           -0.08749612292214297,
           -0.06011637286365964,
           -0.024744851147022306,
           0.016919129954055045,
           0.06104787183611214,
           0.10160219708604251,
           0.13102411582348789,
           0.14182052949746649,
           0.1288260976817965,
           0.09154187059921455,
           0.0356589174235028,
           -0.02711743464970539,
           -0.08141329848199268,
           -0.11240472280373874,
           -0.1107415575688542,
           -0.07641713591002264,
           -0.019862246660064285,
           0.040653371580937785,
           0.08485759774636419,
           0.09767205330200214,
           0.07505113828261388,
           0.025971607799782748,
           -0.030577222184539572,
           -0.07274959951935187
          ],
          [
           -0.0649109753812879,
           -0.016155080600966612,
           0.04190983136068899,
           0.08574525986534265,
           0.0973172742553893,
           0.07120318738357315,
           0.01645508537365307,
           -0.04722856871298636,
           -0.09716150504395847,
           -0.11594360149554611,
           -0.0972015549530409,
           -0.04694921110588836,
           0.019417652915459663,
           0.08287291581680681,
           0.12688740043053856,
           0.141819095207108,
           0.12644417385606296,
           0.08671101859405894,
           0.032716656177174196,
           -0.024744851147022306,
           -0.07692192159625537,
           -0.11853755153953284,
           -0.14790462620885408,
           -0.16611685400607332,
           -0.17584069010379264,
           -0.1801446545297837,
           -0.18160802037610754,
           -0.18176644422676885,
           -0.1808471258120618,
           -0.17773339606034183,
           -0.17014801594696913,
           -0.15510339062739803,
           -0.12967979361550958,
           -0.09211958419387666,
           -0.04306263900144976,
           0.013454008098850966,
           0.06974763836772843,
           0.11545896314428632,
           0.13989120849852552,
           0.13532818775625344,
           0.10035017564456081,
           0.0418135386612722,
           -0.02569037296395049,
           -0.08333658184516009,
           -0.11381118218056065,
           -0.1074585371964665,
           -0.06644009854577237,
           -0.004922730661455259,
           0.05531860300421393,
           0.09263637603078959,
           0.09375826681275508,
           0.05919281548607785,
           0.003337992054599261,
           -0.0510823862721347
          ],
          [
           -0.04128830234973767,
           0.016627366587580485,
           0.07050356160854643,
           0.0972893725182267,
           0.08485759774636419,
           0.036970052648530934,
           -0.028393247279687634,
           -0.08637007198254279,
           -0.11496420793128047,
           -0.10319723204920035,
           -0.05461588256536717,
           0.01478156540039093,
           0.08287291581680681,
           0.12919930000974209,
           0.14124053473287576,
           0.11720659774600677,
           0.06496444719258307,
           -0.0018304965737062353,
           -0.06856321354927865,
           -0.12368964794720452,
           -0.16091034854610295,
           -0.17933114212655984,
           -0.1821613329078053,
           -0.1747972342928682,
           -0.16303912773542587,
           -0.15185982928725494,
           -0.14478624788034108,
           -0.1437158894806465,
           -0.14891825321205285,
           -0.15904136091487175,
           -0.17109514979541934,
           -0.18054660691367944,
           -0.18176644422676885,
           -0.16904790121688004,
           -0.1382335440607129,
           -0.08865678616774172,
           -0.024744851147022306,
           0.043569358828744825,
           0.1023252846896187,
           0.13701916559946886,
           0.1373368253178257,
           0.10155901480103412,
           0.038740412097179454,
           -0.03275482103060757,
           -0.09051264783092683,
           -0.11565330276600444,
           -0.09999270674411341,
           -0.04977765643346263,
           0.015946313850788676,
           0.07218796230389286,
           0.09765709951722429,
           0.08334020632210716,
           0.036304009675109813,
           -0.02312913047959675
          ],
          [
           -0.013537818619430503,
           0.04666526935286476,
           0.08944113223726488,
           0.09525157258046667,
           0.06007123122435692,
           -0.0028010536248620323,
           -0.06830768598256921,
           -0.10999127699528204,
           -0.1106399934725709,
           -0.06883886859139111,
           0.0009738306127996926,
           0.07451341934675718,
           0.12688740043053856,
           0.14124053473287576,
           0.1136526088802527,
           0.05298490441364873,
           -0.023527608249201665,
           -0.09668883252747353,
           -0.1511875643863488,
           -0.17903560277058095,
           -0.1800313728705813,
           -0.15987112992755653,
           -0.1271795169340972,
           -0.0907256642328181,
           -0.05761803324395176,
           -0.032657564269347995,
           -0.01855449981019833,
           -0.016505930263581485,
           -0.026665677985416577,
           -0.04822085787410071,
           -0.07903277128303789,
           -0.11505016730310495,
           -0.1499137997580331,
           -0.1752665961050691,
           -0.1821644169794075,
           -0.163591222139663,
           -0.11749065565570795,
           -0.04916880920228074,
           0.028270310898122826,
           0.09636827159298987,
           0.13650222610828716,
           0.1363763500460628,
           0.09538860184148468,
           0.026382956072391866,
           -0.047601180630548544,
           -0.10100032187268156,
           -0.11519195003114313,
           -0.08597717858312592,
           -0.0257326164534714,
           0.041107990460406696,
           0.08775451660503289,
           0.09605392505278619,
           0.06407323368053625,
           0.0068484121271995295
          ],
          [
           0.01467175934398162,
           0.07079708460060882,
           0.09763126853080899,
           0.08161243943995165,
           0.027914628346377233,
           -0.0415526319790494,
           -0.09748586961705513,
           -0.11565330276600444,
           -0.08702920904011073,
           -0.02136942726744661,
           0.0569867282767652,
           0.11895031131114453,
           0.141819095207108,
           0.11720659774600677,
           0.05298490441364873,
           -0.030841885736018544,
           -0.11001880232017779,
           -0.1642373823959323,
           -0.18264893898060253,
           -0.16525654180237792,
           -0.12058300781296416,
           -0.061301442485772274,
           0.0001569493213448689,
           0.054541276561040686,
           0.09674378883254962,
           0.12512633286074154,
           0.14000357308347133,
           0.14209785531573388,
           0.13154597877649798,
           0.10774865812501504,
           0.07010183827093616,
           0.019407660252202565,
           -0.040517266401149735,
           -0.10179031338845618,
           -0.1528102839666787,
           -0.18054660691367944,
           -0.17456713788189782,
           -0.1316269478872783,
           -0.05890402451081101,
           0.026026147564044762,
           0.0993958462307399,
           0.13881980260142648,
           0.1316728268808787,
           0.080812940518254,
           0.004788701422209339,
           -0.0682778666994848,
           -0.11120707845564833,
           -0.10856457404571711,
           -0.06311985818605961,
           0.00509866081377989,
           0.06709752724904226,
           0.09720107998909114,
           0.08401478551650957,
           0.03516969108452159
          ],
          [
           0.04042644267431279,
           0.08737380335428893,
           0.09577158154964004,
           0.05968424318608694,
           -0.006517183602778703,
           -0.07421551271398784,
           -0.11312215148624581,
           -0.10466050783780126,
           -0.05018568327762217,
           0.02947833344313617,
           0.10275473614716857,
           0.1402732191419091,
           0.12644417385606296,
           0.06496444719258307,
           -0.023527608249201665,
           -0.11001880232017779,
           -0.167906160972842,
           -0.18158488243001691,
           -0.1499137997580331,
           -0.08411903827788304,
           -0.001951040868825416,
           0.07900122348247962,
           0.14626024334832619,
           0.1943926655354523,
           0.22411724822563847,
           0.23974108638511749,
           0.24626113579560338,
           0.24707500803079696,
           0.242708395806646,
           0.23063350923189954,
           0.2061784643801796,
           0.16450028494360933,
           0.10335731863015635,
           0.025921773001301992,
           -0.05761803324395176,
           -0.13096468174943518,
           -0.17572115154133375,
           -0.17773339606034183,
           -0.13354819579908725,
           -0.054043516875550875,
           0.037104384846577534,
           0.11051245322547638,
           0.14159377784668595,
           0.1203730806019293,
           0.05623788871182025,
           -0.024974302469920013,
           -0.09093315086996714,
           -0.11594360149554611,
           -0.09165325219793564,
           -0.03051661817306503,
           0.039740214354108065,
           0.08837297506796234,
           0.09517229620994277,
           0.05919281548607785
          ],
          [
           0.06182359971940465,
           0.09614226316756926,
           0.08578633036795395,
           0.03320771438653382,
           -0.03894579526542443,
           -0.0978078166082552,
           -0.11525272490010806,
           -0.0809245671204661,
           -0.0073411016910038245,
           0.07522176370794928,
           0.1316728268808787,
           0.13701916559946886,
           0.08671101859405894,
           -0.0018304965737062353,
           -0.09668883252747353,
           -0.1642373823959323,
           -0.18158488243001691,
           -0.1437158894806465,
           -0.0631265026963309,
           0.03686485131708162,
           0.13154597877649798,
           0.20290271423033404,
           0.24364050109720906,
           0.2566430509401283,
           0.25130504004127213,
           0.23896010343988033,
           0.22917661128094333,
           0.22759450814784551,
           0.23504220166614895,
           0.24743234013685533,
           0.2563400102730029,
           0.2506818889186662,
           0.21992483146863692,
           0.15851669454452746,
           0.07010183827093616,
           -0.03066927919323432,
           -0.12058300781296416,
           -0.1747972342928682,
           -0.17624240938958516,
           -0.12368964794720452,
           -0.0345063152690242,
           0.060056532848391,
           0.1259875650745608,
           0.13983537623968262,
           0.09851286286044308,
           0.020964858702894273,
           -0.059528143257756794,
           -0.10940895347488573,
           -0.1091935771365692,
           -0.06167766190906147,
           0.009783129792494133,
           0.07218796230389286,
           0.09799889404024424,
           0.07746346016459599
          ],
          [
           0.07798461463302095,
           0.0979186203257368,
           0.0702016095758575,
           0.005621468217114016,
           -0.06644009854577237,
           -0.11144378456228145,
           -0.1060350275635281,
           -0.04954309929997819,
           0.03488745710439346,
           0.11019018601661706,
           0.14179006790730303,
           0.11303749901914252,
           0.032716656177174196,
           -0.06856321354927865,
           -0.1511875643863488,
           -0.18264893898060253,
           -0.1499137997580331,
           -0.0631265026963309,
           0.05010748884225075,
           0.15649972810645998,
           0.22937894091767205,
           0.25653555744366946,
           0.2413455569066888,
           0.1982031145119569,
           0.14549969299473817,
           0.09960082298540655,
           0.07173638515428266,
           0.06758414818694233,
           0.08791985781076668,
           0.12877087581897034,
           0.18080401871815463,
           0.22917661128094333,
           0.25562857790064414,
           0.24364050109720906,
           0.18545724476618586,
           0.0878871354792479,
           -0.026665677985416577,
           -0.1258888846262905,
           -0.1788278960809016,
           -0.16848219583369567,
           -0.10007704610444179,
           -0.0006409754282528475,
           0.09083808032935944,
           0.13901492878918745,
           0.12688740043053856,
           0.0629299462841541,
           -0.022816193832590904,
           -0.09217456730776878,
           -0.11580379357365934,
           -0.08597717858312592,
           -0.01932788543000235,
           0.051602991885690876,
           0.09391912390655559,
           0.08961897389930491
          ],
          [
           0.08889742097267919,
           0.09418065553018096,
           0.051602991885690876,
           -0.020396538150183854,
           -0.08753663013511558,
           -0.11592771952351635,
           -0.08879735592494752,
           -0.015522025689743025,
           0.07166040945258814,
           0.13200603434105607,
           0.13509259526211642,
           0.07531659368730659,
           -0.024744851147022306,
           -0.12368964794720452,
           -0.17903560277058095,
           -0.16525654180237792,
           -0.08411903827788304,
           0.03686485131708162,
           0.15649972810645998,
           0.2365243422174828,
           0.2553118000893658,
           0.21324911772700825,
           0.12877087581897034,
           0.02838670735216783,
           -0.06374895250625122,
           -0.132008995765264,
           -0.1696119802323752,
           -0.17499760171649797,
           -0.14809048863531396,
           -0.08964697741323371,
           -0.004215913110515241,
           0.0957513146109,
           0.18854967763954522,
           0.24743234013685533,
           0.25002327766855664,
           0.1890798565922851,
           0.07900122348247962,
           -0.046310064114579955,
           -0.14478624788034108,
           -0.1826358700412797,
           -0.1487375524385824,
           -0.06011637286365964,
           0.04463265266061536,
           0.1215776487487792,
           0.1402732191419091,
           0.09664743042586664,
           0.014009979174710536,
           -0.0682778666994848,
           -0.11315266588975689,
           -0.10262009088568971,
           -0.04517479711682324,
           0.029371322065773888,
           0.08485759774636419,
           0.09614226316756926
          ],
          [
           0.09517229620994277,
           0.08668190931734066,
           0.032255360808684116,
           -0.04310913261249983,
           -0.10205429398979762,
           -0.11315266588975689,
           -0.06714731245431023,
           0.017098365543985857,
           0.10035017564456081,
           0.14117932678513379,
           0.11604804811520174,
           0.031610442576253,
           -0.07692192159625537,
           -0.16091034854610295,
           -0.1800313728705813,
           -0.12058300781296416,
           -0.001951040868825416,
           0.13154597877649798,
           0.22937894091767205,
           0.2553118000893658,
           0.20049625055173417,
           0.08393854575868848,
           -0.05863687417657578,
           -0.19114437378651342,
           -0.29046275344788247,
           -0.35084804028714445,
           -0.3787322233669178,
           -0.382375848005458,
           -0.3632795822101567,
           -0.31475910259630246,
           -0.22856545626592412,
           -0.10542055787501849,
           0.037372873633869375,
           0.16693195814109418,
           0.2455799958764798,
           0.24707500803079696,
           0.17037647050011584,
           0.043473546354522816,
           -0.0857896329957062,
           -0.16865061331126227,
           -0.17584069010379264,
           -0.11001880232017779,
           -0.004215544867432353,
           0.0932439401444546,
           0.14047350854001267,
           0.1203730806019293,
           0.0471656583393752,
           -0.04165211977536649,
           -0.10379316880053832,
           -0.1120973403357679,
           -0.06644009854577237,
           0.007707081140409774,
           0.07283507438966245,
           0.09805909273146404
          ],
          [
           0.09778225187943583,
           0.07715069681333743,
           0.013903494103593827,
           -0.06167766190906147,
           -0.1107415575688542,
           -0.10549589328006628,
           -0.044318495486442656,
           0.04564028693582465,
           0.1203730806019293,
           0.14019550879519802,
           0.09002432997032234,
           -0.011414332533086971,
           -0.11853755153953284,
           -0.17933114212655984,
           -0.15987112992755653,
           -0.061301442485772274,
           0.07900122348247962,
           0.20290271423033404,
           0.25653555744366946,
           0.21324911772700825,
           0.08393854575868848,
           -0.08964697741323371,
           -0.254829433326894,
           -0.37117570680030565,
           -0.42574709936268906,
           -0.4335860886421158,
           -0.42421701152445723,
           -0.42197287899622543,
           -0.4308806796227811,
           -0.43220845214435083,
           -0.39598244357893553,
           -0.3003162506586467,
           -0.14809048863531396,
           0.02838670735216783,
           0.17812580971586786,
           0.25311832399967577,
           0.23063350923189954,
           0.12512633286074154,
           -0.016505930263581485,
           -0.13461888616197776,
           -0.18251498442862385,
           -0.14621488967339394,
           -0.04916880920228074,
           0.060056532848391,
           0.13102411582348789,
           0.13448542549215534,
           0.07451341934675718,
           -0.015522025689743025,
           -0.09051264783092683,
           -0.11573535202045362,
           -0.08276326387855062,
           -0.011847056670384075,
           0.05968424318608694,
           0.0966511419619441
          ],
          [
           0.09783635854065989,
           0.06709752724904226,
           -0.0022714801593679583,
           -0.07598011094294249,
           -0.11488172267414411,
           -0.09533637996050764,
           -0.022816193832590904,
           0.0687774928794527,
           0.13265707755961198,
           0.13248789560619015,
           0.062034370522960125,
           -0.04916880920228074,
           -0.14790462620885408,
           -0.1821613329078053,
           -0.1271795169340972,
           0.0001569493213448689,
           0.14626024334832619,
           0.24364050109720906,
           0.2413455569066888,
           0.12877087581897034,
           -0.05863687417657578,
           -0.254829433326894,
           -0.39273214882544505,
           -0.434076417833265,
           -0.3853906832849483,
           -0.2926242127644853,
           -0.21712746254366178,
           -0.20468978410715197,
           -0.2626748843273063,
           -0.35635521764627226,
           -0.42622489689420734,
           -0.417885750201407,
           -0.309992807249447,
           -0.12666669235949252,
           0.07173638515428266,
           0.2152076253393881,
           0.2554522819126627,
           0.18727640924644018,
           0.05010748884225075,
           -0.0907256642328181,
           -0.1738139924448547,
           -0.16848219583369567,
           -0.08633239590937543,
           0.02714993644728305,
           0.11604804811520174,
           0.14077417261598202,
           0.09538860184148468,
           0.00785343411045172,
           -0.07586614420408501,
           -0.11525272490010806,
           -0.09448107143366503,
           -0.028393247279687634,
           0.046894784304553426,
           0.0932278582823206
          ],
          [
           0.09640971807794003,
           0.057724368691431834,
           -0.015586540465728237,
           -0.08637007198254279,
           -0.11594360149554611,
           -0.08474553874543932,
           -0.004331277232129268,
           0.08625834657335883,
           0.13898890003173922,
           0.1215776487487792,
           0.036013118230284684,
           -0.07929019757294747,
           -0.16611685400607332,
           -0.1747972342928682,
           -0.0907256642328181,
           0.054541276561040686,
           0.1943926655354523,
           0.2566430509401283,
           0.1982031145119569,
           0.02838670735216783,
           -0.19114437378651342,
           -0.37117570680030565,
           -0.434076417833265,
           -0.3495953826561967,
           -0.15051108239111077,
           0.07980593576993696,
           0.24300880867803662,
           0.2688222513075441,
           0.14609889758077332,
           -0.0722388011028484,
           -0.2926242127644853,
           -0.42197287899622543,
           -0.407889497747319,
           -0.26001264723920775,
           -0.043452159632214875,
           0.15186131748507978,
           0.25130504004127213,
           0.22679610352037188,
           0.10555493165712146,
           -0.046310064114579955,
           -0.15646143337355978,
           -0.17933114212655984,
           -0.11431852907537784,
           -0.0018304965737062353,
           0.0993958462307399,
           0.14169005140042149,
           0.11019018601661706,
           0.02715696020194833,
           -0.06192149898024116,
           -0.11240472280373874,
           -0.10233849877903384,
           -0.0415526319790494,
           0.03556817328582706,
           0.08897253432540012
          ],
          [
           0.0944336254514641,
           0.04991167337855531,
           -0.0257326164534714,
           -0.09343755568640384,
           -0.11532049911370224,
           -0.07534343601233413,
           0.010158372169524544,
           0.09851286286044308,
           0.14141961054935853,
           0.11051245322547638,
           0.014611898117628743,
           -0.1011986367120154,
           -0.17584069010379264,
           -0.16303912773542587,
           -0.05761803324395176,
           0.09674378883254962,
           0.22411724822563847,
           0.25130504004127213,
           0.14549969299473817,
           -0.06374895250625122,
           -0.29046275344788247,
           -0.42574709936268906,
           -0.3853906832849483,
           -0.15051108239111077,
           0.21783961811686398,
           0.5982441516081277,
           0.8556429685382863,
           0.8957396184216221,
           0.7036898157513979,
           0.35022902170777614,
           -0.03744017720227128,
           -0.32729906443176787,
           -0.43436863670247905,
           -0.35084804028714445,
           -0.1427221428215067,
           0.08393854575868848,
           0.23071227369415245,
           0.24707500803079696,
           0.14626024334832619,
           -0.00823327044894154,
           -0.13698176393514344,
           -0.18256648912965917,
           -0.13354819579908725,
           -0.024744851147022306,
           0.08416554906036815,
           0.1397291728702939,
           0.11990311351705359,
           0.0418135386612722,
           -0.05018568327762217,
           -0.10874502150584896,
           -0.10722877037175435,
           -0.05129674970157959,
           0.026448521520916726,
           0.08485759774636419
          ],
          [
           0.09263637603078959,
           0.044252895575082045,
           -0.032634458338672886,
           -0.0978078166082552,
           -0.11416345725292104,
           -0.0682778666994848,
           0.020191172864757273,
           0.10626072659322694,
           0.141819095207108,
           0.10160219708604251,
           -0.0006409754282528475,
           -0.11538106041708977,
           -0.1801446545297837,
           -0.15185982928725494,
           -0.032657564269347995,
           0.12512633286074154,
           0.23974108638511749,
           0.23896010343988033,
           0.09960082298540655,
           -0.132008995765264,
           -0.35084804028714445,
           -0.4335860886421158,
           -0.2926242127644853,
           0.07980593576993696,
           0.5982441516081277,
           1.1094945766040856,
           1.4482816142111579,
           1.500678835049543,
           1.2488284837498442,
           0.7780040258931075,
           0.24300880867803662,
           -0.19181693290541052,
           -0.4137720534188708,
           -0.3991265770886398,
           -0.2125937105436689,
           0.02838670735216783,
           0.2070878465419809,
           0.25477004091850136,
           0.17230988766358785,
           0.019407660252202565,
           -0.12058300781296416,
           -0.18203822454198118,
           -0.14535824620764792,
           -0.04061805672377692,
           0.07255582683319996,
           0.13701916559946886,
           0.12566700314428403,
           0.05172037316795184,
           -0.04165211977536649,
           -0.10549589328006628,
           -0.10999127699528204,
           -0.05777919195724801,
           0.01999356337832164,
           0.08161243943995165
          ],
          [
           0.09151915705971174,
           0.041107990460406696,
           -0.03632466740164732,
           -0.09999270674411341,
           -0.11329151708883223,
           -0.0642716944557742,
           0.02560889291691396,
           0.11019018601661706,
           0.14159377784668595,
           0.09636827159298987,
           -0.009007957353604124,
           -0.12267049384179304,
           -0.18160802037610754,
           -0.14478624788034108,
           -0.01855449981019833,
           0.14000357308347133,
           0.24626113579560338,
           0.22917661128094333,
           0.07173638515428266,
           -0.1696119802323752,
           -0.3787322233669178,
           -0.42421701152445723,
           -0.21712746254366178,
           0.24300880867803662,
           0.8556429685382863,
           1.4482816142111579,
           1.8374507397311368,
           1.8974488797623419,
           1.608613254431116,
           1.0649315658049785,
           0.43780226922078175,
           -0.08887373699192957,
           -0.3853906832849483,
           -0.417885750201407,
           -0.24962054293732017,
           -0.004215913110515241,
           0.19103523332295086,
           0.25653555744366946,
           0.18545724476618586,
           0.03466854669458865,
           -0.1107536917561867,
           -0.18078273088932142,
           -0.1511875643863488,
           -0.04916880920228074,
           0.06593120909757157,
           0.13509259526211642,
           0.1284480140098375,
           0.0569867282767652,
           -0.036903778452066216,
           -0.10349696929612592,
           -0.11127276690328836,
           -0.061194470858196036,
           0.01645508537365307,
           0.07972317169664972
          ],
          [
           0.0913510374226154,
           0.040653371580937785,
           -0.03684995091504106,
           -0.100294865855492,
           -0.11315266588975689,
           -0.06368824394321272,
           0.026382956072391866,
           0.11073682733507366,
           0.14153601842369937,
           0.09559620363699033,
           -0.010210349564048503,
           -0.12368964794720452,
           -0.18176644422676885,
           -0.1437158894806465,
           -0.016505930263581485,
           0.14209785531573388,
           0.24707500803079696,
           0.22759450814784551,
           0.06758414818694233,
           -0.17499760171649797,
           -0.382375848005458,
           -0.42197287899622543,
           -0.20468978410715197,
           0.2688222513075441,
           0.8957396184216221,
           1.500678835049543,
           1.8974488797623419,
           1.9585929762944412,
           1.6641794167481594,
           1.1094945766040856,
           0.4684129583840573,
           -0.0722388011028484,
           -0.3801986514917913,
           -0.4200602785751461,
           -0.254829433326894,
           -0.009011537058698997,
           0.18854967763954522,
           0.2566430509401283,
           0.18727640924644018,
           0.03686485131708162,
           -0.10929387900894774,
           -0.18054660691367944,
           -0.15198770280837584,
           -0.050388558043230176,
           0.06496444719258307,
           0.13479053491117005,
           0.1288260976817965,
           0.05773432038489801,
           -0.03621721434011259,
           -0.10319723204920035,
           -0.11144378456228145,
           -0.06167766190906147,
           0.015946313850788676,
           0.07944526735961742
          ],
          [
           0.09217035385098872,
           0.04291318891881724,
           -0.034218668982967715,
           -0.0987590270841395,
           -0.11381118218056065,
           -0.06657778750123684,
           0.02251261661707456,
           0.10796654245504357,
           0.1417607525231365,
           0.0993958462307399,
           -0.004215544867432353,
           -0.11853755153953284,
           -0.1808471258120618,
           -0.14891825321205285,
           -0.026665677985416577,
           0.13154597877649798,
           0.242708395806646,
           0.23504220166614895,
           0.08791985781076668,
           -0.14809048863531396,
           -0.3632795822101567,
           -0.4308806796227811,
           -0.2626748843273063,
           0.14609889758077332,
           0.7036898157513979,
           1.2488284837498442,
           1.608613254431116,
           1.6641794167481594,
           1.3969119972732167,
           0.8957396184216221,
           0.32242214992953067,
           -0.15051108239111077,
           -0.40325873487122593,
           -0.407889497747319,
           -0.22856545626592412,
           0.014627580006334946,
           0.20049625055173417,
           0.2557406839380664,
           0.17802983029511174,
           0.025921773001301992,
           -0.1164544699167505,
           -0.18158488243001691,
           -0.14790462620885408,
           -0.044284621144773315,
           0.06974763836772843,
           0.13623371152302444,
           0.12688740043053856,
           0.053984192453900466,
           -0.039629656015626305,
           -0.10466050783780126,
           -0.11055846795247289,
           -0.05924979722673779,
           0.01848209715101521,
           0.08081480379672902
          ],
          [
           0.0937851483325176,
           0.0477640424511109,
           -0.028393247279687634,
           -0.09516525470659133,
           -0.11494633135531154,
           -0.07268483171027637,
           0.014009979174710536,
           0.10155901480103412,
           0.1416975584086681,
           0.1072118622827233,
           0.00879524965035359,
           -0.10674426808414875,
           -0.17773339606034183,
           -0.15904136091487175,
           -0.04822085787410071,
           0.10774865812501504,
           0.23063350923189954,
           0.24743234013685533,
           0.12877087581897034,
           -0.08964697741323371,
           -0.31475910259630246,
           -0.43220845214435083,
           -0.35635521764627226,
           -0.0722388011028484,
           0.35022902170777614,
           0.7780040258931075,
           1.0649315658049785,
           1.1094945766040856,
           0.8957396184216221,
           0.49975144871271493,
           0.05887491198907235,
           -0.28302803533990717,
           -0.4308806796227811,
           -0.37117570680030565,
           -0.1696119802323752,
           0.06339013493636744,
           0.2225680860000738,
           0.2506818889186662,
           0.15649972810645998,
           0.0022716100207446164,
           -0.13096468174943518,
           -0.1826358700412797,
           -0.1382335440607129,
           -0.030841885736018544,
           0.07981010339968442,
           0.13881980260142648,
           0.12220938621436386,
           0.04564028693582465,
           -0.04694921110588836,
           -0.10756683105470208,
           -0.10834910847255647,
           -0.05381005517465,
           0.023984859060907256,
           0.08365032581127232
          ],
          [
           0.09577158154964004,
           0.05491202556718957,
           -0.01932788543000235,
           -0.08906325090046266,
           -0.11586015492109232,
           -0.08141329848199268,
           0.0009738306127996926,
           0.09089083321114294,
           0.14013315565025658,
           0.11777604011586752,
           0.028270310898122826,
           -0.08749612292214297,
           -0.17014801594696913,
           -0.17109514979541934,
           -0.07903277128303789,
           0.07010183827093616,
           0.2061784643801796,
           0.2563400102730029,
           0.18080401871815463,
           -0.004215913110515241,
           -0.22856545626592412,
           -0.39598244357893553,
           -0.42622489689420734,
           -0.2926242127644853,
           -0.03744017720227128,
           0.24300880867803662,
           0.43780226922078175,
           0.4684129583840573,
           0.32242214992953067,
           0.05887491198907235,
           -0.21712746254366178,
           -0.39921534828629784,
           -0.42399466300627076,
           -0.29541051237375787,
           -0.0792240541655952,
           0.12877087581897034,
           0.2455799958764798,
           0.23539823538075702,
           0.12081441070397907,
           -0.032657564269347995,
           -0.1499137997580331,
           -0.1810563048459778,
           -0.12164562286999292,
           -0.010210349564048503,
           0.0940340148188747,
           0.14124053473287576,
           0.11393649197451321,
           0.032570936269808205,
           -0.05770538770867722,
           -0.11120707845564833,
           -0.10425411975119218,
           -0.04517479711682324,
           0.032255360808684116,
           0.08754417359440915
          ],
          [
           0.09747563471694948,
           0.06384768057696963,
           -0.007049208111082399,
           -0.07985173966916323,
           -0.11550537190904059,
           -0.09176411819038024,
           -0.016257991397592056,
           0.07522176370794928,
           0.13532818775625344,
           0.12904306358773007,
           0.05298490441364873,
           -0.06011637286365964,
           -0.15510339062739803,
           -0.18054660691367944,
           -0.11505016730310495,
           0.019407660252202565,
           0.16450028494360933,
           0.2506818889186662,
           0.22917661128094333,
           0.0957513146109,
           -0.10542055787501849,
           -0.3003162506586467,
           -0.417885750201407,
           -0.42197287899622543,
           -0.32729906443176787,
           -0.19181693290541052,
           -0.08887373699192957,
           -0.0722388011028484,
           -0.15051108239111077,
           -0.28302803533990717,
           -0.39921534828629784,
           -0.43220845214435083,
           -0.35084804028714445,
           -0.17499760171649797,
           0.032898814044057145,
           0.19586192453391038,
           0.2567417315441088,
           0.20290271423033404,
           0.07010183827093616,
           -0.07558080422426758,
           -0.16865061331126227,
           -0.17319251476518926,
           -0.09668883252747353,
           0.016919129954055045,
           0.11051245322547638,
           0.14154925463565804,
           0.10095621948632197,
           0.01478156540039093,
           -0.07105406092525876,
           -0.11448367723597076,
           -0.09748586961705513,
           -0.033162949084826095,
           0.04291318891881724,
           0.09184901403994886
          ],
          [
           0.09802917929173674,
           0.0737915341810178,
           0.008227019898694314,
           -0.06690907749207924,
           -0.1125552047731455,
           -0.10227682924862294,
           -0.036903778452066216,
           0.053984192453900466,
           0.12525083753434577,
           0.13819455031459152,
           0.08069235790121831,
           -0.024744851147022306,
           -0.12967979361550958,
           -0.18176644422676885,
           -0.1499137997580331,
           -0.040517266401149735,
           0.10335731863015635,
           0.21992483146863692,
           0.25562857790064414,
           0.18854967763954522,
           0.037372873633869375,
           -0.14809048863531396,
           -0.309992807249447,
           -0.407889497747319,
           -0.43436863670247905,
           -0.4137720534188708,
           -0.3853906832849483,
           -0.3801986514917913,
           -0.40325873487122593,
           -0.4308806796227811,
           -0.42399466300627076,
           -0.35084804028714445,
           -0.20724458052139974,
           -0.02359098016854476,
           0.14549969299473817,
           0.24458792842044305,
           0.242708395806646,
           0.14832776112580212,
           0.0065202421682302655,
           -0.12058300781296416,
           -0.18100457917857166,
           -0.15510339062739803,
           -0.0625372076828833,
           0.048843602386602625,
           0.12644417385606296,
           0.1373368253178257,
           0.08218858749967678,
           -0.0073411016910038245,
           -0.08566874229846541,
           -0.11594360149554611,
           -0.08714981132933439,
           -0.017724518826640185,
           0.05531860300421393,
           0.09567186141491728
          ],
          [
           0.0963956279450986,
           0.08365032581127232,
           0.025957776046456108,
           -0.04977765643346263,
           -0.10554182731338523,
           -0.11102163823080137,
           -0.059528143257756794,
           0.02715696020194833,
           0.10796654245504357,
           0.14182052949746649,
           0.10788472442996018,
           0.016919129954055045,
           -0.09211958419387666,
           -0.16904790121688004,
           -0.1752665961050691,
           -0.10179031338845618,
           0.025921773001301992,
           0.15851669454452746,
           0.24364050109720906,
           0.24743234013685533,
           0.16693195814109418,
           0.02838670735216783,
           -0.12666669235949252,
           -0.26001264723920775,
           -0.35084804028714445,
           -0.3991265770886398,
           -0.417885750201407,
           -0.4200602785751461,
           -0.407889497747319,
           -0.37117570680030565,
           -0.29541051237375787,
           -0.17499760171649797,
           -0.02359098016854476,
           0.12528500092613942,
           0.22917661128094333,
           0.25477004091850136,
           0.1943926655354523,
           0.07232710218505171,
           -0.0631265026963309,
           -0.15904136091487175,
           -0.1801446545297837,
           -0.12368964794720452,
           -0.019881413514163768,
           0.08244017738553583,
           0.13819455031459152,
           0.12607850377279714,
           0.0569867282767652,
           -0.03275482103060757,
           -0.09966771198612055,
           -0.11387812357978247,
           -0.07242519790685582,
           0.000897882385944272,
           0.06849536852786806,
           0.09789330346518155
          ],
          [
           0.09146139827941907,
           0.09201074912565553,
           0.04513914234015876,
           -0.028393247279687634,
           -0.09308517130345338,
           -0.11569649992878561,
           -0.08189887587784364,
           -0.004331277232129268,
           0.08218858749967678,
           0.1363763500460628,
           0.12985565243905386,
           0.06104787183611214,
           -0.04306263900144976,
           -0.1382335440607129,
           -0.1821644169794075,
           -0.1528102839666787,
           -0.05761803324395176,
           0.07010183827093616,
           0.18545724476618586,
           0.25002327766855664,
           0.2455799958764798,
           0.17812580971586786,
           0.07173638515428266,
           -0.043452159632214875,
           -0.1427221428215067,
           -0.2125937105436689,
           -0.24962054293732017,
           -0.254829433326894,
           -0.22856545626592412,
           -0.1696119802323752,
           -0.0792240541655952,
           0.032898814044057145,
           0.14549969299473817,
           0.22917661128094333,
           0.25639126767027576,
           0.21402402107025095,
           0.11212338767979044,
           -0.016505930263581485,
           -0.1271795169340972,
           -0.18078273088932142,
           -0.16021647158282734,
           -0.07810727158537505,
           0.028270310898122826,
           0.11303749901914252,
           0.14165430128035572,
           0.10568502973808865,
           0.02560889291691396,
           -0.059528143257756794,
           -0.1106399934725709,
           -0.10652254474259672,
           -0.05280759716486464,
           0.021996557754340177,
           0.08108269682411075,
           0.09723251194195273
          ],
          [
           0.08218547016546035,
           0.09720107998909114,
           0.06421583677586362,
           -0.0033309781163817385,
           -0.07421551271398784,
           -0.11387812357978247,
           -0.10100032187268156,
           -0.038270832354069854,
           0.047927082138306785,
           0.11895031131114453,
           0.14124053473287576,
           0.10160219708604251,
           0.013454008098850966,
           -0.08865678616774172,
           -0.163591222139663,
           -0.18054660691367944,
           -0.13096468174943518,
           -0.03066927919323432,
           0.0878871354792479,
           0.1890798565922851,
           0.24707500803079696,
           0.25311832399967577,
           0.2152076253393881,
           0.15186131748507978,
           0.08393854575868848,
           0.02838670735216783,
           -0.004215913110515241,
           -0.009011537058698997,
           0.014627580006334946,
           0.06339013493636744,
           0.12877087581897034,
           0.19586192453391038,
           0.24458792842044305,
           0.25477004091850136,
           0.21402402107025095,
           0.12512633286074154,
           0.008653858363151095,
           -0.10179031338845618,
           -0.17109514979541934,
           -0.17663261032673944,
           -0.11853755153953284,
           -0.021095823102976155,
           0.0762261574055931,
           0.13479053491117005,
           0.13297486274417653,
           0.07522176370794928,
           -0.010333191525815334,
           -0.08474553874543932,
           -0.11583438631057284,
           -0.09237366190300736,
           -0.028393247279687634,
           0.044252895575082045,
           0.0913510374226154,
           0.09237678309278227
          ],
          [
           0.06780868630120103,
           0.09744795333537942,
           0.08108269682411075,
           0.023984859060907256,
           -0.04876053907416855,
           -0.10344907333918486,
           -0.11329151708883223,
           -0.07105406092525876,
           0.007086285574353929,
           0.08825950348380547,
           0.13710500795607788,
           0.13102411582348789,
           0.06974763836772843,
           -0.024744851147022306,
           -0.11749065565570795,
           -0.17456713788189782,
           -0.17572115154133375,
           -0.12058300781296416,
           -0.026665677985416577,
           0.07900122348247962,
           0.17037647050011584,
           0.23063350923189954,
           0.2554522819126627,
           0.25130504004127213,
           0.23071227369415245,
           0.2070878465419809,
           0.19103523332295086,
           0.18854967763954522,
           0.20049625055173417,
           0.2225680860000738,
           0.2455799958764798,
           0.2567417315441088,
           0.242708395806646,
           0.1943926655354523,
           0.11212338767979044,
           0.008653858363151095,
           -0.09234546620178369,
           -0.16303912773542587,
           -0.18160802037610754,
           -0.14185512230149663,
           -0.05769048962428924,
           0.040354856727262,
           0.11604804811520174,
           0.1416975584086681,
           0.1096398066326527,
           0.0356589174235028,
           -0.047601180630548544,
           -0.10466050783780126,
           -0.1125552047731455,
           -0.07061007724889509,
           -0.00015694927842459407,
           0.06567088855510608,
           0.0973172742553893,
           0.08218547016546035
          ],
          [
           0.04810649822800793,
           0.09114209446724074,
           0.0932278582823206,
           0.05118242685144097,
           -0.017724518826640185,
           -0.08317175538274917,
           -0.11526126834649275,
           -0.09792350890563162,
           -0.03621721434011259,
           0.04564028693582465,
           0.11445612623663119,
           0.14182052949746649,
           0.11545896314428632,
           0.043569358828744825,
           -0.04916880920228074,
           -0.1316269478872783,
           -0.17773339606034183,
           -0.1747972342928682,
           -0.1258888846262905,
           -0.046310064114579955,
           0.043473546354522816,
           0.12512633286074154,
           0.18727640924644018,
           0.22679610352037188,
           0.24707500803079696,
           0.25477004091850136,
           0.25653555744366946,
           0.2566430509401283,
           0.2557406839380664,
           0.2506818889186662,
           0.23539823538075702,
           0.20290271423033404,
           0.14832776112580212,
           0.07232710218505171,
           -0.016505930263581485,
           -0.10179031338845618,
           -0.16303912773542587,
           -0.18236471957976835,
           -0.15198770280837584,
           -0.07929019757294747,
           0.013454008098850966,
           0.09559620363699033,
           0.13901492878918745,
           0.12919930000974209,
           0.07166040945258814,
           -0.009586916953213162,
           -0.08141329848199268,
           -0.11518142447701693,
           -0.0987590270841395,
           -0.0415526319790494,
           0.029854746643980645,
           0.08365032581127232,
           0.09698515945062593,
           0.06596064075292694
          ],
          [
           0.023645221568363895,
           0.07720082203239513,
           0.09805214983976746,
           0.07504008493420455,
           0.01645508537365307,
           -0.05330931316864547,
           -0.10425411975119218,
           -0.11368662328968558,
           -0.07586614420408501,
           -0.004331277232129268,
           0.07380308035304459,
           0.1288260976817965,
           0.13989120849852552,
           0.1023252846896187,
           0.028270310898122826,
           -0.05890402451081101,
           -0.13354819579908725,
           -0.17624240938958516,
           -0.1788278960809016,
           -0.14478624788034108,
           -0.0857896329957062,
           -0.016505930263581485,
           0.05010748884225075,
           0.10555493165712146,
           0.14626024334832619,
           0.17230988766358785,
           0.18545724476618586,
           0.18727640924644018,
           0.17802983029511174,
           0.15649972810645998,
           0.12081441070397907,
           0.07010183827093616,
           0.0065202421682302655,
           -0.0631265026963309,
           -0.1271795169340972,
           -0.17109514979541934,
           -0.18160802037610754,
           -0.15198770280837584,
           -0.08633239590937543,
           -0.0006409754282528475,
           0.08069235790121831,
           0.13248789560619015,
           0.13799875467416114,
           0.09601951604214852,
           0.02251261661707456,
           -0.05461588256536717,
           -0.1060350275635281,
           -0.11270162437377892,
           -0.07377030942693767,
           -0.007049208111082399,
           0.05851327729467272,
           0.09525157258046667,
           0.08871280683982351,
           0.04375117021804784
          ],
          [
           -0.004022571499422312,
           0.055478069235101436,
           0.093362965105012,
           0.09184901403994886,
           0.04991167337855531,
           -0.01612101143253597,
           -0.07942853394297261,
           -0.11387812357978247,
           -0.10466050783780126,
           -0.05399038970760124,
           0.020191172864757273,
           0.09154187059921455,
           0.13532818775625344,
           0.13701916559946886,
           0.09636827159298987,
           0.026026147564044762,
           -0.054043516875550875,
           -0.12368964794720452,
           -0.16848219583369567,
           -0.1826358700412797,
           -0.16865061331126227,
           -0.13461888616197776,
           -0.0907256642328181,
           -0.046310064114579955,
           -0.00823327044894154,
           0.019407660252202565,
           0.03466854669458865,
           0.03686485131708162,
           0.025921773001301992,
           0.0022716100207446164,
           -0.032657564269347995,
           -0.07558080422426758,
           -0.12058300781296416,
           -0.15904136091487175,
           -0.18078273088932142,
           -0.17663261032673944,
           -0.14185512230149663,
           -0.07929019757294747,
           -0.0006409754282528475,
           0.07531659368730659,
           0.12777380562398274,
           0.1408844894381132,
           0.11019018601661706,
           0.04564028693582465,
           -0.030654457615745367,
           -0.09176411819038024,
           -0.11591664921562612,
           -0.09516525470659133,
           -0.03894579526542443,
           0.029371322065773888,
           0.08187428196430682,
           0.09767205330200214,
           0.07167038116434792,
           0.016627366587580485
          ],
          [
           -0.03230477075805424,
           0.027131479712259054,
           0.07798461463302095,
           0.09805909273146404,
           0.0777361719409314,
           0.023984859060907256,
           -0.042590965877850995,
           -0.0961740316614175,
           -0.11592855991826022,
           -0.0937826290919642,
           -0.036903778452066216,
           0.0356589174235028,
           0.10035017564456081,
           0.1373368253178257,
           0.13650222610828716,
           0.0993958462307399,
           0.037104384846577534,
           -0.0345063152690242,
           -0.10007704610444179,
           -0.1487375524385824,
           -0.17584069010379264,
           -0.18251498442862385,
           -0.1738139924448547,
           -0.15646143337355978,
           -0.13698176393514344,
           -0.12058300781296416,
           -0.1107536917561867,
           -0.10929387900894774,
           -0.1164544699167505,
           -0.13096468174943518,
           -0.1499137997580331,
           -0.16865061331126227,
           -0.18100457917857166,
           -0.1801446545297837,
           -0.16021647158282734,
           -0.11853755153953284,
           -0.05769048962428924,
           0.013454008098850966,
           0.08069235790121831,
           0.12777380562398274,
           0.14141961054935853,
           0.116494593021988,
           0.059225639080952505,
           -0.013305995989680304,
           -0.07792653893351205,
           -0.11315266588975689,
           -0.10722877037175435,
           -0.06311985818605961,
           0.001950958244425957,
           0.06273276938439144,
           0.09577158154964004,
           0.08889742097267919,
           0.04630326992305995,
           -0.013162041333957254
          ],
          [
           -0.05773859288327425,
           -0.005176192314548786,
           0.05236108741978671,
           0.09114209446724074,
           0.09479702265635812,
           0.06084016493816854,
           0.0014246460094314765,
           -0.06167766190906147,
           -0.10554182731338523,
           -0.11448367723597076,
           -0.08520875694531246,
           -0.02711743464970539,
           0.0418135386612722,
           0.10155901480103412,
           0.1363763500460628,
           0.13881980260142648,
           0.11051245322547638,
           0.060056532848391,
           -0.0006409754282528475,
           -0.06011637286365964,
           -0.11001880232017779,
           -0.14621488967339394,
           -0.16848219583369567,
           -0.17933114212655984,
           -0.18256648912965917,
           -0.18203822454198118,
           -0.18078273088932142,
           -0.18054660691367944,
           -0.18158488243001691,
           -0.1826358700412797,
           -0.1810563048459778,
           -0.17319251476518926,
           -0.15510339062739803,
           -0.12368964794720452,
           -0.07810727158537505,
           -0.021095823102976155,
           0.040354856727262,
           0.09559620363699033,
           0.13248789560619015,
           0.1408844894381132,
           0.116494593021988,
           0.06366644762597959,
           -0.004331277232129268,
           -0.0682778666994848,
           -0.10874502150584896,
           -0.11284492797003678,
           -0.07942853394297261,
           -0.020396538150183854,
           0.04291318891881724,
           0.08733173909600418,
           0.09670612026539407,
           0.06841568585835865,
           0.01467175934398162,
           -0.04224785668517623
          ],
          [
           -0.07643276101580226,
           -0.037370625709483574,
           0.01897150392574176,
           0.07050356160854643,
           0.0969183613137812,
           0.08754417359440915,
           0.04513914234015876,
           -0.015586540465728237,
           -0.07377030942693767,
           -0.10999127699528204,
           -0.11271464281540354,
           -0.08141329848199268,
           -0.02569037296395049,
           0.038740412097179454,
           0.09538860184148468,
           0.1316728268808787,
           0.14159377784668595,
           0.1259875650745608,
           0.09083808032935944,
           0.04463265266061536,
           -0.004215544867432353,
           -0.04916880920228074,
           -0.08633239590937543,
           -0.11431852907537784,
           -0.13354819579908725,
           -0.14535824620764792,
           -0.1511875643863488,
           -0.15198770280837584,
           -0.14790462620885408,
           -0.1382335440607129,
           -0.12164562286999292,
           -0.09668883252747353,
           -0.0625372076828833,
           -0.019881413514163768,
           0.028270310898122826,
           0.0762261574055931,
           0.11604804811520174,
           0.13901492878918745,
           0.13799875467416114,
           0.11019018601661706,
           0.059225639080952505,
           -0.004331277232129268,
           -0.06485238840698221,
           -0.10576724108688149,
           -0.11488172267414411,
           -0.08906325090046266,
           -0.03632466740164732,
           0.025957776046456108,
           0.07655738935817358,
           0.0979186203257368,
           0.08288284643056047,
           0.03781000303004542,
           -0.019483712596530867,
           -0.06649136479685278
          ],
          [
           -0.08477368114599979,
           -0.06444842155917006,
           -0.017639756309770396,
           0.038185302365766345,
           0.08218547016546035,
           0.09803711116369127,
           0.07972317169664972,
           0.03320771438653382,
           -0.026265238925836213,
           -0.07985173966916323,
           -0.11144378456228145,
           -0.11240472280373874,
           -0.08333658184516009,
           -0.03275482103060757,
           0.026382956072391866,
           0.080812940518254,
           0.1203730806019293,
           0.13983537623968262,
           0.13901492878918745,
           0.1215776487487792,
           0.0932439401444546,
           0.060056532848391,
           0.02714993644728305,
           -0.0018304965737062353,
           -0.024744851147022306,
           -0.04061805672377692,
           -0.04916880920228074,
           -0.050388558043230176,
           -0.044284621144773315,
           -0.030841885736018544,
           -0.010210349564048503,
           0.016919129954055045,
           0.048843602386602625,
           0.08244017738553583,
           0.11303749901914252,
           0.13479053491117005,
           0.1416975584086681,
           0.12919930000974209,
           0.09601951604214852,
           0.04564028693582465,
           -0.013305995989680304,
           -0.0682778666994848,
           -0.10576724108688149,
           -0.11532727675698635,
           -0.09343755568640384,
           -0.04568939089515294,
           0.013903494103593827,
           0.06674355254521364,
           0.09567186141491728,
           0.09114209446724074,
           0.05513506908065889,
           0.001004882413013754,
           -0.0510823862721347,
           -0.08165095643079683
          ],
          [
           -0.08030063932478075,
           -0.08135833492260225,
           -0.05137204098274341,
           -0.0009337263451392674,
           0.0520107047956078,
           0.08889742097267919,
           0.09707637805665423,
           0.0737915341810178,
           0.026448521520916726,
           -0.03051661817306503,
           -0.08069276552316074,
           -0.1107415575688542,
           -0.11381118218056065,
           -0.09051264783092683,
           -0.047601180630548544,
           0.004788701422209339,
           0.05623788871182025,
           0.09851286286044308,
           0.12688740043053856,
           0.1402732191419091,
           0.14047350854001267,
           0.13102411582348789,
           0.11604804811520174,
           0.0993958462307399,
           0.08416554906036815,
           0.07255582683319996,
           0.06593120909757157,
           0.06496444719258307,
           0.06974763836772843,
           0.07981010339968442,
           0.0940340148188747,
           0.11051245322547638,
           0.12644417385606296,
           0.13819455031459152,
           0.14165430128035572,
           0.13297486274417653,
           0.1096398066326527,
           0.07166040945258814,
           0.02251261661707456,
           -0.030654457615745367,
           -0.07792653893351205,
           -0.10874502150584896,
           -0.11488172267414411,
           -0.09343755568640384,
           -0.04876053907416855,
           0.007707081140409774,
           0.06007123122435692,
           0.09263637603078959,
           0.09517229620994277,
           0.06688968104127718,
           0.017409127991480675,
           -0.036037472690933776,
           -0.07450331768813524,
           -0.08429816213227917
          ],
          [
           -0.0625638557513206,
           -0.08416692185825189,
           -0.07565218549411296,
           -0.039671161981710924,
           0.011541099463318908,
           0.06084434355515007,
           0.09222867847278952,
           0.09596460135634317,
           0.07120318738357315,
           0.025466026475194633,
           -0.028393247279687634,
           -0.07641713591002264,
           -0.1074585371964665,
           -0.11565330276600444,
           -0.10100032187268156,
           -0.0682778666994848,
           -0.024974302469920013,
           0.020964858702894273,
           0.0629299462841541,
           0.09664743042586664,
           0.1203730806019293,
           0.13448542549215534,
           0.14077417261598202,
           0.14169005140042149,
           0.1397291728702939,
           0.13701916559946886,
           0.13509259526211642,
           0.13479053491117005,
           0.13623371152302444,
           0.13881980260142648,
           0.14124053473287576,
           0.14154925463565804,
           0.1373368253178257,
           0.12607850377279714,
           0.10568502973808865,
           0.07522176370794928,
           0.0356589174235028,
           -0.009586916953213162,
           -0.05461588256536717,
           -0.09176411819038024,
           -0.11315266588975689,
           -0.11284492797003678,
           -0.08906325090046266,
           -0.04568939089515294,
           0.007707081140409774,
           0.057724368691431834,
           0.09065731316823743,
           0.09677883807155094,
           0.07394461270388,
           0.02905898124217343,
           -0.023490381593872612,
           -0.06626928795266238,
           -0.08477368114599979,
           -0.07281158756207441
          ],
          [
           -0.03371368540754761,
           -0.07125963263357546,
           -0.08495074460162425,
           -0.06987449839556531,
           -0.030924222029581158,
           0.01936181621259661,
           0.06533580152228118,
           0.093362965105012,
           0.09577158154964004,
           0.0725124622188363,
           0.030337084159494338,
           -0.019862246660064285,
           -0.06644009854577237,
           -0.09999270674411341,
           -0.11519195003114313,
           -0.11120707845564833,
           -0.09093315086996714,
           -0.059528143257756794,
           -0.022816193832590904,
           0.014009979174710536,
           0.0471656583393752,
           0.07451341934675718,
           0.09538860184148468,
           0.11019018601661706,
           0.11990311351705359,
           0.12566700314428403,
           0.1284480140098375,
           0.1288260976817965,
           0.12688740043053856,
           0.12220938621436386,
           0.11393649197451321,
           0.10095621948632197,
           0.08218858749967678,
           0.0569867282767652,
           0.02560889291691396,
           -0.010333191525815334,
           -0.047601180630548544,
           -0.08141329848199268,
           -0.1060350275635281,
           -0.11591664921562612,
           -0.10722877037175435,
           -0.07942853394297261,
           -0.03632466740164732,
           0.013903494103593827,
           0.06007123122435692,
           0.09065731316823743,
           0.09717365687662975,
           0.07720082203239513,
           0.03592635023783879,
           -0.014662376456431921,
           -0.059045158753990974,
           -0.08307461972807811,
           -0.0789197156746051,
           -0.048187572349934774
          ],
          [
           0.00143558137439708,
           -0.04422980159861082,
           -0.0763953998922263,
           -0.0843658081677389,
           -0.06559565514919971,
           -0.026001405859951046,
           0.02247910977877244,
           0.06596064075292694,
           0.09281030402091647,
           0.0966511419619441,
           0.07744441556315348,
           0.040653371580937785,
           -0.004922730661455259,
           -0.04977765643346263,
           -0.08597717858312592,
           -0.10856457404571711,
           -0.11594360149554611,
           -0.10940895347488573,
           -0.09217456730776878,
           -0.0682778666994848,
           -0.04165211977536649,
           -0.015522025689743025,
           0.00785343411045172,
           0.02715696020194833,
           0.0418135386612722,
           0.05172037316795184,
           0.0569867282767652,
           0.05773432038489801,
           0.053984192453900466,
           0.04564028693582465,
           0.032570936269808205,
           0.01478156540039093,
           -0.0073411016910038245,
           -0.03275482103060757,
           -0.059528143257756794,
           -0.08474553874543932,
           -0.10466050783780126,
           -0.11518142447701693,
           -0.11270162437377892,
           -0.09516525470659133,
           -0.06311985818605961,
           -0.020396538150183854,
           0.025957776046456108,
           0.06674355254521364,
           0.09263637603078959,
           0.09677883807155094,
           0.07720082203239513,
           0.038185302365766345,
           -0.01014008951837661,
           -0.054210613574645135,
           -0.08094889464407694,
           -0.08205020090150196,
           -0.05712320255283524,
           -0.014372243488363318
          ],
          [
           0.03604197501326519,
           -0.00809680454054534,
           -0.05100726463184431,
           -0.07904120665496475,
           -0.08366676740232826,
           -0.06374549602341241,
           -0.025287194701867834,
           0.020921717977151446,
           0.06279386743820309,
           0.09031321793877432,
           0.09783635854065989,
           0.08485759774636419,
           0.05531860300421393,
           0.015946313850788676,
           -0.0257326164534714,
           -0.06311985818605961,
           -0.09165325219793564,
           -0.1091935771365692,
           -0.11580379357365934,
           -0.11315266588975689,
           -0.10379316880053832,
           -0.09051264783092683,
           -0.07586614420408501,
           -0.06192149898024116,
           -0.05018568327762217,
           -0.04165211977536649,
           -0.036903778452066216,
           -0.03621721434011259,
           -0.039629656015626305,
           -0.04694921110588836,
           -0.05770538770867722,
           -0.07105406092525876,
           -0.08566874229846541,
           -0.09966771198612055,
           -0.1106399934725709,
           -0.11583438631057284,
           -0.1125552047731455,
           -0.0987590270841395,
           -0.07377030942693767,
           -0.03894579526542443,
           0.001950958244425957,
           0.04291318891881724,
           0.07655738935817358,
           0.09567186141491728,
           0.09517229620994277,
           0.07394461270388,
           0.03592635023783879,
           -0.01014008951837661,
           -0.05252019780102887,
           -0.07958869857860314,
           -0.083400715550213,
           -0.0625638557513206,
           -0.023275141064602944,
           0.02212429642509068
          ],
          [
           0.0625759550831283,
           0.02939294711166638,
           -0.01407378258821094,
           -0.05448491071138298,
           -0.07997125068097903,
           -0.08354484363419847,
           -0.06468030667853465,
           -0.028831318121094747,
           0.01467175934398162,
           0.055478069235101436,
           0.08489257309205754,
           0.09767205330200214,
           0.09263637603078959,
           0.07218796230389286,
           0.041107990460406696,
           0.00509866081377989,
           -0.03051661817306503,
           -0.06167766190906147,
           -0.08597717858312592,
           -0.10262009088568971,
           -0.1120973403357679,
           -0.11573535202045362,
           -0.11525272490010806,
           -0.11240472280373874,
           -0.10874502150584896,
           -0.10549589328006628,
           -0.10349696929612592,
           -0.10319723204920035,
           -0.10466050783780126,
           -0.10756683105470208,
           -0.11120707845564833,
           -0.11448367723597076,
           -0.11594360149554611,
           -0.11387812357978247,
           -0.10652254474259672,
           -0.09237366190300736,
           -0.07061007724889509,
           -0.0415526319790494,
           -0.007049208111082399,
           0.029371322065773888,
           0.06273276938439144,
           0.08733173909600418,
           0.0979186203257368,
           0.09114209446724074,
           0.06688968104127718,
           0.02905898124217343,
           -0.014662376456431921,
           -0.054210613574645135,
           -0.07958869857860314,
           -0.08375993196470519,
           -0.06510837161352548,
           -0.02853908981348146,
           0.015403932806595978,
           0.05341194452125883
          ],
          [
           0.07464033662197972,
           0.059392786441186396,
           0.025666396870910782,
           -0.016459324537710488,
           -0.05497096099983781,
           -0.0795155731187737,
           -0.08409928364180795,
           -0.06822319191703183,
           -0.03637200138534742,
           0.003727466233536553,
           0.04338408933584797,
           0.07505113828261388,
           0.09375826681275508,
           0.09765709951722429,
           0.08775451660503289,
           0.06709752724904226,
           0.039740214354108065,
           0.009783129792494133,
           -0.01932788543000235,
           -0.04517479711682324,
           -0.06644009854577237,
           -0.08276326387855062,
           -0.09448107143366503,
           -0.10233849877903384,
           -0.10722877037175435,
           -0.10999127699528204,
           -0.11127276690328836,
           -0.11144378456228145,
           -0.11055846795247289,
           -0.10834910847255647,
           -0.10425411975119218,
           -0.09748586961705513,
           -0.08714981132933439,
           -0.07242519790685582,
           -0.05280759716486464,
           -0.028393247279687634,
           -0.00015694927842459407,
           0.029854746643980645,
           0.05851327729467272,
           0.08187428196430682,
           0.09577158154964004,
           0.09670612026539407,
           0.08288284643056047,
           0.05513506908065889,
           0.017409127991480675,
           -0.023490381593872612,
           -0.059045158753990974,
           -0.08094889464407694,
           -0.083400715550213,
           -0.06510837161352548,
           -0.030275140878170743,
           0.011968152242341226,
           0.04978671622176201,
           0.07204461647398808
          ],
          [
           0.06882711321544657,
           0.07421185941828652,
           0.05802465369994649,
           0.025126386436683273,
           -0.015267200665244961,
           -0.05251348559497574,
           -0.07750777241019773,
           -0.08483496237677107,
           -0.07364291580549688,
           -0.047223897313638456,
           -0.011654477014887267,
           0.025971607799782748,
           0.05919281548607785,
           0.08334020632210716,
           0.09605392505278619,
           0.09720107998909114,
           0.08837297506796234,
           0.07218796230389286,
           0.051602991885690876,
           0.029371322065773888,
           0.007707081140409774,
           -0.011847056670384075,
           -0.028393247279687634,
           -0.0415526319790494,
           -0.05129674970157959,
           -0.05777919195724801,
           -0.061194470858196036,
           -0.06167766190906147,
           -0.05924979722673779,
           -0.05381005517465,
           -0.04517479711682324,
           -0.033162949084826095,
           -0.017724518826640185,
           0.000897882385944272,
           0.021996557754340177,
           0.044252895575082045,
           0.06567088855510608,
           0.08365032581127232,
           0.09525157258046667,
           0.09767205330200214,
           0.08889742097267919,
           0.06841568585835865,
           0.03781000303004542,
           0.001004882413013754,
           -0.036037472690933776,
           -0.06626928795266238,
           -0.08307461972807811,
           -0.08205020090150196,
           -0.0625638557513206,
           -0.02853908981348146,
           0.011968152242341226,
           0.04852414951360368,
           0.07108990705572928,
           0.0730715826185543
          ],
          [
           0.04604289168808653,
           0.06961519921698897,
           0.0741355917833892,
           0.05871539568667765,
           0.027807584790218224,
           -0.010488489547392146,
           -0.04688220005837039,
           -0.07331060566685879,
           -0.08467860266786147,
           -0.07958869857860314,
           -0.06006981356906526,
           -0.030577222184539572,
           0.003337992054599261,
           0.036304009675109813,
           0.06407323368053625,
           0.08401478551650957,
           0.09517229620994277,
           0.09799889404024424,
           0.09391912390655559,
           0.08485759774636419,
           0.07283507438966245,
           0.05968424318608694,
           0.046894784304553426,
           0.03556817328582706,
           0.026448521520916726,
           0.01999356337832164,
           0.01645508537365307,
           0.015946313850788676,
           0.01848209715101521,
           0.023984859060907256,
           0.032255360808684116,
           0.04291318891881724,
           0.05531860300421393,
           0.06849536852786806,
           0.08108269682411075,
           0.0913510374226154,
           0.0973172742553893,
           0.09698515945062593,
           0.08871280683982351,
           0.07167038116434792,
           0.04630326992305995,
           0.01467175934398162,
           -0.019483712596530867,
           -0.0510823862721347,
           -0.07450331768813524,
           -0.08477368114599979,
           -0.0789197156746051,
           -0.05712320255283524,
           -0.023275141064602944,
           0.015403932806595978,
           0.04978671622176201,
           0.07108990705572928,
           0.07340271036775807,
           0.05572336410156615
          ],
          [
           0.011777280577047597,
           0.046433956511249166,
           0.06922750027940155,
           0.07447927078866733,
           0.06134383057448895,
           0.033528943348648,
           -0.0021280053140911165,
           -0.037660285837500716,
           -0.06592883779345551,
           -0.08205020090150196,
           -0.08405004413857464,
           -0.07274959951935187,
           -0.0510823862721347,
           -0.02312913047959675,
           0.0068484121271995295,
           0.03516969108452159,
           0.05919281548607785,
           0.07746346016459599,
           0.08961897389930491,
           0.09614226316756926,
           0.09805909273146404,
           0.0966511419619441,
           0.0932278582823206,
           0.08897253432540012,
           0.08485759774636419,
           0.08161243943995165,
           0.07972317169664972,
           0.07944526735961742,
           0.08081480379672902,
           0.08365032581127232,
           0.08754417359440915,
           0.09184901403994886,
           0.09567186141491728,
           0.09789330346518155,
           0.09723251194195273,
           0.09237678309278227,
           0.08218547016546035,
           0.06596064075292694,
           0.04375117021804784,
           0.016627366587580485,
           -0.013162041333957254,
           -0.04224785668517623,
           -0.06649136479685278,
           -0.08165095643079683,
           -0.08429816213227917,
           -0.07281158756207441,
           -0.048187572349934774,
           -0.014372243488363318,
           0.02212429642509068,
           0.05341194452125883,
           0.07204461647398808,
           0.0730715826185543,
           0.05572336410156615,
           0.024123542475034548
          ]
         ]
        }
       ],
       "layout": {
        "legend": {
         "bgcolor": "#151516",
         "font": {
          "color": "#D9D9D9"
         }
        },
        "paper_bgcolor": "#151516",
        "plot_bgcolor": "#151516",
        "template": {
         "data": {
          "bar": [
           {
            "error_x": {
             "color": "#2a3f5f"
            },
            "error_y": {
             "color": "#2a3f5f"
            },
            "marker": {
             "line": {
              "color": "#E5ECF6",
              "width": 0.5
             }
            },
            "type": "bar"
           }
          ],
          "barpolar": [
           {
            "marker": {
             "line": {
              "color": "#E5ECF6",
              "width": 0.5
             }
            },
            "type": "barpolar"
           }
          ],
          "carpet": [
           {
            "aaxis": {
             "endlinecolor": "#2a3f5f",
             "gridcolor": "white",
             "linecolor": "white",
             "minorgridcolor": "white",
             "startlinecolor": "#2a3f5f"
            },
            "baxis": {
             "endlinecolor": "#2a3f5f",
             "gridcolor": "white",
             "linecolor": "white",
             "minorgridcolor": "white",
             "startlinecolor": "#2a3f5f"
            },
            "type": "carpet"
           }
          ],
          "choropleth": [
           {
            "colorbar": {
             "outlinewidth": 0,
             "ticks": ""
            },
            "type": "choropleth"
           }
          ],
          "contour": [
           {
            "colorbar": {
             "outlinewidth": 0,
             "ticks": ""
            },
            "colorscale": [
             [
              0,
              "#0d0887"
             ],
             [
              0.1111111111111111,
              "#46039f"
             ],
             [
              0.2222222222222222,
              "#7201a8"
             ],
             [
              0.3333333333333333,
              "#9c179e"
             ],
             [
              0.4444444444444444,
              "#bd3786"
             ],
             [
              0.5555555555555556,
              "#d8576b"
             ],
             [
              0.6666666666666666,
              "#ed7953"
             ],
             [
              0.7777777777777778,
              "#fb9f3a"
             ],
             [
              0.8888888888888888,
              "#fdca26"
             ],
             [
              1,
              "#f0f921"
             ]
            ],
            "type": "contour"
           }
          ],
          "contourcarpet": [
           {
            "colorbar": {
             "outlinewidth": 0,
             "ticks": ""
            },
            "type": "contourcarpet"
           }
          ],
          "heatmap": [
           {
            "colorbar": {
             "outlinewidth": 0,
             "ticks": ""
            },
            "colorscale": [
             [
              0,
              "#0d0887"
             ],
             [
              0.1111111111111111,
              "#46039f"
             ],
             [
              0.2222222222222222,
              "#7201a8"
             ],
             [
              0.3333333333333333,
              "#9c179e"
             ],
             [
              0.4444444444444444,
              "#bd3786"
             ],
             [
              0.5555555555555556,
              "#d8576b"
             ],
             [
              0.6666666666666666,
              "#ed7953"
             ],
             [
              0.7777777777777778,
              "#fb9f3a"
             ],
             [
              0.8888888888888888,
              "#fdca26"
             ],
             [
              1,
              "#f0f921"
             ]
            ],
            "type": "heatmap"
           }
          ],
          "heatmapgl": [
           {
            "colorbar": {
             "outlinewidth": 0,
             "ticks": ""
            },
            "colorscale": [
             [
              0,
              "#0d0887"
             ],
             [
              0.1111111111111111,
              "#46039f"
             ],
             [
              0.2222222222222222,
              "#7201a8"
             ],
             [
              0.3333333333333333,
              "#9c179e"
             ],
             [
              0.4444444444444444,
              "#bd3786"
             ],
             [
              0.5555555555555556,
              "#d8576b"
             ],
             [
              0.6666666666666666,
              "#ed7953"
             ],
             [
              0.7777777777777778,
              "#fb9f3a"
             ],
             [
              0.8888888888888888,
              "#fdca26"
             ],
             [
              1,
              "#f0f921"
             ]
            ],
            "type": "heatmapgl"
           }
          ],
          "histogram": [
           {
            "marker": {
             "colorbar": {
              "outlinewidth": 0,
              "ticks": ""
             }
            },
            "type": "histogram"
           }
          ],
          "histogram2d": [
           {
            "colorbar": {
             "outlinewidth": 0,
             "ticks": ""
            },
            "colorscale": [
             [
              0,
              "#0d0887"
             ],
             [
              0.1111111111111111,
              "#46039f"
             ],
             [
              0.2222222222222222,
              "#7201a8"
             ],
             [
              0.3333333333333333,
              "#9c179e"
             ],
             [
              0.4444444444444444,
              "#bd3786"
             ],
             [
              0.5555555555555556,
              "#d8576b"
             ],
             [
              0.6666666666666666,
              "#ed7953"
             ],
             [
              0.7777777777777778,
              "#fb9f3a"
             ],
             [
              0.8888888888888888,
              "#fdca26"
             ],
             [
              1,
              "#f0f921"
             ]
            ],
            "type": "histogram2d"
           }
          ],
          "histogram2dcontour": [
           {
            "colorbar": {
             "outlinewidth": 0,
             "ticks": ""
            },
            "colorscale": [
             [
              0,
              "#0d0887"
             ],
             [
              0.1111111111111111,
              "#46039f"
             ],
             [
              0.2222222222222222,
              "#7201a8"
             ],
             [
              0.3333333333333333,
              "#9c179e"
             ],
             [
              0.4444444444444444,
              "#bd3786"
             ],
             [
              0.5555555555555556,
              "#d8576b"
             ],
             [
              0.6666666666666666,
              "#ed7953"
             ],
             [
              0.7777777777777778,
              "#fb9f3a"
             ],
             [
              0.8888888888888888,
              "#fdca26"
             ],
             [
              1,
              "#f0f921"
             ]
            ],
            "type": "histogram2dcontour"
           }
          ],
          "mesh3d": [
           {
            "colorbar": {
             "outlinewidth": 0,
             "ticks": ""
            },
            "type": "mesh3d"
           }
          ],
          "parcoords": [
           {
            "line": {
             "colorbar": {
              "outlinewidth": 0,
              "ticks": ""
             }
            },
            "type": "parcoords"
           }
          ],
          "pie": [
           {
            "automargin": true,
            "type": "pie"
           }
          ],
          "scatter": [
           {
            "marker": {
             "colorbar": {
              "outlinewidth": 0,
              "ticks": ""
             }
            },
            "type": "scatter"
           }
          ],
          "scatter3d": [
           {
            "line": {
             "colorbar": {
              "outlinewidth": 0,
              "ticks": ""
             }
            },
            "marker": {
             "colorbar": {
              "outlinewidth": 0,
              "ticks": ""
             }
            },
            "type": "scatter3d"
           }
          ],
          "scattercarpet": [
           {
            "marker": {
             "colorbar": {
              "outlinewidth": 0,
              "ticks": ""
             }
            },
            "type": "scattercarpet"
           }
          ],
          "scattergeo": [
           {
            "marker": {
             "colorbar": {
              "outlinewidth": 0,
              "ticks": ""
             }
            },
            "type": "scattergeo"
           }
          ],
          "scattergl": [
           {
            "marker": {
             "colorbar": {
              "outlinewidth": 0,
              "ticks": ""
             }
            },
            "type": "scattergl"
           }
          ],
          "scattermapbox": [
           {
            "marker": {
             "colorbar": {
              "outlinewidth": 0,
              "ticks": ""
             }
            },
            "type": "scattermapbox"
           }
          ],
          "scatterpolar": [
           {
            "marker": {
             "colorbar": {
              "outlinewidth": 0,
              "ticks": ""
             }
            },
            "type": "scatterpolar"
           }
          ],
          "scatterpolargl": [
           {
            "marker": {
             "colorbar": {
              "outlinewidth": 0,
              "ticks": ""
             }
            },
            "type": "scatterpolargl"
           }
          ],
          "scatterternary": [
           {
            "marker": {
             "colorbar": {
              "outlinewidth": 0,
              "ticks": ""
             }
            },
            "type": "scatterternary"
           }
          ],
          "surface": [
           {
            "colorbar": {
             "outlinewidth": 0,
             "ticks": ""
            },
            "colorscale": [
             [
              0,
              "#0d0887"
             ],
             [
              0.1111111111111111,
              "#46039f"
             ],
             [
              0.2222222222222222,
              "#7201a8"
             ],
             [
              0.3333333333333333,
              "#9c179e"
             ],
             [
              0.4444444444444444,
              "#bd3786"
             ],
             [
              0.5555555555555556,
              "#d8576b"
             ],
             [
              0.6666666666666666,
              "#ed7953"
             ],
             [
              0.7777777777777778,
              "#fb9f3a"
             ],
             [
              0.8888888888888888,
              "#fdca26"
             ],
             [
              1,
              "#f0f921"
             ]
            ],
            "type": "surface"
           }
          ],
          "table": [
           {
            "cells": {
             "fill": {
              "color": "#EBF0F8"
             },
             "line": {
              "color": "white"
             }
            },
            "header": {
             "fill": {
              "color": "#C8D4E3"
             },
             "line": {
              "color": "white"
             }
            },
            "type": "table"
           }
          ]
         },
         "layout": {
          "annotationdefaults": {
           "arrowcolor": "#2a3f5f",
           "arrowhead": 0,
           "arrowwidth": 1
          },
          "coloraxis": {
           "colorbar": {
            "outlinewidth": 0,
            "ticks": ""
           }
          },
          "colorscale": {
           "diverging": [
            [
             0,
             "#8e0152"
            ],
            [
             0.1,
             "#c51b7d"
            ],
            [
             0.2,
             "#de77ae"
            ],
            [
             0.3,
             "#f1b6da"
            ],
            [
             0.4,
             "#fde0ef"
            ],
            [
             0.5,
             "#f7f7f7"
            ],
            [
             0.6,
             "#e6f5d0"
            ],
            [
             0.7,
             "#b8e186"
            ],
            [
             0.8,
             "#7fbc41"
            ],
            [
             0.9,
             "#4d9221"
            ],
            [
             1,
             "#276419"
            ]
           ],
           "sequential": [
            [
             0,
             "#0d0887"
            ],
            [
             0.1111111111111111,
             "#46039f"
            ],
            [
             0.2222222222222222,
             "#7201a8"
            ],
            [
             0.3333333333333333,
             "#9c179e"
            ],
            [
             0.4444444444444444,
             "#bd3786"
            ],
            [
             0.5555555555555556,
             "#d8576b"
            ],
            [
             0.6666666666666666,
             "#ed7953"
            ],
            [
             0.7777777777777778,
             "#fb9f3a"
            ],
            [
             0.8888888888888888,
             "#fdca26"
            ],
            [
             1,
             "#f0f921"
            ]
           ],
           "sequentialminus": [
            [
             0,
             "#0d0887"
            ],
            [
             0.1111111111111111,
             "#46039f"
            ],
            [
             0.2222222222222222,
             "#7201a8"
            ],
            [
             0.3333333333333333,
             "#9c179e"
            ],
            [
             0.4444444444444444,
             "#bd3786"
            ],
            [
             0.5555555555555556,
             "#d8576b"
            ],
            [
             0.6666666666666666,
             "#ed7953"
            ],
            [
             0.7777777777777778,
             "#fb9f3a"
            ],
            [
             0.8888888888888888,
             "#fdca26"
            ],
            [
             1,
             "#f0f921"
            ]
           ]
          },
          "colorway": [
           "#636efa",
           "#EF553B",
           "#00cc96",
           "#ab63fa",
           "#FFA15A",
           "#19d3f3",
           "#FF6692",
           "#B6E880",
           "#FF97FF",
           "#FECB52"
          ],
          "font": {
           "color": "#2a3f5f"
          },
          "geo": {
           "bgcolor": "white",
           "lakecolor": "white",
           "landcolor": "#E5ECF6",
           "showlakes": true,
           "showland": true,
           "subunitcolor": "white"
          },
          "hoverlabel": {
           "align": "left"
          },
          "hovermode": "closest",
          "mapbox": {
           "style": "light"
          },
          "paper_bgcolor": "white",
          "plot_bgcolor": "#E5ECF6",
          "polar": {
           "angularaxis": {
            "gridcolor": "white",
            "linecolor": "white",
            "ticks": ""
           },
           "bgcolor": "#E5ECF6",
           "radialaxis": {
            "gridcolor": "white",
            "linecolor": "white",
            "ticks": ""
           }
          },
          "scene": {
           "xaxis": {
            "backgroundcolor": "#E5ECF6",
            "gridcolor": "white",
            "gridwidth": 2,
            "linecolor": "white",
            "showbackground": true,
            "ticks": "",
            "zerolinecolor": "white"
           },
           "yaxis": {
            "backgroundcolor": "#E5ECF6",
            "gridcolor": "white",
            "gridwidth": 2,
            "linecolor": "white",
            "showbackground": true,
            "ticks": "",
            "zerolinecolor": "white"
           },
           "zaxis": {
            "backgroundcolor": "#E5ECF6",
            "gridcolor": "white",
            "gridwidth": 2,
            "linecolor": "white",
            "showbackground": true,
            "ticks": "",
            "zerolinecolor": "white"
           }
          },
          "shapedefaults": {
           "line": {
            "color": "#2a3f5f"
           }
          },
          "ternary": {
           "aaxis": {
            "gridcolor": "white",
            "linecolor": "white",
            "ticks": ""
           },
           "baxis": {
            "gridcolor": "white",
            "linecolor": "white",
            "ticks": ""
           },
           "bgcolor": "#E5ECF6",
           "caxis": {
            "gridcolor": "white",
            "linecolor": "white",
            "ticks": ""
           }
          },
          "title": {
           "x": 0.05
          },
          "xaxis": {
           "automargin": true,
           "gridcolor": "white",
           "linecolor": "white",
           "ticks": "",
           "title": {
            "standoff": 15
           },
           "zerolinecolor": "white",
           "zerolinewidth": 2
          },
          "yaxis": {
           "automargin": true,
           "gridcolor": "white",
           "linecolor": "white",
           "ticks": "",
           "title": {
            "standoff": 15
           },
           "zerolinecolor": "white",
           "zerolinewidth": 2
          }
         }
        },
        "title": {
         "font": {
          "color": "#D9D9D9"
         }
        },
        "xaxis": {
         "gridcolor": "#434343",
         "showgrid": true,
         "tickfont": {
          "color": "#C2C2C2"
         },
         "title": {
          "font": {
           "color": "#D9D9D9"
          },
          "text": ""
         },
         "zerolinecolor": "#666570"
        },
        "yaxis": {
         "gridcolor": "#434343",
         "showgrid": true,
         "tickfont": {
          "color": "#C2C2C2"
         },
         "title": {
          "font": {
           "color": "#D9D9D9"
          },
          "text": ""
         },
         "zerolinecolor": "#666570"
        }
       }
      },
      "text/html": [
       "<div>\n",
       "        \n",
       "        \n",
       "            <div id=\"fce99543-a2e6-4686-b345-3b44f99cbcca\" class=\"plotly-graph-div\" style=\"height:525px; width:100%;\"></div>\n",
       "            <script type=\"text/javascript\">\n",
       "                require([\"plotly\"], function(Plotly) {\n",
       "                    window.PLOTLYENV=window.PLOTLYENV || {};\n",
       "                    window.PLOTLYENV.BASE_URL='https://plot.ly';\n",
       "                    \n",
       "                if (document.getElementById(\"fce99543-a2e6-4686-b345-3b44f99cbcca\")) {\n",
       "                    Plotly.newPlot(\n",
       "                        'fce99543-a2e6-4686-b345-3b44f99cbcca',\n",
       "                        [{\"colorscale\": [[0.0, \"rgb(255, 153, 51)\"], [0.1111111111111111, \"rgb(55, 128, 191)\"], [0.2222222222222222, \"rgb(50, 171, 96)\"], [0.3333333333333333, \"rgb(128, 0, 128)\"], [0.4444444444444444, \"rgb(219, 64, 82)\"], [0.5555555555555556, \"rgb(0, 128, 128)\"], [0.6666666666666666, \"rgb(255, 255, 51)\"], [0.7777777777777778, \"rgb(128, 128, 0)\"], [0.8888888888888888, \"rgb(251, 128, 114)\"], [1.0, \"rgb(128, 177, 211)\"]], \"type\": \"surface\", \"x\": [-20.0, -19.25, -18.5, -17.75, -17.0, -16.25, -15.5, -14.75, -14.0, -13.25, -12.5, -11.75, -11.0, -10.25, -9.5, -8.75, -8.0, -7.25, -6.5, -5.75, -5.0, -4.25, -3.5, -2.75, -2.0, -1.25, -0.5, 0.25, 1.0, 1.75, 2.5, 3.25, 4.0, 4.75, 5.5, 6.25, 7.0, 7.75, 8.5, 9.25, 10.0, 10.75, 11.5, 12.25, 13.0, 13.75, 14.5, 15.25, 16.0, 16.75, 17.5, 18.25, 19.0, 19.75], \"y\": [-20.0, -19.25, -18.5, -17.75, -17.0, -16.25, -15.5, -14.75, -14.0, -13.25, -12.5, -11.75, -11.0, -10.25, -9.5, -8.75, -8.0, -7.25, -6.5, -5.75, -5.0, -4.25, -3.5, -2.75, -2.0, -1.25, -0.5, 0.25, 1.0, 1.75, 2.5, 3.25, 4.0, 4.75, 5.5, 6.25, 7.0, 7.75, 8.5, 9.25, 10.0, 10.75, 11.5, 12.25, 13.0, 13.75, 14.5, 15.25, 16.0, 16.75, 17.5, 18.25, 19.0, 19.75], \"z\": [[-0.0007026662637428305, 0.035506948807493305, 0.06293685679247943, 0.07474098203953732, 0.06845114274801657, 0.04614155259024783, 0.013405194229677505, -0.022390915012021846, -0.05399610483125729, -0.075812766210001, -0.08477738636965329, -0.08051745009296397, -0.0649109753812879, -0.04128830234973767, -0.013537818619430503, 0.01467175934398162, 0.04042644267431279, 0.06182359971940465, 0.07798461463302095, 0.08889742097267919, 0.09517229620994277, 0.09778225187943583, 0.09783635854065989, 0.09640971807794003, 0.0944336254514641, 0.09263637603078959, 0.09151915705971174, 0.0913510374226154, 0.09217035385098872, 0.0937851483325176, 0.09577158154964004, 0.09747563471694948, 0.09802917929173674, 0.0963956279450986, 0.09146139827941907, 0.08218547016546035, 0.06780868630120103, 0.04810649822800793, 0.023645221568363895, -0.004022571499422312, -0.03230477075805424, -0.05773859288327425, -0.07643276101580226, -0.08477368114599979, -0.08030063932478075, -0.0625638557513206, -0.03371368540754761, 0.00143558137439708, 0.03604197501326519, 0.0625759550831283, 0.07464033662197972, 0.06882711321544657, 0.04604289168808653, 0.011777280577047597], [0.035506948807493305, 0.06375220717106429, 0.074909506771761, 0.06631939683612534, 0.040652023615160945, 0.004683199869331691, -0.0328585390136115, -0.06363897647703769, -0.08160364627510243, -0.08399942673814534, -0.07144409347789418, -0.047223897313638456, -0.016155080600966612, 0.016627366587580485, 0.04666526935286476, 0.07079708460060882, 0.08737380335428893, 0.09614226316756926, 0.0979186203257368, 0.09418065553018096, 0.08668190931734066, 0.07715069681333743, 0.06709752724904226, 0.057724368691431834, 0.04991167337855531, 0.044252895575082045, 0.041107990460406696, 0.040653371580937785, 0.04291318891881724, 0.0477640424511109, 0.05491202556718957, 0.06384768057696963, 0.0737915341810178, 0.08365032581127232, 0.09201074912565553, 0.09720107998909114, 0.09744795333537942, 0.09114209446724074, 0.07720082203239513, 0.055478069235101436, 0.027131479712259054, -0.005176192314548786, -0.037370625709483574, -0.06444842155917006, -0.08135833492260225, -0.08416692185825189, -0.07125963263357546, -0.04422980159861082, -0.00809680454054534, 0.02939294711166638, 0.059392786441186396, 0.07421185941828652, 0.06961519921698897, 0.046433956511249166], [0.06293685679247943, 0.074909506771761, 0.0655435939338876, 0.03776620572529323, -0.0006409702333513602, -0.03960379235031334, -0.06962727998004443, -0.08412057491790657, -0.08062737225724165, -0.060826149688477674, -0.029531838862628664, 0.0068484121271995295, 0.04190983136068899, 0.07050356160854643, 0.08944113223726488, 0.09763126853080899, 0.09577158154964004, 0.08578633036795395, 0.0702016095758575, 0.051602991885690876, 0.032255360808684116, 0.013903494103593827, -0.0022714801593679583, -0.015586540465728237, -0.0257326164534714, -0.032634458338672886, -0.03632466740164732, -0.03684995091504106, -0.034218668982967715, -0.028393247279687634, -0.01932788543000235, -0.007049208111082399, 0.008227019898694314, 0.025957776046456108, 0.04513914234015876, 0.06421583677586362, 0.08108269682411075, 0.0932278582823206, 0.09805214983976746, 0.093362965105012, 0.07798461463302095, 0.05236108741978671, 0.01897150392574176, -0.017639756309770396, -0.05137204098274341, -0.07565218549411296, -0.08495074460162425, -0.0763953998922263, -0.05100726463184431, -0.01407378258821094, 0.025666396870910782, 0.05802465369994649, 0.0741355917833892, 0.06922750027940155], [0.07474098203953732, 0.06631939683612534, 0.03776620572529323, -0.0024257380616022834, -0.042883848501413066, -0.07281158756207441, -0.08487096708704792, -0.07673560085016393, -0.0510823862721347, -0.014287992458647683, 0.02558446691126684, 0.06084434355515007, 0.08574525986534265, 0.0972893725182267, 0.09525157258046667, 0.08161243943995165, 0.05968424318608694, 0.03320771438653382, 0.005621468217114016, -0.020396538150183854, -0.04310913261249983, -0.06167766190906147, -0.07598011094294249, -0.08637007198254279, -0.09343755568640384, -0.0978078166082552, -0.09999270674411341, -0.100294865855492, -0.0987590270841395, -0.09516525470659133, -0.08906325090046266, -0.07985173966916323, -0.06690907749207924, -0.04977765643346263, -0.028393247279687634, -0.0033309781163817385, 0.023984859060907256, 0.05118242685144097, 0.07504008493420455, 0.09184901403994886, 0.09805909273146404, 0.09114209446724074, 0.07050356160854643, 0.038185302365766345, -0.0009337263451392674, -0.039671161981710924, -0.06987449839556531, -0.0843658081677389, -0.07904120665496475, -0.05448491071138298, -0.016459324537710488, 0.025126386436683273, 0.05871539568667765, 0.07447927078866733], [0.06845114274801657, 0.040652023615160945, -0.0006409702333513602, -0.042883848501413066, -0.07380032174806236, -0.08495903361221167, -0.07381763629814138, -0.04382882136508016, -0.002866288492327476, 0.03930820141354958, 0.07366475467023335, 0.09388635271987052, 0.0973172742553893, 0.08485759774636419, 0.06007123122435692, 0.027914628346377233, -0.006517183602778703, -0.03894579526542443, -0.06644009854577237, -0.08753663013511558, -0.10205429398979762, -0.1107415575688542, -0.11488172267414411, -0.11594360149554611, -0.11532049911370224, -0.11416345725292104, -0.11329151708883223, -0.11315266588975689, -0.11381118218056065, -0.11494633135531154, -0.11586015492109232, -0.11550537190904059, -0.1125552047731455, -0.10554182731338523, -0.09308517130345338, -0.07421551271398784, -0.04876053907416855, -0.017724518826640185, 0.01645508537365307, 0.04991167337855531, 0.0777361719409314, 0.09479702265635812, 0.0969183613137812, 0.08218547016546035, 0.0520107047956078, 0.011541099463318908, -0.030924222029581158, -0.06559565514919971, -0.08366676740232826, -0.07997125068097903, -0.05497096099983781, -0.015267200665244961, 0.027807584790218224, 0.06134383057448895], [0.04614155259024783, 0.004683199869331691, -0.03960379235031334, -0.07281158756207441, -0.08495903361221167, -0.07274959951935187, -0.039996356019342996, 0.004117099812496715, 0.04810649822800793, 0.08147464062757319, 0.09723251194195273, 0.09308319159052125, 0.07120318738357315, 0.036970052648530934, -0.0028010536248620323, -0.0415526319790494, -0.07421551271398784, -0.0978078166082552, -0.11144378456228145, -0.11592771952351635, -0.11315266588975689, -0.10549589328006628, -0.09533637996050764, -0.08474553874543932, -0.07534343601233413, -0.0682778666994848, -0.0642716944557742, -0.06368824394321272, -0.06657778750123684, -0.07268483171027637, -0.08141329848199268, -0.09176411819038024, -0.10227682924862294, -0.11102163823080137, -0.11569649992878561, -0.11387812357978247, -0.10344907333918486, -0.08317175538274917, -0.05330931316864547, -0.01612101143253597, 0.023984859060907256, 0.06084016493816854, 0.08754417359440915, 0.09803711116369127, 0.08889742097267919, 0.06084434355515007, 0.01936181621259661, -0.026001405859951046, -0.06374549602341241, -0.08354484363419847, -0.0795155731187737, -0.05251348559497574, -0.010488489547392146, 0.033528943348648], [0.013405194229677505, -0.0328585390136115, -0.06962727998004443, -0.08487096708704792, -0.07381763629814138, -0.039996356019342996, 0.0064578582297709864, 0.05236108741978671, 0.08553446243914668, 0.09803929917216529, 0.08775451660503289, 0.05811964474253582, 0.01645508537365307, -0.028393247279687634, -0.06830768598256921, -0.09748586961705513, -0.11312215148624581, -0.11525272490010806, -0.1060350275635281, -0.08879735592494752, -0.06714731245431023, -0.044318495486442656, -0.022816193832590904, -0.004331277232129268, 0.010158372169524544, 0.020191172864757273, 0.02560889291691396, 0.026382956072391866, 0.02251261661707456, 0.014009979174710536, 0.0009738306127996926, -0.016257991397592056, -0.036903778452066216, -0.059528143257756794, -0.08189887587784364, -0.10100032187268156, -0.11329151708883223, -0.11526126834649275, -0.10425411975119218, -0.07942853394297261, -0.042590965877850995, 0.0014246460094314765, 0.04513914234015876, 0.07972317169664972, 0.09707637805665423, 0.09222867847278952, 0.06533580152228118, 0.02247910977877244, -0.025287194701867834, -0.06468030667853465, -0.08409928364180795, -0.07750777241019773, -0.04688220005837039, -0.0021280053140911165], [-0.022390915012021846, -0.06363897647703769, -0.08412057491790657, -0.07673560085016393, -0.04382882136508016, 0.004117099812496715, 0.05236108741978671, 0.0867752368128894, 0.09799889404024424, 0.08365032581127232, 0.04819650121742355, 0.000897882385944272, -0.04722856871298636, -0.08637007198254279, -0.10999127699528204, -0.11565330276600444, -0.10466050783780126, -0.0809245671204661, -0.04954309929997819, -0.015522025689743025, 0.017098365543985857, 0.04564028693582465, 0.0687774928794527, 0.08625834657335883, 0.09851286286044308, 0.10626072659322694, 0.11019018601661706, 0.11073682733507366, 0.10796654245504357, 0.10155901480103412, 0.09089083321114294, 0.07522176370794928, 0.053984192453900466, 0.02715696020194833, -0.004331277232129268, -0.038270832354069854, -0.07105406092525876, -0.09792350890563162, -0.11368662328968558, -0.11387812357978247, -0.0961740316614175, -0.06167766190906147, -0.015586540465728237, 0.03320771438653382, 0.0737915341810178, 0.09596460135634317, 0.093362965105012, 0.06596064075292694, 0.020921717977151446, -0.028831318121094747, -0.06822319191703183, -0.08483496237677107, -0.07331060566685879, -0.037660285837500716], [-0.05399610483125729, -0.08160364627510243, -0.08062737225724165, -0.0510823862721347, -0.002866288492327476, 0.04810649822800793, 0.08553446243914668, 0.09799889404024424, 0.082134100675528, 0.04291318891881724, -0.008646721465118964, -0.05924979722673779, -0.09716150504395847, -0.11496420793128047, -0.1106399934725709, -0.08702920904011073, -0.05018568327762217, -0.0073411016910038245, 0.03488745710439346, 0.07166040945258814, 0.10035017564456081, 0.1203730806019293, 0.13265707755961198, 0.13898890003173922, 0.14141961054935853, 0.141819095207108, 0.14159377784668595, 0.14153601842369937, 0.1417607525231365, 0.1416975584086681, 0.14013315565025658, 0.13532818775625344, 0.12525083753434577, 0.10796654245504357, 0.08218858749967678, 0.047927082138306785, 0.007086285574353929, -0.03621721434011259, -0.07586614420408501, -0.10466050783780126, -0.11592855991826022, -0.10554182731338523, -0.07377030942693767, -0.026265238925836213, 0.026448521520916726, 0.07120318738357315, 0.09577158154964004, 0.09281030402091647, 0.06279386743820309, 0.01467175934398162, -0.03637200138534742, -0.07364291580549688, -0.08467860266786147, -0.06592883779345551], [-0.075812766210001, -0.08399942673814534, -0.060826149688477674, -0.014287992458647683, 0.03930820141354958, 0.08147464062757319, 0.09803929917216529, 0.08365032581127232, 0.04291318891881724, -0.011847056670384075, -0.06502503478699774, -0.10262009088568971, -0.11594360149554611, -0.10319723204920035, -0.06883886859139111, -0.02136942726744661, 0.02947833344313617, 0.07522176370794928, 0.11019018601661706, 0.13200603434105607, 0.14117932678513379, 0.14019550879519802, 0.13248789560619015, 0.1215776487487792, 0.11051245322547638, 0.10160219708604251, 0.09636827159298987, 0.09559620363699033, 0.0993958462307399, 0.1072118622827233, 0.11777604011586752, 0.12904306358773007, 0.13819455031459152, 0.14182052949746649, 0.1363763500460628, 0.11895031131114453, 0.08825950348380547, 0.04564028693582465, -0.004331277232129268, -0.05399038970760124, -0.0937826290919642, -0.11448367723597076, -0.10999127699528204, -0.07985173966916323, -0.03051661817306503, 0.025466026475194633, 0.0725124622188363, 0.0966511419619441, 0.09031321793877432, 0.055478069235101436, 0.003727466233536553, -0.047223897313638456, -0.07958869857860314, -0.08205020090150196], [-0.08477738636965329, -0.07144409347789418, -0.029531838862628664, 0.02558446691126684, 0.07366475467023335, 0.09723251194195273, 0.08775451660503289, 0.04819650121742355, -0.008646721465118964, -0.06502503478699774, -0.10425411975119218, -0.11569649992878561, -0.0972015549530409, -0.05461588256536717, 0.0009738306127996926, 0.0569867282767652, 0.10275473614716857, 0.1316728268808787, 0.14179006790730303, 0.13509259526211642, 0.11604804811520174, 0.09002432997032234, 0.062034370522960125, 0.036013118230284684, 0.014611898117628743, -0.0006409754282528475, -0.009007957353604124, -0.010210349564048503, -0.004215544867432353, 0.00879524965035359, 0.028270310898122826, 0.05298490441364873, 0.08069235790121831, 0.10788472442996018, 0.12985565243905386, 0.14124053473287576, 0.13710500795607788, 0.11445612623663119, 0.07380308035304459, 0.020191172864757273, -0.036903778452066216, -0.08520875694531246, -0.11271464281540354, -0.11144378456228145, -0.08069276552316074, -0.028393247279687634, 0.030337084159494338, 0.07744441556315348, 0.09783635854065989, 0.08489257309205754, 0.04338408933584797, -0.011654477014887267, -0.06006981356906526, -0.08405004413857464], [-0.08051745009296397, -0.047223897313638456, 0.0068484121271995295, 0.06084434355515007, 0.09388635271987052, 0.09308319159052125, 0.05811964474253582, 0.000897882385944272, -0.05924979722673779, -0.10262009088568971, -0.11569649992878561, -0.09495305747713984, -0.04694921110588836, 0.01478156540039093, 0.07451341934675718, 0.11895031131114453, 0.1402732191419091, 0.13701916559946886, 0.11303749901914252, 0.07531659368730659, 0.031610442576253, -0.011414332533086971, -0.04916880920228074, -0.07929019757294747, -0.1011986367120154, -0.11538106041708977, -0.12267049384179304, -0.12368964794720452, -0.11853755153953284, -0.10674426808414875, -0.08749612292214297, -0.06011637286365964, -0.024744851147022306, 0.016919129954055045, 0.06104787183611214, 0.10160219708604251, 0.13102411582348789, 0.14182052949746649, 0.1288260976817965, 0.09154187059921455, 0.0356589174235028, -0.02711743464970539, -0.08141329848199268, -0.11240472280373874, -0.1107415575688542, -0.07641713591002264, -0.019862246660064285, 0.040653371580937785, 0.08485759774636419, 0.09767205330200214, 0.07505113828261388, 0.025971607799782748, -0.030577222184539572, -0.07274959951935187], [-0.0649109753812879, -0.016155080600966612, 0.04190983136068899, 0.08574525986534265, 0.0973172742553893, 0.07120318738357315, 0.01645508537365307, -0.04722856871298636, -0.09716150504395847, -0.11594360149554611, -0.0972015549530409, -0.04694921110588836, 0.019417652915459663, 0.08287291581680681, 0.12688740043053856, 0.141819095207108, 0.12644417385606296, 0.08671101859405894, 0.032716656177174196, -0.024744851147022306, -0.07692192159625537, -0.11853755153953284, -0.14790462620885408, -0.16611685400607332, -0.17584069010379264, -0.1801446545297837, -0.18160802037610754, -0.18176644422676885, -0.1808471258120618, -0.17773339606034183, -0.17014801594696913, -0.15510339062739803, -0.12967979361550958, -0.09211958419387666, -0.04306263900144976, 0.013454008098850966, 0.06974763836772843, 0.11545896314428632, 0.13989120849852552, 0.13532818775625344, 0.10035017564456081, 0.0418135386612722, -0.02569037296395049, -0.08333658184516009, -0.11381118218056065, -0.1074585371964665, -0.06644009854577237, -0.004922730661455259, 0.05531860300421393, 0.09263637603078959, 0.09375826681275508, 0.05919281548607785, 0.003337992054599261, -0.0510823862721347], [-0.04128830234973767, 0.016627366587580485, 0.07050356160854643, 0.0972893725182267, 0.08485759774636419, 0.036970052648530934, -0.028393247279687634, -0.08637007198254279, -0.11496420793128047, -0.10319723204920035, -0.05461588256536717, 0.01478156540039093, 0.08287291581680681, 0.12919930000974209, 0.14124053473287576, 0.11720659774600677, 0.06496444719258307, -0.0018304965737062353, -0.06856321354927865, -0.12368964794720452, -0.16091034854610295, -0.17933114212655984, -0.1821613329078053, -0.1747972342928682, -0.16303912773542587, -0.15185982928725494, -0.14478624788034108, -0.1437158894806465, -0.14891825321205285, -0.15904136091487175, -0.17109514979541934, -0.18054660691367944, -0.18176644422676885, -0.16904790121688004, -0.1382335440607129, -0.08865678616774172, -0.024744851147022306, 0.043569358828744825, 0.1023252846896187, 0.13701916559946886, 0.1373368253178257, 0.10155901480103412, 0.038740412097179454, -0.03275482103060757, -0.09051264783092683, -0.11565330276600444, -0.09999270674411341, -0.04977765643346263, 0.015946313850788676, 0.07218796230389286, 0.09765709951722429, 0.08334020632210716, 0.036304009675109813, -0.02312913047959675], [-0.013537818619430503, 0.04666526935286476, 0.08944113223726488, 0.09525157258046667, 0.06007123122435692, -0.0028010536248620323, -0.06830768598256921, -0.10999127699528204, -0.1106399934725709, -0.06883886859139111, 0.0009738306127996926, 0.07451341934675718, 0.12688740043053856, 0.14124053473287576, 0.1136526088802527, 0.05298490441364873, -0.023527608249201665, -0.09668883252747353, -0.1511875643863488, -0.17903560277058095, -0.1800313728705813, -0.15987112992755653, -0.1271795169340972, -0.0907256642328181, -0.05761803324395176, -0.032657564269347995, -0.01855449981019833, -0.016505930263581485, -0.026665677985416577, -0.04822085787410071, -0.07903277128303789, -0.11505016730310495, -0.1499137997580331, -0.1752665961050691, -0.1821644169794075, -0.163591222139663, -0.11749065565570795, -0.04916880920228074, 0.028270310898122826, 0.09636827159298987, 0.13650222610828716, 0.1363763500460628, 0.09538860184148468, 0.026382956072391866, -0.047601180630548544, -0.10100032187268156, -0.11519195003114313, -0.08597717858312592, -0.0257326164534714, 0.041107990460406696, 0.08775451660503289, 0.09605392505278619, 0.06407323368053625, 0.0068484121271995295], [0.01467175934398162, 0.07079708460060882, 0.09763126853080899, 0.08161243943995165, 0.027914628346377233, -0.0415526319790494, -0.09748586961705513, -0.11565330276600444, -0.08702920904011073, -0.02136942726744661, 0.0569867282767652, 0.11895031131114453, 0.141819095207108, 0.11720659774600677, 0.05298490441364873, -0.030841885736018544, -0.11001880232017779, -0.1642373823959323, -0.18264893898060253, -0.16525654180237792, -0.12058300781296416, -0.061301442485772274, 0.0001569493213448689, 0.054541276561040686, 0.09674378883254962, 0.12512633286074154, 0.14000357308347133, 0.14209785531573388, 0.13154597877649798, 0.10774865812501504, 0.07010183827093616, 0.019407660252202565, -0.040517266401149735, -0.10179031338845618, -0.1528102839666787, -0.18054660691367944, -0.17456713788189782, -0.1316269478872783, -0.05890402451081101, 0.026026147564044762, 0.0993958462307399, 0.13881980260142648, 0.1316728268808787, 0.080812940518254, 0.004788701422209339, -0.0682778666994848, -0.11120707845564833, -0.10856457404571711, -0.06311985818605961, 0.00509866081377989, 0.06709752724904226, 0.09720107998909114, 0.08401478551650957, 0.03516969108452159], [0.04042644267431279, 0.08737380335428893, 0.09577158154964004, 0.05968424318608694, -0.006517183602778703, -0.07421551271398784, -0.11312215148624581, -0.10466050783780126, -0.05018568327762217, 0.02947833344313617, 0.10275473614716857, 0.1402732191419091, 0.12644417385606296, 0.06496444719258307, -0.023527608249201665, -0.11001880232017779, -0.167906160972842, -0.18158488243001691, -0.1499137997580331, -0.08411903827788304, -0.001951040868825416, 0.07900122348247962, 0.14626024334832619, 0.1943926655354523, 0.22411724822563847, 0.23974108638511749, 0.24626113579560338, 0.24707500803079696, 0.242708395806646, 0.23063350923189954, 0.2061784643801796, 0.16450028494360933, 0.10335731863015635, 0.025921773001301992, -0.05761803324395176, -0.13096468174943518, -0.17572115154133375, -0.17773339606034183, -0.13354819579908725, -0.054043516875550875, 0.037104384846577534, 0.11051245322547638, 0.14159377784668595, 0.1203730806019293, 0.05623788871182025, -0.024974302469920013, -0.09093315086996714, -0.11594360149554611, -0.09165325219793564, -0.03051661817306503, 0.039740214354108065, 0.08837297506796234, 0.09517229620994277, 0.05919281548607785], [0.06182359971940465, 0.09614226316756926, 0.08578633036795395, 0.03320771438653382, -0.03894579526542443, -0.0978078166082552, -0.11525272490010806, -0.0809245671204661, -0.0073411016910038245, 0.07522176370794928, 0.1316728268808787, 0.13701916559946886, 0.08671101859405894, -0.0018304965737062353, -0.09668883252747353, -0.1642373823959323, -0.18158488243001691, -0.1437158894806465, -0.0631265026963309, 0.03686485131708162, 0.13154597877649798, 0.20290271423033404, 0.24364050109720906, 0.2566430509401283, 0.25130504004127213, 0.23896010343988033, 0.22917661128094333, 0.22759450814784551, 0.23504220166614895, 0.24743234013685533, 0.2563400102730029, 0.2506818889186662, 0.21992483146863692, 0.15851669454452746, 0.07010183827093616, -0.03066927919323432, -0.12058300781296416, -0.1747972342928682, -0.17624240938958516, -0.12368964794720452, -0.0345063152690242, 0.060056532848391, 0.1259875650745608, 0.13983537623968262, 0.09851286286044308, 0.020964858702894273, -0.059528143257756794, -0.10940895347488573, -0.1091935771365692, -0.06167766190906147, 0.009783129792494133, 0.07218796230389286, 0.09799889404024424, 0.07746346016459599], [0.07798461463302095, 0.0979186203257368, 0.0702016095758575, 0.005621468217114016, -0.06644009854577237, -0.11144378456228145, -0.1060350275635281, -0.04954309929997819, 0.03488745710439346, 0.11019018601661706, 0.14179006790730303, 0.11303749901914252, 0.032716656177174196, -0.06856321354927865, -0.1511875643863488, -0.18264893898060253, -0.1499137997580331, -0.0631265026963309, 0.05010748884225075, 0.15649972810645998, 0.22937894091767205, 0.25653555744366946, 0.2413455569066888, 0.1982031145119569, 0.14549969299473817, 0.09960082298540655, 0.07173638515428266, 0.06758414818694233, 0.08791985781076668, 0.12877087581897034, 0.18080401871815463, 0.22917661128094333, 0.25562857790064414, 0.24364050109720906, 0.18545724476618586, 0.0878871354792479, -0.026665677985416577, -0.1258888846262905, -0.1788278960809016, -0.16848219583369567, -0.10007704610444179, -0.0006409754282528475, 0.09083808032935944, 0.13901492878918745, 0.12688740043053856, 0.0629299462841541, -0.022816193832590904, -0.09217456730776878, -0.11580379357365934, -0.08597717858312592, -0.01932788543000235, 0.051602991885690876, 0.09391912390655559, 0.08961897389930491], [0.08889742097267919, 0.09418065553018096, 0.051602991885690876, -0.020396538150183854, -0.08753663013511558, -0.11592771952351635, -0.08879735592494752, -0.015522025689743025, 0.07166040945258814, 0.13200603434105607, 0.13509259526211642, 0.07531659368730659, -0.024744851147022306, -0.12368964794720452, -0.17903560277058095, -0.16525654180237792, -0.08411903827788304, 0.03686485131708162, 0.15649972810645998, 0.2365243422174828, 0.2553118000893658, 0.21324911772700825, 0.12877087581897034, 0.02838670735216783, -0.06374895250625122, -0.132008995765264, -0.1696119802323752, -0.17499760171649797, -0.14809048863531396, -0.08964697741323371, -0.004215913110515241, 0.0957513146109, 0.18854967763954522, 0.24743234013685533, 0.25002327766855664, 0.1890798565922851, 0.07900122348247962, -0.046310064114579955, -0.14478624788034108, -0.1826358700412797, -0.1487375524385824, -0.06011637286365964, 0.04463265266061536, 0.1215776487487792, 0.1402732191419091, 0.09664743042586664, 0.014009979174710536, -0.0682778666994848, -0.11315266588975689, -0.10262009088568971, -0.04517479711682324, 0.029371322065773888, 0.08485759774636419, 0.09614226316756926], [0.09517229620994277, 0.08668190931734066, 0.032255360808684116, -0.04310913261249983, -0.10205429398979762, -0.11315266588975689, -0.06714731245431023, 0.017098365543985857, 0.10035017564456081, 0.14117932678513379, 0.11604804811520174, 0.031610442576253, -0.07692192159625537, -0.16091034854610295, -0.1800313728705813, -0.12058300781296416, -0.001951040868825416, 0.13154597877649798, 0.22937894091767205, 0.2553118000893658, 0.20049625055173417, 0.08393854575868848, -0.05863687417657578, -0.19114437378651342, -0.29046275344788247, -0.35084804028714445, -0.3787322233669178, -0.382375848005458, -0.3632795822101567, -0.31475910259630246, -0.22856545626592412, -0.10542055787501849, 0.037372873633869375, 0.16693195814109418, 0.2455799958764798, 0.24707500803079696, 0.17037647050011584, 0.043473546354522816, -0.0857896329957062, -0.16865061331126227, -0.17584069010379264, -0.11001880232017779, -0.004215544867432353, 0.0932439401444546, 0.14047350854001267, 0.1203730806019293, 0.0471656583393752, -0.04165211977536649, -0.10379316880053832, -0.1120973403357679, -0.06644009854577237, 0.007707081140409774, 0.07283507438966245, 0.09805909273146404], [0.09778225187943583, 0.07715069681333743, 0.013903494103593827, -0.06167766190906147, -0.1107415575688542, -0.10549589328006628, -0.044318495486442656, 0.04564028693582465, 0.1203730806019293, 0.14019550879519802, 0.09002432997032234, -0.011414332533086971, -0.11853755153953284, -0.17933114212655984, -0.15987112992755653, -0.061301442485772274, 0.07900122348247962, 0.20290271423033404, 0.25653555744366946, 0.21324911772700825, 0.08393854575868848, -0.08964697741323371, -0.254829433326894, -0.37117570680030565, -0.42574709936268906, -0.4335860886421158, -0.42421701152445723, -0.42197287899622543, -0.4308806796227811, -0.43220845214435083, -0.39598244357893553, -0.3003162506586467, -0.14809048863531396, 0.02838670735216783, 0.17812580971586786, 0.25311832399967577, 0.23063350923189954, 0.12512633286074154, -0.016505930263581485, -0.13461888616197776, -0.18251498442862385, -0.14621488967339394, -0.04916880920228074, 0.060056532848391, 0.13102411582348789, 0.13448542549215534, 0.07451341934675718, -0.015522025689743025, -0.09051264783092683, -0.11573535202045362, -0.08276326387855062, -0.011847056670384075, 0.05968424318608694, 0.0966511419619441], [0.09783635854065989, 0.06709752724904226, -0.0022714801593679583, -0.07598011094294249, -0.11488172267414411, -0.09533637996050764, -0.022816193832590904, 0.0687774928794527, 0.13265707755961198, 0.13248789560619015, 0.062034370522960125, -0.04916880920228074, -0.14790462620885408, -0.1821613329078053, -0.1271795169340972, 0.0001569493213448689, 0.14626024334832619, 0.24364050109720906, 0.2413455569066888, 0.12877087581897034, -0.05863687417657578, -0.254829433326894, -0.39273214882544505, -0.434076417833265, -0.3853906832849483, -0.2926242127644853, -0.21712746254366178, -0.20468978410715197, -0.2626748843273063, -0.35635521764627226, -0.42622489689420734, -0.417885750201407, -0.309992807249447, -0.12666669235949252, 0.07173638515428266, 0.2152076253393881, 0.2554522819126627, 0.18727640924644018, 0.05010748884225075, -0.0907256642328181, -0.1738139924448547, -0.16848219583369567, -0.08633239590937543, 0.02714993644728305, 0.11604804811520174, 0.14077417261598202, 0.09538860184148468, 0.00785343411045172, -0.07586614420408501, -0.11525272490010806, -0.09448107143366503, -0.028393247279687634, 0.046894784304553426, 0.0932278582823206], [0.09640971807794003, 0.057724368691431834, -0.015586540465728237, -0.08637007198254279, -0.11594360149554611, -0.08474553874543932, -0.004331277232129268, 0.08625834657335883, 0.13898890003173922, 0.1215776487487792, 0.036013118230284684, -0.07929019757294747, -0.16611685400607332, -0.1747972342928682, -0.0907256642328181, 0.054541276561040686, 0.1943926655354523, 0.2566430509401283, 0.1982031145119569, 0.02838670735216783, -0.19114437378651342, -0.37117570680030565, -0.434076417833265, -0.3495953826561967, -0.15051108239111077, 0.07980593576993696, 0.24300880867803662, 0.2688222513075441, 0.14609889758077332, -0.0722388011028484, -0.2926242127644853, -0.42197287899622543, -0.407889497747319, -0.26001264723920775, -0.043452159632214875, 0.15186131748507978, 0.25130504004127213, 0.22679610352037188, 0.10555493165712146, -0.046310064114579955, -0.15646143337355978, -0.17933114212655984, -0.11431852907537784, -0.0018304965737062353, 0.0993958462307399, 0.14169005140042149, 0.11019018601661706, 0.02715696020194833, -0.06192149898024116, -0.11240472280373874, -0.10233849877903384, -0.0415526319790494, 0.03556817328582706, 0.08897253432540012], [0.0944336254514641, 0.04991167337855531, -0.0257326164534714, -0.09343755568640384, -0.11532049911370224, -0.07534343601233413, 0.010158372169524544, 0.09851286286044308, 0.14141961054935853, 0.11051245322547638, 0.014611898117628743, -0.1011986367120154, -0.17584069010379264, -0.16303912773542587, -0.05761803324395176, 0.09674378883254962, 0.22411724822563847, 0.25130504004127213, 0.14549969299473817, -0.06374895250625122, -0.29046275344788247, -0.42574709936268906, -0.3853906832849483, -0.15051108239111077, 0.21783961811686398, 0.5982441516081277, 0.8556429685382863, 0.8957396184216221, 0.7036898157513979, 0.35022902170777614, -0.03744017720227128, -0.32729906443176787, -0.43436863670247905, -0.35084804028714445, -0.1427221428215067, 0.08393854575868848, 0.23071227369415245, 0.24707500803079696, 0.14626024334832619, -0.00823327044894154, -0.13698176393514344, -0.18256648912965917, -0.13354819579908725, -0.024744851147022306, 0.08416554906036815, 0.1397291728702939, 0.11990311351705359, 0.0418135386612722, -0.05018568327762217, -0.10874502150584896, -0.10722877037175435, -0.05129674970157959, 0.026448521520916726, 0.08485759774636419], [0.09263637603078959, 0.044252895575082045, -0.032634458338672886, -0.0978078166082552, -0.11416345725292104, -0.0682778666994848, 0.020191172864757273, 0.10626072659322694, 0.141819095207108, 0.10160219708604251, -0.0006409754282528475, -0.11538106041708977, -0.1801446545297837, -0.15185982928725494, -0.032657564269347995, 0.12512633286074154, 0.23974108638511749, 0.23896010343988033, 0.09960082298540655, -0.132008995765264, -0.35084804028714445, -0.4335860886421158, -0.2926242127644853, 0.07980593576993696, 0.5982441516081277, 1.1094945766040856, 1.4482816142111579, 1.500678835049543, 1.2488284837498442, 0.7780040258931075, 0.24300880867803662, -0.19181693290541052, -0.4137720534188708, -0.3991265770886398, -0.2125937105436689, 0.02838670735216783, 0.2070878465419809, 0.25477004091850136, 0.17230988766358785, 0.019407660252202565, -0.12058300781296416, -0.18203822454198118, -0.14535824620764792, -0.04061805672377692, 0.07255582683319996, 0.13701916559946886, 0.12566700314428403, 0.05172037316795184, -0.04165211977536649, -0.10549589328006628, -0.10999127699528204, -0.05777919195724801, 0.01999356337832164, 0.08161243943995165], [0.09151915705971174, 0.041107990460406696, -0.03632466740164732, -0.09999270674411341, -0.11329151708883223, -0.0642716944557742, 0.02560889291691396, 0.11019018601661706, 0.14159377784668595, 0.09636827159298987, -0.009007957353604124, -0.12267049384179304, -0.18160802037610754, -0.14478624788034108, -0.01855449981019833, 0.14000357308347133, 0.24626113579560338, 0.22917661128094333, 0.07173638515428266, -0.1696119802323752, -0.3787322233669178, -0.42421701152445723, -0.21712746254366178, 0.24300880867803662, 0.8556429685382863, 1.4482816142111579, 1.8374507397311368, 1.8974488797623419, 1.608613254431116, 1.0649315658049785, 0.43780226922078175, -0.08887373699192957, -0.3853906832849483, -0.417885750201407, -0.24962054293732017, -0.004215913110515241, 0.19103523332295086, 0.25653555744366946, 0.18545724476618586, 0.03466854669458865, -0.1107536917561867, -0.18078273088932142, -0.1511875643863488, -0.04916880920228074, 0.06593120909757157, 0.13509259526211642, 0.1284480140098375, 0.0569867282767652, -0.036903778452066216, -0.10349696929612592, -0.11127276690328836, -0.061194470858196036, 0.01645508537365307, 0.07972317169664972], [0.0913510374226154, 0.040653371580937785, -0.03684995091504106, -0.100294865855492, -0.11315266588975689, -0.06368824394321272, 0.026382956072391866, 0.11073682733507366, 0.14153601842369937, 0.09559620363699033, -0.010210349564048503, -0.12368964794720452, -0.18176644422676885, -0.1437158894806465, -0.016505930263581485, 0.14209785531573388, 0.24707500803079696, 0.22759450814784551, 0.06758414818694233, -0.17499760171649797, -0.382375848005458, -0.42197287899622543, -0.20468978410715197, 0.2688222513075441, 0.8957396184216221, 1.500678835049543, 1.8974488797623419, 1.9585929762944412, 1.6641794167481594, 1.1094945766040856, 0.4684129583840573, -0.0722388011028484, -0.3801986514917913, -0.4200602785751461, -0.254829433326894, -0.009011537058698997, 0.18854967763954522, 0.2566430509401283, 0.18727640924644018, 0.03686485131708162, -0.10929387900894774, -0.18054660691367944, -0.15198770280837584, -0.050388558043230176, 0.06496444719258307, 0.13479053491117005, 0.1288260976817965, 0.05773432038489801, -0.03621721434011259, -0.10319723204920035, -0.11144378456228145, -0.06167766190906147, 0.015946313850788676, 0.07944526735961742], [0.09217035385098872, 0.04291318891881724, -0.034218668982967715, -0.0987590270841395, -0.11381118218056065, -0.06657778750123684, 0.02251261661707456, 0.10796654245504357, 0.1417607525231365, 0.0993958462307399, -0.004215544867432353, -0.11853755153953284, -0.1808471258120618, -0.14891825321205285, -0.026665677985416577, 0.13154597877649798, 0.242708395806646, 0.23504220166614895, 0.08791985781076668, -0.14809048863531396, -0.3632795822101567, -0.4308806796227811, -0.2626748843273063, 0.14609889758077332, 0.7036898157513979, 1.2488284837498442, 1.608613254431116, 1.6641794167481594, 1.3969119972732167, 0.8957396184216221, 0.32242214992953067, -0.15051108239111077, -0.40325873487122593, -0.407889497747319, -0.22856545626592412, 0.014627580006334946, 0.20049625055173417, 0.2557406839380664, 0.17802983029511174, 0.025921773001301992, -0.1164544699167505, -0.18158488243001691, -0.14790462620885408, -0.044284621144773315, 0.06974763836772843, 0.13623371152302444, 0.12688740043053856, 0.053984192453900466, -0.039629656015626305, -0.10466050783780126, -0.11055846795247289, -0.05924979722673779, 0.01848209715101521, 0.08081480379672902], [0.0937851483325176, 0.0477640424511109, -0.028393247279687634, -0.09516525470659133, -0.11494633135531154, -0.07268483171027637, 0.014009979174710536, 0.10155901480103412, 0.1416975584086681, 0.1072118622827233, 0.00879524965035359, -0.10674426808414875, -0.17773339606034183, -0.15904136091487175, -0.04822085787410071, 0.10774865812501504, 0.23063350923189954, 0.24743234013685533, 0.12877087581897034, -0.08964697741323371, -0.31475910259630246, -0.43220845214435083, -0.35635521764627226, -0.0722388011028484, 0.35022902170777614, 0.7780040258931075, 1.0649315658049785, 1.1094945766040856, 0.8957396184216221, 0.49975144871271493, 0.05887491198907235, -0.28302803533990717, -0.4308806796227811, -0.37117570680030565, -0.1696119802323752, 0.06339013493636744, 0.2225680860000738, 0.2506818889186662, 0.15649972810645998, 0.0022716100207446164, -0.13096468174943518, -0.1826358700412797, -0.1382335440607129, -0.030841885736018544, 0.07981010339968442, 0.13881980260142648, 0.12220938621436386, 0.04564028693582465, -0.04694921110588836, -0.10756683105470208, -0.10834910847255647, -0.05381005517465, 0.023984859060907256, 0.08365032581127232], [0.09577158154964004, 0.05491202556718957, -0.01932788543000235, -0.08906325090046266, -0.11586015492109232, -0.08141329848199268, 0.0009738306127996926, 0.09089083321114294, 0.14013315565025658, 0.11777604011586752, 0.028270310898122826, -0.08749612292214297, -0.17014801594696913, -0.17109514979541934, -0.07903277128303789, 0.07010183827093616, 0.2061784643801796, 0.2563400102730029, 0.18080401871815463, -0.004215913110515241, -0.22856545626592412, -0.39598244357893553, -0.42622489689420734, -0.2926242127644853, -0.03744017720227128, 0.24300880867803662, 0.43780226922078175, 0.4684129583840573, 0.32242214992953067, 0.05887491198907235, -0.21712746254366178, -0.39921534828629784, -0.42399466300627076, -0.29541051237375787, -0.0792240541655952, 0.12877087581897034, 0.2455799958764798, 0.23539823538075702, 0.12081441070397907, -0.032657564269347995, -0.1499137997580331, -0.1810563048459778, -0.12164562286999292, -0.010210349564048503, 0.0940340148188747, 0.14124053473287576, 0.11393649197451321, 0.032570936269808205, -0.05770538770867722, -0.11120707845564833, -0.10425411975119218, -0.04517479711682324, 0.032255360808684116, 0.08754417359440915], [0.09747563471694948, 0.06384768057696963, -0.007049208111082399, -0.07985173966916323, -0.11550537190904059, -0.09176411819038024, -0.016257991397592056, 0.07522176370794928, 0.13532818775625344, 0.12904306358773007, 0.05298490441364873, -0.06011637286365964, -0.15510339062739803, -0.18054660691367944, -0.11505016730310495, 0.019407660252202565, 0.16450028494360933, 0.2506818889186662, 0.22917661128094333, 0.0957513146109, -0.10542055787501849, -0.3003162506586467, -0.417885750201407, -0.42197287899622543, -0.32729906443176787, -0.19181693290541052, -0.08887373699192957, -0.0722388011028484, -0.15051108239111077, -0.28302803533990717, -0.39921534828629784, -0.43220845214435083, -0.35084804028714445, -0.17499760171649797, 0.032898814044057145, 0.19586192453391038, 0.2567417315441088, 0.20290271423033404, 0.07010183827093616, -0.07558080422426758, -0.16865061331126227, -0.17319251476518926, -0.09668883252747353, 0.016919129954055045, 0.11051245322547638, 0.14154925463565804, 0.10095621948632197, 0.01478156540039093, -0.07105406092525876, -0.11448367723597076, -0.09748586961705513, -0.033162949084826095, 0.04291318891881724, 0.09184901403994886], [0.09802917929173674, 0.0737915341810178, 0.008227019898694314, -0.06690907749207924, -0.1125552047731455, -0.10227682924862294, -0.036903778452066216, 0.053984192453900466, 0.12525083753434577, 0.13819455031459152, 0.08069235790121831, -0.024744851147022306, -0.12967979361550958, -0.18176644422676885, -0.1499137997580331, -0.040517266401149735, 0.10335731863015635, 0.21992483146863692, 0.25562857790064414, 0.18854967763954522, 0.037372873633869375, -0.14809048863531396, -0.309992807249447, -0.407889497747319, -0.43436863670247905, -0.4137720534188708, -0.3853906832849483, -0.3801986514917913, -0.40325873487122593, -0.4308806796227811, -0.42399466300627076, -0.35084804028714445, -0.20724458052139974, -0.02359098016854476, 0.14549969299473817, 0.24458792842044305, 0.242708395806646, 0.14832776112580212, 0.0065202421682302655, -0.12058300781296416, -0.18100457917857166, -0.15510339062739803, -0.0625372076828833, 0.048843602386602625, 0.12644417385606296, 0.1373368253178257, 0.08218858749967678, -0.0073411016910038245, -0.08566874229846541, -0.11594360149554611, -0.08714981132933439, -0.017724518826640185, 0.05531860300421393, 0.09567186141491728], [0.0963956279450986, 0.08365032581127232, 0.025957776046456108, -0.04977765643346263, -0.10554182731338523, -0.11102163823080137, -0.059528143257756794, 0.02715696020194833, 0.10796654245504357, 0.14182052949746649, 0.10788472442996018, 0.016919129954055045, -0.09211958419387666, -0.16904790121688004, -0.1752665961050691, -0.10179031338845618, 0.025921773001301992, 0.15851669454452746, 0.24364050109720906, 0.24743234013685533, 0.16693195814109418, 0.02838670735216783, -0.12666669235949252, -0.26001264723920775, -0.35084804028714445, -0.3991265770886398, -0.417885750201407, -0.4200602785751461, -0.407889497747319, -0.37117570680030565, -0.29541051237375787, -0.17499760171649797, -0.02359098016854476, 0.12528500092613942, 0.22917661128094333, 0.25477004091850136, 0.1943926655354523, 0.07232710218505171, -0.0631265026963309, -0.15904136091487175, -0.1801446545297837, -0.12368964794720452, -0.019881413514163768, 0.08244017738553583, 0.13819455031459152, 0.12607850377279714, 0.0569867282767652, -0.03275482103060757, -0.09966771198612055, -0.11387812357978247, -0.07242519790685582, 0.000897882385944272, 0.06849536852786806, 0.09789330346518155], [0.09146139827941907, 0.09201074912565553, 0.04513914234015876, -0.028393247279687634, -0.09308517130345338, -0.11569649992878561, -0.08189887587784364, -0.004331277232129268, 0.08218858749967678, 0.1363763500460628, 0.12985565243905386, 0.06104787183611214, -0.04306263900144976, -0.1382335440607129, -0.1821644169794075, -0.1528102839666787, -0.05761803324395176, 0.07010183827093616, 0.18545724476618586, 0.25002327766855664, 0.2455799958764798, 0.17812580971586786, 0.07173638515428266, -0.043452159632214875, -0.1427221428215067, -0.2125937105436689, -0.24962054293732017, -0.254829433326894, -0.22856545626592412, -0.1696119802323752, -0.0792240541655952, 0.032898814044057145, 0.14549969299473817, 0.22917661128094333, 0.25639126767027576, 0.21402402107025095, 0.11212338767979044, -0.016505930263581485, -0.1271795169340972, -0.18078273088932142, -0.16021647158282734, -0.07810727158537505, 0.028270310898122826, 0.11303749901914252, 0.14165430128035572, 0.10568502973808865, 0.02560889291691396, -0.059528143257756794, -0.1106399934725709, -0.10652254474259672, -0.05280759716486464, 0.021996557754340177, 0.08108269682411075, 0.09723251194195273], [0.08218547016546035, 0.09720107998909114, 0.06421583677586362, -0.0033309781163817385, -0.07421551271398784, -0.11387812357978247, -0.10100032187268156, -0.038270832354069854, 0.047927082138306785, 0.11895031131114453, 0.14124053473287576, 0.10160219708604251, 0.013454008098850966, -0.08865678616774172, -0.163591222139663, -0.18054660691367944, -0.13096468174943518, -0.03066927919323432, 0.0878871354792479, 0.1890798565922851, 0.24707500803079696, 0.25311832399967577, 0.2152076253393881, 0.15186131748507978, 0.08393854575868848, 0.02838670735216783, -0.004215913110515241, -0.009011537058698997, 0.014627580006334946, 0.06339013493636744, 0.12877087581897034, 0.19586192453391038, 0.24458792842044305, 0.25477004091850136, 0.21402402107025095, 0.12512633286074154, 0.008653858363151095, -0.10179031338845618, -0.17109514979541934, -0.17663261032673944, -0.11853755153953284, -0.021095823102976155, 0.0762261574055931, 0.13479053491117005, 0.13297486274417653, 0.07522176370794928, -0.010333191525815334, -0.08474553874543932, -0.11583438631057284, -0.09237366190300736, -0.028393247279687634, 0.044252895575082045, 0.0913510374226154, 0.09237678309278227], [0.06780868630120103, 0.09744795333537942, 0.08108269682411075, 0.023984859060907256, -0.04876053907416855, -0.10344907333918486, -0.11329151708883223, -0.07105406092525876, 0.007086285574353929, 0.08825950348380547, 0.13710500795607788, 0.13102411582348789, 0.06974763836772843, -0.024744851147022306, -0.11749065565570795, -0.17456713788189782, -0.17572115154133375, -0.12058300781296416, -0.026665677985416577, 0.07900122348247962, 0.17037647050011584, 0.23063350923189954, 0.2554522819126627, 0.25130504004127213, 0.23071227369415245, 0.2070878465419809, 0.19103523332295086, 0.18854967763954522, 0.20049625055173417, 0.2225680860000738, 0.2455799958764798, 0.2567417315441088, 0.242708395806646, 0.1943926655354523, 0.11212338767979044, 0.008653858363151095, -0.09234546620178369, -0.16303912773542587, -0.18160802037610754, -0.14185512230149663, -0.05769048962428924, 0.040354856727262, 0.11604804811520174, 0.1416975584086681, 0.1096398066326527, 0.0356589174235028, -0.047601180630548544, -0.10466050783780126, -0.1125552047731455, -0.07061007724889509, -0.00015694927842459407, 0.06567088855510608, 0.0973172742553893, 0.08218547016546035], [0.04810649822800793, 0.09114209446724074, 0.0932278582823206, 0.05118242685144097, -0.017724518826640185, -0.08317175538274917, -0.11526126834649275, -0.09792350890563162, -0.03621721434011259, 0.04564028693582465, 0.11445612623663119, 0.14182052949746649, 0.11545896314428632, 0.043569358828744825, -0.04916880920228074, -0.1316269478872783, -0.17773339606034183, -0.1747972342928682, -0.1258888846262905, -0.046310064114579955, 0.043473546354522816, 0.12512633286074154, 0.18727640924644018, 0.22679610352037188, 0.24707500803079696, 0.25477004091850136, 0.25653555744366946, 0.2566430509401283, 0.2557406839380664, 0.2506818889186662, 0.23539823538075702, 0.20290271423033404, 0.14832776112580212, 0.07232710218505171, -0.016505930263581485, -0.10179031338845618, -0.16303912773542587, -0.18236471957976835, -0.15198770280837584, -0.07929019757294747, 0.013454008098850966, 0.09559620363699033, 0.13901492878918745, 0.12919930000974209, 0.07166040945258814, -0.009586916953213162, -0.08141329848199268, -0.11518142447701693, -0.0987590270841395, -0.0415526319790494, 0.029854746643980645, 0.08365032581127232, 0.09698515945062593, 0.06596064075292694], [0.023645221568363895, 0.07720082203239513, 0.09805214983976746, 0.07504008493420455, 0.01645508537365307, -0.05330931316864547, -0.10425411975119218, -0.11368662328968558, -0.07586614420408501, -0.004331277232129268, 0.07380308035304459, 0.1288260976817965, 0.13989120849852552, 0.1023252846896187, 0.028270310898122826, -0.05890402451081101, -0.13354819579908725, -0.17624240938958516, -0.1788278960809016, -0.14478624788034108, -0.0857896329957062, -0.016505930263581485, 0.05010748884225075, 0.10555493165712146, 0.14626024334832619, 0.17230988766358785, 0.18545724476618586, 0.18727640924644018, 0.17802983029511174, 0.15649972810645998, 0.12081441070397907, 0.07010183827093616, 0.0065202421682302655, -0.0631265026963309, -0.1271795169340972, -0.17109514979541934, -0.18160802037610754, -0.15198770280837584, -0.08633239590937543, -0.0006409754282528475, 0.08069235790121831, 0.13248789560619015, 0.13799875467416114, 0.09601951604214852, 0.02251261661707456, -0.05461588256536717, -0.1060350275635281, -0.11270162437377892, -0.07377030942693767, -0.007049208111082399, 0.05851327729467272, 0.09525157258046667, 0.08871280683982351, 0.04375117021804784], [-0.004022571499422312, 0.055478069235101436, 0.093362965105012, 0.09184901403994886, 0.04991167337855531, -0.01612101143253597, -0.07942853394297261, -0.11387812357978247, -0.10466050783780126, -0.05399038970760124, 0.020191172864757273, 0.09154187059921455, 0.13532818775625344, 0.13701916559946886, 0.09636827159298987, 0.026026147564044762, -0.054043516875550875, -0.12368964794720452, -0.16848219583369567, -0.1826358700412797, -0.16865061331126227, -0.13461888616197776, -0.0907256642328181, -0.046310064114579955, -0.00823327044894154, 0.019407660252202565, 0.03466854669458865, 0.03686485131708162, 0.025921773001301992, 0.0022716100207446164, -0.032657564269347995, -0.07558080422426758, -0.12058300781296416, -0.15904136091487175, -0.18078273088932142, -0.17663261032673944, -0.14185512230149663, -0.07929019757294747, -0.0006409754282528475, 0.07531659368730659, 0.12777380562398274, 0.1408844894381132, 0.11019018601661706, 0.04564028693582465, -0.030654457615745367, -0.09176411819038024, -0.11591664921562612, -0.09516525470659133, -0.03894579526542443, 0.029371322065773888, 0.08187428196430682, 0.09767205330200214, 0.07167038116434792, 0.016627366587580485], [-0.03230477075805424, 0.027131479712259054, 0.07798461463302095, 0.09805909273146404, 0.0777361719409314, 0.023984859060907256, -0.042590965877850995, -0.0961740316614175, -0.11592855991826022, -0.0937826290919642, -0.036903778452066216, 0.0356589174235028, 0.10035017564456081, 0.1373368253178257, 0.13650222610828716, 0.0993958462307399, 0.037104384846577534, -0.0345063152690242, -0.10007704610444179, -0.1487375524385824, -0.17584069010379264, -0.18251498442862385, -0.1738139924448547, -0.15646143337355978, -0.13698176393514344, -0.12058300781296416, -0.1107536917561867, -0.10929387900894774, -0.1164544699167505, -0.13096468174943518, -0.1499137997580331, -0.16865061331126227, -0.18100457917857166, -0.1801446545297837, -0.16021647158282734, -0.11853755153953284, -0.05769048962428924, 0.013454008098850966, 0.08069235790121831, 0.12777380562398274, 0.14141961054935853, 0.116494593021988, 0.059225639080952505, -0.013305995989680304, -0.07792653893351205, -0.11315266588975689, -0.10722877037175435, -0.06311985818605961, 0.001950958244425957, 0.06273276938439144, 0.09577158154964004, 0.08889742097267919, 0.04630326992305995, -0.013162041333957254], [-0.05773859288327425, -0.005176192314548786, 0.05236108741978671, 0.09114209446724074, 0.09479702265635812, 0.06084016493816854, 0.0014246460094314765, -0.06167766190906147, -0.10554182731338523, -0.11448367723597076, -0.08520875694531246, -0.02711743464970539, 0.0418135386612722, 0.10155901480103412, 0.1363763500460628, 0.13881980260142648, 0.11051245322547638, 0.060056532848391, -0.0006409754282528475, -0.06011637286365964, -0.11001880232017779, -0.14621488967339394, -0.16848219583369567, -0.17933114212655984, -0.18256648912965917, -0.18203822454198118, -0.18078273088932142, -0.18054660691367944, -0.18158488243001691, -0.1826358700412797, -0.1810563048459778, -0.17319251476518926, -0.15510339062739803, -0.12368964794720452, -0.07810727158537505, -0.021095823102976155, 0.040354856727262, 0.09559620363699033, 0.13248789560619015, 0.1408844894381132, 0.116494593021988, 0.06366644762597959, -0.004331277232129268, -0.0682778666994848, -0.10874502150584896, -0.11284492797003678, -0.07942853394297261, -0.020396538150183854, 0.04291318891881724, 0.08733173909600418, 0.09670612026539407, 0.06841568585835865, 0.01467175934398162, -0.04224785668517623], [-0.07643276101580226, -0.037370625709483574, 0.01897150392574176, 0.07050356160854643, 0.0969183613137812, 0.08754417359440915, 0.04513914234015876, -0.015586540465728237, -0.07377030942693767, -0.10999127699528204, -0.11271464281540354, -0.08141329848199268, -0.02569037296395049, 0.038740412097179454, 0.09538860184148468, 0.1316728268808787, 0.14159377784668595, 0.1259875650745608, 0.09083808032935944, 0.04463265266061536, -0.004215544867432353, -0.04916880920228074, -0.08633239590937543, -0.11431852907537784, -0.13354819579908725, -0.14535824620764792, -0.1511875643863488, -0.15198770280837584, -0.14790462620885408, -0.1382335440607129, -0.12164562286999292, -0.09668883252747353, -0.0625372076828833, -0.019881413514163768, 0.028270310898122826, 0.0762261574055931, 0.11604804811520174, 0.13901492878918745, 0.13799875467416114, 0.11019018601661706, 0.059225639080952505, -0.004331277232129268, -0.06485238840698221, -0.10576724108688149, -0.11488172267414411, -0.08906325090046266, -0.03632466740164732, 0.025957776046456108, 0.07655738935817358, 0.0979186203257368, 0.08288284643056047, 0.03781000303004542, -0.019483712596530867, -0.06649136479685278], [-0.08477368114599979, -0.06444842155917006, -0.017639756309770396, 0.038185302365766345, 0.08218547016546035, 0.09803711116369127, 0.07972317169664972, 0.03320771438653382, -0.026265238925836213, -0.07985173966916323, -0.11144378456228145, -0.11240472280373874, -0.08333658184516009, -0.03275482103060757, 0.026382956072391866, 0.080812940518254, 0.1203730806019293, 0.13983537623968262, 0.13901492878918745, 0.1215776487487792, 0.0932439401444546, 0.060056532848391, 0.02714993644728305, -0.0018304965737062353, -0.024744851147022306, -0.04061805672377692, -0.04916880920228074, -0.050388558043230176, -0.044284621144773315, -0.030841885736018544, -0.010210349564048503, 0.016919129954055045, 0.048843602386602625, 0.08244017738553583, 0.11303749901914252, 0.13479053491117005, 0.1416975584086681, 0.12919930000974209, 0.09601951604214852, 0.04564028693582465, -0.013305995989680304, -0.0682778666994848, -0.10576724108688149, -0.11532727675698635, -0.09343755568640384, -0.04568939089515294, 0.013903494103593827, 0.06674355254521364, 0.09567186141491728, 0.09114209446724074, 0.05513506908065889, 0.001004882413013754, -0.0510823862721347, -0.08165095643079683], [-0.08030063932478075, -0.08135833492260225, -0.05137204098274341, -0.0009337263451392674, 0.0520107047956078, 0.08889742097267919, 0.09707637805665423, 0.0737915341810178, 0.026448521520916726, -0.03051661817306503, -0.08069276552316074, -0.1107415575688542, -0.11381118218056065, -0.09051264783092683, -0.047601180630548544, 0.004788701422209339, 0.05623788871182025, 0.09851286286044308, 0.12688740043053856, 0.1402732191419091, 0.14047350854001267, 0.13102411582348789, 0.11604804811520174, 0.0993958462307399, 0.08416554906036815, 0.07255582683319996, 0.06593120909757157, 0.06496444719258307, 0.06974763836772843, 0.07981010339968442, 0.0940340148188747, 0.11051245322547638, 0.12644417385606296, 0.13819455031459152, 0.14165430128035572, 0.13297486274417653, 0.1096398066326527, 0.07166040945258814, 0.02251261661707456, -0.030654457615745367, -0.07792653893351205, -0.10874502150584896, -0.11488172267414411, -0.09343755568640384, -0.04876053907416855, 0.007707081140409774, 0.06007123122435692, 0.09263637603078959, 0.09517229620994277, 0.06688968104127718, 0.017409127991480675, -0.036037472690933776, -0.07450331768813524, -0.08429816213227917], [-0.0625638557513206, -0.08416692185825189, -0.07565218549411296, -0.039671161981710924, 0.011541099463318908, 0.06084434355515007, 0.09222867847278952, 0.09596460135634317, 0.07120318738357315, 0.025466026475194633, -0.028393247279687634, -0.07641713591002264, -0.1074585371964665, -0.11565330276600444, -0.10100032187268156, -0.0682778666994848, -0.024974302469920013, 0.020964858702894273, 0.0629299462841541, 0.09664743042586664, 0.1203730806019293, 0.13448542549215534, 0.14077417261598202, 0.14169005140042149, 0.1397291728702939, 0.13701916559946886, 0.13509259526211642, 0.13479053491117005, 0.13623371152302444, 0.13881980260142648, 0.14124053473287576, 0.14154925463565804, 0.1373368253178257, 0.12607850377279714, 0.10568502973808865, 0.07522176370794928, 0.0356589174235028, -0.009586916953213162, -0.05461588256536717, -0.09176411819038024, -0.11315266588975689, -0.11284492797003678, -0.08906325090046266, -0.04568939089515294, 0.007707081140409774, 0.057724368691431834, 0.09065731316823743, 0.09677883807155094, 0.07394461270388, 0.02905898124217343, -0.023490381593872612, -0.06626928795266238, -0.08477368114599979, -0.07281158756207441], [-0.03371368540754761, -0.07125963263357546, -0.08495074460162425, -0.06987449839556531, -0.030924222029581158, 0.01936181621259661, 0.06533580152228118, 0.093362965105012, 0.09577158154964004, 0.0725124622188363, 0.030337084159494338, -0.019862246660064285, -0.06644009854577237, -0.09999270674411341, -0.11519195003114313, -0.11120707845564833, -0.09093315086996714, -0.059528143257756794, -0.022816193832590904, 0.014009979174710536, 0.0471656583393752, 0.07451341934675718, 0.09538860184148468, 0.11019018601661706, 0.11990311351705359, 0.12566700314428403, 0.1284480140098375, 0.1288260976817965, 0.12688740043053856, 0.12220938621436386, 0.11393649197451321, 0.10095621948632197, 0.08218858749967678, 0.0569867282767652, 0.02560889291691396, -0.010333191525815334, -0.047601180630548544, -0.08141329848199268, -0.1060350275635281, -0.11591664921562612, -0.10722877037175435, -0.07942853394297261, -0.03632466740164732, 0.013903494103593827, 0.06007123122435692, 0.09065731316823743, 0.09717365687662975, 0.07720082203239513, 0.03592635023783879, -0.014662376456431921, -0.059045158753990974, -0.08307461972807811, -0.0789197156746051, -0.048187572349934774], [0.00143558137439708, -0.04422980159861082, -0.0763953998922263, -0.0843658081677389, -0.06559565514919971, -0.026001405859951046, 0.02247910977877244, 0.06596064075292694, 0.09281030402091647, 0.0966511419619441, 0.07744441556315348, 0.040653371580937785, -0.004922730661455259, -0.04977765643346263, -0.08597717858312592, -0.10856457404571711, -0.11594360149554611, -0.10940895347488573, -0.09217456730776878, -0.0682778666994848, -0.04165211977536649, -0.015522025689743025, 0.00785343411045172, 0.02715696020194833, 0.0418135386612722, 0.05172037316795184, 0.0569867282767652, 0.05773432038489801, 0.053984192453900466, 0.04564028693582465, 0.032570936269808205, 0.01478156540039093, -0.0073411016910038245, -0.03275482103060757, -0.059528143257756794, -0.08474553874543932, -0.10466050783780126, -0.11518142447701693, -0.11270162437377892, -0.09516525470659133, -0.06311985818605961, -0.020396538150183854, 0.025957776046456108, 0.06674355254521364, 0.09263637603078959, 0.09677883807155094, 0.07720082203239513, 0.038185302365766345, -0.01014008951837661, -0.054210613574645135, -0.08094889464407694, -0.08205020090150196, -0.05712320255283524, -0.014372243488363318], [0.03604197501326519, -0.00809680454054534, -0.05100726463184431, -0.07904120665496475, -0.08366676740232826, -0.06374549602341241, -0.025287194701867834, 0.020921717977151446, 0.06279386743820309, 0.09031321793877432, 0.09783635854065989, 0.08485759774636419, 0.05531860300421393, 0.015946313850788676, -0.0257326164534714, -0.06311985818605961, -0.09165325219793564, -0.1091935771365692, -0.11580379357365934, -0.11315266588975689, -0.10379316880053832, -0.09051264783092683, -0.07586614420408501, -0.06192149898024116, -0.05018568327762217, -0.04165211977536649, -0.036903778452066216, -0.03621721434011259, -0.039629656015626305, -0.04694921110588836, -0.05770538770867722, -0.07105406092525876, -0.08566874229846541, -0.09966771198612055, -0.1106399934725709, -0.11583438631057284, -0.1125552047731455, -0.0987590270841395, -0.07377030942693767, -0.03894579526542443, 0.001950958244425957, 0.04291318891881724, 0.07655738935817358, 0.09567186141491728, 0.09517229620994277, 0.07394461270388, 0.03592635023783879, -0.01014008951837661, -0.05252019780102887, -0.07958869857860314, -0.083400715550213, -0.0625638557513206, -0.023275141064602944, 0.02212429642509068], [0.0625759550831283, 0.02939294711166638, -0.01407378258821094, -0.05448491071138298, -0.07997125068097903, -0.08354484363419847, -0.06468030667853465, -0.028831318121094747, 0.01467175934398162, 0.055478069235101436, 0.08489257309205754, 0.09767205330200214, 0.09263637603078959, 0.07218796230389286, 0.041107990460406696, 0.00509866081377989, -0.03051661817306503, -0.06167766190906147, -0.08597717858312592, -0.10262009088568971, -0.1120973403357679, -0.11573535202045362, -0.11525272490010806, -0.11240472280373874, -0.10874502150584896, -0.10549589328006628, -0.10349696929612592, -0.10319723204920035, -0.10466050783780126, -0.10756683105470208, -0.11120707845564833, -0.11448367723597076, -0.11594360149554611, -0.11387812357978247, -0.10652254474259672, -0.09237366190300736, -0.07061007724889509, -0.0415526319790494, -0.007049208111082399, 0.029371322065773888, 0.06273276938439144, 0.08733173909600418, 0.0979186203257368, 0.09114209446724074, 0.06688968104127718, 0.02905898124217343, -0.014662376456431921, -0.054210613574645135, -0.07958869857860314, -0.08375993196470519, -0.06510837161352548, -0.02853908981348146, 0.015403932806595978, 0.05341194452125883], [0.07464033662197972, 0.059392786441186396, 0.025666396870910782, -0.016459324537710488, -0.05497096099983781, -0.0795155731187737, -0.08409928364180795, -0.06822319191703183, -0.03637200138534742, 0.003727466233536553, 0.04338408933584797, 0.07505113828261388, 0.09375826681275508, 0.09765709951722429, 0.08775451660503289, 0.06709752724904226, 0.039740214354108065, 0.009783129792494133, -0.01932788543000235, -0.04517479711682324, -0.06644009854577237, -0.08276326387855062, -0.09448107143366503, -0.10233849877903384, -0.10722877037175435, -0.10999127699528204, -0.11127276690328836, -0.11144378456228145, -0.11055846795247289, -0.10834910847255647, -0.10425411975119218, -0.09748586961705513, -0.08714981132933439, -0.07242519790685582, -0.05280759716486464, -0.028393247279687634, -0.00015694927842459407, 0.029854746643980645, 0.05851327729467272, 0.08187428196430682, 0.09577158154964004, 0.09670612026539407, 0.08288284643056047, 0.05513506908065889, 0.017409127991480675, -0.023490381593872612, -0.059045158753990974, -0.08094889464407694, -0.083400715550213, -0.06510837161352548, -0.030275140878170743, 0.011968152242341226, 0.04978671622176201, 0.07204461647398808], [0.06882711321544657, 0.07421185941828652, 0.05802465369994649, 0.025126386436683273, -0.015267200665244961, -0.05251348559497574, -0.07750777241019773, -0.08483496237677107, -0.07364291580549688, -0.047223897313638456, -0.011654477014887267, 0.025971607799782748, 0.05919281548607785, 0.08334020632210716, 0.09605392505278619, 0.09720107998909114, 0.08837297506796234, 0.07218796230389286, 0.051602991885690876, 0.029371322065773888, 0.007707081140409774, -0.011847056670384075, -0.028393247279687634, -0.0415526319790494, -0.05129674970157959, -0.05777919195724801, -0.061194470858196036, -0.06167766190906147, -0.05924979722673779, -0.05381005517465, -0.04517479711682324, -0.033162949084826095, -0.017724518826640185, 0.000897882385944272, 0.021996557754340177, 0.044252895575082045, 0.06567088855510608, 0.08365032581127232, 0.09525157258046667, 0.09767205330200214, 0.08889742097267919, 0.06841568585835865, 0.03781000303004542, 0.001004882413013754, -0.036037472690933776, -0.06626928795266238, -0.08307461972807811, -0.08205020090150196, -0.0625638557513206, -0.02853908981348146, 0.011968152242341226, 0.04852414951360368, 0.07108990705572928, 0.0730715826185543], [0.04604289168808653, 0.06961519921698897, 0.0741355917833892, 0.05871539568667765, 0.027807584790218224, -0.010488489547392146, -0.04688220005837039, -0.07331060566685879, -0.08467860266786147, -0.07958869857860314, -0.06006981356906526, -0.030577222184539572, 0.003337992054599261, 0.036304009675109813, 0.06407323368053625, 0.08401478551650957, 0.09517229620994277, 0.09799889404024424, 0.09391912390655559, 0.08485759774636419, 0.07283507438966245, 0.05968424318608694, 0.046894784304553426, 0.03556817328582706, 0.026448521520916726, 0.01999356337832164, 0.01645508537365307, 0.015946313850788676, 0.01848209715101521, 0.023984859060907256, 0.032255360808684116, 0.04291318891881724, 0.05531860300421393, 0.06849536852786806, 0.08108269682411075, 0.0913510374226154, 0.0973172742553893, 0.09698515945062593, 0.08871280683982351, 0.07167038116434792, 0.04630326992305995, 0.01467175934398162, -0.019483712596530867, -0.0510823862721347, -0.07450331768813524, -0.08477368114599979, -0.0789197156746051, -0.05712320255283524, -0.023275141064602944, 0.015403932806595978, 0.04978671622176201, 0.07108990705572928, 0.07340271036775807, 0.05572336410156615], [0.011777280577047597, 0.046433956511249166, 0.06922750027940155, 0.07447927078866733, 0.06134383057448895, 0.033528943348648, -0.0021280053140911165, -0.037660285837500716, -0.06592883779345551, -0.08205020090150196, -0.08405004413857464, -0.07274959951935187, -0.0510823862721347, -0.02312913047959675, 0.0068484121271995295, 0.03516969108452159, 0.05919281548607785, 0.07746346016459599, 0.08961897389930491, 0.09614226316756926, 0.09805909273146404, 0.0966511419619441, 0.0932278582823206, 0.08897253432540012, 0.08485759774636419, 0.08161243943995165, 0.07972317169664972, 0.07944526735961742, 0.08081480379672902, 0.08365032581127232, 0.08754417359440915, 0.09184901403994886, 0.09567186141491728, 0.09789330346518155, 0.09723251194195273, 0.09237678309278227, 0.08218547016546035, 0.06596064075292694, 0.04375117021804784, 0.016627366587580485, -0.013162041333957254, -0.04224785668517623, -0.06649136479685278, -0.08165095643079683, -0.08429816213227917, -0.07281158756207441, -0.048187572349934774, -0.014372243488363318, 0.02212429642509068, 0.05341194452125883, 0.07204461647398808, 0.0730715826185543, 0.05572336410156615, 0.024123542475034548]]}],\n",
       "                        {\"legend\": {\"bgcolor\": \"#151516\", \"font\": {\"color\": \"#D9D9D9\"}}, \"paper_bgcolor\": \"#151516\", \"plot_bgcolor\": \"#151516\", \"template\": {\"data\": {\"bar\": [{\"error_x\": {\"color\": \"#2a3f5f\"}, \"error_y\": {\"color\": \"#2a3f5f\"}, \"marker\": {\"line\": {\"color\": \"#E5ECF6\", \"width\": 0.5}}, \"type\": \"bar\"}], \"barpolar\": [{\"marker\": {\"line\": {\"color\": \"#E5ECF6\", \"width\": 0.5}}, \"type\": \"barpolar\"}], \"carpet\": [{\"aaxis\": {\"endlinecolor\": \"#2a3f5f\", \"gridcolor\": \"white\", \"linecolor\": \"white\", \"minorgridcolor\": \"white\", \"startlinecolor\": \"#2a3f5f\"}, \"baxis\": {\"endlinecolor\": \"#2a3f5f\", \"gridcolor\": \"white\", \"linecolor\": \"white\", \"minorgridcolor\": \"white\", \"startlinecolor\": \"#2a3f5f\"}, \"type\": \"carpet\"}], \"choropleth\": [{\"colorbar\": {\"outlinewidth\": 0, \"ticks\": \"\"}, \"type\": \"choropleth\"}], \"contour\": [{\"colorbar\": {\"outlinewidth\": 0, \"ticks\": \"\"}, \"colorscale\": [[0.0, \"#0d0887\"], [0.1111111111111111, \"#46039f\"], [0.2222222222222222, \"#7201a8\"], [0.3333333333333333, \"#9c179e\"], [0.4444444444444444, \"#bd3786\"], [0.5555555555555556, \"#d8576b\"], [0.6666666666666666, \"#ed7953\"], [0.7777777777777778, \"#fb9f3a\"], [0.8888888888888888, \"#fdca26\"], [1.0, \"#f0f921\"]], \"type\": \"contour\"}], \"contourcarpet\": [{\"colorbar\": {\"outlinewidth\": 0, \"ticks\": \"\"}, \"type\": \"contourcarpet\"}], \"heatmap\": [{\"colorbar\": {\"outlinewidth\": 0, \"ticks\": \"\"}, \"colorscale\": [[0.0, \"#0d0887\"], [0.1111111111111111, \"#46039f\"], [0.2222222222222222, \"#7201a8\"], [0.3333333333333333, \"#9c179e\"], [0.4444444444444444, \"#bd3786\"], [0.5555555555555556, \"#d8576b\"], [0.6666666666666666, \"#ed7953\"], [0.7777777777777778, \"#fb9f3a\"], [0.8888888888888888, \"#fdca26\"], [1.0, \"#f0f921\"]], \"type\": \"heatmap\"}], \"heatmapgl\": [{\"colorbar\": {\"outlinewidth\": 0, \"ticks\": \"\"}, \"colorscale\": [[0.0, \"#0d0887\"], [0.1111111111111111, \"#46039f\"], [0.2222222222222222, \"#7201a8\"], [0.3333333333333333, \"#9c179e\"], [0.4444444444444444, \"#bd3786\"], [0.5555555555555556, \"#d8576b\"], [0.6666666666666666, \"#ed7953\"], [0.7777777777777778, \"#fb9f3a\"], [0.8888888888888888, \"#fdca26\"], [1.0, \"#f0f921\"]], \"type\": \"heatmapgl\"}], \"histogram\": [{\"marker\": {\"colorbar\": {\"outlinewidth\": 0, \"ticks\": \"\"}}, \"type\": \"histogram\"}], \"histogram2d\": [{\"colorbar\": {\"outlinewidth\": 0, \"ticks\": \"\"}, \"colorscale\": [[0.0, \"#0d0887\"], [0.1111111111111111, \"#46039f\"], [0.2222222222222222, \"#7201a8\"], [0.3333333333333333, \"#9c179e\"], [0.4444444444444444, \"#bd3786\"], [0.5555555555555556, \"#d8576b\"], [0.6666666666666666, \"#ed7953\"], [0.7777777777777778, \"#fb9f3a\"], [0.8888888888888888, \"#fdca26\"], [1.0, \"#f0f921\"]], \"type\": \"histogram2d\"}], \"histogram2dcontour\": [{\"colorbar\": {\"outlinewidth\": 0, \"ticks\": \"\"}, \"colorscale\": [[0.0, \"#0d0887\"], [0.1111111111111111, \"#46039f\"], [0.2222222222222222, \"#7201a8\"], [0.3333333333333333, \"#9c179e\"], [0.4444444444444444, \"#bd3786\"], [0.5555555555555556, \"#d8576b\"], [0.6666666666666666, \"#ed7953\"], [0.7777777777777778, \"#fb9f3a\"], [0.8888888888888888, \"#fdca26\"], [1.0, \"#f0f921\"]], \"type\": \"histogram2dcontour\"}], \"mesh3d\": [{\"colorbar\": {\"outlinewidth\": 0, \"ticks\": \"\"}, \"type\": \"mesh3d\"}], \"parcoords\": [{\"line\": {\"colorbar\": {\"outlinewidth\": 0, \"ticks\": \"\"}}, \"type\": \"parcoords\"}], \"pie\": [{\"automargin\": true, \"type\": \"pie\"}], \"scatter\": [{\"marker\": {\"colorbar\": {\"outlinewidth\": 0, \"ticks\": \"\"}}, \"type\": \"scatter\"}], \"scatter3d\": [{\"line\": {\"colorbar\": {\"outlinewidth\": 0, \"ticks\": \"\"}}, \"marker\": {\"colorbar\": {\"outlinewidth\": 0, \"ticks\": \"\"}}, \"type\": \"scatter3d\"}], \"scattercarpet\": [{\"marker\": {\"colorbar\": {\"outlinewidth\": 0, \"ticks\": \"\"}}, \"type\": \"scattercarpet\"}], \"scattergeo\": [{\"marker\": {\"colorbar\": {\"outlinewidth\": 0, \"ticks\": \"\"}}, \"type\": \"scattergeo\"}], \"scattergl\": [{\"marker\": {\"colorbar\": {\"outlinewidth\": 0, \"ticks\": \"\"}}, \"type\": \"scattergl\"}], \"scattermapbox\": [{\"marker\": {\"colorbar\": {\"outlinewidth\": 0, \"ticks\": \"\"}}, \"type\": \"scattermapbox\"}], \"scatterpolar\": [{\"marker\": {\"colorbar\": {\"outlinewidth\": 0, \"ticks\": \"\"}}, \"type\": \"scatterpolar\"}], \"scatterpolargl\": [{\"marker\": {\"colorbar\": {\"outlinewidth\": 0, \"ticks\": \"\"}}, \"type\": \"scatterpolargl\"}], \"scatterternary\": [{\"marker\": {\"colorbar\": {\"outlinewidth\": 0, \"ticks\": \"\"}}, \"type\": \"scatterternary\"}], \"surface\": [{\"colorbar\": {\"outlinewidth\": 0, \"ticks\": \"\"}, \"colorscale\": [[0.0, \"#0d0887\"], [0.1111111111111111, \"#46039f\"], [0.2222222222222222, \"#7201a8\"], [0.3333333333333333, \"#9c179e\"], [0.4444444444444444, \"#bd3786\"], [0.5555555555555556, \"#d8576b\"], [0.6666666666666666, \"#ed7953\"], [0.7777777777777778, \"#fb9f3a\"], [0.8888888888888888, \"#fdca26\"], [1.0, \"#f0f921\"]], \"type\": \"surface\"}], \"table\": [{\"cells\": {\"fill\": {\"color\": \"#EBF0F8\"}, \"line\": {\"color\": \"white\"}}, \"header\": {\"fill\": {\"color\": \"#C8D4E3\"}, \"line\": {\"color\": \"white\"}}, \"type\": \"table\"}]}, \"layout\": {\"annotationdefaults\": {\"arrowcolor\": \"#2a3f5f\", \"arrowhead\": 0, \"arrowwidth\": 1}, \"coloraxis\": {\"colorbar\": {\"outlinewidth\": 0, \"ticks\": \"\"}}, \"colorscale\": {\"diverging\": [[0, \"#8e0152\"], [0.1, \"#c51b7d\"], [0.2, \"#de77ae\"], [0.3, \"#f1b6da\"], [0.4, \"#fde0ef\"], [0.5, \"#f7f7f7\"], [0.6, \"#e6f5d0\"], [0.7, \"#b8e186\"], [0.8, \"#7fbc41\"], [0.9, \"#4d9221\"], [1, \"#276419\"]], \"sequential\": [[0.0, \"#0d0887\"], [0.1111111111111111, \"#46039f\"], [0.2222222222222222, \"#7201a8\"], [0.3333333333333333, \"#9c179e\"], [0.4444444444444444, \"#bd3786\"], [0.5555555555555556, \"#d8576b\"], [0.6666666666666666, \"#ed7953\"], [0.7777777777777778, \"#fb9f3a\"], [0.8888888888888888, \"#fdca26\"], [1.0, \"#f0f921\"]], \"sequentialminus\": [[0.0, \"#0d0887\"], [0.1111111111111111, \"#46039f\"], [0.2222222222222222, \"#7201a8\"], [0.3333333333333333, \"#9c179e\"], [0.4444444444444444, \"#bd3786\"], [0.5555555555555556, \"#d8576b\"], [0.6666666666666666, \"#ed7953\"], [0.7777777777777778, \"#fb9f3a\"], [0.8888888888888888, \"#fdca26\"], [1.0, \"#f0f921\"]]}, \"colorway\": [\"#636efa\", \"#EF553B\", \"#00cc96\", \"#ab63fa\", \"#FFA15A\", \"#19d3f3\", \"#FF6692\", \"#B6E880\", \"#FF97FF\", \"#FECB52\"], \"font\": {\"color\": \"#2a3f5f\"}, \"geo\": {\"bgcolor\": \"white\", \"lakecolor\": \"white\", \"landcolor\": \"#E5ECF6\", \"showlakes\": true, \"showland\": true, \"subunitcolor\": \"white\"}, \"hoverlabel\": {\"align\": \"left\"}, \"hovermode\": \"closest\", \"mapbox\": {\"style\": \"light\"}, \"paper_bgcolor\": \"white\", \"plot_bgcolor\": \"#E5ECF6\", \"polar\": {\"angularaxis\": {\"gridcolor\": \"white\", \"linecolor\": \"white\", \"ticks\": \"\"}, \"bgcolor\": \"#E5ECF6\", \"radialaxis\": {\"gridcolor\": \"white\", \"linecolor\": \"white\", \"ticks\": \"\"}}, \"scene\": {\"xaxis\": {\"backgroundcolor\": \"#E5ECF6\", \"gridcolor\": \"white\", \"gridwidth\": 2, \"linecolor\": \"white\", \"showbackground\": true, \"ticks\": \"\", \"zerolinecolor\": \"white\"}, \"yaxis\": {\"backgroundcolor\": \"#E5ECF6\", \"gridcolor\": \"white\", \"gridwidth\": 2, \"linecolor\": \"white\", \"showbackground\": true, \"ticks\": \"\", \"zerolinecolor\": \"white\"}, \"zaxis\": {\"backgroundcolor\": \"#E5ECF6\", \"gridcolor\": \"white\", \"gridwidth\": 2, \"linecolor\": \"white\", \"showbackground\": true, \"ticks\": \"\", \"zerolinecolor\": \"white\"}}, \"shapedefaults\": {\"line\": {\"color\": \"#2a3f5f\"}}, \"ternary\": {\"aaxis\": {\"gridcolor\": \"white\", \"linecolor\": \"white\", \"ticks\": \"\"}, \"baxis\": {\"gridcolor\": \"white\", \"linecolor\": \"white\", \"ticks\": \"\"}, \"bgcolor\": \"#E5ECF6\", \"caxis\": {\"gridcolor\": \"white\", \"linecolor\": \"white\", \"ticks\": \"\"}}, \"title\": {\"x\": 0.05}, \"xaxis\": {\"automargin\": true, \"gridcolor\": \"white\", \"linecolor\": \"white\", \"ticks\": \"\", \"title\": {\"standoff\": 15}, \"zerolinecolor\": \"white\", \"zerolinewidth\": 2}, \"yaxis\": {\"automargin\": true, \"gridcolor\": \"white\", \"linecolor\": \"white\", \"ticks\": \"\", \"title\": {\"standoff\": 15}, \"zerolinecolor\": \"white\", \"zerolinewidth\": 2}}}, \"title\": {\"font\": {\"color\": \"#D9D9D9\"}}, \"xaxis\": {\"gridcolor\": \"#434343\", \"showgrid\": true, \"tickfont\": {\"color\": \"#C2C2C2\"}, \"title\": {\"font\": {\"color\": \"#D9D9D9\"}, \"text\": \"\"}, \"zerolinecolor\": \"#666570\"}, \"yaxis\": {\"gridcolor\": \"#434343\", \"showgrid\": true, \"tickfont\": {\"color\": \"#C2C2C2\"}, \"title\": {\"font\": {\"color\": \"#D9D9D9\"}, \"text\": \"\"}, \"zerolinecolor\": \"#666570\"}},\n",
       "                        {\"showLink\": true, \"linkText\": \"Export to plot.ly\", \"plotlyServerURL\": \"https://plot.ly\", \"responsive\": true}\n",
       "                    ).then(function(){\n",
       "                            \n",
       "var gd = document.getElementById('fce99543-a2e6-4686-b345-3b44f99cbcca');\n",
       "var x = new MutationObserver(function (mutations, observer) {{\n",
       "        var display = window.getComputedStyle(gd).display;\n",
       "        if (!display || display === 'none') {{\n",
       "            console.log([gd, 'removed!']);\n",
       "            Plotly.purge(gd);\n",
       "            observer.disconnect();\n",
       "        }}\n",
       "}});\n",
       "\n",
       "// Listen for the removal of the full notebook cells\n",
       "var notebookContainer = gd.closest('#notebook-container');\n",
       "if (notebookContainer) {{\n",
       "    x.observe(notebookContainer, {childList: true});\n",
       "}}\n",
       "\n",
       "// Listen for the clearing of the current output cell\n",
       "var outputEl = gd.closest('.output');\n",
       "if (outputEl) {{\n",
       "    x.observe(outputEl, {childList: true});\n",
       "}}\n",
       "\n",
       "                        })\n",
       "                };\n",
       "                });\n",
       "            </script>\n",
       "        </div>"
      ]
     },
     "metadata": {},
     "output_type": "display_data"
    }
   ],
   "source": [
    "cf.datagen.sinwave(20,0.75).iplot(kind='surface')"
   ]
  },
  {
   "cell_type": "code",
   "execution_count": 64,
   "metadata": {},
   "outputs": [
    {
     "data": {
      "application/vnd.plotly.v1+json": {
       "config": {
        "linkText": "Export to plot.ly",
        "plotlyServerURL": "https://plot.ly",
        "showLink": true
       },
       "data": [
        {
         "marker": {
          "color": [
           "rgba(255, 153, 51, 1.0)",
           "rgba(55, 128, 191, 1.0)",
           "rgba(50, 171, 96, 1.0)",
           "rgba(128, 0, 128, 1.0)",
           "rgba(219, 64, 82, 1.0)",
           "rgba(0, 128, 128, 1.0)",
           "rgba(255, 255, 51, 1.0)",
           "rgba(128, 128, 0, 1.0)",
           "rgba(251, 128, 114, 1.0)",
           "rgba(128, 177, 211, 1.0)",
           "rgba(128, 177, 211, 0.9733333333333334)",
           "rgba(255, 153, 51, 0.9733333333333334)",
           "rgba(55, 128, 191, 0.9733333333333334)",
           "rgba(50, 171, 96, 0.9733333333333334)",
           "rgba(128, 0, 128, 0.9733333333333334)",
           "rgba(219, 64, 82, 0.9733333333333334)",
           "rgba(0, 128, 128, 0.9733333333333334)",
           "rgba(255, 255, 51, 0.9733333333333334)",
           "rgba(128, 128, 0, 0.9733333333333334)",
           "rgba(251, 128, 114, 0.9733333333333334)",
           "rgba(251, 128, 114, 0.9466666666666665)",
           "rgba(128, 177, 211, 0.9466666666666665)",
           "rgba(255, 153, 51, 0.9466666666666665)",
           "rgba(55, 128, 191, 0.9466666666666665)",
           "rgba(50, 171, 96, 0.9466666666666665)",
           "rgba(128, 0, 128, 0.9466666666666665)",
           "rgba(219, 64, 82, 0.9466666666666665)",
           "rgba(0, 128, 128, 0.9466666666666665)",
           "rgba(255, 255, 51, 0.9466666666666665)",
           "rgba(128, 128, 0, 0.9466666666666665)",
           "rgba(128, 128, 0, 0.9199999999999999)",
           "rgba(251, 128, 114, 0.9199999999999999)",
           "rgba(128, 177, 211, 0.9199999999999999)",
           "rgba(255, 153, 51, 0.9199999999999999)",
           "rgba(55, 128, 191, 0.9199999999999999)",
           "rgba(50, 171, 96, 0.9199999999999999)",
           "rgba(128, 0, 128, 0.9199999999999999)",
           "rgba(219, 64, 82, 0.9199999999999999)",
           "rgba(0, 128, 128, 0.9199999999999999)",
           "rgba(255, 255, 51, 0.9199999999999999)",
           "rgba(255, 255, 51, 0.8933333333333333)",
           "rgba(128, 128, 0, 0.8933333333333333)",
           "rgba(251, 128, 114, 0.8933333333333333)",
           "rgba(128, 177, 211, 0.8933333333333333)",
           "rgba(255, 153, 51, 0.8933333333333333)",
           "rgba(55, 128, 191, 0.8933333333333333)",
           "rgba(50, 171, 96, 0.8933333333333333)",
           "rgba(128, 0, 128, 0.8933333333333333)",
           "rgba(219, 64, 82, 0.8933333333333333)",
           "rgba(0, 128, 128, 0.8933333333333333)",
           "rgba(0, 128, 128, 0.8666666666666667)",
           "rgba(255, 255, 51, 0.8666666666666667)",
           "rgba(128, 128, 0, 0.8666666666666667)",
           "rgba(251, 128, 114, 0.8666666666666667)",
           "rgba(128, 177, 211, 0.8666666666666667)",
           "rgba(255, 153, 51, 0.8666666666666667)",
           "rgba(55, 128, 191, 0.8666666666666667)",
           "rgba(50, 171, 96, 0.8666666666666667)",
           "rgba(128, 0, 128, 0.8666666666666667)",
           "rgba(219, 64, 82, 0.8666666666666667)",
           "rgba(219, 64, 82, 0.8399999999999999)",
           "rgba(0, 128, 128, 0.8399999999999999)",
           "rgba(255, 255, 51, 0.8399999999999999)",
           "rgba(128, 128, 0, 0.8399999999999999)",
           "rgba(251, 128, 114, 0.8399999999999999)",
           "rgba(128, 177, 211, 0.8399999999999999)",
           "rgba(255, 153, 51, 0.8399999999999999)",
           "rgba(55, 128, 191, 0.8399999999999999)",
           "rgba(50, 171, 96, 0.8399999999999999)",
           "rgba(128, 0, 128, 0.8399999999999999)",
           "rgba(128, 0, 128, 0.8133333333333332)",
           "rgba(219, 64, 82, 0.8133333333333332)",
           "rgba(0, 128, 128, 0.8133333333333332)",
           "rgba(255, 255, 51, 0.8133333333333332)",
           "rgba(128, 128, 0, 0.8133333333333332)",
           "rgba(251, 128, 114, 0.8133333333333332)",
           "rgba(128, 177, 211, 0.8133333333333332)",
           "rgba(255, 153, 51, 0.8133333333333332)",
           "rgba(55, 128, 191, 0.8133333333333332)",
           "rgba(50, 171, 96, 0.8133333333333332)",
           "rgba(50, 171, 96, 0.7866666666666666)",
           "rgba(128, 0, 128, 0.7866666666666666)",
           "rgba(219, 64, 82, 0.7866666666666666)",
           "rgba(0, 128, 128, 0.7866666666666666)",
           "rgba(255, 255, 51, 0.7866666666666666)",
           "rgba(128, 128, 0, 0.7866666666666666)",
           "rgba(251, 128, 114, 0.7866666666666666)",
           "rgba(128, 177, 211, 0.7866666666666666)",
           "rgba(255, 153, 51, 0.7866666666666666)",
           "rgba(55, 128, 191, 0.7866666666666666)",
           "rgba(55, 128, 191, 0.76)",
           "rgba(50, 171, 96, 0.76)",
           "rgba(128, 0, 128, 0.76)",
           "rgba(219, 64, 82, 0.76)",
           "rgba(0, 128, 128, 0.76)",
           "rgba(255, 255, 51, 0.76)",
           "rgba(128, 128, 0, 0.76)",
           "rgba(251, 128, 114, 0.76)",
           "rgba(128, 177, 211, 0.76)",
           "rgba(255, 153, 51, 0.76)",
           "rgba(255, 153, 51, 0.7333333333333332)",
           "rgba(55, 128, 191, 0.7333333333333332)",
           "rgba(50, 171, 96, 0.7333333333333332)",
           "rgba(128, 0, 128, 0.7333333333333332)",
           "rgba(219, 64, 82, 0.7333333333333332)",
           "rgba(0, 128, 128, 0.7333333333333332)",
           "rgba(255, 255, 51, 0.7333333333333332)",
           "rgba(128, 128, 0, 0.7333333333333332)",
           "rgba(251, 128, 114, 0.7333333333333332)",
           "rgba(128, 177, 211, 0.7333333333333332)",
           "rgba(128, 177, 211, 0.7066666666666666)",
           "rgba(255, 153, 51, 0.7066666666666666)",
           "rgba(55, 128, 191, 0.7066666666666666)",
           "rgba(50, 171, 96, 0.7066666666666666)",
           "rgba(128, 0, 128, 0.7066666666666666)",
           "rgba(219, 64, 82, 0.7066666666666666)",
           "rgba(0, 128, 128, 0.7066666666666666)",
           "rgba(255, 255, 51, 0.7066666666666666)",
           "rgba(128, 128, 0, 0.7066666666666666)",
           "rgba(251, 128, 114, 0.7066666666666666)",
           "rgba(251, 128, 114, 0.6799999999999999)",
           "rgba(128, 177, 211, 0.6799999999999999)",
           "rgba(255, 153, 51, 0.6799999999999999)",
           "rgba(55, 128, 191, 0.6799999999999999)",
           "rgba(50, 171, 96, 0.6799999999999999)",
           "rgba(128, 0, 128, 0.6799999999999999)",
           "rgba(219, 64, 82, 0.6799999999999999)",
           "rgba(0, 128, 128, 0.6799999999999999)",
           "rgba(255, 255, 51, 0.6799999999999999)",
           "rgba(128, 128, 0, 0.6799999999999999)",
           "rgba(128, 128, 0, 0.6533333333333333)",
           "rgba(251, 128, 114, 0.6533333333333333)",
           "rgba(128, 177, 211, 0.6533333333333333)",
           "rgba(255, 153, 51, 0.6533333333333333)",
           "rgba(55, 128, 191, 0.6533333333333333)",
           "rgba(50, 171, 96, 0.6533333333333333)",
           "rgba(128, 0, 128, 0.6533333333333333)",
           "rgba(219, 64, 82, 0.6533333333333333)",
           "rgba(0, 128, 128, 0.6533333333333333)",
           "rgba(255, 255, 51, 0.6533333333333333)",
           "rgba(255, 255, 51, 0.6266666666666665)",
           "rgba(128, 128, 0, 0.6266666666666665)",
           "rgba(251, 128, 114, 0.6266666666666665)",
           "rgba(128, 177, 211, 0.6266666666666665)",
           "rgba(255, 153, 51, 0.6266666666666665)",
           "rgba(55, 128, 191, 0.6266666666666665)",
           "rgba(50, 171, 96, 0.6266666666666665)",
           "rgba(128, 0, 128, 0.6266666666666665)",
           "rgba(219, 64, 82, 0.6266666666666665)",
           "rgba(0, 128, 128, 0.6266666666666665)",
           "rgba(0, 128, 128, 0.5999999999999999)",
           "rgba(255, 255, 51, 0.5999999999999999)",
           "rgba(128, 128, 0, 0.5999999999999999)",
           "rgba(251, 128, 114, 0.5999999999999999)",
           "rgba(128, 177, 211, 0.5999999999999999)",
           "rgba(255, 153, 51, 0.5999999999999999)",
           "rgba(55, 128, 191, 0.5999999999999999)",
           "rgba(50, 171, 96, 0.5999999999999999)",
           "rgba(128, 0, 128, 0.5999999999999999)",
           "rgba(219, 64, 82, 0.5999999999999999)",
           "rgba(219, 64, 82, 0.5733333333333333)",
           "rgba(0, 128, 128, 0.5733333333333333)",
           "rgba(255, 255, 51, 0.5733333333333333)",
           "rgba(128, 128, 0, 0.5733333333333333)",
           "rgba(251, 128, 114, 0.5733333333333333)",
           "rgba(128, 177, 211, 0.5733333333333333)",
           "rgba(255, 153, 51, 0.5733333333333333)",
           "rgba(55, 128, 191, 0.5733333333333333)",
           "rgba(50, 171, 96, 0.5733333333333333)",
           "rgba(128, 0, 128, 0.5733333333333333)",
           "rgba(128, 0, 128, 0.5466666666666666)",
           "rgba(219, 64, 82, 0.5466666666666666)",
           "rgba(0, 128, 128, 0.5466666666666666)",
           "rgba(255, 255, 51, 0.5466666666666666)",
           "rgba(128, 128, 0, 0.5466666666666666)",
           "rgba(251, 128, 114, 0.5466666666666666)",
           "rgba(128, 177, 211, 0.5466666666666666)",
           "rgba(255, 153, 51, 0.5466666666666666)",
           "rgba(55, 128, 191, 0.5466666666666666)",
           "rgba(50, 171, 96, 0.5466666666666666)",
           "rgba(50, 171, 96, 0.5199999999999998)",
           "rgba(128, 0, 128, 0.5199999999999998)",
           "rgba(219, 64, 82, 0.5199999999999998)",
           "rgba(0, 128, 128, 0.5199999999999998)",
           "rgba(255, 255, 51, 0.5199999999999998)",
           "rgba(128, 128, 0, 0.5199999999999998)",
           "rgba(251, 128, 114, 0.5199999999999998)",
           "rgba(128, 177, 211, 0.5199999999999998)",
           "rgba(255, 153, 51, 0.5199999999999998)",
           "rgba(55, 128, 191, 0.5199999999999998)",
           "rgba(55, 128, 191, 0.49333333333333323)",
           "rgba(50, 171, 96, 0.49333333333333323)",
           "rgba(128, 0, 128, 0.49333333333333323)",
           "rgba(219, 64, 82, 0.49333333333333323)",
           "rgba(0, 128, 128, 0.49333333333333323)",
           "rgba(255, 255, 51, 0.49333333333333323)",
           "rgba(128, 128, 0, 0.49333333333333323)",
           "rgba(251, 128, 114, 0.49333333333333323)",
           "rgba(128, 177, 211, 0.49333333333333323)",
           "rgba(255, 153, 51, 0.49333333333333323)",
           "rgba(255, 153, 51, 0.4666666666666666)",
           "rgba(55, 128, 191, 0.4666666666666666)",
           "rgba(50, 171, 96, 0.4666666666666666)",
           "rgba(128, 0, 128, 0.4666666666666666)",
           "rgba(219, 64, 82, 0.4666666666666666)",
           "rgba(0, 128, 128, 0.4666666666666666)",
           "rgba(255, 255, 51, 0.4666666666666666)",
           "rgba(128, 128, 0, 0.4666666666666666)",
           "rgba(251, 128, 114, 0.4666666666666666)",
           "rgba(128, 177, 211, 0.4666666666666666)",
           "rgba(128, 177, 211, 0.44)",
           "rgba(255, 153, 51, 0.44)",
           "rgba(55, 128, 191, 0.44)",
           "rgba(50, 171, 96, 0.44)",
           "rgba(128, 0, 128, 0.44)",
           "rgba(219, 64, 82, 0.44)",
           "rgba(0, 128, 128, 0.44)",
           "rgba(255, 255, 51, 0.44)",
           "rgba(128, 128, 0, 0.44)",
           "rgba(251, 128, 114, 0.44)",
           "rgba(251, 128, 114, 0.41333333333333316)",
           "rgba(128, 177, 211, 0.41333333333333316)",
           "rgba(255, 153, 51, 0.41333333333333316)",
           "rgba(55, 128, 191, 0.41333333333333316)",
           "rgba(50, 171, 96, 0.41333333333333316)",
           "rgba(128, 0, 128, 0.41333333333333316)",
           "rgba(219, 64, 82, 0.41333333333333316)",
           "rgba(0, 128, 128, 0.41333333333333316)",
           "rgba(255, 255, 51, 0.41333333333333316)",
           "rgba(128, 128, 0, 0.41333333333333316)",
           "rgba(128, 128, 0, 0.38666666666666655)",
           "rgba(251, 128, 114, 0.38666666666666655)",
           "rgba(128, 177, 211, 0.38666666666666655)",
           "rgba(255, 153, 51, 0.38666666666666655)",
           "rgba(55, 128, 191, 0.38666666666666655)",
           "rgba(50, 171, 96, 0.38666666666666655)",
           "rgba(128, 0, 128, 0.38666666666666655)",
           "rgba(219, 64, 82, 0.38666666666666655)",
           "rgba(0, 128, 128, 0.38666666666666655)",
           "rgba(255, 255, 51, 0.38666666666666655)",
           "rgba(255, 255, 51, 0.35999999999999993)",
           "rgba(128, 128, 0, 0.35999999999999993)",
           "rgba(251, 128, 114, 0.35999999999999993)",
           "rgba(128, 177, 211, 0.35999999999999993)",
           "rgba(255, 153, 51, 0.35999999999999993)",
           "rgba(55, 128, 191, 0.35999999999999993)",
           "rgba(50, 171, 96, 0.35999999999999993)",
           "rgba(128, 0, 128, 0.35999999999999993)",
           "rgba(219, 64, 82, 0.35999999999999993)",
           "rgba(0, 128, 128, 0.35999999999999993)",
           "rgba(0, 128, 128, 0.3333333333333333)",
           "rgba(255, 255, 51, 0.3333333333333333)",
           "rgba(128, 128, 0, 0.3333333333333333)",
           "rgba(251, 128, 114, 0.3333333333333333)",
           "rgba(128, 177, 211, 0.3333333333333333)",
           "rgba(255, 153, 51, 0.3333333333333333)",
           "rgba(55, 128, 191, 0.3333333333333333)",
           "rgba(50, 171, 96, 0.3333333333333333)",
           "rgba(128, 0, 128, 0.3333333333333333)",
           "rgba(219, 64, 82, 0.3333333333333333)",
           "rgba(219, 64, 82, 0.3066666666666665)",
           "rgba(0, 128, 128, 0.3066666666666665)",
           "rgba(255, 255, 51, 0.3066666666666665)",
           "rgba(128, 128, 0, 0.3066666666666665)",
           "rgba(251, 128, 114, 0.3066666666666665)",
           "rgba(128, 177, 211, 0.3066666666666665)",
           "rgba(255, 153, 51, 0.3066666666666665)",
           "rgba(55, 128, 191, 0.3066666666666665)",
           "rgba(50, 171, 96, 0.3066666666666665)",
           "rgba(128, 0, 128, 0.3066666666666665)",
           "rgba(128, 0, 128, 0.27999999999999986)",
           "rgba(219, 64, 82, 0.27999999999999986)",
           "rgba(0, 128, 128, 0.27999999999999986)",
           "rgba(255, 255, 51, 0.27999999999999986)",
           "rgba(128, 128, 0, 0.27999999999999986)",
           "rgba(251, 128, 114, 0.27999999999999986)",
           "rgba(128, 177, 211, 0.27999999999999986)",
           "rgba(255, 153, 51, 0.27999999999999986)",
           "rgba(55, 128, 191, 0.27999999999999986)",
           "rgba(50, 171, 96, 0.27999999999999986)",
           "rgba(50, 171, 96, 0.25333333333333324)",
           "rgba(128, 0, 128, 0.25333333333333324)",
           "rgba(219, 64, 82, 0.25333333333333324)",
           "rgba(0, 128, 128, 0.25333333333333324)",
           "rgba(255, 255, 51, 0.25333333333333324)",
           "rgba(128, 128, 0, 0.25333333333333324)",
           "rgba(251, 128, 114, 0.25333333333333324)",
           "rgba(128, 177, 211, 0.25333333333333324)",
           "rgba(255, 153, 51, 0.25333333333333324)",
           "rgba(55, 128, 191, 0.25333333333333324)",
           "rgba(55, 128, 191, 0.22666666666666663)",
           "rgba(50, 171, 96, 0.22666666666666663)",
           "rgba(128, 0, 128, 0.22666666666666663)",
           "rgba(219, 64, 82, 0.22666666666666663)",
           "rgba(0, 128, 128, 0.22666666666666663)",
           "rgba(255, 255, 51, 0.22666666666666663)",
           "rgba(128, 128, 0, 0.22666666666666663)",
           "rgba(251, 128, 114, 0.22666666666666663)",
           "rgba(128, 177, 211, 0.22666666666666663)",
           "rgba(255, 153, 51, 0.22666666666666663)"
          ],
          "opacity": 0.8,
          "size": [
           12,
           12,
           12,
           12,
           12,
           12,
           12,
           12,
           12,
           12,
           12,
           12,
           12,
           12,
           12,
           12,
           12,
           12,
           12,
           12,
           12,
           12,
           12,
           12,
           12,
           12,
           12,
           12,
           12,
           12,
           12,
           12,
           12,
           12,
           12,
           12,
           12,
           12,
           12,
           12,
           12,
           12,
           12,
           12,
           12,
           12,
           12,
           12,
           12,
           12,
           12,
           12,
           12,
           12,
           12,
           12,
           12,
           12,
           12,
           12,
           12,
           12,
           12,
           12,
           12,
           12,
           12,
           12,
           12,
           12,
           12,
           12,
           12,
           12,
           12,
           12,
           12,
           12,
           12,
           12,
           12,
           12,
           12,
           12,
           12,
           12,
           12,
           12,
           12,
           12,
           12,
           12,
           12,
           12,
           12,
           12,
           12,
           12,
           12,
           12,
           12,
           12,
           12,
           12,
           12,
           12,
           12,
           12,
           12,
           12,
           12,
           12,
           12,
           12,
           12,
           12,
           12,
           12,
           12,
           12,
           12,
           12,
           12,
           12,
           12,
           12,
           12,
           12,
           12,
           12,
           12,
           12,
           12,
           12,
           12,
           12,
           12,
           12,
           12,
           12,
           12,
           12,
           12,
           12,
           12,
           12,
           12,
           12,
           12,
           12,
           12,
           12,
           12,
           12,
           12,
           12,
           12,
           12,
           12,
           12,
           12,
           12,
           12,
           12,
           12,
           12,
           12,
           12,
           12,
           12,
           12,
           12,
           12,
           12,
           12,
           12,
           12,
           12,
           12,
           12,
           12,
           12,
           12,
           12,
           12,
           12,
           12,
           12,
           12,
           12,
           12,
           12,
           12,
           12,
           12,
           12,
           12,
           12,
           12,
           12,
           12,
           12,
           12,
           12,
           12,
           12,
           12,
           12,
           12,
           12,
           12,
           12,
           12,
           12,
           12,
           12,
           12,
           12,
           12,
           12,
           12,
           12,
           12,
           12,
           12,
           12,
           12,
           12,
           12,
           12,
           12,
           12,
           12,
           12,
           12,
           12,
           12,
           12,
           12,
           12,
           12,
           12,
           12,
           12,
           12,
           12,
           12,
           12,
           12,
           12,
           12,
           12,
           12,
           12,
           12,
           12,
           12,
           12,
           12,
           12,
           12,
           12,
           12,
           12,
           12,
           12,
           12,
           12,
           12,
           12,
           12,
           12,
           12,
           12,
           12,
           12,
           12,
           12,
           12,
           12,
           12,
           12,
           12,
           12,
           12,
           12,
           12,
           12,
           12,
           12,
           12,
           12,
           12,
           12,
           12,
           12,
           12,
           12,
           12,
           12
          ],
          "symbol": "circle"
         },
         "mode": "markers",
         "text": [
          "0",
          "1",
          "2",
          "3",
          "4",
          "5",
          "6",
          "7",
          "8",
          "9",
          "10",
          "11",
          "12",
          "13",
          "14",
          "15",
          "16",
          "17",
          "18",
          "19",
          "20",
          "21",
          "22",
          "23",
          "24",
          "25",
          "26",
          "27",
          "28",
          "29",
          "30",
          "31",
          "32",
          "33",
          "34",
          "35",
          "36",
          "37",
          "38",
          "39",
          "40",
          "41",
          "42",
          "43",
          "44",
          "45",
          "46",
          "47",
          "48",
          "49",
          "50",
          "51",
          "52",
          "53",
          "54",
          "55",
          "56",
          "57",
          "58",
          "59",
          "60",
          "61",
          "62",
          "63",
          "64",
          "65",
          "66",
          "67",
          "68",
          "69",
          "70",
          "71",
          "72",
          "73",
          "74",
          "75",
          "76",
          "77",
          "78",
          "79",
          "80",
          "81",
          "82",
          "83",
          "84",
          "85",
          "86",
          "87",
          "88",
          "89",
          "90",
          "91",
          "92",
          "93",
          "94",
          "95",
          "96",
          "97",
          "98",
          "99",
          "100",
          "101",
          "102",
          "103",
          "104",
          "105",
          "106",
          "107",
          "108",
          "109",
          "110",
          "111",
          "112",
          "113",
          "114",
          "115",
          "116",
          "117",
          "118",
          "119",
          "120",
          "121",
          "122",
          "123",
          "124",
          "125",
          "126",
          "127",
          "128",
          "129",
          "130",
          "131",
          "132",
          "133",
          "134",
          "135",
          "136",
          "137",
          "138",
          "139",
          "140",
          "141",
          "142",
          "143",
          "144",
          "145",
          "146",
          "147",
          "148",
          "149",
          "150",
          "151",
          "152",
          "153",
          "154",
          "155",
          "156",
          "157",
          "158",
          "159",
          "160",
          "161",
          "162",
          "163",
          "164",
          "165",
          "166",
          "167",
          "168",
          "169",
          "170",
          "171",
          "172",
          "173",
          "174",
          "175",
          "176",
          "177",
          "178",
          "179",
          "180",
          "181",
          "182",
          "183",
          "184",
          "185",
          "186",
          "187",
          "188",
          "189",
          "190",
          "191",
          "192",
          "193",
          "194",
          "195",
          "196",
          "197",
          "198",
          "199",
          "200",
          "201",
          "202",
          "203",
          "204",
          "205",
          "206",
          "207",
          "208",
          "209",
          "210",
          "211",
          "212",
          "213",
          "214",
          "215",
          "216",
          "217",
          "218",
          "219",
          "220",
          "221",
          "222",
          "223",
          "224",
          "225",
          "226",
          "227",
          "228",
          "229",
          "230",
          "231",
          "232",
          "233",
          "234",
          "235",
          "236",
          "237",
          "238",
          "239",
          "240",
          "241",
          "242",
          "243",
          "244",
          "245",
          "246",
          "247",
          "248",
          "249",
          "250",
          "251",
          "252",
          "253",
          "254",
          "255",
          "256",
          "257",
          "258",
          "259",
          "260",
          "261",
          "262",
          "263",
          "264",
          "265",
          "266",
          "267",
          "268",
          "269",
          "270",
          "271",
          "272",
          "273",
          "274",
          "275",
          "276",
          "277",
          "278",
          "279",
          "280",
          "281",
          "282",
          "283",
          "284",
          "285",
          "286",
          "287",
          "288",
          "289",
          "290",
          "291",
          "292",
          "293",
          "294",
          "295",
          "296",
          "297",
          "298",
          "299"
         ],
         "type": "scatter3d",
         "x": [
          -0.8207384243484689,
          -0.08462499758400398,
          0.7845023606096986,
          1.1797309630116806,
          -2.130271909967389,
          0.29206153433071796,
          0.60729673534001,
          0.3794927344790019,
          1.0230393487617728,
          0.7835906489130424,
          1.995872428889291,
          0.025076230106082464,
          0.6971414592452957,
          0.04479001732063516,
          -1.784804038455798,
          0.22021194244737627,
          -0.05162416926369397,
          -0.6215448640698962,
          -0.7193800120186783,
          -0.2546357924341163,
          0.8335469866036389,
          0.249170540256234,
          0.916364647674772,
          0.16035314255759037,
          -0.45161697884455315,
          -0.6930823225072643,
          1.6060465744647006,
          0.27795587693458634,
          -0.5762022978565043,
          1.540311167071319,
          0.1592620414321161,
          0.7221325762594352,
          0.40217640529158805,
          1.1142676770571283,
          0.40624574475185543,
          0.39082726260719614,
          -0.9661736724168127,
          -0.04385111169658435,
          -0.7366767933580708,
          0.72398768827973,
          -0.05012689240907907,
          0.8886002116978473,
          0.7807536683633869,
          0.7641210549010233,
          0.0008351703611490016,
          -0.41993367627675665,
          0.012134671314921502,
          -0.3578771265407001,
          -0.20083093258091692,
          0.6475483229551363,
          1.566785487477184,
          -1.16330316660902,
          -0.0714789885768534,
          -1.0505672305142821,
          0.08541357235517906,
          -1.6303980527752444,
          -1.9754951588206586,
          0.6489582338322427,
          1.3081755431551925,
          1.4590404371237382,
          0.6631509636174537,
          -0.7731709241540221,
          0.5554309833068368,
          -0.7018862263358555,
          0.3938095998708879,
          1.333444364871538,
          -0.3286721277010258,
          0.9086867761803342,
          0.08816128317718645,
          -0.7812373312247465,
          -0.679035816497397,
          -1.1808211063912954,
          -0.6090529678697649,
          1.6242728143697875,
          -1.3702502018976743,
          -0.11870674917149728,
          0.48229457870046094,
          1.6126303303465068,
          -1.2526569002080326,
          -0.35474754912268214,
          0.4688665340591218,
          -0.4999660753688341,
          1.0675483065489328,
          0.09291317622388436,
          0.9490606177102815,
          -2.2909676673195882,
          -0.892850976045415,
          -0.4123443837203446,
          -0.8315160369217844,
          -0.0666434841446456,
          1.8258473716774022,
          0.70851432985228,
          0.6352451104011677,
          -0.18058944062645588,
          -0.8318623775240777,
          1.1558769710212171,
          2.837738340400572,
          0.025272208289227355,
          0.06219336113099348,
          1.3921120320622606,
          0.22891697186929405,
          1.4284749438781996,
          0.42631407016586986,
          1.1903573999161026,
          0.4226514614142824,
          -0.48369109561497126,
          -0.36765875416397387,
          -0.2088910434729987,
          -0.3700240583821118,
          0.4156297061828638,
          -0.2656036873224418,
          -1.543868725423232,
          -0.35237031531668744,
          -0.09964663483960898,
          -0.5125942805473216,
          -1.451101642841733,
          1.2457280536003819,
          -0.3600225265838269,
          -0.7987378381555883,
          1.1171342332039096,
          0.6622818098765191,
          -0.1477007024957448,
          -0.9179269714909319,
          -1.0876218065137244,
          -1.773561439673342,
          0.6320422273086765,
          -0.05478801684495815,
          0.45025999807826017,
          1.4415512968827238,
          0.19907940057838655,
          0.29551835267603316,
          1.2754366191135307,
          0.06381087458632259,
          0.04652458254488825,
          0.5277232296212827,
          0.6014338105360431,
          -0.7961658418268669,
          0.9594039194048646,
          -0.5947862165497507,
          0.39344519880848206,
          0.012636680648886116,
          -0.0056427556661618845,
          -0.444161120752311,
          0.13910420792795308,
          1.4682517447740107,
          -0.2861944279773406,
          -0.23914441489782567,
          0.09629930957191442,
          0.615260710460895,
          0.7601320646787855,
          1.8343001575745241,
          0.6428922117585839,
          0.6466783258629409,
          -0.347240867813014,
          -1.7325768387925093,
          2.0303907828437864,
          -1.0474112283298664,
          0.8185952146007982,
          0.43644372816918386,
          -0.9865131791070509,
          -0.11700437070723357,
          -0.5832899028545041,
          -0.21871625390708654,
          -0.4619965337835824,
          -0.6542091178451876,
          -0.31063014777698833,
          1.0750653173283398,
          2.170342998847395,
          2.5865914886435357,
          1.2927035932661846,
          -2.0345672551181435,
          0.10438742822292152,
          -0.048345202940689065,
          1.0281239161887978,
          -0.9364778461161176,
          -0.6874213737702917,
          -0.5469284990075336,
          0.8749331878907294,
          1.107576986563229,
          -1.1212478538618063,
          -1.7894545953804208,
          -0.6472660647697156,
          0.939330696997151,
          0.2514476626565382,
          0.23072662168690186,
          0.3483900403056329,
          -1.167658855034703,
          0.8220440496679885,
          0.28395232791068986,
          0.38478979125625296,
          0.818969378648358,
          1.8286286353984036,
          0.8226171476389879,
          -0.36521978735877747,
          -0.9793452786044452,
          1.245907368134635,
          -0.42498360303918775,
          -0.9454735190868596,
          -0.533599600449565,
          -2.293802936898508,
          -1.6054177861910381,
          -1.0837157565204192,
          -1.2206568091012617,
          1.3264766438590994,
          0.6752941748439925,
          0.6744926038413693,
          -0.08786661060119066,
          0.5718113001019361,
          0.10553984312249816,
          0.11304359540110807,
          -0.49423280860381985,
          -0.19607913875806826,
          -0.3486401674774648,
          0.030210718843304576,
          0.5343364759918501,
          -0.871420746436422,
          -1.149809942179294,
          -0.5639983151715794,
          -0.5539230408744102,
          0.38419877603916724,
          -1.7967204215809762,
          -1.6286453839168802,
          -0.23004834327874177,
          -0.047829641559750724,
          2.8035560485090394,
          -1.3650647263641498,
          -1.9342528006541468,
          -0.1059601090392782,
          1.404583571894649,
          0.6841670525996486,
          -2.094740953448848,
          1.259366956850279,
          -1.5397505332346435,
          0.048990129276475954,
          0.331333194026446,
          0.16969624243221215,
          -0.1715267290465977,
          -0.21141070797127093,
          -0.01979865608861099,
          -0.012800769067722637,
          1.4394387837813047,
          0.27230474044262915,
          -1.8653572998446024,
          0.7817621787499842,
          -1.1417788920240508,
          -0.0042210827328354305,
          2.047709997302608,
          0.35769676428005426,
          -0.8346415725166526,
          -1.7695217449841123,
          0.8657083237075002,
          -0.6241039698108877,
          0.2926313675142785,
          0.6137387948256854,
          1.343816614771732,
          -0.8068237114346035,
          -1.7914387529397786,
          -0.06909739157277849,
          0.7378027751973306,
          -0.5127213473586159,
          -1.4638125356410918,
          -1.5842240687677023,
          -1.2920018892203624,
          0.7133922254769374,
          -0.9225046916894126,
          -0.989951623976457,
          1.0504912895585738,
          0.5592433131726854,
          0.22632825584366278,
          1.2089984325233976,
          -2.359274189607416,
          -0.5015834384421344,
          -0.7189616573687803,
          0.9039850323427184,
          0.4146974270874591,
          0.6059416933954617,
          -0.47015597361103867,
          -1.5799082741663737,
          0.7077160271506511,
          0.34113084444014546,
          1.0634896755423637,
          -0.072042507004432,
          -0.22330917689467375,
          -0.36785361792029553,
          -0.9206890154483219,
          0.35544018530268057,
          1.2239526858379357,
          0.11043968918217621,
          1.4650251748060104,
          -1.6419155137735826,
          1.753991171056114,
          0.6233685841010707,
          1.7708794565837496,
          -1.6090298505016205,
          0.5552599364149967,
          -0.627988743170011,
          -1.8701577589733456,
          1.0484019248137193,
          -0.030131920908486806,
          -0.9378086941725211
         ],
         "y": [
          0.5700358464318366,
          0.035395423828338664,
          0.45755216188528586,
          -0.4586877153253693,
          2.248556479673589,
          -1.4104195396530266,
          -2.1086841010158786,
          0.08470437732696244,
          -0.8364665916226663,
          0.42641666060369254,
          -3.1234457797427253,
          2.0392104676054683,
          0.6880637932532304,
          -0.7564709283440401,
          -0.058644686420738466,
          0.2501992840967634,
          0.3577519183294475,
          -0.23197101351273533,
          0.2781802843716983,
          1.2857873240027113,
          -0.3286950284246439,
          1.2207094274565786,
          -1.519710887163526,
          -1.2838996321659746,
          -0.46779805767784893,
          -0.7616110624864881,
          -0.11990099615511517,
          -2.311349790390364,
          -0.8667306667284541,
          -2.224254155475738,
          -0.34924037198318925,
          0.5937040476984078,
          -1.4718254803860693,
          -0.4559230506407858,
          -0.651407771019426,
          -1.285768202999309,
          -0.6344201150805101,
          -0.32215772326427305,
          0.03868757610217091,
          -0.43282585676348145,
          1.6442244628761784,
          0.808587602333838,
          -1.555751883435112,
          -0.542316826970238,
          0.6840553846043369,
          -0.35182881111543934,
          1.577673709942943,
          -0.3191296954220091,
          0.32173450192030106,
          -0.8154154952125539,
          0.4464271416540038,
          0.3495723824789872,
          -0.6443999148489616,
          -0.5678924363543266,
          -0.12878824406784936,
          1.3441387528220683,
          -0.5924200005067731,
          1.5293961457800538,
          -0.05803511393076577,
          -1.862434572451777,
          -1.4412851737500019,
          1.225836747152496,
          -0.994045880328987,
          -1.466146378447314,
          0.17768844623321328,
          0.6800724706744095,
          1.1085063366386736,
          0.8442876049868377,
          -1.1539446925646633,
          1.2532070587738178,
          1.3924242247028993,
          -2.7127578711111933,
          -0.23727545915807965,
          -2.4815657525716746,
          -1.463654736887402,
          0.6464589931186047,
          0.3294535760103377,
          0.6525978760510487,
          0.2747555776244485,
          -0.2956638449369559,
          0.3925102330838406,
          0.23593473698965717,
          -0.5332305077516785,
          -2.0809900779038144,
          1.372619223548347,
          -0.5282761278688282,
          0.429152760273548,
          2.0473023662574676,
          -0.8211632181282263,
          0.4696002998108736,
          0.9268562036199649,
          -1.1263191666920553,
          -1.5773707020736618,
          0.9838492605810966,
          -0.08372782870069573,
          0.2087582907314267,
          0.4550366855428308,
          -1.3427614238389705,
          -1.5766147573707963,
          -1.2084879172154734,
          1.3672984774364174,
          0.2825393188021175,
          0.4394139011884541,
          1.482978361107393,
          1.3351932753704872,
          -0.22269616624583086,
          0.22227038266743993,
          -0.26876825757969247,
          -1.5355477935170105,
          0.5567906478431104,
          1.2034751802151136,
          0.20505838438782592,
          0.7323134270748216,
          0.4341207733367733,
          -1.0700904538989282,
          0.5269574676273499,
          -0.19622745941030859,
          0.9919629946196201,
          -1.409352469846528,
          -1.03139756645423,
          -0.3426958088328142,
          -1.5912476164240335,
          1.7511633662727168,
          -0.7714380752633545,
          0.25169436116279387,
          -0.07145781797485382,
          -1.1629507159571955,
          -0.48092150627589025,
          -1.4148905831844845,
          -0.48914235169390685,
          1.1313121783806974,
          0.6995721633362518,
          -0.9393429586792011,
          -1.2568790200943782,
          -0.9373522598446501,
          -1.0167248806207456,
          -0.7734780106184511,
          0.24071287805524638,
          0.3867984600496934,
          0.9813480784690556,
          0.1877309908290135,
          1.251752442231116,
          1.5162784754598622,
          -1.247578317101606,
          1.1835452896570493,
          -1.480535455549345,
          -0.0761857453003499,
          0.16207151863477604,
          0.688079471737268,
          -2.3466762582517937,
          -0.08587943496863973,
          -1.9776436645988484,
          -0.4122236022430043,
          0.19575039486091286,
          -1.3299297040936702,
          1.2097962205100234,
          0.9249390342946139,
          0.04219845221076288,
          -0.5576993866862545,
          -1.0521577252040708,
          0.8215100913408667,
          -1.4101746788536154,
          -0.13875178847656214,
          1.39636234509967,
          -0.14028208188382563,
          0.3860401812477554,
          1.2953874764287328,
          -1.652612000582423,
          0.26789746456117536,
          1.1119895004636775,
          -1.3897989668500819,
          1.309117022143498,
          -0.26986812234826946,
          -0.6187645737434974,
          0.10134601837857567,
          -0.36697865387748496,
          -2.2830618281655854,
          -0.4520954531311351,
          -0.7512839817308928,
          -0.44313309762388425,
          0.1733268036331487,
          -0.10864967386404246,
          -1.066756911036478,
          -0.3737950858468638,
          0.9157978008260275,
          0.7315311741954188,
          0.40480836895063416,
          0.8048484581588614,
          -1.1189888384796944,
          1.062981883407365,
          0.5842241043106599,
          -0.7384147614183129,
          1.4646314374650253,
          -1.5701762059560445,
          0.045574056467792376,
          -1.2834557365958446,
          -0.19424809275536697,
          0.14846815582426076,
          -0.3570383928992543,
          0.37431831103482216,
          -0.9588527474705091,
          0.5946702524344604,
          -0.31102901440624886,
          0.35651201309173447,
          -1.1124442522926434,
          0.5488358901359223,
          0.36700225287668076,
          -0.5121731322087326,
          0.9742419943945078,
          1.6806309898777199,
          -0.8129195821430906,
          -0.20712359229456656,
          -0.7508057338322378,
          0.6004866754757356,
          0.050722969493749374,
          0.6993801880310465,
          -1.0997910396725579,
          -0.17626814973714022,
          0.6010369925506118,
          -0.9233834887519616,
          -1.0408768573480172,
          1.989972692378659,
          -0.18711345635427898,
          -0.5592256757008037,
          -0.12501046487746184,
          0.1802385023226364,
          0.6963036750043755,
          0.046432202714869225,
          -0.4302621457460398,
          0.22993154532805032,
          0.052198767724405314,
          -1.0385697988716331,
          -0.4656787884506683,
          -1.5189903083194372,
          1.4622096020216295,
          -1.7769170198052169,
          -0.019402634790453635,
          0.39901022964652566,
          -0.1876811688258166,
          0.745445558577095,
          0.8731711246944273,
          0.9522615024650944,
          1.3152989715832144,
          0.6378297024754026,
          0.8156260469155743,
          -0.6024731910656854,
          -0.2092653016466741,
          1.176748591006104,
          0.16340661193401687,
          0.3036288548511992,
          -0.17881802947857225,
          1.3321774630356087,
          0.8984665992520465,
          2.3766148692501936,
          1.124918756274602,
          -0.7097863166193021,
          0.6836484308491875,
          -0.5014708594169908,
          0.01363609664218702,
          -0.5474987389854905,
          -0.9972798949263757,
          0.6168708207566387,
          0.12993916974189723,
          -0.02343545533920747,
          0.015130918178869008,
          0.10327731142557188,
          -0.43263590815919933,
          0.8038728781774871,
          0.6507062756104323,
          0.33504163756198374,
          0.06106695048140284,
          0.26094136971658394,
          -0.007047149405094116,
          0.3204483502614951,
          -0.17780633117293232,
          -1.4725410469076172,
          -1.106042371693869,
          -0.165991587065188,
          0.7405849186230807,
          0.2690844247259337,
          0.6239784398124335,
          0.44247045814097075,
          0.12785890575962025,
          1.8010720990713147,
          -0.09519395672827533,
          1.8977087735429654,
          0.3625937584271333,
          0.3101291165438562,
          1.138743067220896,
          0.778836789005781,
          0.2251464363531364,
          -0.9403208046085401,
          1.3503215083047435,
          -1.8904322018786546,
          -0.7543084823953193,
          0.30538657576896344,
          -0.7454759391232134,
          0.6390476206198427,
          -0.38444058022211236,
          0.4659630353461671
         ],
         "z": [
          0.07892259442199936,
          -1.9032888814113134,
          -1.223417276401099,
          0.19001991625778392,
          -0.5406752680994532,
          0.0996677392330254,
          0.047892170137516336,
          -0.08428763919139491,
          -1.0672114442067737,
          0.6610753288639266,
          -0.4585126244568822,
          -1.6933311151419856,
          0.8308418326727534,
          0.4934640345263196,
          0.05135017744501654,
          0.0724946613186868,
          0.25167536828022036,
          1.2230362872904499,
          -1.1719322329540574,
          -0.6299956783019732,
          2.1506516559967204,
          0.2033067366723847,
          1.4960470369475938,
          -1.8074829340481882,
          2.092378589107251,
          -0.522172525970859,
          -0.3546868034870746,
          -0.2784373817532561,
          -1.219980874248172,
          -1.4713452458118148,
          -2.216322905948387,
          -0.1275317820486059,
          0.7296161121005978,
          -1.8159097935789814,
          1.0549133229677838,
          1.2028681982935214,
          -0.4585265236186237,
          1.57580710984236,
          -0.10711540960808176,
          -2.4191768661460413,
          1.4354273614539093,
          0.2627966214788667,
          0.8912872149365642,
          -0.64307670318964,
          -0.9436700005904607,
          -3.164702134395776,
          -0.6661695914525536,
          0.6396873589687301,
          2.4405478922524293,
          1.5657457654271745,
          0.2058089413038598,
          0.21332037959821243,
          0.09728755474518062,
          -0.4447992353292121,
          2.1192887907001814,
          -0.6815244547650865,
          -0.3999481462442117,
          0.6346276696593307,
          0.4126094299252109,
          0.3817931010211812,
          -0.9615564201838657,
          -0.07263859844145563,
          0.43250555534836876,
          -0.9692138180177606,
          1.0738657635089495,
          0.7347038443864963,
          2.258342239232904,
          -0.5089779713003817,
          -0.6760923699794391,
          0.12991136082299254,
          -0.9034847067119178,
          -2.2777544196044355,
          -1.3571033092292082,
          0.14897288850803353,
          -0.01950844693207444,
          -0.986289737770279,
          -0.1156294994681809,
          0.7255175605085271,
          0.23214205612679223,
          1.6797798239623147,
          -0.7039638509271605,
          0.353634693813128,
          -0.04976317623594597,
          0.46734390981640833,
          1.2838585172603343,
          0.6425987412195965,
          0.6354934180252416,
          1.543180767505768,
          0.5666026986426819,
          -1.0782727560897118,
          -0.3414928949550914,
          -2.52338364207915,
          0.178181649199812,
          0.8802305252311345,
          0.13702362558942535,
          -0.4916963630934555,
          -1.0068237338779233,
          -0.495229851828235,
          0.2623737436215979,
          0.4093316790628588,
          1.014111522543369,
          1.657757918016832,
          0.2826116091264656,
          0.2546099623276414,
          0.9657727216493499,
          0.7564200828998316,
          -0.3127366259112923,
          -1.1215802105991783,
          0.5295552366567096,
          -0.21921568864552318,
          -0.02644332768154236,
          -0.8809130770043146,
          -0.5371658569059675,
          0.32048706485943573,
          0.38153654683254506,
          -0.1724056723793175,
          0.16555969641904816,
          1.0315385202064813,
          0.004530183456840831,
          0.6088516543947737,
          -1.1096366312359185,
          0.3315465552012246,
          1.2853156718668117,
          -1.108161293283339,
          -1.3622445660569356,
          0.6298799213359448,
          0.5167620380513643,
          0.846840746572654,
          -0.3350653186619055,
          -1.3534992116126425,
          0.08781090191154073,
          -0.9165141807541183,
          0.6909437547660383,
          0.6660651299982788,
          0.2664296679884047,
          -0.6733603385923893,
          1.5222665555140134,
          -1.4253589408882623,
          0.13610452686824043,
          0.8175184145843438,
          0.2495266044435156,
          0.4430316977841397,
          0.9939213705068112,
          -0.5736755200373289,
          0.6830901093672327,
          0.02080152573961722,
          0.02297047499603657,
          0.34469345699275655,
          -1.4853040738766476,
          0.41296291859661194,
          -0.23667628211939928,
          -0.3682514887399483,
          0.2912115094216216,
          1.8794694624326447,
          0.914230252373182,
          -1.1546613952453368,
          -1.099240097105995,
          -0.45200961428439645,
          -0.6384292484598294,
          0.34658357856209465,
          0.536707935640351,
          -0.6958420172993733,
          -1.1930470802233586,
          1.282221828610961,
          0.7276632995292834,
          1.6923985066175375,
          -0.4779956602367823,
          0.24237430976266597,
          -0.3571341716790908,
          -0.7358457596289981,
          0.7949955488238856,
          1.1233275362719048,
          -1.5679326688403186,
          -0.05686177816649202,
          0.12423297911830822,
          0.502456669511321,
          0.23827940231090847,
          0.7029998960548169,
          -0.7433063163723824,
          -0.26553366954485785,
          -0.23950234931798237,
          -1.089449707714066,
          1.2710828487903594,
          0.49820665831241473,
          -0.5150937365957825,
          0.14428982950079403,
          -0.09988087021169184,
          -0.9040442449672194,
          2.292036937217952,
          -0.6282921454126388,
          -1.0304203631475604,
          0.9551965771647625,
          0.633552644315718,
          -0.6524808613283085,
          -0.9356968715037313,
          0.8125345163380346,
          -0.08736323826468183,
          1.3990734419428321,
          0.10925517196424007,
          -1.9327515853552821,
          0.594811613658437,
          1.4272813855569837,
          -1.488759202224325,
          -0.49872519329756554,
          -1.1400949567613823,
          1.1237994624202043,
          -0.4786853414239646,
          0.9017159114727481,
          -0.20959225125686282,
          0.07204206994624457,
          -0.02285186401576416,
          -1.490161801072028,
          -0.5472028353543551,
          -1.5255670205543264,
          -0.2862653631538464,
          -0.5128314985352924,
          -0.5853124827813929,
          0.30439546698740244,
          -0.6087307111620818,
          0.7373086466987991,
          -1.1493229500831774,
          0.4157956827607576,
          -0.40234317166288663,
          -0.6630289945638863,
          1.731368076824971,
          1.1744781600560852,
          -1.12433700267105,
          0.1077366380705537,
          1.5242759689562482,
          -0.4601718634623691,
          -0.7044801547681522,
          -0.42176462418936256,
          -2.0553183661197587,
          0.00932050891365595,
          -0.6411931099572449,
          -0.14182778725206746,
          1.332644994261714,
          1.0952827853289824,
          0.9671721713801861,
          -0.007620292915853323,
          0.054602268488938385,
          1.068599034694162,
          0.8980748816255707,
          -0.08902174904886696,
          -0.05737428695392132,
          -0.08275252738422997,
          -0.9480993517823284,
          -0.7885897989523393,
          -0.15232966508342669,
          0.9233241850363686,
          -1.055200717871376,
          -1.363722934681334,
          -0.5235152149364203,
          0.5221863796804602,
          1.667939253520856,
          2.3030447959581926,
          1.184846773205757,
          0.2928044401746601,
          -0.09695651923972663,
          1.1201435976476761,
          0.16807011724576867,
          0.3757170094325389,
          -0.7869191255438238,
          1.0513144004467856,
          0.6594732624758941,
          1.4419590033770175,
          0.32695248299649987,
          -0.2550101344745455,
          0.18110893216036847,
          -1.0117500794898229,
          0.514700415959658,
          0.36440890112773106,
          1.1082020894356521,
          -2.997535368141814,
          -0.07065641043442379,
          -0.07770628829940293,
          0.02623448072221149,
          -0.3666860298633207,
          0.6443264030135444,
          -0.2707309568685135,
          -1.067215942795697,
          -0.38596204083001295,
          0.7426396710889793,
          -1.044577526575335,
          -1.6423985848970735,
          -1.2935382356245844,
          -1.9866447267476854,
          0.11963215561306809,
          0.693981593417533,
          1.457954037875272,
          1.7926819857649896,
          0.03852046772048211,
          0.405037678810211,
          -1.230972060209546,
          0.865413891932986,
          1.110506001958213,
          -0.11893552068048541,
          0.021078854517308142,
          -0.6080652225493388,
          1.5757492491965015
         ]
        }
       ],
       "layout": {
        "legend": {
         "bgcolor": "#151516",
         "font": {
          "color": "#D9D9D9"
         }
        },
        "paper_bgcolor": "#151516",
        "plot_bgcolor": "#151516",
        "scene": {
         "xaxis": {
          "gridcolor": "#434343",
          "showgrid": true,
          "tickfont": {
           "color": "#C2C2C2"
          },
          "title": {
           "font": {
            "color": "#D9D9D9"
           },
           "text": ""
          },
          "zerolinecolor": "#666570"
         },
         "yaxis": {
          "gridcolor": "#434343",
          "showgrid": true,
          "tickfont": {
           "color": "#C2C2C2"
          },
          "title": {
           "font": {
            "color": "#D9D9D9"
           },
           "text": ""
          },
          "zerolinecolor": "#666570"
         },
         "zaxis": {
          "gridcolor": "#434343",
          "showgrid": true,
          "tickfont": {
           "color": "#C2C2C2"
          },
          "title": {
           "font": {
            "color": "#D9D9D9"
           },
           "text": ""
          },
          "zerolinecolor": "#666570"
         }
        },
        "template": {
         "data": {
          "bar": [
           {
            "error_x": {
             "color": "#2a3f5f"
            },
            "error_y": {
             "color": "#2a3f5f"
            },
            "marker": {
             "line": {
              "color": "#E5ECF6",
              "width": 0.5
             }
            },
            "type": "bar"
           }
          ],
          "barpolar": [
           {
            "marker": {
             "line": {
              "color": "#E5ECF6",
              "width": 0.5
             }
            },
            "type": "barpolar"
           }
          ],
          "carpet": [
           {
            "aaxis": {
             "endlinecolor": "#2a3f5f",
             "gridcolor": "white",
             "linecolor": "white",
             "minorgridcolor": "white",
             "startlinecolor": "#2a3f5f"
            },
            "baxis": {
             "endlinecolor": "#2a3f5f",
             "gridcolor": "white",
             "linecolor": "white",
             "minorgridcolor": "white",
             "startlinecolor": "#2a3f5f"
            },
            "type": "carpet"
           }
          ],
          "choropleth": [
           {
            "colorbar": {
             "outlinewidth": 0,
             "ticks": ""
            },
            "type": "choropleth"
           }
          ],
          "contour": [
           {
            "colorbar": {
             "outlinewidth": 0,
             "ticks": ""
            },
            "colorscale": [
             [
              0,
              "#0d0887"
             ],
             [
              0.1111111111111111,
              "#46039f"
             ],
             [
              0.2222222222222222,
              "#7201a8"
             ],
             [
              0.3333333333333333,
              "#9c179e"
             ],
             [
              0.4444444444444444,
              "#bd3786"
             ],
             [
              0.5555555555555556,
              "#d8576b"
             ],
             [
              0.6666666666666666,
              "#ed7953"
             ],
             [
              0.7777777777777778,
              "#fb9f3a"
             ],
             [
              0.8888888888888888,
              "#fdca26"
             ],
             [
              1,
              "#f0f921"
             ]
            ],
            "type": "contour"
           }
          ],
          "contourcarpet": [
           {
            "colorbar": {
             "outlinewidth": 0,
             "ticks": ""
            },
            "type": "contourcarpet"
           }
          ],
          "heatmap": [
           {
            "colorbar": {
             "outlinewidth": 0,
             "ticks": ""
            },
            "colorscale": [
             [
              0,
              "#0d0887"
             ],
             [
              0.1111111111111111,
              "#46039f"
             ],
             [
              0.2222222222222222,
              "#7201a8"
             ],
             [
              0.3333333333333333,
              "#9c179e"
             ],
             [
              0.4444444444444444,
              "#bd3786"
             ],
             [
              0.5555555555555556,
              "#d8576b"
             ],
             [
              0.6666666666666666,
              "#ed7953"
             ],
             [
              0.7777777777777778,
              "#fb9f3a"
             ],
             [
              0.8888888888888888,
              "#fdca26"
             ],
             [
              1,
              "#f0f921"
             ]
            ],
            "type": "heatmap"
           }
          ],
          "heatmapgl": [
           {
            "colorbar": {
             "outlinewidth": 0,
             "ticks": ""
            },
            "colorscale": [
             [
              0,
              "#0d0887"
             ],
             [
              0.1111111111111111,
              "#46039f"
             ],
             [
              0.2222222222222222,
              "#7201a8"
             ],
             [
              0.3333333333333333,
              "#9c179e"
             ],
             [
              0.4444444444444444,
              "#bd3786"
             ],
             [
              0.5555555555555556,
              "#d8576b"
             ],
             [
              0.6666666666666666,
              "#ed7953"
             ],
             [
              0.7777777777777778,
              "#fb9f3a"
             ],
             [
              0.8888888888888888,
              "#fdca26"
             ],
             [
              1,
              "#f0f921"
             ]
            ],
            "type": "heatmapgl"
           }
          ],
          "histogram": [
           {
            "marker": {
             "colorbar": {
              "outlinewidth": 0,
              "ticks": ""
             }
            },
            "type": "histogram"
           }
          ],
          "histogram2d": [
           {
            "colorbar": {
             "outlinewidth": 0,
             "ticks": ""
            },
            "colorscale": [
             [
              0,
              "#0d0887"
             ],
             [
              0.1111111111111111,
              "#46039f"
             ],
             [
              0.2222222222222222,
              "#7201a8"
             ],
             [
              0.3333333333333333,
              "#9c179e"
             ],
             [
              0.4444444444444444,
              "#bd3786"
             ],
             [
              0.5555555555555556,
              "#d8576b"
             ],
             [
              0.6666666666666666,
              "#ed7953"
             ],
             [
              0.7777777777777778,
              "#fb9f3a"
             ],
             [
              0.8888888888888888,
              "#fdca26"
             ],
             [
              1,
              "#f0f921"
             ]
            ],
            "type": "histogram2d"
           }
          ],
          "histogram2dcontour": [
           {
            "colorbar": {
             "outlinewidth": 0,
             "ticks": ""
            },
            "colorscale": [
             [
              0,
              "#0d0887"
             ],
             [
              0.1111111111111111,
              "#46039f"
             ],
             [
              0.2222222222222222,
              "#7201a8"
             ],
             [
              0.3333333333333333,
              "#9c179e"
             ],
             [
              0.4444444444444444,
              "#bd3786"
             ],
             [
              0.5555555555555556,
              "#d8576b"
             ],
             [
              0.6666666666666666,
              "#ed7953"
             ],
             [
              0.7777777777777778,
              "#fb9f3a"
             ],
             [
              0.8888888888888888,
              "#fdca26"
             ],
             [
              1,
              "#f0f921"
             ]
            ],
            "type": "histogram2dcontour"
           }
          ],
          "mesh3d": [
           {
            "colorbar": {
             "outlinewidth": 0,
             "ticks": ""
            },
            "type": "mesh3d"
           }
          ],
          "parcoords": [
           {
            "line": {
             "colorbar": {
              "outlinewidth": 0,
              "ticks": ""
             }
            },
            "type": "parcoords"
           }
          ],
          "pie": [
           {
            "automargin": true,
            "type": "pie"
           }
          ],
          "scatter": [
           {
            "marker": {
             "colorbar": {
              "outlinewidth": 0,
              "ticks": ""
             }
            },
            "type": "scatter"
           }
          ],
          "scatter3d": [
           {
            "line": {
             "colorbar": {
              "outlinewidth": 0,
              "ticks": ""
             }
            },
            "marker": {
             "colorbar": {
              "outlinewidth": 0,
              "ticks": ""
             }
            },
            "type": "scatter3d"
           }
          ],
          "scattercarpet": [
           {
            "marker": {
             "colorbar": {
              "outlinewidth": 0,
              "ticks": ""
             }
            },
            "type": "scattercarpet"
           }
          ],
          "scattergeo": [
           {
            "marker": {
             "colorbar": {
              "outlinewidth": 0,
              "ticks": ""
             }
            },
            "type": "scattergeo"
           }
          ],
          "scattergl": [
           {
            "marker": {
             "colorbar": {
              "outlinewidth": 0,
              "ticks": ""
             }
            },
            "type": "scattergl"
           }
          ],
          "scattermapbox": [
           {
            "marker": {
             "colorbar": {
              "outlinewidth": 0,
              "ticks": ""
             }
            },
            "type": "scattermapbox"
           }
          ],
          "scatterpolar": [
           {
            "marker": {
             "colorbar": {
              "outlinewidth": 0,
              "ticks": ""
             }
            },
            "type": "scatterpolar"
           }
          ],
          "scatterpolargl": [
           {
            "marker": {
             "colorbar": {
              "outlinewidth": 0,
              "ticks": ""
             }
            },
            "type": "scatterpolargl"
           }
          ],
          "scatterternary": [
           {
            "marker": {
             "colorbar": {
              "outlinewidth": 0,
              "ticks": ""
             }
            },
            "type": "scatterternary"
           }
          ],
          "surface": [
           {
            "colorbar": {
             "outlinewidth": 0,
             "ticks": ""
            },
            "colorscale": [
             [
              0,
              "#0d0887"
             ],
             [
              0.1111111111111111,
              "#46039f"
             ],
             [
              0.2222222222222222,
              "#7201a8"
             ],
             [
              0.3333333333333333,
              "#9c179e"
             ],
             [
              0.4444444444444444,
              "#bd3786"
             ],
             [
              0.5555555555555556,
              "#d8576b"
             ],
             [
              0.6666666666666666,
              "#ed7953"
             ],
             [
              0.7777777777777778,
              "#fb9f3a"
             ],
             [
              0.8888888888888888,
              "#fdca26"
             ],
             [
              1,
              "#f0f921"
             ]
            ],
            "type": "surface"
           }
          ],
          "table": [
           {
            "cells": {
             "fill": {
              "color": "#EBF0F8"
             },
             "line": {
              "color": "white"
             }
            },
            "header": {
             "fill": {
              "color": "#C8D4E3"
             },
             "line": {
              "color": "white"
             }
            },
            "type": "table"
           }
          ]
         },
         "layout": {
          "annotationdefaults": {
           "arrowcolor": "#2a3f5f",
           "arrowhead": 0,
           "arrowwidth": 1
          },
          "coloraxis": {
           "colorbar": {
            "outlinewidth": 0,
            "ticks": ""
           }
          },
          "colorscale": {
           "diverging": [
            [
             0,
             "#8e0152"
            ],
            [
             0.1,
             "#c51b7d"
            ],
            [
             0.2,
             "#de77ae"
            ],
            [
             0.3,
             "#f1b6da"
            ],
            [
             0.4,
             "#fde0ef"
            ],
            [
             0.5,
             "#f7f7f7"
            ],
            [
             0.6,
             "#e6f5d0"
            ],
            [
             0.7,
             "#b8e186"
            ],
            [
             0.8,
             "#7fbc41"
            ],
            [
             0.9,
             "#4d9221"
            ],
            [
             1,
             "#276419"
            ]
           ],
           "sequential": [
            [
             0,
             "#0d0887"
            ],
            [
             0.1111111111111111,
             "#46039f"
            ],
            [
             0.2222222222222222,
             "#7201a8"
            ],
            [
             0.3333333333333333,
             "#9c179e"
            ],
            [
             0.4444444444444444,
             "#bd3786"
            ],
            [
             0.5555555555555556,
             "#d8576b"
            ],
            [
             0.6666666666666666,
             "#ed7953"
            ],
            [
             0.7777777777777778,
             "#fb9f3a"
            ],
            [
             0.8888888888888888,
             "#fdca26"
            ],
            [
             1,
             "#f0f921"
            ]
           ],
           "sequentialminus": [
            [
             0,
             "#0d0887"
            ],
            [
             0.1111111111111111,
             "#46039f"
            ],
            [
             0.2222222222222222,
             "#7201a8"
            ],
            [
             0.3333333333333333,
             "#9c179e"
            ],
            [
             0.4444444444444444,
             "#bd3786"
            ],
            [
             0.5555555555555556,
             "#d8576b"
            ],
            [
             0.6666666666666666,
             "#ed7953"
            ],
            [
             0.7777777777777778,
             "#fb9f3a"
            ],
            [
             0.8888888888888888,
             "#fdca26"
            ],
            [
             1,
             "#f0f921"
            ]
           ]
          },
          "colorway": [
           "#636efa",
           "#EF553B",
           "#00cc96",
           "#ab63fa",
           "#FFA15A",
           "#19d3f3",
           "#FF6692",
           "#B6E880",
           "#FF97FF",
           "#FECB52"
          ],
          "font": {
           "color": "#2a3f5f"
          },
          "geo": {
           "bgcolor": "white",
           "lakecolor": "white",
           "landcolor": "#E5ECF6",
           "showlakes": true,
           "showland": true,
           "subunitcolor": "white"
          },
          "hoverlabel": {
           "align": "left"
          },
          "hovermode": "closest",
          "mapbox": {
           "style": "light"
          },
          "paper_bgcolor": "white",
          "plot_bgcolor": "#E5ECF6",
          "polar": {
           "angularaxis": {
            "gridcolor": "white",
            "linecolor": "white",
            "ticks": ""
           },
           "bgcolor": "#E5ECF6",
           "radialaxis": {
            "gridcolor": "white",
            "linecolor": "white",
            "ticks": ""
           }
          },
          "scene": {
           "xaxis": {
            "backgroundcolor": "#E5ECF6",
            "gridcolor": "white",
            "gridwidth": 2,
            "linecolor": "white",
            "showbackground": true,
            "ticks": "",
            "zerolinecolor": "white"
           },
           "yaxis": {
            "backgroundcolor": "#E5ECF6",
            "gridcolor": "white",
            "gridwidth": 2,
            "linecolor": "white",
            "showbackground": true,
            "ticks": "",
            "zerolinecolor": "white"
           },
           "zaxis": {
            "backgroundcolor": "#E5ECF6",
            "gridcolor": "white",
            "gridwidth": 2,
            "linecolor": "white",
            "showbackground": true,
            "ticks": "",
            "zerolinecolor": "white"
           }
          },
          "shapedefaults": {
           "line": {
            "color": "#2a3f5f"
           }
          },
          "ternary": {
           "aaxis": {
            "gridcolor": "white",
            "linecolor": "white",
            "ticks": ""
           },
           "baxis": {
            "gridcolor": "white",
            "linecolor": "white",
            "ticks": ""
           },
           "bgcolor": "#E5ECF6",
           "caxis": {
            "gridcolor": "white",
            "linecolor": "white",
            "ticks": ""
           }
          },
          "title": {
           "x": 0.05
          },
          "xaxis": {
           "automargin": true,
           "gridcolor": "white",
           "linecolor": "white",
           "ticks": "",
           "title": {
            "standoff": 15
           },
           "zerolinecolor": "white",
           "zerolinewidth": 2
          },
          "yaxis": {
           "automargin": true,
           "gridcolor": "white",
           "linecolor": "white",
           "ticks": "",
           "title": {
            "standoff": 15
           },
           "zerolinecolor": "white",
           "zerolinewidth": 2
          }
         }
        },
        "title": {
         "font": {
          "color": "#D9D9D9"
         }
        }
       }
      },
      "text/html": [
       "<div>\n",
       "        \n",
       "        \n",
       "            <div id=\"71c8ad17-3da3-46ff-9613-cffad55b80d6\" class=\"plotly-graph-div\" style=\"height:525px; width:100%;\"></div>\n",
       "            <script type=\"text/javascript\">\n",
       "                require([\"plotly\"], function(Plotly) {\n",
       "                    window.PLOTLYENV=window.PLOTLYENV || {};\n",
       "                    window.PLOTLYENV.BASE_URL='https://plot.ly';\n",
       "                    \n",
       "                if (document.getElementById(\"71c8ad17-3da3-46ff-9613-cffad55b80d6\")) {\n",
       "                    Plotly.newPlot(\n",
       "                        '71c8ad17-3da3-46ff-9613-cffad55b80d6',\n",
       "                        [{\"marker\": {\"color\": [\"rgba(255, 153, 51, 1.0)\", \"rgba(55, 128, 191, 1.0)\", \"rgba(50, 171, 96, 1.0)\", \"rgba(128, 0, 128, 1.0)\", \"rgba(219, 64, 82, 1.0)\", \"rgba(0, 128, 128, 1.0)\", \"rgba(255, 255, 51, 1.0)\", \"rgba(128, 128, 0, 1.0)\", \"rgba(251, 128, 114, 1.0)\", \"rgba(128, 177, 211, 1.0)\", \"rgba(128, 177, 211, 0.9733333333333334)\", \"rgba(255, 153, 51, 0.9733333333333334)\", \"rgba(55, 128, 191, 0.9733333333333334)\", \"rgba(50, 171, 96, 0.9733333333333334)\", \"rgba(128, 0, 128, 0.9733333333333334)\", \"rgba(219, 64, 82, 0.9733333333333334)\", \"rgba(0, 128, 128, 0.9733333333333334)\", \"rgba(255, 255, 51, 0.9733333333333334)\", \"rgba(128, 128, 0, 0.9733333333333334)\", \"rgba(251, 128, 114, 0.9733333333333334)\", \"rgba(251, 128, 114, 0.9466666666666665)\", \"rgba(128, 177, 211, 0.9466666666666665)\", \"rgba(255, 153, 51, 0.9466666666666665)\", \"rgba(55, 128, 191, 0.9466666666666665)\", \"rgba(50, 171, 96, 0.9466666666666665)\", \"rgba(128, 0, 128, 0.9466666666666665)\", \"rgba(219, 64, 82, 0.9466666666666665)\", \"rgba(0, 128, 128, 0.9466666666666665)\", \"rgba(255, 255, 51, 0.9466666666666665)\", \"rgba(128, 128, 0, 0.9466666666666665)\", \"rgba(128, 128, 0, 0.9199999999999999)\", \"rgba(251, 128, 114, 0.9199999999999999)\", \"rgba(128, 177, 211, 0.9199999999999999)\", \"rgba(255, 153, 51, 0.9199999999999999)\", \"rgba(55, 128, 191, 0.9199999999999999)\", \"rgba(50, 171, 96, 0.9199999999999999)\", \"rgba(128, 0, 128, 0.9199999999999999)\", \"rgba(219, 64, 82, 0.9199999999999999)\", \"rgba(0, 128, 128, 0.9199999999999999)\", \"rgba(255, 255, 51, 0.9199999999999999)\", \"rgba(255, 255, 51, 0.8933333333333333)\", \"rgba(128, 128, 0, 0.8933333333333333)\", \"rgba(251, 128, 114, 0.8933333333333333)\", \"rgba(128, 177, 211, 0.8933333333333333)\", \"rgba(255, 153, 51, 0.8933333333333333)\", \"rgba(55, 128, 191, 0.8933333333333333)\", \"rgba(50, 171, 96, 0.8933333333333333)\", \"rgba(128, 0, 128, 0.8933333333333333)\", \"rgba(219, 64, 82, 0.8933333333333333)\", \"rgba(0, 128, 128, 0.8933333333333333)\", \"rgba(0, 128, 128, 0.8666666666666667)\", \"rgba(255, 255, 51, 0.8666666666666667)\", \"rgba(128, 128, 0, 0.8666666666666667)\", \"rgba(251, 128, 114, 0.8666666666666667)\", \"rgba(128, 177, 211, 0.8666666666666667)\", \"rgba(255, 153, 51, 0.8666666666666667)\", \"rgba(55, 128, 191, 0.8666666666666667)\", \"rgba(50, 171, 96, 0.8666666666666667)\", \"rgba(128, 0, 128, 0.8666666666666667)\", \"rgba(219, 64, 82, 0.8666666666666667)\", \"rgba(219, 64, 82, 0.8399999999999999)\", \"rgba(0, 128, 128, 0.8399999999999999)\", \"rgba(255, 255, 51, 0.8399999999999999)\", \"rgba(128, 128, 0, 0.8399999999999999)\", \"rgba(251, 128, 114, 0.8399999999999999)\", \"rgba(128, 177, 211, 0.8399999999999999)\", \"rgba(255, 153, 51, 0.8399999999999999)\", \"rgba(55, 128, 191, 0.8399999999999999)\", \"rgba(50, 171, 96, 0.8399999999999999)\", \"rgba(128, 0, 128, 0.8399999999999999)\", \"rgba(128, 0, 128, 0.8133333333333332)\", \"rgba(219, 64, 82, 0.8133333333333332)\", \"rgba(0, 128, 128, 0.8133333333333332)\", \"rgba(255, 255, 51, 0.8133333333333332)\", \"rgba(128, 128, 0, 0.8133333333333332)\", \"rgba(251, 128, 114, 0.8133333333333332)\", \"rgba(128, 177, 211, 0.8133333333333332)\", \"rgba(255, 153, 51, 0.8133333333333332)\", \"rgba(55, 128, 191, 0.8133333333333332)\", \"rgba(50, 171, 96, 0.8133333333333332)\", \"rgba(50, 171, 96, 0.7866666666666666)\", \"rgba(128, 0, 128, 0.7866666666666666)\", \"rgba(219, 64, 82, 0.7866666666666666)\", \"rgba(0, 128, 128, 0.7866666666666666)\", \"rgba(255, 255, 51, 0.7866666666666666)\", \"rgba(128, 128, 0, 0.7866666666666666)\", \"rgba(251, 128, 114, 0.7866666666666666)\", \"rgba(128, 177, 211, 0.7866666666666666)\", \"rgba(255, 153, 51, 0.7866666666666666)\", \"rgba(55, 128, 191, 0.7866666666666666)\", \"rgba(55, 128, 191, 0.76)\", \"rgba(50, 171, 96, 0.76)\", \"rgba(128, 0, 128, 0.76)\", \"rgba(219, 64, 82, 0.76)\", \"rgba(0, 128, 128, 0.76)\", \"rgba(255, 255, 51, 0.76)\", \"rgba(128, 128, 0, 0.76)\", \"rgba(251, 128, 114, 0.76)\", \"rgba(128, 177, 211, 0.76)\", \"rgba(255, 153, 51, 0.76)\", \"rgba(255, 153, 51, 0.7333333333333332)\", \"rgba(55, 128, 191, 0.7333333333333332)\", \"rgba(50, 171, 96, 0.7333333333333332)\", \"rgba(128, 0, 128, 0.7333333333333332)\", \"rgba(219, 64, 82, 0.7333333333333332)\", \"rgba(0, 128, 128, 0.7333333333333332)\", \"rgba(255, 255, 51, 0.7333333333333332)\", \"rgba(128, 128, 0, 0.7333333333333332)\", \"rgba(251, 128, 114, 0.7333333333333332)\", \"rgba(128, 177, 211, 0.7333333333333332)\", \"rgba(128, 177, 211, 0.7066666666666666)\", \"rgba(255, 153, 51, 0.7066666666666666)\", \"rgba(55, 128, 191, 0.7066666666666666)\", \"rgba(50, 171, 96, 0.7066666666666666)\", \"rgba(128, 0, 128, 0.7066666666666666)\", \"rgba(219, 64, 82, 0.7066666666666666)\", \"rgba(0, 128, 128, 0.7066666666666666)\", \"rgba(255, 255, 51, 0.7066666666666666)\", \"rgba(128, 128, 0, 0.7066666666666666)\", \"rgba(251, 128, 114, 0.7066666666666666)\", \"rgba(251, 128, 114, 0.6799999999999999)\", \"rgba(128, 177, 211, 0.6799999999999999)\", \"rgba(255, 153, 51, 0.6799999999999999)\", \"rgba(55, 128, 191, 0.6799999999999999)\", \"rgba(50, 171, 96, 0.6799999999999999)\", \"rgba(128, 0, 128, 0.6799999999999999)\", \"rgba(219, 64, 82, 0.6799999999999999)\", \"rgba(0, 128, 128, 0.6799999999999999)\", \"rgba(255, 255, 51, 0.6799999999999999)\", \"rgba(128, 128, 0, 0.6799999999999999)\", \"rgba(128, 128, 0, 0.6533333333333333)\", \"rgba(251, 128, 114, 0.6533333333333333)\", \"rgba(128, 177, 211, 0.6533333333333333)\", \"rgba(255, 153, 51, 0.6533333333333333)\", \"rgba(55, 128, 191, 0.6533333333333333)\", \"rgba(50, 171, 96, 0.6533333333333333)\", \"rgba(128, 0, 128, 0.6533333333333333)\", \"rgba(219, 64, 82, 0.6533333333333333)\", \"rgba(0, 128, 128, 0.6533333333333333)\", \"rgba(255, 255, 51, 0.6533333333333333)\", \"rgba(255, 255, 51, 0.6266666666666665)\", \"rgba(128, 128, 0, 0.6266666666666665)\", \"rgba(251, 128, 114, 0.6266666666666665)\", \"rgba(128, 177, 211, 0.6266666666666665)\", \"rgba(255, 153, 51, 0.6266666666666665)\", \"rgba(55, 128, 191, 0.6266666666666665)\", \"rgba(50, 171, 96, 0.6266666666666665)\", \"rgba(128, 0, 128, 0.6266666666666665)\", \"rgba(219, 64, 82, 0.6266666666666665)\", \"rgba(0, 128, 128, 0.6266666666666665)\", \"rgba(0, 128, 128, 0.5999999999999999)\", \"rgba(255, 255, 51, 0.5999999999999999)\", \"rgba(128, 128, 0, 0.5999999999999999)\", \"rgba(251, 128, 114, 0.5999999999999999)\", \"rgba(128, 177, 211, 0.5999999999999999)\", \"rgba(255, 153, 51, 0.5999999999999999)\", \"rgba(55, 128, 191, 0.5999999999999999)\", \"rgba(50, 171, 96, 0.5999999999999999)\", \"rgba(128, 0, 128, 0.5999999999999999)\", \"rgba(219, 64, 82, 0.5999999999999999)\", \"rgba(219, 64, 82, 0.5733333333333333)\", \"rgba(0, 128, 128, 0.5733333333333333)\", \"rgba(255, 255, 51, 0.5733333333333333)\", \"rgba(128, 128, 0, 0.5733333333333333)\", \"rgba(251, 128, 114, 0.5733333333333333)\", \"rgba(128, 177, 211, 0.5733333333333333)\", \"rgba(255, 153, 51, 0.5733333333333333)\", \"rgba(55, 128, 191, 0.5733333333333333)\", \"rgba(50, 171, 96, 0.5733333333333333)\", \"rgba(128, 0, 128, 0.5733333333333333)\", \"rgba(128, 0, 128, 0.5466666666666666)\", \"rgba(219, 64, 82, 0.5466666666666666)\", \"rgba(0, 128, 128, 0.5466666666666666)\", \"rgba(255, 255, 51, 0.5466666666666666)\", \"rgba(128, 128, 0, 0.5466666666666666)\", \"rgba(251, 128, 114, 0.5466666666666666)\", \"rgba(128, 177, 211, 0.5466666666666666)\", \"rgba(255, 153, 51, 0.5466666666666666)\", \"rgba(55, 128, 191, 0.5466666666666666)\", \"rgba(50, 171, 96, 0.5466666666666666)\", \"rgba(50, 171, 96, 0.5199999999999998)\", \"rgba(128, 0, 128, 0.5199999999999998)\", \"rgba(219, 64, 82, 0.5199999999999998)\", \"rgba(0, 128, 128, 0.5199999999999998)\", \"rgba(255, 255, 51, 0.5199999999999998)\", \"rgba(128, 128, 0, 0.5199999999999998)\", \"rgba(251, 128, 114, 0.5199999999999998)\", \"rgba(128, 177, 211, 0.5199999999999998)\", \"rgba(255, 153, 51, 0.5199999999999998)\", \"rgba(55, 128, 191, 0.5199999999999998)\", \"rgba(55, 128, 191, 0.49333333333333323)\", \"rgba(50, 171, 96, 0.49333333333333323)\", \"rgba(128, 0, 128, 0.49333333333333323)\", \"rgba(219, 64, 82, 0.49333333333333323)\", \"rgba(0, 128, 128, 0.49333333333333323)\", \"rgba(255, 255, 51, 0.49333333333333323)\", \"rgba(128, 128, 0, 0.49333333333333323)\", \"rgba(251, 128, 114, 0.49333333333333323)\", \"rgba(128, 177, 211, 0.49333333333333323)\", \"rgba(255, 153, 51, 0.49333333333333323)\", \"rgba(255, 153, 51, 0.4666666666666666)\", \"rgba(55, 128, 191, 0.4666666666666666)\", \"rgba(50, 171, 96, 0.4666666666666666)\", \"rgba(128, 0, 128, 0.4666666666666666)\", \"rgba(219, 64, 82, 0.4666666666666666)\", \"rgba(0, 128, 128, 0.4666666666666666)\", \"rgba(255, 255, 51, 0.4666666666666666)\", \"rgba(128, 128, 0, 0.4666666666666666)\", \"rgba(251, 128, 114, 0.4666666666666666)\", \"rgba(128, 177, 211, 0.4666666666666666)\", \"rgba(128, 177, 211, 0.44)\", \"rgba(255, 153, 51, 0.44)\", \"rgba(55, 128, 191, 0.44)\", \"rgba(50, 171, 96, 0.44)\", \"rgba(128, 0, 128, 0.44)\", \"rgba(219, 64, 82, 0.44)\", \"rgba(0, 128, 128, 0.44)\", \"rgba(255, 255, 51, 0.44)\", \"rgba(128, 128, 0, 0.44)\", \"rgba(251, 128, 114, 0.44)\", \"rgba(251, 128, 114, 0.41333333333333316)\", \"rgba(128, 177, 211, 0.41333333333333316)\", \"rgba(255, 153, 51, 0.41333333333333316)\", \"rgba(55, 128, 191, 0.41333333333333316)\", \"rgba(50, 171, 96, 0.41333333333333316)\", \"rgba(128, 0, 128, 0.41333333333333316)\", \"rgba(219, 64, 82, 0.41333333333333316)\", \"rgba(0, 128, 128, 0.41333333333333316)\", \"rgba(255, 255, 51, 0.41333333333333316)\", \"rgba(128, 128, 0, 0.41333333333333316)\", \"rgba(128, 128, 0, 0.38666666666666655)\", \"rgba(251, 128, 114, 0.38666666666666655)\", \"rgba(128, 177, 211, 0.38666666666666655)\", \"rgba(255, 153, 51, 0.38666666666666655)\", \"rgba(55, 128, 191, 0.38666666666666655)\", \"rgba(50, 171, 96, 0.38666666666666655)\", \"rgba(128, 0, 128, 0.38666666666666655)\", \"rgba(219, 64, 82, 0.38666666666666655)\", \"rgba(0, 128, 128, 0.38666666666666655)\", \"rgba(255, 255, 51, 0.38666666666666655)\", \"rgba(255, 255, 51, 0.35999999999999993)\", \"rgba(128, 128, 0, 0.35999999999999993)\", \"rgba(251, 128, 114, 0.35999999999999993)\", \"rgba(128, 177, 211, 0.35999999999999993)\", \"rgba(255, 153, 51, 0.35999999999999993)\", \"rgba(55, 128, 191, 0.35999999999999993)\", \"rgba(50, 171, 96, 0.35999999999999993)\", \"rgba(128, 0, 128, 0.35999999999999993)\", \"rgba(219, 64, 82, 0.35999999999999993)\", \"rgba(0, 128, 128, 0.35999999999999993)\", \"rgba(0, 128, 128, 0.3333333333333333)\", \"rgba(255, 255, 51, 0.3333333333333333)\", \"rgba(128, 128, 0, 0.3333333333333333)\", \"rgba(251, 128, 114, 0.3333333333333333)\", \"rgba(128, 177, 211, 0.3333333333333333)\", \"rgba(255, 153, 51, 0.3333333333333333)\", \"rgba(55, 128, 191, 0.3333333333333333)\", \"rgba(50, 171, 96, 0.3333333333333333)\", \"rgba(128, 0, 128, 0.3333333333333333)\", \"rgba(219, 64, 82, 0.3333333333333333)\", \"rgba(219, 64, 82, 0.3066666666666665)\", \"rgba(0, 128, 128, 0.3066666666666665)\", \"rgba(255, 255, 51, 0.3066666666666665)\", \"rgba(128, 128, 0, 0.3066666666666665)\", \"rgba(251, 128, 114, 0.3066666666666665)\", \"rgba(128, 177, 211, 0.3066666666666665)\", \"rgba(255, 153, 51, 0.3066666666666665)\", \"rgba(55, 128, 191, 0.3066666666666665)\", \"rgba(50, 171, 96, 0.3066666666666665)\", \"rgba(128, 0, 128, 0.3066666666666665)\", \"rgba(128, 0, 128, 0.27999999999999986)\", \"rgba(219, 64, 82, 0.27999999999999986)\", \"rgba(0, 128, 128, 0.27999999999999986)\", \"rgba(255, 255, 51, 0.27999999999999986)\", \"rgba(128, 128, 0, 0.27999999999999986)\", \"rgba(251, 128, 114, 0.27999999999999986)\", \"rgba(128, 177, 211, 0.27999999999999986)\", \"rgba(255, 153, 51, 0.27999999999999986)\", \"rgba(55, 128, 191, 0.27999999999999986)\", \"rgba(50, 171, 96, 0.27999999999999986)\", \"rgba(50, 171, 96, 0.25333333333333324)\", \"rgba(128, 0, 128, 0.25333333333333324)\", \"rgba(219, 64, 82, 0.25333333333333324)\", \"rgba(0, 128, 128, 0.25333333333333324)\", \"rgba(255, 255, 51, 0.25333333333333324)\", \"rgba(128, 128, 0, 0.25333333333333324)\", \"rgba(251, 128, 114, 0.25333333333333324)\", \"rgba(128, 177, 211, 0.25333333333333324)\", \"rgba(255, 153, 51, 0.25333333333333324)\", \"rgba(55, 128, 191, 0.25333333333333324)\", \"rgba(55, 128, 191, 0.22666666666666663)\", \"rgba(50, 171, 96, 0.22666666666666663)\", \"rgba(128, 0, 128, 0.22666666666666663)\", \"rgba(219, 64, 82, 0.22666666666666663)\", \"rgba(0, 128, 128, 0.22666666666666663)\", \"rgba(255, 255, 51, 0.22666666666666663)\", \"rgba(128, 128, 0, 0.22666666666666663)\", \"rgba(251, 128, 114, 0.22666666666666663)\", \"rgba(128, 177, 211, 0.22666666666666663)\", \"rgba(255, 153, 51, 0.22666666666666663)\"], \"opacity\": 0.8, \"size\": [12, 12, 12, 12, 12, 12, 12, 12, 12, 12, 12, 12, 12, 12, 12, 12, 12, 12, 12, 12, 12, 12, 12, 12, 12, 12, 12, 12, 12, 12, 12, 12, 12, 12, 12, 12, 12, 12, 12, 12, 12, 12, 12, 12, 12, 12, 12, 12, 12, 12, 12, 12, 12, 12, 12, 12, 12, 12, 12, 12, 12, 12, 12, 12, 12, 12, 12, 12, 12, 12, 12, 12, 12, 12, 12, 12, 12, 12, 12, 12, 12, 12, 12, 12, 12, 12, 12, 12, 12, 12, 12, 12, 12, 12, 12, 12, 12, 12, 12, 12, 12, 12, 12, 12, 12, 12, 12, 12, 12, 12, 12, 12, 12, 12, 12, 12, 12, 12, 12, 12, 12, 12, 12, 12, 12, 12, 12, 12, 12, 12, 12, 12, 12, 12, 12, 12, 12, 12, 12, 12, 12, 12, 12, 12, 12, 12, 12, 12, 12, 12, 12, 12, 12, 12, 12, 12, 12, 12, 12, 12, 12, 12, 12, 12, 12, 12, 12, 12, 12, 12, 12, 12, 12, 12, 12, 12, 12, 12, 12, 12, 12, 12, 12, 12, 12, 12, 12, 12, 12, 12, 12, 12, 12, 12, 12, 12, 12, 12, 12, 12, 12, 12, 12, 12, 12, 12, 12, 12, 12, 12, 12, 12, 12, 12, 12, 12, 12, 12, 12, 12, 12, 12, 12, 12, 12, 12, 12, 12, 12, 12, 12, 12, 12, 12, 12, 12, 12, 12, 12, 12, 12, 12, 12, 12, 12, 12, 12, 12, 12, 12, 12, 12, 12, 12, 12, 12, 12, 12, 12, 12, 12, 12, 12, 12, 12, 12, 12, 12, 12, 12, 12, 12, 12, 12, 12, 12, 12, 12, 12, 12, 12, 12, 12, 12, 12, 12, 12, 12, 12, 12, 12, 12, 12, 12, 12, 12, 12, 12, 12, 12], \"symbol\": \"circle\"}, \"mode\": \"markers\", \"text\": [\"0\", \"1\", \"2\", \"3\", \"4\", \"5\", \"6\", \"7\", \"8\", \"9\", \"10\", \"11\", \"12\", \"13\", \"14\", \"15\", \"16\", \"17\", \"18\", \"19\", \"20\", \"21\", \"22\", \"23\", \"24\", \"25\", \"26\", \"27\", \"28\", \"29\", \"30\", \"31\", \"32\", \"33\", \"34\", \"35\", \"36\", \"37\", \"38\", \"39\", \"40\", \"41\", \"42\", \"43\", \"44\", \"45\", \"46\", \"47\", \"48\", \"49\", \"50\", \"51\", \"52\", \"53\", \"54\", \"55\", \"56\", \"57\", \"58\", \"59\", \"60\", \"61\", \"62\", \"63\", \"64\", \"65\", \"66\", \"67\", \"68\", \"69\", \"70\", \"71\", \"72\", \"73\", \"74\", \"75\", \"76\", \"77\", \"78\", \"79\", \"80\", \"81\", \"82\", \"83\", \"84\", \"85\", \"86\", \"87\", \"88\", \"89\", \"90\", \"91\", \"92\", \"93\", \"94\", \"95\", \"96\", \"97\", \"98\", \"99\", \"100\", \"101\", \"102\", \"103\", \"104\", \"105\", \"106\", \"107\", \"108\", \"109\", \"110\", \"111\", \"112\", \"113\", \"114\", \"115\", \"116\", \"117\", \"118\", \"119\", \"120\", \"121\", \"122\", \"123\", \"124\", \"125\", \"126\", \"127\", \"128\", \"129\", \"130\", \"131\", \"132\", \"133\", \"134\", \"135\", \"136\", \"137\", \"138\", \"139\", \"140\", \"141\", \"142\", \"143\", \"144\", \"145\", \"146\", \"147\", \"148\", \"149\", \"150\", \"151\", \"152\", \"153\", \"154\", \"155\", \"156\", \"157\", \"158\", \"159\", \"160\", \"161\", \"162\", \"163\", \"164\", \"165\", \"166\", \"167\", \"168\", \"169\", \"170\", \"171\", \"172\", \"173\", \"174\", \"175\", \"176\", \"177\", \"178\", \"179\", \"180\", \"181\", \"182\", \"183\", \"184\", \"185\", \"186\", \"187\", \"188\", \"189\", \"190\", \"191\", \"192\", \"193\", \"194\", \"195\", \"196\", \"197\", \"198\", \"199\", \"200\", \"201\", \"202\", \"203\", \"204\", \"205\", \"206\", \"207\", \"208\", \"209\", \"210\", \"211\", \"212\", \"213\", \"214\", \"215\", \"216\", \"217\", \"218\", \"219\", \"220\", \"221\", \"222\", \"223\", \"224\", \"225\", \"226\", \"227\", \"228\", \"229\", \"230\", \"231\", \"232\", \"233\", \"234\", \"235\", \"236\", \"237\", \"238\", \"239\", \"240\", \"241\", \"242\", \"243\", \"244\", \"245\", \"246\", \"247\", \"248\", \"249\", \"250\", \"251\", \"252\", \"253\", \"254\", \"255\", \"256\", \"257\", \"258\", \"259\", \"260\", \"261\", \"262\", \"263\", \"264\", \"265\", \"266\", \"267\", \"268\", \"269\", \"270\", \"271\", \"272\", \"273\", \"274\", \"275\", \"276\", \"277\", \"278\", \"279\", \"280\", \"281\", \"282\", \"283\", \"284\", \"285\", \"286\", \"287\", \"288\", \"289\", \"290\", \"291\", \"292\", \"293\", \"294\", \"295\", \"296\", \"297\", \"298\", \"299\"], \"type\": \"scatter3d\", \"x\": [-0.8207384243484689, -0.08462499758400398, 0.7845023606096986, 1.1797309630116806, -2.130271909967389, 0.29206153433071796, 0.60729673534001, 0.3794927344790019, 1.0230393487617728, 0.7835906489130424, 1.995872428889291, 0.025076230106082464, 0.6971414592452957, 0.04479001732063516, -1.784804038455798, 0.22021194244737627, -0.05162416926369397, -0.6215448640698962, -0.7193800120186783, -0.2546357924341163, 0.8335469866036389, 0.249170540256234, 0.916364647674772, 0.16035314255759037, -0.45161697884455315, -0.6930823225072643, 1.6060465744647006, 0.27795587693458634, -0.5762022978565043, 1.540311167071319, 0.1592620414321161, 0.7221325762594352, 0.40217640529158805, 1.1142676770571283, 0.40624574475185543, 0.39082726260719614, -0.9661736724168127, -0.04385111169658435, -0.7366767933580708, 0.72398768827973, -0.05012689240907907, 0.8886002116978473, 0.7807536683633869, 0.7641210549010233, 0.0008351703611490016, -0.41993367627675665, 0.012134671314921502, -0.3578771265407001, -0.20083093258091692, 0.6475483229551363, 1.566785487477184, -1.16330316660902, -0.0714789885768534, -1.0505672305142821, 0.08541357235517906, -1.6303980527752444, -1.9754951588206586, 0.6489582338322427, 1.3081755431551925, 1.4590404371237382, 0.6631509636174537, -0.7731709241540221, 0.5554309833068368, -0.7018862263358555, 0.3938095998708879, 1.333444364871538, -0.3286721277010258, 0.9086867761803342, 0.08816128317718645, -0.7812373312247465, -0.679035816497397, -1.1808211063912954, -0.6090529678697649, 1.6242728143697875, -1.3702502018976743, -0.11870674917149728, 0.48229457870046094, 1.6126303303465068, -1.2526569002080326, -0.35474754912268214, 0.4688665340591218, -0.4999660753688341, 1.0675483065489328, 0.09291317622388436, 0.9490606177102815, -2.2909676673195882, -0.892850976045415, -0.4123443837203446, -0.8315160369217844, -0.0666434841446456, 1.8258473716774022, 0.70851432985228, 0.6352451104011677, -0.18058944062645588, -0.8318623775240777, 1.1558769710212171, 2.837738340400572, 0.025272208289227355, 0.06219336113099348, 1.3921120320622606, 0.22891697186929405, 1.4284749438781996, 0.42631407016586986, 1.1903573999161026, 0.4226514614142824, -0.48369109561497126, -0.36765875416397387, -0.2088910434729987, -0.3700240583821118, 0.4156297061828638, -0.2656036873224418, -1.543868725423232, -0.35237031531668744, -0.09964663483960898, -0.5125942805473216, -1.451101642841733, 1.2457280536003819, -0.3600225265838269, -0.7987378381555883, 1.1171342332039096, 0.6622818098765191, -0.1477007024957448, -0.9179269714909319, -1.0876218065137244, -1.773561439673342, 0.6320422273086765, -0.05478801684495815, 0.45025999807826017, 1.4415512968827238, 0.19907940057838655, 0.29551835267603316, 1.2754366191135307, 0.06381087458632259, 0.04652458254488825, 0.5277232296212827, 0.6014338105360431, -0.7961658418268669, 0.9594039194048646, -0.5947862165497507, 0.39344519880848206, 0.012636680648886116, -0.0056427556661618845, -0.444161120752311, 0.13910420792795308, 1.4682517447740107, -0.2861944279773406, -0.23914441489782567, 0.09629930957191442, 0.615260710460895, 0.7601320646787855, 1.8343001575745241, 0.6428922117585839, 0.6466783258629409, -0.347240867813014, -1.7325768387925093, 2.0303907828437864, -1.0474112283298664, 0.8185952146007982, 0.43644372816918386, -0.9865131791070509, -0.11700437070723357, -0.5832899028545041, -0.21871625390708654, -0.4619965337835824, -0.6542091178451876, -0.31063014777698833, 1.0750653173283398, 2.170342998847395, 2.5865914886435357, 1.2927035932661846, -2.0345672551181435, 0.10438742822292152, -0.048345202940689065, 1.0281239161887978, -0.9364778461161176, -0.6874213737702917, -0.5469284990075336, 0.8749331878907294, 1.107576986563229, -1.1212478538618063, -1.7894545953804208, -0.6472660647697156, 0.939330696997151, 0.2514476626565382, 0.23072662168690186, 0.3483900403056329, -1.167658855034703, 0.8220440496679885, 0.28395232791068986, 0.38478979125625296, 0.818969378648358, 1.8286286353984036, 0.8226171476389879, -0.36521978735877747, -0.9793452786044452, 1.245907368134635, -0.42498360303918775, -0.9454735190868596, -0.533599600449565, -2.293802936898508, -1.6054177861910381, -1.0837157565204192, -1.2206568091012617, 1.3264766438590994, 0.6752941748439925, 0.6744926038413693, -0.08786661060119066, 0.5718113001019361, 0.10553984312249816, 0.11304359540110807, -0.49423280860381985, -0.19607913875806826, -0.3486401674774648, 0.030210718843304576, 0.5343364759918501, -0.871420746436422, -1.149809942179294, -0.5639983151715794, -0.5539230408744102, 0.38419877603916724, -1.7967204215809762, -1.6286453839168802, -0.23004834327874177, -0.047829641559750724, 2.8035560485090394, -1.3650647263641498, -1.9342528006541468, -0.1059601090392782, 1.404583571894649, 0.6841670525996486, -2.094740953448848, 1.259366956850279, -1.5397505332346435, 0.048990129276475954, 0.331333194026446, 0.16969624243221215, -0.1715267290465977, -0.21141070797127093, -0.01979865608861099, -0.012800769067722637, 1.4394387837813047, 0.27230474044262915, -1.8653572998446024, 0.7817621787499842, -1.1417788920240508, -0.0042210827328354305, 2.047709997302608, 0.35769676428005426, -0.8346415725166526, -1.7695217449841123, 0.8657083237075002, -0.6241039698108877, 0.2926313675142785, 0.6137387948256854, 1.343816614771732, -0.8068237114346035, -1.7914387529397786, -0.06909739157277849, 0.7378027751973306, -0.5127213473586159, -1.4638125356410918, -1.5842240687677023, -1.2920018892203624, 0.7133922254769374, -0.9225046916894126, -0.989951623976457, 1.0504912895585738, 0.5592433131726854, 0.22632825584366278, 1.2089984325233976, -2.359274189607416, -0.5015834384421344, -0.7189616573687803, 0.9039850323427184, 0.4146974270874591, 0.6059416933954617, -0.47015597361103867, -1.5799082741663737, 0.7077160271506511, 0.34113084444014546, 1.0634896755423637, -0.072042507004432, -0.22330917689467375, -0.36785361792029553, -0.9206890154483219, 0.35544018530268057, 1.2239526858379357, 0.11043968918217621, 1.4650251748060104, -1.6419155137735826, 1.753991171056114, 0.6233685841010707, 1.7708794565837496, -1.6090298505016205, 0.5552599364149967, -0.627988743170011, -1.8701577589733456, 1.0484019248137193, -0.030131920908486806, -0.9378086941725211], \"y\": [0.5700358464318366, 0.035395423828338664, 0.45755216188528586, -0.4586877153253693, 2.248556479673589, -1.4104195396530266, -2.1086841010158786, 0.08470437732696244, -0.8364665916226663, 0.42641666060369254, -3.1234457797427253, 2.0392104676054683, 0.6880637932532304, -0.7564709283440401, -0.058644686420738466, 0.2501992840967634, 0.3577519183294475, -0.23197101351273533, 0.2781802843716983, 1.2857873240027113, -0.3286950284246439, 1.2207094274565786, -1.519710887163526, -1.2838996321659746, -0.46779805767784893, -0.7616110624864881, -0.11990099615511517, -2.311349790390364, -0.8667306667284541, -2.224254155475738, -0.34924037198318925, 0.5937040476984078, -1.4718254803860693, -0.4559230506407858, -0.651407771019426, -1.285768202999309, -0.6344201150805101, -0.32215772326427305, 0.03868757610217091, -0.43282585676348145, 1.6442244628761784, 0.808587602333838, -1.555751883435112, -0.542316826970238, 0.6840553846043369, -0.35182881111543934, 1.577673709942943, -0.3191296954220091, 0.32173450192030106, -0.8154154952125539, 0.4464271416540038, 0.3495723824789872, -0.6443999148489616, -0.5678924363543266, -0.12878824406784936, 1.3441387528220683, -0.5924200005067731, 1.5293961457800538, -0.05803511393076577, -1.862434572451777, -1.4412851737500019, 1.225836747152496, -0.994045880328987, -1.466146378447314, 0.17768844623321328, 0.6800724706744095, 1.1085063366386736, 0.8442876049868377, -1.1539446925646633, 1.2532070587738178, 1.3924242247028993, -2.7127578711111933, -0.23727545915807965, -2.4815657525716746, -1.463654736887402, 0.6464589931186047, 0.3294535760103377, 0.6525978760510487, 0.2747555776244485, -0.2956638449369559, 0.3925102330838406, 0.23593473698965717, -0.5332305077516785, -2.0809900779038144, 1.372619223548347, -0.5282761278688282, 0.429152760273548, 2.0473023662574676, -0.8211632181282263, 0.4696002998108736, 0.9268562036199649, -1.1263191666920553, -1.5773707020736618, 0.9838492605810966, -0.08372782870069573, 0.2087582907314267, 0.4550366855428308, -1.3427614238389705, -1.5766147573707963, -1.2084879172154734, 1.3672984774364174, 0.2825393188021175, 0.4394139011884541, 1.482978361107393, 1.3351932753704872, -0.22269616624583086, 0.22227038266743993, -0.26876825757969247, -1.5355477935170105, 0.5567906478431104, 1.2034751802151136, 0.20505838438782592, 0.7323134270748216, 0.4341207733367733, -1.0700904538989282, 0.5269574676273499, -0.19622745941030859, 0.9919629946196201, -1.409352469846528, -1.03139756645423, -0.3426958088328142, -1.5912476164240335, 1.7511633662727168, -0.7714380752633545, 0.25169436116279387, -0.07145781797485382, -1.1629507159571955, -0.48092150627589025, -1.4148905831844845, -0.48914235169390685, 1.1313121783806974, 0.6995721633362518, -0.9393429586792011, -1.2568790200943782, -0.9373522598446501, -1.0167248806207456, -0.7734780106184511, 0.24071287805524638, 0.3867984600496934, 0.9813480784690556, 0.1877309908290135, 1.251752442231116, 1.5162784754598622, -1.247578317101606, 1.1835452896570493, -1.480535455549345, -0.0761857453003499, 0.16207151863477604, 0.688079471737268, -2.3466762582517937, -0.08587943496863973, -1.9776436645988484, -0.4122236022430043, 0.19575039486091286, -1.3299297040936702, 1.2097962205100234, 0.9249390342946139, 0.04219845221076288, -0.5576993866862545, -1.0521577252040708, 0.8215100913408667, -1.4101746788536154, -0.13875178847656214, 1.39636234509967, -0.14028208188382563, 0.3860401812477554, 1.2953874764287328, -1.652612000582423, 0.26789746456117536, 1.1119895004636775, -1.3897989668500819, 1.309117022143498, -0.26986812234826946, -0.6187645737434974, 0.10134601837857567, -0.36697865387748496, -2.2830618281655854, -0.4520954531311351, -0.7512839817308928, -0.44313309762388425, 0.1733268036331487, -0.10864967386404246, -1.066756911036478, -0.3737950858468638, 0.9157978008260275, 0.7315311741954188, 0.40480836895063416, 0.8048484581588614, -1.1189888384796944, 1.062981883407365, 0.5842241043106599, -0.7384147614183129, 1.4646314374650253, -1.5701762059560445, 0.045574056467792376, -1.2834557365958446, -0.19424809275536697, 0.14846815582426076, -0.3570383928992543, 0.37431831103482216, -0.9588527474705091, 0.5946702524344604, -0.31102901440624886, 0.35651201309173447, -1.1124442522926434, 0.5488358901359223, 0.36700225287668076, -0.5121731322087326, 0.9742419943945078, 1.6806309898777199, -0.8129195821430906, -0.20712359229456656, -0.7508057338322378, 0.6004866754757356, 0.050722969493749374, 0.6993801880310465, -1.0997910396725579, -0.17626814973714022, 0.6010369925506118, -0.9233834887519616, -1.0408768573480172, 1.989972692378659, -0.18711345635427898, -0.5592256757008037, -0.12501046487746184, 0.1802385023226364, 0.6963036750043755, 0.046432202714869225, -0.4302621457460398, 0.22993154532805032, 0.052198767724405314, -1.0385697988716331, -0.4656787884506683, -1.5189903083194372, 1.4622096020216295, -1.7769170198052169, -0.019402634790453635, 0.39901022964652566, -0.1876811688258166, 0.745445558577095, 0.8731711246944273, 0.9522615024650944, 1.3152989715832144, 0.6378297024754026, 0.8156260469155743, -0.6024731910656854, -0.2092653016466741, 1.176748591006104, 0.16340661193401687, 0.3036288548511992, -0.17881802947857225, 1.3321774630356087, 0.8984665992520465, 2.3766148692501936, 1.124918756274602, -0.7097863166193021, 0.6836484308491875, -0.5014708594169908, 0.01363609664218702, -0.5474987389854905, -0.9972798949263757, 0.6168708207566387, 0.12993916974189723, -0.02343545533920747, 0.015130918178869008, 0.10327731142557188, -0.43263590815919933, 0.8038728781774871, 0.6507062756104323, 0.33504163756198374, 0.06106695048140284, 0.26094136971658394, -0.007047149405094116, 0.3204483502614951, -0.17780633117293232, -1.4725410469076172, -1.106042371693869, -0.165991587065188, 0.7405849186230807, 0.2690844247259337, 0.6239784398124335, 0.44247045814097075, 0.12785890575962025, 1.8010720990713147, -0.09519395672827533, 1.8977087735429654, 0.3625937584271333, 0.3101291165438562, 1.138743067220896, 0.778836789005781, 0.2251464363531364, -0.9403208046085401, 1.3503215083047435, -1.8904322018786546, -0.7543084823953193, 0.30538657576896344, -0.7454759391232134, 0.6390476206198427, -0.38444058022211236, 0.4659630353461671], \"z\": [0.07892259442199936, -1.9032888814113134, -1.223417276401099, 0.19001991625778392, -0.5406752680994532, 0.0996677392330254, 0.047892170137516336, -0.08428763919139491, -1.0672114442067737, 0.6610753288639266, -0.4585126244568822, -1.6933311151419856, 0.8308418326727534, 0.4934640345263196, 0.05135017744501654, 0.0724946613186868, 0.25167536828022036, 1.2230362872904499, -1.1719322329540574, -0.6299956783019732, 2.1506516559967204, 0.2033067366723847, 1.4960470369475938, -1.8074829340481882, 2.092378589107251, -0.522172525970859, -0.3546868034870746, -0.2784373817532561, -1.219980874248172, -1.4713452458118148, -2.216322905948387, -0.1275317820486059, 0.7296161121005978, -1.8159097935789814, 1.0549133229677838, 1.2028681982935214, -0.4585265236186237, 1.57580710984236, -0.10711540960808176, -2.4191768661460413, 1.4354273614539093, 0.2627966214788667, 0.8912872149365642, -0.64307670318964, -0.9436700005904607, -3.164702134395776, -0.6661695914525536, 0.6396873589687301, 2.4405478922524293, 1.5657457654271745, 0.2058089413038598, 0.21332037959821243, 0.09728755474518062, -0.4447992353292121, 2.1192887907001814, -0.6815244547650865, -0.3999481462442117, 0.6346276696593307, 0.4126094299252109, 0.3817931010211812, -0.9615564201838657, -0.07263859844145563, 0.43250555534836876, -0.9692138180177606, 1.0738657635089495, 0.7347038443864963, 2.258342239232904, -0.5089779713003817, -0.6760923699794391, 0.12991136082299254, -0.9034847067119178, -2.2777544196044355, -1.3571033092292082, 0.14897288850803353, -0.01950844693207444, -0.986289737770279, -0.1156294994681809, 0.7255175605085271, 0.23214205612679223, 1.6797798239623147, -0.7039638509271605, 0.353634693813128, -0.04976317623594597, 0.46734390981640833, 1.2838585172603343, 0.6425987412195965, 0.6354934180252416, 1.543180767505768, 0.5666026986426819, -1.0782727560897118, -0.3414928949550914, -2.52338364207915, 0.178181649199812, 0.8802305252311345, 0.13702362558942535, -0.4916963630934555, -1.0068237338779233, -0.495229851828235, 0.2623737436215979, 0.4093316790628588, 1.014111522543369, 1.657757918016832, 0.2826116091264656, 0.2546099623276414, 0.9657727216493499, 0.7564200828998316, -0.3127366259112923, -1.1215802105991783, 0.5295552366567096, -0.21921568864552318, -0.02644332768154236, -0.8809130770043146, -0.5371658569059675, 0.32048706485943573, 0.38153654683254506, -0.1724056723793175, 0.16555969641904816, 1.0315385202064813, 0.004530183456840831, 0.6088516543947737, -1.1096366312359185, 0.3315465552012246, 1.2853156718668117, -1.108161293283339, -1.3622445660569356, 0.6298799213359448, 0.5167620380513643, 0.846840746572654, -0.3350653186619055, -1.3534992116126425, 0.08781090191154073, -0.9165141807541183, 0.6909437547660383, 0.6660651299982788, 0.2664296679884047, -0.6733603385923893, 1.5222665555140134, -1.4253589408882623, 0.13610452686824043, 0.8175184145843438, 0.2495266044435156, 0.4430316977841397, 0.9939213705068112, -0.5736755200373289, 0.6830901093672327, 0.02080152573961722, 0.02297047499603657, 0.34469345699275655, -1.4853040738766476, 0.41296291859661194, -0.23667628211939928, -0.3682514887399483, 0.2912115094216216, 1.8794694624326447, 0.914230252373182, -1.1546613952453368, -1.099240097105995, -0.45200961428439645, -0.6384292484598294, 0.34658357856209465, 0.536707935640351, -0.6958420172993733, -1.1930470802233586, 1.282221828610961, 0.7276632995292834, 1.6923985066175375, -0.4779956602367823, 0.24237430976266597, -0.3571341716790908, -0.7358457596289981, 0.7949955488238856, 1.1233275362719048, -1.5679326688403186, -0.05686177816649202, 0.12423297911830822, 0.502456669511321, 0.23827940231090847, 0.7029998960548169, -0.7433063163723824, -0.26553366954485785, -0.23950234931798237, -1.089449707714066, 1.2710828487903594, 0.49820665831241473, -0.5150937365957825, 0.14428982950079403, -0.09988087021169184, -0.9040442449672194, 2.292036937217952, -0.6282921454126388, -1.0304203631475604, 0.9551965771647625, 0.633552644315718, -0.6524808613283085, -0.9356968715037313, 0.8125345163380346, -0.08736323826468183, 1.3990734419428321, 0.10925517196424007, -1.9327515853552821, 0.594811613658437, 1.4272813855569837, -1.488759202224325, -0.49872519329756554, -1.1400949567613823, 1.1237994624202043, -0.4786853414239646, 0.9017159114727481, -0.20959225125686282, 0.07204206994624457, -0.02285186401576416, -1.490161801072028, -0.5472028353543551, -1.5255670205543264, -0.2862653631538464, -0.5128314985352924, -0.5853124827813929, 0.30439546698740244, -0.6087307111620818, 0.7373086466987991, -1.1493229500831774, 0.4157956827607576, -0.40234317166288663, -0.6630289945638863, 1.731368076824971, 1.1744781600560852, -1.12433700267105, 0.1077366380705537, 1.5242759689562482, -0.4601718634623691, -0.7044801547681522, -0.42176462418936256, -2.0553183661197587, 0.00932050891365595, -0.6411931099572449, -0.14182778725206746, 1.332644994261714, 1.0952827853289824, 0.9671721713801861, -0.007620292915853323, 0.054602268488938385, 1.068599034694162, 0.8980748816255707, -0.08902174904886696, -0.05737428695392132, -0.08275252738422997, -0.9480993517823284, -0.7885897989523393, -0.15232966508342669, 0.9233241850363686, -1.055200717871376, -1.363722934681334, -0.5235152149364203, 0.5221863796804602, 1.667939253520856, 2.3030447959581926, 1.184846773205757, 0.2928044401746601, -0.09695651923972663, 1.1201435976476761, 0.16807011724576867, 0.3757170094325389, -0.7869191255438238, 1.0513144004467856, 0.6594732624758941, 1.4419590033770175, 0.32695248299649987, -0.2550101344745455, 0.18110893216036847, -1.0117500794898229, 0.514700415959658, 0.36440890112773106, 1.1082020894356521, -2.997535368141814, -0.07065641043442379, -0.07770628829940293, 0.02623448072221149, -0.3666860298633207, 0.6443264030135444, -0.2707309568685135, -1.067215942795697, -0.38596204083001295, 0.7426396710889793, -1.044577526575335, -1.6423985848970735, -1.2935382356245844, -1.9866447267476854, 0.11963215561306809, 0.693981593417533, 1.457954037875272, 1.7926819857649896, 0.03852046772048211, 0.405037678810211, -1.230972060209546, 0.865413891932986, 1.110506001958213, -0.11893552068048541, 0.021078854517308142, -0.6080652225493388, 1.5757492491965015]}],\n",
       "                        {\"legend\": {\"bgcolor\": \"#151516\", \"font\": {\"color\": \"#D9D9D9\"}}, \"paper_bgcolor\": \"#151516\", \"plot_bgcolor\": \"#151516\", \"scene\": {\"xaxis\": {\"gridcolor\": \"#434343\", \"showgrid\": true, \"tickfont\": {\"color\": \"#C2C2C2\"}, \"title\": {\"font\": {\"color\": \"#D9D9D9\"}, \"text\": \"\"}, \"zerolinecolor\": \"#666570\"}, \"yaxis\": {\"gridcolor\": \"#434343\", \"showgrid\": true, \"tickfont\": {\"color\": \"#C2C2C2\"}, \"title\": {\"font\": {\"color\": \"#D9D9D9\"}, \"text\": \"\"}, \"zerolinecolor\": \"#666570\"}, \"zaxis\": {\"gridcolor\": \"#434343\", \"showgrid\": true, \"tickfont\": {\"color\": \"#C2C2C2\"}, \"title\": {\"font\": {\"color\": \"#D9D9D9\"}, \"text\": \"\"}, \"zerolinecolor\": \"#666570\"}}, \"template\": {\"data\": {\"bar\": [{\"error_x\": {\"color\": \"#2a3f5f\"}, \"error_y\": {\"color\": \"#2a3f5f\"}, \"marker\": {\"line\": {\"color\": \"#E5ECF6\", \"width\": 0.5}}, \"type\": \"bar\"}], \"barpolar\": [{\"marker\": {\"line\": {\"color\": \"#E5ECF6\", \"width\": 0.5}}, \"type\": \"barpolar\"}], \"carpet\": [{\"aaxis\": {\"endlinecolor\": \"#2a3f5f\", \"gridcolor\": \"white\", \"linecolor\": \"white\", \"minorgridcolor\": \"white\", \"startlinecolor\": \"#2a3f5f\"}, \"baxis\": {\"endlinecolor\": \"#2a3f5f\", \"gridcolor\": \"white\", \"linecolor\": \"white\", \"minorgridcolor\": \"white\", \"startlinecolor\": \"#2a3f5f\"}, \"type\": \"carpet\"}], \"choropleth\": [{\"colorbar\": {\"outlinewidth\": 0, \"ticks\": \"\"}, \"type\": \"choropleth\"}], \"contour\": [{\"colorbar\": {\"outlinewidth\": 0, \"ticks\": \"\"}, \"colorscale\": [[0.0, \"#0d0887\"], [0.1111111111111111, \"#46039f\"], [0.2222222222222222, \"#7201a8\"], [0.3333333333333333, \"#9c179e\"], [0.4444444444444444, \"#bd3786\"], [0.5555555555555556, \"#d8576b\"], [0.6666666666666666, \"#ed7953\"], [0.7777777777777778, \"#fb9f3a\"], [0.8888888888888888, \"#fdca26\"], [1.0, \"#f0f921\"]], \"type\": \"contour\"}], \"contourcarpet\": [{\"colorbar\": {\"outlinewidth\": 0, \"ticks\": \"\"}, \"type\": \"contourcarpet\"}], \"heatmap\": [{\"colorbar\": {\"outlinewidth\": 0, \"ticks\": \"\"}, \"colorscale\": [[0.0, \"#0d0887\"], [0.1111111111111111, \"#46039f\"], [0.2222222222222222, \"#7201a8\"], [0.3333333333333333, \"#9c179e\"], [0.4444444444444444, \"#bd3786\"], [0.5555555555555556, \"#d8576b\"], [0.6666666666666666, \"#ed7953\"], [0.7777777777777778, \"#fb9f3a\"], [0.8888888888888888, \"#fdca26\"], [1.0, \"#f0f921\"]], \"type\": \"heatmap\"}], \"heatmapgl\": [{\"colorbar\": {\"outlinewidth\": 0, \"ticks\": \"\"}, \"colorscale\": [[0.0, \"#0d0887\"], [0.1111111111111111, \"#46039f\"], [0.2222222222222222, \"#7201a8\"], [0.3333333333333333, \"#9c179e\"], [0.4444444444444444, \"#bd3786\"], [0.5555555555555556, \"#d8576b\"], [0.6666666666666666, \"#ed7953\"], [0.7777777777777778, \"#fb9f3a\"], [0.8888888888888888, \"#fdca26\"], [1.0, \"#f0f921\"]], \"type\": \"heatmapgl\"}], \"histogram\": [{\"marker\": {\"colorbar\": {\"outlinewidth\": 0, \"ticks\": \"\"}}, \"type\": \"histogram\"}], \"histogram2d\": [{\"colorbar\": {\"outlinewidth\": 0, \"ticks\": \"\"}, \"colorscale\": [[0.0, \"#0d0887\"], [0.1111111111111111, \"#46039f\"], [0.2222222222222222, \"#7201a8\"], [0.3333333333333333, \"#9c179e\"], [0.4444444444444444, \"#bd3786\"], [0.5555555555555556, \"#d8576b\"], [0.6666666666666666, \"#ed7953\"], [0.7777777777777778, \"#fb9f3a\"], [0.8888888888888888, \"#fdca26\"], [1.0, \"#f0f921\"]], \"type\": \"histogram2d\"}], \"histogram2dcontour\": [{\"colorbar\": {\"outlinewidth\": 0, \"ticks\": \"\"}, \"colorscale\": [[0.0, \"#0d0887\"], [0.1111111111111111, \"#46039f\"], [0.2222222222222222, \"#7201a8\"], [0.3333333333333333, \"#9c179e\"], [0.4444444444444444, \"#bd3786\"], [0.5555555555555556, \"#d8576b\"], [0.6666666666666666, \"#ed7953\"], [0.7777777777777778, \"#fb9f3a\"], [0.8888888888888888, \"#fdca26\"], [1.0, \"#f0f921\"]], \"type\": \"histogram2dcontour\"}], \"mesh3d\": [{\"colorbar\": {\"outlinewidth\": 0, \"ticks\": \"\"}, \"type\": \"mesh3d\"}], \"parcoords\": [{\"line\": {\"colorbar\": {\"outlinewidth\": 0, \"ticks\": \"\"}}, \"type\": \"parcoords\"}], \"pie\": [{\"automargin\": true, \"type\": \"pie\"}], \"scatter\": [{\"marker\": {\"colorbar\": {\"outlinewidth\": 0, \"ticks\": \"\"}}, \"type\": \"scatter\"}], \"scatter3d\": [{\"line\": {\"colorbar\": {\"outlinewidth\": 0, \"ticks\": \"\"}}, \"marker\": {\"colorbar\": {\"outlinewidth\": 0, \"ticks\": \"\"}}, \"type\": \"scatter3d\"}], \"scattercarpet\": [{\"marker\": {\"colorbar\": {\"outlinewidth\": 0, \"ticks\": \"\"}}, \"type\": \"scattercarpet\"}], \"scattergeo\": [{\"marker\": {\"colorbar\": {\"outlinewidth\": 0, \"ticks\": \"\"}}, \"type\": \"scattergeo\"}], \"scattergl\": [{\"marker\": {\"colorbar\": {\"outlinewidth\": 0, \"ticks\": \"\"}}, \"type\": \"scattergl\"}], \"scattermapbox\": [{\"marker\": {\"colorbar\": {\"outlinewidth\": 0, \"ticks\": \"\"}}, \"type\": \"scattermapbox\"}], \"scatterpolar\": [{\"marker\": {\"colorbar\": {\"outlinewidth\": 0, \"ticks\": \"\"}}, \"type\": \"scatterpolar\"}], \"scatterpolargl\": [{\"marker\": {\"colorbar\": {\"outlinewidth\": 0, \"ticks\": \"\"}}, \"type\": \"scatterpolargl\"}], \"scatterternary\": [{\"marker\": {\"colorbar\": {\"outlinewidth\": 0, \"ticks\": \"\"}}, \"type\": \"scatterternary\"}], \"surface\": [{\"colorbar\": {\"outlinewidth\": 0, \"ticks\": \"\"}, \"colorscale\": [[0.0, \"#0d0887\"], [0.1111111111111111, \"#46039f\"], [0.2222222222222222, \"#7201a8\"], [0.3333333333333333, \"#9c179e\"], [0.4444444444444444, \"#bd3786\"], [0.5555555555555556, \"#d8576b\"], [0.6666666666666666, \"#ed7953\"], [0.7777777777777778, \"#fb9f3a\"], [0.8888888888888888, \"#fdca26\"], [1.0, \"#f0f921\"]], \"type\": \"surface\"}], \"table\": [{\"cells\": {\"fill\": {\"color\": \"#EBF0F8\"}, \"line\": {\"color\": \"white\"}}, \"header\": {\"fill\": {\"color\": \"#C8D4E3\"}, \"line\": {\"color\": \"white\"}}, \"type\": \"table\"}]}, \"layout\": {\"annotationdefaults\": {\"arrowcolor\": \"#2a3f5f\", \"arrowhead\": 0, \"arrowwidth\": 1}, \"coloraxis\": {\"colorbar\": {\"outlinewidth\": 0, \"ticks\": \"\"}}, \"colorscale\": {\"diverging\": [[0, \"#8e0152\"], [0.1, \"#c51b7d\"], [0.2, \"#de77ae\"], [0.3, \"#f1b6da\"], [0.4, \"#fde0ef\"], [0.5, \"#f7f7f7\"], [0.6, \"#e6f5d0\"], [0.7, \"#b8e186\"], [0.8, \"#7fbc41\"], [0.9, \"#4d9221\"], [1, \"#276419\"]], \"sequential\": [[0.0, \"#0d0887\"], [0.1111111111111111, \"#46039f\"], [0.2222222222222222, \"#7201a8\"], [0.3333333333333333, \"#9c179e\"], [0.4444444444444444, \"#bd3786\"], [0.5555555555555556, \"#d8576b\"], [0.6666666666666666, \"#ed7953\"], [0.7777777777777778, \"#fb9f3a\"], [0.8888888888888888, \"#fdca26\"], [1.0, \"#f0f921\"]], \"sequentialminus\": [[0.0, \"#0d0887\"], [0.1111111111111111, \"#46039f\"], [0.2222222222222222, \"#7201a8\"], [0.3333333333333333, \"#9c179e\"], [0.4444444444444444, \"#bd3786\"], [0.5555555555555556, \"#d8576b\"], [0.6666666666666666, \"#ed7953\"], [0.7777777777777778, \"#fb9f3a\"], [0.8888888888888888, \"#fdca26\"], [1.0, \"#f0f921\"]]}, \"colorway\": [\"#636efa\", \"#EF553B\", \"#00cc96\", \"#ab63fa\", \"#FFA15A\", \"#19d3f3\", \"#FF6692\", \"#B6E880\", \"#FF97FF\", \"#FECB52\"], \"font\": {\"color\": \"#2a3f5f\"}, \"geo\": {\"bgcolor\": \"white\", \"lakecolor\": \"white\", \"landcolor\": \"#E5ECF6\", \"showlakes\": true, \"showland\": true, \"subunitcolor\": \"white\"}, \"hoverlabel\": {\"align\": \"left\"}, \"hovermode\": \"closest\", \"mapbox\": {\"style\": \"light\"}, \"paper_bgcolor\": \"white\", \"plot_bgcolor\": \"#E5ECF6\", \"polar\": {\"angularaxis\": {\"gridcolor\": \"white\", \"linecolor\": \"white\", \"ticks\": \"\"}, \"bgcolor\": \"#E5ECF6\", \"radialaxis\": {\"gridcolor\": \"white\", \"linecolor\": \"white\", \"ticks\": \"\"}}, \"scene\": {\"xaxis\": {\"backgroundcolor\": \"#E5ECF6\", \"gridcolor\": \"white\", \"gridwidth\": 2, \"linecolor\": \"white\", \"showbackground\": true, \"ticks\": \"\", \"zerolinecolor\": \"white\"}, \"yaxis\": {\"backgroundcolor\": \"#E5ECF6\", \"gridcolor\": \"white\", \"gridwidth\": 2, \"linecolor\": \"white\", \"showbackground\": true, \"ticks\": \"\", \"zerolinecolor\": \"white\"}, \"zaxis\": {\"backgroundcolor\": \"#E5ECF6\", \"gridcolor\": \"white\", \"gridwidth\": 2, \"linecolor\": \"white\", \"showbackground\": true, \"ticks\": \"\", \"zerolinecolor\": \"white\"}}, \"shapedefaults\": {\"line\": {\"color\": \"#2a3f5f\"}}, \"ternary\": {\"aaxis\": {\"gridcolor\": \"white\", \"linecolor\": \"white\", \"ticks\": \"\"}, \"baxis\": {\"gridcolor\": \"white\", \"linecolor\": \"white\", \"ticks\": \"\"}, \"bgcolor\": \"#E5ECF6\", \"caxis\": {\"gridcolor\": \"white\", \"linecolor\": \"white\", \"ticks\": \"\"}}, \"title\": {\"x\": 0.05}, \"xaxis\": {\"automargin\": true, \"gridcolor\": \"white\", \"linecolor\": \"white\", \"ticks\": \"\", \"title\": {\"standoff\": 15}, \"zerolinecolor\": \"white\", \"zerolinewidth\": 2}, \"yaxis\": {\"automargin\": true, \"gridcolor\": \"white\", \"linecolor\": \"white\", \"ticks\": \"\", \"title\": {\"standoff\": 15}, \"zerolinecolor\": \"white\", \"zerolinewidth\": 2}}}, \"title\": {\"font\": {\"color\": \"#D9D9D9\"}}},\n",
       "                        {\"showLink\": true, \"linkText\": \"Export to plot.ly\", \"plotlyServerURL\": \"https://plot.ly\", \"responsive\": true}\n",
       "                    ).then(function(){\n",
       "                            \n",
       "var gd = document.getElementById('71c8ad17-3da3-46ff-9613-cffad55b80d6');\n",
       "var x = new MutationObserver(function (mutations, observer) {{\n",
       "        var display = window.getComputedStyle(gd).display;\n",
       "        if (!display || display === 'none') {{\n",
       "            console.log([gd, 'removed!']);\n",
       "            Plotly.purge(gd);\n",
       "            observer.disconnect();\n",
       "        }}\n",
       "}});\n",
       "\n",
       "// Listen for the removal of the full notebook cells\n",
       "var notebookContainer = gd.closest('#notebook-container');\n",
       "if (notebookContainer) {{\n",
       "    x.observe(notebookContainer, {childList: true});\n",
       "}}\n",
       "\n",
       "// Listen for the clearing of the current output cell\n",
       "var outputEl = gd.closest('.output');\n",
       "if (outputEl) {{\n",
       "    x.observe(outputEl, {childList: true});\n",
       "}}\n",
       "\n",
       "                        })\n",
       "                };\n",
       "                });\n",
       "            </script>\n",
       "        </div>"
      ]
     },
     "metadata": {},
     "output_type": "display_data"
    }
   ],
   "source": [
    "cf.datagen.scatter3d(2,150,mode='stocks').iplot(kind='scatter3d',x='x',y='y',z='z')"
   ]
  },
  {
   "cell_type": "code",
   "execution_count": 65,
   "metadata": {},
   "outputs": [
    {
     "name": "stderr",
     "output_type": "stream",
     "text": [
      "C:\\Users\\User\\Anaconda3\\lib\\site-packages\\cufflinks\\plotlytools.py:849: FutureWarning:\n",
      "\n",
      "The pandas.np module is deprecated and will be removed from pandas in a future version. Import numpy directly instead\n",
      "\n",
      "C:\\Users\\User\\Anaconda3\\lib\\site-packages\\cufflinks\\plotlytools.py:850: FutureWarning:\n",
      "\n",
      "The pandas.np module is deprecated and will be removed from pandas in a future version. Import numpy directly instead\n",
      "\n"
     ]
    },
    {
     "data": {
      "application/vnd.plotly.v1+json": {
       "config": {
        "linkText": "Export to plot.ly",
        "plotlyServerURL": "https://plot.ly",
        "showLink": true
       },
       "data": [
        {
         "line": {
          "color": "rgba(255, 153, 51, 1.0)",
          "dash": "solid",
          "shape": "linear",
          "width": 1.3
         },
         "mode": "lines",
         "name": "A",
         "text": "",
         "type": "scatter",
         "x": [
          0,
          1,
          2,
          3,
          4,
          5,
          6,
          7,
          8,
          9,
          10,
          11,
          12,
          13,
          14,
          15,
          16,
          17,
          18,
          19,
          20,
          21,
          22,
          23,
          24,
          25,
          26,
          27,
          28,
          29,
          30,
          31,
          32,
          33,
          34,
          35,
          36,
          37,
          38,
          39,
          40,
          41,
          42,
          43,
          44,
          45,
          46,
          47,
          48,
          49,
          50,
          51,
          52,
          53,
          54,
          55,
          56,
          57,
          58,
          59,
          60,
          61,
          62,
          63,
          64,
          65,
          66,
          67,
          68,
          69,
          70,
          71,
          72,
          73,
          74,
          75,
          76,
          77,
          78,
          79,
          80,
          81,
          82,
          83,
          84,
          85,
          86,
          87,
          88,
          89,
          90,
          91,
          92,
          93,
          94,
          95,
          96,
          97,
          98,
          99
         ],
         "y": [
          19.05355417423916,
          18.952217225493925,
          19.865365899479734,
          19.63894883538949,
          18.69433573604271,
          20.16177760391001,
          18.706721148102186,
          20.83021578349943,
          20.813770424039916,
          21.876577899494947,
          23.4157025609715,
          22.48607651867613,
          23.25896799151132,
          24.853746571571484,
          26.399388646384505,
          27.302020733241726,
          26.601442256932568,
          26.844437565324256,
          24.88689913716809,
          25.007194393161065,
          25.465628571769408,
          24.717480092329993,
          24.89376823976289,
          24.12852385347762,
          24.682892116294685,
          24.172311582147568,
          24.94042188534207,
          23.44096989873089,
          22.720716338251737,
          24.002316726950582,
          25.069318855339,
          24.4512159216163,
          22.963361830000697,
          20.93760262243009,
          17.898001133826952,
          19.675888324282013,
          20.744858125185726,
          23.23197011092468,
          24.120654400923726,
          24.368612281042843,
          22.98387948917498,
          22.443812807233037,
          21.561799339469225,
          21.46663493633641,
          21.494712151145823,
          20.265810969262205,
          19.29283374536078,
          18.603965591064245,
          18.023265505192516,
          18.69785175886604,
          19.607959504013458,
          19.004016179600125,
          16.986759461223656,
          18.329309886042573,
          19.052399618290732,
          19.029227590135285,
          20.267392981564747,
          18.98485715628038,
          17.45220014359349,
          18.4724176135328,
          18.793109557266042,
          20.758480502975218,
          21.693841607759047,
          21.41199762345162,
          22.40769957423957,
          22.816663705235424,
          23.207709446586406,
          23.537797606994967,
          25.689798527285987,
          25.562227076430634,
          26.855415853177288,
          25.55917622084909,
          25.901748781714026,
          27.08172185921103,
          27.117412019943735,
          28.342903962632406,
          28.27067268969956,
          28.566124358905135,
          29.30358008491224,
          28.129816653061603,
          27.927104713181173,
          27.19418290107574,
          29.300173117310973,
          29.69985220771088,
          32.1568512875961,
          31.932307925439222,
          32.323043576459504,
          30.972872477316358,
          31.08736272483948,
          32.75641107457476,
          32.12766645159634,
          34.12996690601166,
          33.43424607783305,
          32.519348467732655,
          33.259861789745635,
          32.22565324660054,
          33.843995385700524,
          34.77157703363817,
          34.33037573056614,
          35.66745291542685
         ]
        },
        {
         "line": {
          "color": "rgba(55, 128, 191, 1.0)",
          "dash": "solid",
          "shape": "linear",
          "width": 1.3
         },
         "mode": "lines",
         "name": "B",
         "text": "",
         "type": "scatter",
         "x": [
          0,
          1,
          2,
          3,
          4,
          5,
          6,
          7,
          8,
          9,
          10,
          11,
          12,
          13,
          14,
          15,
          16,
          17,
          18,
          19,
          20,
          21,
          22,
          23,
          24,
          25,
          26,
          27,
          28,
          29,
          30,
          31,
          32,
          33,
          34,
          35,
          36,
          37,
          38,
          39,
          40,
          41,
          42,
          43,
          44,
          45,
          46,
          47,
          48,
          49,
          50,
          51,
          52,
          53,
          54,
          55,
          56,
          57,
          58,
          59,
          60,
          61,
          62,
          63,
          64,
          65,
          66,
          67,
          68,
          69,
          70,
          71,
          72,
          73,
          74,
          75,
          76,
          77,
          78,
          79,
          80,
          81,
          82,
          83,
          84,
          85,
          86,
          87,
          88,
          89,
          90,
          91,
          92,
          93,
          94,
          95,
          96,
          97,
          98,
          99
         ],
         "y": [
          20.224687685551356,
          21.536439565654074,
          21.672018362970196,
          22.366361690454035,
          22.093768209281308,
          23.77342317347896,
          21.805695111712296,
          20.842045670428,
          21.430651096374042,
          21.413930530697023,
          21.312356669735497,
          19.960349979970797,
          20.237370835571713,
          21.283258142565337,
          22.420773158872006,
          21.551012710301567,
          20.3569653364381,
          20.651263542071955,
          22.543617901983065,
          21.309599875528917,
          20.75926504618888,
          19.631781060746647,
          20.26848545548732,
          20.851528560744118,
          20.76848005448148,
          21.411400999579257,
          21.21495942958562,
          22.04877676072323,
          22.75235854062727,
          22.43369478495357,
          23.041266560617544,
          23.824741253326224,
          23.862846221665926,
          23.926981640728975,
          23.42223304197247,
          24.89391052726584,
          25.202050112997586,
          26.232593629331745,
          26.136291606720977,
          25.79390973986341,
          26.509119734403658,
          26.55859024588922,
          26.070832367832416,
          26.693919506567667,
          26.82528895762112,
          28.605463871107744,
          28.277318673161687,
          28.212164078599997,
          27.343268048315824,
          27.46907294696319,
          27.542122828435385,
          27.667793752924535,
          27.790056083146304,
          27.98692472906863,
          27.117414511804206,
          29.278771604726526,
          27.887134101277386,
          25.763544260321947,
          22.99730014677046,
          25.658460334790743,
          25.6233399663063,
          27.76091899673433,
          26.01680608810962,
          26.62516152228668,
          26.455325659088857,
          25.46543046931759,
          27.470368352760293,
          26.440325426923316,
          25.80987744554895,
          25.891292002734314,
          25.736758139924397,
          25.738965526604602,
          24.91063538613909,
          25.214244487860952,
          24.550886005756134,
          23.940249960473487,
          24.86476869360318,
          25.97038667509796,
          25.385713257576374,
          24.817846729590386,
          25.15495446454062,
          26.155673227886034,
          26.50727384596003,
          27.737896005494044,
          26.846300767422374,
          26.808635521563268,
          24.784149960600395,
          25.677035152020835,
          27.704830625596962,
          29.6180225812225,
          30.210529126285607,
          30.317321809807737,
          32.18867411674365,
          32.11351363502118,
          32.311632730681296,
          30.778588188023548,
          30.961984418506045,
          32.1197208587845,
          31.802136712132004,
          32.66762057325556
         ]
        },
        {
         "connectgaps": false,
         "fill": "tozeroy",
         "line": {
          "color": "green",
          "dash": "solid",
          "shape": "linear",
          "width": 0.5
         },
         "mode": "lines",
         "name": "Spread",
         "showlegend": false,
         "type": "scatter",
         "x": [
          0,
          1,
          2,
          3,
          4,
          5,
          6,
          7,
          8,
          9,
          10,
          11,
          12,
          13,
          14,
          15,
          16,
          17,
          18,
          19,
          20,
          21,
          22,
          23,
          24,
          25,
          26,
          27,
          28,
          29,
          30,
          31,
          32,
          33,
          34,
          35,
          36,
          37,
          38,
          39,
          40,
          41,
          42,
          43,
          44,
          45,
          46,
          47,
          48,
          49,
          50,
          51,
          52,
          53,
          54,
          55,
          56,
          57,
          58,
          59,
          60,
          61,
          62,
          63,
          64,
          65,
          66,
          67,
          68,
          69,
          70,
          71,
          72,
          73,
          74,
          75,
          76,
          77,
          78,
          79,
          80,
          81,
          82,
          83,
          84,
          85,
          86,
          87,
          88,
          89,
          90,
          91,
          92,
          93,
          94,
          95,
          96,
          97,
          98,
          99
         ],
         "xaxis": "x2",
         "y": [
          "",
          "",
          "",
          "",
          "",
          "",
          "",
          "",
          "",
          0.46264736879792423,
          2.1033458912360032,
          2.5257265387053316,
          3.021597155939606,
          3.570488429006147,
          3.9786154875124993,
          5.751008022940159,
          6.244476920494467,
          6.1931740232523005,
          2.3432812351850245,
          3.6975945176321474,
          4.706363525580528,
          5.085699031583346,
          4.625282784275569,
          3.2769952927335027,
          3.9144120618132057,
          2.760910582568311,
          3.7254624557564497,
          1.3921931380076629,
          "",
          1.5686219419970122,
          2.028052294721455,
          0.6264746682900757,
          "",
          "",
          "",
          "",
          "",
          "",
          "",
          "",
          "",
          "",
          "",
          "",
          "",
          "",
          "",
          "",
          "",
          "",
          "",
          "",
          "",
          "",
          "",
          "",
          "",
          "",
          "",
          "",
          "",
          "",
          "",
          "",
          "",
          "",
          "",
          "",
          "",
          "",
          1.1186577132528903,
          "",
          0.9911133955749349,
          1.867477371350077,
          2.566526014187602,
          4.4026540021589184,
          3.4059039960963773,
          2.595737683807176,
          3.9178668273358674,
          3.311969923471217,
          2.7721502486405534,
          1.0385096731897079,
          2.7928992713509437,
          1.961956202216836,
          5.310550520173724,
          5.123672403875954,
          7.538893615859109,
          5.295837325295523,
          3.3825320992425176,
          3.138388493352256,
          1.9171373253107333,
          3.812645096203923,
          1.2455719610894036,
          0.40583483271147713,
          0.9482290590643387,
          1.4470650585769889,
          2.8820109671944785,
          2.6518561748536698,
          2.5282390184341352,
          2.9998323421712882
         ],
         "yaxis": "y2"
        },
        {
         "connectgaps": false,
         "fill": "tozeroy",
         "line": {
          "color": "red",
          "dash": "solid",
          "shape": "linear",
          "width": 0.5
         },
         "mode": "lines",
         "name": "Spread",
         "showlegend": false,
         "type": "scatter",
         "x": [
          0,
          1,
          2,
          3,
          4,
          5,
          6,
          7,
          8,
          9,
          10,
          11,
          12,
          13,
          14,
          15,
          16,
          17,
          18,
          19,
          20,
          21,
          22,
          23,
          24,
          25,
          26,
          27,
          28,
          29,
          30,
          31,
          32,
          33,
          34,
          35,
          36,
          37,
          38,
          39,
          40,
          41,
          42,
          43,
          44,
          45,
          46,
          47,
          48,
          49,
          50,
          51,
          52,
          53,
          54,
          55,
          56,
          57,
          58,
          59,
          60,
          61,
          62,
          63,
          64,
          65,
          66,
          67,
          68,
          69,
          70,
          71,
          72,
          73,
          74,
          75,
          76,
          77,
          78,
          79,
          80,
          81,
          82,
          83,
          84,
          85,
          86,
          87,
          88,
          89,
          90,
          91,
          92,
          93,
          94,
          95,
          96,
          97,
          98,
          99
         ],
         "xaxis": "x2",
         "y": [
          -1.1711335113121955,
          -2.5842223401601494,
          -1.8066524634904617,
          -2.7274128550645464,
          -3.3994324732385977,
          -3.6116455695689496,
          -3.09897396361011,
          -0.011829886928570232,
          -0.6168806723341262,
          "",
          "",
          "",
          "",
          "",
          "",
          "",
          "",
          "",
          "",
          "",
          "",
          "",
          "",
          "",
          "",
          "",
          "",
          "",
          -0.031642202375532946,
          "",
          "",
          "",
          -0.8994843916652293,
          -2.9893790182988838,
          -5.5242319081455165,
          -5.218022202983828,
          -4.457191987811861,
          -3.000623518407064,
          -2.015637205797251,
          -1.425297458820566,
          -3.5252402452286766,
          -4.1147774386561835,
          -4.509033028363191,
          -5.227284570231259,
          -5.330576806475296,
          -8.33965290184554,
          -8.984484927800906,
          -9.608198487535752,
          -9.320002543123309,
          -8.771221188097151,
          -7.934163324421927,
          -8.66377757332441,
          -10.803296621922648,
          -9.657614843026057,
          -8.065014893513474,
          -10.24954401459124,
          -7.619741119712639,
          -6.778687104041566,
          -5.5451000031769695,
          -7.186042721257941,
          -6.830230409040258,
          -7.0024384937591115,
          -4.322964480350574,
          -5.213163898835063,
          -4.047626084849288,
          -2.648766764082165,
          -4.262658906173886,
          -2.9025278199283484,
          -0.12007891826296202,
          -0.3290649263036798,
          "",
          -0.17978930575551288,
          "",
          "",
          "",
          "",
          "",
          "",
          "",
          "",
          "",
          "",
          "",
          "",
          "",
          "",
          "",
          "",
          "",
          "",
          "",
          "",
          "",
          "",
          "",
          "",
          "",
          "",
          "",
          ""
         ],
         "yaxis": "y2"
        }
       ],
       "layout": {
        "hovermode": "x",
        "legend": {
         "bgcolor": "#151516",
         "font": {
          "color": "#D9D9D9"
         }
        },
        "paper_bgcolor": "#151516",
        "plot_bgcolor": "#151516",
        "template": {
         "data": {
          "bar": [
           {
            "error_x": {
             "color": "#2a3f5f"
            },
            "error_y": {
             "color": "#2a3f5f"
            },
            "marker": {
             "line": {
              "color": "#E5ECF6",
              "width": 0.5
             }
            },
            "type": "bar"
           }
          ],
          "barpolar": [
           {
            "marker": {
             "line": {
              "color": "#E5ECF6",
              "width": 0.5
             }
            },
            "type": "barpolar"
           }
          ],
          "carpet": [
           {
            "aaxis": {
             "endlinecolor": "#2a3f5f",
             "gridcolor": "white",
             "linecolor": "white",
             "minorgridcolor": "white",
             "startlinecolor": "#2a3f5f"
            },
            "baxis": {
             "endlinecolor": "#2a3f5f",
             "gridcolor": "white",
             "linecolor": "white",
             "minorgridcolor": "white",
             "startlinecolor": "#2a3f5f"
            },
            "type": "carpet"
           }
          ],
          "choropleth": [
           {
            "colorbar": {
             "outlinewidth": 0,
             "ticks": ""
            },
            "type": "choropleth"
           }
          ],
          "contour": [
           {
            "colorbar": {
             "outlinewidth": 0,
             "ticks": ""
            },
            "colorscale": [
             [
              0,
              "#0d0887"
             ],
             [
              0.1111111111111111,
              "#46039f"
             ],
             [
              0.2222222222222222,
              "#7201a8"
             ],
             [
              0.3333333333333333,
              "#9c179e"
             ],
             [
              0.4444444444444444,
              "#bd3786"
             ],
             [
              0.5555555555555556,
              "#d8576b"
             ],
             [
              0.6666666666666666,
              "#ed7953"
             ],
             [
              0.7777777777777778,
              "#fb9f3a"
             ],
             [
              0.8888888888888888,
              "#fdca26"
             ],
             [
              1,
              "#f0f921"
             ]
            ],
            "type": "contour"
           }
          ],
          "contourcarpet": [
           {
            "colorbar": {
             "outlinewidth": 0,
             "ticks": ""
            },
            "type": "contourcarpet"
           }
          ],
          "heatmap": [
           {
            "colorbar": {
             "outlinewidth": 0,
             "ticks": ""
            },
            "colorscale": [
             [
              0,
              "#0d0887"
             ],
             [
              0.1111111111111111,
              "#46039f"
             ],
             [
              0.2222222222222222,
              "#7201a8"
             ],
             [
              0.3333333333333333,
              "#9c179e"
             ],
             [
              0.4444444444444444,
              "#bd3786"
             ],
             [
              0.5555555555555556,
              "#d8576b"
             ],
             [
              0.6666666666666666,
              "#ed7953"
             ],
             [
              0.7777777777777778,
              "#fb9f3a"
             ],
             [
              0.8888888888888888,
              "#fdca26"
             ],
             [
              1,
              "#f0f921"
             ]
            ],
            "type": "heatmap"
           }
          ],
          "heatmapgl": [
           {
            "colorbar": {
             "outlinewidth": 0,
             "ticks": ""
            },
            "colorscale": [
             [
              0,
              "#0d0887"
             ],
             [
              0.1111111111111111,
              "#46039f"
             ],
             [
              0.2222222222222222,
              "#7201a8"
             ],
             [
              0.3333333333333333,
              "#9c179e"
             ],
             [
              0.4444444444444444,
              "#bd3786"
             ],
             [
              0.5555555555555556,
              "#d8576b"
             ],
             [
              0.6666666666666666,
              "#ed7953"
             ],
             [
              0.7777777777777778,
              "#fb9f3a"
             ],
             [
              0.8888888888888888,
              "#fdca26"
             ],
             [
              1,
              "#f0f921"
             ]
            ],
            "type": "heatmapgl"
           }
          ],
          "histogram": [
           {
            "marker": {
             "colorbar": {
              "outlinewidth": 0,
              "ticks": ""
             }
            },
            "type": "histogram"
           }
          ],
          "histogram2d": [
           {
            "colorbar": {
             "outlinewidth": 0,
             "ticks": ""
            },
            "colorscale": [
             [
              0,
              "#0d0887"
             ],
             [
              0.1111111111111111,
              "#46039f"
             ],
             [
              0.2222222222222222,
              "#7201a8"
             ],
             [
              0.3333333333333333,
              "#9c179e"
             ],
             [
              0.4444444444444444,
              "#bd3786"
             ],
             [
              0.5555555555555556,
              "#d8576b"
             ],
             [
              0.6666666666666666,
              "#ed7953"
             ],
             [
              0.7777777777777778,
              "#fb9f3a"
             ],
             [
              0.8888888888888888,
              "#fdca26"
             ],
             [
              1,
              "#f0f921"
             ]
            ],
            "type": "histogram2d"
           }
          ],
          "histogram2dcontour": [
           {
            "colorbar": {
             "outlinewidth": 0,
             "ticks": ""
            },
            "colorscale": [
             [
              0,
              "#0d0887"
             ],
             [
              0.1111111111111111,
              "#46039f"
             ],
             [
              0.2222222222222222,
              "#7201a8"
             ],
             [
              0.3333333333333333,
              "#9c179e"
             ],
             [
              0.4444444444444444,
              "#bd3786"
             ],
             [
              0.5555555555555556,
              "#d8576b"
             ],
             [
              0.6666666666666666,
              "#ed7953"
             ],
             [
              0.7777777777777778,
              "#fb9f3a"
             ],
             [
              0.8888888888888888,
              "#fdca26"
             ],
             [
              1,
              "#f0f921"
             ]
            ],
            "type": "histogram2dcontour"
           }
          ],
          "mesh3d": [
           {
            "colorbar": {
             "outlinewidth": 0,
             "ticks": ""
            },
            "type": "mesh3d"
           }
          ],
          "parcoords": [
           {
            "line": {
             "colorbar": {
              "outlinewidth": 0,
              "ticks": ""
             }
            },
            "type": "parcoords"
           }
          ],
          "pie": [
           {
            "automargin": true,
            "type": "pie"
           }
          ],
          "scatter": [
           {
            "marker": {
             "colorbar": {
              "outlinewidth": 0,
              "ticks": ""
             }
            },
            "type": "scatter"
           }
          ],
          "scatter3d": [
           {
            "line": {
             "colorbar": {
              "outlinewidth": 0,
              "ticks": ""
             }
            },
            "marker": {
             "colorbar": {
              "outlinewidth": 0,
              "ticks": ""
             }
            },
            "type": "scatter3d"
           }
          ],
          "scattercarpet": [
           {
            "marker": {
             "colorbar": {
              "outlinewidth": 0,
              "ticks": ""
             }
            },
            "type": "scattercarpet"
           }
          ],
          "scattergeo": [
           {
            "marker": {
             "colorbar": {
              "outlinewidth": 0,
              "ticks": ""
             }
            },
            "type": "scattergeo"
           }
          ],
          "scattergl": [
           {
            "marker": {
             "colorbar": {
              "outlinewidth": 0,
              "ticks": ""
             }
            },
            "type": "scattergl"
           }
          ],
          "scattermapbox": [
           {
            "marker": {
             "colorbar": {
              "outlinewidth": 0,
              "ticks": ""
             }
            },
            "type": "scattermapbox"
           }
          ],
          "scatterpolar": [
           {
            "marker": {
             "colorbar": {
              "outlinewidth": 0,
              "ticks": ""
             }
            },
            "type": "scatterpolar"
           }
          ],
          "scatterpolargl": [
           {
            "marker": {
             "colorbar": {
              "outlinewidth": 0,
              "ticks": ""
             }
            },
            "type": "scatterpolargl"
           }
          ],
          "scatterternary": [
           {
            "marker": {
             "colorbar": {
              "outlinewidth": 0,
              "ticks": ""
             }
            },
            "type": "scatterternary"
           }
          ],
          "surface": [
           {
            "colorbar": {
             "outlinewidth": 0,
             "ticks": ""
            },
            "colorscale": [
             [
              0,
              "#0d0887"
             ],
             [
              0.1111111111111111,
              "#46039f"
             ],
             [
              0.2222222222222222,
              "#7201a8"
             ],
             [
              0.3333333333333333,
              "#9c179e"
             ],
             [
              0.4444444444444444,
              "#bd3786"
             ],
             [
              0.5555555555555556,
              "#d8576b"
             ],
             [
              0.6666666666666666,
              "#ed7953"
             ],
             [
              0.7777777777777778,
              "#fb9f3a"
             ],
             [
              0.8888888888888888,
              "#fdca26"
             ],
             [
              1,
              "#f0f921"
             ]
            ],
            "type": "surface"
           }
          ],
          "table": [
           {
            "cells": {
             "fill": {
              "color": "#EBF0F8"
             },
             "line": {
              "color": "white"
             }
            },
            "header": {
             "fill": {
              "color": "#C8D4E3"
             },
             "line": {
              "color": "white"
             }
            },
            "type": "table"
           }
          ]
         },
         "layout": {
          "annotationdefaults": {
           "arrowcolor": "#2a3f5f",
           "arrowhead": 0,
           "arrowwidth": 1
          },
          "coloraxis": {
           "colorbar": {
            "outlinewidth": 0,
            "ticks": ""
           }
          },
          "colorscale": {
           "diverging": [
            [
             0,
             "#8e0152"
            ],
            [
             0.1,
             "#c51b7d"
            ],
            [
             0.2,
             "#de77ae"
            ],
            [
             0.3,
             "#f1b6da"
            ],
            [
             0.4,
             "#fde0ef"
            ],
            [
             0.5,
             "#f7f7f7"
            ],
            [
             0.6,
             "#e6f5d0"
            ],
            [
             0.7,
             "#b8e186"
            ],
            [
             0.8,
             "#7fbc41"
            ],
            [
             0.9,
             "#4d9221"
            ],
            [
             1,
             "#276419"
            ]
           ],
           "sequential": [
            [
             0,
             "#0d0887"
            ],
            [
             0.1111111111111111,
             "#46039f"
            ],
            [
             0.2222222222222222,
             "#7201a8"
            ],
            [
             0.3333333333333333,
             "#9c179e"
            ],
            [
             0.4444444444444444,
             "#bd3786"
            ],
            [
             0.5555555555555556,
             "#d8576b"
            ],
            [
             0.6666666666666666,
             "#ed7953"
            ],
            [
             0.7777777777777778,
             "#fb9f3a"
            ],
            [
             0.8888888888888888,
             "#fdca26"
            ],
            [
             1,
             "#f0f921"
            ]
           ],
           "sequentialminus": [
            [
             0,
             "#0d0887"
            ],
            [
             0.1111111111111111,
             "#46039f"
            ],
            [
             0.2222222222222222,
             "#7201a8"
            ],
            [
             0.3333333333333333,
             "#9c179e"
            ],
            [
             0.4444444444444444,
             "#bd3786"
            ],
            [
             0.5555555555555556,
             "#d8576b"
            ],
            [
             0.6666666666666666,
             "#ed7953"
            ],
            [
             0.7777777777777778,
             "#fb9f3a"
            ],
            [
             0.8888888888888888,
             "#fdca26"
            ],
            [
             1,
             "#f0f921"
            ]
           ]
          },
          "colorway": [
           "#636efa",
           "#EF553B",
           "#00cc96",
           "#ab63fa",
           "#FFA15A",
           "#19d3f3",
           "#FF6692",
           "#B6E880",
           "#FF97FF",
           "#FECB52"
          ],
          "font": {
           "color": "#2a3f5f"
          },
          "geo": {
           "bgcolor": "white",
           "lakecolor": "white",
           "landcolor": "#E5ECF6",
           "showlakes": true,
           "showland": true,
           "subunitcolor": "white"
          },
          "hoverlabel": {
           "align": "left"
          },
          "hovermode": "closest",
          "mapbox": {
           "style": "light"
          },
          "paper_bgcolor": "white",
          "plot_bgcolor": "#E5ECF6",
          "polar": {
           "angularaxis": {
            "gridcolor": "white",
            "linecolor": "white",
            "ticks": ""
           },
           "bgcolor": "#E5ECF6",
           "radialaxis": {
            "gridcolor": "white",
            "linecolor": "white",
            "ticks": ""
           }
          },
          "scene": {
           "xaxis": {
            "backgroundcolor": "#E5ECF6",
            "gridcolor": "white",
            "gridwidth": 2,
            "linecolor": "white",
            "showbackground": true,
            "ticks": "",
            "zerolinecolor": "white"
           },
           "yaxis": {
            "backgroundcolor": "#E5ECF6",
            "gridcolor": "white",
            "gridwidth": 2,
            "linecolor": "white",
            "showbackground": true,
            "ticks": "",
            "zerolinecolor": "white"
           },
           "zaxis": {
            "backgroundcolor": "#E5ECF6",
            "gridcolor": "white",
            "gridwidth": 2,
            "linecolor": "white",
            "showbackground": true,
            "ticks": "",
            "zerolinecolor": "white"
           }
          },
          "shapedefaults": {
           "line": {
            "color": "#2a3f5f"
           }
          },
          "ternary": {
           "aaxis": {
            "gridcolor": "white",
            "linecolor": "white",
            "ticks": ""
           },
           "baxis": {
            "gridcolor": "white",
            "linecolor": "white",
            "ticks": ""
           },
           "bgcolor": "#E5ECF6",
           "caxis": {
            "gridcolor": "white",
            "linecolor": "white",
            "ticks": ""
           }
          },
          "title": {
           "x": 0.05
          },
          "xaxis": {
           "automargin": true,
           "gridcolor": "white",
           "linecolor": "white",
           "ticks": "",
           "title": {
            "standoff": 15
           },
           "zerolinecolor": "white",
           "zerolinewidth": 2
          },
          "yaxis": {
           "automargin": true,
           "gridcolor": "white",
           "linecolor": "white",
           "ticks": "",
           "title": {
            "standoff": 15
           },
           "zerolinecolor": "white",
           "zerolinewidth": 2
          }
         }
        },
        "title": {
         "font": {
          "color": "#D9D9D9"
         }
        },
        "xaxis": {
         "gridcolor": "#434343",
         "showgrid": true,
         "tickfont": {
          "color": "#C2C2C2"
         },
         "title": {
          "font": {
           "color": "#D9D9D9"
          },
          "text": ""
         },
         "zerolinecolor": "#666570"
        },
        "xaxis2": {
         "anchor": "y2",
         "gridcolor": "#434343",
         "showgrid": true,
         "showticklabels": false,
         "tickfont": {
          "color": "#C2C2C2"
         },
         "title": {
          "font": {
           "color": "#D9D9D9"
          },
          "text": ""
         },
         "zerolinecolor": "#666570"
        },
        "yaxis": {
         "domain": [
          0.3,
          1
         ],
         "gridcolor": "#434343",
         "showgrid": true,
         "tickfont": {
          "color": "#C2C2C2"
         },
         "title": {
          "font": {
           "color": "#D9D9D9"
          },
          "text": ""
         },
         "zerolinecolor": "#666570"
        },
        "yaxis2": {
         "domain": [
          0,
          0.25
         ],
         "gridcolor": "#434343",
         "showgrid": true,
         "tickfont": {
          "color": "#C2C2C2"
         },
         "title": {
          "font": {
           "color": "#D9D9D9"
          },
          "text": "Spread"
         },
         "zerolinecolor": "#666570"
        }
       }
      },
      "text/html": [
       "<div>\n",
       "        \n",
       "        \n",
       "            <div id=\"ee9ffc40-6c35-404f-99c1-ae6db87de687\" class=\"plotly-graph-div\" style=\"height:525px; width:100%;\"></div>\n",
       "            <script type=\"text/javascript\">\n",
       "                require([\"plotly\"], function(Plotly) {\n",
       "                    window.PLOTLYENV=window.PLOTLYENV || {};\n",
       "                    window.PLOTLYENV.BASE_URL='https://plot.ly';\n",
       "                    \n",
       "                if (document.getElementById(\"ee9ffc40-6c35-404f-99c1-ae6db87de687\")) {\n",
       "                    Plotly.newPlot(\n",
       "                        'ee9ffc40-6c35-404f-99c1-ae6db87de687',\n",
       "                        [{\"line\": {\"color\": \"rgba(255, 153, 51, 1.0)\", \"dash\": \"solid\", \"shape\": \"linear\", \"width\": 1.3}, \"mode\": \"lines\", \"name\": \"A\", \"text\": \"\", \"type\": \"scatter\", \"x\": [0, 1, 2, 3, 4, 5, 6, 7, 8, 9, 10, 11, 12, 13, 14, 15, 16, 17, 18, 19, 20, 21, 22, 23, 24, 25, 26, 27, 28, 29, 30, 31, 32, 33, 34, 35, 36, 37, 38, 39, 40, 41, 42, 43, 44, 45, 46, 47, 48, 49, 50, 51, 52, 53, 54, 55, 56, 57, 58, 59, 60, 61, 62, 63, 64, 65, 66, 67, 68, 69, 70, 71, 72, 73, 74, 75, 76, 77, 78, 79, 80, 81, 82, 83, 84, 85, 86, 87, 88, 89, 90, 91, 92, 93, 94, 95, 96, 97, 98, 99], \"y\": [19.05355417423916, 18.952217225493925, 19.865365899479734, 19.63894883538949, 18.69433573604271, 20.16177760391001, 18.706721148102186, 20.83021578349943, 20.813770424039916, 21.876577899494947, 23.4157025609715, 22.48607651867613, 23.25896799151132, 24.853746571571484, 26.399388646384505, 27.302020733241726, 26.601442256932568, 26.844437565324256, 24.88689913716809, 25.007194393161065, 25.465628571769408, 24.717480092329993, 24.89376823976289, 24.12852385347762, 24.682892116294685, 24.172311582147568, 24.94042188534207, 23.44096989873089, 22.720716338251737, 24.002316726950582, 25.069318855339, 24.4512159216163, 22.963361830000697, 20.93760262243009, 17.898001133826952, 19.675888324282013, 20.744858125185726, 23.23197011092468, 24.120654400923726, 24.368612281042843, 22.98387948917498, 22.443812807233037, 21.561799339469225, 21.46663493633641, 21.494712151145823, 20.265810969262205, 19.29283374536078, 18.603965591064245, 18.023265505192516, 18.69785175886604, 19.607959504013458, 19.004016179600125, 16.986759461223656, 18.329309886042573, 19.052399618290732, 19.029227590135285, 20.267392981564747, 18.98485715628038, 17.45220014359349, 18.4724176135328, 18.793109557266042, 20.758480502975218, 21.693841607759047, 21.41199762345162, 22.40769957423957, 22.816663705235424, 23.207709446586406, 23.537797606994967, 25.689798527285987, 25.562227076430634, 26.855415853177288, 25.55917622084909, 25.901748781714026, 27.08172185921103, 27.117412019943735, 28.342903962632406, 28.27067268969956, 28.566124358905135, 29.30358008491224, 28.129816653061603, 27.927104713181173, 27.19418290107574, 29.300173117310973, 29.69985220771088, 32.1568512875961, 31.932307925439222, 32.323043576459504, 30.972872477316358, 31.08736272483948, 32.75641107457476, 32.12766645159634, 34.12996690601166, 33.43424607783305, 32.519348467732655, 33.259861789745635, 32.22565324660054, 33.843995385700524, 34.77157703363817, 34.33037573056614, 35.66745291542685]}, {\"line\": {\"color\": \"rgba(55, 128, 191, 1.0)\", \"dash\": \"solid\", \"shape\": \"linear\", \"width\": 1.3}, \"mode\": \"lines\", \"name\": \"B\", \"text\": \"\", \"type\": \"scatter\", \"x\": [0, 1, 2, 3, 4, 5, 6, 7, 8, 9, 10, 11, 12, 13, 14, 15, 16, 17, 18, 19, 20, 21, 22, 23, 24, 25, 26, 27, 28, 29, 30, 31, 32, 33, 34, 35, 36, 37, 38, 39, 40, 41, 42, 43, 44, 45, 46, 47, 48, 49, 50, 51, 52, 53, 54, 55, 56, 57, 58, 59, 60, 61, 62, 63, 64, 65, 66, 67, 68, 69, 70, 71, 72, 73, 74, 75, 76, 77, 78, 79, 80, 81, 82, 83, 84, 85, 86, 87, 88, 89, 90, 91, 92, 93, 94, 95, 96, 97, 98, 99], \"y\": [20.224687685551356, 21.536439565654074, 21.672018362970196, 22.366361690454035, 22.093768209281308, 23.77342317347896, 21.805695111712296, 20.842045670428, 21.430651096374042, 21.413930530697023, 21.312356669735497, 19.960349979970797, 20.237370835571713, 21.283258142565337, 22.420773158872006, 21.551012710301567, 20.3569653364381, 20.651263542071955, 22.543617901983065, 21.309599875528917, 20.75926504618888, 19.631781060746647, 20.26848545548732, 20.851528560744118, 20.76848005448148, 21.411400999579257, 21.21495942958562, 22.04877676072323, 22.75235854062727, 22.43369478495357, 23.041266560617544, 23.824741253326224, 23.862846221665926, 23.926981640728975, 23.42223304197247, 24.89391052726584, 25.202050112997586, 26.232593629331745, 26.136291606720977, 25.79390973986341, 26.509119734403658, 26.55859024588922, 26.070832367832416, 26.693919506567667, 26.82528895762112, 28.605463871107744, 28.277318673161687, 28.212164078599997, 27.343268048315824, 27.46907294696319, 27.542122828435385, 27.667793752924535, 27.790056083146304, 27.98692472906863, 27.117414511804206, 29.278771604726526, 27.887134101277386, 25.763544260321947, 22.99730014677046, 25.658460334790743, 25.6233399663063, 27.76091899673433, 26.01680608810962, 26.62516152228668, 26.455325659088857, 25.46543046931759, 27.470368352760293, 26.440325426923316, 25.80987744554895, 25.891292002734314, 25.736758139924397, 25.738965526604602, 24.91063538613909, 25.214244487860952, 24.550886005756134, 23.940249960473487, 24.86476869360318, 25.97038667509796, 25.385713257576374, 24.817846729590386, 25.15495446454062, 26.155673227886034, 26.50727384596003, 27.737896005494044, 26.846300767422374, 26.808635521563268, 24.784149960600395, 25.677035152020835, 27.704830625596962, 29.6180225812225, 30.210529126285607, 30.317321809807737, 32.18867411674365, 32.11351363502118, 32.311632730681296, 30.778588188023548, 30.961984418506045, 32.1197208587845, 31.802136712132004, 32.66762057325556]}, {\"connectgaps\": false, \"fill\": \"tozeroy\", \"line\": {\"color\": \"green\", \"dash\": \"solid\", \"shape\": \"linear\", \"width\": 0.5}, \"mode\": \"lines\", \"name\": \"Spread\", \"showlegend\": false, \"type\": \"scatter\", \"x\": [0, 1, 2, 3, 4, 5, 6, 7, 8, 9, 10, 11, 12, 13, 14, 15, 16, 17, 18, 19, 20, 21, 22, 23, 24, 25, 26, 27, 28, 29, 30, 31, 32, 33, 34, 35, 36, 37, 38, 39, 40, 41, 42, 43, 44, 45, 46, 47, 48, 49, 50, 51, 52, 53, 54, 55, 56, 57, 58, 59, 60, 61, 62, 63, 64, 65, 66, 67, 68, 69, 70, 71, 72, 73, 74, 75, 76, 77, 78, 79, 80, 81, 82, 83, 84, 85, 86, 87, 88, 89, 90, 91, 92, 93, 94, 95, 96, 97, 98, 99], \"xaxis\": \"x2\", \"y\": [\"\", \"\", \"\", \"\", \"\", \"\", \"\", \"\", \"\", 0.46264736879792423, 2.1033458912360032, 2.5257265387053316, 3.021597155939606, 3.570488429006147, 3.9786154875124993, 5.751008022940159, 6.244476920494467, 6.1931740232523005, 2.3432812351850245, 3.6975945176321474, 4.706363525580528, 5.085699031583346, 4.625282784275569, 3.2769952927335027, 3.9144120618132057, 2.760910582568311, 3.7254624557564497, 1.3921931380076629, \"\", 1.5686219419970122, 2.028052294721455, 0.6264746682900757, \"\", \"\", \"\", \"\", \"\", \"\", \"\", \"\", \"\", \"\", \"\", \"\", \"\", \"\", \"\", \"\", \"\", \"\", \"\", \"\", \"\", \"\", \"\", \"\", \"\", \"\", \"\", \"\", \"\", \"\", \"\", \"\", \"\", \"\", \"\", \"\", \"\", \"\", 1.1186577132528903, \"\", 0.9911133955749349, 1.867477371350077, 2.566526014187602, 4.4026540021589184, 3.4059039960963773, 2.595737683807176, 3.9178668273358674, 3.311969923471217, 2.7721502486405534, 1.0385096731897079, 2.7928992713509437, 1.961956202216836, 5.310550520173724, 5.123672403875954, 7.538893615859109, 5.295837325295523, 3.3825320992425176, 3.138388493352256, 1.9171373253107333, 3.812645096203923, 1.2455719610894036, 0.40583483271147713, 0.9482290590643387, 1.4470650585769889, 2.8820109671944785, 2.6518561748536698, 2.5282390184341352, 2.9998323421712882], \"yaxis\": \"y2\"}, {\"connectgaps\": false, \"fill\": \"tozeroy\", \"line\": {\"color\": \"red\", \"dash\": \"solid\", \"shape\": \"linear\", \"width\": 0.5}, \"mode\": \"lines\", \"name\": \"Spread\", \"showlegend\": false, \"type\": \"scatter\", \"x\": [0, 1, 2, 3, 4, 5, 6, 7, 8, 9, 10, 11, 12, 13, 14, 15, 16, 17, 18, 19, 20, 21, 22, 23, 24, 25, 26, 27, 28, 29, 30, 31, 32, 33, 34, 35, 36, 37, 38, 39, 40, 41, 42, 43, 44, 45, 46, 47, 48, 49, 50, 51, 52, 53, 54, 55, 56, 57, 58, 59, 60, 61, 62, 63, 64, 65, 66, 67, 68, 69, 70, 71, 72, 73, 74, 75, 76, 77, 78, 79, 80, 81, 82, 83, 84, 85, 86, 87, 88, 89, 90, 91, 92, 93, 94, 95, 96, 97, 98, 99], \"xaxis\": \"x2\", \"y\": [-1.1711335113121955, -2.5842223401601494, -1.8066524634904617, -2.7274128550645464, -3.3994324732385977, -3.6116455695689496, -3.09897396361011, -0.011829886928570232, -0.6168806723341262, \"\", \"\", \"\", \"\", \"\", \"\", \"\", \"\", \"\", \"\", \"\", \"\", \"\", \"\", \"\", \"\", \"\", \"\", \"\", -0.031642202375532946, \"\", \"\", \"\", -0.8994843916652293, -2.9893790182988838, -5.5242319081455165, -5.218022202983828, -4.457191987811861, -3.000623518407064, -2.015637205797251, -1.425297458820566, -3.5252402452286766, -4.1147774386561835, -4.509033028363191, -5.227284570231259, -5.330576806475296, -8.33965290184554, -8.984484927800906, -9.608198487535752, -9.320002543123309, -8.771221188097151, -7.934163324421927, -8.66377757332441, -10.803296621922648, -9.657614843026057, -8.065014893513474, -10.24954401459124, -7.619741119712639, -6.778687104041566, -5.5451000031769695, -7.186042721257941, -6.830230409040258, -7.0024384937591115, -4.322964480350574, -5.213163898835063, -4.047626084849288, -2.648766764082165, -4.262658906173886, -2.9025278199283484, -0.12007891826296202, -0.3290649263036798, \"\", -0.17978930575551288, \"\", \"\", \"\", \"\", \"\", \"\", \"\", \"\", \"\", \"\", \"\", \"\", \"\", \"\", \"\", \"\", \"\", \"\", \"\", \"\", \"\", \"\", \"\", \"\", \"\", \"\", \"\", \"\"], \"yaxis\": \"y2\"}],\n",
       "                        {\"hovermode\": \"x\", \"legend\": {\"bgcolor\": \"#151516\", \"font\": {\"color\": \"#D9D9D9\"}}, \"paper_bgcolor\": \"#151516\", \"plot_bgcolor\": \"#151516\", \"template\": {\"data\": {\"bar\": [{\"error_x\": {\"color\": \"#2a3f5f\"}, \"error_y\": {\"color\": \"#2a3f5f\"}, \"marker\": {\"line\": {\"color\": \"#E5ECF6\", \"width\": 0.5}}, \"type\": \"bar\"}], \"barpolar\": [{\"marker\": {\"line\": {\"color\": \"#E5ECF6\", \"width\": 0.5}}, \"type\": \"barpolar\"}], \"carpet\": [{\"aaxis\": {\"endlinecolor\": \"#2a3f5f\", \"gridcolor\": \"white\", \"linecolor\": \"white\", \"minorgridcolor\": \"white\", \"startlinecolor\": \"#2a3f5f\"}, \"baxis\": {\"endlinecolor\": \"#2a3f5f\", \"gridcolor\": \"white\", \"linecolor\": \"white\", \"minorgridcolor\": \"white\", \"startlinecolor\": \"#2a3f5f\"}, \"type\": \"carpet\"}], \"choropleth\": [{\"colorbar\": {\"outlinewidth\": 0, \"ticks\": \"\"}, \"type\": \"choropleth\"}], \"contour\": [{\"colorbar\": {\"outlinewidth\": 0, \"ticks\": \"\"}, \"colorscale\": [[0.0, \"#0d0887\"], [0.1111111111111111, \"#46039f\"], [0.2222222222222222, \"#7201a8\"], [0.3333333333333333, \"#9c179e\"], [0.4444444444444444, \"#bd3786\"], [0.5555555555555556, \"#d8576b\"], [0.6666666666666666, \"#ed7953\"], [0.7777777777777778, \"#fb9f3a\"], [0.8888888888888888, \"#fdca26\"], [1.0, \"#f0f921\"]], \"type\": \"contour\"}], \"contourcarpet\": [{\"colorbar\": {\"outlinewidth\": 0, \"ticks\": \"\"}, \"type\": \"contourcarpet\"}], \"heatmap\": [{\"colorbar\": {\"outlinewidth\": 0, \"ticks\": \"\"}, \"colorscale\": [[0.0, \"#0d0887\"], [0.1111111111111111, \"#46039f\"], [0.2222222222222222, \"#7201a8\"], [0.3333333333333333, \"#9c179e\"], [0.4444444444444444, \"#bd3786\"], [0.5555555555555556, \"#d8576b\"], [0.6666666666666666, \"#ed7953\"], [0.7777777777777778, \"#fb9f3a\"], [0.8888888888888888, \"#fdca26\"], [1.0, \"#f0f921\"]], \"type\": \"heatmap\"}], \"heatmapgl\": [{\"colorbar\": {\"outlinewidth\": 0, \"ticks\": \"\"}, \"colorscale\": [[0.0, \"#0d0887\"], [0.1111111111111111, \"#46039f\"], [0.2222222222222222, \"#7201a8\"], [0.3333333333333333, \"#9c179e\"], [0.4444444444444444, \"#bd3786\"], [0.5555555555555556, \"#d8576b\"], [0.6666666666666666, \"#ed7953\"], [0.7777777777777778, \"#fb9f3a\"], [0.8888888888888888, \"#fdca26\"], [1.0, \"#f0f921\"]], \"type\": \"heatmapgl\"}], \"histogram\": [{\"marker\": {\"colorbar\": {\"outlinewidth\": 0, \"ticks\": \"\"}}, \"type\": \"histogram\"}], \"histogram2d\": [{\"colorbar\": {\"outlinewidth\": 0, \"ticks\": \"\"}, \"colorscale\": [[0.0, \"#0d0887\"], [0.1111111111111111, \"#46039f\"], [0.2222222222222222, \"#7201a8\"], [0.3333333333333333, \"#9c179e\"], [0.4444444444444444, \"#bd3786\"], [0.5555555555555556, \"#d8576b\"], [0.6666666666666666, \"#ed7953\"], [0.7777777777777778, \"#fb9f3a\"], [0.8888888888888888, \"#fdca26\"], [1.0, \"#f0f921\"]], \"type\": \"histogram2d\"}], \"histogram2dcontour\": [{\"colorbar\": {\"outlinewidth\": 0, \"ticks\": \"\"}, \"colorscale\": [[0.0, \"#0d0887\"], [0.1111111111111111, \"#46039f\"], [0.2222222222222222, \"#7201a8\"], [0.3333333333333333, \"#9c179e\"], [0.4444444444444444, \"#bd3786\"], [0.5555555555555556, \"#d8576b\"], [0.6666666666666666, \"#ed7953\"], [0.7777777777777778, \"#fb9f3a\"], [0.8888888888888888, \"#fdca26\"], [1.0, \"#f0f921\"]], \"type\": \"histogram2dcontour\"}], \"mesh3d\": [{\"colorbar\": {\"outlinewidth\": 0, \"ticks\": \"\"}, \"type\": \"mesh3d\"}], \"parcoords\": [{\"line\": {\"colorbar\": {\"outlinewidth\": 0, \"ticks\": \"\"}}, \"type\": \"parcoords\"}], \"pie\": [{\"automargin\": true, \"type\": \"pie\"}], \"scatter\": [{\"marker\": {\"colorbar\": {\"outlinewidth\": 0, \"ticks\": \"\"}}, \"type\": \"scatter\"}], \"scatter3d\": [{\"line\": {\"colorbar\": {\"outlinewidth\": 0, \"ticks\": \"\"}}, \"marker\": {\"colorbar\": {\"outlinewidth\": 0, \"ticks\": \"\"}}, \"type\": \"scatter3d\"}], \"scattercarpet\": [{\"marker\": {\"colorbar\": {\"outlinewidth\": 0, \"ticks\": \"\"}}, \"type\": \"scattercarpet\"}], \"scattergeo\": [{\"marker\": {\"colorbar\": {\"outlinewidth\": 0, \"ticks\": \"\"}}, \"type\": \"scattergeo\"}], \"scattergl\": [{\"marker\": {\"colorbar\": {\"outlinewidth\": 0, \"ticks\": \"\"}}, \"type\": \"scattergl\"}], \"scattermapbox\": [{\"marker\": {\"colorbar\": {\"outlinewidth\": 0, \"ticks\": \"\"}}, \"type\": \"scattermapbox\"}], \"scatterpolar\": [{\"marker\": {\"colorbar\": {\"outlinewidth\": 0, \"ticks\": \"\"}}, \"type\": \"scatterpolar\"}], \"scatterpolargl\": [{\"marker\": {\"colorbar\": {\"outlinewidth\": 0, \"ticks\": \"\"}}, \"type\": \"scatterpolargl\"}], \"scatterternary\": [{\"marker\": {\"colorbar\": {\"outlinewidth\": 0, \"ticks\": \"\"}}, \"type\": \"scatterternary\"}], \"surface\": [{\"colorbar\": {\"outlinewidth\": 0, \"ticks\": \"\"}, \"colorscale\": [[0.0, \"#0d0887\"], [0.1111111111111111, \"#46039f\"], [0.2222222222222222, \"#7201a8\"], [0.3333333333333333, \"#9c179e\"], [0.4444444444444444, \"#bd3786\"], [0.5555555555555556, \"#d8576b\"], [0.6666666666666666, \"#ed7953\"], [0.7777777777777778, \"#fb9f3a\"], [0.8888888888888888, \"#fdca26\"], [1.0, \"#f0f921\"]], \"type\": \"surface\"}], \"table\": [{\"cells\": {\"fill\": {\"color\": \"#EBF0F8\"}, \"line\": {\"color\": \"white\"}}, \"header\": {\"fill\": {\"color\": \"#C8D4E3\"}, \"line\": {\"color\": \"white\"}}, \"type\": \"table\"}]}, \"layout\": {\"annotationdefaults\": {\"arrowcolor\": \"#2a3f5f\", \"arrowhead\": 0, \"arrowwidth\": 1}, \"coloraxis\": {\"colorbar\": {\"outlinewidth\": 0, \"ticks\": \"\"}}, \"colorscale\": {\"diverging\": [[0, \"#8e0152\"], [0.1, \"#c51b7d\"], [0.2, \"#de77ae\"], [0.3, \"#f1b6da\"], [0.4, \"#fde0ef\"], [0.5, \"#f7f7f7\"], [0.6, \"#e6f5d0\"], [0.7, \"#b8e186\"], [0.8, \"#7fbc41\"], [0.9, \"#4d9221\"], [1, \"#276419\"]], \"sequential\": [[0.0, \"#0d0887\"], [0.1111111111111111, \"#46039f\"], [0.2222222222222222, \"#7201a8\"], [0.3333333333333333, \"#9c179e\"], [0.4444444444444444, \"#bd3786\"], [0.5555555555555556, \"#d8576b\"], [0.6666666666666666, \"#ed7953\"], [0.7777777777777778, \"#fb9f3a\"], [0.8888888888888888, \"#fdca26\"], [1.0, \"#f0f921\"]], \"sequentialminus\": [[0.0, \"#0d0887\"], [0.1111111111111111, \"#46039f\"], [0.2222222222222222, \"#7201a8\"], [0.3333333333333333, \"#9c179e\"], [0.4444444444444444, \"#bd3786\"], [0.5555555555555556, \"#d8576b\"], [0.6666666666666666, \"#ed7953\"], [0.7777777777777778, \"#fb9f3a\"], [0.8888888888888888, \"#fdca26\"], [1.0, \"#f0f921\"]]}, \"colorway\": [\"#636efa\", \"#EF553B\", \"#00cc96\", \"#ab63fa\", \"#FFA15A\", \"#19d3f3\", \"#FF6692\", \"#B6E880\", \"#FF97FF\", \"#FECB52\"], \"font\": {\"color\": \"#2a3f5f\"}, \"geo\": {\"bgcolor\": \"white\", \"lakecolor\": \"white\", \"landcolor\": \"#E5ECF6\", \"showlakes\": true, \"showland\": true, \"subunitcolor\": \"white\"}, \"hoverlabel\": {\"align\": \"left\"}, \"hovermode\": \"closest\", \"mapbox\": {\"style\": \"light\"}, \"paper_bgcolor\": \"white\", \"plot_bgcolor\": \"#E5ECF6\", \"polar\": {\"angularaxis\": {\"gridcolor\": \"white\", \"linecolor\": \"white\", \"ticks\": \"\"}, \"bgcolor\": \"#E5ECF6\", \"radialaxis\": {\"gridcolor\": \"white\", \"linecolor\": \"white\", \"ticks\": \"\"}}, \"scene\": {\"xaxis\": {\"backgroundcolor\": \"#E5ECF6\", \"gridcolor\": \"white\", \"gridwidth\": 2, \"linecolor\": \"white\", \"showbackground\": true, \"ticks\": \"\", \"zerolinecolor\": \"white\"}, \"yaxis\": {\"backgroundcolor\": \"#E5ECF6\", \"gridcolor\": \"white\", \"gridwidth\": 2, \"linecolor\": \"white\", \"showbackground\": true, \"ticks\": \"\", \"zerolinecolor\": \"white\"}, \"zaxis\": {\"backgroundcolor\": \"#E5ECF6\", \"gridcolor\": \"white\", \"gridwidth\": 2, \"linecolor\": \"white\", \"showbackground\": true, \"ticks\": \"\", \"zerolinecolor\": \"white\"}}, \"shapedefaults\": {\"line\": {\"color\": \"#2a3f5f\"}}, \"ternary\": {\"aaxis\": {\"gridcolor\": \"white\", \"linecolor\": \"white\", \"ticks\": \"\"}, \"baxis\": {\"gridcolor\": \"white\", \"linecolor\": \"white\", \"ticks\": \"\"}, \"bgcolor\": \"#E5ECF6\", \"caxis\": {\"gridcolor\": \"white\", \"linecolor\": \"white\", \"ticks\": \"\"}}, \"title\": {\"x\": 0.05}, \"xaxis\": {\"automargin\": true, \"gridcolor\": \"white\", \"linecolor\": \"white\", \"ticks\": \"\", \"title\": {\"standoff\": 15}, \"zerolinecolor\": \"white\", \"zerolinewidth\": 2}, \"yaxis\": {\"automargin\": true, \"gridcolor\": \"white\", \"linecolor\": \"white\", \"ticks\": \"\", \"title\": {\"standoff\": 15}, \"zerolinecolor\": \"white\", \"zerolinewidth\": 2}}}, \"title\": {\"font\": {\"color\": \"#D9D9D9\"}}, \"xaxis\": {\"gridcolor\": \"#434343\", \"showgrid\": true, \"tickfont\": {\"color\": \"#C2C2C2\"}, \"title\": {\"font\": {\"color\": \"#D9D9D9\"}, \"text\": \"\"}, \"zerolinecolor\": \"#666570\"}, \"xaxis2\": {\"anchor\": \"y2\", \"gridcolor\": \"#434343\", \"showgrid\": true, \"showticklabels\": false, \"tickfont\": {\"color\": \"#C2C2C2\"}, \"title\": {\"font\": {\"color\": \"#D9D9D9\"}, \"text\": \"\"}, \"zerolinecolor\": \"#666570\"}, \"yaxis\": {\"domain\": [0.3, 1], \"gridcolor\": \"#434343\", \"showgrid\": true, \"tickfont\": {\"color\": \"#C2C2C2\"}, \"title\": {\"font\": {\"color\": \"#D9D9D9\"}, \"text\": \"\"}, \"zerolinecolor\": \"#666570\"}, \"yaxis2\": {\"domain\": [0, 0.25], \"gridcolor\": \"#434343\", \"showgrid\": true, \"tickfont\": {\"color\": \"#C2C2C2\"}, \"title\": {\"font\": {\"color\": \"#D9D9D9\"}, \"text\": \"Spread\"}, \"zerolinecolor\": \"#666570\"}},\n",
       "                        {\"showLink\": true, \"linkText\": \"Export to plot.ly\", \"plotlyServerURL\": \"https://plot.ly\", \"responsive\": true}\n",
       "                    ).then(function(){\n",
       "                            \n",
       "var gd = document.getElementById('ee9ffc40-6c35-404f-99c1-ae6db87de687');\n",
       "var x = new MutationObserver(function (mutations, observer) {{\n",
       "        var display = window.getComputedStyle(gd).display;\n",
       "        if (!display || display === 'none') {{\n",
       "            console.log([gd, 'removed!']);\n",
       "            Plotly.purge(gd);\n",
       "            observer.disconnect();\n",
       "        }}\n",
       "}});\n",
       "\n",
       "// Listen for the removal of the full notebook cells\n",
       "var notebookContainer = gd.closest('#notebook-container');\n",
       "if (notebookContainer) {{\n",
       "    x.observe(notebookContainer, {childList: true});\n",
       "}}\n",
       "\n",
       "// Listen for the clearing of the current output cell\n",
       "var outputEl = gd.closest('.output');\n",
       "if (outputEl) {{\n",
       "    x.observe(outputEl, {childList: true});\n",
       "}}\n",
       "\n",
       "                        })\n",
       "                };\n",
       "                });\n",
       "            </script>\n",
       "        </div>"
      ]
     },
     "metadata": {},
     "output_type": "display_data"
    }
   ],
   "source": [
    "df[['A','B']].iplot(kind='spread')"
   ]
  },
  {
   "cell_type": "code",
   "execution_count": 66,
   "metadata": {},
   "outputs": [
    {
     "data": {
      "application/vnd.plotly.v1+json": {
       "config": {
        "linkText": "Export to plot.ly",
        "plotlyServerURL": "https://plot.ly",
        "showLink": true
       },
       "data": [
        {
         "histfunc": "count",
         "histnorm": "",
         "marker": {
          "color": "rgba(255, 153, 51, 1.0)",
          "line": {
           "color": "#D9D9D9",
           "width": 1.3
          }
         },
         "name": "A",
         "nbinsx": 25,
         "opacity": 0.8,
         "orientation": "v",
         "type": "histogram",
         "x": [
          19.05355417423916,
          18.952217225493925,
          19.865365899479734,
          19.63894883538949,
          18.69433573604271,
          20.16177760391001,
          18.706721148102186,
          20.83021578349943,
          20.813770424039916,
          21.876577899494947,
          23.4157025609715,
          22.48607651867613,
          23.25896799151132,
          24.853746571571484,
          26.399388646384505,
          27.302020733241726,
          26.601442256932568,
          26.844437565324256,
          24.88689913716809,
          25.007194393161065,
          25.465628571769408,
          24.717480092329993,
          24.89376823976289,
          24.12852385347762,
          24.682892116294685,
          24.172311582147568,
          24.94042188534207,
          23.44096989873089,
          22.720716338251737,
          24.002316726950582,
          25.069318855339,
          24.4512159216163,
          22.963361830000697,
          20.93760262243009,
          17.898001133826952,
          19.675888324282013,
          20.744858125185726,
          23.23197011092468,
          24.120654400923726,
          24.368612281042843,
          22.98387948917498,
          22.443812807233037,
          21.561799339469225,
          21.46663493633641,
          21.494712151145823,
          20.265810969262205,
          19.29283374536078,
          18.603965591064245,
          18.023265505192516,
          18.69785175886604,
          19.607959504013458,
          19.004016179600125,
          16.986759461223656,
          18.329309886042573,
          19.052399618290732,
          19.029227590135285,
          20.267392981564747,
          18.98485715628038,
          17.45220014359349,
          18.4724176135328,
          18.793109557266042,
          20.758480502975218,
          21.693841607759047,
          21.41199762345162,
          22.40769957423957,
          22.816663705235424,
          23.207709446586406,
          23.537797606994967,
          25.689798527285987,
          25.562227076430634,
          26.855415853177288,
          25.55917622084909,
          25.901748781714026,
          27.08172185921103,
          27.117412019943735,
          28.342903962632406,
          28.27067268969956,
          28.566124358905135,
          29.30358008491224,
          28.129816653061603,
          27.927104713181173,
          27.19418290107574,
          29.300173117310973,
          29.69985220771088,
          32.1568512875961,
          31.932307925439222,
          32.323043576459504,
          30.972872477316358,
          31.08736272483948,
          32.75641107457476,
          32.12766645159634,
          34.12996690601166,
          33.43424607783305,
          32.519348467732655,
          33.259861789745635,
          32.22565324660054,
          33.843995385700524,
          34.77157703363817,
          34.33037573056614,
          35.66745291542685
         ]
        },
        {
         "histfunc": "count",
         "histnorm": "",
         "marker": {
          "color": "rgba(55, 128, 191, 1.0)",
          "line": {
           "color": "#D9D9D9",
           "width": 1.3
          }
         },
         "name": "B",
         "nbinsx": 25,
         "opacity": 0.8,
         "orientation": "v",
         "type": "histogram",
         "x": [
          20.224687685551356,
          21.536439565654074,
          21.672018362970196,
          22.366361690454035,
          22.093768209281308,
          23.77342317347896,
          21.805695111712296,
          20.842045670428,
          21.430651096374042,
          21.413930530697023,
          21.312356669735497,
          19.960349979970797,
          20.237370835571713,
          21.283258142565337,
          22.420773158872006,
          21.551012710301567,
          20.3569653364381,
          20.651263542071955,
          22.543617901983065,
          21.309599875528917,
          20.75926504618888,
          19.631781060746647,
          20.26848545548732,
          20.851528560744118,
          20.76848005448148,
          21.411400999579257,
          21.21495942958562,
          22.04877676072323,
          22.75235854062727,
          22.43369478495357,
          23.041266560617544,
          23.824741253326224,
          23.862846221665926,
          23.926981640728975,
          23.42223304197247,
          24.89391052726584,
          25.202050112997586,
          26.232593629331745,
          26.136291606720977,
          25.79390973986341,
          26.509119734403658,
          26.55859024588922,
          26.070832367832416,
          26.693919506567667,
          26.82528895762112,
          28.605463871107744,
          28.277318673161687,
          28.212164078599997,
          27.343268048315824,
          27.46907294696319,
          27.542122828435385,
          27.667793752924535,
          27.790056083146304,
          27.98692472906863,
          27.117414511804206,
          29.278771604726526,
          27.887134101277386,
          25.763544260321947,
          22.99730014677046,
          25.658460334790743,
          25.6233399663063,
          27.76091899673433,
          26.01680608810962,
          26.62516152228668,
          26.455325659088857,
          25.46543046931759,
          27.470368352760293,
          26.440325426923316,
          25.80987744554895,
          25.891292002734314,
          25.736758139924397,
          25.738965526604602,
          24.91063538613909,
          25.214244487860952,
          24.550886005756134,
          23.940249960473487,
          24.86476869360318,
          25.97038667509796,
          25.385713257576374,
          24.817846729590386,
          25.15495446454062,
          26.155673227886034,
          26.50727384596003,
          27.737896005494044,
          26.846300767422374,
          26.808635521563268,
          24.784149960600395,
          25.677035152020835,
          27.704830625596962,
          29.6180225812225,
          30.210529126285607,
          30.317321809807737,
          32.18867411674365,
          32.11351363502118,
          32.311632730681296,
          30.778588188023548,
          30.961984418506045,
          32.1197208587845,
          31.802136712132004,
          32.66762057325556
         ]
        },
        {
         "histfunc": "count",
         "histnorm": "",
         "marker": {
          "color": "rgba(50, 171, 96, 1.0)",
          "line": {
           "color": "#D9D9D9",
           "width": 1.3
          }
         },
         "name": "C",
         "nbinsx": 25,
         "opacity": 0.8,
         "orientation": "v",
         "type": "histogram",
         "x": [
          20.59130510758723,
          21.270308095882953,
          21.237413885829824,
          22.158376601734638,
          20.592571302314955,
          19.219670330695607,
          19.517393137145504,
          19.557096280029477,
          20.176562147518588,
          20.237441220624994,
          23.11717949789354,
          22.2645056608889,
          22.59321708827719,
          23.786871759359794,
          24.55407224706895,
          24.31406875830635,
          22.322069415995998,
          22.497924258478594,
          19.92176319383767,
          21.05432877058883,
          21.665555687140344,
          21.727401137496823,
          20.456400629978173,
          20.887362056217096,
          21.363503700398233,
          22.20415361842026,
          23.289644148178688,
          23.556173768632235,
          22.864864670947384,
          22.624504115033208,
          21.994551342701598,
          21.1821155062218,
          21.020108146032086,
          19.641362173248904,
          19.041795644409248,
          18.944911265788072,
          17.46651075791815,
          18.108355651082846,
          16.464934091038874,
          14.198934468242438,
          14.902409381685445,
          15.296853863322646,
          14.161243286743936,
          14.830630325366688,
          15.058455844050034,
          14.627212626411847,
          13.520242609318878,
          12.298335861994438,
          11.849599644473788,
          11.470118682992505,
          11.307898569798922,
          12.069319571781275,
          12.377825603430606,
          10.935053505785588,
          9.303174350276525,
          9.317611076398162,
          9.343941802354843,
          8.794420111041577,
          9.429788661766079,
          8.80213241436428,
          8.82280579862743,
          8.409245297375467,
          7.030066184009474,
          7.720774764506679,
          8.38170330554778,
          7.368902967103656,
          7.259244354534905,
          7.048181422037999,
          7.89112658469082,
          8.040620348171347,
          7.61092664142849,
          7.885990937094235,
          6.991550147196591,
          7.159428913036839,
          6.632901294940195,
          6.8067172861791825,
          7.812223860001133,
          6.712712290315135,
          6.309104981231487,
          5.840692523829707,
          6.171335433832075,
          5.745261736312543,
          5.879900448033064,
          6.555246619105677,
          5.813463733667177,
          4.38959053747422,
          3.606719041214788,
          1.7989883150710106,
          3.0915588594432393,
          3.3118811186900743,
          4.094325863174625,
          2.8656922583841755,
          1.7212337429867866,
          2.0566141546311165,
          2.3982591520294676,
          3.4687572092798717,
          2.408982029929895,
          2.161709947421592,
          2.4764338920764963,
          3.630398333934064
         ]
        }
       ],
       "layout": {
        "bargap": 0.3,
        "barmode": "overlay",
        "legend": {
         "bgcolor": "#151516",
         "font": {
          "color": "#D9D9D9"
         }
        },
        "paper_bgcolor": "#151516",
        "plot_bgcolor": "#151516",
        "template": {
         "data": {
          "bar": [
           {
            "error_x": {
             "color": "#2a3f5f"
            },
            "error_y": {
             "color": "#2a3f5f"
            },
            "marker": {
             "line": {
              "color": "#E5ECF6",
              "width": 0.5
             }
            },
            "type": "bar"
           }
          ],
          "barpolar": [
           {
            "marker": {
             "line": {
              "color": "#E5ECF6",
              "width": 0.5
             }
            },
            "type": "barpolar"
           }
          ],
          "carpet": [
           {
            "aaxis": {
             "endlinecolor": "#2a3f5f",
             "gridcolor": "white",
             "linecolor": "white",
             "minorgridcolor": "white",
             "startlinecolor": "#2a3f5f"
            },
            "baxis": {
             "endlinecolor": "#2a3f5f",
             "gridcolor": "white",
             "linecolor": "white",
             "minorgridcolor": "white",
             "startlinecolor": "#2a3f5f"
            },
            "type": "carpet"
           }
          ],
          "choropleth": [
           {
            "colorbar": {
             "outlinewidth": 0,
             "ticks": ""
            },
            "type": "choropleth"
           }
          ],
          "contour": [
           {
            "colorbar": {
             "outlinewidth": 0,
             "ticks": ""
            },
            "colorscale": [
             [
              0,
              "#0d0887"
             ],
             [
              0.1111111111111111,
              "#46039f"
             ],
             [
              0.2222222222222222,
              "#7201a8"
             ],
             [
              0.3333333333333333,
              "#9c179e"
             ],
             [
              0.4444444444444444,
              "#bd3786"
             ],
             [
              0.5555555555555556,
              "#d8576b"
             ],
             [
              0.6666666666666666,
              "#ed7953"
             ],
             [
              0.7777777777777778,
              "#fb9f3a"
             ],
             [
              0.8888888888888888,
              "#fdca26"
             ],
             [
              1,
              "#f0f921"
             ]
            ],
            "type": "contour"
           }
          ],
          "contourcarpet": [
           {
            "colorbar": {
             "outlinewidth": 0,
             "ticks": ""
            },
            "type": "contourcarpet"
           }
          ],
          "heatmap": [
           {
            "colorbar": {
             "outlinewidth": 0,
             "ticks": ""
            },
            "colorscale": [
             [
              0,
              "#0d0887"
             ],
             [
              0.1111111111111111,
              "#46039f"
             ],
             [
              0.2222222222222222,
              "#7201a8"
             ],
             [
              0.3333333333333333,
              "#9c179e"
             ],
             [
              0.4444444444444444,
              "#bd3786"
             ],
             [
              0.5555555555555556,
              "#d8576b"
             ],
             [
              0.6666666666666666,
              "#ed7953"
             ],
             [
              0.7777777777777778,
              "#fb9f3a"
             ],
             [
              0.8888888888888888,
              "#fdca26"
             ],
             [
              1,
              "#f0f921"
             ]
            ],
            "type": "heatmap"
           }
          ],
          "heatmapgl": [
           {
            "colorbar": {
             "outlinewidth": 0,
             "ticks": ""
            },
            "colorscale": [
             [
              0,
              "#0d0887"
             ],
             [
              0.1111111111111111,
              "#46039f"
             ],
             [
              0.2222222222222222,
              "#7201a8"
             ],
             [
              0.3333333333333333,
              "#9c179e"
             ],
             [
              0.4444444444444444,
              "#bd3786"
             ],
             [
              0.5555555555555556,
              "#d8576b"
             ],
             [
              0.6666666666666666,
              "#ed7953"
             ],
             [
              0.7777777777777778,
              "#fb9f3a"
             ],
             [
              0.8888888888888888,
              "#fdca26"
             ],
             [
              1,
              "#f0f921"
             ]
            ],
            "type": "heatmapgl"
           }
          ],
          "histogram": [
           {
            "marker": {
             "colorbar": {
              "outlinewidth": 0,
              "ticks": ""
             }
            },
            "type": "histogram"
           }
          ],
          "histogram2d": [
           {
            "colorbar": {
             "outlinewidth": 0,
             "ticks": ""
            },
            "colorscale": [
             [
              0,
              "#0d0887"
             ],
             [
              0.1111111111111111,
              "#46039f"
             ],
             [
              0.2222222222222222,
              "#7201a8"
             ],
             [
              0.3333333333333333,
              "#9c179e"
             ],
             [
              0.4444444444444444,
              "#bd3786"
             ],
             [
              0.5555555555555556,
              "#d8576b"
             ],
             [
              0.6666666666666666,
              "#ed7953"
             ],
             [
              0.7777777777777778,
              "#fb9f3a"
             ],
             [
              0.8888888888888888,
              "#fdca26"
             ],
             [
              1,
              "#f0f921"
             ]
            ],
            "type": "histogram2d"
           }
          ],
          "histogram2dcontour": [
           {
            "colorbar": {
             "outlinewidth": 0,
             "ticks": ""
            },
            "colorscale": [
             [
              0,
              "#0d0887"
             ],
             [
              0.1111111111111111,
              "#46039f"
             ],
             [
              0.2222222222222222,
              "#7201a8"
             ],
             [
              0.3333333333333333,
              "#9c179e"
             ],
             [
              0.4444444444444444,
              "#bd3786"
             ],
             [
              0.5555555555555556,
              "#d8576b"
             ],
             [
              0.6666666666666666,
              "#ed7953"
             ],
             [
              0.7777777777777778,
              "#fb9f3a"
             ],
             [
              0.8888888888888888,
              "#fdca26"
             ],
             [
              1,
              "#f0f921"
             ]
            ],
            "type": "histogram2dcontour"
           }
          ],
          "mesh3d": [
           {
            "colorbar": {
             "outlinewidth": 0,
             "ticks": ""
            },
            "type": "mesh3d"
           }
          ],
          "parcoords": [
           {
            "line": {
             "colorbar": {
              "outlinewidth": 0,
              "ticks": ""
             }
            },
            "type": "parcoords"
           }
          ],
          "pie": [
           {
            "automargin": true,
            "type": "pie"
           }
          ],
          "scatter": [
           {
            "marker": {
             "colorbar": {
              "outlinewidth": 0,
              "ticks": ""
             }
            },
            "type": "scatter"
           }
          ],
          "scatter3d": [
           {
            "line": {
             "colorbar": {
              "outlinewidth": 0,
              "ticks": ""
             }
            },
            "marker": {
             "colorbar": {
              "outlinewidth": 0,
              "ticks": ""
             }
            },
            "type": "scatter3d"
           }
          ],
          "scattercarpet": [
           {
            "marker": {
             "colorbar": {
              "outlinewidth": 0,
              "ticks": ""
             }
            },
            "type": "scattercarpet"
           }
          ],
          "scattergeo": [
           {
            "marker": {
             "colorbar": {
              "outlinewidth": 0,
              "ticks": ""
             }
            },
            "type": "scattergeo"
           }
          ],
          "scattergl": [
           {
            "marker": {
             "colorbar": {
              "outlinewidth": 0,
              "ticks": ""
             }
            },
            "type": "scattergl"
           }
          ],
          "scattermapbox": [
           {
            "marker": {
             "colorbar": {
              "outlinewidth": 0,
              "ticks": ""
             }
            },
            "type": "scattermapbox"
           }
          ],
          "scatterpolar": [
           {
            "marker": {
             "colorbar": {
              "outlinewidth": 0,
              "ticks": ""
             }
            },
            "type": "scatterpolar"
           }
          ],
          "scatterpolargl": [
           {
            "marker": {
             "colorbar": {
              "outlinewidth": 0,
              "ticks": ""
             }
            },
            "type": "scatterpolargl"
           }
          ],
          "scatterternary": [
           {
            "marker": {
             "colorbar": {
              "outlinewidth": 0,
              "ticks": ""
             }
            },
            "type": "scatterternary"
           }
          ],
          "surface": [
           {
            "colorbar": {
             "outlinewidth": 0,
             "ticks": ""
            },
            "colorscale": [
             [
              0,
              "#0d0887"
             ],
             [
              0.1111111111111111,
              "#46039f"
             ],
             [
              0.2222222222222222,
              "#7201a8"
             ],
             [
              0.3333333333333333,
              "#9c179e"
             ],
             [
              0.4444444444444444,
              "#bd3786"
             ],
             [
              0.5555555555555556,
              "#d8576b"
             ],
             [
              0.6666666666666666,
              "#ed7953"
             ],
             [
              0.7777777777777778,
              "#fb9f3a"
             ],
             [
              0.8888888888888888,
              "#fdca26"
             ],
             [
              1,
              "#f0f921"
             ]
            ],
            "type": "surface"
           }
          ],
          "table": [
           {
            "cells": {
             "fill": {
              "color": "#EBF0F8"
             },
             "line": {
              "color": "white"
             }
            },
            "header": {
             "fill": {
              "color": "#C8D4E3"
             },
             "line": {
              "color": "white"
             }
            },
            "type": "table"
           }
          ]
         },
         "layout": {
          "annotationdefaults": {
           "arrowcolor": "#2a3f5f",
           "arrowhead": 0,
           "arrowwidth": 1
          },
          "coloraxis": {
           "colorbar": {
            "outlinewidth": 0,
            "ticks": ""
           }
          },
          "colorscale": {
           "diverging": [
            [
             0,
             "#8e0152"
            ],
            [
             0.1,
             "#c51b7d"
            ],
            [
             0.2,
             "#de77ae"
            ],
            [
             0.3,
             "#f1b6da"
            ],
            [
             0.4,
             "#fde0ef"
            ],
            [
             0.5,
             "#f7f7f7"
            ],
            [
             0.6,
             "#e6f5d0"
            ],
            [
             0.7,
             "#b8e186"
            ],
            [
             0.8,
             "#7fbc41"
            ],
            [
             0.9,
             "#4d9221"
            ],
            [
             1,
             "#276419"
            ]
           ],
           "sequential": [
            [
             0,
             "#0d0887"
            ],
            [
             0.1111111111111111,
             "#46039f"
            ],
            [
             0.2222222222222222,
             "#7201a8"
            ],
            [
             0.3333333333333333,
             "#9c179e"
            ],
            [
             0.4444444444444444,
             "#bd3786"
            ],
            [
             0.5555555555555556,
             "#d8576b"
            ],
            [
             0.6666666666666666,
             "#ed7953"
            ],
            [
             0.7777777777777778,
             "#fb9f3a"
            ],
            [
             0.8888888888888888,
             "#fdca26"
            ],
            [
             1,
             "#f0f921"
            ]
           ],
           "sequentialminus": [
            [
             0,
             "#0d0887"
            ],
            [
             0.1111111111111111,
             "#46039f"
            ],
            [
             0.2222222222222222,
             "#7201a8"
            ],
            [
             0.3333333333333333,
             "#9c179e"
            ],
            [
             0.4444444444444444,
             "#bd3786"
            ],
            [
             0.5555555555555556,
             "#d8576b"
            ],
            [
             0.6666666666666666,
             "#ed7953"
            ],
            [
             0.7777777777777778,
             "#fb9f3a"
            ],
            [
             0.8888888888888888,
             "#fdca26"
            ],
            [
             1,
             "#f0f921"
            ]
           ]
          },
          "colorway": [
           "#636efa",
           "#EF553B",
           "#00cc96",
           "#ab63fa",
           "#FFA15A",
           "#19d3f3",
           "#FF6692",
           "#B6E880",
           "#FF97FF",
           "#FECB52"
          ],
          "font": {
           "color": "#2a3f5f"
          },
          "geo": {
           "bgcolor": "white",
           "lakecolor": "white",
           "landcolor": "#E5ECF6",
           "showlakes": true,
           "showland": true,
           "subunitcolor": "white"
          },
          "hoverlabel": {
           "align": "left"
          },
          "hovermode": "closest",
          "mapbox": {
           "style": "light"
          },
          "paper_bgcolor": "white",
          "plot_bgcolor": "#E5ECF6",
          "polar": {
           "angularaxis": {
            "gridcolor": "white",
            "linecolor": "white",
            "ticks": ""
           },
           "bgcolor": "#E5ECF6",
           "radialaxis": {
            "gridcolor": "white",
            "linecolor": "white",
            "ticks": ""
           }
          },
          "scene": {
           "xaxis": {
            "backgroundcolor": "#E5ECF6",
            "gridcolor": "white",
            "gridwidth": 2,
            "linecolor": "white",
            "showbackground": true,
            "ticks": "",
            "zerolinecolor": "white"
           },
           "yaxis": {
            "backgroundcolor": "#E5ECF6",
            "gridcolor": "white",
            "gridwidth": 2,
            "linecolor": "white",
            "showbackground": true,
            "ticks": "",
            "zerolinecolor": "white"
           },
           "zaxis": {
            "backgroundcolor": "#E5ECF6",
            "gridcolor": "white",
            "gridwidth": 2,
            "linecolor": "white",
            "showbackground": true,
            "ticks": "",
            "zerolinecolor": "white"
           }
          },
          "shapedefaults": {
           "line": {
            "color": "#2a3f5f"
           }
          },
          "ternary": {
           "aaxis": {
            "gridcolor": "white",
            "linecolor": "white",
            "ticks": ""
           },
           "baxis": {
            "gridcolor": "white",
            "linecolor": "white",
            "ticks": ""
           },
           "bgcolor": "#E5ECF6",
           "caxis": {
            "gridcolor": "white",
            "linecolor": "white",
            "ticks": ""
           }
          },
          "title": {
           "x": 0.05
          },
          "xaxis": {
           "automargin": true,
           "gridcolor": "white",
           "linecolor": "white",
           "ticks": "",
           "title": {
            "standoff": 15
           },
           "zerolinecolor": "white",
           "zerolinewidth": 2
          },
          "yaxis": {
           "automargin": true,
           "gridcolor": "white",
           "linecolor": "white",
           "ticks": "",
           "title": {
            "standoff": 15
           },
           "zerolinecolor": "white",
           "zerolinewidth": 2
          }
         }
        },
        "title": {
         "font": {
          "color": "#D9D9D9"
         }
        },
        "xaxis": {
         "gridcolor": "#434343",
         "showgrid": true,
         "tickfont": {
          "color": "#C2C2C2"
         },
         "title": {
          "font": {
           "color": "#D9D9D9"
          },
          "text": ""
         },
         "zerolinecolor": "#666570"
        },
        "yaxis": {
         "gridcolor": "#434343",
         "showgrid": true,
         "tickfont": {
          "color": "#C2C2C2"
         },
         "title": {
          "font": {
           "color": "#D9D9D9"
          },
          "text": ""
         },
         "zerolinecolor": "#666570"
        }
       }
      },
      "text/html": [
       "<div>\n",
       "        \n",
       "        \n",
       "            <div id=\"8aa6c338-fa63-4500-8174-dac996521699\" class=\"plotly-graph-div\" style=\"height:525px; width:100%;\"></div>\n",
       "            <script type=\"text/javascript\">\n",
       "                require([\"plotly\"], function(Plotly) {\n",
       "                    window.PLOTLYENV=window.PLOTLYENV || {};\n",
       "                    window.PLOTLYENV.BASE_URL='https://plot.ly';\n",
       "                    \n",
       "                if (document.getElementById(\"8aa6c338-fa63-4500-8174-dac996521699\")) {\n",
       "                    Plotly.newPlot(\n",
       "                        '8aa6c338-fa63-4500-8174-dac996521699',\n",
       "                        [{\"histfunc\": \"count\", \"histnorm\": \"\", \"marker\": {\"color\": \"rgba(255, 153, 51, 1.0)\", \"line\": {\"color\": \"#D9D9D9\", \"width\": 1.3}}, \"name\": \"A\", \"nbinsx\": 25, \"opacity\": 0.8, \"orientation\": \"v\", \"type\": \"histogram\", \"x\": [19.05355417423916, 18.952217225493925, 19.865365899479734, 19.63894883538949, 18.69433573604271, 20.16177760391001, 18.706721148102186, 20.83021578349943, 20.813770424039916, 21.876577899494947, 23.4157025609715, 22.48607651867613, 23.25896799151132, 24.853746571571484, 26.399388646384505, 27.302020733241726, 26.601442256932568, 26.844437565324256, 24.88689913716809, 25.007194393161065, 25.465628571769408, 24.717480092329993, 24.89376823976289, 24.12852385347762, 24.682892116294685, 24.172311582147568, 24.94042188534207, 23.44096989873089, 22.720716338251737, 24.002316726950582, 25.069318855339, 24.4512159216163, 22.963361830000697, 20.93760262243009, 17.898001133826952, 19.675888324282013, 20.744858125185726, 23.23197011092468, 24.120654400923726, 24.368612281042843, 22.98387948917498, 22.443812807233037, 21.561799339469225, 21.46663493633641, 21.494712151145823, 20.265810969262205, 19.29283374536078, 18.603965591064245, 18.023265505192516, 18.69785175886604, 19.607959504013458, 19.004016179600125, 16.986759461223656, 18.329309886042573, 19.052399618290732, 19.029227590135285, 20.267392981564747, 18.98485715628038, 17.45220014359349, 18.4724176135328, 18.793109557266042, 20.758480502975218, 21.693841607759047, 21.41199762345162, 22.40769957423957, 22.816663705235424, 23.207709446586406, 23.537797606994967, 25.689798527285987, 25.562227076430634, 26.855415853177288, 25.55917622084909, 25.901748781714026, 27.08172185921103, 27.117412019943735, 28.342903962632406, 28.27067268969956, 28.566124358905135, 29.30358008491224, 28.129816653061603, 27.927104713181173, 27.19418290107574, 29.300173117310973, 29.69985220771088, 32.1568512875961, 31.932307925439222, 32.323043576459504, 30.972872477316358, 31.08736272483948, 32.75641107457476, 32.12766645159634, 34.12996690601166, 33.43424607783305, 32.519348467732655, 33.259861789745635, 32.22565324660054, 33.843995385700524, 34.77157703363817, 34.33037573056614, 35.66745291542685]}, {\"histfunc\": \"count\", \"histnorm\": \"\", \"marker\": {\"color\": \"rgba(55, 128, 191, 1.0)\", \"line\": {\"color\": \"#D9D9D9\", \"width\": 1.3}}, \"name\": \"B\", \"nbinsx\": 25, \"opacity\": 0.8, \"orientation\": \"v\", \"type\": \"histogram\", \"x\": [20.224687685551356, 21.536439565654074, 21.672018362970196, 22.366361690454035, 22.093768209281308, 23.77342317347896, 21.805695111712296, 20.842045670428, 21.430651096374042, 21.413930530697023, 21.312356669735497, 19.960349979970797, 20.237370835571713, 21.283258142565337, 22.420773158872006, 21.551012710301567, 20.3569653364381, 20.651263542071955, 22.543617901983065, 21.309599875528917, 20.75926504618888, 19.631781060746647, 20.26848545548732, 20.851528560744118, 20.76848005448148, 21.411400999579257, 21.21495942958562, 22.04877676072323, 22.75235854062727, 22.43369478495357, 23.041266560617544, 23.824741253326224, 23.862846221665926, 23.926981640728975, 23.42223304197247, 24.89391052726584, 25.202050112997586, 26.232593629331745, 26.136291606720977, 25.79390973986341, 26.509119734403658, 26.55859024588922, 26.070832367832416, 26.693919506567667, 26.82528895762112, 28.605463871107744, 28.277318673161687, 28.212164078599997, 27.343268048315824, 27.46907294696319, 27.542122828435385, 27.667793752924535, 27.790056083146304, 27.98692472906863, 27.117414511804206, 29.278771604726526, 27.887134101277386, 25.763544260321947, 22.99730014677046, 25.658460334790743, 25.6233399663063, 27.76091899673433, 26.01680608810962, 26.62516152228668, 26.455325659088857, 25.46543046931759, 27.470368352760293, 26.440325426923316, 25.80987744554895, 25.891292002734314, 25.736758139924397, 25.738965526604602, 24.91063538613909, 25.214244487860952, 24.550886005756134, 23.940249960473487, 24.86476869360318, 25.97038667509796, 25.385713257576374, 24.817846729590386, 25.15495446454062, 26.155673227886034, 26.50727384596003, 27.737896005494044, 26.846300767422374, 26.808635521563268, 24.784149960600395, 25.677035152020835, 27.704830625596962, 29.6180225812225, 30.210529126285607, 30.317321809807737, 32.18867411674365, 32.11351363502118, 32.311632730681296, 30.778588188023548, 30.961984418506045, 32.1197208587845, 31.802136712132004, 32.66762057325556]}, {\"histfunc\": \"count\", \"histnorm\": \"\", \"marker\": {\"color\": \"rgba(50, 171, 96, 1.0)\", \"line\": {\"color\": \"#D9D9D9\", \"width\": 1.3}}, \"name\": \"C\", \"nbinsx\": 25, \"opacity\": 0.8, \"orientation\": \"v\", \"type\": \"histogram\", \"x\": [20.59130510758723, 21.270308095882953, 21.237413885829824, 22.158376601734638, 20.592571302314955, 19.219670330695607, 19.517393137145504, 19.557096280029477, 20.176562147518588, 20.237441220624994, 23.11717949789354, 22.2645056608889, 22.59321708827719, 23.786871759359794, 24.55407224706895, 24.31406875830635, 22.322069415995998, 22.497924258478594, 19.92176319383767, 21.05432877058883, 21.665555687140344, 21.727401137496823, 20.456400629978173, 20.887362056217096, 21.363503700398233, 22.20415361842026, 23.289644148178688, 23.556173768632235, 22.864864670947384, 22.624504115033208, 21.994551342701598, 21.1821155062218, 21.020108146032086, 19.641362173248904, 19.041795644409248, 18.944911265788072, 17.46651075791815, 18.108355651082846, 16.464934091038874, 14.198934468242438, 14.902409381685445, 15.296853863322646, 14.161243286743936, 14.830630325366688, 15.058455844050034, 14.627212626411847, 13.520242609318878, 12.298335861994438, 11.849599644473788, 11.470118682992505, 11.307898569798922, 12.069319571781275, 12.377825603430606, 10.935053505785588, 9.303174350276525, 9.317611076398162, 9.343941802354843, 8.794420111041577, 9.429788661766079, 8.80213241436428, 8.82280579862743, 8.409245297375467, 7.030066184009474, 7.720774764506679, 8.38170330554778, 7.368902967103656, 7.259244354534905, 7.048181422037999, 7.89112658469082, 8.040620348171347, 7.61092664142849, 7.885990937094235, 6.991550147196591, 7.159428913036839, 6.632901294940195, 6.8067172861791825, 7.812223860001133, 6.712712290315135, 6.309104981231487, 5.840692523829707, 6.171335433832075, 5.745261736312543, 5.879900448033064, 6.555246619105677, 5.813463733667177, 4.38959053747422, 3.606719041214788, 1.7989883150710106, 3.0915588594432393, 3.3118811186900743, 4.094325863174625, 2.8656922583841755, 1.7212337429867866, 2.0566141546311165, 2.3982591520294676, 3.4687572092798717, 2.408982029929895, 2.161709947421592, 2.4764338920764963, 3.630398333934064]}],\n",
       "                        {\"bargap\": 0.3, \"barmode\": \"overlay\", \"legend\": {\"bgcolor\": \"#151516\", \"font\": {\"color\": \"#D9D9D9\"}}, \"paper_bgcolor\": \"#151516\", \"plot_bgcolor\": \"#151516\", \"template\": {\"data\": {\"bar\": [{\"error_x\": {\"color\": \"#2a3f5f\"}, \"error_y\": {\"color\": \"#2a3f5f\"}, \"marker\": {\"line\": {\"color\": \"#E5ECF6\", \"width\": 0.5}}, \"type\": \"bar\"}], \"barpolar\": [{\"marker\": {\"line\": {\"color\": \"#E5ECF6\", \"width\": 0.5}}, \"type\": \"barpolar\"}], \"carpet\": [{\"aaxis\": {\"endlinecolor\": \"#2a3f5f\", \"gridcolor\": \"white\", \"linecolor\": \"white\", \"minorgridcolor\": \"white\", \"startlinecolor\": \"#2a3f5f\"}, \"baxis\": {\"endlinecolor\": \"#2a3f5f\", \"gridcolor\": \"white\", \"linecolor\": \"white\", \"minorgridcolor\": \"white\", \"startlinecolor\": \"#2a3f5f\"}, \"type\": \"carpet\"}], \"choropleth\": [{\"colorbar\": {\"outlinewidth\": 0, \"ticks\": \"\"}, \"type\": \"choropleth\"}], \"contour\": [{\"colorbar\": {\"outlinewidth\": 0, \"ticks\": \"\"}, \"colorscale\": [[0.0, \"#0d0887\"], [0.1111111111111111, \"#46039f\"], [0.2222222222222222, \"#7201a8\"], [0.3333333333333333, \"#9c179e\"], [0.4444444444444444, \"#bd3786\"], [0.5555555555555556, \"#d8576b\"], [0.6666666666666666, \"#ed7953\"], [0.7777777777777778, \"#fb9f3a\"], [0.8888888888888888, \"#fdca26\"], [1.0, \"#f0f921\"]], \"type\": \"contour\"}], \"contourcarpet\": [{\"colorbar\": {\"outlinewidth\": 0, \"ticks\": \"\"}, \"type\": \"contourcarpet\"}], \"heatmap\": [{\"colorbar\": {\"outlinewidth\": 0, \"ticks\": \"\"}, \"colorscale\": [[0.0, \"#0d0887\"], [0.1111111111111111, \"#46039f\"], [0.2222222222222222, \"#7201a8\"], [0.3333333333333333, \"#9c179e\"], [0.4444444444444444, \"#bd3786\"], [0.5555555555555556, \"#d8576b\"], [0.6666666666666666, \"#ed7953\"], [0.7777777777777778, \"#fb9f3a\"], [0.8888888888888888, \"#fdca26\"], [1.0, \"#f0f921\"]], \"type\": \"heatmap\"}], \"heatmapgl\": [{\"colorbar\": {\"outlinewidth\": 0, \"ticks\": \"\"}, \"colorscale\": [[0.0, \"#0d0887\"], [0.1111111111111111, \"#46039f\"], [0.2222222222222222, \"#7201a8\"], [0.3333333333333333, \"#9c179e\"], [0.4444444444444444, \"#bd3786\"], [0.5555555555555556, \"#d8576b\"], [0.6666666666666666, \"#ed7953\"], [0.7777777777777778, \"#fb9f3a\"], [0.8888888888888888, \"#fdca26\"], [1.0, \"#f0f921\"]], \"type\": \"heatmapgl\"}], \"histogram\": [{\"marker\": {\"colorbar\": {\"outlinewidth\": 0, \"ticks\": \"\"}}, \"type\": \"histogram\"}], \"histogram2d\": [{\"colorbar\": {\"outlinewidth\": 0, \"ticks\": \"\"}, \"colorscale\": [[0.0, \"#0d0887\"], [0.1111111111111111, \"#46039f\"], [0.2222222222222222, \"#7201a8\"], [0.3333333333333333, \"#9c179e\"], [0.4444444444444444, \"#bd3786\"], [0.5555555555555556, \"#d8576b\"], [0.6666666666666666, \"#ed7953\"], [0.7777777777777778, \"#fb9f3a\"], [0.8888888888888888, \"#fdca26\"], [1.0, \"#f0f921\"]], \"type\": \"histogram2d\"}], \"histogram2dcontour\": [{\"colorbar\": {\"outlinewidth\": 0, \"ticks\": \"\"}, \"colorscale\": [[0.0, \"#0d0887\"], [0.1111111111111111, \"#46039f\"], [0.2222222222222222, \"#7201a8\"], [0.3333333333333333, \"#9c179e\"], [0.4444444444444444, \"#bd3786\"], [0.5555555555555556, \"#d8576b\"], [0.6666666666666666, \"#ed7953\"], [0.7777777777777778, \"#fb9f3a\"], [0.8888888888888888, \"#fdca26\"], [1.0, \"#f0f921\"]], \"type\": \"histogram2dcontour\"}], \"mesh3d\": [{\"colorbar\": {\"outlinewidth\": 0, \"ticks\": \"\"}, \"type\": \"mesh3d\"}], \"parcoords\": [{\"line\": {\"colorbar\": {\"outlinewidth\": 0, \"ticks\": \"\"}}, \"type\": \"parcoords\"}], \"pie\": [{\"automargin\": true, \"type\": \"pie\"}], \"scatter\": [{\"marker\": {\"colorbar\": {\"outlinewidth\": 0, \"ticks\": \"\"}}, \"type\": \"scatter\"}], \"scatter3d\": [{\"line\": {\"colorbar\": {\"outlinewidth\": 0, \"ticks\": \"\"}}, \"marker\": {\"colorbar\": {\"outlinewidth\": 0, \"ticks\": \"\"}}, \"type\": \"scatter3d\"}], \"scattercarpet\": [{\"marker\": {\"colorbar\": {\"outlinewidth\": 0, \"ticks\": \"\"}}, \"type\": \"scattercarpet\"}], \"scattergeo\": [{\"marker\": {\"colorbar\": {\"outlinewidth\": 0, \"ticks\": \"\"}}, \"type\": \"scattergeo\"}], \"scattergl\": [{\"marker\": {\"colorbar\": {\"outlinewidth\": 0, \"ticks\": \"\"}}, \"type\": \"scattergl\"}], \"scattermapbox\": [{\"marker\": {\"colorbar\": {\"outlinewidth\": 0, \"ticks\": \"\"}}, \"type\": \"scattermapbox\"}], \"scatterpolar\": [{\"marker\": {\"colorbar\": {\"outlinewidth\": 0, \"ticks\": \"\"}}, \"type\": \"scatterpolar\"}], \"scatterpolargl\": [{\"marker\": {\"colorbar\": {\"outlinewidth\": 0, \"ticks\": \"\"}}, \"type\": \"scatterpolargl\"}], \"scatterternary\": [{\"marker\": {\"colorbar\": {\"outlinewidth\": 0, \"ticks\": \"\"}}, \"type\": \"scatterternary\"}], \"surface\": [{\"colorbar\": {\"outlinewidth\": 0, \"ticks\": \"\"}, \"colorscale\": [[0.0, \"#0d0887\"], [0.1111111111111111, \"#46039f\"], [0.2222222222222222, \"#7201a8\"], [0.3333333333333333, \"#9c179e\"], [0.4444444444444444, \"#bd3786\"], [0.5555555555555556, \"#d8576b\"], [0.6666666666666666, \"#ed7953\"], [0.7777777777777778, \"#fb9f3a\"], [0.8888888888888888, \"#fdca26\"], [1.0, \"#f0f921\"]], \"type\": \"surface\"}], \"table\": [{\"cells\": {\"fill\": {\"color\": \"#EBF0F8\"}, \"line\": {\"color\": \"white\"}}, \"header\": {\"fill\": {\"color\": \"#C8D4E3\"}, \"line\": {\"color\": \"white\"}}, \"type\": \"table\"}]}, \"layout\": {\"annotationdefaults\": {\"arrowcolor\": \"#2a3f5f\", \"arrowhead\": 0, \"arrowwidth\": 1}, \"coloraxis\": {\"colorbar\": {\"outlinewidth\": 0, \"ticks\": \"\"}}, \"colorscale\": {\"diverging\": [[0, \"#8e0152\"], [0.1, \"#c51b7d\"], [0.2, \"#de77ae\"], [0.3, \"#f1b6da\"], [0.4, \"#fde0ef\"], [0.5, \"#f7f7f7\"], [0.6, \"#e6f5d0\"], [0.7, \"#b8e186\"], [0.8, \"#7fbc41\"], [0.9, \"#4d9221\"], [1, \"#276419\"]], \"sequential\": [[0.0, \"#0d0887\"], [0.1111111111111111, \"#46039f\"], [0.2222222222222222, \"#7201a8\"], [0.3333333333333333, \"#9c179e\"], [0.4444444444444444, \"#bd3786\"], [0.5555555555555556, \"#d8576b\"], [0.6666666666666666, \"#ed7953\"], [0.7777777777777778, \"#fb9f3a\"], [0.8888888888888888, \"#fdca26\"], [1.0, \"#f0f921\"]], \"sequentialminus\": [[0.0, \"#0d0887\"], [0.1111111111111111, \"#46039f\"], [0.2222222222222222, \"#7201a8\"], [0.3333333333333333, \"#9c179e\"], [0.4444444444444444, \"#bd3786\"], [0.5555555555555556, \"#d8576b\"], [0.6666666666666666, \"#ed7953\"], [0.7777777777777778, \"#fb9f3a\"], [0.8888888888888888, \"#fdca26\"], [1.0, \"#f0f921\"]]}, \"colorway\": [\"#636efa\", \"#EF553B\", \"#00cc96\", \"#ab63fa\", \"#FFA15A\", \"#19d3f3\", \"#FF6692\", \"#B6E880\", \"#FF97FF\", \"#FECB52\"], \"font\": {\"color\": \"#2a3f5f\"}, \"geo\": {\"bgcolor\": \"white\", \"lakecolor\": \"white\", \"landcolor\": \"#E5ECF6\", \"showlakes\": true, \"showland\": true, \"subunitcolor\": \"white\"}, \"hoverlabel\": {\"align\": \"left\"}, \"hovermode\": \"closest\", \"mapbox\": {\"style\": \"light\"}, \"paper_bgcolor\": \"white\", \"plot_bgcolor\": \"#E5ECF6\", \"polar\": {\"angularaxis\": {\"gridcolor\": \"white\", \"linecolor\": \"white\", \"ticks\": \"\"}, \"bgcolor\": \"#E5ECF6\", \"radialaxis\": {\"gridcolor\": \"white\", \"linecolor\": \"white\", \"ticks\": \"\"}}, \"scene\": {\"xaxis\": {\"backgroundcolor\": \"#E5ECF6\", \"gridcolor\": \"white\", \"gridwidth\": 2, \"linecolor\": \"white\", \"showbackground\": true, \"ticks\": \"\", \"zerolinecolor\": \"white\"}, \"yaxis\": {\"backgroundcolor\": \"#E5ECF6\", \"gridcolor\": \"white\", \"gridwidth\": 2, \"linecolor\": \"white\", \"showbackground\": true, \"ticks\": \"\", \"zerolinecolor\": \"white\"}, \"zaxis\": {\"backgroundcolor\": \"#E5ECF6\", \"gridcolor\": \"white\", \"gridwidth\": 2, \"linecolor\": \"white\", \"showbackground\": true, \"ticks\": \"\", \"zerolinecolor\": \"white\"}}, \"shapedefaults\": {\"line\": {\"color\": \"#2a3f5f\"}}, \"ternary\": {\"aaxis\": {\"gridcolor\": \"white\", \"linecolor\": \"white\", \"ticks\": \"\"}, \"baxis\": {\"gridcolor\": \"white\", \"linecolor\": \"white\", \"ticks\": \"\"}, \"bgcolor\": \"#E5ECF6\", \"caxis\": {\"gridcolor\": \"white\", \"linecolor\": \"white\", \"ticks\": \"\"}}, \"title\": {\"x\": 0.05}, \"xaxis\": {\"automargin\": true, \"gridcolor\": \"white\", \"linecolor\": \"white\", \"ticks\": \"\", \"title\": {\"standoff\": 15}, \"zerolinecolor\": \"white\", \"zerolinewidth\": 2}, \"yaxis\": {\"automargin\": true, \"gridcolor\": \"white\", \"linecolor\": \"white\", \"ticks\": \"\", \"title\": {\"standoff\": 15}, \"zerolinecolor\": \"white\", \"zerolinewidth\": 2}}}, \"title\": {\"font\": {\"color\": \"#D9D9D9\"}}, \"xaxis\": {\"gridcolor\": \"#434343\", \"showgrid\": true, \"tickfont\": {\"color\": \"#C2C2C2\"}, \"title\": {\"font\": {\"color\": \"#D9D9D9\"}, \"text\": \"\"}, \"zerolinecolor\": \"#666570\"}, \"yaxis\": {\"gridcolor\": \"#434343\", \"showgrid\": true, \"tickfont\": {\"color\": \"#C2C2C2\"}, \"title\": {\"font\": {\"color\": \"#D9D9D9\"}, \"text\": \"\"}, \"zerolinecolor\": \"#666570\"}},\n",
       "                        {\"showLink\": true, \"linkText\": \"Export to plot.ly\", \"plotlyServerURL\": \"https://plot.ly\", \"responsive\": true}\n",
       "                    ).then(function(){\n",
       "                            \n",
       "var gd = document.getElementById('8aa6c338-fa63-4500-8174-dac996521699');\n",
       "var x = new MutationObserver(function (mutations, observer) {{\n",
       "        var display = window.getComputedStyle(gd).display;\n",
       "        if (!display || display === 'none') {{\n",
       "            console.log([gd, 'removed!']);\n",
       "            Plotly.purge(gd);\n",
       "            observer.disconnect();\n",
       "        }}\n",
       "}});\n",
       "\n",
       "// Listen for the removal of the full notebook cells\n",
       "var notebookContainer = gd.closest('#notebook-container');\n",
       "if (notebookContainer) {{\n",
       "    x.observe(notebookContainer, {childList: true});\n",
       "}}\n",
       "\n",
       "// Listen for the clearing of the current output cell\n",
       "var outputEl = gd.closest('.output');\n",
       "if (outputEl) {{\n",
       "    x.observe(outputEl, {childList: true});\n",
       "}}\n",
       "\n",
       "                        })\n",
       "                };\n",
       "                });\n",
       "            </script>\n",
       "        </div>"
      ]
     },
     "metadata": {},
     "output_type": "display_data"
    }
   ],
   "source": [
    "df.iplot(kind='hist',bins=25,barmode='overlay',bargap=0.3)"
   ]
  },
  {
   "cell_type": "code",
   "execution_count": 69,
   "metadata": {},
   "outputs": [
    {
     "data": {
      "application/vnd.plotly.v1+json": {
       "config": {
        "linkText": "Export to plot.ly",
        "plotlyServerURL": "https://plot.ly",
        "showLink": true
       },
       "data": [
        {
         "marker": {
          "color": [
           "rgba(255, 153, 51, 1.0)",
           "rgba(55, 128, 191, 1.0)",
           "rgba(50, 171, 96, 1.0)",
           "rgba(128, 0, 128, 1.0)",
           "rgba(219, 64, 82, 1.0)",
           "rgba(0, 128, 128, 1.0)",
           "rgba(255, 255, 51, 1.0)",
           "rgba(128, 128, 0, 1.0)",
           "rgba(251, 128, 114, 1.0)",
           "rgba(128, 177, 211, 1.0)",
           "rgba(128, 177, 211, 0.8999999999999999)",
           "rgba(255, 153, 51, 0.8999999999999999)",
           "rgba(55, 128, 191, 0.8999999999999999)",
           "rgba(50, 171, 96, 0.8999999999999999)",
           "rgba(128, 0, 128, 0.8999999999999999)",
           "rgba(219, 64, 82, 0.8999999999999999)",
           "rgba(0, 128, 128, 0.8999999999999999)",
           "rgba(255, 255, 51, 0.8999999999999999)",
           "rgba(128, 128, 0, 0.8999999999999999)",
           "rgba(251, 128, 114, 0.8999999999999999)"
          ],
          "opacity": 0.8,
          "size": [
           12,
           72,
           95,
           43,
           112,
           49,
           45,
           16,
           14,
           86,
           53,
           92,
           51,
           110,
           77,
           92,
           72,
           19,
           31,
           90
          ],
          "symbol": "circle"
         },
         "mode": "markers",
         "text": [
          "0",
          "1",
          "2",
          "3",
          "4",
          "5",
          "6",
          "7",
          "8",
          "9",
          "10",
          "11",
          "12",
          "13",
          "14",
          "15",
          "16",
          "17",
          "18",
          "19"
         ],
         "type": "scatter3d",
         "x": [
          1.3055336534175837,
          1.478581706089061,
          -0.40170180039608083,
          0.669524029759927,
          0.5086778013816179,
          0.1438626054361441,
          0.8945562339543199,
          1.534335967989068,
          -0.1911463361231372,
          0.5869301975691978,
          -0.1431588336643812,
          0.5394123289413421,
          -0.12905779401233586,
          1.8578889340136744,
          1.8977096439628098,
          0.20889407979399938,
          -1.0269116291444842,
          -0.7469571832628218,
          1.1234494117683413,
          -0.2018798574120575
         ],
         "y": [
          -0.5644805860076985,
          -2.455547370800925,
          -0.040273745159332554,
          -1.006887870854756,
          0.6693839934982184,
          -0.09195794725007105,
          -1.1614350595875211,
          -1.1602092616931852,
          -1.1199746140217404,
          0.04284222485525983,
          -1.3181220127020876,
          -0.42419400465551654,
          1.576448545359151,
          0.780929276422593,
          0.020064219047839425,
          -1.4395491563658434,
          0.20357271185219358,
          -0.05239819532503409,
          1.2836961230131756,
          0.5756509867133621
         ],
         "z": [
          0.5428471534291984,
          -1.7667229035780512,
          1.8393447572712918,
          0.5172261294512068,
          1.3812760902676915,
          0.05669608679692351,
          1.2863417743837051,
          0.4851370173698067,
          -0.09593565873990537,
          -0.6310975210537318,
          -0.32682511655400776,
          -0.40142357898931863,
          -0.7489543785711962,
          -1.0704269975870209,
          -2.7122845911191824,
          -1.0129086984862445,
          -0.5679848720410229,
          -0.3500003708830023,
          1.3522687330624439,
          -1.1681539849505074
         ]
        }
       ],
       "layout": {
        "legend": {
         "bgcolor": "#151516",
         "font": {
          "color": "#D9D9D9"
         }
        },
        "paper_bgcolor": "#151516",
        "plot_bgcolor": "#151516",
        "scene": {
         "xaxis": {
          "gridcolor": "#434343",
          "showgrid": true,
          "tickfont": {
           "color": "#C2C2C2"
          },
          "title": {
           "font": {
            "color": "#D9D9D9"
           },
           "text": ""
          },
          "zerolinecolor": "#666570"
         },
         "yaxis": {
          "gridcolor": "#434343",
          "showgrid": true,
          "tickfont": {
           "color": "#C2C2C2"
          },
          "title": {
           "font": {
            "color": "#D9D9D9"
           },
           "text": ""
          },
          "zerolinecolor": "#666570"
         },
         "zaxis": {
          "gridcolor": "#434343",
          "showgrid": true,
          "tickfont": {
           "color": "#C2C2C2"
          },
          "title": {
           "font": {
            "color": "#D9D9D9"
           },
           "text": ""
          },
          "zerolinecolor": "#666570"
         }
        },
        "template": {
         "data": {
          "bar": [
           {
            "error_x": {
             "color": "#2a3f5f"
            },
            "error_y": {
             "color": "#2a3f5f"
            },
            "marker": {
             "line": {
              "color": "#E5ECF6",
              "width": 0.5
             }
            },
            "type": "bar"
           }
          ],
          "barpolar": [
           {
            "marker": {
             "line": {
              "color": "#E5ECF6",
              "width": 0.5
             }
            },
            "type": "barpolar"
           }
          ],
          "carpet": [
           {
            "aaxis": {
             "endlinecolor": "#2a3f5f",
             "gridcolor": "white",
             "linecolor": "white",
             "minorgridcolor": "white",
             "startlinecolor": "#2a3f5f"
            },
            "baxis": {
             "endlinecolor": "#2a3f5f",
             "gridcolor": "white",
             "linecolor": "white",
             "minorgridcolor": "white",
             "startlinecolor": "#2a3f5f"
            },
            "type": "carpet"
           }
          ],
          "choropleth": [
           {
            "colorbar": {
             "outlinewidth": 0,
             "ticks": ""
            },
            "type": "choropleth"
           }
          ],
          "contour": [
           {
            "colorbar": {
             "outlinewidth": 0,
             "ticks": ""
            },
            "colorscale": [
             [
              0,
              "#0d0887"
             ],
             [
              0.1111111111111111,
              "#46039f"
             ],
             [
              0.2222222222222222,
              "#7201a8"
             ],
             [
              0.3333333333333333,
              "#9c179e"
             ],
             [
              0.4444444444444444,
              "#bd3786"
             ],
             [
              0.5555555555555556,
              "#d8576b"
             ],
             [
              0.6666666666666666,
              "#ed7953"
             ],
             [
              0.7777777777777778,
              "#fb9f3a"
             ],
             [
              0.8888888888888888,
              "#fdca26"
             ],
             [
              1,
              "#f0f921"
             ]
            ],
            "type": "contour"
           }
          ],
          "contourcarpet": [
           {
            "colorbar": {
             "outlinewidth": 0,
             "ticks": ""
            },
            "type": "contourcarpet"
           }
          ],
          "heatmap": [
           {
            "colorbar": {
             "outlinewidth": 0,
             "ticks": ""
            },
            "colorscale": [
             [
              0,
              "#0d0887"
             ],
             [
              0.1111111111111111,
              "#46039f"
             ],
             [
              0.2222222222222222,
              "#7201a8"
             ],
             [
              0.3333333333333333,
              "#9c179e"
             ],
             [
              0.4444444444444444,
              "#bd3786"
             ],
             [
              0.5555555555555556,
              "#d8576b"
             ],
             [
              0.6666666666666666,
              "#ed7953"
             ],
             [
              0.7777777777777778,
              "#fb9f3a"
             ],
             [
              0.8888888888888888,
              "#fdca26"
             ],
             [
              1,
              "#f0f921"
             ]
            ],
            "type": "heatmap"
           }
          ],
          "heatmapgl": [
           {
            "colorbar": {
             "outlinewidth": 0,
             "ticks": ""
            },
            "colorscale": [
             [
              0,
              "#0d0887"
             ],
             [
              0.1111111111111111,
              "#46039f"
             ],
             [
              0.2222222222222222,
              "#7201a8"
             ],
             [
              0.3333333333333333,
              "#9c179e"
             ],
             [
              0.4444444444444444,
              "#bd3786"
             ],
             [
              0.5555555555555556,
              "#d8576b"
             ],
             [
              0.6666666666666666,
              "#ed7953"
             ],
             [
              0.7777777777777778,
              "#fb9f3a"
             ],
             [
              0.8888888888888888,
              "#fdca26"
             ],
             [
              1,
              "#f0f921"
             ]
            ],
            "type": "heatmapgl"
           }
          ],
          "histogram": [
           {
            "marker": {
             "colorbar": {
              "outlinewidth": 0,
              "ticks": ""
             }
            },
            "type": "histogram"
           }
          ],
          "histogram2d": [
           {
            "colorbar": {
             "outlinewidth": 0,
             "ticks": ""
            },
            "colorscale": [
             [
              0,
              "#0d0887"
             ],
             [
              0.1111111111111111,
              "#46039f"
             ],
             [
              0.2222222222222222,
              "#7201a8"
             ],
             [
              0.3333333333333333,
              "#9c179e"
             ],
             [
              0.4444444444444444,
              "#bd3786"
             ],
             [
              0.5555555555555556,
              "#d8576b"
             ],
             [
              0.6666666666666666,
              "#ed7953"
             ],
             [
              0.7777777777777778,
              "#fb9f3a"
             ],
             [
              0.8888888888888888,
              "#fdca26"
             ],
             [
              1,
              "#f0f921"
             ]
            ],
            "type": "histogram2d"
           }
          ],
          "histogram2dcontour": [
           {
            "colorbar": {
             "outlinewidth": 0,
             "ticks": ""
            },
            "colorscale": [
             [
              0,
              "#0d0887"
             ],
             [
              0.1111111111111111,
              "#46039f"
             ],
             [
              0.2222222222222222,
              "#7201a8"
             ],
             [
              0.3333333333333333,
              "#9c179e"
             ],
             [
              0.4444444444444444,
              "#bd3786"
             ],
             [
              0.5555555555555556,
              "#d8576b"
             ],
             [
              0.6666666666666666,
              "#ed7953"
             ],
             [
              0.7777777777777778,
              "#fb9f3a"
             ],
             [
              0.8888888888888888,
              "#fdca26"
             ],
             [
              1,
              "#f0f921"
             ]
            ],
            "type": "histogram2dcontour"
           }
          ],
          "mesh3d": [
           {
            "colorbar": {
             "outlinewidth": 0,
             "ticks": ""
            },
            "type": "mesh3d"
           }
          ],
          "parcoords": [
           {
            "line": {
             "colorbar": {
              "outlinewidth": 0,
              "ticks": ""
             }
            },
            "type": "parcoords"
           }
          ],
          "pie": [
           {
            "automargin": true,
            "type": "pie"
           }
          ],
          "scatter": [
           {
            "marker": {
             "colorbar": {
              "outlinewidth": 0,
              "ticks": ""
             }
            },
            "type": "scatter"
           }
          ],
          "scatter3d": [
           {
            "line": {
             "colorbar": {
              "outlinewidth": 0,
              "ticks": ""
             }
            },
            "marker": {
             "colorbar": {
              "outlinewidth": 0,
              "ticks": ""
             }
            },
            "type": "scatter3d"
           }
          ],
          "scattercarpet": [
           {
            "marker": {
             "colorbar": {
              "outlinewidth": 0,
              "ticks": ""
             }
            },
            "type": "scattercarpet"
           }
          ],
          "scattergeo": [
           {
            "marker": {
             "colorbar": {
              "outlinewidth": 0,
              "ticks": ""
             }
            },
            "type": "scattergeo"
           }
          ],
          "scattergl": [
           {
            "marker": {
             "colorbar": {
              "outlinewidth": 0,
              "ticks": ""
             }
            },
            "type": "scattergl"
           }
          ],
          "scattermapbox": [
           {
            "marker": {
             "colorbar": {
              "outlinewidth": 0,
              "ticks": ""
             }
            },
            "type": "scattermapbox"
           }
          ],
          "scatterpolar": [
           {
            "marker": {
             "colorbar": {
              "outlinewidth": 0,
              "ticks": ""
             }
            },
            "type": "scatterpolar"
           }
          ],
          "scatterpolargl": [
           {
            "marker": {
             "colorbar": {
              "outlinewidth": 0,
              "ticks": ""
             }
            },
            "type": "scatterpolargl"
           }
          ],
          "scatterternary": [
           {
            "marker": {
             "colorbar": {
              "outlinewidth": 0,
              "ticks": ""
             }
            },
            "type": "scatterternary"
           }
          ],
          "surface": [
           {
            "colorbar": {
             "outlinewidth": 0,
             "ticks": ""
            },
            "colorscale": [
             [
              0,
              "#0d0887"
             ],
             [
              0.1111111111111111,
              "#46039f"
             ],
             [
              0.2222222222222222,
              "#7201a8"
             ],
             [
              0.3333333333333333,
              "#9c179e"
             ],
             [
              0.4444444444444444,
              "#bd3786"
             ],
             [
              0.5555555555555556,
              "#d8576b"
             ],
             [
              0.6666666666666666,
              "#ed7953"
             ],
             [
              0.7777777777777778,
              "#fb9f3a"
             ],
             [
              0.8888888888888888,
              "#fdca26"
             ],
             [
              1,
              "#f0f921"
             ]
            ],
            "type": "surface"
           }
          ],
          "table": [
           {
            "cells": {
             "fill": {
              "color": "#EBF0F8"
             },
             "line": {
              "color": "white"
             }
            },
            "header": {
             "fill": {
              "color": "#C8D4E3"
             },
             "line": {
              "color": "white"
             }
            },
            "type": "table"
           }
          ]
         },
         "layout": {
          "annotationdefaults": {
           "arrowcolor": "#2a3f5f",
           "arrowhead": 0,
           "arrowwidth": 1
          },
          "coloraxis": {
           "colorbar": {
            "outlinewidth": 0,
            "ticks": ""
           }
          },
          "colorscale": {
           "diverging": [
            [
             0,
             "#8e0152"
            ],
            [
             0.1,
             "#c51b7d"
            ],
            [
             0.2,
             "#de77ae"
            ],
            [
             0.3,
             "#f1b6da"
            ],
            [
             0.4,
             "#fde0ef"
            ],
            [
             0.5,
             "#f7f7f7"
            ],
            [
             0.6,
             "#e6f5d0"
            ],
            [
             0.7,
             "#b8e186"
            ],
            [
             0.8,
             "#7fbc41"
            ],
            [
             0.9,
             "#4d9221"
            ],
            [
             1,
             "#276419"
            ]
           ],
           "sequential": [
            [
             0,
             "#0d0887"
            ],
            [
             0.1111111111111111,
             "#46039f"
            ],
            [
             0.2222222222222222,
             "#7201a8"
            ],
            [
             0.3333333333333333,
             "#9c179e"
            ],
            [
             0.4444444444444444,
             "#bd3786"
            ],
            [
             0.5555555555555556,
             "#d8576b"
            ],
            [
             0.6666666666666666,
             "#ed7953"
            ],
            [
             0.7777777777777778,
             "#fb9f3a"
            ],
            [
             0.8888888888888888,
             "#fdca26"
            ],
            [
             1,
             "#f0f921"
            ]
           ],
           "sequentialminus": [
            [
             0,
             "#0d0887"
            ],
            [
             0.1111111111111111,
             "#46039f"
            ],
            [
             0.2222222222222222,
             "#7201a8"
            ],
            [
             0.3333333333333333,
             "#9c179e"
            ],
            [
             0.4444444444444444,
             "#bd3786"
            ],
            [
             0.5555555555555556,
             "#d8576b"
            ],
            [
             0.6666666666666666,
             "#ed7953"
            ],
            [
             0.7777777777777778,
             "#fb9f3a"
            ],
            [
             0.8888888888888888,
             "#fdca26"
            ],
            [
             1,
             "#f0f921"
            ]
           ]
          },
          "colorway": [
           "#636efa",
           "#EF553B",
           "#00cc96",
           "#ab63fa",
           "#FFA15A",
           "#19d3f3",
           "#FF6692",
           "#B6E880",
           "#FF97FF",
           "#FECB52"
          ],
          "font": {
           "color": "#2a3f5f"
          },
          "geo": {
           "bgcolor": "white",
           "lakecolor": "white",
           "landcolor": "#E5ECF6",
           "showlakes": true,
           "showland": true,
           "subunitcolor": "white"
          },
          "hoverlabel": {
           "align": "left"
          },
          "hovermode": "closest",
          "mapbox": {
           "style": "light"
          },
          "paper_bgcolor": "white",
          "plot_bgcolor": "#E5ECF6",
          "polar": {
           "angularaxis": {
            "gridcolor": "white",
            "linecolor": "white",
            "ticks": ""
           },
           "bgcolor": "#E5ECF6",
           "radialaxis": {
            "gridcolor": "white",
            "linecolor": "white",
            "ticks": ""
           }
          },
          "scene": {
           "xaxis": {
            "backgroundcolor": "#E5ECF6",
            "gridcolor": "white",
            "gridwidth": 2,
            "linecolor": "white",
            "showbackground": true,
            "ticks": "",
            "zerolinecolor": "white"
           },
           "yaxis": {
            "backgroundcolor": "#E5ECF6",
            "gridcolor": "white",
            "gridwidth": 2,
            "linecolor": "white",
            "showbackground": true,
            "ticks": "",
            "zerolinecolor": "white"
           },
           "zaxis": {
            "backgroundcolor": "#E5ECF6",
            "gridcolor": "white",
            "gridwidth": 2,
            "linecolor": "white",
            "showbackground": true,
            "ticks": "",
            "zerolinecolor": "white"
           }
          },
          "shapedefaults": {
           "line": {
            "color": "#2a3f5f"
           }
          },
          "ternary": {
           "aaxis": {
            "gridcolor": "white",
            "linecolor": "white",
            "ticks": ""
           },
           "baxis": {
            "gridcolor": "white",
            "linecolor": "white",
            "ticks": ""
           },
           "bgcolor": "#E5ECF6",
           "caxis": {
            "gridcolor": "white",
            "linecolor": "white",
            "ticks": ""
           }
          },
          "title": {
           "x": 0.05
          },
          "xaxis": {
           "automargin": true,
           "gridcolor": "white",
           "linecolor": "white",
           "ticks": "",
           "title": {
            "standoff": 15
           },
           "zerolinecolor": "white",
           "zerolinewidth": 2
          },
          "yaxis": {
           "automargin": true,
           "gridcolor": "white",
           "linecolor": "white",
           "ticks": "",
           "title": {
            "standoff": 15
           },
           "zerolinecolor": "white",
           "zerolinewidth": 2
          }
         }
        },
        "title": {
         "font": {
          "color": "#D9D9D9"
         }
        }
       }
      },
      "text/html": [
       "<div>\n",
       "        \n",
       "        \n",
       "            <div id=\"68465716-afb0-4392-80c0-5293efb7eb5a\" class=\"plotly-graph-div\" style=\"height:525px; width:100%;\"></div>\n",
       "            <script type=\"text/javascript\">\n",
       "                require([\"plotly\"], function(Plotly) {\n",
       "                    window.PLOTLYENV=window.PLOTLYENV || {};\n",
       "                    window.PLOTLYENV.BASE_URL='https://plot.ly';\n",
       "                    \n",
       "                if (document.getElementById(\"68465716-afb0-4392-80c0-5293efb7eb5a\")) {\n",
       "                    Plotly.newPlot(\n",
       "                        '68465716-afb0-4392-80c0-5293efb7eb5a',\n",
       "                        [{\"marker\": {\"color\": [\"rgba(255, 153, 51, 1.0)\", \"rgba(55, 128, 191, 1.0)\", \"rgba(50, 171, 96, 1.0)\", \"rgba(128, 0, 128, 1.0)\", \"rgba(219, 64, 82, 1.0)\", \"rgba(0, 128, 128, 1.0)\", \"rgba(255, 255, 51, 1.0)\", \"rgba(128, 128, 0, 1.0)\", \"rgba(251, 128, 114, 1.0)\", \"rgba(128, 177, 211, 1.0)\", \"rgba(128, 177, 211, 0.8999999999999999)\", \"rgba(255, 153, 51, 0.8999999999999999)\", \"rgba(55, 128, 191, 0.8999999999999999)\", \"rgba(50, 171, 96, 0.8999999999999999)\", \"rgba(128, 0, 128, 0.8999999999999999)\", \"rgba(219, 64, 82, 0.8999999999999999)\", \"rgba(0, 128, 128, 0.8999999999999999)\", \"rgba(255, 255, 51, 0.8999999999999999)\", \"rgba(128, 128, 0, 0.8999999999999999)\", \"rgba(251, 128, 114, 0.8999999999999999)\"], \"opacity\": 0.8, \"size\": [12, 72, 95, 43, 112, 49, 45, 16, 14, 86, 53, 92, 51, 110, 77, 92, 72, 19, 31, 90], \"symbol\": \"circle\"}, \"mode\": \"markers\", \"text\": [\"0\", \"1\", \"2\", \"3\", \"4\", \"5\", \"6\", \"7\", \"8\", \"9\", \"10\", \"11\", \"12\", \"13\", \"14\", \"15\", \"16\", \"17\", \"18\", \"19\"], \"type\": \"scatter3d\", \"x\": [1.3055336534175837, 1.478581706089061, -0.40170180039608083, 0.669524029759927, 0.5086778013816179, 0.1438626054361441, 0.8945562339543199, 1.534335967989068, -0.1911463361231372, 0.5869301975691978, -0.1431588336643812, 0.5394123289413421, -0.12905779401233586, 1.8578889340136744, 1.8977096439628098, 0.20889407979399938, -1.0269116291444842, -0.7469571832628218, 1.1234494117683413, -0.2018798574120575], \"y\": [-0.5644805860076985, -2.455547370800925, -0.040273745159332554, -1.006887870854756, 0.6693839934982184, -0.09195794725007105, -1.1614350595875211, -1.1602092616931852, -1.1199746140217404, 0.04284222485525983, -1.3181220127020876, -0.42419400465551654, 1.576448545359151, 0.780929276422593, 0.020064219047839425, -1.4395491563658434, 0.20357271185219358, -0.05239819532503409, 1.2836961230131756, 0.5756509867133621], \"z\": [0.5428471534291984, -1.7667229035780512, 1.8393447572712918, 0.5172261294512068, 1.3812760902676915, 0.05669608679692351, 1.2863417743837051, 0.4851370173698067, -0.09593565873990537, -0.6310975210537318, -0.32682511655400776, -0.40142357898931863, -0.7489543785711962, -1.0704269975870209, -2.7122845911191824, -1.0129086984862445, -0.5679848720410229, -0.3500003708830023, 1.3522687330624439, -1.1681539849505074]}],\n",
       "                        {\"legend\": {\"bgcolor\": \"#151516\", \"font\": {\"color\": \"#D9D9D9\"}}, \"paper_bgcolor\": \"#151516\", \"plot_bgcolor\": \"#151516\", \"scene\": {\"xaxis\": {\"gridcolor\": \"#434343\", \"showgrid\": true, \"tickfont\": {\"color\": \"#C2C2C2\"}, \"title\": {\"font\": {\"color\": \"#D9D9D9\"}, \"text\": \"\"}, \"zerolinecolor\": \"#666570\"}, \"yaxis\": {\"gridcolor\": \"#434343\", \"showgrid\": true, \"tickfont\": {\"color\": \"#C2C2C2\"}, \"title\": {\"font\": {\"color\": \"#D9D9D9\"}, \"text\": \"\"}, \"zerolinecolor\": \"#666570\"}, \"zaxis\": {\"gridcolor\": \"#434343\", \"showgrid\": true, \"tickfont\": {\"color\": \"#C2C2C2\"}, \"title\": {\"font\": {\"color\": \"#D9D9D9\"}, \"text\": \"\"}, \"zerolinecolor\": \"#666570\"}}, \"template\": {\"data\": {\"bar\": [{\"error_x\": {\"color\": \"#2a3f5f\"}, \"error_y\": {\"color\": \"#2a3f5f\"}, \"marker\": {\"line\": {\"color\": \"#E5ECF6\", \"width\": 0.5}}, \"type\": \"bar\"}], \"barpolar\": [{\"marker\": {\"line\": {\"color\": \"#E5ECF6\", \"width\": 0.5}}, \"type\": \"barpolar\"}], \"carpet\": [{\"aaxis\": {\"endlinecolor\": \"#2a3f5f\", \"gridcolor\": \"white\", \"linecolor\": \"white\", \"minorgridcolor\": \"white\", \"startlinecolor\": \"#2a3f5f\"}, \"baxis\": {\"endlinecolor\": \"#2a3f5f\", \"gridcolor\": \"white\", \"linecolor\": \"white\", \"minorgridcolor\": \"white\", \"startlinecolor\": \"#2a3f5f\"}, \"type\": \"carpet\"}], \"choropleth\": [{\"colorbar\": {\"outlinewidth\": 0, \"ticks\": \"\"}, \"type\": \"choropleth\"}], \"contour\": [{\"colorbar\": {\"outlinewidth\": 0, \"ticks\": \"\"}, \"colorscale\": [[0.0, \"#0d0887\"], [0.1111111111111111, \"#46039f\"], [0.2222222222222222, \"#7201a8\"], [0.3333333333333333, \"#9c179e\"], [0.4444444444444444, \"#bd3786\"], [0.5555555555555556, \"#d8576b\"], [0.6666666666666666, \"#ed7953\"], [0.7777777777777778, \"#fb9f3a\"], [0.8888888888888888, \"#fdca26\"], [1.0, \"#f0f921\"]], \"type\": \"contour\"}], \"contourcarpet\": [{\"colorbar\": {\"outlinewidth\": 0, \"ticks\": \"\"}, \"type\": \"contourcarpet\"}], \"heatmap\": [{\"colorbar\": {\"outlinewidth\": 0, \"ticks\": \"\"}, \"colorscale\": [[0.0, \"#0d0887\"], [0.1111111111111111, \"#46039f\"], [0.2222222222222222, \"#7201a8\"], [0.3333333333333333, \"#9c179e\"], [0.4444444444444444, \"#bd3786\"], [0.5555555555555556, \"#d8576b\"], [0.6666666666666666, \"#ed7953\"], [0.7777777777777778, \"#fb9f3a\"], [0.8888888888888888, \"#fdca26\"], [1.0, \"#f0f921\"]], \"type\": \"heatmap\"}], \"heatmapgl\": [{\"colorbar\": {\"outlinewidth\": 0, \"ticks\": \"\"}, \"colorscale\": [[0.0, \"#0d0887\"], [0.1111111111111111, \"#46039f\"], [0.2222222222222222, \"#7201a8\"], [0.3333333333333333, \"#9c179e\"], [0.4444444444444444, \"#bd3786\"], [0.5555555555555556, \"#d8576b\"], [0.6666666666666666, \"#ed7953\"], [0.7777777777777778, \"#fb9f3a\"], [0.8888888888888888, \"#fdca26\"], [1.0, \"#f0f921\"]], \"type\": \"heatmapgl\"}], \"histogram\": [{\"marker\": {\"colorbar\": {\"outlinewidth\": 0, \"ticks\": \"\"}}, \"type\": \"histogram\"}], \"histogram2d\": [{\"colorbar\": {\"outlinewidth\": 0, \"ticks\": \"\"}, \"colorscale\": [[0.0, \"#0d0887\"], [0.1111111111111111, \"#46039f\"], [0.2222222222222222, \"#7201a8\"], [0.3333333333333333, \"#9c179e\"], [0.4444444444444444, \"#bd3786\"], [0.5555555555555556, \"#d8576b\"], [0.6666666666666666, \"#ed7953\"], [0.7777777777777778, \"#fb9f3a\"], [0.8888888888888888, \"#fdca26\"], [1.0, \"#f0f921\"]], \"type\": \"histogram2d\"}], \"histogram2dcontour\": [{\"colorbar\": {\"outlinewidth\": 0, \"ticks\": \"\"}, \"colorscale\": [[0.0, \"#0d0887\"], [0.1111111111111111, \"#46039f\"], [0.2222222222222222, \"#7201a8\"], [0.3333333333333333, \"#9c179e\"], [0.4444444444444444, \"#bd3786\"], [0.5555555555555556, \"#d8576b\"], [0.6666666666666666, \"#ed7953\"], [0.7777777777777778, \"#fb9f3a\"], [0.8888888888888888, \"#fdca26\"], [1.0, \"#f0f921\"]], \"type\": \"histogram2dcontour\"}], \"mesh3d\": [{\"colorbar\": {\"outlinewidth\": 0, \"ticks\": \"\"}, \"type\": \"mesh3d\"}], \"parcoords\": [{\"line\": {\"colorbar\": {\"outlinewidth\": 0, \"ticks\": \"\"}}, \"type\": \"parcoords\"}], \"pie\": [{\"automargin\": true, \"type\": \"pie\"}], \"scatter\": [{\"marker\": {\"colorbar\": {\"outlinewidth\": 0, \"ticks\": \"\"}}, \"type\": \"scatter\"}], \"scatter3d\": [{\"line\": {\"colorbar\": {\"outlinewidth\": 0, \"ticks\": \"\"}}, \"marker\": {\"colorbar\": {\"outlinewidth\": 0, \"ticks\": \"\"}}, \"type\": \"scatter3d\"}], \"scattercarpet\": [{\"marker\": {\"colorbar\": {\"outlinewidth\": 0, \"ticks\": \"\"}}, \"type\": \"scattercarpet\"}], \"scattergeo\": [{\"marker\": {\"colorbar\": {\"outlinewidth\": 0, \"ticks\": \"\"}}, \"type\": \"scattergeo\"}], \"scattergl\": [{\"marker\": {\"colorbar\": {\"outlinewidth\": 0, \"ticks\": \"\"}}, \"type\": \"scattergl\"}], \"scattermapbox\": [{\"marker\": {\"colorbar\": {\"outlinewidth\": 0, \"ticks\": \"\"}}, \"type\": \"scattermapbox\"}], \"scatterpolar\": [{\"marker\": {\"colorbar\": {\"outlinewidth\": 0, \"ticks\": \"\"}}, \"type\": \"scatterpolar\"}], \"scatterpolargl\": [{\"marker\": {\"colorbar\": {\"outlinewidth\": 0, \"ticks\": \"\"}}, \"type\": \"scatterpolargl\"}], \"scatterternary\": [{\"marker\": {\"colorbar\": {\"outlinewidth\": 0, \"ticks\": \"\"}}, \"type\": \"scatterternary\"}], \"surface\": [{\"colorbar\": {\"outlinewidth\": 0, \"ticks\": \"\"}, \"colorscale\": [[0.0, \"#0d0887\"], [0.1111111111111111, \"#46039f\"], [0.2222222222222222, \"#7201a8\"], [0.3333333333333333, \"#9c179e\"], [0.4444444444444444, \"#bd3786\"], [0.5555555555555556, \"#d8576b\"], [0.6666666666666666, \"#ed7953\"], [0.7777777777777778, \"#fb9f3a\"], [0.8888888888888888, \"#fdca26\"], [1.0, \"#f0f921\"]], \"type\": \"surface\"}], \"table\": [{\"cells\": {\"fill\": {\"color\": \"#EBF0F8\"}, \"line\": {\"color\": \"white\"}}, \"header\": {\"fill\": {\"color\": \"#C8D4E3\"}, \"line\": {\"color\": \"white\"}}, \"type\": \"table\"}]}, \"layout\": {\"annotationdefaults\": {\"arrowcolor\": \"#2a3f5f\", \"arrowhead\": 0, \"arrowwidth\": 1}, \"coloraxis\": {\"colorbar\": {\"outlinewidth\": 0, \"ticks\": \"\"}}, \"colorscale\": {\"diverging\": [[0, \"#8e0152\"], [0.1, \"#c51b7d\"], [0.2, \"#de77ae\"], [0.3, \"#f1b6da\"], [0.4, \"#fde0ef\"], [0.5, \"#f7f7f7\"], [0.6, \"#e6f5d0\"], [0.7, \"#b8e186\"], [0.8, \"#7fbc41\"], [0.9, \"#4d9221\"], [1, \"#276419\"]], \"sequential\": [[0.0, \"#0d0887\"], [0.1111111111111111, \"#46039f\"], [0.2222222222222222, \"#7201a8\"], [0.3333333333333333, \"#9c179e\"], [0.4444444444444444, \"#bd3786\"], [0.5555555555555556, \"#d8576b\"], [0.6666666666666666, \"#ed7953\"], [0.7777777777777778, \"#fb9f3a\"], [0.8888888888888888, \"#fdca26\"], [1.0, \"#f0f921\"]], \"sequentialminus\": [[0.0, \"#0d0887\"], [0.1111111111111111, \"#46039f\"], [0.2222222222222222, \"#7201a8\"], [0.3333333333333333, \"#9c179e\"], [0.4444444444444444, \"#bd3786\"], [0.5555555555555556, \"#d8576b\"], [0.6666666666666666, \"#ed7953\"], [0.7777777777777778, \"#fb9f3a\"], [0.8888888888888888, \"#fdca26\"], [1.0, \"#f0f921\"]]}, \"colorway\": [\"#636efa\", \"#EF553B\", \"#00cc96\", \"#ab63fa\", \"#FFA15A\", \"#19d3f3\", \"#FF6692\", \"#B6E880\", \"#FF97FF\", \"#FECB52\"], \"font\": {\"color\": \"#2a3f5f\"}, \"geo\": {\"bgcolor\": \"white\", \"lakecolor\": \"white\", \"landcolor\": \"#E5ECF6\", \"showlakes\": true, \"showland\": true, \"subunitcolor\": \"white\"}, \"hoverlabel\": {\"align\": \"left\"}, \"hovermode\": \"closest\", \"mapbox\": {\"style\": \"light\"}, \"paper_bgcolor\": \"white\", \"plot_bgcolor\": \"#E5ECF6\", \"polar\": {\"angularaxis\": {\"gridcolor\": \"white\", \"linecolor\": \"white\", \"ticks\": \"\"}, \"bgcolor\": \"#E5ECF6\", \"radialaxis\": {\"gridcolor\": \"white\", \"linecolor\": \"white\", \"ticks\": \"\"}}, \"scene\": {\"xaxis\": {\"backgroundcolor\": \"#E5ECF6\", \"gridcolor\": \"white\", \"gridwidth\": 2, \"linecolor\": \"white\", \"showbackground\": true, \"ticks\": \"\", \"zerolinecolor\": \"white\"}, \"yaxis\": {\"backgroundcolor\": \"#E5ECF6\", \"gridcolor\": \"white\", \"gridwidth\": 2, \"linecolor\": \"white\", \"showbackground\": true, \"ticks\": \"\", \"zerolinecolor\": \"white\"}, \"zaxis\": {\"backgroundcolor\": \"#E5ECF6\", \"gridcolor\": \"white\", \"gridwidth\": 2, \"linecolor\": \"white\", \"showbackground\": true, \"ticks\": \"\", \"zerolinecolor\": \"white\"}}, \"shapedefaults\": {\"line\": {\"color\": \"#2a3f5f\"}}, \"ternary\": {\"aaxis\": {\"gridcolor\": \"white\", \"linecolor\": \"white\", \"ticks\": \"\"}, \"baxis\": {\"gridcolor\": \"white\", \"linecolor\": \"white\", \"ticks\": \"\"}, \"bgcolor\": \"#E5ECF6\", \"caxis\": {\"gridcolor\": \"white\", \"linecolor\": \"white\", \"ticks\": \"\"}}, \"title\": {\"x\": 0.05}, \"xaxis\": {\"automargin\": true, \"gridcolor\": \"white\", \"linecolor\": \"white\", \"ticks\": \"\", \"title\": {\"standoff\": 15}, \"zerolinecolor\": \"white\", \"zerolinewidth\": 2}, \"yaxis\": {\"automargin\": true, \"gridcolor\": \"white\", \"linecolor\": \"white\", \"ticks\": \"\", \"title\": {\"standoff\": 15}, \"zerolinecolor\": \"white\", \"zerolinewidth\": 2}}}, \"title\": {\"font\": {\"color\": \"#D9D9D9\"}}},\n",
       "                        {\"showLink\": true, \"linkText\": \"Export to plot.ly\", \"plotlyServerURL\": \"https://plot.ly\", \"responsive\": true}\n",
       "                    ).then(function(){\n",
       "                            \n",
       "var gd = document.getElementById('68465716-afb0-4392-80c0-5293efb7eb5a');\n",
       "var x = new MutationObserver(function (mutations, observer) {{\n",
       "        var display = window.getComputedStyle(gd).display;\n",
       "        if (!display || display === 'none') {{\n",
       "            console.log([gd, 'removed!']);\n",
       "            Plotly.purge(gd);\n",
       "            observer.disconnect();\n",
       "        }}\n",
       "}});\n",
       "\n",
       "// Listen for the removal of the full notebook cells\n",
       "var notebookContainer = gd.closest('#notebook-container');\n",
       "if (notebookContainer) {{\n",
       "    x.observe(notebookContainer, {childList: true});\n",
       "}}\n",
       "\n",
       "// Listen for the clearing of the current output cell\n",
       "var outputEl = gd.closest('.output');\n",
       "if (outputEl) {{\n",
       "    x.observe(outputEl, {childList: true});\n",
       "}}\n",
       "\n",
       "                        })\n",
       "                };\n",
       "                });\n",
       "            </script>\n",
       "        </div>"
      ]
     },
     "metadata": {},
     "output_type": "display_data"
    }
   ],
   "source": [
    "cf.datagen.bubble3d(5,4,mode='stocks').iplot(kind='bubble3d',x='x',y='y',z='z',size='size')"
   ]
  },
  {
   "cell_type": "code",
   "execution_count": null,
   "metadata": {},
   "outputs": [],
   "source": []
  }
 ],
 "metadata": {
  "kernelspec": {
   "display_name": "Python 3",
   "language": "python",
   "name": "python3"
  },
  "language_info": {
   "codemirror_mode": {
    "name": "ipython",
    "version": 3
   },
   "file_extension": ".py",
   "mimetype": "text/x-python",
   "name": "python",
   "nbconvert_exporter": "python",
   "pygments_lexer": "ipython3",
   "version": "3.7.3"
  },
  "toc": {
   "base_numbering": 1,
   "nav_menu": {},
   "number_sections": true,
   "sideBar": true,
   "skip_h1_title": false,
   "title_cell": "Table of Contents",
   "title_sidebar": "Contents",
   "toc_cell": false,
   "toc_position": {},
   "toc_section_display": true,
   "toc_window_display": false
  },
  "varInspector": {
   "cols": {
    "lenName": 16,
    "lenType": 16,
    "lenVar": 40
   },
   "kernels_config": {
    "python": {
     "delete_cmd_postfix": "",
     "delete_cmd_prefix": "del ",
     "library": "var_list.py",
     "varRefreshCmd": "print(var_dic_list())"
    },
    "r": {
     "delete_cmd_postfix": ") ",
     "delete_cmd_prefix": "rm(",
     "library": "var_list.r",
     "varRefreshCmd": "cat(var_dic_list()) "
    }
   },
   "types_to_exclude": [
    "module",
    "function",
    "builtin_function_or_method",
    "instance",
    "_Feature"
   ],
   "window_display": false
  }
 },
 "nbformat": 4,
 "nbformat_minor": 2
}
